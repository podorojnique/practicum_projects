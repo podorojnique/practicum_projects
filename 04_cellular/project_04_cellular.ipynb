{
 "cells": [
  {
   "cell_type": "markdown",
   "metadata": {},
   "source": [
    "# Проект исследования тарифных планов сотовой связи"
   ]
  },
  {
   "cell_type": "markdown",
   "metadata": {},
   "source": [
    "Вы аналитик компании «Мегалайн» — федерального оператора сотовой связи. Клиентам предлагают два тарифных плана: «Смарт» и «Ультра». Чтобы скорректировать рекламный бюджет, коммерческий департамент хочет понять, какой тариф приносит больше денег.\n",
    "\n",
    "Вам предстоит сделать предварительный анализ тарифов на небольшой выборке клиентов. В вашем распоряжении данные 500 пользователей «Мегалайна»: кто они, откуда, каким тарифом пользуются, сколько звонков и сообщений каждый отправил за 2018 год. Нужно проанализировать поведение клиентов и сделать вывод — какой тариф лучше."
   ]
  },
  {
   "cell_type": "markdown",
   "metadata": {},
   "source": [
    "## Изучение данных из файла"
   ]
  },
  {
   "cell_type": "markdown",
   "metadata": {},
   "source": [
    "### Первичный анализ данных"
   ]
  },
  {
   "cell_type": "markdown",
   "metadata": {},
   "source": [
    "Перед началом анализа импортируем все необходимые для работы библиотеки и загрузим заданные датафреймы"
   ]
  },
  {
   "cell_type": "code",
   "execution_count": 1,
   "metadata": {},
   "outputs": [],
   "source": [
    "# импортируем библиотеки для работы с данными, графиками и математическими операторами\n",
    "import pandas as pd\n",
    "import matplotlib.pyplot as plt\n",
    "import seaborn as sns\n",
    "import numpy as np\n",
    "from functools import reduce\n",
    "import scipy.stats as st"
   ]
  },
  {
   "cell_type": "code",
   "execution_count": 2,
   "metadata": {},
   "outputs": [],
   "source": [
    "# два варианта загрузки датафреймов через связку try-except, в связи с тем, что часто работаю над проектом в среде Google Colab:\n",
    "try:\n",
    "  df_calls = pd.read_csv('/content/drive/MyDrive/Colab Notebooks/calls.csv')\n",
    "  df_internet = pd.read_csv('/content/drive/MyDrive/Colab Notebooks/internet.csv')\n",
    "  df_messages = pd.read_csv('/content/drive/MyDrive/Colab Notebooks/messages.csv')\n",
    "  df_tariffs = pd.read_csv('/content/drive/MyDrive/Colab Notebooks/tariffs.csv')\n",
    "  df_users = pd.read_csv('/content/drive/MyDrive/Colab Notebooks/users.csv')\n",
    "except:\n",
    "  df_calls = pd.read_csv('/datasets/calls.csv')\n",
    "  df_internet = pd.read_csv('/datasets/internet.csv')\n",
    "  df_messages = pd.read_csv('/datasets/messages.csv')\n",
    "  df_tariffs = pd.read_csv('/datasets/tariffs.csv')\n",
    "  df_users = pd.read_csv('/datasets/users.csv')"
   ]
  },
  {
   "cell_type": "markdown",
   "metadata": {},
   "source": [
    "Выведем общую информацию, количество пропусков, описание, первые строчки и описание всех представленных таблиц, а также возможное количество дубликатов."
   ]
  },
  {
   "cell_type": "markdown",
   "metadata": {},
   "source": [
    "#### Таблица `calls`"
   ]
  },
  {
   "cell_type": "code",
   "execution_count": 3,
   "metadata": {
    "scrolled": false
   },
   "outputs": [
    {
     "name": "stdout",
     "output_type": "stream",
     "text": [
      "<class 'pandas.core.frame.DataFrame'>\n",
      "RangeIndex: 202607 entries, 0 to 202606\n",
      "Data columns (total 4 columns):\n",
      " #   Column     Non-Null Count   Dtype  \n",
      "---  ------     --------------   -----  \n",
      " 0   id         202607 non-null  object \n",
      " 1   call_date  202607 non-null  object \n",
      " 2   duration   202607 non-null  float64\n",
      " 3   user_id    202607 non-null  int64  \n",
      "dtypes: float64(1), int64(1), object(2)\n",
      "memory usage: 6.2+ MB\n"
     ]
    },
    {
     "data": {
      "text/html": [
       "<div>\n",
       "<style scoped>\n",
       "    .dataframe tbody tr th:only-of-type {\n",
       "        vertical-align: middle;\n",
       "    }\n",
       "\n",
       "    .dataframe tbody tr th {\n",
       "        vertical-align: top;\n",
       "    }\n",
       "\n",
       "    .dataframe thead th {\n",
       "        text-align: right;\n",
       "    }\n",
       "</style>\n",
       "<table border=\"1\" class=\"dataframe\">\n",
       "  <thead>\n",
       "    <tr style=\"text-align: right;\">\n",
       "      <th></th>\n",
       "      <th>id</th>\n",
       "      <th>call_date</th>\n",
       "      <th>duration</th>\n",
       "      <th>user_id</th>\n",
       "    </tr>\n",
       "  </thead>\n",
       "  <tbody>\n",
       "    <tr>\n",
       "      <th>0</th>\n",
       "      <td>1000_0</td>\n",
       "      <td>2018-07-25</td>\n",
       "      <td>0.00</td>\n",
       "      <td>1000</td>\n",
       "    </tr>\n",
       "    <tr>\n",
       "      <th>1</th>\n",
       "      <td>1000_1</td>\n",
       "      <td>2018-08-17</td>\n",
       "      <td>0.00</td>\n",
       "      <td>1000</td>\n",
       "    </tr>\n",
       "    <tr>\n",
       "      <th>2</th>\n",
       "      <td>1000_2</td>\n",
       "      <td>2018-06-11</td>\n",
       "      <td>2.85</td>\n",
       "      <td>1000</td>\n",
       "    </tr>\n",
       "    <tr>\n",
       "      <th>3</th>\n",
       "      <td>1000_3</td>\n",
       "      <td>2018-09-21</td>\n",
       "      <td>13.80</td>\n",
       "      <td>1000</td>\n",
       "    </tr>\n",
       "    <tr>\n",
       "      <th>4</th>\n",
       "      <td>1000_4</td>\n",
       "      <td>2018-12-15</td>\n",
       "      <td>5.18</td>\n",
       "      <td>1000</td>\n",
       "    </tr>\n",
       "  </tbody>\n",
       "</table>\n",
       "</div>"
      ],
      "text/plain": [
       "       id   call_date  duration  user_id\n",
       "0  1000_0  2018-07-25      0.00     1000\n",
       "1  1000_1  2018-08-17      0.00     1000\n",
       "2  1000_2  2018-06-11      2.85     1000\n",
       "3  1000_3  2018-09-21     13.80     1000\n",
       "4  1000_4  2018-12-15      5.18     1000"
      ]
     },
     "metadata": {},
     "output_type": "display_data"
    },
    {
     "data": {
      "text/html": [
       "<div>\n",
       "<style scoped>\n",
       "    .dataframe tbody tr th:only-of-type {\n",
       "        vertical-align: middle;\n",
       "    }\n",
       "\n",
       "    .dataframe tbody tr th {\n",
       "        vertical-align: top;\n",
       "    }\n",
       "\n",
       "    .dataframe thead th {\n",
       "        text-align: right;\n",
       "    }\n",
       "</style>\n",
       "<table border=\"1\" class=\"dataframe\">\n",
       "  <thead>\n",
       "    <tr style=\"text-align: right;\">\n",
       "      <th></th>\n",
       "      <th>duration</th>\n",
       "      <th>user_id</th>\n",
       "    </tr>\n",
       "  </thead>\n",
       "  <tbody>\n",
       "    <tr>\n",
       "      <th>count</th>\n",
       "      <td>202607.000000</td>\n",
       "      <td>202607.000000</td>\n",
       "    </tr>\n",
       "    <tr>\n",
       "      <th>mean</th>\n",
       "      <td>6.755887</td>\n",
       "      <td>1253.940619</td>\n",
       "    </tr>\n",
       "    <tr>\n",
       "      <th>std</th>\n",
       "      <td>5.843365</td>\n",
       "      <td>144.722751</td>\n",
       "    </tr>\n",
       "    <tr>\n",
       "      <th>min</th>\n",
       "      <td>0.000000</td>\n",
       "      <td>1000.000000</td>\n",
       "    </tr>\n",
       "    <tr>\n",
       "      <th>25%</th>\n",
       "      <td>1.300000</td>\n",
       "      <td>1126.000000</td>\n",
       "    </tr>\n",
       "    <tr>\n",
       "      <th>50%</th>\n",
       "      <td>6.000000</td>\n",
       "      <td>1260.000000</td>\n",
       "    </tr>\n",
       "    <tr>\n",
       "      <th>75%</th>\n",
       "      <td>10.700000</td>\n",
       "      <td>1379.000000</td>\n",
       "    </tr>\n",
       "    <tr>\n",
       "      <th>max</th>\n",
       "      <td>38.000000</td>\n",
       "      <td>1499.000000</td>\n",
       "    </tr>\n",
       "  </tbody>\n",
       "</table>\n",
       "</div>"
      ],
      "text/plain": [
       "            duration        user_id\n",
       "count  202607.000000  202607.000000\n",
       "mean        6.755887    1253.940619\n",
       "std         5.843365     144.722751\n",
       "min         0.000000    1000.000000\n",
       "25%         1.300000    1126.000000\n",
       "50%         6.000000    1260.000000\n",
       "75%        10.700000    1379.000000\n",
       "max        38.000000    1499.000000"
      ]
     },
     "metadata": {},
     "output_type": "display_data"
    },
    {
     "name": "stdout",
     "output_type": "stream",
     "text": [
      "Доля пропусков в таблице 0.0, количество дубликатов 0\n"
     ]
    }
   ],
   "source": [
    "# информация по таблице\n",
    "df_calls.info()\n",
    "\n",
    "# первые 5 строк таблицы\n",
    "display(df_calls.head())\n",
    "\n",
    "# описаные таблицы\n",
    "display(df_calls.describe())\n",
    "\n",
    "# доля пропусков и дубликатов в таблице\n",
    "print(f'Доля пропусков в таблице {df_calls.isna().mean().sum()}, количество дубликатов {df_calls.duplicated().sum()}')"
   ]
  },
  {
   "cell_type": "markdown",
   "metadata": {},
   "source": [
    "#### Таблица `internet`"
   ]
  },
  {
   "cell_type": "code",
   "execution_count": 4,
   "metadata": {},
   "outputs": [
    {
     "name": "stdout",
     "output_type": "stream",
     "text": [
      "<class 'pandas.core.frame.DataFrame'>\n",
      "RangeIndex: 149396 entries, 0 to 149395\n",
      "Data columns (total 5 columns):\n",
      " #   Column        Non-Null Count   Dtype  \n",
      "---  ------        --------------   -----  \n",
      " 0   Unnamed: 0    149396 non-null  int64  \n",
      " 1   id            149396 non-null  object \n",
      " 2   mb_used       149396 non-null  float64\n",
      " 3   session_date  149396 non-null  object \n",
      " 4   user_id       149396 non-null  int64  \n",
      "dtypes: float64(1), int64(2), object(2)\n",
      "memory usage: 5.7+ MB\n"
     ]
    },
    {
     "data": {
      "text/html": [
       "<div>\n",
       "<style scoped>\n",
       "    .dataframe tbody tr th:only-of-type {\n",
       "        vertical-align: middle;\n",
       "    }\n",
       "\n",
       "    .dataframe tbody tr th {\n",
       "        vertical-align: top;\n",
       "    }\n",
       "\n",
       "    .dataframe thead th {\n",
       "        text-align: right;\n",
       "    }\n",
       "</style>\n",
       "<table border=\"1\" class=\"dataframe\">\n",
       "  <thead>\n",
       "    <tr style=\"text-align: right;\">\n",
       "      <th></th>\n",
       "      <th>Unnamed: 0</th>\n",
       "      <th>id</th>\n",
       "      <th>mb_used</th>\n",
       "      <th>session_date</th>\n",
       "      <th>user_id</th>\n",
       "    </tr>\n",
       "  </thead>\n",
       "  <tbody>\n",
       "    <tr>\n",
       "      <th>0</th>\n",
       "      <td>0</td>\n",
       "      <td>1000_0</td>\n",
       "      <td>112.95</td>\n",
       "      <td>2018-11-25</td>\n",
       "      <td>1000</td>\n",
       "    </tr>\n",
       "    <tr>\n",
       "      <th>1</th>\n",
       "      <td>1</td>\n",
       "      <td>1000_1</td>\n",
       "      <td>1052.81</td>\n",
       "      <td>2018-09-07</td>\n",
       "      <td>1000</td>\n",
       "    </tr>\n",
       "    <tr>\n",
       "      <th>2</th>\n",
       "      <td>2</td>\n",
       "      <td>1000_2</td>\n",
       "      <td>1197.26</td>\n",
       "      <td>2018-06-25</td>\n",
       "      <td>1000</td>\n",
       "    </tr>\n",
       "    <tr>\n",
       "      <th>3</th>\n",
       "      <td>3</td>\n",
       "      <td>1000_3</td>\n",
       "      <td>550.27</td>\n",
       "      <td>2018-08-22</td>\n",
       "      <td>1000</td>\n",
       "    </tr>\n",
       "    <tr>\n",
       "      <th>4</th>\n",
       "      <td>4</td>\n",
       "      <td>1000_4</td>\n",
       "      <td>302.56</td>\n",
       "      <td>2018-09-24</td>\n",
       "      <td>1000</td>\n",
       "    </tr>\n",
       "  </tbody>\n",
       "</table>\n",
       "</div>"
      ],
      "text/plain": [
       "   Unnamed: 0      id  mb_used session_date  user_id\n",
       "0           0  1000_0   112.95   2018-11-25     1000\n",
       "1           1  1000_1  1052.81   2018-09-07     1000\n",
       "2           2  1000_2  1197.26   2018-06-25     1000\n",
       "3           3  1000_3   550.27   2018-08-22     1000\n",
       "4           4  1000_4   302.56   2018-09-24     1000"
      ]
     },
     "metadata": {},
     "output_type": "display_data"
    },
    {
     "data": {
      "text/html": [
       "<div>\n",
       "<style scoped>\n",
       "    .dataframe tbody tr th:only-of-type {\n",
       "        vertical-align: middle;\n",
       "    }\n",
       "\n",
       "    .dataframe tbody tr th {\n",
       "        vertical-align: top;\n",
       "    }\n",
       "\n",
       "    .dataframe thead th {\n",
       "        text-align: right;\n",
       "    }\n",
       "</style>\n",
       "<table border=\"1\" class=\"dataframe\">\n",
       "  <thead>\n",
       "    <tr style=\"text-align: right;\">\n",
       "      <th></th>\n",
       "      <th>Unnamed: 0</th>\n",
       "      <th>mb_used</th>\n",
       "      <th>user_id</th>\n",
       "    </tr>\n",
       "  </thead>\n",
       "  <tbody>\n",
       "    <tr>\n",
       "      <th>count</th>\n",
       "      <td>149396.000000</td>\n",
       "      <td>149396.000000</td>\n",
       "      <td>149396.000000</td>\n",
       "    </tr>\n",
       "    <tr>\n",
       "      <th>mean</th>\n",
       "      <td>74697.500000</td>\n",
       "      <td>370.192426</td>\n",
       "      <td>1252.099842</td>\n",
       "    </tr>\n",
       "    <tr>\n",
       "      <th>std</th>\n",
       "      <td>43127.054745</td>\n",
       "      <td>278.300951</td>\n",
       "      <td>144.050823</td>\n",
       "    </tr>\n",
       "    <tr>\n",
       "      <th>min</th>\n",
       "      <td>0.000000</td>\n",
       "      <td>0.000000</td>\n",
       "      <td>1000.000000</td>\n",
       "    </tr>\n",
       "    <tr>\n",
       "      <th>25%</th>\n",
       "      <td>37348.750000</td>\n",
       "      <td>138.187500</td>\n",
       "      <td>1130.000000</td>\n",
       "    </tr>\n",
       "    <tr>\n",
       "      <th>50%</th>\n",
       "      <td>74697.500000</td>\n",
       "      <td>348.015000</td>\n",
       "      <td>1251.000000</td>\n",
       "    </tr>\n",
       "    <tr>\n",
       "      <th>75%</th>\n",
       "      <td>112046.250000</td>\n",
       "      <td>559.552500</td>\n",
       "      <td>1380.000000</td>\n",
       "    </tr>\n",
       "    <tr>\n",
       "      <th>max</th>\n",
       "      <td>149395.000000</td>\n",
       "      <td>1724.830000</td>\n",
       "      <td>1499.000000</td>\n",
       "    </tr>\n",
       "  </tbody>\n",
       "</table>\n",
       "</div>"
      ],
      "text/plain": [
       "          Unnamed: 0        mb_used        user_id\n",
       "count  149396.000000  149396.000000  149396.000000\n",
       "mean    74697.500000     370.192426    1252.099842\n",
       "std     43127.054745     278.300951     144.050823\n",
       "min         0.000000       0.000000    1000.000000\n",
       "25%     37348.750000     138.187500    1130.000000\n",
       "50%     74697.500000     348.015000    1251.000000\n",
       "75%    112046.250000     559.552500    1380.000000\n",
       "max    149395.000000    1724.830000    1499.000000"
      ]
     },
     "metadata": {},
     "output_type": "display_data"
    },
    {
     "name": "stdout",
     "output_type": "stream",
     "text": [
      "Доля пропусков в таблице 0.0, количество дубликатов 0\n"
     ]
    }
   ],
   "source": [
    "# информация по таблице\n",
    "df_internet.info()\n",
    "\n",
    "# первые 5 строк таблицы\n",
    "display(df_internet.head())\n",
    "\n",
    "# описаные таблицы\n",
    "display(df_internet.describe())\n",
    "\n",
    "# доля пропусков и дубликатов в таблице\n",
    "print(f'Доля пропусков в таблице {df_internet.isna().mean().sum()}, количество дубликатов {df_internet.duplicated().sum()}')"
   ]
  },
  {
   "cell_type": "markdown",
   "metadata": {},
   "source": [
    "#### Таблица `messages`"
   ]
  },
  {
   "cell_type": "code",
   "execution_count": 5,
   "metadata": {},
   "outputs": [
    {
     "name": "stdout",
     "output_type": "stream",
     "text": [
      "<class 'pandas.core.frame.DataFrame'>\n",
      "RangeIndex: 123036 entries, 0 to 123035\n",
      "Data columns (total 3 columns):\n",
      " #   Column        Non-Null Count   Dtype \n",
      "---  ------        --------------   ----- \n",
      " 0   id            123036 non-null  object\n",
      " 1   message_date  123036 non-null  object\n",
      " 2   user_id       123036 non-null  int64 \n",
      "dtypes: int64(1), object(2)\n",
      "memory usage: 2.8+ MB\n"
     ]
    },
    {
     "data": {
      "text/html": [
       "<div>\n",
       "<style scoped>\n",
       "    .dataframe tbody tr th:only-of-type {\n",
       "        vertical-align: middle;\n",
       "    }\n",
       "\n",
       "    .dataframe tbody tr th {\n",
       "        vertical-align: top;\n",
       "    }\n",
       "\n",
       "    .dataframe thead th {\n",
       "        text-align: right;\n",
       "    }\n",
       "</style>\n",
       "<table border=\"1\" class=\"dataframe\">\n",
       "  <thead>\n",
       "    <tr style=\"text-align: right;\">\n",
       "      <th></th>\n",
       "      <th>id</th>\n",
       "      <th>message_date</th>\n",
       "      <th>user_id</th>\n",
       "    </tr>\n",
       "  </thead>\n",
       "  <tbody>\n",
       "    <tr>\n",
       "      <th>0</th>\n",
       "      <td>1000_0</td>\n",
       "      <td>2018-06-27</td>\n",
       "      <td>1000</td>\n",
       "    </tr>\n",
       "    <tr>\n",
       "      <th>1</th>\n",
       "      <td>1000_1</td>\n",
       "      <td>2018-10-08</td>\n",
       "      <td>1000</td>\n",
       "    </tr>\n",
       "    <tr>\n",
       "      <th>2</th>\n",
       "      <td>1000_2</td>\n",
       "      <td>2018-08-04</td>\n",
       "      <td>1000</td>\n",
       "    </tr>\n",
       "    <tr>\n",
       "      <th>3</th>\n",
       "      <td>1000_3</td>\n",
       "      <td>2018-06-16</td>\n",
       "      <td>1000</td>\n",
       "    </tr>\n",
       "    <tr>\n",
       "      <th>4</th>\n",
       "      <td>1000_4</td>\n",
       "      <td>2018-12-05</td>\n",
       "      <td>1000</td>\n",
       "    </tr>\n",
       "  </tbody>\n",
       "</table>\n",
       "</div>"
      ],
      "text/plain": [
       "       id message_date  user_id\n",
       "0  1000_0   2018-06-27     1000\n",
       "1  1000_1   2018-10-08     1000\n",
       "2  1000_2   2018-08-04     1000\n",
       "3  1000_3   2018-06-16     1000\n",
       "4  1000_4   2018-12-05     1000"
      ]
     },
     "metadata": {},
     "output_type": "display_data"
    },
    {
     "data": {
      "text/html": [
       "<div>\n",
       "<style scoped>\n",
       "    .dataframe tbody tr th:only-of-type {\n",
       "        vertical-align: middle;\n",
       "    }\n",
       "\n",
       "    .dataframe tbody tr th {\n",
       "        vertical-align: top;\n",
       "    }\n",
       "\n",
       "    .dataframe thead th {\n",
       "        text-align: right;\n",
       "    }\n",
       "</style>\n",
       "<table border=\"1\" class=\"dataframe\">\n",
       "  <thead>\n",
       "    <tr style=\"text-align: right;\">\n",
       "      <th></th>\n",
       "      <th>user_id</th>\n",
       "    </tr>\n",
       "  </thead>\n",
       "  <tbody>\n",
       "    <tr>\n",
       "      <th>count</th>\n",
       "      <td>123036.000000</td>\n",
       "    </tr>\n",
       "    <tr>\n",
       "      <th>mean</th>\n",
       "      <td>1256.989410</td>\n",
       "    </tr>\n",
       "    <tr>\n",
       "      <th>std</th>\n",
       "      <td>143.523967</td>\n",
       "    </tr>\n",
       "    <tr>\n",
       "      <th>min</th>\n",
       "      <td>1000.000000</td>\n",
       "    </tr>\n",
       "    <tr>\n",
       "      <th>25%</th>\n",
       "      <td>1134.000000</td>\n",
       "    </tr>\n",
       "    <tr>\n",
       "      <th>50%</th>\n",
       "      <td>1271.000000</td>\n",
       "    </tr>\n",
       "    <tr>\n",
       "      <th>75%</th>\n",
       "      <td>1381.000000</td>\n",
       "    </tr>\n",
       "    <tr>\n",
       "      <th>max</th>\n",
       "      <td>1499.000000</td>\n",
       "    </tr>\n",
       "  </tbody>\n",
       "</table>\n",
       "</div>"
      ],
      "text/plain": [
       "             user_id\n",
       "count  123036.000000\n",
       "mean     1256.989410\n",
       "std       143.523967\n",
       "min      1000.000000\n",
       "25%      1134.000000\n",
       "50%      1271.000000\n",
       "75%      1381.000000\n",
       "max      1499.000000"
      ]
     },
     "metadata": {},
     "output_type": "display_data"
    },
    {
     "name": "stdout",
     "output_type": "stream",
     "text": [
      "Доля пропусков в таблице 0.0, количество дубликатов 0\n"
     ]
    }
   ],
   "source": [
    "# информация по таблице\n",
    "df_messages.info()\n",
    "\n",
    "# первые 5 строк таблицы\n",
    "display(df_messages.head())\n",
    "\n",
    "# описаные таблицы\n",
    "display(df_messages.describe())\n",
    "\n",
    "# доля пропусков и дубликатов в таблице\n",
    "print(f'Доля пропусков в таблице {df_messages.isna().mean().sum()}, количество дубликатов {df_messages.duplicated().sum()}')"
   ]
  },
  {
   "cell_type": "markdown",
   "metadata": {},
   "source": [
    "#### Таблица `tariffs`"
   ]
  },
  {
   "cell_type": "code",
   "execution_count": 6,
   "metadata": {},
   "outputs": [
    {
     "name": "stdout",
     "output_type": "stream",
     "text": [
      "<class 'pandas.core.frame.DataFrame'>\n",
      "RangeIndex: 2 entries, 0 to 1\n",
      "Data columns (total 8 columns):\n",
      " #   Column                 Non-Null Count  Dtype \n",
      "---  ------                 --------------  ----- \n",
      " 0   messages_included      2 non-null      int64 \n",
      " 1   mb_per_month_included  2 non-null      int64 \n",
      " 2   minutes_included       2 non-null      int64 \n",
      " 3   rub_monthly_fee        2 non-null      int64 \n",
      " 4   rub_per_gb             2 non-null      int64 \n",
      " 5   rub_per_message        2 non-null      int64 \n",
      " 6   rub_per_minute         2 non-null      int64 \n",
      " 7   tariff_name            2 non-null      object\n",
      "dtypes: int64(7), object(1)\n",
      "memory usage: 256.0+ bytes\n"
     ]
    },
    {
     "data": {
      "text/html": [
       "<div>\n",
       "<style scoped>\n",
       "    .dataframe tbody tr th:only-of-type {\n",
       "        vertical-align: middle;\n",
       "    }\n",
       "\n",
       "    .dataframe tbody tr th {\n",
       "        vertical-align: top;\n",
       "    }\n",
       "\n",
       "    .dataframe thead th {\n",
       "        text-align: right;\n",
       "    }\n",
       "</style>\n",
       "<table border=\"1\" class=\"dataframe\">\n",
       "  <thead>\n",
       "    <tr style=\"text-align: right;\">\n",
       "      <th></th>\n",
       "      <th>messages_included</th>\n",
       "      <th>mb_per_month_included</th>\n",
       "      <th>minutes_included</th>\n",
       "      <th>rub_monthly_fee</th>\n",
       "      <th>rub_per_gb</th>\n",
       "      <th>rub_per_message</th>\n",
       "      <th>rub_per_minute</th>\n",
       "      <th>tariff_name</th>\n",
       "    </tr>\n",
       "  </thead>\n",
       "  <tbody>\n",
       "    <tr>\n",
       "      <th>0</th>\n",
       "      <td>50</td>\n",
       "      <td>15360</td>\n",
       "      <td>500</td>\n",
       "      <td>550</td>\n",
       "      <td>200</td>\n",
       "      <td>3</td>\n",
       "      <td>3</td>\n",
       "      <td>smart</td>\n",
       "    </tr>\n",
       "    <tr>\n",
       "      <th>1</th>\n",
       "      <td>1000</td>\n",
       "      <td>30720</td>\n",
       "      <td>3000</td>\n",
       "      <td>1950</td>\n",
       "      <td>150</td>\n",
       "      <td>1</td>\n",
       "      <td>1</td>\n",
       "      <td>ultra</td>\n",
       "    </tr>\n",
       "  </tbody>\n",
       "</table>\n",
       "</div>"
      ],
      "text/plain": [
       "   messages_included  mb_per_month_included  minutes_included  \\\n",
       "0                 50                  15360               500   \n",
       "1               1000                  30720              3000   \n",
       "\n",
       "   rub_monthly_fee  rub_per_gb  rub_per_message  rub_per_minute tariff_name  \n",
       "0              550         200                3               3       smart  \n",
       "1             1950         150                1               1       ultra  "
      ]
     },
     "metadata": {},
     "output_type": "display_data"
    },
    {
     "data": {
      "text/html": [
       "<div>\n",
       "<style scoped>\n",
       "    .dataframe tbody tr th:only-of-type {\n",
       "        vertical-align: middle;\n",
       "    }\n",
       "\n",
       "    .dataframe tbody tr th {\n",
       "        vertical-align: top;\n",
       "    }\n",
       "\n",
       "    .dataframe thead th {\n",
       "        text-align: right;\n",
       "    }\n",
       "</style>\n",
       "<table border=\"1\" class=\"dataframe\">\n",
       "  <thead>\n",
       "    <tr style=\"text-align: right;\">\n",
       "      <th></th>\n",
       "      <th>messages_included</th>\n",
       "      <th>mb_per_month_included</th>\n",
       "      <th>minutes_included</th>\n",
       "      <th>rub_monthly_fee</th>\n",
       "      <th>rub_per_gb</th>\n",
       "      <th>rub_per_message</th>\n",
       "      <th>rub_per_minute</th>\n",
       "    </tr>\n",
       "  </thead>\n",
       "  <tbody>\n",
       "    <tr>\n",
       "      <th>count</th>\n",
       "      <td>2.000000</td>\n",
       "      <td>2.000000</td>\n",
       "      <td>2.000000</td>\n",
       "      <td>2.000000</td>\n",
       "      <td>2.000000</td>\n",
       "      <td>2.000000</td>\n",
       "      <td>2.000000</td>\n",
       "    </tr>\n",
       "    <tr>\n",
       "      <th>mean</th>\n",
       "      <td>525.000000</td>\n",
       "      <td>23040.000000</td>\n",
       "      <td>1750.000000</td>\n",
       "      <td>1250.000000</td>\n",
       "      <td>175.000000</td>\n",
       "      <td>2.000000</td>\n",
       "      <td>2.000000</td>\n",
       "    </tr>\n",
       "    <tr>\n",
       "      <th>std</th>\n",
       "      <td>671.751442</td>\n",
       "      <td>10861.160159</td>\n",
       "      <td>1767.766953</td>\n",
       "      <td>989.949494</td>\n",
       "      <td>35.355339</td>\n",
       "      <td>1.414214</td>\n",
       "      <td>1.414214</td>\n",
       "    </tr>\n",
       "    <tr>\n",
       "      <th>min</th>\n",
       "      <td>50.000000</td>\n",
       "      <td>15360.000000</td>\n",
       "      <td>500.000000</td>\n",
       "      <td>550.000000</td>\n",
       "      <td>150.000000</td>\n",
       "      <td>1.000000</td>\n",
       "      <td>1.000000</td>\n",
       "    </tr>\n",
       "    <tr>\n",
       "      <th>25%</th>\n",
       "      <td>287.500000</td>\n",
       "      <td>19200.000000</td>\n",
       "      <td>1125.000000</td>\n",
       "      <td>900.000000</td>\n",
       "      <td>162.500000</td>\n",
       "      <td>1.500000</td>\n",
       "      <td>1.500000</td>\n",
       "    </tr>\n",
       "    <tr>\n",
       "      <th>50%</th>\n",
       "      <td>525.000000</td>\n",
       "      <td>23040.000000</td>\n",
       "      <td>1750.000000</td>\n",
       "      <td>1250.000000</td>\n",
       "      <td>175.000000</td>\n",
       "      <td>2.000000</td>\n",
       "      <td>2.000000</td>\n",
       "    </tr>\n",
       "    <tr>\n",
       "      <th>75%</th>\n",
       "      <td>762.500000</td>\n",
       "      <td>26880.000000</td>\n",
       "      <td>2375.000000</td>\n",
       "      <td>1600.000000</td>\n",
       "      <td>187.500000</td>\n",
       "      <td>2.500000</td>\n",
       "      <td>2.500000</td>\n",
       "    </tr>\n",
       "    <tr>\n",
       "      <th>max</th>\n",
       "      <td>1000.000000</td>\n",
       "      <td>30720.000000</td>\n",
       "      <td>3000.000000</td>\n",
       "      <td>1950.000000</td>\n",
       "      <td>200.000000</td>\n",
       "      <td>3.000000</td>\n",
       "      <td>3.000000</td>\n",
       "    </tr>\n",
       "  </tbody>\n",
       "</table>\n",
       "</div>"
      ],
      "text/plain": [
       "       messages_included  mb_per_month_included  minutes_included  \\\n",
       "count           2.000000               2.000000          2.000000   \n",
       "mean          525.000000           23040.000000       1750.000000   \n",
       "std           671.751442           10861.160159       1767.766953   \n",
       "min            50.000000           15360.000000        500.000000   \n",
       "25%           287.500000           19200.000000       1125.000000   \n",
       "50%           525.000000           23040.000000       1750.000000   \n",
       "75%           762.500000           26880.000000       2375.000000   \n",
       "max          1000.000000           30720.000000       3000.000000   \n",
       "\n",
       "       rub_monthly_fee  rub_per_gb  rub_per_message  rub_per_minute  \n",
       "count         2.000000    2.000000         2.000000        2.000000  \n",
       "mean       1250.000000  175.000000         2.000000        2.000000  \n",
       "std         989.949494   35.355339         1.414214        1.414214  \n",
       "min         550.000000  150.000000         1.000000        1.000000  \n",
       "25%         900.000000  162.500000         1.500000        1.500000  \n",
       "50%        1250.000000  175.000000         2.000000        2.000000  \n",
       "75%        1600.000000  187.500000         2.500000        2.500000  \n",
       "max        1950.000000  200.000000         3.000000        3.000000  "
      ]
     },
     "metadata": {},
     "output_type": "display_data"
    },
    {
     "name": "stdout",
     "output_type": "stream",
     "text": [
      "Доля пропусков в таблице 0.0, количество дубликатов 0\n"
     ]
    }
   ],
   "source": [
    "# информация по таблице\n",
    "df_tariffs.info()\n",
    "\n",
    "# первые 5 строк таблицы\n",
    "display(df_tariffs.head())\n",
    "\n",
    "# описаные таблицы\n",
    "display(df_tariffs.describe())\n",
    "\n",
    "# доля пропусков и дубликатов в таблице\n",
    "print(f'Доля пропусков в таблице {df_tariffs.isna().mean().sum()}, количество дубликатов {df_tariffs.duplicated().sum()}')"
   ]
  },
  {
   "cell_type": "markdown",
   "metadata": {},
   "source": [
    "#### Таблица `users`"
   ]
  },
  {
   "cell_type": "code",
   "execution_count": 7,
   "metadata": {},
   "outputs": [
    {
     "name": "stdout",
     "output_type": "stream",
     "text": [
      "<class 'pandas.core.frame.DataFrame'>\n",
      "RangeIndex: 500 entries, 0 to 499\n",
      "Data columns (total 8 columns):\n",
      " #   Column      Non-Null Count  Dtype \n",
      "---  ------      --------------  ----- \n",
      " 0   user_id     500 non-null    int64 \n",
      " 1   age         500 non-null    int64 \n",
      " 2   churn_date  38 non-null     object\n",
      " 3   city        500 non-null    object\n",
      " 4   first_name  500 non-null    object\n",
      " 5   last_name   500 non-null    object\n",
      " 6   reg_date    500 non-null    object\n",
      " 7   tariff      500 non-null    object\n",
      "dtypes: int64(2), object(6)\n",
      "memory usage: 31.4+ KB\n"
     ]
    },
    {
     "data": {
      "text/html": [
       "<div>\n",
       "<style scoped>\n",
       "    .dataframe tbody tr th:only-of-type {\n",
       "        vertical-align: middle;\n",
       "    }\n",
       "\n",
       "    .dataframe tbody tr th {\n",
       "        vertical-align: top;\n",
       "    }\n",
       "\n",
       "    .dataframe thead th {\n",
       "        text-align: right;\n",
       "    }\n",
       "</style>\n",
       "<table border=\"1\" class=\"dataframe\">\n",
       "  <thead>\n",
       "    <tr style=\"text-align: right;\">\n",
       "      <th></th>\n",
       "      <th>user_id</th>\n",
       "      <th>age</th>\n",
       "      <th>churn_date</th>\n",
       "      <th>city</th>\n",
       "      <th>first_name</th>\n",
       "      <th>last_name</th>\n",
       "      <th>reg_date</th>\n",
       "      <th>tariff</th>\n",
       "    </tr>\n",
       "  </thead>\n",
       "  <tbody>\n",
       "    <tr>\n",
       "      <th>0</th>\n",
       "      <td>1000</td>\n",
       "      <td>52</td>\n",
       "      <td>NaN</td>\n",
       "      <td>Краснодар</td>\n",
       "      <td>Рафаил</td>\n",
       "      <td>Верещагин</td>\n",
       "      <td>2018-05-25</td>\n",
       "      <td>ultra</td>\n",
       "    </tr>\n",
       "    <tr>\n",
       "      <th>1</th>\n",
       "      <td>1001</td>\n",
       "      <td>41</td>\n",
       "      <td>NaN</td>\n",
       "      <td>Москва</td>\n",
       "      <td>Иван</td>\n",
       "      <td>Ежов</td>\n",
       "      <td>2018-11-01</td>\n",
       "      <td>smart</td>\n",
       "    </tr>\n",
       "    <tr>\n",
       "      <th>2</th>\n",
       "      <td>1002</td>\n",
       "      <td>59</td>\n",
       "      <td>NaN</td>\n",
       "      <td>Стерлитамак</td>\n",
       "      <td>Евгений</td>\n",
       "      <td>Абрамович</td>\n",
       "      <td>2018-06-17</td>\n",
       "      <td>smart</td>\n",
       "    </tr>\n",
       "    <tr>\n",
       "      <th>3</th>\n",
       "      <td>1003</td>\n",
       "      <td>23</td>\n",
       "      <td>NaN</td>\n",
       "      <td>Москва</td>\n",
       "      <td>Белла</td>\n",
       "      <td>Белякова</td>\n",
       "      <td>2018-08-17</td>\n",
       "      <td>ultra</td>\n",
       "    </tr>\n",
       "    <tr>\n",
       "      <th>4</th>\n",
       "      <td>1004</td>\n",
       "      <td>68</td>\n",
       "      <td>NaN</td>\n",
       "      <td>Новокузнецк</td>\n",
       "      <td>Татьяна</td>\n",
       "      <td>Авдеенко</td>\n",
       "      <td>2018-05-14</td>\n",
       "      <td>ultra</td>\n",
       "    </tr>\n",
       "  </tbody>\n",
       "</table>\n",
       "</div>"
      ],
      "text/plain": [
       "   user_id  age churn_date         city first_name  last_name    reg_date  \\\n",
       "0     1000   52        NaN    Краснодар     Рафаил  Верещагин  2018-05-25   \n",
       "1     1001   41        NaN       Москва       Иван       Ежов  2018-11-01   \n",
       "2     1002   59        NaN  Стерлитамак    Евгений  Абрамович  2018-06-17   \n",
       "3     1003   23        NaN       Москва      Белла   Белякова  2018-08-17   \n",
       "4     1004   68        NaN  Новокузнецк    Татьяна   Авдеенко  2018-05-14   \n",
       "\n",
       "  tariff  \n",
       "0  ultra  \n",
       "1  smart  \n",
       "2  smart  \n",
       "3  ultra  \n",
       "4  ultra  "
      ]
     },
     "metadata": {},
     "output_type": "display_data"
    },
    {
     "data": {
      "text/html": [
       "<div>\n",
       "<style scoped>\n",
       "    .dataframe tbody tr th:only-of-type {\n",
       "        vertical-align: middle;\n",
       "    }\n",
       "\n",
       "    .dataframe tbody tr th {\n",
       "        vertical-align: top;\n",
       "    }\n",
       "\n",
       "    .dataframe thead th {\n",
       "        text-align: right;\n",
       "    }\n",
       "</style>\n",
       "<table border=\"1\" class=\"dataframe\">\n",
       "  <thead>\n",
       "    <tr style=\"text-align: right;\">\n",
       "      <th></th>\n",
       "      <th>user_id</th>\n",
       "      <th>age</th>\n",
       "    </tr>\n",
       "  </thead>\n",
       "  <tbody>\n",
       "    <tr>\n",
       "      <th>count</th>\n",
       "      <td>500.000000</td>\n",
       "      <td>500.00000</td>\n",
       "    </tr>\n",
       "    <tr>\n",
       "      <th>mean</th>\n",
       "      <td>1249.500000</td>\n",
       "      <td>46.58800</td>\n",
       "    </tr>\n",
       "    <tr>\n",
       "      <th>std</th>\n",
       "      <td>144.481833</td>\n",
       "      <td>16.66763</td>\n",
       "    </tr>\n",
       "    <tr>\n",
       "      <th>min</th>\n",
       "      <td>1000.000000</td>\n",
       "      <td>18.00000</td>\n",
       "    </tr>\n",
       "    <tr>\n",
       "      <th>25%</th>\n",
       "      <td>1124.750000</td>\n",
       "      <td>32.00000</td>\n",
       "    </tr>\n",
       "    <tr>\n",
       "      <th>50%</th>\n",
       "      <td>1249.500000</td>\n",
       "      <td>46.00000</td>\n",
       "    </tr>\n",
       "    <tr>\n",
       "      <th>75%</th>\n",
       "      <td>1374.250000</td>\n",
       "      <td>62.00000</td>\n",
       "    </tr>\n",
       "    <tr>\n",
       "      <th>max</th>\n",
       "      <td>1499.000000</td>\n",
       "      <td>75.00000</td>\n",
       "    </tr>\n",
       "  </tbody>\n",
       "</table>\n",
       "</div>"
      ],
      "text/plain": [
       "           user_id        age\n",
       "count   500.000000  500.00000\n",
       "mean   1249.500000   46.58800\n",
       "std     144.481833   16.66763\n",
       "min    1000.000000   18.00000\n",
       "25%    1124.750000   32.00000\n",
       "50%    1249.500000   46.00000\n",
       "75%    1374.250000   62.00000\n",
       "max    1499.000000   75.00000"
      ]
     },
     "metadata": {},
     "output_type": "display_data"
    },
    {
     "name": "stdout",
     "output_type": "stream",
     "text": [
      "Доля пропусков в таблице 0.924, количество дубликатов 0\n"
     ]
    }
   ],
   "source": [
    "# информация по таблице\n",
    "df_users.info()\n",
    "\n",
    "# первые 5 строк таблицы\n",
    "display(df_users.head())\n",
    "\n",
    "# описаные таблицы\n",
    "display(df_users.describe())\n",
    "\n",
    "# доля пропусков и дубликатов в таблице\n",
    "print(f'Доля пропусков в таблице {df_users.isna().mean().sum()}, количество дубликатов {df_users.duplicated().sum()}')"
   ]
  },
  {
   "cell_type": "code",
   "execution_count": 8,
   "metadata": {
    "scrolled": true
   },
   "outputs": [
    {
     "data": {
      "text/plain": [
       "array([nan, '2018-10-05', '2018-12-18', '2018-11-21', '2018-10-03',\n",
       "       '2018-10-14', '2018-12-09', '2018-12-11', '2018-12-26',\n",
       "       '2018-08-31', '2018-12-03', '2018-12-23', '2018-11-07',\n",
       "       '2018-12-16', '2018-12-20', '2018-11-30', '2018-12-21',\n",
       "       '2018-08-17', '2018-09-02', '2018-10-04', '2018-11-13',\n",
       "       '2018-11-22', '2018-10-28', '2018-11-26', '2018-11-27',\n",
       "       '2018-11-16', '2018-10-27', '2018-12-30', '2018-09-27',\n",
       "       '2018-12-25', '2018-12-14', '2018-12-24', '2018-09-26',\n",
       "       '2018-10-25'], dtype=object)"
      ]
     },
     "execution_count": 8,
     "metadata": {},
     "output_type": "execute_result"
    }
   ],
   "source": [
    "# осмотрим данные, находящиеся в столбце churn_date имеющим пропуски\n",
    "df_users['churn_date'].unique()"
   ]
  },
  {
   "cell_type": "code",
   "execution_count": 9,
   "metadata": {},
   "outputs": [
    {
     "data": {
      "text/plain": [
       "array(['Краснодар', 'Москва', 'Стерлитамак', 'Новокузнецк',\n",
       "       'Набережные Челны', 'Ульяновск', 'Челябинск', 'Пермь', 'Тюмень',\n",
       "       'Самара', 'Санкт-Петербург', 'Иваново', 'Чебоксары', 'Омск', 'Уфа',\n",
       "       'Томск', 'Чита', 'Мурманск', 'Петрозаводск', 'Тверь',\n",
       "       'Екатеринбург', 'Махачкала', 'Вологда', 'Череповец', 'Ярославль',\n",
       "       'Сочи', 'Хабаровск', 'Ставрополь', 'Рязань', 'Улан-Удэ', 'Тула',\n",
       "       'Саратов', 'Ростов-на-Дону', 'Казань', 'Иркутск', 'Курск',\n",
       "       'Калуга', 'Якутск', 'Астрахань', 'Химки', 'Владикавказ',\n",
       "       'Волгоград', 'Саранск', 'Ижевск', 'Новосибирск', 'Брянск',\n",
       "       'Тольятти', 'Нижний Тагил', 'Орёл', 'Белгород', 'Воронеж',\n",
       "       'Волжский', 'Курган', 'Барнаул', 'Красноярск', 'Архангельск',\n",
       "       'Липецк', 'Кемерово', 'Киров', 'Сургут', 'Пенза', 'Магнитогорск',\n",
       "       'Нижний Новгород', 'Кострома', 'Владивосток', 'Тамбов', 'Балашиха',\n",
       "       'Севастополь', 'Калининград', 'Оренбург', 'Смоленск',\n",
       "       'Нижневартовск', 'Владимир', 'Новороссийск', 'Грозный', 'Подольск'],\n",
       "      dtype=object)"
      ]
     },
     "execution_count": 9,
     "metadata": {},
     "output_type": "execute_result"
    }
   ],
   "source": [
    "# рассмотрим уникальные значения столбца city, на случай, если там присутствует различное написание\n",
    "# одного и того же населенного пункта\n",
    "df_users['city'].unique()"
   ]
  },
  {
   "cell_type": "markdown",
   "metadata": {},
   "source": [
    "Согласно документации у нас 5 таблиц, имеющих следующие столбцы:\n",
    "\n",
    "Таблица calls (информация о звонках):\n",
    "* `id` — уникальный номер звонка\n",
    "* `call_date` — дата звонка\n",
    "* `duration` — длительность звонка в минутах\n",
    "* `user_id` — идентификатор пользователя, сделавшего звонок\n",
    "\n",
    "Таблица internet (информация об интернет-сессиях):\n",
    "* `id` — уникальный номер сессии\n",
    "* `mb_used` — объём потраченного за сессию интернет-трафика (в мегабайтах)\n",
    "* `session_date` — дата интернет-сессии\n",
    "* `user_id` — идентификатор пользователя\n",
    "\n",
    "Таблица messages (информация о сообщениях):\n",
    "* `id` — уникальный номер звонка\n",
    "* `message_date` — дата сообщения\n",
    "* `user_id` — идентификатор пользователя, отправившего сообщение\n",
    "\n",
    "Таблица tariffs (информация о тарифах):\n",
    "* `tariff_name` — название тарифа\n",
    "* `rub_monthly_fee` — ежемесячная абонентская плата в рублях\n",
    "* `minutes_included` — количество минут разговора в месяц, включённых в абонентскую плату\n",
    "* `messages_included` — количество сообщений в месяц, включённых в абонентскую плату\n",
    "* `mb_per_month_included` — объём интернет-трафика, включённого в абонентскую плату (в мегабайтах)\n",
    "* `rub_per_minute` — стоимость минуты разговора сверх тарифного пакета (например, если в тарифе 100 минут разговора в месяц, то со 101 минуты будет взиматься плата)\n",
    "* `rub_per_message` — стоимость отправки сообщения сверх тарифного пакета\n",
    "* `rub_per_gb` — стоимость дополнительного гигабайта интернет-трафика сверх тарифного пакета (1 гигабайт = 1024 мегабайта)\n",
    "\n",
    "Таблица users (информация о пользователях):\n",
    "* `ser_id` — уникальный идентификатор пользователя\n",
    "* `first_name` — имя пользователя\n",
    "* `last_name` — фамилия пользователя\n",
    "* `age` — возраст пользователя (годы)\n",
    "* `reg_date` — дата подключения тарифа (день, месяц, год)\n",
    "* `churn_date` — дата прекращения пользования тарифом (если значение пропущено, то тариф ещё действовал на момент выгрузки данных)\n",
    "* `city` — город проживания пользователя\n",
    "* `tarif` — название тарифного плана\n",
    "\n",
    "Наименования столбцов выполнены без нарушения стиля."
   ]
  },
  {
   "cell_type": "markdown",
   "metadata": {},
   "source": [
    "### Вывод"
   ]
  },
  {
   "cell_type": "markdown",
   "metadata": {},
   "source": [
    "В таблицах находятся данные о пользователях сотовой связи, объемы пользования связью и тарифы.\n",
    "\n",
    "В данных обнаружены следующие возможные проблемы:\n",
    "\n",
    "Таблица calls:\n",
    "* столбец `call_date` имеет строчный тип данных, а содержит информацию о дате звонка, необходимо перевести в тип данных datetime\n",
    "* столбец `duration` имеет 0 значения, что означает либо пропущенный звонок, либо пользователь не совершал звонков за расчетный период. Оставляем 0.\n",
    "\n",
    "Таблица internet:\n",
    "* содержит столбец `Unnamed: 0` который дублирует индексы таблицы и отсутствуюет в технической документации к проекту, необходимо удалить;\n",
    "* столбец `mb_used` имеет 0 значения. Это значит пользователь не заходил в интернет за расчетный период. Оставляем 0 \n",
    "* столбец `session_date` имеет строчный тип данных, а содержит информацию о дате пользования интернетом, необходимо перевести в тип данных datetime\n",
    "\n",
    "Таблица messages:\n",
    "* столбец `message_date` имеет строчный тип данных, а содержит информацию о дате отправки сообщения, необходимо перевести в тип данных datetime\n",
    "\n",
    "Таблица users:\n",
    "* столбец `reg_date` имеет строчный тип данных, а содержит информацию о дате регистрации пользователя, необходимо перевести в тип данных datetime\n",
    "* пропуски в столбце `churn_date` означает, что тариф ещё действовал на момент выгрузки данных, поэтому оставляем. Также данный столбец имеет строчный тип данных, а содержит информацию о дате прекращения пользования тарифом, необходимо перевести в тип данных datetime\n",
    "\n",
    "\n",
    "Данных достаточно для анализа, необходимо устранить ошибки и перевести некоторые столбцы к нужному типа данных. Дубликаты и критичные пропуски в данных отсутствуют."
   ]
  },
  {
   "cell_type": "markdown",
   "metadata": {},
   "source": [
    "## Подготовка данных"
   ]
  },
  {
   "cell_type": "markdown",
   "metadata": {},
   "source": [
    "Приведем данные к нужным типам, исправим обнаруженные ошибки в данных. Выполним необходимые округления.\n",
    "\n",
    "Произведем следующие расчеты для каждого пользователя:\n",
    "\n",
    "* количество сделанных звонков и израсходованных минут разговора по месяцам;\n",
    "* количество отправленных сообщений по месяцам;\n",
    "* объем израсходованного интернет-трафика по месяцам;\n",
    "* помесячную выручку с каждого пользователя."
   ]
  },
  {
   "cell_type": "markdown",
   "metadata": {},
   "source": [
    "### Изменение типов данных"
   ]
  },
  {
   "cell_type": "markdown",
   "metadata": {},
   "source": [
    "При первичном анализе данных обнаружили, что некоторые данные имеют неправильный тип данных.\n",
    "\n",
    "Столбцы, имеющие тип данных *object*, которые необходимо привести к типу *datetime*:\n",
    "\n",
    "* `df_calls['call_date']` \n",
    "* `df_internet['session_date']`\n",
    "* `df_messages['message_date']`\n",
    "* `df_users['reg_date']`\n",
    "* `df_users['churn_date']`\n",
    "\n",
    "Выполним изменение типов данных указанных столбцов:"
   ]
  },
  {
   "cell_type": "code",
   "execution_count": 10,
   "metadata": {},
   "outputs": [],
   "source": [
    "# изменение типов данных с object на datetime\n",
    "df_calls['call_date'] = pd.to_datetime(df_calls['call_date'], format='%Y-%m-%d')\n",
    "df_internet['session_date'] = pd.to_datetime(df_internet['session_date'], format='%Y-%m-%d')\n",
    "df_messages['message_date'] = pd.to_datetime(df_messages['message_date'], format='%Y-%m-%d')\n",
    "df_users['reg_date'] = pd.to_datetime(df_users['reg_date'], format='%Y-%m-%d')\n",
    "df_users['churn_date'] = pd.to_datetime(df_users['churn_date'], format='%Y-%m-%d')"
   ]
  },
  {
   "cell_type": "markdown",
   "metadata": {},
   "source": [
    "### Исправление ошибок"
   ]
  },
  {
   "cell_type": "markdown",
   "metadata": {},
   "source": [
    "При первичном анализе был обнаружен лишний столбец `df_internet['Unnamed: 0']` который дублирует индексы таблицы. Вероятно, он мог ошибочно создататься при сборе данных в таблицу.\n",
    "\n",
    "Удалим данный столбец и перезапишем исходный датафрейм internet"
   ]
  },
  {
   "cell_type": "code",
   "execution_count": 11,
   "metadata": {},
   "outputs": [],
   "source": [
    "# удалим столбец Unnamed: 0 и перезапишем таблицу internet с помощью атрибута Inplace\n",
    "df_internet.drop(columns = ['Unnamed: 0'], axis = 1, inplace=True)"
   ]
  },
  {
   "cell_type": "markdown",
   "metadata": {},
   "source": [
    "### Округление данных"
   ]
  },
  {
   "cell_type": "markdown",
   "metadata": {},
   "source": [
    "В соответствии с правилами оператора «Мегалайн» необходимо округлить в **большую** сторону следующие данные:\n",
    "* время звонка `df_calls['duration']` округляются до минут (звонок длительностью 1 секунду будет засчитан как 1 минута.)\n",
    "* общий объем трафика за месяц `df_internet['mb_used']` с мегабайт округляется до гигабайт (объем 1025 Мб будет засчитан как 2 Гб)."
   ]
  },
  {
   "cell_type": "markdown",
   "metadata": {},
   "source": [
    "Обработаем столбец `df_calls['duration']`.\n",
    "\n",
    "Для этого, в таблице `df_calls` создадим новый столбец `['duration_minutes']`. Во него добавим округленные в большую сторону значения данные."
   ]
  },
  {
   "cell_type": "code",
   "execution_count": 12,
   "metadata": {},
   "outputs": [],
   "source": [
    "# округлим значения в большую сторону методом ceil \n",
    "df_calls['duration_minutes'] = np.ceil(df_calls['duration'])"
   ]
  },
  {
   "cell_type": "markdown",
   "metadata": {},
   "source": [
    "Обработкой `df_internet['mb_used']` займемся позднее, после того как создадим сводную таблицу и рассчитаем сумму использованного трафика за месяц отдельно взятым пользователем."
   ]
  },
  {
   "cell_type": "markdown",
   "metadata": {},
   "source": [
    "### Расчет данных"
   ]
  },
  {
   "cell_type": "markdown",
   "metadata": {},
   "source": [
    "Перед началом расчетов необходимо выделить месяц пользования услугами (звонки, интернет, сообщения) для каждой таблицы `calls`, `internet` и `messages`. Для этого создадим отдельный столбец `month` в каждой таблице и добавим туда данные о месяце."
   ]
  },
  {
   "cell_type": "code",
   "execution_count": 13,
   "metadata": {},
   "outputs": [],
   "source": [
    "# создадим новые столбцы в необходимых таблицах и добавим туда данные по месяцам, используя функцию dt.month\n",
    "df_calls['month'] = df_calls['call_date'].dt.month\n",
    "df_messages['month'] = df_messages['message_date'].dt.month\n",
    "df_internet['month'] = df_internet['session_date'].dt.month"
   ]
  },
  {
   "cell_type": "markdown",
   "metadata": {},
   "source": [
    "Затем создадим сводные таблицы по данным `user_id` и `month` для соответствующих таблиц."
   ]
  },
  {
   "cell_type": "markdown",
   "metadata": {},
   "source": [
    "#### Сводная таблица `calls`"
   ]
  },
  {
   "cell_type": "code",
   "execution_count": 14,
   "metadata": {},
   "outputs": [
    {
     "data": {
      "text/html": [
       "<div>\n",
       "<style scoped>\n",
       "    .dataframe tbody tr th:only-of-type {\n",
       "        vertical-align: middle;\n",
       "    }\n",
       "\n",
       "    .dataframe tbody tr th {\n",
       "        vertical-align: top;\n",
       "    }\n",
       "\n",
       "    .dataframe thead th {\n",
       "        text-align: right;\n",
       "    }\n",
       "</style>\n",
       "<table border=\"1\" class=\"dataframe\">\n",
       "  <thead>\n",
       "    <tr style=\"text-align: right;\">\n",
       "      <th></th>\n",
       "      <th></th>\n",
       "      <th>calls_count_month</th>\n",
       "      <th>duration_month</th>\n",
       "    </tr>\n",
       "    <tr>\n",
       "      <th>user_id</th>\n",
       "      <th>month</th>\n",
       "      <th></th>\n",
       "      <th></th>\n",
       "    </tr>\n",
       "  </thead>\n",
       "  <tbody>\n",
       "    <tr>\n",
       "      <th rowspan=\"5\" valign=\"top\">1000</th>\n",
       "      <th>5</th>\n",
       "      <td>22</td>\n",
       "      <td>159.0</td>\n",
       "    </tr>\n",
       "    <tr>\n",
       "      <th>6</th>\n",
       "      <td>43</td>\n",
       "      <td>172.0</td>\n",
       "    </tr>\n",
       "    <tr>\n",
       "      <th>7</th>\n",
       "      <td>47</td>\n",
       "      <td>340.0</td>\n",
       "    </tr>\n",
       "    <tr>\n",
       "      <th>8</th>\n",
       "      <td>52</td>\n",
       "      <td>408.0</td>\n",
       "    </tr>\n",
       "    <tr>\n",
       "      <th>9</th>\n",
       "      <td>58</td>\n",
       "      <td>466.0</td>\n",
       "    </tr>\n",
       "    <tr>\n",
       "      <th>...</th>\n",
       "      <th>...</th>\n",
       "      <td>...</td>\n",
       "      <td>...</td>\n",
       "    </tr>\n",
       "    <tr>\n",
       "      <th>1498</th>\n",
       "      <th>10</th>\n",
       "      <td>41</td>\n",
       "      <td>247.0</td>\n",
       "    </tr>\n",
       "    <tr>\n",
       "      <th rowspan=\"4\" valign=\"top\">1499</th>\n",
       "      <th>9</th>\n",
       "      <td>9</td>\n",
       "      <td>70.0</td>\n",
       "    </tr>\n",
       "    <tr>\n",
       "      <th>10</th>\n",
       "      <td>68</td>\n",
       "      <td>449.0</td>\n",
       "    </tr>\n",
       "    <tr>\n",
       "      <th>11</th>\n",
       "      <td>74</td>\n",
       "      <td>612.0</td>\n",
       "    </tr>\n",
       "    <tr>\n",
       "      <th>12</th>\n",
       "      <td>69</td>\n",
       "      <td>492.0</td>\n",
       "    </tr>\n",
       "  </tbody>\n",
       "</table>\n",
       "<p>3174 rows × 2 columns</p>\n",
       "</div>"
      ],
      "text/plain": [
       "               calls_count_month  duration_month\n",
       "user_id month                                   \n",
       "1000    5                     22           159.0\n",
       "        6                     43           172.0\n",
       "        7                     47           340.0\n",
       "        8                     52           408.0\n",
       "        9                     58           466.0\n",
       "...                          ...             ...\n",
       "1498    10                    41           247.0\n",
       "1499    9                      9            70.0\n",
       "        10                    68           449.0\n",
       "        11                    74           612.0\n",
       "        12                    69           492.0\n",
       "\n",
       "[3174 rows x 2 columns]"
      ]
     },
     "execution_count": 14,
     "metadata": {},
     "output_type": "execute_result"
    }
   ],
   "source": [
    "# создадим сводную таблицу по данным столбцов user_id и month, переименуем столбцы и выведем таблицу на экран\n",
    "calls_pivot = pd.pivot_table(df_calls, index=['user_id', 'month'], values='duration_minutes', aggfunc=['count','sum'])\n",
    "calls_pivot.columns = ['calls_count_month', 'duration_month']\n",
    "calls_pivot"
   ]
  },
  {
   "cell_type": "markdown",
   "metadata": {},
   "source": [
    "#### Сводная таблица `internet`"
   ]
  },
  {
   "cell_type": "markdown",
   "metadata": {},
   "source": [
    "При создании сводной таблицы по данному датафрейму вернемся к округлению данных использованного трафика. Согласно правилам оператора, необходимо округлить в большую сторону мегабайты в гигабайты.\n",
    "\n",
    "Для этого округлим значения столбца `mb_used`, переведем их в целочисленный тип данных *int* и переименуем в `gb_used_month`"
   ]
  },
  {
   "cell_type": "code",
   "execution_count": 15,
   "metadata": {},
   "outputs": [
    {
     "data": {
      "text/html": [
       "<div>\n",
       "<style scoped>\n",
       "    .dataframe tbody tr th:only-of-type {\n",
       "        vertical-align: middle;\n",
       "    }\n",
       "\n",
       "    .dataframe tbody tr th {\n",
       "        vertical-align: top;\n",
       "    }\n",
       "\n",
       "    .dataframe thead th {\n",
       "        text-align: right;\n",
       "    }\n",
       "</style>\n",
       "<table border=\"1\" class=\"dataframe\">\n",
       "  <thead>\n",
       "    <tr style=\"text-align: right;\">\n",
       "      <th></th>\n",
       "      <th></th>\n",
       "      <th>gb_used_month</th>\n",
       "    </tr>\n",
       "    <tr>\n",
       "      <th>user_id</th>\n",
       "      <th>month</th>\n",
       "      <th></th>\n",
       "    </tr>\n",
       "  </thead>\n",
       "  <tbody>\n",
       "    <tr>\n",
       "      <th rowspan=\"5\" valign=\"top\">1000</th>\n",
       "      <th>5</th>\n",
       "      <td>3.0</td>\n",
       "    </tr>\n",
       "    <tr>\n",
       "      <th>6</th>\n",
       "      <td>23.0</td>\n",
       "    </tr>\n",
       "    <tr>\n",
       "      <th>7</th>\n",
       "      <td>14.0</td>\n",
       "    </tr>\n",
       "    <tr>\n",
       "      <th>8</th>\n",
       "      <td>14.0</td>\n",
       "    </tr>\n",
       "    <tr>\n",
       "      <th>9</th>\n",
       "      <td>15.0</td>\n",
       "    </tr>\n",
       "    <tr>\n",
       "      <th>...</th>\n",
       "      <th>...</th>\n",
       "      <td>...</td>\n",
       "    </tr>\n",
       "    <tr>\n",
       "      <th>1498</th>\n",
       "      <th>10</th>\n",
       "      <td>21.0</td>\n",
       "    </tr>\n",
       "    <tr>\n",
       "      <th rowspan=\"4\" valign=\"top\">1499</th>\n",
       "      <th>9</th>\n",
       "      <td>2.0</td>\n",
       "    </tr>\n",
       "    <tr>\n",
       "      <th>10</th>\n",
       "      <td>18.0</td>\n",
       "    </tr>\n",
       "    <tr>\n",
       "      <th>11</th>\n",
       "      <td>18.0</td>\n",
       "    </tr>\n",
       "    <tr>\n",
       "      <th>12</th>\n",
       "      <td>13.0</td>\n",
       "    </tr>\n",
       "  </tbody>\n",
       "</table>\n",
       "<p>3203 rows × 1 columns</p>\n",
       "</div>"
      ],
      "text/plain": [
       "               gb_used_month\n",
       "user_id month               \n",
       "1000    5                3.0\n",
       "        6               23.0\n",
       "        7               14.0\n",
       "        8               14.0\n",
       "        9               15.0\n",
       "...                      ...\n",
       "1498    10              21.0\n",
       "1499    9                2.0\n",
       "        10              18.0\n",
       "        11              18.0\n",
       "        12              13.0\n",
       "\n",
       "[3203 rows x 1 columns]"
      ]
     },
     "execution_count": 15,
     "metadata": {},
     "output_type": "execute_result"
    }
   ],
   "source": [
    "# создадим сводную таблицу по данным столбцов user_id и month,\n",
    "# переведем мегабайта в гигабайты, поделив значения на 1024 и округлим в большую сторону\n",
    "# выведем таблицу на экран\n",
    "internet_pivot = pd.pivot_table(df_internet, index=['user_id', 'month'], values='mb_used', aggfunc='sum')\n",
    "internet_pivot['mb_used'] = np.ceil(internet_pivot['mb_used'] / 1024)\n",
    "internet_pivot.columns = ['gb_used_month']\n",
    "internet_pivot"
   ]
  },
  {
   "cell_type": "markdown",
   "metadata": {},
   "source": [
    "#### Сводная таблица `messages`"
   ]
  },
  {
   "cell_type": "code",
   "execution_count": 16,
   "metadata": {},
   "outputs": [
    {
     "data": {
      "text/html": [
       "<div>\n",
       "<style scoped>\n",
       "    .dataframe tbody tr th:only-of-type {\n",
       "        vertical-align: middle;\n",
       "    }\n",
       "\n",
       "    .dataframe tbody tr th {\n",
       "        vertical-align: top;\n",
       "    }\n",
       "\n",
       "    .dataframe thead th {\n",
       "        text-align: right;\n",
       "    }\n",
       "</style>\n",
       "<table border=\"1\" class=\"dataframe\">\n",
       "  <thead>\n",
       "    <tr style=\"text-align: right;\">\n",
       "      <th></th>\n",
       "      <th></th>\n",
       "      <th>messages_count_month</th>\n",
       "    </tr>\n",
       "    <tr>\n",
       "      <th>user_id</th>\n",
       "      <th>month</th>\n",
       "      <th></th>\n",
       "    </tr>\n",
       "  </thead>\n",
       "  <tbody>\n",
       "    <tr>\n",
       "      <th rowspan=\"5\" valign=\"top\">1000</th>\n",
       "      <th>5</th>\n",
       "      <td>22</td>\n",
       "    </tr>\n",
       "    <tr>\n",
       "      <th>6</th>\n",
       "      <td>60</td>\n",
       "    </tr>\n",
       "    <tr>\n",
       "      <th>7</th>\n",
       "      <td>75</td>\n",
       "    </tr>\n",
       "    <tr>\n",
       "      <th>8</th>\n",
       "      <td>81</td>\n",
       "    </tr>\n",
       "    <tr>\n",
       "      <th>9</th>\n",
       "      <td>57</td>\n",
       "    </tr>\n",
       "    <tr>\n",
       "      <th>...</th>\n",
       "      <th>...</th>\n",
       "      <td>...</td>\n",
       "    </tr>\n",
       "    <tr>\n",
       "      <th>1498</th>\n",
       "      <th>10</th>\n",
       "      <td>42</td>\n",
       "    </tr>\n",
       "    <tr>\n",
       "      <th rowspan=\"4\" valign=\"top\">1499</th>\n",
       "      <th>9</th>\n",
       "      <td>11</td>\n",
       "    </tr>\n",
       "    <tr>\n",
       "      <th>10</th>\n",
       "      <td>48</td>\n",
       "    </tr>\n",
       "    <tr>\n",
       "      <th>11</th>\n",
       "      <td>59</td>\n",
       "    </tr>\n",
       "    <tr>\n",
       "      <th>12</th>\n",
       "      <td>66</td>\n",
       "    </tr>\n",
       "  </tbody>\n",
       "</table>\n",
       "<p>2717 rows × 1 columns</p>\n",
       "</div>"
      ],
      "text/plain": [
       "               messages_count_month\n",
       "user_id month                      \n",
       "1000    5                        22\n",
       "        6                        60\n",
       "        7                        75\n",
       "        8                        81\n",
       "        9                        57\n",
       "...                             ...\n",
       "1498    10                       42\n",
       "1499    9                        11\n",
       "        10                       48\n",
       "        11                       59\n",
       "        12                       66\n",
       "\n",
       "[2717 rows x 1 columns]"
      ]
     },
     "execution_count": 16,
     "metadata": {},
     "output_type": "execute_result"
    }
   ],
   "source": [
    "# создадим сводную таблицу по данным столбцов user_id и month, переименуем столбцы и выведем таблицу на экран\n",
    "messages_pivot = pd.pivot_table(df_messages, index=['user_id', 'month'], values='id', aggfunc=['count'])\n",
    "messages_pivot.columns = ['messages_count_month']\n",
    "messages_pivot"
   ]
  },
  {
   "cell_type": "markdown",
   "metadata": {},
   "source": [
    "#### Общая сводная таблица "
   ]
  },
  {
   "cell_type": "markdown",
   "metadata": {},
   "source": [
    "Теперь необходимо собрать воедино созданные сводные таблицы `calls_pivot`, `internet_pivot` и `messages_pivot`.\n",
    "\n",
    "После итогового объединения данных возникнут пропущенные значения (пользователь мог не звонить/не писать сообщений/не пользоваться интернетом в течении месяца), которые необходимо будет заменить на нулевые значения.\n",
    "\n",
    "Также произведем замену типа данных с дробей *float* на целочисленные значения *int*"
   ]
  },
  {
   "cell_type": "code",
   "execution_count": 17,
   "metadata": {},
   "outputs": [],
   "source": [
    "# для сбора трех сводных таблиц создадим список из них и применим методы reduce и merge\n",
    "# пропущенные значения заменим на 0 и переведем данные таблицы в целочисленные значения\n",
    "dfs = [calls_pivot, internet_pivot, messages_pivot]\n",
    "df_merged = reduce(lambda left,right: pd.merge(\n",
    "    left, right, on=['user_id', 'month'], how='outer'), dfs).fillna(0).astype('int64')"
   ]
  },
  {
   "cell_type": "code",
   "execution_count": 18,
   "metadata": {},
   "outputs": [
    {
     "data": {
      "text/plain": [
       "(3214, 4)"
      ]
     },
     "execution_count": 18,
     "metadata": {},
     "output_type": "execute_result"
    }
   ],
   "source": [
    "df_merged.shape"
   ]
  },
  {
   "cell_type": "code",
   "execution_count": 19,
   "metadata": {},
   "outputs": [
    {
     "data": {
      "text/plain": [
       "498"
      ]
     },
     "execution_count": 19,
     "metadata": {},
     "output_type": "execute_result"
    }
   ],
   "source": [
    "df_merged.reset_index().user_id.nunique()"
   ]
  },
  {
   "cell_type": "markdown",
   "metadata": {},
   "source": [
    "Осталось соотнести каждого пользователя с используемым тарифом. Для этого воспользуемся данными из таблицы `users`"
   ]
  },
  {
   "cell_type": "code",
   "execution_count": 20,
   "metadata": {},
   "outputs": [],
   "source": [
    "# заполним новый столбец tariff общей сводной таблицы данными\n",
    "# взяв данные о тарифах из таблицы users\n",
    "for user in df_merged.index:\n",
    "    df_merged.loc[user, 'tariff'] = df_users.loc[user[0]-1000, 'tariff']"
   ]
  },
  {
   "cell_type": "markdown",
   "metadata": {},
   "source": [
    "Для проверки выведем 10 первых строк общей сводной таблицы revenue"
   ]
  },
  {
   "cell_type": "code",
   "execution_count": 21,
   "metadata": {},
   "outputs": [
    {
     "data": {
      "text/html": [
       "<div>\n",
       "<style scoped>\n",
       "    .dataframe tbody tr th:only-of-type {\n",
       "        vertical-align: middle;\n",
       "    }\n",
       "\n",
       "    .dataframe tbody tr th {\n",
       "        vertical-align: top;\n",
       "    }\n",
       "\n",
       "    .dataframe thead th {\n",
       "        text-align: right;\n",
       "    }\n",
       "</style>\n",
       "<table border=\"1\" class=\"dataframe\">\n",
       "  <thead>\n",
       "    <tr style=\"text-align: right;\">\n",
       "      <th></th>\n",
       "      <th></th>\n",
       "      <th>calls_count_month</th>\n",
       "      <th>duration_month</th>\n",
       "      <th>gb_used_month</th>\n",
       "      <th>messages_count_month</th>\n",
       "      <th>tariff</th>\n",
       "    </tr>\n",
       "    <tr>\n",
       "      <th>user_id</th>\n",
       "      <th>month</th>\n",
       "      <th></th>\n",
       "      <th></th>\n",
       "      <th></th>\n",
       "      <th></th>\n",
       "      <th></th>\n",
       "    </tr>\n",
       "  </thead>\n",
       "  <tbody>\n",
       "    <tr>\n",
       "      <th rowspan=\"8\" valign=\"top\">1000</th>\n",
       "      <th>5</th>\n",
       "      <td>22</td>\n",
       "      <td>159</td>\n",
       "      <td>3</td>\n",
       "      <td>22</td>\n",
       "      <td>ultra</td>\n",
       "    </tr>\n",
       "    <tr>\n",
       "      <th>6</th>\n",
       "      <td>43</td>\n",
       "      <td>172</td>\n",
       "      <td>23</td>\n",
       "      <td>60</td>\n",
       "      <td>ultra</td>\n",
       "    </tr>\n",
       "    <tr>\n",
       "      <th>7</th>\n",
       "      <td>47</td>\n",
       "      <td>340</td>\n",
       "      <td>14</td>\n",
       "      <td>75</td>\n",
       "      <td>ultra</td>\n",
       "    </tr>\n",
       "    <tr>\n",
       "      <th>8</th>\n",
       "      <td>52</td>\n",
       "      <td>408</td>\n",
       "      <td>14</td>\n",
       "      <td>81</td>\n",
       "      <td>ultra</td>\n",
       "    </tr>\n",
       "    <tr>\n",
       "      <th>9</th>\n",
       "      <td>58</td>\n",
       "      <td>466</td>\n",
       "      <td>15</td>\n",
       "      <td>57</td>\n",
       "      <td>ultra</td>\n",
       "    </tr>\n",
       "    <tr>\n",
       "      <th>10</th>\n",
       "      <td>57</td>\n",
       "      <td>350</td>\n",
       "      <td>15</td>\n",
       "      <td>73</td>\n",
       "      <td>ultra</td>\n",
       "    </tr>\n",
       "    <tr>\n",
       "      <th>11</th>\n",
       "      <td>43</td>\n",
       "      <td>338</td>\n",
       "      <td>15</td>\n",
       "      <td>58</td>\n",
       "      <td>ultra</td>\n",
       "    </tr>\n",
       "    <tr>\n",
       "      <th>12</th>\n",
       "      <td>46</td>\n",
       "      <td>333</td>\n",
       "      <td>10</td>\n",
       "      <td>70</td>\n",
       "      <td>ultra</td>\n",
       "    </tr>\n",
       "    <tr>\n",
       "      <th rowspan=\"2\" valign=\"top\">1001</th>\n",
       "      <th>11</th>\n",
       "      <td>59</td>\n",
       "      <td>430</td>\n",
       "      <td>18</td>\n",
       "      <td>0</td>\n",
       "      <td>smart</td>\n",
       "    </tr>\n",
       "    <tr>\n",
       "      <th>12</th>\n",
       "      <td>63</td>\n",
       "      <td>414</td>\n",
       "      <td>14</td>\n",
       "      <td>0</td>\n",
       "      <td>smart</td>\n",
       "    </tr>\n",
       "  </tbody>\n",
       "</table>\n",
       "</div>"
      ],
      "text/plain": [
       "               calls_count_month  duration_month  gb_used_month  \\\n",
       "user_id month                                                     \n",
       "1000    5                     22             159              3   \n",
       "        6                     43             172             23   \n",
       "        7                     47             340             14   \n",
       "        8                     52             408             14   \n",
       "        9                     58             466             15   \n",
       "        10                    57             350             15   \n",
       "        11                    43             338             15   \n",
       "        12                    46             333             10   \n",
       "1001    11                    59             430             18   \n",
       "        12                    63             414             14   \n",
       "\n",
       "               messages_count_month tariff  \n",
       "user_id month                               \n",
       "1000    5                        22  ultra  \n",
       "        6                        60  ultra  \n",
       "        7                        75  ultra  \n",
       "        8                        81  ultra  \n",
       "        9                        57  ultra  \n",
       "        10                       73  ultra  \n",
       "        11                       58  ultra  \n",
       "        12                       70  ultra  \n",
       "1001    11                        0  smart  \n",
       "        12                        0  smart  "
      ]
     },
     "execution_count": 21,
     "metadata": {},
     "output_type": "execute_result"
    }
   ],
   "source": [
    "# первые 10 строк\n",
    "df_merged.head(10) "
   ]
  },
  {
   "cell_type": "markdown",
   "metadata": {},
   "source": [
    "#### Расчет помесячной выручки каждого пользователя"
   ]
  },
  {
   "cell_type": "markdown",
   "metadata": {},
   "source": [
    "Рассчитаем помесячную выручку с каждого пользователя с помощью функции. Полученные данные добавим в новый столбец `revenue`."
   ]
  },
  {
   "cell_type": "code",
   "execution_count": 22,
   "metadata": {
    "scrolled": true
   },
   "outputs": [
    {
     "data": {
      "text/html": [
       "<div>\n",
       "<style scoped>\n",
       "    .dataframe tbody tr th:only-of-type {\n",
       "        vertical-align: middle;\n",
       "    }\n",
       "\n",
       "    .dataframe tbody tr th {\n",
       "        vertical-align: top;\n",
       "    }\n",
       "\n",
       "    .dataframe thead th {\n",
       "        text-align: right;\n",
       "    }\n",
       "</style>\n",
       "<table border=\"1\" class=\"dataframe\">\n",
       "  <thead>\n",
       "    <tr style=\"text-align: right;\">\n",
       "      <th></th>\n",
       "      <th></th>\n",
       "      <th>calls_count_month</th>\n",
       "      <th>duration_month</th>\n",
       "      <th>gb_used_month</th>\n",
       "      <th>messages_count_month</th>\n",
       "      <th>tariff</th>\n",
       "      <th>revenue</th>\n",
       "    </tr>\n",
       "    <tr>\n",
       "      <th>user_id</th>\n",
       "      <th>month</th>\n",
       "      <th></th>\n",
       "      <th></th>\n",
       "      <th></th>\n",
       "      <th></th>\n",
       "      <th></th>\n",
       "      <th></th>\n",
       "    </tr>\n",
       "  </thead>\n",
       "  <tbody>\n",
       "    <tr>\n",
       "      <th rowspan=\"8\" valign=\"top\">1000</th>\n",
       "      <th>5</th>\n",
       "      <td>22</td>\n",
       "      <td>159</td>\n",
       "      <td>3</td>\n",
       "      <td>22</td>\n",
       "      <td>ultra</td>\n",
       "      <td>1950.0</td>\n",
       "    </tr>\n",
       "    <tr>\n",
       "      <th>6</th>\n",
       "      <td>43</td>\n",
       "      <td>172</td>\n",
       "      <td>23</td>\n",
       "      <td>60</td>\n",
       "      <td>ultra</td>\n",
       "      <td>1950.0</td>\n",
       "    </tr>\n",
       "    <tr>\n",
       "      <th>7</th>\n",
       "      <td>47</td>\n",
       "      <td>340</td>\n",
       "      <td>14</td>\n",
       "      <td>75</td>\n",
       "      <td>ultra</td>\n",
       "      <td>1950.0</td>\n",
       "    </tr>\n",
       "    <tr>\n",
       "      <th>8</th>\n",
       "      <td>52</td>\n",
       "      <td>408</td>\n",
       "      <td>14</td>\n",
       "      <td>81</td>\n",
       "      <td>ultra</td>\n",
       "      <td>1950.0</td>\n",
       "    </tr>\n",
       "    <tr>\n",
       "      <th>9</th>\n",
       "      <td>58</td>\n",
       "      <td>466</td>\n",
       "      <td>15</td>\n",
       "      <td>57</td>\n",
       "      <td>ultra</td>\n",
       "      <td>1950.0</td>\n",
       "    </tr>\n",
       "    <tr>\n",
       "      <th>10</th>\n",
       "      <td>57</td>\n",
       "      <td>350</td>\n",
       "      <td>15</td>\n",
       "      <td>73</td>\n",
       "      <td>ultra</td>\n",
       "      <td>1950.0</td>\n",
       "    </tr>\n",
       "    <tr>\n",
       "      <th>11</th>\n",
       "      <td>43</td>\n",
       "      <td>338</td>\n",
       "      <td>15</td>\n",
       "      <td>58</td>\n",
       "      <td>ultra</td>\n",
       "      <td>1950.0</td>\n",
       "    </tr>\n",
       "    <tr>\n",
       "      <th>12</th>\n",
       "      <td>46</td>\n",
       "      <td>333</td>\n",
       "      <td>10</td>\n",
       "      <td>70</td>\n",
       "      <td>ultra</td>\n",
       "      <td>1950.0</td>\n",
       "    </tr>\n",
       "    <tr>\n",
       "      <th rowspan=\"2\" valign=\"top\">1001</th>\n",
       "      <th>11</th>\n",
       "      <td>59</td>\n",
       "      <td>430</td>\n",
       "      <td>18</td>\n",
       "      <td>0</td>\n",
       "      <td>smart</td>\n",
       "      <td>1150.0</td>\n",
       "    </tr>\n",
       "    <tr>\n",
       "      <th>12</th>\n",
       "      <td>63</td>\n",
       "      <td>414</td>\n",
       "      <td>14</td>\n",
       "      <td>0</td>\n",
       "      <td>smart</td>\n",
       "      <td>550.0</td>\n",
       "    </tr>\n",
       "  </tbody>\n",
       "</table>\n",
       "</div>"
      ],
      "text/plain": [
       "               calls_count_month  duration_month  gb_used_month  \\\n",
       "user_id month                                                     \n",
       "1000    5                     22             159              3   \n",
       "        6                     43             172             23   \n",
       "        7                     47             340             14   \n",
       "        8                     52             408             14   \n",
       "        9                     58             466             15   \n",
       "        10                    57             350             15   \n",
       "        11                    43             338             15   \n",
       "        12                    46             333             10   \n",
       "1001    11                    59             430             18   \n",
       "        12                    63             414             14   \n",
       "\n",
       "               messages_count_month tariff  revenue  \n",
       "user_id month                                        \n",
       "1000    5                        22  ultra   1950.0  \n",
       "        6                        60  ultra   1950.0  \n",
       "        7                        75  ultra   1950.0  \n",
       "        8                        81  ultra   1950.0  \n",
       "        9                        57  ultra   1950.0  \n",
       "        10                       73  ultra   1950.0  \n",
       "        11                       58  ultra   1950.0  \n",
       "        12                       70  ultra   1950.0  \n",
       "1001    11                        0  smart   1150.0  \n",
       "        12                        0  smart    550.0  "
      ]
     },
     "execution_count": 22,
     "metadata": {},
     "output_type": "execute_result"
    }
   ],
   "source": [
    "# напишем функцию для расчета выручки для каждого пользователя за месяц\n",
    "def revenue(row):\n",
    "    \"\"\"\n",
    "    Функция возвращает расчет выручки для каждого клиента, используя правило:\n",
    "    в зависимости от тарифа smart или ultra расчитывает разницу между бесплатным лимитом звонков/трафика интернета/сообщений\n",
    "    и фактической суммой длительности звонков/трафика интернета/сообщений.\n",
    "    Если есть превышение тарифных объемов, полученный остаток умножается на значения тарифного плана.\n",
    "    Затем полученные значения суммируются с ежемесячной абонентской платой\n",
    "    \"\"\"\n",
    "    duration = row['duration_month']\n",
    "    gb_used = row['gb_used_month']\n",
    "    messages = row['messages_count_month']\n",
    "    tariff = row['tariff']\n",
    "    if tariff == 'smart':\n",
    "        extra_duration = duration - df_tariffs.loc[0, 'minutes_included']\n",
    "        extra_gb = gb_used - (df_tariffs.loc[0, 'mb_per_month_included'] / 1024)\n",
    "        extra_messages = messages - df_tariffs.loc[0, 'messages_included']\n",
    "        if extra_duration < 0: \n",
    "          extra_duration = 0\n",
    "        if extra_gb < 0: \n",
    "          extra_gb = 0\n",
    "        if extra_messages < 0: \n",
    "          extra_messages = 0\n",
    "        return (df_tariffs.loc[0, 'rub_monthly_fee'] + \n",
    "                df_tariffs.loc[0, 'rub_per_minute'] * extra_duration +\n",
    "                df_tariffs.loc[0, 'rub_per_gb'] * extra_gb +\n",
    "                df_tariffs.loc[0, 'rub_per_message'] * extra_messages\n",
    "                )\n",
    "    else:\n",
    "        extra_duration = duration - df_tariffs.loc[1, 'minutes_included']\n",
    "        extra_gb = gb_used - (df_tariffs.loc[1, 'mb_per_month_included'] / 1024)\n",
    "        extra_messages = messages - df_tariffs.loc[1, 'messages_included']\n",
    "        if extra_duration < 0: \n",
    "          extra_duration = 0\n",
    "        if extra_gb < 0: \n",
    "          extra_gb = 0\n",
    "        if extra_messages < 0: \n",
    "          extra_messages = 0\n",
    "        return (df_tariffs.loc[1, 'rub_monthly_fee'] + \n",
    "                df_tariffs.loc[1, 'rub_per_minute'] * extra_duration + \n",
    "                df_tariffs.loc[1, 'rub_per_gb'] * extra_gb + \n",
    "                df_tariffs.loc[1, 'rub_per_message'] * extra_messages)\n",
    "\n",
    "# применим вновь созданную функцию к общей сводной таблице\n",
    "df_merged['revenue'] = df_merged.apply(revenue, axis=1)\n",
    "\n",
    "# и выведем первые 10 строк для проверки\n",
    "df_merged.head(10)"
   ]
  },
  {
   "cell_type": "code",
   "execution_count": 23,
   "metadata": {},
   "outputs": [
    {
     "data": {
      "text/plain": [
       "count    3214.000000\n",
       "mean     1529.076229\n",
       "std       798.251091\n",
       "min       550.000000\n",
       "25%       750.000000\n",
       "50%      1653.500000\n",
       "75%      1950.000000\n",
       "max      6770.000000\n",
       "Name: revenue, dtype: float64"
      ]
     },
     "execution_count": 23,
     "metadata": {},
     "output_type": "execute_result"
    }
   ],
   "source": [
    "df_merged['revenue'].describe()"
   ]
  },
  {
   "cell_type": "markdown",
   "metadata": {},
   "source": [
    "### Вывод"
   ]
  },
  {
   "cell_type": "markdown",
   "metadata": {},
   "source": [
    "В ходе подготовки данных выполнили следующее:\n",
    "* изменили типы данных, где это было необходимо с *object* на *datetime*\n",
    "* удалили ошибочный столбец `df_internet['Unnamed: 0']`\n",
    "* собрали сводные таблицы с данными по звонкам, интернету и сообщения. Затем объединили эти таблицы в итоговую. При этом округлили необъодимые значения и привели их к целочисленному типу данных.\n",
    "* добавили расчет ежемесячного дохода с пользователяв итоговую таблицу.\n",
    "\n",
    "Можно приступать к анализу собранных данных."
   ]
  },
  {
   "cell_type": "markdown",
   "metadata": {},
   "source": [
    "## Анализ данных"
   ]
  },
  {
   "cell_type": "markdown",
   "metadata": {},
   "source": [
    "Опишем поведение клиентов оператора, исходя из выборки. Рассмотрим сколько минут разговора/гигабайт трафика/количества сообщений в месяц требуется пользователям каждого тарифа в месяц.\n",
    "\n",
    "Затем рассчитаем среднее количество, дисперсию, стандартные отклонения и построим гистограммы."
   ]
  },
  {
   "cell_type": "markdown",
   "metadata": {},
   "source": [
    "### Расчет средних показателей пользования тарифными планами в месяц"
   ]
  },
  {
   "cell_type": "markdown",
   "metadata": {},
   "source": [
    "Создадим сводную таблицу со средними показателями минут разговора, использованных гигабайт трафика и отправленных сообщений в месяц каждым пользователем."
   ]
  },
  {
   "cell_type": "code",
   "execution_count": 24,
   "metadata": {},
   "outputs": [
    {
     "data": {
      "text/html": [
       "<div>\n",
       "<style scoped>\n",
       "    .dataframe tbody tr th:only-of-type {\n",
       "        vertical-align: middle;\n",
       "    }\n",
       "\n",
       "    .dataframe tbody tr th {\n",
       "        vertical-align: top;\n",
       "    }\n",
       "\n",
       "    .dataframe thead th {\n",
       "        text-align: right;\n",
       "    }\n",
       "</style>\n",
       "<table border=\"1\" class=\"dataframe\">\n",
       "  <thead>\n",
       "    <tr style=\"text-align: right;\">\n",
       "      <th></th>\n",
       "      <th>duration_mean</th>\n",
       "      <th>gb_used_mean</th>\n",
       "      <th>messages_mean</th>\n",
       "      <th>revenue_mean</th>\n",
       "      <th>tariff</th>\n",
       "    </tr>\n",
       "    <tr>\n",
       "      <th>user_id</th>\n",
       "      <th></th>\n",
       "      <th></th>\n",
       "      <th></th>\n",
       "      <th></th>\n",
       "      <th></th>\n",
       "    </tr>\n",
       "  </thead>\n",
       "  <tbody>\n",
       "    <tr>\n",
       "      <th>1000</th>\n",
       "      <td>320.750000</td>\n",
       "      <td>13.625000</td>\n",
       "      <td>62.0</td>\n",
       "      <td>1950.000000</td>\n",
       "      <td>ultra</td>\n",
       "    </tr>\n",
       "    <tr>\n",
       "      <th>1001</th>\n",
       "      <td>422.000000</td>\n",
       "      <td>16.000000</td>\n",
       "      <td>0.0</td>\n",
       "      <td>850.000000</td>\n",
       "      <td>smart</td>\n",
       "    </tr>\n",
       "    <tr>\n",
       "      <th>1002</th>\n",
       "      <td>216.714286</td>\n",
       "      <td>16.714286</td>\n",
       "      <td>10.0</td>\n",
       "      <td>1035.714286</td>\n",
       "      <td>smart</td>\n",
       "    </tr>\n",
       "    <tr>\n",
       "      <th>1003</th>\n",
       "      <td>764.400000</td>\n",
       "      <td>11.800000</td>\n",
       "      <td>76.0</td>\n",
       "      <td>1950.000000</td>\n",
       "      <td>ultra</td>\n",
       "    </tr>\n",
       "    <tr>\n",
       "      <th>1004</th>\n",
       "      <td>123.375000</td>\n",
       "      <td>18.750000</td>\n",
       "      <td>149.0</td>\n",
       "      <td>1950.000000</td>\n",
       "      <td>ultra</td>\n",
       "    </tr>\n",
       "    <tr>\n",
       "      <th>1005</th>\n",
       "      <td>550.416667</td>\n",
       "      <td>8.583333</td>\n",
       "      <td>46.0</td>\n",
       "      <td>827.000000</td>\n",
       "      <td>smart</td>\n",
       "    </tr>\n",
       "    <tr>\n",
       "      <th>1006</th>\n",
       "      <td>318.272727</td>\n",
       "      <td>15.090909</td>\n",
       "      <td>0.0</td>\n",
       "      <td>931.818182</td>\n",
       "      <td>smart</td>\n",
       "    </tr>\n",
       "    <tr>\n",
       "      <th>1007</th>\n",
       "      <td>486.555556</td>\n",
       "      <td>14.888889</td>\n",
       "      <td>25.0</td>\n",
       "      <td>913.444444</td>\n",
       "      <td>smart</td>\n",
       "    </tr>\n",
       "    <tr>\n",
       "      <th>1008</th>\n",
       "      <td>339.000000</td>\n",
       "      <td>13.000000</td>\n",
       "      <td>56.0</td>\n",
       "      <td>568.000000</td>\n",
       "      <td>smart</td>\n",
       "    </tr>\n",
       "    <tr>\n",
       "      <th>1009</th>\n",
       "      <td>218.900000</td>\n",
       "      <td>18.000000</td>\n",
       "      <td>11.0</td>\n",
       "      <td>1310.000000</td>\n",
       "      <td>smart</td>\n",
       "    </tr>\n",
       "  </tbody>\n",
       "</table>\n",
       "</div>"
      ],
      "text/plain": [
       "         duration_mean  gb_used_mean  messages_mean  revenue_mean tariff\n",
       "user_id                                                                 \n",
       "1000        320.750000     13.625000           62.0   1950.000000  ultra\n",
       "1001        422.000000     16.000000            0.0    850.000000  smart\n",
       "1002        216.714286     16.714286           10.0   1035.714286  smart\n",
       "1003        764.400000     11.800000           76.0   1950.000000  ultra\n",
       "1004        123.375000     18.750000          149.0   1950.000000  ultra\n",
       "1005        550.416667      8.583333           46.0    827.000000  smart\n",
       "1006        318.272727     15.090909            0.0    931.818182  smart\n",
       "1007        486.555556     14.888889           25.0    913.444444  smart\n",
       "1008        339.000000     13.000000           56.0    568.000000  smart\n",
       "1009        218.900000     18.000000           11.0   1310.000000  smart"
      ]
     },
     "execution_count": 24,
     "metadata": {},
     "output_type": "execute_result"
    }
   ],
   "source": [
    "# соберем сводную таблицу с данными из df_merged, применив к ним функцию среднего значения mean\n",
    "df_mean = df_merged.pivot_table(index='user_id', \n",
    "                                values = ['duration_month', 'gb_used_month', \n",
    "                                          'messages_count_month', 'revenue'], aggfunc='mean')\n",
    "df_mean.columns = ['duration_mean', 'gb_used_mean', 'messages_mean', 'revenue_mean']\n",
    "\n",
    "# добавим к сводной таблице тарифный план каждого пользователя\n",
    "for user_id in df_users['user_id']:\n",
    "    df_mean.loc[user_id, 'tariff'] = df_users.loc[user_id-1000, 'tariff']\n",
    "\n",
    "# выведем первые 10 строк сводной таблицы\n",
    "df_mean.head(10)"
   ]
  },
  {
   "cell_type": "markdown",
   "metadata": {},
   "source": [
    "После свода новой таблицы, проверим количество возможно появившихся пропусков"
   ]
  },
  {
   "cell_type": "code",
   "execution_count": 25,
   "metadata": {},
   "outputs": [
    {
     "data": {
      "text/plain": [
       "duration_mean    0.40%\n",
       "gb_used_mean     0.40%\n",
       "messages_mean    0.40%\n",
       "revenue_mean     0.40%\n",
       "tariff           0.00%\n",
       "dtype: object"
      ]
     },
     "metadata": {},
     "output_type": "display_data"
    },
    {
     "data": {
      "text/html": [
       "<div>\n",
       "<style scoped>\n",
       "    .dataframe tbody tr th:only-of-type {\n",
       "        vertical-align: middle;\n",
       "    }\n",
       "\n",
       "    .dataframe tbody tr th {\n",
       "        vertical-align: top;\n",
       "    }\n",
       "\n",
       "    .dataframe thead th {\n",
       "        text-align: right;\n",
       "    }\n",
       "</style>\n",
       "<table border=\"1\" class=\"dataframe\">\n",
       "  <thead>\n",
       "    <tr style=\"text-align: right;\">\n",
       "      <th></th>\n",
       "      <th>duration_mean</th>\n",
       "      <th>gb_used_mean</th>\n",
       "      <th>messages_mean</th>\n",
       "      <th>revenue_mean</th>\n",
       "      <th>tariff</th>\n",
       "    </tr>\n",
       "    <tr>\n",
       "      <th>user_id</th>\n",
       "      <th></th>\n",
       "      <th></th>\n",
       "      <th></th>\n",
       "      <th></th>\n",
       "      <th></th>\n",
       "    </tr>\n",
       "  </thead>\n",
       "  <tbody>\n",
       "    <tr>\n",
       "      <th>1128</th>\n",
       "      <td>True</td>\n",
       "      <td>True</td>\n",
       "      <td>True</td>\n",
       "      <td>True</td>\n",
       "      <td>False</td>\n",
       "    </tr>\n",
       "    <tr>\n",
       "      <th>1371</th>\n",
       "      <td>True</td>\n",
       "      <td>True</td>\n",
       "      <td>True</td>\n",
       "      <td>True</td>\n",
       "      <td>False</td>\n",
       "    </tr>\n",
       "  </tbody>\n",
       "</table>\n",
       "</div>"
      ],
      "text/plain": [
       "         duration_mean  gb_used_mean  messages_mean  revenue_mean  tariff\n",
       "user_id                                                                  \n",
       "1128              True          True           True          True   False\n",
       "1371              True          True           True          True   False"
      ]
     },
     "execution_count": 25,
     "metadata": {},
     "output_type": "execute_result"
    }
   ],
   "source": [
    "# посчитаем количество пропусков\n",
    "display(df_mean.isna().mean().apply('{:.2%}'.format))\n",
    "\n",
    "# посмотрим, находятся ли они в одних строках\n",
    "df_mean[df_mean['duration_mean'].isna()].isna()"
   ]
  },
  {
   "cell_type": "markdown",
   "metadata": {},
   "source": [
    "В таблице появилось 2 строчки с пропусками, но т.к. они составляют незначительную долю, всего 0,4% от общей таблицы, рекомендуется их удалить."
   ]
  },
  {
   "cell_type": "code",
   "execution_count": 26,
   "metadata": {},
   "outputs": [],
   "source": [
    "# удалим пропуски из таблицы df_mean и перезапишем ее\n",
    "df_mean.dropna(inplace=True)"
   ]
  },
  {
   "cell_type": "markdown",
   "metadata": {},
   "source": [
    "### Расчет статистических величин"
   ]
  },
  {
   "cell_type": "markdown",
   "metadata": {},
   "source": [
    "Соберем сводную таблицу по тарифам и рассчитаем среднее количество, дисперсию и стандартное отклонение."
   ]
  },
  {
   "cell_type": "code",
   "execution_count": 27,
   "metadata": {},
   "outputs": [
    {
     "data": {
      "text/html": [
       "<div>\n",
       "<style scoped>\n",
       "    .dataframe tbody tr th:only-of-type {\n",
       "        vertical-align: middle;\n",
       "    }\n",
       "\n",
       "    .dataframe tbody tr th {\n",
       "        vertical-align: top;\n",
       "    }\n",
       "\n",
       "    .dataframe thead tr th {\n",
       "        text-align: left;\n",
       "    }\n",
       "\n",
       "    .dataframe thead tr:last-of-type th {\n",
       "        text-align: right;\n",
       "    }\n",
       "</style>\n",
       "<table border=\"1\" class=\"dataframe\">\n",
       "  <thead>\n",
       "    <tr>\n",
       "      <th></th>\n",
       "      <th colspan=\"3\" halign=\"left\">duration_mean</th>\n",
       "      <th colspan=\"3\" halign=\"left\">gb_used_mean</th>\n",
       "      <th colspan=\"3\" halign=\"left\">messages_mean</th>\n",
       "    </tr>\n",
       "    <tr>\n",
       "      <th></th>\n",
       "      <th>mean</th>\n",
       "      <th>std</th>\n",
       "      <th>var</th>\n",
       "      <th>mean</th>\n",
       "      <th>std</th>\n",
       "      <th>var</th>\n",
       "      <th>mean</th>\n",
       "      <th>std</th>\n",
       "      <th>var</th>\n",
       "    </tr>\n",
       "    <tr>\n",
       "      <th>tariff</th>\n",
       "      <th></th>\n",
       "      <th></th>\n",
       "      <th></th>\n",
       "      <th></th>\n",
       "      <th></th>\n",
       "      <th></th>\n",
       "      <th></th>\n",
       "      <th></th>\n",
       "      <th></th>\n",
       "    </tr>\n",
       "  </thead>\n",
       "  <tbody>\n",
       "    <tr>\n",
       "      <th>smart</th>\n",
       "      <td>419.634803</td>\n",
       "      <td>145.031543</td>\n",
       "      <td>21034.148607</td>\n",
       "      <td>16.308519</td>\n",
       "      <td>3.501643</td>\n",
       "      <td>12.261503</td>\n",
       "      <td>32.352078</td>\n",
       "      <td>26.512448</td>\n",
       "      <td>702.909910</td>\n",
       "    </tr>\n",
       "    <tr>\n",
       "      <th>ultra</th>\n",
       "      <td>527.821819</td>\n",
       "      <td>281.786359</td>\n",
       "      <td>79403.551850</td>\n",
       "      <td>19.588446</td>\n",
       "      <td>8.116120</td>\n",
       "      <td>65.871402</td>\n",
       "      <td>54.030743</td>\n",
       "      <td>46.366246</td>\n",
       "      <td>2149.828793</td>\n",
       "    </tr>\n",
       "  </tbody>\n",
       "</table>\n",
       "</div>"
      ],
      "text/plain": [
       "       duration_mean                           gb_used_mean            \\\n",
       "                mean         std           var         mean       std   \n",
       "tariff                                                                  \n",
       "smart     419.634803  145.031543  21034.148607    16.308519  3.501643   \n",
       "ultra     527.821819  281.786359  79403.551850    19.588446  8.116120   \n",
       "\n",
       "                  messages_mean                          \n",
       "              var          mean        std          var  \n",
       "tariff                                                   \n",
       "smart   12.261503     32.352078  26.512448   702.909910  \n",
       "ultra   65.871402     54.030743  46.366246  2149.828793  "
      ]
     },
     "execution_count": 27,
     "metadata": {},
     "output_type": "execute_result"
    }
   ],
   "source": [
    "# соберем сводную таблицу по тарифам, посчитав среднее/дисперсию/стандартное отклонение\n",
    "# для среднего потребления всех видов услуг в месяц пользователем\n",
    "df_analysis = df_mean.pivot_table(index='tariff', values=['duration_mean', 'gb_used_mean', 'messages_mean'], \n",
    "                                  aggfunc={'duration_mean': [np.mean, np.var, np.std],\n",
    "                                           'gb_used_mean': [np.mean, np.var, np.std],\n",
    "                                           'messages_mean': [np.mean, np.var, np.std]})\n",
    "\n",
    "# и выведем эту сводную таблицу на экран\n",
    "df_analysis"
   ]
  },
  {
   "cell_type": "code",
   "execution_count": 28,
   "metadata": {},
   "outputs": [
    {
     "data": {
      "text/html": [
       "<div>\n",
       "<style scoped>\n",
       "    .dataframe tbody tr th:only-of-type {\n",
       "        vertical-align: middle;\n",
       "    }\n",
       "\n",
       "    .dataframe tbody tr th {\n",
       "        vertical-align: top;\n",
       "    }\n",
       "\n",
       "    .dataframe thead th {\n",
       "        text-align: right;\n",
       "    }\n",
       "</style>\n",
       "<table border=\"1\" class=\"dataframe\">\n",
       "  <thead>\n",
       "    <tr style=\"text-align: right;\">\n",
       "      <th></th>\n",
       "      <th>tariff</th>\n",
       "      <th>smart</th>\n",
       "      <th>ultra</th>\n",
       "    </tr>\n",
       "  </thead>\n",
       "  <tbody>\n",
       "    <tr>\n",
       "      <th rowspan=\"3\" valign=\"top\">duration_mean</th>\n",
       "      <th>mean</th>\n",
       "      <td>419.634803</td>\n",
       "      <td>527.821819</td>\n",
       "    </tr>\n",
       "    <tr>\n",
       "      <th>std</th>\n",
       "      <td>145.031543</td>\n",
       "      <td>281.786359</td>\n",
       "    </tr>\n",
       "    <tr>\n",
       "      <th>var</th>\n",
       "      <td>21034.148607</td>\n",
       "      <td>79403.551850</td>\n",
       "    </tr>\n",
       "    <tr>\n",
       "      <th rowspan=\"3\" valign=\"top\">gb_used_mean</th>\n",
       "      <th>mean</th>\n",
       "      <td>16.308519</td>\n",
       "      <td>19.588446</td>\n",
       "    </tr>\n",
       "    <tr>\n",
       "      <th>std</th>\n",
       "      <td>3.501643</td>\n",
       "      <td>8.116120</td>\n",
       "    </tr>\n",
       "    <tr>\n",
       "      <th>var</th>\n",
       "      <td>12.261503</td>\n",
       "      <td>65.871402</td>\n",
       "    </tr>\n",
       "    <tr>\n",
       "      <th rowspan=\"3\" valign=\"top\">messages_mean</th>\n",
       "      <th>mean</th>\n",
       "      <td>32.352078</td>\n",
       "      <td>54.030743</td>\n",
       "    </tr>\n",
       "    <tr>\n",
       "      <th>std</th>\n",
       "      <td>26.512448</td>\n",
       "      <td>46.366246</td>\n",
       "    </tr>\n",
       "    <tr>\n",
       "      <th>var</th>\n",
       "      <td>702.909910</td>\n",
       "      <td>2149.828793</td>\n",
       "    </tr>\n",
       "  </tbody>\n",
       "</table>\n",
       "</div>"
      ],
      "text/plain": [
       "tariff                     smart         ultra\n",
       "duration_mean mean    419.634803    527.821819\n",
       "              std     145.031543    281.786359\n",
       "              var   21034.148607  79403.551850\n",
       "gb_used_mean  mean     16.308519     19.588446\n",
       "              std       3.501643      8.116120\n",
       "              var      12.261503     65.871402\n",
       "messages_mean mean     32.352078     54.030743\n",
       "              std      26.512448     46.366246\n",
       "              var     702.909910   2149.828793"
      ]
     },
     "execution_count": 28,
     "metadata": {},
     "output_type": "execute_result"
    }
   ],
   "source": [
    "df_analysis.T"
   ]
  },
  {
   "cell_type": "markdown",
   "metadata": {},
   "source": [
    "Построим гистограммы и диаграммы размаха по статистическим данным относительно обоих тарифов."
   ]
  },
  {
   "cell_type": "code",
   "execution_count": 29,
   "metadata": {},
   "outputs": [
    {
     "data": {
      "image/png": "[encoded data removed]",
      "text/plain": [
       "<Figure size 720x432 with 1 Axes>"
      ]
     },
     "metadata": {
      "needs_background": "light"
     },
     "output_type": "display_data"
    }
   ],
   "source": [
    "# используя цикл построим гистограмму средней длительности звонков пользователей в месяц\n",
    "# для обоих тарифо\n",
    "for tariff in ['ultra', 'smart']:\n",
    "    df_mean.query('tariff == @tariff')['duration_mean'].plot.hist(\n",
    "        bins=20, alpha=0.5, figsize=(10, 6), \n",
    "        grid=True, title='Гистограмма длительности звонков').set(xlabel='Средняя длительность разговоров в месяц, мин.')\n",
    "    plt.legend(['Ультра', 'Смарт'])"
   ]
  },
  {
   "cell_type": "code",
   "execution_count": 30,
   "metadata": {},
   "outputs": [
    {
     "data": {
      "image/png": "[encoded data removed]",
      "text/plain": [
       "<Figure size 720x432 with 1 Axes>"
      ]
     },
     "metadata": {
      "needs_background": "light"
     },
     "output_type": "display_data"
    }
   ],
   "source": [
    "# используя цикл построим гистограмму среднего количества затраченного трафика\n",
    "# пользователем в месяц для обоих тарифов  \n",
    "for tariff in ['ultra', 'smart']:\n",
    "    df_mean.query('tariff == @tariff')['gb_used_mean'].plot.hist(\n",
    "        bins=20, alpha=0.5, figsize=(10, 6), \n",
    "        grid=True, title='Гистограмма использованного трафика').set(xlabel='Среднее потребление трафика в месяц, Гб.')\n",
    "    plt.legend(['Ультра', 'Смарт'])"
   ]
  },
  {
   "cell_type": "code",
   "execution_count": 31,
   "metadata": {},
   "outputs": [
    {
     "data": {
      "image/png": "[encoded data removed]",
      "text/plain": [
       "<Figure size 720x432 with 1 Axes>"
      ]
     },
     "metadata": {
      "needs_background": "light"
     },
     "output_type": "display_data"
    }
   ],
   "source": [
    "# используя цикл построим гистограмму среднего количества отправленных сообщений\n",
    "# пользователем в месяц для обоих тарифов\n",
    "for tariff in ['ultra', 'smart']:\n",
    "    df_mean.query('tariff == @tariff')['messages_mean'].plot.hist(\n",
    "        bins=20, alpha=0.5, figsize=(10, 6), \n",
    "        grid=True, title='Гистограмма отправленных сообщений').set(xlabel='Среднее количество сообщений в месяц, шт.')\n",
    "    plt.legend(['Ультра', 'Смарт'])"
   ]
  },
  {
   "cell_type": "code",
   "execution_count": 32,
   "metadata": {},
   "outputs": [
    {
     "data": {
      "image/png": "[encoded data removed]",
      "text/plain": [
       "<Figure size 432x288 with 1 Axes>"
      ]
     },
     "metadata": {
      "needs_background": "light"
     },
     "output_type": "display_data"
    },
    {
     "data": {
      "image/png": "[encoded data removed]",
      "text/plain": [
       "<Figure size 432x288 with 1 Axes>"
      ]
     },
     "metadata": {
      "needs_background": "light"
     },
     "output_type": "display_data"
    },
    {
     "data": {
      "image/png": "[encoded data removed]",
      "text/plain": [
       "<Figure size 432x288 with 1 Axes>"
      ]
     },
     "metadata": {
      "needs_background": "light"
     },
     "output_type": "display_data"
    }
   ],
   "source": [
    "# циклом построим три диаграммы размаха для каждого параметра по обоим тарифам\n",
    "for column in ['duration_mean', 'gb_used_mean', 'messages_mean']:\n",
    "    sns.boxplot(x='tariff', y=column, data=df_mean).set(\n",
    "        title='Диаграмма размаха', xlabel='Тариф')\n",
    "    plt.show()"
   ]
  },
  {
   "cell_type": "markdown",
   "metadata": {},
   "source": [
    "### Вывод"
   ]
  },
  {
   "cell_type": "markdown",
   "metadata": {},
   "source": [
    "Проанализируем распределение данных по гистограммам:\n",
    "1. Средняя продолжительности звонка в месяц:\n",
    "* \"Смарт\" имеет нормально распределение с небольшим отрицательным смещением;\n",
    "* \"Ультра\" имеет нормальное распределение.\n",
    "2. Среднее потребление трафика в месяц:\n",
    "* \"Смарт\" нормально распределен с ярко выраженной модой в районе 15 Гб (включенных в тарифный пакет).\n",
    "* \"Ультра\" нормально распределен с положительным смещением.\n",
    "3. Среднее количество отправленных сообщений: \"Смарт\" и \"Ультра\" характеризуются распределением Пуассона с пиком в 0 значении. Это может быть связано с тем, что с развитием интернета и мессенджеров люди стали меньше пользоваться стандартными сообщениями (в том числе я). Что интересно, на тарифе \"Смарт\" присутствуют выбросы свыше 100, т.е. даже с пиком нулевого значения есть пользователи, которым не хватает 50 сообщений в тарифном пакете.\n",
    "\n",
    "Исходя из расчитанных данных, мы видим, что **среднее, дисперсия и стандартное отклонение больше у пользователей тарифов \"Ультра\"**. \n",
    "\n",
    "На диаграмме размах видны выбросы по данным тарифа \"Смарт\". Это может быть связано с тем, что **пользователи \"Смарт\" чаще выходят за рамки тарифного пакета**.\n",
    "\n",
    "Проанализировав данные пользователей, можно сказать, что пользователи \"Ультра\" более гибки в пользовании услугами связи, когда пользователи \"Смарт\" стараются ограничивать себя рамками заданного тарифом объема."
   ]
  },
  {
   "cell_type": "markdown",
   "metadata": {},
   "source": [
    "## Проверка гипотез"
   ]
  },
  {
   "cell_type": "markdown",
   "metadata": {},
   "source": [
    "Проверим две гипотезы:\n",
    "* средняя выручка пользователей тарифов «Ультра» и «Смарт» различаются;\n",
    "* средняя выручка пользователи из Москвы отличается от выручки пользователей из других регионов."
   ]
  },
  {
   "cell_type": "markdown",
   "metadata": {},
   "source": [
    "### Сравнение средней выручки пользоватей между тарифами"
   ]
  },
  {
   "cell_type": "markdown",
   "metadata": {},
   "source": [
    "Для начала сформулируем нулевую `H0` и альтернативную `Н1` гипотезы:\n",
    "* `H0` - средняя выручка пользователей тарифов \"Смарт\" и \"Ультра\" равна\n",
    "* `Н1` - средняя выручка пользователей тарифов \"Смарт\" и \"Ультра\" различается.\n",
    "\n",
    "Для сравнения этих гипотез воспользуемся t-тестом Стьюдента. Пороговое значение alpha примем равным 1%. Мы уверены в том, что дисперсия двух выборок разная."
   ]
  },
  {
   "cell_type": "code",
   "execution_count": 33,
   "metadata": {},
   "outputs": [
    {
     "name": "stdout",
     "output_type": "stream",
     "text": [
      "р-значение: 4.2606313931076085e-250\n",
      "Cредняя выручка пользователей тарифов \"Смарт\" и \"Ультра\" различается\n"
     ]
    }
   ],
   "source": [
    "# назначим переменные для выручки revenue по тарифам \"Смарт\" и \"Ультра\" \n",
    "smart = df_merged.query('tariff == \"smart\"')['revenue']\n",
    "ultra = df_merged.query('tariff == \"ultra\"')['revenue']\n",
    "\n",
    "# alpha назначим 1%, дисперсия выборок разная\n",
    "alpha = .01\n",
    "results = st.ttest_ind(smart, ultra, equal_var=False)\n",
    "\n",
    "# рассчитаем p-value и выведем значения\n",
    "print('р-значение:', results.pvalue)\n",
    "if (results.pvalue < alpha):\n",
    "    print('Cредняя выручка пользователей тарифов \"Смарт\" и \"Ультра\" различается')\n",
    "else:\n",
    "    print('Cредняя выручка пользователей тарифов \"Смарт\" и \"Ультра\" равна')"
   ]
  },
  {
   "cell_type": "code",
   "execution_count": 34,
   "metadata": {},
   "outputs": [
    {
     "data": {
      "text/html": [
       "<div>\n",
       "<style scoped>\n",
       "    .dataframe tbody tr th:only-of-type {\n",
       "        vertical-align: middle;\n",
       "    }\n",
       "\n",
       "    .dataframe tbody tr th {\n",
       "        vertical-align: top;\n",
       "    }\n",
       "\n",
       "    .dataframe thead th {\n",
       "        text-align: right;\n",
       "    }\n",
       "</style>\n",
       "<table border=\"1\" class=\"dataframe\">\n",
       "  <thead>\n",
       "    <tr style=\"text-align: right;\">\n",
       "      <th></th>\n",
       "      <th>tariff</th>\n",
       "      <th>revenue</th>\n",
       "      <th>extra_fee</th>\n",
       "      <th>extra_fee_share</th>\n",
       "    </tr>\n",
       "  </thead>\n",
       "  <tbody>\n",
       "    <tr>\n",
       "      <th>0</th>\n",
       "      <td>smart</td>\n",
       "      <td>1289.973531</td>\n",
       "      <td>739.973531</td>\n",
       "      <td>0.573635</td>\n",
       "    </tr>\n",
       "    <tr>\n",
       "      <th>1</th>\n",
       "      <td>ultra</td>\n",
       "      <td>2070.152284</td>\n",
       "      <td>120.152284</td>\n",
       "      <td>0.058040</td>\n",
       "    </tr>\n",
       "  </tbody>\n",
       "</table>\n",
       "</div>"
      ],
      "text/plain": [
       "  tariff      revenue   extra_fee  extra_fee_share\n",
       "0  smart  1289.973531  739.973531         0.573635\n",
       "1  ultra  2070.152284  120.152284         0.058040"
      ]
     },
     "execution_count": 34,
     "metadata": {},
     "output_type": "execute_result"
    }
   ],
   "source": [
    "# дополнительно рассчитаем среднюю выручку по тарифам для подкрепления гипотезы\n",
    "# также рассчитаем превышение абонентской платы в рублях и в долях\n",
    "df_merged_pivot = df_merged.pivot_table(index='tariff', values='revenue', aggfunc='mean')\n",
    "df_merged_pivot.reset_index(inplace=True)\n",
    "df_merged_pivot['extra_fee'] = df_merged_pivot['revenue'] - df_tariffs['rub_monthly_fee']\n",
    "df_merged_pivot['extra_fee_share'] = 1 - df_tariffs['rub_monthly_fee'] / df_merged_pivot['revenue']\n",
    "df_merged_pivot"
   ]
  },
  {
   "cell_type": "markdown",
   "metadata": {},
   "source": [
    "Расчет показал, что значение p-value меньше 1%. Соответственно мы подтвердили, что **средняя выручка пользователей тарифов \"Смарт\" и \"Ультра\" различается**. Это же подтвердил расчет средней выручки по таблице. Также увидели, что средний пользователь тарифа \"Смарт\" превышает плату по абонентской плате на 57%, когда средний пользователь \"Смарт\" всего лишь на 5%."
   ]
  },
  {
   "cell_type": "markdown",
   "metadata": {},
   "source": [
    "### Сравнение средней выручки между пользователями из Москвы и других регионов"
   ]
  },
  {
   "cell_type": "markdown",
   "metadata": {},
   "source": [
    "Также сформулируем нулевую `H0` и альтернативную `Н1` гипотезы:\n",
    "* `H0` - средняя выручка пользователей из Москвы и других регионов равна\n",
    "* `Н1` - средняя выручка пользователей из Москвы и других регионов различается\n",
    "\n",
    "Для сравнения этих гипотез воспользуемся t-тестом Стьюдента. Пороговое значение alpha примем равным 1%. Мы уверены в том, что дисперсия двух выборок разная. Но перел тестом добавим населенные пункты пользователей из таблицы `df_users`."
   ]
  },
  {
   "cell_type": "code",
   "execution_count": 35,
   "metadata": {},
   "outputs": [],
   "source": [
    "# добавим населенный пункт пользователя в общую сводную таблицу\n",
    "for user in df_merged.index:\n",
    "    df_merged.loc[user, 'city'] = df_users.loc[user[0]-1000, 'city']\n",
    "    \n",
    "# и переименуем города, отличные от Москвы в лругой регион с помощью функции\n",
    "def other_region(city):\n",
    "    \"\"\"\n",
    "    функция переименовывает название населенного пункта, согласно правилу:\n",
    "    название, отличное от \"Москва\" переименовывает в \"другой регион\"\n",
    "    \"\"\"\n",
    "    if city == 'Москва':\n",
    "        return 'Москва'\n",
    "    return 'другой регион'\n",
    "\n",
    "# применим вновь созданную функцию к общей сводной таблице\n",
    "df_merged['city'] = df_merged['city'].apply(other_region)"
   ]
  },
  {
   "cell_type": "code",
   "execution_count": 36,
   "metadata": {},
   "outputs": [
    {
     "name": "stdout",
     "output_type": "stream",
     "text": [
      "р-значение: 0.5257376663729298\n",
      "Cредняя выручка пользователей из Москвы и других регионов равна\n"
     ]
    }
   ],
   "source": [
    "# назначим переменные для выручки revenue по Москве и другим регионам   \n",
    "moscow = df_merged.query('city == \"Москва\"')['revenue']\n",
    "other_region = df_merged.query('city != \"Москва\"')['revenue']\n",
    "\n",
    "# alpha назначим 1%, дисперсия выборок разная\n",
    "alpha = .01\n",
    "results = st.ttest_ind(moscow, other_region, equal_var=False)\n",
    "\n",
    "# рассчитаем p-value и выведем значения\n",
    "print('р-значение:', results.pvalue)\n",
    "if (results.pvalue < alpha):\n",
    "    print(\"Cредняя выручка пользователей из Москвы и других регионов различается\")\n",
    "else:\n",
    "    print(\"Cредняя выручка пользователей из Москвы и других регионов равна\")"
   ]
  },
  {
   "cell_type": "code",
   "execution_count": 37,
   "metadata": {},
   "outputs": [
    {
     "data": {
      "text/html": [
       "<div>\n",
       "<style scoped>\n",
       "    .dataframe tbody tr th:only-of-type {\n",
       "        vertical-align: middle;\n",
       "    }\n",
       "\n",
       "    .dataframe tbody tr th {\n",
       "        vertical-align: top;\n",
       "    }\n",
       "\n",
       "    .dataframe thead th {\n",
       "        text-align: right;\n",
       "    }\n",
       "</style>\n",
       "<table border=\"1\" class=\"dataframe\">\n",
       "  <thead>\n",
       "    <tr style=\"text-align: right;\">\n",
       "      <th></th>\n",
       "      <th>revenue</th>\n",
       "    </tr>\n",
       "    <tr>\n",
       "      <th>city</th>\n",
       "      <th></th>\n",
       "    </tr>\n",
       "  </thead>\n",
       "  <tbody>\n",
       "    <tr>\n",
       "      <th>Москва</th>\n",
       "      <td>1546.713584</td>\n",
       "    </tr>\n",
       "    <tr>\n",
       "      <th>другой регион</th>\n",
       "      <td>1524.936227</td>\n",
       "    </tr>\n",
       "  </tbody>\n",
       "</table>\n",
       "</div>"
      ],
      "text/plain": [
       "                   revenue\n",
       "city                      \n",
       "Москва         1546.713584\n",
       "другой регион  1524.936227"
      ]
     },
     "execution_count": 37,
     "metadata": {},
     "output_type": "execute_result"
    }
   ],
   "source": [
    "# дополнительно рассчитаем среднюю выручку по городам для подкрепления гипотезы\n",
    "df_merged.pivot_table(index='city', values='revenue', aggfunc='mean')"
   ]
  },
  {
   "cell_type": "markdown",
   "metadata": {},
   "source": [
    "Расчет показал, что значение p-value составляет 52,3 %. Соответственно мы подтвердили, что **средняя выручка пользователей тарифов \"Смарт\" и \"Ультра\" равна**. Это же подтвердил расчет средней выручке по таблице."
   ]
  },
  {
   "cell_type": "markdown",
   "metadata": {},
   "source": [
    "## Общий вывод"
   ]
  },
  {
   "cell_type": "markdown",
   "metadata": {},
   "source": [
    "Перед исследованием, стояла задача - проанализировать данные пользователей оператора сотовой связи «Мегалайн» и ответить на вопрос, какой из представленных тарифов лучше.\n",
    "\n",
    "Проведя анализ данных, можно сделать следующие вывода:\n",
    "* среднемесячная выручка от пользователя тарифа \"Ультра\" выше, чем от пользователя тарифа \"Смарт\" и составляет 2070 и 1290 рублей соответственно;\n",
    "* пользователи \"Смарт\" , в основном, стараются укладываться в рамки тарифного пакета, когда пользователи \"Ультра\" не расходуют весь пакет услуг;\n",
    "* пользователи \"Смарт\" в среднем превышают месячную абонентскую плату на +57% (+740 рублей), когда пользователи \"Ультра\" всего на + 5% (+120 рублей);\n",
    "* среднемесячная выручка от пользователя из Москвы не отличается от пользователя из других регионов: 1546 и 1525 рублей соответственно.\n",
    "\n",
    "Если брать критерий дохода от пользователя одного или другого тарифов в качестве оценки, то можно сказать, что **тариф \"Ультра\" лучше тарифа \"Смарт\"**, т.к. его среднемесячная выручка больше."
   ]
  }
 ],
 "metadata": {
  "ExecuteTimeLog": [
   {
    "duration": 551,
    "start_time": "2022-02-06T06:36:24.196Z"
   },
   {
    "duration": -295,
    "start_time": "2022-02-06T06:36:25.045Z"
   },
   {
    "duration": -295,
    "start_time": "2022-02-06T06:36:25.046Z"
   },
   {
    "duration": -294,
    "start_time": "2022-02-06T06:36:25.047Z"
   },
   {
    "duration": -295,
    "start_time": "2022-02-06T06:36:25.049Z"
   },
   {
    "duration": -294,
    "start_time": "2022-02-06T06:36:25.050Z"
   },
   {
    "duration": -295,
    "start_time": "2022-02-06T06:36:25.052Z"
   },
   {
    "duration": -294,
    "start_time": "2022-02-06T06:36:25.053Z"
   },
   {
    "duration": -294,
    "start_time": "2022-02-06T06:36:25.054Z"
   },
   {
    "duration": -294,
    "start_time": "2022-02-06T06:36:25.055Z"
   },
   {
    "duration": -295,
    "start_time": "2022-02-06T06:36:25.057Z"
   },
   {
    "duration": -294,
    "start_time": "2022-02-06T06:36:25.058Z"
   },
   {
    "duration": -294,
    "start_time": "2022-02-06T06:36:25.060Z"
   },
   {
    "duration": -294,
    "start_time": "2022-02-06T06:36:25.061Z"
   },
   {
    "duration": -294,
    "start_time": "2022-02-06T06:36:25.063Z"
   },
   {
    "duration": -295,
    "start_time": "2022-02-06T06:36:25.065Z"
   },
   {
    "duration": 460,
    "start_time": "2022-02-06T06:36:24.787Z"
   },
   {
    "duration": 61,
    "start_time": "2022-02-06T06:36:25.190Z"
   },
   {
    "duration": 61,
    "start_time": "2022-02-06T06:36:25.192Z"
   },
   {
    "duration": 62,
    "start_time": "2022-02-06T06:36:25.193Z"
   },
   {
    "duration": 61,
    "start_time": "2022-02-06T06:36:25.195Z"
   },
   {
    "duration": 62,
    "start_time": "2022-02-06T06:36:25.196Z"
   },
   {
    "duration": 63,
    "start_time": "2022-02-06T06:36:25.197Z"
   },
   {
    "duration": 63,
    "start_time": "2022-02-06T06:36:25.198Z"
   },
   {
    "duration": 63,
    "start_time": "2022-02-06T06:36:25.200Z"
   },
   {
    "duration": 1396,
    "start_time": "2022-02-06T06:37:05.465Z"
   },
   {
    "duration": 523,
    "start_time": "2022-02-06T06:37:06.864Z"
   },
   {
    "duration": 218,
    "start_time": "2022-02-06T06:37:07.390Z"
   },
   {
    "duration": 197,
    "start_time": "2022-02-06T06:37:07.610Z"
   },
   {
    "duration": 116,
    "start_time": "2022-02-06T06:37:07.810Z"
   },
   {
    "duration": 73,
    "start_time": "2022-02-06T06:37:07.929Z"
   },
   {
    "duration": 70,
    "start_time": "2022-02-06T06:37:08.005Z"
   },
   {
    "duration": 7,
    "start_time": "2022-02-06T06:37:08.077Z"
   },
   {
    "duration": 125,
    "start_time": "2022-02-06T06:37:08.088Z"
   },
   {
    "duration": 12,
    "start_time": "2022-02-06T06:37:08.216Z"
   },
   {
    "duration": 17,
    "start_time": "2022-02-06T06:37:08.231Z"
   },
   {
    "duration": 65,
    "start_time": "2022-02-06T06:37:08.251Z"
   },
   {
    "duration": 103,
    "start_time": "2022-02-06T06:37:08.318Z"
   },
   {
    "duration": 63,
    "start_time": "2022-02-06T06:37:08.423Z"
   },
   {
    "duration": 45,
    "start_time": "2022-02-06T06:37:08.488Z"
   },
   {
    "duration": 35,
    "start_time": "2022-02-06T06:37:08.536Z"
   },
   {
    "duration": 3075,
    "start_time": "2022-02-06T06:37:08.573Z"
   },
   {
    "duration": 14,
    "start_time": "2022-02-06T06:37:11.651Z"
   },
   {
    "duration": 1538,
    "start_time": "2022-02-06T06:37:11.667Z"
   },
   {
    "duration": 340,
    "start_time": "2022-02-06T06:37:13.208Z"
   },
   {
    "duration": 14,
    "start_time": "2022-02-06T06:37:13.551Z"
   },
   {
    "duration": 21,
    "start_time": "2022-02-06T06:37:13.568Z"
   },
   {
    "duration": 7,
    "start_time": "2022-02-06T06:37:13.592Z"
   },
   {
    "duration": 80,
    "start_time": "2022-02-06T06:37:13.602Z"
   },
   {
    "duration": 26,
    "start_time": "2022-02-06T06:40:46.841Z"
   },
   {
    "duration": 371,
    "start_time": "2022-02-06T06:41:20.411Z"
   },
   {
    "duration": 1364,
    "start_time": "2022-02-06T06:41:40.037Z"
   },
   {
    "duration": 481,
    "start_time": "2022-02-06T06:41:41.404Z"
   },
   {
    "duration": 202,
    "start_time": "2022-02-06T06:41:41.888Z"
   },
   {
    "duration": 208,
    "start_time": "2022-02-06T06:41:42.093Z"
   },
   {
    "duration": 110,
    "start_time": "2022-02-06T06:41:42.304Z"
   },
   {
    "duration": 66,
    "start_time": "2022-02-06T06:41:42.417Z"
   },
   {
    "duration": 67,
    "start_time": "2022-02-06T06:41:42.485Z"
   },
   {
    "duration": 6,
    "start_time": "2022-02-06T06:41:42.555Z"
   },
   {
    "duration": 113,
    "start_time": "2022-02-06T06:41:42.564Z"
   },
   {
    "duration": 11,
    "start_time": "2022-02-06T06:41:42.679Z"
   },
   {
    "duration": 9,
    "start_time": "2022-02-06T06:41:42.693Z"
   },
   {
    "duration": 84,
    "start_time": "2022-02-06T06:41:42.704Z"
   },
   {
    "duration": 90,
    "start_time": "2022-02-06T06:41:42.791Z"
   },
   {
    "duration": 46,
    "start_time": "2022-02-06T06:41:42.884Z"
   },
   {
    "duration": 50,
    "start_time": "2022-02-06T06:41:42.932Z"
   },
   {
    "duration": 24,
    "start_time": "2022-02-06T06:41:42.984Z"
   },
   {
    "duration": 3023,
    "start_time": "2022-02-06T06:41:43.010Z"
   },
   {
    "duration": 18,
    "start_time": "2022-02-06T06:41:46.036Z"
   },
   {
    "duration": 927,
    "start_time": "2022-02-06T06:41:46.057Z"
   },
   {
    "duration": 370,
    "start_time": "2022-02-06T06:41:46.986Z"
   },
   {
    "duration": 18,
    "start_time": "2022-02-06T06:41:47.358Z"
   },
   {
    "duration": 7,
    "start_time": "2022-02-06T06:41:47.378Z"
   },
   {
    "duration": 71,
    "start_time": "2022-02-06T06:41:47.389Z"
   },
   {
    "duration": 96,
    "start_time": "2022-02-06T06:46:53.568Z"
   },
   {
    "duration": 99,
    "start_time": "2022-02-06T06:47:46.479Z"
   },
   {
    "duration": 20,
    "start_time": "2022-02-06T06:48:35.508Z"
   },
   {
    "duration": 203,
    "start_time": "2022-02-06T06:49:34.219Z"
   },
   {
    "duration": 214,
    "start_time": "2022-02-06T06:49:50.624Z"
   },
   {
    "duration": 118,
    "start_time": "2022-02-06T06:52:37.580Z"
   },
   {
    "duration": 101,
    "start_time": "2022-02-06T06:53:08.774Z"
   },
   {
    "duration": 94,
    "start_time": "2022-02-06T06:53:15.288Z"
   },
   {
    "duration": 96,
    "start_time": "2022-02-06T06:53:25.082Z"
   },
   {
    "duration": 97,
    "start_time": "2022-02-06T06:53:29.104Z"
   },
   {
    "duration": 123,
    "start_time": "2022-02-06T06:53:58.452Z"
   },
   {
    "duration": 57,
    "start_time": "2022-02-06T06:54:13.537Z"
   },
   {
    "duration": 46,
    "start_time": "2022-02-06T06:54:31.672Z"
   },
   {
    "duration": 100,
    "start_time": "2022-02-06T07:04:52.554Z"
   },
   {
    "duration": 16,
    "start_time": "2022-02-06T07:04:59.456Z"
   },
   {
    "duration": 15,
    "start_time": "2022-02-06T07:05:14.487Z"
   },
   {
    "duration": 16,
    "start_time": "2022-02-06T07:05:17.627Z"
   },
   {
    "duration": 18,
    "start_time": "2022-02-06T07:05:22.692Z"
   },
   {
    "duration": 17,
    "start_time": "2022-02-06T07:05:30.162Z"
   },
   {
    "duration": 16,
    "start_time": "2022-02-06T07:05:37.683Z"
   },
   {
    "duration": 1404,
    "start_time": "2022-02-06T07:06:06.009Z"
   },
   {
    "duration": 486,
    "start_time": "2022-02-06T07:06:07.416Z"
   },
   {
    "duration": 207,
    "start_time": "2022-02-06T07:06:07.905Z"
   },
   {
    "duration": 180,
    "start_time": "2022-02-06T07:06:08.115Z"
   },
   {
    "duration": 111,
    "start_time": "2022-02-06T07:06:08.298Z"
   },
   {
    "duration": 70,
    "start_time": "2022-02-06T07:06:08.411Z"
   },
   {
    "duration": 73,
    "start_time": "2022-02-06T07:06:08.483Z"
   },
   {
    "duration": 6,
    "start_time": "2022-02-06T07:06:08.560Z"
   },
   {
    "duration": 107,
    "start_time": "2022-02-06T07:06:08.569Z"
   },
   {
    "duration": 10,
    "start_time": "2022-02-06T07:06:08.679Z"
   },
   {
    "duration": 8,
    "start_time": "2022-02-06T07:06:08.692Z"
   },
   {
    "duration": 84,
    "start_time": "2022-02-06T07:06:08.703Z"
   },
   {
    "duration": 87,
    "start_time": "2022-02-06T07:06:08.790Z"
   },
   {
    "duration": 46,
    "start_time": "2022-02-06T07:06:08.880Z"
   },
   {
    "duration": 56,
    "start_time": "2022-02-06T07:06:08.929Z"
   },
   {
    "duration": 25,
    "start_time": "2022-02-06T07:06:08.988Z"
   },
   {
    "duration": 3059,
    "start_time": "2022-02-06T07:06:09.015Z"
   },
   {
    "duration": 14,
    "start_time": "2022-02-06T07:06:12.076Z"
   },
   {
    "duration": 936,
    "start_time": "2022-02-06T07:06:12.093Z"
   },
   {
    "duration": 347,
    "start_time": "2022-02-06T07:06:13.032Z"
   },
   {
    "duration": 17,
    "start_time": "2022-02-06T07:06:13.382Z"
   },
   {
    "duration": 6,
    "start_time": "2022-02-06T07:06:13.401Z"
   },
   {
    "duration": 71,
    "start_time": "2022-02-06T07:06:13.411Z"
   },
   {
    "duration": 16,
    "start_time": "2022-02-06T07:06:42.048Z"
   },
   {
    "duration": 1414,
    "start_time": "2022-02-06T07:06:49.583Z"
   },
   {
    "duration": 608,
    "start_time": "2022-02-06T07:06:51.000Z"
   },
   {
    "duration": 214,
    "start_time": "2022-02-06T07:06:51.612Z"
   },
   {
    "duration": 192,
    "start_time": "2022-02-06T07:06:51.830Z"
   },
   {
    "duration": 169,
    "start_time": "2022-02-06T07:06:52.025Z"
   },
   {
    "duration": 100,
    "start_time": "2022-02-06T07:06:52.197Z"
   },
   {
    "duration": 82,
    "start_time": "2022-02-06T07:06:52.300Z"
   },
   {
    "duration": 7,
    "start_time": "2022-02-06T07:06:52.387Z"
   },
   {
    "duration": 124,
    "start_time": "2022-02-06T07:06:52.397Z"
   },
   {
    "duration": 12,
    "start_time": "2022-02-06T07:06:52.523Z"
   },
   {
    "duration": 13,
    "start_time": "2022-02-06T07:06:52.538Z"
   },
   {
    "duration": 65,
    "start_time": "2022-02-06T07:06:52.553Z"
   },
   {
    "duration": 101,
    "start_time": "2022-02-06T07:06:52.621Z"
   },
   {
    "duration": 60,
    "start_time": "2022-02-06T07:06:52.724Z"
   },
   {
    "duration": 43,
    "start_time": "2022-02-06T07:06:52.786Z"
   },
   {
    "duration": 37,
    "start_time": "2022-02-06T07:06:52.831Z"
   },
   {
    "duration": 3079,
    "start_time": "2022-02-06T07:06:52.870Z"
   },
   {
    "duration": 14,
    "start_time": "2022-02-06T07:06:55.952Z"
   },
   {
    "duration": 931,
    "start_time": "2022-02-06T07:06:55.968Z"
   },
   {
    "duration": 404,
    "start_time": "2022-02-06T07:06:56.902Z"
   },
   {
    "duration": 22,
    "start_time": "2022-02-06T07:06:57.308Z"
   },
   {
    "duration": 6,
    "start_time": "2022-02-06T07:06:57.349Z"
   },
   {
    "duration": 51,
    "start_time": "2022-02-06T07:06:57.359Z"
   },
   {
    "duration": 1508,
    "start_time": "2022-02-06T10:18:20.635Z"
   },
   {
    "duration": 522,
    "start_time": "2022-02-06T10:18:22.146Z"
   },
   {
    "duration": 245,
    "start_time": "2022-02-06T10:18:22.671Z"
   },
   {
    "duration": 201,
    "start_time": "2022-02-06T10:18:22.919Z"
   },
   {
    "duration": 118,
    "start_time": "2022-02-06T10:18:23.122Z"
   },
   {
    "duration": 80,
    "start_time": "2022-02-06T10:18:23.243Z"
   },
   {
    "duration": 76,
    "start_time": "2022-02-06T10:18:23.326Z"
   },
   {
    "duration": 6,
    "start_time": "2022-02-06T10:18:23.406Z"
   },
   {
    "duration": 126,
    "start_time": "2022-02-06T10:18:23.415Z"
   },
   {
    "duration": 10,
    "start_time": "2022-02-06T10:18:23.544Z"
   },
   {
    "duration": 15,
    "start_time": "2022-02-06T10:18:23.557Z"
   },
   {
    "duration": 75,
    "start_time": "2022-02-06T10:18:23.574Z"
   },
   {
    "duration": 100,
    "start_time": "2022-02-06T10:18:23.651Z"
   },
   {
    "duration": 55,
    "start_time": "2022-02-06T10:18:23.753Z"
   },
   {
    "duration": 62,
    "start_time": "2022-02-06T10:18:23.810Z"
   },
   {
    "duration": 27,
    "start_time": "2022-02-06T10:18:23.874Z"
   },
   {
    "duration": 3150,
    "start_time": "2022-02-06T10:18:23.903Z"
   },
   {
    "duration": 21,
    "start_time": "2022-02-06T10:18:27.055Z"
   },
   {
    "duration": 969,
    "start_time": "2022-02-06T10:18:27.079Z"
   },
   {
    "duration": 388,
    "start_time": "2022-02-06T10:18:28.051Z"
   },
   {
    "duration": 31,
    "start_time": "2022-02-06T10:18:28.442Z"
   },
   {
    "duration": 6,
    "start_time": "2022-02-06T10:18:28.475Z"
   },
   {
    "duration": 42,
    "start_time": "2022-02-06T10:18:28.485Z"
   },
   {
    "duration": 9,
    "start_time": "2022-02-06T10:20:45.582Z"
   },
   {
    "duration": 389,
    "start_time": "2022-02-06T10:41:36.712Z"
   },
   {
    "duration": 1472,
    "start_time": "2022-02-06T10:42:03.661Z"
   },
   {
    "duration": 509,
    "start_time": "2022-02-06T10:42:05.135Z"
   },
   {
    "duration": 222,
    "start_time": "2022-02-06T10:42:05.647Z"
   },
   {
    "duration": 206,
    "start_time": "2022-02-06T10:42:05.872Z"
   },
   {
    "duration": 144,
    "start_time": "2022-02-06T10:42:06.081Z"
   },
   {
    "duration": 79,
    "start_time": "2022-02-06T10:42:06.227Z"
   },
   {
    "duration": 73,
    "start_time": "2022-02-06T10:42:06.308Z"
   },
   {
    "duration": 5,
    "start_time": "2022-02-06T10:42:06.383Z"
   },
   {
    "duration": 114,
    "start_time": "2022-02-06T10:42:06.392Z"
   },
   {
    "duration": 10,
    "start_time": "2022-02-06T10:42:06.509Z"
   },
   {
    "duration": 8,
    "start_time": "2022-02-06T10:42:06.523Z"
   },
   {
    "duration": 95,
    "start_time": "2022-02-06T10:42:06.534Z"
   },
   {
    "duration": 96,
    "start_time": "2022-02-06T10:42:06.632Z"
   },
   {
    "duration": 64,
    "start_time": "2022-02-06T10:42:06.730Z"
   },
   {
    "duration": 47,
    "start_time": "2022-02-06T10:42:06.796Z"
   },
   {
    "duration": 39,
    "start_time": "2022-02-06T10:42:06.846Z"
   },
   {
    "duration": 3142,
    "start_time": "2022-02-06T10:42:06.888Z"
   },
   {
    "duration": 15,
    "start_time": "2022-02-06T10:42:10.032Z"
   },
   {
    "duration": 1067,
    "start_time": "2022-02-06T10:42:10.050Z"
   },
   {
    "duration": 363,
    "start_time": "2022-02-06T10:42:11.119Z"
   },
   {
    "duration": 19,
    "start_time": "2022-02-06T10:42:11.484Z"
   },
   {
    "duration": 6,
    "start_time": "2022-02-06T10:42:11.505Z"
   },
   {
    "duration": 72,
    "start_time": "2022-02-06T10:42:11.514Z"
   },
   {
    "duration": 477,
    "start_time": "2022-02-06T10:42:11.588Z"
   },
   {
    "duration": 1402,
    "start_time": "2022-02-06T10:43:27.763Z"
   },
   {
    "duration": 1416,
    "start_time": "2022-02-06T10:44:57.465Z"
   },
   {
    "duration": 101,
    "start_time": "2022-02-06T10:54:09.906Z"
   },
   {
    "duration": 3,
    "start_time": "2022-02-06T10:54:15.533Z"
   },
   {
    "duration": 899,
    "start_time": "2022-02-06T10:55:29.294Z"
   },
   {
    "duration": 1544,
    "start_time": "2022-02-06T11:03:39.380Z"
   },
   {
    "duration": 583,
    "start_time": "2022-02-06T11:03:52.622Z"
   },
   {
    "duration": 1403,
    "start_time": "2022-02-06T11:06:15.471Z"
   },
   {
    "duration": 213,
    "start_time": "2022-02-06T11:08:04.412Z"
   },
   {
    "duration": 87,
    "start_time": "2022-02-06T11:11:30.861Z"
   },
   {
    "duration": 232,
    "start_time": "2022-02-06T11:11:40.515Z"
   },
   {
    "duration": 249,
    "start_time": "2022-02-06T11:12:00.537Z"
   },
   {
    "duration": 249,
    "start_time": "2022-02-06T11:13:13.468Z"
   },
   {
    "duration": 266,
    "start_time": "2022-02-06T11:13:20.809Z"
   },
   {
    "duration": 244,
    "start_time": "2022-02-06T11:15:17.109Z"
   },
   {
    "duration": 325,
    "start_time": "2022-02-06T11:15:28.080Z"
   },
   {
    "duration": 238,
    "start_time": "2022-02-06T11:16:28.777Z"
   },
   {
    "duration": 748,
    "start_time": "2022-02-06T11:16:58.605Z"
   },
   {
    "duration": 92,
    "start_time": "2022-02-06T11:17:15.165Z"
   },
   {
    "duration": 95,
    "start_time": "2022-02-06T11:17:24.554Z"
   },
   {
    "duration": 863,
    "start_time": "2022-02-06T11:17:32.752Z"
   },
   {
    "duration": 910,
    "start_time": "2022-02-06T11:22:03.450Z"
   },
   {
    "duration": 586,
    "start_time": "2022-02-06T11:22:22.451Z"
   },
   {
    "duration": 517,
    "start_time": "2022-02-06T11:22:36.749Z"
   },
   {
    "duration": 2257,
    "start_time": "2022-02-06T11:24:50.095Z"
   },
   {
    "duration": 2588,
    "start_time": "2022-02-06T11:26:05.226Z"
   },
   {
    "duration": 847,
    "start_time": "2022-02-06T11:34:54.889Z"
   },
   {
    "duration": 757,
    "start_time": "2022-02-06T11:35:37.825Z"
   },
   {
    "duration": 1494,
    "start_time": "2022-02-06T11:35:51.047Z"
   },
   {
    "duration": 510,
    "start_time": "2022-02-06T11:35:52.544Z"
   },
   {
    "duration": 232,
    "start_time": "2022-02-06T11:35:53.056Z"
   },
   {
    "duration": 206,
    "start_time": "2022-02-06T11:35:53.291Z"
   },
   {
    "duration": 123,
    "start_time": "2022-02-06T11:35:53.499Z"
   },
   {
    "duration": 74,
    "start_time": "2022-02-06T11:35:53.625Z"
   },
   {
    "duration": 69,
    "start_time": "2022-02-06T11:35:53.701Z"
   },
   {
    "duration": 6,
    "start_time": "2022-02-06T11:35:53.774Z"
   },
   {
    "duration": 110,
    "start_time": "2022-02-06T11:35:53.783Z"
   },
   {
    "duration": 12,
    "start_time": "2022-02-06T11:35:53.895Z"
   },
   {
    "duration": 7,
    "start_time": "2022-02-06T11:35:53.910Z"
   },
   {
    "duration": 95,
    "start_time": "2022-02-06T11:35:53.920Z"
   },
   {
    "duration": 101,
    "start_time": "2022-02-06T11:35:54.017Z"
   },
   {
    "duration": 64,
    "start_time": "2022-02-06T11:35:54.121Z"
   },
   {
    "duration": 48,
    "start_time": "2022-02-06T11:35:54.187Z"
   },
   {
    "duration": 52,
    "start_time": "2022-02-06T11:35:54.238Z"
   },
   {
    "duration": 3317,
    "start_time": "2022-02-06T11:35:54.293Z"
   },
   {
    "duration": 14,
    "start_time": "2022-02-06T11:35:57.612Z"
   },
   {
    "duration": 1006,
    "start_time": "2022-02-06T11:35:57.628Z"
   },
   {
    "duration": 363,
    "start_time": "2022-02-06T11:35:58.636Z"
   },
   {
    "duration": 18,
    "start_time": "2022-02-06T11:35:59.001Z"
   },
   {
    "duration": 6,
    "start_time": "2022-02-06T11:35:59.021Z"
   },
   {
    "duration": 67,
    "start_time": "2022-02-06T11:35:59.031Z"
   },
   {
    "duration": 664,
    "start_time": "2022-02-06T11:35:59.101Z"
   },
   {
    "duration": 726,
    "start_time": "2022-02-06T11:36:04.534Z"
   },
   {
    "duration": 1617,
    "start_time": "2022-02-06T11:42:12.345Z"
   },
   {
    "duration": 600,
    "start_time": "2022-02-06T11:44:04.763Z"
   },
   {
    "duration": 598,
    "start_time": "2022-02-06T11:44:14.381Z"
   },
   {
    "duration": 355,
    "start_time": "2022-02-06T11:45:19.324Z"
   },
   {
    "duration": 4,
    "start_time": "2022-02-06T11:52:55.577Z"
   },
   {
    "duration": 354,
    "start_time": "2022-02-06T11:59:26.886Z"
   },
   {
    "duration": 352,
    "start_time": "2022-02-06T11:59:54.549Z"
   },
   {
    "duration": 426,
    "start_time": "2022-02-06T12:01:52.775Z"
   },
   {
    "duration": 369,
    "start_time": "2022-02-06T12:02:02.438Z"
   },
   {
    "duration": 728,
    "start_time": "2022-02-06T12:02:15.048Z"
   },
   {
    "duration": 345,
    "start_time": "2022-02-06T12:02:32.034Z"
   },
   {
    "duration": 388,
    "start_time": "2022-02-06T12:02:37.550Z"
   },
   {
    "duration": 558,
    "start_time": "2022-02-06T12:07:22.626Z"
   },
   {
    "duration": 395,
    "start_time": "2022-02-06T12:07:32.012Z"
   },
   {
    "duration": 435,
    "start_time": "2022-02-06T12:07:41.260Z"
   },
   {
    "duration": 366,
    "start_time": "2022-02-06T12:07:57.328Z"
   },
   {
    "duration": 369,
    "start_time": "2022-02-06T12:08:26.471Z"
   },
   {
    "duration": 368,
    "start_time": "2022-02-06T12:09:30.449Z"
   },
   {
    "duration": 386,
    "start_time": "2022-02-06T12:09:51.061Z"
   },
   {
    "duration": 378,
    "start_time": "2022-02-06T12:11:38.204Z"
   },
   {
    "duration": 487,
    "start_time": "2022-02-06T12:12:54.622Z"
   },
   {
    "duration": 1174,
    "start_time": "2022-02-06T12:13:12.329Z"
   },
   {
    "duration": 374,
    "start_time": "2022-02-06T12:13:20.277Z"
   },
   {
    "duration": 399,
    "start_time": "2022-02-06T12:13:27.511Z"
   },
   {
    "duration": 396,
    "start_time": "2022-02-06T12:14:44.960Z"
   },
   {
    "duration": 764,
    "start_time": "2022-02-06T12:15:15.164Z"
   },
   {
    "duration": 1477,
    "start_time": "2022-02-06T12:30:24.642Z"
   },
   {
    "duration": 524,
    "start_time": "2022-02-06T12:30:26.122Z"
   },
   {
    "duration": 241,
    "start_time": "2022-02-06T12:30:26.652Z"
   },
   {
    "duration": 211,
    "start_time": "2022-02-06T12:30:26.895Z"
   },
   {
    "duration": 124,
    "start_time": "2022-02-06T12:30:27.109Z"
   },
   {
    "duration": 77,
    "start_time": "2022-02-06T12:30:27.236Z"
   },
   {
    "duration": 68,
    "start_time": "2022-02-06T12:30:27.317Z"
   },
   {
    "duration": 6,
    "start_time": "2022-02-06T12:30:27.388Z"
   },
   {
    "duration": 120,
    "start_time": "2022-02-06T12:30:27.396Z"
   },
   {
    "duration": 12,
    "start_time": "2022-02-06T12:30:27.518Z"
   },
   {
    "duration": 11,
    "start_time": "2022-02-06T12:30:27.532Z"
   },
   {
    "duration": 88,
    "start_time": "2022-02-06T12:30:27.545Z"
   },
   {
    "duration": 88,
    "start_time": "2022-02-06T12:30:27.636Z"
   },
   {
    "duration": 53,
    "start_time": "2022-02-06T12:30:27.727Z"
   },
   {
    "duration": 45,
    "start_time": "2022-02-06T12:30:27.782Z"
   },
   {
    "duration": 51,
    "start_time": "2022-02-06T12:30:27.830Z"
   },
   {
    "duration": 3247,
    "start_time": "2022-02-06T12:30:27.883Z"
   },
   {
    "duration": 15,
    "start_time": "2022-02-06T12:30:31.133Z"
   },
   {
    "duration": 1004,
    "start_time": "2022-02-06T12:30:31.150Z"
   },
   {
    "duration": 351,
    "start_time": "2022-02-06T12:30:32.156Z"
   },
   {
    "duration": 18,
    "start_time": "2022-02-06T12:30:32.509Z"
   },
   {
    "duration": 6,
    "start_time": "2022-02-06T12:30:32.531Z"
   },
   {
    "duration": 68,
    "start_time": "2022-02-06T12:30:32.539Z"
   },
   {
    "duration": 403,
    "start_time": "2022-02-06T12:30:32.609Z"
   },
   {
    "duration": 423,
    "start_time": "2022-02-06T12:30:33.016Z"
   },
   {
    "duration": 407,
    "start_time": "2022-02-06T12:30:33.442Z"
   },
   {
    "duration": 806,
    "start_time": "2022-02-06T12:35:15.583Z"
   },
   {
    "duration": 402,
    "start_time": "2022-02-06T12:47:41.554Z"
   },
   {
    "duration": 429,
    "start_time": "2022-02-06T12:47:49.885Z"
   },
   {
    "duration": 385,
    "start_time": "2022-02-06T12:48:03.048Z"
   },
   {
    "duration": 427,
    "start_time": "2022-02-06T13:08:22.670Z"
   },
   {
    "duration": 1542,
    "start_time": "2022-02-06T13:09:04.189Z"
   },
   {
    "duration": 514,
    "start_time": "2022-02-06T13:09:05.734Z"
   },
   {
    "duration": 236,
    "start_time": "2022-02-06T13:09:06.251Z"
   },
   {
    "duration": 212,
    "start_time": "2022-02-06T13:09:06.490Z"
   },
   {
    "duration": 131,
    "start_time": "2022-02-06T13:09:06.705Z"
   },
   {
    "duration": 76,
    "start_time": "2022-02-06T13:09:06.839Z"
   },
   {
    "duration": 74,
    "start_time": "2022-02-06T13:09:06.919Z"
   },
   {
    "duration": 5,
    "start_time": "2022-02-06T13:09:06.997Z"
   },
   {
    "duration": 135,
    "start_time": "2022-02-06T13:09:07.005Z"
   },
   {
    "duration": 13,
    "start_time": "2022-02-06T13:09:07.144Z"
   },
   {
    "duration": 14,
    "start_time": "2022-02-06T13:09:07.160Z"
   },
   {
    "duration": 74,
    "start_time": "2022-02-06T13:09:07.176Z"
   },
   {
    "duration": 99,
    "start_time": "2022-02-06T13:09:07.253Z"
   },
   {
    "duration": 50,
    "start_time": "2022-02-06T13:09:07.369Z"
   },
   {
    "duration": 63,
    "start_time": "2022-02-06T13:09:07.421Z"
   },
   {
    "duration": 27,
    "start_time": "2022-02-06T13:09:07.486Z"
   },
   {
    "duration": 3280,
    "start_time": "2022-02-06T13:09:07.516Z"
   },
   {
    "duration": 14,
    "start_time": "2022-02-06T13:09:10.799Z"
   },
   {
    "duration": 1009,
    "start_time": "2022-02-06T13:09:10.817Z"
   },
   {
    "duration": 365,
    "start_time": "2022-02-06T13:09:11.828Z"
   },
   {
    "duration": 19,
    "start_time": "2022-02-06T13:09:12.196Z"
   },
   {
    "duration": 7,
    "start_time": "2022-02-06T13:09:12.218Z"
   },
   {
    "duration": 73,
    "start_time": "2022-02-06T13:09:12.230Z"
   },
   {
    "duration": 438,
    "start_time": "2022-02-06T13:09:12.306Z"
   },
   {
    "duration": 438,
    "start_time": "2022-02-06T13:09:12.747Z"
   },
   {
    "duration": 405,
    "start_time": "2022-02-06T13:09:13.188Z"
   },
   {
    "duration": 881,
    "start_time": "2022-02-06T13:09:13.596Z"
   },
   {
    "duration": 484,
    "start_time": "2022-02-06T13:09:14.479Z"
   },
   {
    "duration": 300,
    "start_time": "2022-02-06T13:09:35.596Z"
   },
   {
    "duration": 297,
    "start_time": "2022-02-06T13:09:49.770Z"
   },
   {
    "duration": 1036,
    "start_time": "2022-02-06T13:10:15.671Z"
   },
   {
    "duration": 269,
    "start_time": "2022-02-06T13:11:01.058Z"
   },
   {
    "duration": 4,
    "start_time": "2022-02-06T13:11:24.058Z"
   },
   {
    "duration": 17,
    "start_time": "2022-02-06T13:11:28.769Z"
   },
   {
    "duration": 18,
    "start_time": "2022-02-06T13:12:16.085Z"
   },
   {
    "duration": 86,
    "start_time": "2022-02-06T13:18:42.337Z"
   },
   {
    "duration": 321,
    "start_time": "2022-02-06T13:19:01.168Z"
   },
   {
    "duration": 323,
    "start_time": "2022-02-06T13:19:17.404Z"
   },
   {
    "duration": 1620,
    "start_time": "2022-02-06T13:19:25.481Z"
   },
   {
    "duration": 638,
    "start_time": "2022-02-06T13:19:27.104Z"
   },
   {
    "duration": 274,
    "start_time": "2022-02-06T13:19:27.746Z"
   },
   {
    "duration": 225,
    "start_time": "2022-02-06T13:19:28.024Z"
   },
   {
    "duration": 126,
    "start_time": "2022-02-06T13:19:28.251Z"
   },
   {
    "duration": 98,
    "start_time": "2022-02-06T13:19:28.380Z"
   },
   {
    "duration": 57,
    "start_time": "2022-02-06T13:19:28.481Z"
   },
   {
    "duration": 7,
    "start_time": "2022-02-06T13:19:28.573Z"
   },
   {
    "duration": 119,
    "start_time": "2022-02-06T13:19:28.584Z"
   },
   {
    "duration": 12,
    "start_time": "2022-02-06T13:19:28.706Z"
   },
   {
    "duration": 14,
    "start_time": "2022-02-06T13:19:28.722Z"
   },
   {
    "duration": 106,
    "start_time": "2022-02-06T13:19:28.739Z"
   },
   {
    "duration": 135,
    "start_time": "2022-02-06T13:19:28.848Z"
   },
   {
    "duration": 50,
    "start_time": "2022-02-06T13:19:28.986Z"
   },
   {
    "duration": 71,
    "start_time": "2022-02-06T13:19:29.038Z"
   },
   {
    "duration": 26,
    "start_time": "2022-02-06T13:19:29.112Z"
   },
   {
    "duration": 3244,
    "start_time": "2022-02-06T13:19:29.141Z"
   },
   {
    "duration": 14,
    "start_time": "2022-02-06T13:19:32.388Z"
   },
   {
    "duration": 1024,
    "start_time": "2022-02-06T13:19:32.404Z"
   },
   {
    "duration": 379,
    "start_time": "2022-02-06T13:19:33.430Z"
   },
   {
    "duration": 21,
    "start_time": "2022-02-06T13:19:33.812Z"
   },
   {
    "duration": 7,
    "start_time": "2022-02-06T13:19:33.835Z"
   },
   {
    "duration": 68,
    "start_time": "2022-02-06T13:19:33.846Z"
   },
   {
    "duration": 458,
    "start_time": "2022-02-06T13:19:33.917Z"
   },
   {
    "duration": 499,
    "start_time": "2022-02-06T13:19:34.377Z"
   },
   {
    "duration": 404,
    "start_time": "2022-02-06T13:19:34.879Z"
   },
   {
    "duration": 885,
    "start_time": "2022-02-06T13:19:35.286Z"
   },
   {
    "duration": 15,
    "start_time": "2022-02-06T13:19:36.174Z"
   },
   {
    "duration": 32,
    "start_time": "2022-02-06T13:19:36.192Z"
   },
   {
    "duration": 4377,
    "start_time": "2022-02-06T13:20:29.584Z"
   },
   {
    "duration": 18,
    "start_time": "2022-02-06T13:20:40.105Z"
   },
   {
    "duration": 15,
    "start_time": "2022-02-06T13:26:13.015Z"
   },
   {
    "duration": 27,
    "start_time": "2022-02-06T13:26:51.863Z"
   },
   {
    "duration": 241,
    "start_time": "2022-02-06T13:27:53.058Z"
   },
   {
    "duration": 3224,
    "start_time": "2022-02-06T13:28:11.979Z"
   },
   {
    "duration": 10,
    "start_time": "2022-02-06T13:28:41.713Z"
   },
   {
    "duration": 7,
    "start_time": "2022-02-06T13:28:51.219Z"
   },
   {
    "duration": 7,
    "start_time": "2022-02-06T13:30:14.731Z"
   },
   {
    "duration": 3239,
    "start_time": "2022-02-06T13:31:55.079Z"
   },
   {
    "duration": 3126,
    "start_time": "2022-02-06T13:36:01.010Z"
   },
   {
    "duration": 16,
    "start_time": "2022-02-06T13:36:07.031Z"
   },
   {
    "duration": 18,
    "start_time": "2022-02-06T13:36:33.805Z"
   },
   {
    "duration": 1130,
    "start_time": "2022-02-07T09:52:45.741Z"
   },
   {
    "duration": 400,
    "start_time": "2022-02-07T09:52:46.873Z"
   },
   {
    "duration": 155,
    "start_time": "2022-02-07T09:52:47.275Z"
   },
   {
    "duration": 134,
    "start_time": "2022-02-07T09:52:47.432Z"
   },
   {
    "duration": 91,
    "start_time": "2022-02-07T09:52:47.568Z"
   },
   {
    "duration": 61,
    "start_time": "2022-02-07T09:52:47.660Z"
   },
   {
    "duration": 31,
    "start_time": "2022-02-07T09:52:47.723Z"
   },
   {
    "duration": 5,
    "start_time": "2022-02-07T09:52:47.756Z"
   },
   {
    "duration": 4,
    "start_time": "2022-02-07T09:52:47.764Z"
   },
   {
    "duration": 103,
    "start_time": "2022-02-07T09:52:47.770Z"
   },
   {
    "duration": 9,
    "start_time": "2022-02-07T09:52:47.874Z"
   },
   {
    "duration": 6,
    "start_time": "2022-02-07T09:52:47.884Z"
   },
   {
    "duration": 65,
    "start_time": "2022-02-07T09:52:47.892Z"
   },
   {
    "duration": 62,
    "start_time": "2022-02-07T09:52:47.959Z"
   },
   {
    "duration": 30,
    "start_time": "2022-02-07T09:52:48.023Z"
   },
   {
    "duration": 32,
    "start_time": "2022-02-07T09:52:48.055Z"
   },
   {
    "duration": 39,
    "start_time": "2022-02-07T09:52:48.088Z"
   },
   {
    "duration": 1856,
    "start_time": "2022-02-07T09:52:48.128Z"
   },
   {
    "duration": 9,
    "start_time": "2022-02-07T09:52:49.986Z"
   },
   {
    "duration": 524,
    "start_time": "2022-02-07T09:52:49.996Z"
   },
   {
    "duration": 218,
    "start_time": "2022-02-07T09:52:50.521Z"
   },
   {
    "duration": 12,
    "start_time": "2022-02-07T09:52:50.740Z"
   },
   {
    "duration": 4,
    "start_time": "2022-02-07T09:52:50.753Z"
   },
   {
    "duration": 28,
    "start_time": "2022-02-07T09:52:50.759Z"
   },
   {
    "duration": 297,
    "start_time": "2022-02-07T09:52:50.789Z"
   },
   {
    "duration": 282,
    "start_time": "2022-02-07T09:52:51.088Z"
   },
   {
    "duration": 253,
    "start_time": "2022-02-07T09:52:51.372Z"
   },
   {
    "duration": 551,
    "start_time": "2022-02-07T09:52:51.627Z"
   },
   {
    "duration": 10,
    "start_time": "2022-02-07T09:52:52.179Z"
   },
   {
    "duration": 23,
    "start_time": "2022-02-07T09:52:52.190Z"
   },
   {
    "duration": 1967,
    "start_time": "2022-02-07T09:52:52.214Z"
   },
   {
    "duration": 11,
    "start_time": "2022-02-07T09:52:54.182Z"
   },
   {
    "duration": 26,
    "start_time": "2022-02-07T09:52:54.195Z"
   },
   {
    "duration": 66,
    "start_time": "2022-02-07T09:53:48.412Z"
   },
   {
    "duration": 10,
    "start_time": "2022-02-07T09:54:07.999Z"
   },
   {
    "duration": 12,
    "start_time": "2022-02-07T09:56:00.474Z"
   },
   {
    "duration": 483,
    "start_time": "2022-02-07T09:58:16.970Z"
   },
   {
    "duration": 249,
    "start_time": "2022-02-07T09:58:33.576Z"
   },
   {
    "duration": 200,
    "start_time": "2022-02-07T09:59:22.945Z"
   },
   {
    "duration": 221,
    "start_time": "2022-02-07T10:09:08.788Z"
   },
   {
    "duration": 202,
    "start_time": "2022-02-07T10:10:25.064Z"
   },
   {
    "duration": 583,
    "start_time": "2022-02-07T10:11:59.843Z"
   },
   {
    "duration": 401,
    "start_time": "2022-02-07T10:12:07.913Z"
   },
   {
    "duration": 462,
    "start_time": "2022-02-07T10:12:28.626Z"
   },
   {
    "duration": 495,
    "start_time": "2022-02-07T10:12:41.745Z"
   },
   {
    "duration": 339,
    "start_time": "2022-02-07T10:12:55.106Z"
   },
   {
    "duration": 275,
    "start_time": "2022-02-07T10:12:59.790Z"
   },
   {
    "duration": 297,
    "start_time": "2022-02-07T10:13:04.749Z"
   },
   {
    "duration": 62,
    "start_time": "2022-02-07T10:14:04.376Z"
   },
   {
    "duration": 203,
    "start_time": "2022-02-07T10:14:18.785Z"
   },
   {
    "duration": 299,
    "start_time": "2022-02-07T10:14:24.913Z"
   },
   {
    "duration": 279,
    "start_time": "2022-02-07T10:14:31.667Z"
   },
   {
    "duration": 293,
    "start_time": "2022-02-07T10:15:41.688Z"
   },
   {
    "duration": 308,
    "start_time": "2022-02-07T10:16:16.777Z"
   },
   {
    "duration": 461,
    "start_time": "2022-02-07T10:16:48.869Z"
   },
   {
    "duration": 333,
    "start_time": "2022-02-07T10:17:04.162Z"
   },
   {
    "duration": 63,
    "start_time": "2022-02-07T10:17:21.074Z"
   },
   {
    "duration": 415,
    "start_time": "2022-02-07T10:17:32.100Z"
   },
   {
    "duration": 333,
    "start_time": "2022-02-07T10:17:43.303Z"
   },
   {
    "duration": 339,
    "start_time": "2022-02-07T10:18:15.134Z"
   },
   {
    "duration": 355,
    "start_time": "2022-02-07T10:19:08.859Z"
   },
   {
    "duration": 372,
    "start_time": "2022-02-07T10:20:10.486Z"
   },
   {
    "duration": 28,
    "start_time": "2022-02-07T10:22:02.073Z"
   },
   {
    "duration": 29,
    "start_time": "2022-02-07T10:22:24.798Z"
   },
   {
    "duration": 9,
    "start_time": "2022-02-07T10:43:46.247Z"
   },
   {
    "duration": 13,
    "start_time": "2022-02-07T10:43:52.130Z"
   },
   {
    "duration": 74,
    "start_time": "2022-02-07T10:44:16.652Z"
   },
   {
    "duration": 211,
    "start_time": "2022-02-07T10:44:20.063Z"
   },
   {
    "duration": 217,
    "start_time": "2022-02-07T10:44:36.109Z"
   },
   {
    "duration": 10,
    "start_time": "2022-02-07T10:46:54.169Z"
   },
   {
    "duration": 16,
    "start_time": "2022-02-07T10:46:59.358Z"
   },
   {
    "duration": 13,
    "start_time": "2022-02-07T10:47:13.184Z"
   },
   {
    "duration": 15,
    "start_time": "2022-02-07T10:47:22.968Z"
   },
   {
    "duration": 510,
    "start_time": "2022-02-07T10:48:26.456Z"
   },
   {
    "duration": 16,
    "start_time": "2022-02-07T10:48:32.913Z"
   },
   {
    "duration": 18,
    "start_time": "2022-02-07T10:48:44.525Z"
   },
   {
    "duration": 15,
    "start_time": "2022-02-07T10:49:00.665Z"
   },
   {
    "duration": 14,
    "start_time": "2022-02-07T10:49:59.759Z"
   },
   {
    "duration": 15,
    "start_time": "2022-02-07T10:50:38.482Z"
   },
   {
    "duration": 253,
    "start_time": "2022-02-07T10:51:14.070Z"
   },
   {
    "duration": 15,
    "start_time": "2022-02-07T10:51:31.459Z"
   },
   {
    "duration": 46,
    "start_time": "2022-02-07T10:52:18.461Z"
   },
   {
    "duration": 55,
    "start_time": "2022-02-07T10:52:23.581Z"
   },
   {
    "duration": 54,
    "start_time": "2022-02-07T10:52:32.134Z"
   },
   {
    "duration": 55,
    "start_time": "2022-02-07T10:52:35.695Z"
   },
   {
    "duration": 58,
    "start_time": "2022-02-07T10:52:49.544Z"
   },
   {
    "duration": 18,
    "start_time": "2022-02-07T10:53:07.512Z"
   },
   {
    "duration": 253,
    "start_time": "2022-02-07T10:53:10.110Z"
   },
   {
    "duration": 18,
    "start_time": "2022-02-07T10:53:22.951Z"
   },
   {
    "duration": 1938,
    "start_time": "2022-02-07T10:53:24.564Z"
   },
   {
    "duration": 13,
    "start_time": "2022-02-07T10:53:26.504Z"
   },
   {
    "duration": 11,
    "start_time": "2022-02-07T10:53:31.811Z"
   },
   {
    "duration": 279,
    "start_time": "2022-02-07T10:53:38.186Z"
   },
   {
    "duration": 1158,
    "start_time": "2022-02-07T10:54:06.486Z"
   },
   {
    "duration": 405,
    "start_time": "2022-02-07T10:54:07.646Z"
   },
   {
    "duration": 162,
    "start_time": "2022-02-07T10:54:08.053Z"
   },
   {
    "duration": 134,
    "start_time": "2022-02-07T10:54:08.216Z"
   },
   {
    "duration": 89,
    "start_time": "2022-02-07T10:54:08.352Z"
   },
   {
    "duration": 39,
    "start_time": "2022-02-07T10:54:08.442Z"
   },
   {
    "duration": 47,
    "start_time": "2022-02-07T10:54:08.483Z"
   },
   {
    "duration": 4,
    "start_time": "2022-02-07T10:54:08.531Z"
   },
   {
    "duration": 4,
    "start_time": "2022-02-07T10:54:08.538Z"
   },
   {
    "duration": 91,
    "start_time": "2022-02-07T10:54:08.544Z"
   },
   {
    "duration": 9,
    "start_time": "2022-02-07T10:54:08.637Z"
   },
   {
    "duration": 9,
    "start_time": "2022-02-07T10:54:08.647Z"
   },
   {
    "duration": 61,
    "start_time": "2022-02-07T10:54:08.658Z"
   },
   {
    "duration": 63,
    "start_time": "2022-02-07T10:54:08.721Z"
   },
   {
    "duration": 43,
    "start_time": "2022-02-07T10:54:08.785Z"
   },
   {
    "duration": 30,
    "start_time": "2022-02-07T10:54:08.830Z"
   },
   {
    "duration": 16,
    "start_time": "2022-02-07T10:54:08.861Z"
   },
   {
    "duration": 1866,
    "start_time": "2022-02-07T10:54:08.879Z"
   },
   {
    "duration": 10,
    "start_time": "2022-02-07T10:54:10.747Z"
   },
   {
    "duration": 291,
    "start_time": "2022-02-07T10:54:10.758Z"
   },
   {
    "duration": 219,
    "start_time": "2022-02-07T10:54:11.050Z"
   },
   {
    "duration": 11,
    "start_time": "2022-02-07T10:54:11.270Z"
   },
   {
    "duration": 4,
    "start_time": "2022-02-07T10:54:11.283Z"
   },
   {
    "duration": 51,
    "start_time": "2022-02-07T10:54:11.288Z"
   },
   {
    "duration": 356,
    "start_time": "2022-02-07T10:54:11.341Z"
   },
   {
    "duration": 357,
    "start_time": "2022-02-07T10:54:11.699Z"
   },
   {
    "duration": 358,
    "start_time": "2022-02-07T10:54:12.059Z"
   },
   {
    "duration": 495,
    "start_time": "2022-02-07T10:54:12.419Z"
   },
   {
    "duration": 9,
    "start_time": "2022-02-07T10:54:12.916Z"
   },
   {
    "duration": 14,
    "start_time": "2022-02-07T10:54:12.927Z"
   },
   {
    "duration": 333,
    "start_time": "2022-02-07T10:54:12.943Z"
   },
   {
    "duration": 2385,
    "start_time": "2022-02-07T10:54:10.893Z"
   },
   {
    "duration": 2345,
    "start_time": "2022-02-07T10:54:10.934Z"
   },
   {
    "duration": 1085,
    "start_time": "2022-02-07T10:54:47.822Z"
   },
   {
    "duration": 370,
    "start_time": "2022-02-07T10:54:48.910Z"
   },
   {
    "duration": 156,
    "start_time": "2022-02-07T10:54:49.282Z"
   },
   {
    "duration": 130,
    "start_time": "2022-02-07T10:54:49.440Z"
   },
   {
    "duration": 86,
    "start_time": "2022-02-07T10:54:49.571Z"
   },
   {
    "duration": 39,
    "start_time": "2022-02-07T10:54:49.659Z"
   },
   {
    "duration": 29,
    "start_time": "2022-02-07T10:54:49.712Z"
   },
   {
    "duration": 3,
    "start_time": "2022-02-07T10:54:49.743Z"
   },
   {
    "duration": 4,
    "start_time": "2022-02-07T10:54:49.749Z"
   },
   {
    "duration": 97,
    "start_time": "2022-02-07T10:54:49.755Z"
   },
   {
    "duration": 8,
    "start_time": "2022-02-07T10:54:49.854Z"
   },
   {
    "duration": 6,
    "start_time": "2022-02-07T10:54:49.864Z"
   },
   {
    "duration": 60,
    "start_time": "2022-02-07T10:54:49.871Z"
   },
   {
    "duration": 57,
    "start_time": "2022-02-07T10:54:49.932Z"
   },
   {
    "duration": 46,
    "start_time": "2022-02-07T10:54:49.991Z"
   },
   {
    "duration": 28,
    "start_time": "2022-02-07T10:54:50.039Z"
   },
   {
    "duration": 15,
    "start_time": "2022-02-07T10:54:50.069Z"
   },
   {
    "duration": 1899,
    "start_time": "2022-02-07T10:54:50.086Z"
   },
   {
    "duration": 9,
    "start_time": "2022-02-07T10:54:51.987Z"
   },
   {
    "duration": 519,
    "start_time": "2022-02-07T10:54:51.998Z"
   },
   {
    "duration": 215,
    "start_time": "2022-02-07T10:54:52.518Z"
   },
   {
    "duration": 11,
    "start_time": "2022-02-07T10:54:52.735Z"
   },
   {
    "duration": 4,
    "start_time": "2022-02-07T10:54:52.748Z"
   },
   {
    "duration": 27,
    "start_time": "2022-02-07T10:54:52.754Z"
   },
   {
    "duration": 358,
    "start_time": "2022-02-07T10:54:52.783Z"
   },
   {
    "duration": 349,
    "start_time": "2022-02-07T10:54:53.143Z"
   },
   {
    "duration": 352,
    "start_time": "2022-02-07T10:54:53.495Z"
   },
   {
    "duration": 563,
    "start_time": "2022-02-07T10:54:53.849Z"
   },
   {
    "duration": 11,
    "start_time": "2022-02-07T10:54:54.413Z"
   },
   {
    "duration": 15,
    "start_time": "2022-02-07T10:54:54.426Z"
   },
   {
    "duration": 1965,
    "start_time": "2022-02-07T10:54:54.443Z"
   },
   {
    "duration": 11,
    "start_time": "2022-02-07T10:54:56.411Z"
   },
   {
    "duration": 12,
    "start_time": "2022-02-07T10:54:56.423Z"
   },
   {
    "duration": 18,
    "start_time": "2022-02-07T10:57:17.509Z"
   },
   {
    "duration": 16,
    "start_time": "2022-02-07T10:57:50.985Z"
   },
   {
    "duration": 17,
    "start_time": "2022-02-07T10:58:28.310Z"
   },
   {
    "duration": 1109,
    "start_time": "2022-02-07T11:02:26.165Z"
   },
   {
    "duration": 399,
    "start_time": "2022-02-07T11:02:27.275Z"
   },
   {
    "duration": 167,
    "start_time": "2022-02-07T11:02:27.676Z"
   },
   {
    "duration": 134,
    "start_time": "2022-02-07T11:02:27.845Z"
   },
   {
    "duration": 90,
    "start_time": "2022-02-07T11:02:27.981Z"
   },
   {
    "duration": 56,
    "start_time": "2022-02-07T11:02:28.072Z"
   },
   {
    "duration": 28,
    "start_time": "2022-02-07T11:02:28.130Z"
   },
   {
    "duration": 4,
    "start_time": "2022-02-07T11:02:28.160Z"
   },
   {
    "duration": 7,
    "start_time": "2022-02-07T11:02:28.167Z"
   },
   {
    "duration": 101,
    "start_time": "2022-02-07T11:02:28.175Z"
   },
   {
    "duration": 9,
    "start_time": "2022-02-07T11:02:28.277Z"
   },
   {
    "duration": 17,
    "start_time": "2022-02-07T11:02:28.288Z"
   },
   {
    "duration": 55,
    "start_time": "2022-02-07T11:02:28.307Z"
   },
   {
    "duration": 74,
    "start_time": "2022-02-07T11:02:28.364Z"
   },
   {
    "duration": 31,
    "start_time": "2022-02-07T11:02:28.439Z"
   },
   {
    "duration": 43,
    "start_time": "2022-02-07T11:02:28.472Z"
   },
   {
    "duration": 16,
    "start_time": "2022-02-07T11:02:28.517Z"
   },
   {
    "duration": 1955,
    "start_time": "2022-02-07T11:02:28.535Z"
   },
   {
    "duration": 10,
    "start_time": "2022-02-07T11:02:30.492Z"
   },
   {
    "duration": 523,
    "start_time": "2022-02-07T11:02:30.511Z"
   },
   {
    "duration": 217,
    "start_time": "2022-02-07T11:02:31.035Z"
   },
   {
    "duration": 12,
    "start_time": "2022-02-07T11:02:31.254Z"
   },
   {
    "duration": 4,
    "start_time": "2022-02-07T11:02:31.269Z"
   },
   {
    "duration": 52,
    "start_time": "2022-02-07T11:02:31.274Z"
   },
   {
    "duration": 366,
    "start_time": "2022-02-07T11:02:31.327Z"
   },
   {
    "duration": 355,
    "start_time": "2022-02-07T11:02:31.694Z"
   },
   {
    "duration": 362,
    "start_time": "2022-02-07T11:02:32.050Z"
   },
   {
    "duration": 570,
    "start_time": "2022-02-07T11:02:32.414Z"
   },
   {
    "duration": 11,
    "start_time": "2022-02-07T11:02:32.986Z"
   },
   {
    "duration": 30,
    "start_time": "2022-02-07T11:02:32.998Z"
   },
   {
    "duration": 2003,
    "start_time": "2022-02-07T11:02:33.029Z"
   },
   {
    "duration": 11,
    "start_time": "2022-02-07T11:02:35.033Z"
   },
   {
    "duration": 12,
    "start_time": "2022-02-07T11:02:35.045Z"
   },
   {
    "duration": 1093,
    "start_time": "2022-02-07T11:12:37.373Z"
   },
   {
    "duration": 391,
    "start_time": "2022-02-07T11:12:38.468Z"
   },
   {
    "duration": 173,
    "start_time": "2022-02-07T11:12:38.862Z"
   },
   {
    "duration": 136,
    "start_time": "2022-02-07T11:12:39.038Z"
   },
   {
    "duration": 89,
    "start_time": "2022-02-07T11:12:39.176Z"
   },
   {
    "duration": 63,
    "start_time": "2022-02-07T11:12:39.267Z"
   },
   {
    "duration": 33,
    "start_time": "2022-02-07T11:12:39.332Z"
   },
   {
    "duration": 4,
    "start_time": "2022-02-07T11:12:39.367Z"
   },
   {
    "duration": 38,
    "start_time": "2022-02-07T11:12:39.375Z"
   },
   {
    "duration": 66,
    "start_time": "2022-02-07T11:12:39.415Z"
   },
   {
    "duration": 8,
    "start_time": "2022-02-07T11:12:39.482Z"
   },
   {
    "duration": 20,
    "start_time": "2022-02-07T11:12:39.492Z"
   },
   {
    "duration": 50,
    "start_time": "2022-02-07T11:12:39.513Z"
   },
   {
    "duration": 75,
    "start_time": "2022-02-07T11:12:39.565Z"
   },
   {
    "duration": 30,
    "start_time": "2022-02-07T11:12:39.642Z"
   },
   {
    "duration": 47,
    "start_time": "2022-02-07T11:12:39.674Z"
   },
   {
    "duration": 17,
    "start_time": "2022-02-07T11:12:39.723Z"
   },
   {
    "duration": 1934,
    "start_time": "2022-02-07T11:12:39.742Z"
   },
   {
    "duration": 9,
    "start_time": "2022-02-07T11:12:41.678Z"
   },
   {
    "duration": 535,
    "start_time": "2022-02-07T11:12:41.689Z"
   },
   {
    "duration": 239,
    "start_time": "2022-02-07T11:12:42.226Z"
   },
   {
    "duration": 12,
    "start_time": "2022-02-07T11:12:42.467Z"
   },
   {
    "duration": 5,
    "start_time": "2022-02-07T11:12:42.480Z"
   },
   {
    "duration": 48,
    "start_time": "2022-02-07T11:12:42.487Z"
   },
   {
    "duration": 359,
    "start_time": "2022-02-07T11:12:42.537Z"
   },
   {
    "duration": 356,
    "start_time": "2022-02-07T11:12:42.898Z"
   },
   {
    "duration": 362,
    "start_time": "2022-02-07T11:12:43.257Z"
   },
   {
    "duration": 568,
    "start_time": "2022-02-07T11:12:43.621Z"
   },
   {
    "duration": 11,
    "start_time": "2022-02-07T11:12:44.191Z"
   },
   {
    "duration": 18,
    "start_time": "2022-02-07T11:12:44.213Z"
   },
   {
    "duration": 1991,
    "start_time": "2022-02-07T11:12:44.233Z"
   },
   {
    "duration": 12,
    "start_time": "2022-02-07T11:12:46.225Z"
   },
   {
    "duration": 18,
    "start_time": "2022-02-07T11:12:46.239Z"
   },
   {
    "duration": 227,
    "start_time": "2022-02-07T11:16:04.053Z"
   },
   {
    "duration": 1126,
    "start_time": "2022-02-13T10:00:47.259Z"
   },
   {
    "duration": 355,
    "start_time": "2022-02-13T10:00:48.387Z"
   },
   {
    "duration": 166,
    "start_time": "2022-02-13T10:00:48.744Z"
   },
   {
    "duration": 178,
    "start_time": "2022-02-13T10:00:48.912Z"
   },
   {
    "duration": 178,
    "start_time": "2022-02-13T10:00:49.092Z"
   },
   {
    "duration": 92,
    "start_time": "2022-02-13T10:00:49.271Z"
   },
   {
    "duration": 28,
    "start_time": "2022-02-13T10:00:49.365Z"
   },
   {
    "duration": 4,
    "start_time": "2022-02-13T10:00:49.394Z"
   },
   {
    "duration": 59,
    "start_time": "2022-02-13T10:00:49.401Z"
   },
   {
    "duration": 63,
    "start_time": "2022-02-13T10:00:49.462Z"
   },
   {
    "duration": 38,
    "start_time": "2022-02-13T10:00:49.527Z"
   },
   {
    "duration": 5,
    "start_time": "2022-02-13T10:00:49.567Z"
   },
   {
    "duration": 53,
    "start_time": "2022-02-13T10:00:49.573Z"
   },
   {
    "duration": 74,
    "start_time": "2022-02-13T10:00:49.627Z"
   },
   {
    "duration": 30,
    "start_time": "2022-02-13T10:00:49.703Z"
   },
   {
    "duration": 50,
    "start_time": "2022-02-13T10:00:49.735Z"
   },
   {
    "duration": 16,
    "start_time": "2022-02-13T10:00:49.786Z"
   },
   {
    "duration": 1820,
    "start_time": "2022-02-13T10:00:49.804Z"
   },
   {
    "duration": 9,
    "start_time": "2022-02-13T10:00:51.625Z"
   },
   {
    "duration": 479,
    "start_time": "2022-02-13T10:00:51.636Z"
   },
   {
    "duration": 251,
    "start_time": "2022-02-13T10:00:52.117Z"
   },
   {
    "duration": 11,
    "start_time": "2022-02-13T10:00:52.370Z"
   },
   {
    "duration": 6,
    "start_time": "2022-02-13T10:00:52.382Z"
   },
   {
    "duration": 31,
    "start_time": "2022-02-13T10:00:52.389Z"
   },
   {
    "duration": 340,
    "start_time": "2022-02-13T10:00:52.422Z"
   },
   {
    "duration": 326,
    "start_time": "2022-02-13T10:00:52.764Z"
   },
   {
    "duration": 338,
    "start_time": "2022-02-13T10:00:53.094Z"
   },
   {
    "duration": 533,
    "start_time": "2022-02-13T10:00:53.434Z"
   },
   {
    "duration": 12,
    "start_time": "2022-02-13T10:00:53.969Z"
   },
   {
    "duration": 17,
    "start_time": "2022-02-13T10:00:53.982Z"
   },
   {
    "duration": 1806,
    "start_time": "2022-02-13T10:00:54.000Z"
   },
   {
    "duration": 12,
    "start_time": "2022-02-13T10:00:55.807Z"
   },
   {
    "duration": 18,
    "start_time": "2022-02-13T10:00:55.820Z"
   },
   {
    "duration": 4,
    "start_time": "2022-02-13T10:03:22.867Z"
   },
   {
    "duration": 1022,
    "start_time": "2022-02-13T10:03:29.955Z"
   },
   {
    "duration": 7,
    "start_time": "2022-02-13T10:03:41.578Z"
   },
   {
    "duration": 10,
    "start_time": "2022-02-13T10:04:03.718Z"
   },
   {
    "duration": 8,
    "start_time": "2022-02-13T10:05:47.979Z"
   },
   {
    "duration": 1581,
    "start_time": "2022-02-15T08:42:02.924Z"
   },
   {
    "duration": 357,
    "start_time": "2022-02-15T08:42:04.507Z"
   },
   {
    "duration": 130,
    "start_time": "2022-02-15T08:42:04.866Z"
   },
   {
    "duration": 144,
    "start_time": "2022-02-15T08:42:04.998Z"
   },
   {
    "duration": 92,
    "start_time": "2022-02-15T08:42:05.143Z"
   },
   {
    "duration": 38,
    "start_time": "2022-02-15T08:42:05.238Z"
   },
   {
    "duration": 56,
    "start_time": "2022-02-15T08:42:05.278Z"
   },
   {
    "duration": 14,
    "start_time": "2022-02-15T08:42:05.335Z"
   },
   {
    "duration": 20,
    "start_time": "2022-02-15T08:42:05.352Z"
   },
   {
    "duration": 109,
    "start_time": "2022-02-15T08:42:05.375Z"
   },
   {
    "duration": 8,
    "start_time": "2022-02-15T08:42:05.486Z"
   },
   {
    "duration": 29,
    "start_time": "2022-02-15T08:42:05.495Z"
   },
   {
    "duration": 65,
    "start_time": "2022-02-15T08:42:05.526Z"
   },
   {
    "duration": 64,
    "start_time": "2022-02-15T08:42:05.592Z"
   },
   {
    "duration": 26,
    "start_time": "2022-02-15T08:42:05.659Z"
   },
   {
    "duration": 44,
    "start_time": "2022-02-15T08:42:05.687Z"
   },
   {
    "duration": 15,
    "start_time": "2022-02-15T08:42:05.733Z"
   },
   {
    "duration": 15,
    "start_time": "2022-02-15T08:42:05.749Z"
   },
   {
    "duration": 30,
    "start_time": "2022-02-15T08:42:05.766Z"
   },
   {
    "duration": 1053,
    "start_time": "2022-02-15T08:42:05.798Z"
   },
   {
    "duration": 10,
    "start_time": "2022-02-15T08:42:06.853Z"
   },
   {
    "duration": 281,
    "start_time": "2022-02-15T08:42:06.865Z"
   },
   {
    "duration": 8,
    "start_time": "2022-02-15T08:42:07.148Z"
   },
   {
    "duration": 138,
    "start_time": "2022-02-15T08:42:07.158Z"
   },
   {
    "duration": 31,
    "start_time": "2022-02-15T08:42:07.297Z"
   },
   {
    "duration": 13,
    "start_time": "2022-02-15T08:42:07.330Z"
   },
   {
    "duration": 45,
    "start_time": "2022-02-15T08:42:07.348Z"
   },
   {
    "duration": 11,
    "start_time": "2022-02-15T08:42:07.395Z"
   },
   {
    "duration": 764,
    "start_time": "2022-02-15T08:42:07.408Z"
   },
   {
    "duration": 393,
    "start_time": "2022-02-15T08:42:08.174Z"
   },
   {
    "duration": 409,
    "start_time": "2022-02-15T08:42:08.568Z"
   },
   {
    "duration": 696,
    "start_time": "2022-02-15T08:42:08.979Z"
   },
   {
    "duration": 10,
    "start_time": "2022-02-15T08:42:09.676Z"
   },
   {
    "duration": 17,
    "start_time": "2022-02-15T08:42:09.719Z"
   },
   {
    "duration": 1135,
    "start_time": "2022-02-15T08:42:09.737Z"
   },
   {
    "duration": 10,
    "start_time": "2022-02-15T08:42:10.873Z"
   },
   {
    "duration": 26,
    "start_time": "2022-02-15T08:42:10.885Z"
   },
   {
    "duration": 985,
    "start_time": "2022-05-21T15:53:47.456Z"
   },
   {
    "duration": 1333,
    "start_time": "2022-05-21T15:53:48.443Z"
   },
   {
    "duration": 175,
    "start_time": "2022-05-21T15:53:49.778Z"
   },
   {
    "duration": 136,
    "start_time": "2022-05-21T15:53:49.954Z"
   },
   {
    "duration": 88,
    "start_time": "2022-05-21T15:53:50.092Z"
   },
   {
    "duration": 50,
    "start_time": "2022-05-21T15:53:50.181Z"
   },
   {
    "duration": 30,
    "start_time": "2022-05-21T15:53:50.233Z"
   },
   {
    "duration": 4,
    "start_time": "2022-05-21T15:53:50.265Z"
   },
   {
    "duration": 33,
    "start_time": "2022-05-21T15:53:50.271Z"
   },
   {
    "duration": 69,
    "start_time": "2022-05-21T15:53:50.306Z"
   },
   {
    "duration": 8,
    "start_time": "2022-05-21T15:53:50.377Z"
   },
   {
    "duration": 20,
    "start_time": "2022-05-21T15:53:50.386Z"
   },
   {
    "duration": 50,
    "start_time": "2022-05-21T15:53:50.408Z"
   },
   {
    "duration": 66,
    "start_time": "2022-05-21T15:53:50.461Z"
   },
   {
    "duration": 28,
    "start_time": "2022-05-21T15:53:50.528Z"
   },
   {
    "duration": 27,
    "start_time": "2022-05-21T15:53:50.558Z"
   },
   {
    "duration": 14,
    "start_time": "2022-05-21T15:53:50.601Z"
   },
   {
    "duration": 3,
    "start_time": "2022-05-21T15:53:50.617Z"
   },
   {
    "duration": 7,
    "start_time": "2022-05-21T15:53:50.621Z"
   },
   {
    "duration": 1080,
    "start_time": "2022-05-21T15:53:50.629Z"
   },
   {
    "duration": 8,
    "start_time": "2022-05-21T15:53:51.711Z"
   },
   {
    "duration": 226,
    "start_time": "2022-05-21T15:53:51.722Z"
   },
   {
    "duration": 9,
    "start_time": "2022-05-21T15:53:51.949Z"
   },
   {
    "duration": 129,
    "start_time": "2022-05-21T15:53:51.959Z"
   },
   {
    "duration": 18,
    "start_time": "2022-05-21T15:53:52.090Z"
   },
   {
    "duration": 4,
    "start_time": "2022-05-21T15:53:52.109Z"
   },
   {
    "duration": 27,
    "start_time": "2022-05-21T15:53:52.114Z"
   },
   {
    "duration": 8,
    "start_time": "2022-05-21T15:53:52.142Z"
   },
   {
    "duration": 304,
    "start_time": "2022-05-21T15:53:52.151Z"
   },
   {
    "duration": 234,
    "start_time": "2022-05-21T15:53:52.456Z"
   },
   {
    "duration": 242,
    "start_time": "2022-05-21T15:53:52.691Z"
   },
   {
    "duration": 340,
    "start_time": "2022-05-21T15:53:52.934Z"
   },
   {
    "duration": 10,
    "start_time": "2022-05-21T15:53:53.276Z"
   },
   {
    "duration": 26,
    "start_time": "2022-05-21T15:53:53.287Z"
   },
   {
    "duration": 1041,
    "start_time": "2022-05-21T15:53:53.315Z"
   },
   {
    "duration": 12,
    "start_time": "2022-05-21T15:53:54.357Z"
   },
   {
    "duration": 31,
    "start_time": "2022-05-21T15:53:54.371Z"
   }
  ],
  "kernelspec": {
   "display_name": "Python 3 (ipykernel)",
   "language": "python",
   "name": "python3"
  },
  "language_info": {
   "codemirror_mode": {
    "name": "ipython",
    "version": 3
   },
   "file_extension": ".py",
   "mimetype": "text/x-python",
   "name": "python",
   "nbconvert_exporter": "python",
   "pygments_lexer": "ipython3",
   "version": "3.9.7"
  },
  "toc": {
   "base_numbering": 1,
   "nav_menu": {},
   "number_sections": true,
   "sideBar": true,
   "skip_h1_title": true,
   "title_cell": "Table of Contents",
   "title_sidebar": "Contents",
   "toc_cell": false,
   "toc_position": {
    "height": "calc(100% - 180px)",
    "left": "10px",
    "top": "150px",
    "width": "257.062px"
   },
   "toc_section_display": true,
   "toc_window_display": true
  }
 },
 "nbformat": 4,
 "nbformat_minor": 2
}

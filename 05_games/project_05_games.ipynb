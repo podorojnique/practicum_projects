{
 "cells": [
  {
   "cell_type": "markdown",
   "metadata": {},
   "source": [
    "# Сборный проект"
   ]
  },
  {
   "cell_type": "markdown",
   "metadata": {},
   "source": [
    "Вы работаете в интернет-магазине «Стримчик», который продаёт по всему миру компьютерные игры. Из открытых источников доступны исторические данные о продажах игр, оценки пользователей и экспертов, жанры и платформы (например, Xbox или PlayStation). Вам нужно выявить определяющие успешность игры закономерности. Это позволит сделать ставку на потенциально популярный продукт и спланировать рекламные кампании.\n",
    "\n",
    "Перед вами данные до 2016 года. Представим, что сейчас декабрь 2016 г., и вы планируете кампанию на 2017-й. Нужно отработать принцип работы с данными. Неважно, прогнозируете ли вы продажи на 2017 год по данным 2016-го или же 2027-й — по данным 2026 года.\n",
    "\n",
    "В наборе данных попадается аббревиатура ESRB (Entertainment Software Rating Board) — это ассоциация, определяющая возрастной рейтинг компьютерных игр. ESRB оценивает игровой контент и присваивает ему подходящую возрастную категорию, например, «Для взрослых», «Для детей младшего возраста» или «Для подростков»."
   ]
  },
  {
   "cell_type": "markdown",
   "metadata": {
    "id": "4o7bHqqQ6gzr"
   },
   "source": [
    "## Изучение данных из файла"
   ]
  },
  {
   "cell_type": "markdown",
   "metadata": {
    "id": "mz88RfrG6kVp"
   },
   "source": [
    "### Первичный анализ данных"
   ]
  },
  {
   "cell_type": "markdown",
   "metadata": {
    "id": "7YwjA9w76nZc"
   },
   "source": [
    "Перед началом анализа импортируем все необходимые для работы библиотеки и загрузим заданный датафрейм"
   ]
  },
  {
   "cell_type": "code",
   "execution_count": 1,
   "metadata": {
    "id": "LnwXvXywX-iN"
   },
   "outputs": [],
   "source": [
    "# импортируем библиотеки для работы с данными, графиками и математическими операторами\n",
    "import pandas as pd\n",
    "import matplotlib.pyplot as plt\n",
    "import seaborn as sns\n",
    "import numpy as np\n",
    "import scipy.stats as st\n",
    "import warnings\n",
    "warnings.simplefilter(action='ignore', category=FutureWarning)"
   ]
  },
  {
   "cell_type": "markdown",
   "metadata": {},
   "source": [
    "В связи с тем, что я сделал большую часть проекта в Google Colab, а потом загрузил проект сюда, мне пришлось обновить библиотекe pandas для корректной работы."
   ]
  },
  {
   "cell_type": "code",
   "execution_count": 3,
   "metadata": {
    "id": "5V38MVJA7XoH"
   },
   "outputs": [],
   "source": [
    "# два варианта загрузки датафреймов через связку try-except, \n",
    "# в связи с тем, что работал над проектом в среде Colab:\n",
    "try:\n",
    "  df = pd.read_csv('/content/drive/MyDrive/Colab Notebooks/project_05/games.csv')\n",
    "except:\n",
    "  df = pd.read_csv('/datasets/games.csv')"
   ]
  },
  {
   "cell_type": "markdown",
   "metadata": {
    "id": "_5GioGA673wd"
   },
   "source": [
    "Выведем общую информацию, количество пропусков, описание и первые строчки представленной таблицы, а также возможное количество дубликатов."
   ]
  },
  {
   "cell_type": "code",
   "execution_count": 4,
   "metadata": {},
   "outputs": [],
   "source": [
    "# воспользуемся функцией автоматизиции вывода первичных данных по заданной таблице\n",
    "def df_analysis(dataframe):\n",
    "    \"\"\"\n",
    "    На вход функция принимает датафрейм.\n",
    "    Выводит поэтапно на экран информацию по таблице методом info(),\n",
    "    10 первых строчек методом head(), описание данных таблицы методом describe(), \n",
    "    а также выводит долю пропусков по столбцам с количеством дубликатов по всей таблице.\n",
    "    \"\"\"\n",
    "    display(dataframe.info())\n",
    "    display(dataframe.head(10))\n",
    "    display(dataframe.describe())\n",
    "    print(f'Доля пропусков в таблице {dataframe.isna().mean().apply(\"{:.2%}\".format)}, количество дубликатов {dataframe.duplicated().sum()}')"
   ]
  },
  {
   "cell_type": "code",
   "execution_count": 5,
   "metadata": {},
   "outputs": [
    {
     "name": "stdout",
     "output_type": "stream",
     "text": [
      "<class 'pandas.core.frame.DataFrame'>\n",
      "RangeIndex: 16715 entries, 0 to 16714\n",
      "Data columns (total 11 columns):\n",
      " #   Column           Non-Null Count  Dtype  \n",
      "---  ------           --------------  -----  \n",
      " 0   Name             16713 non-null  object \n",
      " 1   Platform         16715 non-null  object \n",
      " 2   Year_of_Release  16446 non-null  float64\n",
      " 3   Genre            16713 non-null  object \n",
      " 4   NA_sales         16715 non-null  float64\n",
      " 5   EU_sales         16715 non-null  float64\n",
      " 6   JP_sales         16715 non-null  float64\n",
      " 7   Other_sales      16715 non-null  float64\n",
      " 8   Critic_Score     8137 non-null   float64\n",
      " 9   User_Score       10014 non-null  object \n",
      " 10  Rating           9949 non-null   object \n",
      "dtypes: float64(6), object(5)\n",
      "memory usage: 1.4+ MB\n"
     ]
    },
    {
     "data": {
      "text/plain": [
       "None"
      ]
     },
     "metadata": {},
     "output_type": "display_data"
    },
    {
     "data": {
      "text/html": [
       "<div>\n",
       "<style scoped>\n",
       "    .dataframe tbody tr th:only-of-type {\n",
       "        vertical-align: middle;\n",
       "    }\n",
       "\n",
       "    .dataframe tbody tr th {\n",
       "        vertical-align: top;\n",
       "    }\n",
       "\n",
       "    .dataframe thead th {\n",
       "        text-align: right;\n",
       "    }\n",
       "</style>\n",
       "<table border=\"1\" class=\"dataframe\">\n",
       "  <thead>\n",
       "    <tr style=\"text-align: right;\">\n",
       "      <th></th>\n",
       "      <th>Name</th>\n",
       "      <th>Platform</th>\n",
       "      <th>Year_of_Release</th>\n",
       "      <th>Genre</th>\n",
       "      <th>NA_sales</th>\n",
       "      <th>EU_sales</th>\n",
       "      <th>JP_sales</th>\n",
       "      <th>Other_sales</th>\n",
       "      <th>Critic_Score</th>\n",
       "      <th>User_Score</th>\n",
       "      <th>Rating</th>\n",
       "    </tr>\n",
       "  </thead>\n",
       "  <tbody>\n",
       "    <tr>\n",
       "      <th>0</th>\n",
       "      <td>Wii Sports</td>\n",
       "      <td>Wii</td>\n",
       "      <td>2006.0</td>\n",
       "      <td>Sports</td>\n",
       "      <td>41.36</td>\n",
       "      <td>28.96</td>\n",
       "      <td>3.77</td>\n",
       "      <td>8.45</td>\n",
       "      <td>76.0</td>\n",
       "      <td>8</td>\n",
       "      <td>E</td>\n",
       "    </tr>\n",
       "    <tr>\n",
       "      <th>1</th>\n",
       "      <td>Super Mario Bros.</td>\n",
       "      <td>NES</td>\n",
       "      <td>1985.0</td>\n",
       "      <td>Platform</td>\n",
       "      <td>29.08</td>\n",
       "      <td>3.58</td>\n",
       "      <td>6.81</td>\n",
       "      <td>0.77</td>\n",
       "      <td>NaN</td>\n",
       "      <td>NaN</td>\n",
       "      <td>NaN</td>\n",
       "    </tr>\n",
       "    <tr>\n",
       "      <th>2</th>\n",
       "      <td>Mario Kart Wii</td>\n",
       "      <td>Wii</td>\n",
       "      <td>2008.0</td>\n",
       "      <td>Racing</td>\n",
       "      <td>15.68</td>\n",
       "      <td>12.76</td>\n",
       "      <td>3.79</td>\n",
       "      <td>3.29</td>\n",
       "      <td>82.0</td>\n",
       "      <td>8.3</td>\n",
       "      <td>E</td>\n",
       "    </tr>\n",
       "    <tr>\n",
       "      <th>3</th>\n",
       "      <td>Wii Sports Resort</td>\n",
       "      <td>Wii</td>\n",
       "      <td>2009.0</td>\n",
       "      <td>Sports</td>\n",
       "      <td>15.61</td>\n",
       "      <td>10.93</td>\n",
       "      <td>3.28</td>\n",
       "      <td>2.95</td>\n",
       "      <td>80.0</td>\n",
       "      <td>8</td>\n",
       "      <td>E</td>\n",
       "    </tr>\n",
       "    <tr>\n",
       "      <th>4</th>\n",
       "      <td>Pokemon Red/Pokemon Blue</td>\n",
       "      <td>GB</td>\n",
       "      <td>1996.0</td>\n",
       "      <td>Role-Playing</td>\n",
       "      <td>11.27</td>\n",
       "      <td>8.89</td>\n",
       "      <td>10.22</td>\n",
       "      <td>1.00</td>\n",
       "      <td>NaN</td>\n",
       "      <td>NaN</td>\n",
       "      <td>NaN</td>\n",
       "    </tr>\n",
       "    <tr>\n",
       "      <th>5</th>\n",
       "      <td>Tetris</td>\n",
       "      <td>GB</td>\n",
       "      <td>1989.0</td>\n",
       "      <td>Puzzle</td>\n",
       "      <td>23.20</td>\n",
       "      <td>2.26</td>\n",
       "      <td>4.22</td>\n",
       "      <td>0.58</td>\n",
       "      <td>NaN</td>\n",
       "      <td>NaN</td>\n",
       "      <td>NaN</td>\n",
       "    </tr>\n",
       "    <tr>\n",
       "      <th>6</th>\n",
       "      <td>New Super Mario Bros.</td>\n",
       "      <td>DS</td>\n",
       "      <td>2006.0</td>\n",
       "      <td>Platform</td>\n",
       "      <td>11.28</td>\n",
       "      <td>9.14</td>\n",
       "      <td>6.50</td>\n",
       "      <td>2.88</td>\n",
       "      <td>89.0</td>\n",
       "      <td>8.5</td>\n",
       "      <td>E</td>\n",
       "    </tr>\n",
       "    <tr>\n",
       "      <th>7</th>\n",
       "      <td>Wii Play</td>\n",
       "      <td>Wii</td>\n",
       "      <td>2006.0</td>\n",
       "      <td>Misc</td>\n",
       "      <td>13.96</td>\n",
       "      <td>9.18</td>\n",
       "      <td>2.93</td>\n",
       "      <td>2.84</td>\n",
       "      <td>58.0</td>\n",
       "      <td>6.6</td>\n",
       "      <td>E</td>\n",
       "    </tr>\n",
       "    <tr>\n",
       "      <th>8</th>\n",
       "      <td>New Super Mario Bros. Wii</td>\n",
       "      <td>Wii</td>\n",
       "      <td>2009.0</td>\n",
       "      <td>Platform</td>\n",
       "      <td>14.44</td>\n",
       "      <td>6.94</td>\n",
       "      <td>4.70</td>\n",
       "      <td>2.24</td>\n",
       "      <td>87.0</td>\n",
       "      <td>8.4</td>\n",
       "      <td>E</td>\n",
       "    </tr>\n",
       "    <tr>\n",
       "      <th>9</th>\n",
       "      <td>Duck Hunt</td>\n",
       "      <td>NES</td>\n",
       "      <td>1984.0</td>\n",
       "      <td>Shooter</td>\n",
       "      <td>26.93</td>\n",
       "      <td>0.63</td>\n",
       "      <td>0.28</td>\n",
       "      <td>0.47</td>\n",
       "      <td>NaN</td>\n",
       "      <td>NaN</td>\n",
       "      <td>NaN</td>\n",
       "    </tr>\n",
       "  </tbody>\n",
       "</table>\n",
       "</div>"
      ],
      "text/plain": [
       "                        Name Platform  Year_of_Release         Genre  \\\n",
       "0                 Wii Sports      Wii           2006.0        Sports   \n",
       "1          Super Mario Bros.      NES           1985.0      Platform   \n",
       "2             Mario Kart Wii      Wii           2008.0        Racing   \n",
       "3          Wii Sports Resort      Wii           2009.0        Sports   \n",
       "4   Pokemon Red/Pokemon Blue       GB           1996.0  Role-Playing   \n",
       "5                     Tetris       GB           1989.0        Puzzle   \n",
       "6      New Super Mario Bros.       DS           2006.0      Platform   \n",
       "7                   Wii Play      Wii           2006.0          Misc   \n",
       "8  New Super Mario Bros. Wii      Wii           2009.0      Platform   \n",
       "9                  Duck Hunt      NES           1984.0       Shooter   \n",
       "\n",
       "   NA_sales  EU_sales  JP_sales  Other_sales  Critic_Score User_Score Rating  \n",
       "0     41.36     28.96      3.77         8.45          76.0          8      E  \n",
       "1     29.08      3.58      6.81         0.77           NaN        NaN    NaN  \n",
       "2     15.68     12.76      3.79         3.29          82.0        8.3      E  \n",
       "3     15.61     10.93      3.28         2.95          80.0          8      E  \n",
       "4     11.27      8.89     10.22         1.00           NaN        NaN    NaN  \n",
       "5     23.20      2.26      4.22         0.58           NaN        NaN    NaN  \n",
       "6     11.28      9.14      6.50         2.88          89.0        8.5      E  \n",
       "7     13.96      9.18      2.93         2.84          58.0        6.6      E  \n",
       "8     14.44      6.94      4.70         2.24          87.0        8.4      E  \n",
       "9     26.93      0.63      0.28         0.47           NaN        NaN    NaN  "
      ]
     },
     "metadata": {},
     "output_type": "display_data"
    },
    {
     "data": {
      "text/html": [
       "<div>\n",
       "<style scoped>\n",
       "    .dataframe tbody tr th:only-of-type {\n",
       "        vertical-align: middle;\n",
       "    }\n",
       "\n",
       "    .dataframe tbody tr th {\n",
       "        vertical-align: top;\n",
       "    }\n",
       "\n",
       "    .dataframe thead th {\n",
       "        text-align: right;\n",
       "    }\n",
       "</style>\n",
       "<table border=\"1\" class=\"dataframe\">\n",
       "  <thead>\n",
       "    <tr style=\"text-align: right;\">\n",
       "      <th></th>\n",
       "      <th>Year_of_Release</th>\n",
       "      <th>NA_sales</th>\n",
       "      <th>EU_sales</th>\n",
       "      <th>JP_sales</th>\n",
       "      <th>Other_sales</th>\n",
       "      <th>Critic_Score</th>\n",
       "    </tr>\n",
       "  </thead>\n",
       "  <tbody>\n",
       "    <tr>\n",
       "      <th>count</th>\n",
       "      <td>16446.000000</td>\n",
       "      <td>16715.000000</td>\n",
       "      <td>16715.000000</td>\n",
       "      <td>16715.000000</td>\n",
       "      <td>16715.000000</td>\n",
       "      <td>8137.000000</td>\n",
       "    </tr>\n",
       "    <tr>\n",
       "      <th>mean</th>\n",
       "      <td>2006.484616</td>\n",
       "      <td>0.263377</td>\n",
       "      <td>0.145060</td>\n",
       "      <td>0.077617</td>\n",
       "      <td>0.047342</td>\n",
       "      <td>68.967679</td>\n",
       "    </tr>\n",
       "    <tr>\n",
       "      <th>std</th>\n",
       "      <td>5.877050</td>\n",
       "      <td>0.813604</td>\n",
       "      <td>0.503339</td>\n",
       "      <td>0.308853</td>\n",
       "      <td>0.186731</td>\n",
       "      <td>13.938165</td>\n",
       "    </tr>\n",
       "    <tr>\n",
       "      <th>min</th>\n",
       "      <td>1980.000000</td>\n",
       "      <td>0.000000</td>\n",
       "      <td>0.000000</td>\n",
       "      <td>0.000000</td>\n",
       "      <td>0.000000</td>\n",
       "      <td>13.000000</td>\n",
       "    </tr>\n",
       "    <tr>\n",
       "      <th>25%</th>\n",
       "      <td>2003.000000</td>\n",
       "      <td>0.000000</td>\n",
       "      <td>0.000000</td>\n",
       "      <td>0.000000</td>\n",
       "      <td>0.000000</td>\n",
       "      <td>60.000000</td>\n",
       "    </tr>\n",
       "    <tr>\n",
       "      <th>50%</th>\n",
       "      <td>2007.000000</td>\n",
       "      <td>0.080000</td>\n",
       "      <td>0.020000</td>\n",
       "      <td>0.000000</td>\n",
       "      <td>0.010000</td>\n",
       "      <td>71.000000</td>\n",
       "    </tr>\n",
       "    <tr>\n",
       "      <th>75%</th>\n",
       "      <td>2010.000000</td>\n",
       "      <td>0.240000</td>\n",
       "      <td>0.110000</td>\n",
       "      <td>0.040000</td>\n",
       "      <td>0.030000</td>\n",
       "      <td>79.000000</td>\n",
       "    </tr>\n",
       "    <tr>\n",
       "      <th>max</th>\n",
       "      <td>2016.000000</td>\n",
       "      <td>41.360000</td>\n",
       "      <td>28.960000</td>\n",
       "      <td>10.220000</td>\n",
       "      <td>10.570000</td>\n",
       "      <td>98.000000</td>\n",
       "    </tr>\n",
       "  </tbody>\n",
       "</table>\n",
       "</div>"
      ],
      "text/plain": [
       "       Year_of_Release      NA_sales      EU_sales      JP_sales  \\\n",
       "count     16446.000000  16715.000000  16715.000000  16715.000000   \n",
       "mean       2006.484616      0.263377      0.145060      0.077617   \n",
       "std           5.877050      0.813604      0.503339      0.308853   \n",
       "min        1980.000000      0.000000      0.000000      0.000000   \n",
       "25%        2003.000000      0.000000      0.000000      0.000000   \n",
       "50%        2007.000000      0.080000      0.020000      0.000000   \n",
       "75%        2010.000000      0.240000      0.110000      0.040000   \n",
       "max        2016.000000     41.360000     28.960000     10.220000   \n",
       "\n",
       "        Other_sales  Critic_Score  \n",
       "count  16715.000000   8137.000000  \n",
       "mean       0.047342     68.967679  \n",
       "std        0.186731     13.938165  \n",
       "min        0.000000     13.000000  \n",
       "25%        0.000000     60.000000  \n",
       "50%        0.010000     71.000000  \n",
       "75%        0.030000     79.000000  \n",
       "max       10.570000     98.000000  "
      ]
     },
     "metadata": {},
     "output_type": "display_data"
    },
    {
     "name": "stdout",
     "output_type": "stream",
     "text": [
      "Доля пропусков в таблице Name                0.01%\n",
      "Platform            0.00%\n",
      "Year_of_Release     1.61%\n",
      "Genre               0.01%\n",
      "NA_sales            0.00%\n",
      "EU_sales            0.00%\n",
      "JP_sales            0.00%\n",
      "Other_sales         0.00%\n",
      "Critic_Score       51.32%\n",
      "User_Score         40.09%\n",
      "Rating             40.48%\n",
      "dtype: object, количество дубликатов 0\n"
     ]
    }
   ],
   "source": [
    "# с помощью функции df_analysis выведем первичную информацию по заданной таблице\n",
    "df_analysis(df)"
   ]
  },
  {
   "cell_type": "markdown",
   "metadata": {
    "id": "TAK_fwCiKDPX"
   },
   "source": [
    "Разберем уникальные значения некоторых столбцов более подробно:"
   ]
  },
  {
   "cell_type": "code",
   "execution_count": 6,
   "metadata": {
    "colab": {
     "base_uri": "https://localhost:8080/"
    },
    "id": "TCkRqsSMKHnc",
    "outputId": "0d9a2ef5-caae-4d8d-87ae-a63b41e188c4"
   },
   "outputs": [
    {
     "data": {
      "text/plain": [
       "array([2006., 1985., 2008., 2009., 1996., 1989., 1984., 2005., 1999.,\n",
       "       2007., 2010., 2013., 2004., 1990., 1988., 2002., 2001., 2011.,\n",
       "       1998., 2015., 2012., 2014., 1992., 1997., 1993., 1994., 1982.,\n",
       "       2016., 2003., 1986., 2000.,   nan, 1995., 1991., 1981., 1987.,\n",
       "       1980., 1983.])"
      ]
     },
     "execution_count": 6,
     "metadata": {},
     "output_type": "execute_result"
    }
   ],
   "source": [
    "df['Year_of_Release'].unique()"
   ]
  },
  {
   "cell_type": "code",
   "execution_count": 7,
   "metadata": {
    "colab": {
     "base_uri": "https://localhost:8080/"
    },
    "id": "4nl-4BMQKCqd",
    "outputId": "1b158079-7595-4fcb-f37d-ab16342ccbc8"
   },
   "outputs": [
    {
     "data": {
      "text/plain": [
       "array(['8', nan, '8.3', '8.5', '6.6', '8.4', '8.6', '7.7', '6.3', '7.4',\n",
       "       '8.2', '9', '7.9', '8.1', '8.7', '7.1', '3.4', '5.3', '4.8', '3.2',\n",
       "       '8.9', '6.4', '7.8', '7.5', '2.6', '7.2', '9.2', '7', '7.3', '4.3',\n",
       "       '7.6', '5.7', '5', '9.1', '6.5', 'tbd', '8.8', '6.9', '9.4', '6.8',\n",
       "       '6.1', '6.7', '5.4', '4', '4.9', '4.5', '9.3', '6.2', '4.2', '6',\n",
       "       '3.7', '4.1', '5.8', '5.6', '5.5', '4.4', '4.6', '5.9', '3.9',\n",
       "       '3.1', '2.9', '5.2', '3.3', '4.7', '5.1', '3.5', '2.5', '1.9', '3',\n",
       "       '2.7', '2.2', '2', '9.5', '2.1', '3.6', '2.8', '1.8', '3.8', '0',\n",
       "       '1.6', '9.6', '2.4', '1.7', '1.1', '0.3', '1.5', '0.7', '1.2',\n",
       "       '2.3', '0.5', '1.3', '0.2', '0.6', '1.4', '0.9', '1', '9.7'],\n",
       "      dtype=object)"
      ]
     },
     "execution_count": 7,
     "metadata": {},
     "output_type": "execute_result"
    }
   ],
   "source": [
    "df['User_Score'].unique()"
   ]
  },
  {
   "cell_type": "code",
   "execution_count": 8,
   "metadata": {
    "colab": {
     "base_uri": "https://localhost:8080/"
    },
    "id": "AhADzBQ5Ku07",
    "outputId": "2c6d52f8-eabd-4872-bea7-14e67780f188"
   },
   "outputs": [
    {
     "data": {
      "text/plain": [
       "array(['Sports', 'Platform', 'Racing', 'Role-Playing', 'Puzzle', 'Misc',\n",
       "       'Shooter', 'Simulation', 'Action', 'Fighting', 'Adventure',\n",
       "       'Strategy', nan], dtype=object)"
      ]
     },
     "execution_count": 8,
     "metadata": {},
     "output_type": "execute_result"
    }
   ],
   "source": [
    "df['Genre'].unique()"
   ]
  },
  {
   "cell_type": "markdown",
   "metadata": {
    "id": "1JJgfRBE_lAO"
   },
   "source": [
    "Согласно документации таблица имеет следующие столбцы:\n",
    "\n",
    "* `Name` — название игры\n",
    "* `Platform` — платформа\n",
    "*\t`Year_of_Release` — год выпуска\n",
    "*\t`Genre` — жанр игры\n",
    "*\t`NA_sales` — продажи в Северной Америке (миллионы проданных копий)\n",
    "*\t`EU_sales` — продажи в Европе (миллионы проданных копий)\n",
    "*\t`JP_sales` — продажи в Японии (миллионы проданных копий)\n",
    "*\t`Other_sales` — продажи в других странах (миллионы проданных копий)\n",
    "*\t`Critic_Score` — оценка критиков (максимум 100)\n",
    "*\t`User_Score` — оценка пользователей (максимум 10)\n",
    "*\t`Rating` — рейтинг от организации ESRB (англ. Entertainment Software Rating Board). Эта ассоциация определяет рейтинг компьютерных игр и присваивает им подходящую возрастную категорию.\n"
   ]
  },
  {
   "cell_type": "markdown",
   "metadata": {
    "id": "AotpcWR_BOM2"
   },
   "source": [
    "### Вывод"
   ]
  },
  {
   "cell_type": "markdown",
   "metadata": {
    "id": "VacxKI9UBQDx"
   },
   "source": [
    "В таблице находятся данные о продажах игр, оценки пользователей и экспертов, жанры и платформы (например, Xbox или PlayStation) за 2016 год.\n",
    "\n",
    "В данных обнаржуены следующие проблемы:\n",
    "\n",
    "* названия всех столбцов написаны с заглавной буквы, необходимо привести к нижнему регистру;\n",
    "* в столбце `Name` пропущено 0.01% данных;\n",
    "* столбец `Year_of_Release` имеет тип данных *float*, а содержит в себе год выпуска игры, соотвественно необходимо привести к целочисленному типу данных *int*. Также в столбце пропущено 1.6% данных;\n",
    "* в столбце `Genre` пропущено 0.01% данных;\n",
    "* в столбце `Critic_Score` пропущено 51,32% данных;\n",
    "* столбец `User_Score` имеет строчный тип данных *object*, а содержит информацию о пользовательских оценках, соответственно необходимо привести к типу числа с плавающей точкой *float*. Также в столбце пропущено 40,09% данных;\n",
    "* в столбце `Rating` пропущено 40,48% данных.\n",
    "\n",
    "Данных достаточно для анализа, необходимо устранить ошибки и перевести некоторые столбцы к нужному типа данных, а также попытаться объяснить причину появления пропусков и по возможности заполнить их. Дубликаты в данных отсутствуют."
   ]
  },
  {
   "cell_type": "markdown",
   "metadata": {
    "id": "qkdc2uzKFnmN"
   },
   "source": [
    "## Подготовка данных"
   ]
  },
  {
   "cell_type": "markdown",
   "metadata": {
    "id": "RkmsaicyFs5z"
   },
   "source": [
    "Заменим наименование столбцов (приведем к нижнему регистру), преобразуем данные в нужные типа, проанализируем и заполним пропуски.\n",
    "\n",
    "Рассчитаем суммарные продажи во всех регионах и запишем их в отдельный столбец."
   ]
  },
  {
   "cell_type": "markdown",
   "metadata": {
    "id": "rCYbEY3CLp61"
   },
   "source": [
    "### Переименование столбцов"
   ]
  },
  {
   "cell_type": "markdown",
   "metadata": {
    "id": "_lFSm-GHMusz"
   },
   "source": [
    "Приведем названия всех столбцов к нижнему регистру"
   ]
  },
  {
   "cell_type": "code",
   "execution_count": 9,
   "metadata": {
    "id": "x79R9svoKeuR"
   },
   "outputs": [],
   "source": [
    "# приведем названия столбцов к нижнему регистру, используя метод str.lower()\n",
    "# и перезапишем таблицу\n",
    "df.columns = df.columns.str.lower()"
   ]
  },
  {
   "cell_type": "markdown",
   "metadata": {
    "id": "sAHPFNq1NKSi"
   },
   "source": [
    "### Изменение типов данных"
   ]
  },
  {
   "cell_type": "markdown",
   "metadata": {
    "id": "4UfuJ-dKNkMo"
   },
   "source": [
    "Необходимо изменить тип данных у следующих столбцов:\n",
    "\n",
    "* столбец `year_of_release` тип данных *float* необходимо привести к целочисленному типу данных *int*\n",
    "* столбец `user_score` строчный тип данных *object* необходимо привести к типу числа с плавающей точкой *float*."
   ]
  },
  {
   "cell_type": "markdown",
   "metadata": {
    "id": "mZP-8GnlruXO"
   },
   "source": [
    "#### Столбец `year_of_release`"
   ]
  },
  {
   "cell_type": "markdown",
   "metadata": {
    "id": "3T5JShdBr0sb"
   },
   "source": [
    "Изменим тип данных столбца `year_of_release`"
   ]
  },
  {
   "cell_type": "code",
   "execution_count": 10,
   "metadata": {
    "id": "me0P_CTzNPVz"
   },
   "outputs": [],
   "source": [
    "# изменим тип данных year_of_release и перезапишем его\n",
    "df['year_of_release'] = df['year_of_release'].astype('Int64')"
   ]
  },
  {
   "cell_type": "markdown",
   "metadata": {
    "id": "DrVrBFdNr-iN"
   },
   "source": [
    "#### Столбец `user_score`"
   ]
  },
  {
   "cell_type": "markdown",
   "metadata": {
    "id": "o2FV3onJRlMW"
   },
   "source": [
    "В связи с тем, что в столбце `user_score` имеются строчные значения `tbd`, сразу невозможно изменить тип данных на *float*. \n",
    "\n",
    "По информации из Интернета аббревиатура `tbd` от английского *To Be Determined* (будет определено) или *To Be Decided* (будет решено). Используется, если какая-то информация еще не определена или решение по вопросу не принято.\n",
    "\n",
    "Т.е. по каким-то причинам пользовательский рейтинг игры не был определен. \n",
    "\n",
    "Рассчитаем долю значений `tbd` в столбце"
   ]
  },
  {
   "cell_type": "code",
   "execution_count": 11,
   "metadata": {
    "colab": {
     "base_uri": "https://localhost:8080/"
    },
    "id": "uibwCACjpd2h",
    "outputId": "991987d4-f1ca-4036-fd57-decb390e345e"
   },
   "outputs": [
    {
     "data": {
      "text/plain": [
       "0.1450194436135208"
      ]
     },
     "execution_count": 11,
     "metadata": {},
     "output_type": "execute_result"
    }
   ],
   "source": [
    "# рассчитаем долю значений tbd разделив количество ячеек с этим значением на их общее число\n",
    "len(df.query('user_score == \"tbd\"')) / len(df['user_score'])"
   ]
  },
  {
   "cell_type": "markdown",
   "metadata": {
    "id": "840Knd84rTnK"
   },
   "source": [
    "Доля значенией в столбце составляет 14,5%. Необоснованное изменение `tbd` на числовые значения могут сильно исказить статистический анализ.\n",
    "\n",
    "Для дальнейшей работы заменим `tbd` на пропуски NaN и изменим тип данных на float. "
   ]
  },
  {
   "cell_type": "code",
   "execution_count": 12,
   "metadata": {
    "id": "G39V7NL5Oqt4"
   },
   "outputs": [],
   "source": [
    "# заменим значения tbd на пропуски NaN\n",
    "df['user_score'] = df['user_score'].replace('tbd', np.NaN)\n",
    "\n",
    "# изменим тип данных на float\n",
    "df['user_score'] = df['user_score'].astype('float64')"
   ]
  },
  {
   "cell_type": "markdown",
   "metadata": {
    "id": "a-jHaB6OufMs"
   },
   "source": [
    "После этого пересчитаем долю пропусков в данном столбце"
   ]
  },
  {
   "cell_type": "code",
   "execution_count": 13,
   "metadata": {
    "colab": {
     "base_uri": "https://localhost:8080/"
    },
    "id": "ZSsYOF6iumkd",
    "outputId": "802ea9b0-4df1-4a84-9753-5e8fca11c394"
   },
   "outputs": [
    {
     "data": {
      "text/plain": [
       "0.5459168411606342"
      ]
     },
     "execution_count": 13,
     "metadata": {},
     "output_type": "execute_result"
    }
   ],
   "source": [
    "# рассчитаем долю пропусков в столбце user_score\n",
    "df['user_score'].isna().mean()"
   ]
  },
  {
   "cell_type": "markdown",
   "metadata": {
    "id": "GdMk1iRPtiRP"
   },
   "source": [
    "### Заполнение пропусков"
   ]
  },
  {
   "cell_type": "markdown",
   "metadata": {
    "id": "_GfPMYImtxpS"
   },
   "source": [
    "Как уже выяснили в первичном анализе, пропуски имеются в следующих столбцах:\n",
    "\n",
    "* `name` 0.01% пропусков;\n",
    "* `year_of_release` 1.6% пропусков;\n",
    "* `genre` 0.01% пропусков;\n",
    "* `critic_score` 51.32% пропусков;\n",
    "* `user_score` 54.59% пропусков;\n",
    "* `rating` 40.48% пропусков."
   ]
  },
  {
   "cell_type": "markdown",
   "metadata": {
    "id": "X8xOuiqvXyQQ"
   },
   "source": [
    "#### Столбцы `name` и `genre`"
   ]
  },
  {
   "cell_type": "markdown",
   "metadata": {
    "id": "ZtUiOLHtYLJP"
   },
   "source": [
    "В столбцах незначительное количество пропусков, всего 0.01%, поэтому данные пропуски можно удалить."
   ]
  },
  {
   "cell_type": "code",
   "execution_count": 14,
   "metadata": {
    "id": "KAPT3WmnpGvD"
   },
   "outputs": [],
   "source": [
    "# удалим пропуски в столбцах name и genre, перезапишем таблицу и сбросим индексацию\n",
    "df['name'] = df['name'].dropna()\n",
    "df['genre'] = df['genre'].dropna()\n",
    "df = df.reset_index(drop=True)"
   ]
  },
  {
   "cell_type": "markdown",
   "metadata": {
    "id": "JGhrpQZNZ8Bu"
   },
   "source": [
    "#### Столбец `year_of_release`"
   ]
  },
  {
   "cell_type": "markdown",
   "metadata": {
    "id": "WM3zLaekaBE9"
   },
   "source": [
    "Для замены пропусков в столбце с годом выхода игры, воспользуемся годом выхода этой же игры, только на другой платформе. Возможна ситцация, когда игра на разных платформах выходила в разное время. Но т.к. количество пропусков в таблице всего 1.6%, то это не критично."
   ]
  },
  {
   "cell_type": "code",
   "execution_count": 15,
   "metadata": {
    "id": "TLUhj6AmbCOX"
   },
   "outputs": [],
   "source": [
    "# циклом выделим все ячейки с пропусками в столбце year_of_release\n",
    "# и если есть ячейки с совпадающим названием игры (или игр, если их несколько), \n",
    "# то берем максимальный год выхода\n",
    "for index in df[df['year_of_release'].isna() == True].index:  \n",
    "    df['year_of_release'][index] = df.loc[df['name'] == df['name'][index],\n",
    "                                          'year_of_release'].max()"
   ]
  },
  {
   "cell_type": "markdown",
   "metadata": {
    "id": "tjTYjLxqdpma"
   },
   "source": [
    "После замены проверим долю пропусков по столбцу"
   ]
  },
  {
   "cell_type": "code",
   "execution_count": 16,
   "metadata": {
    "colab": {
     "base_uri": "https://localhost:8080/"
    },
    "id": "fgwoK66Vdy0t",
    "outputId": "8239f9ff-98ac-4407-ab84-0211ada20ee7"
   },
   "outputs": [
    {
     "data": {
      "text/plain": [
       "0.008734669458570146"
      ]
     },
     "execution_count": 16,
     "metadata": {},
     "output_type": "execute_result"
    }
   ],
   "source": [
    "df['year_of_release'].isna().mean()"
   ]
  },
  {
   "cell_type": "markdown",
   "metadata": {
    "id": "PEtu0QWneBnh"
   },
   "source": [
    "Оставшихся пропусков очень мало, менее 1%, поэтому их можно удалить."
   ]
  },
  {
   "cell_type": "code",
   "execution_count": 17,
   "metadata": {
    "id": "xB4exixCdo9T"
   },
   "outputs": [],
   "source": [
    "# удалим оставшиеся пропуски , перезапишем таблицу и сбросим индексацию\n",
    "df['year_of_release'] = df['year_of_release'].dropna()\n",
    "df = df.reset_index(drop=True)"
   ]
  },
  {
   "cell_type": "markdown",
   "metadata": {
    "id": "RcJO-8oXeiPr"
   },
   "source": [
    "#### Столбцы `critic_score`, `user_score`"
   ]
  },
  {
   "cell_type": "markdown",
   "metadata": {
    "id": "nZeIr05uev5q"
   },
   "source": [
    "Пропусков в этих столбцах очень много, но адекватной замены для них нет. Поэтому целесообразно оставить их"
   ]
  },
  {
   "cell_type": "markdown",
   "metadata": {},
   "source": [
    "#### Столбец `rating`"
   ]
  },
  {
   "cell_type": "markdown",
   "metadata": {},
   "source": [
    "Пропуски в столбце рейтинг возможны по причине того, что игра не сертифицируется ассоциацией ESRB, но для дальнейшего анализа такие игры тоже необходимы. Соответствено пропуск в этом столбце заменим на значение `no_rating`"
   ]
  },
  {
   "cell_type": "code",
   "execution_count": 18,
   "metadata": {},
   "outputs": [],
   "source": [
    "# заполним пропуски столбца rating значениями no_rating\n",
    "df['rating'] = df['rating'].fillna('no_rating')"
   ]
  },
  {
   "cell_type": "markdown",
   "metadata": {
    "id": "-eyqrwsdv2D6"
   },
   "source": [
    "### Расчет суммарных продаж"
   ]
  },
  {
   "cell_type": "markdown",
   "metadata": {
    "id": "X6DH2Oy5v83q"
   },
   "source": [
    "Рассчитаем сумму продаж игр по всем регионам NA, EU, JP, а также других и добавим ее в новый столбец `all_sales`"
   ]
  },
  {
   "cell_type": "code",
   "execution_count": 19,
   "metadata": {
    "id": "2qTqvkxfwTWc"
   },
   "outputs": [],
   "source": [
    "# создадим новый столбец all_sales и добавим в него сумму продаж всех регионов\n",
    "all_sales = ['na_sales', 'eu_sales', 'jp_sales', 'other_sales']\n",
    "df['all_sales'] = df[all_sales].sum(axis=1)"
   ]
  },
  {
   "cell_type": "markdown",
   "metadata": {
    "id": "0rkSmNvQfFuA"
   },
   "source": [
    "### Вывод"
   ]
  },
  {
   "cell_type": "markdown",
   "metadata": {
    "id": "EBCq_piVfIAw"
   },
   "source": [
    "Мы успешно привели наименования столбцов к нижнему регистру написания, преобразовали необходимые данные в нужные типа и обработали пропуски. Также рассчитали суммарные продажи во всех регионах и записали их в отдельный столбец."
   ]
  },
  {
   "cell_type": "markdown",
   "metadata": {
    "id": "6LF9DY-Ef2MM"
   },
   "source": [
    "## Исследовательский анализ данных"
   ]
  },
  {
   "cell_type": "markdown",
   "metadata": {
    "id": "apsIz3B7lbmW"
   },
   "source": [
    "### Выпуск игр в разные годы"
   ]
  },
  {
   "cell_type": "markdown",
   "metadata": {
    "id": "p2m7vPVWlhyl"
   },
   "source": [
    "Рассмотрим выпуск игр в разные годы. Для этого создадим сводную таблицу и построим по ней линейный график."
   ]
  },
  {
   "cell_type": "code",
   "execution_count": 20,
   "metadata": {
    "colab": {
     "base_uri": "https://localhost:8080/",
     "height": 410
    },
    "id": "lcx8_aqKfo8o",
    "outputId": "a2605abf-1707-4cda-8907-7259a816a3ed"
   },
   "outputs": [
    {
     "data": {
      "image/png": "[encoded data removed]",
      "text/plain": [
       "<Figure size 864x432 with 1 Axes>"
      ]
     },
     "metadata": {
      "needs_background": "light"
     },
     "output_type": "display_data"
    }
   ],
   "source": [
    "# соберем сводную таблицу по количеству выпускаемых игр в разные годы и \n",
    "year_release_pivot = pd.pivot_table(df, index='year_of_release',\n",
    "                                    values='platform', aggfunc='count')\n",
    "year_release_pivot.columns = ['release_count']\n",
    "\n",
    "# по данной сводной таблице построим линейный график\n",
    "plt.figure(figsize=(12, 6))\n",
    "#sns.set_theme(style='darkgrid')\n",
    "sns.lineplot(data=year_release_pivot, x=year_release_pivot.index, \n",
    "             y='release_count').set(title='Выпуск игр в разные годы', \n",
    "                                    xlabel='Год выпуска', ylabel='Количество игр');"
   ]
  },
  {
   "cell_type": "markdown",
   "metadata": {
    "id": "Vj41HOAKNNRv"
   },
   "source": [
    "На представленном график мы видим, что происходило с игровыми релизами с 1980 по 2016 года:\n",
    "* с 1980 по 1992 год крайне редкие выпуски игр, в связи с ограниченными технологиями;\n",
    "* умеренный рост игровых релизов с 1993 по 2002 года, начало технического прогресса в сфере разработки игры;\n",
    "* небольшой спад между 2002 и 2005 годами;\n",
    "* затем бурный рост с 2004 по 2009 года;\n",
    "* резкий спад с 2009, возможно связан с развитием смартфонов и мобильных игр."
   ]
  },
  {
   "cell_type": "markdown",
   "metadata": {
    "id": "s1OQcmJyQRlN"
   },
   "source": [
    "### Изменение продаж по платформам\n"
   ]
  },
  {
   "cell_type": "markdown",
   "metadata": {
    "id": "Pgdk8dHERRBH"
   },
   "source": [
    "Рассмотрим продажи игр по разным платформам. Выберем платформы с наибольшими суммарными продажами и построим распределение по годам. Затем определим характерный срок появления и исчезания игровых платформ.\n",
    "\n",
    "Для начала составим сводную таблицу по платформам с суммарными продажами и на ее основе выведем столбчатый график популярности платформ."
   ]
  },
  {
   "cell_type": "code",
   "execution_count": 21,
   "metadata": {
    "colab": {
     "base_uri": "https://localhost:8080/",
     "height": 428
    },
    "id": "jaCx4J9SmV8A",
    "outputId": "fc1ce81d-5a83-4fc0-d69a-787d6de4cb5f"
   },
   "outputs": [
    {
     "data": {
      "image/png": "[encoded data removed]",
      "text/plain": [
       "<Figure size 1008x432 with 1 Axes>"
      ]
     },
     "metadata": {
      "needs_background": "light"
     },
     "output_type": "display_data"
    }
   ],
   "source": [
    "# создадим сводную таблицу по суммарным продажам платформ за все года\n",
    "# и отсортируем значения по убыванию\n",
    "platform_pivot = pd.pivot_table(df, index='platform', values='all_sales', \n",
    "                                aggfunc='sum').sort_values(by='all_sales', ascending=False)\n",
    "\n",
    "# построим столбчатый график на основании таблицы\n",
    "plt.figure(figsize=(14, 6))\n",
    "#sns.set_theme(style='darkgrid')\n",
    "sns.barplot(x=platform_pivot.index, y=platform_pivot['all_sales'], \n",
    "            data=df).set(title='Количество проданных игр по разным платформам за все года', \n",
    "                         xlabel='Платформа', ylabel='Количество проданных копий, млн.')\n",
    "plt.xticks(rotation=90);"
   ]
  },
  {
   "cell_type": "markdown",
   "metadata": {
    "id": "bWjN1zzK1F5d"
   },
   "source": [
    "Как видно из графика, лидирующими по глобальным продажам платформами являются **PlayStation 2, XBox 360, Nintendo Wii, PlayStation 3, Nintendo DS, PlayStation One**.\n",
    "\n",
    "Выделим лидеров в сводную таблицу и построим распределение продаж по годам."
   ]
  },
  {
   "cell_type": "code",
   "execution_count": 22,
   "metadata": {
    "colab": {
     "base_uri": "https://localhost:8080/",
     "height": 355
    },
    "id": "GR6inUUTTQqF",
    "outputId": "b73c9e2c-c91c-4c64-80b6-5c129bcc053b",
    "scrolled": false
   },
   "outputs": [
    {
     "data": {
      "image/png": "[encoded data removed]",
      "text/plain": [
       "<Figure size 864x360 with 1 Axes>"
      ]
     },
     "metadata": {
      "needs_background": "light"
     },
     "output_type": "display_data"
    }
   ],
   "source": [
    "# создадим сводную таблицу с данными продаж по годам и лидирующим платформам\n",
    "# ограничим выборку 1990 годом, т.к. ранее присутствуют аномальные данные о продажах Nintendo DS в 1985 году\n",
    "platform_year_pivot = pd.pivot_table(df, \n",
    "                                     index=['platform', 'year_of_release'], \n",
    "                                     values='all_sales', aggfunc='sum').sort_values(by='all_sales', \n",
    "                                                                                    ascending=False)\n",
    "platform_year_pivot = platform_year_pivot.sort_values(by='platform')\n",
    "platform_year_pivot = platform_year_pivot.query(\n",
    "    'platform == \"PS2\" or platform == \"X360\" or platform == \"Wii\" or platform == \"PS3\" or platform == \"DS\" or platform == \"PS\"')\n",
    "platform_year_pivot = platform_year_pivot.query('year_of_release > 1990')\n",
    "\n",
    "# добавил reset_index для сброса индексов сводной таблицы\n",
    "platform_year_pivot = platform_year_pivot.reset_index(level=['platform', 'year_of_release'])\n",
    "\n",
    "# по данной сводной таблице построим линейный график\n",
    "plt.figure(figsize=(12, 5))\n",
    "#sns.set_theme(style='darkgrid')\n",
    "sns.lineplot(data=platform_year_pivot, x='year_of_release',\n",
    "             y='all_sales', hue='platform', style='platform',\n",
    "             markers=True, dashes=False).set(title='Выпуск игр по лидирующим платформам в разные годы',\n",
    "                                             xlabel='Год выпуска', ylabel='Количество проданных игр, млн.');"
   ]
  },
  {
   "cell_type": "markdown",
   "metadata": {
    "id": "tqgV3SnVd_6_"
   },
   "source": [
    "По изменению продаж в разные годы можно сказать следующее:\n",
    "* срок \"жизни\" платформы составляет примерно 10 лет;\n",
    "* популярность платформы приходит через 3-5 лет после выпуска;\n",
    "* Nintendo Wii показала резкий скачок за 3 года и затем резкое падение в течении двух лет."
   ]
  },
  {
   "cell_type": "markdown",
   "metadata": {
    "id": "L8D2mcWklZ_J"
   },
   "source": [
    "### Продажи за актуальный период"
   ]
  },
  {
   "cell_type": "markdown",
   "metadata": {
    "id": "DLXVOCwCmEYE"
   },
   "source": [
    "Рассмотрим период с 2005 по 2016 года. Т.к. примерный срок жизни платформ 10 лет, то в указанный срок у нас должны отсеятся старые платформы и появится перспективные новые.\n",
    "\n",
    "Создадим сводную таблицу для актуального срока и построим по ней график распределения глобальных продаж по годам."
   ]
  },
  {
   "cell_type": "code",
   "execution_count": 23,
   "metadata": {
    "colab": {
     "base_uri": "https://localhost:8080/",
     "height": 627
    },
    "id": "Df_wHNYEnFRW",
    "outputId": "96340d89-1384-480b-d0a9-bb7b00ab4899",
    "scrolled": false
   },
   "outputs": [
    {
     "data": {
      "image/png": "[encoded data removed]",
      "text/plain": [
       "<Figure size 1080x720 with 1 Axes>"
      ]
     },
     "metadata": {
      "needs_background": "light"
     },
     "output_type": "display_data"
    }
   ],
   "source": [
    "# создадим сводную таблицу с данными продаж по годам и лидирующим платформам за актуальный период\n",
    "actual_year_pivot = pd.pivot_table(df, index=['platform', 'year_of_release'],\n",
    "                                   values='all_sales', aggfunc='sum').sort_values(by='all_sales',\n",
    "                                                                                  ascending=False)\n",
    "actual_year_pivot = actual_year_pivot.sort_values(by='platform')\n",
    "actual_year_pivot = actual_year_pivot.query('year_of_release >= 2005')\n",
    "\n",
    "# добавил reset_index для сброса индексов сводной таблицы\n",
    "actual_year_pivot = actual_year_pivot.reset_index(level=['platform', 'year_of_release'])\n",
    "\n",
    "# по данной сводной таблице построим линейный график распределения продаж по годам\n",
    "plt.figure(figsize=(15, 10))\n",
    "#sns.set_theme(style='darkgrid')\n",
    "sns.lineplot(data=actual_year_pivot, x='year_of_release',\n",
    "             y='all_sales', hue='platform',\n",
    "             markers=True, dashes=False).set(title='Выпуск игр за период с 2005 по 2016 года',\n",
    "                                             xlabel='Год выпуска', ylabel='Количество проданных игр, млн.');"
   ]
  },
  {
   "cell_type": "markdown",
   "metadata": {
    "id": "Z-vmYOe7pRL7"
   },
   "source": [
    "Построенный график еще раз подтвержает вывод о 10ти летнем сроке актуальности платформы.\n",
    "\n",
    "На конец 2016 года мы видим 3 потенциально прибыльных платформы: **PlayStation 4, XBox One, Nintendo 3DS**. Последней уже будет седьмой год с момента выпуска, поэтому она будет наименее прибыльной из трех.\n",
    "\n",
    "Для построения прогнозов на 2017 года необходимо руководствоваться данными с 2015 года, так мы отсеим неактуальные платформы."
   ]
  },
  {
   "cell_type": "markdown",
   "metadata": {
    "id": "ZgmGDr09rx-M"
   },
   "source": [
    "### Диаграмма рассеивания по платформам"
   ]
  },
  {
   "cell_type": "markdown",
   "metadata": {
    "id": "N-BEwUGJwLxB"
   },
   "source": [
    "Построим диаграмму размаха по глобальным продажам потенциально прибыльных платформ.\n",
    "Как мы выяснили ранее, такими плафтормами являются PlayStation 4, XBox One, Nintendo 3DS.\n",
    "Возьмем ранее созданную сводную таблицу с актуальным периодом и отфильтруем значения, оставив только три вышеуказанные платформы."
   ]
  },
  {
   "cell_type": "code",
   "execution_count": 24,
   "metadata": {
    "colab": {
     "base_uri": "https://localhost:8080/",
     "height": 410
    },
    "id": "BD1NAn3u87HB",
    "outputId": "923fe561-2a64-4e60-b123-fd335cfc3924"
   },
   "outputs": [
    {
     "data": {
      "image/png": "[encoded data removed]",
      "text/plain": [
       "<Figure size 1008x432 with 1 Axes>"
      ]
     },
     "metadata": {
      "needs_background": "light"
     },
     "output_type": "display_data"
    }
   ],
   "source": [
    "# отфильтруем исходную таблицу и оставим только 3 потенциально прибыльные платформы\n",
    "potentional_df = df.query(('platform == \"PS4\" or platform == \"XOne\" or platform == \"3DS\"'))\n",
    "\n",
    "# для ограничения выбросов на графике используем метод квантилей и создадим диапазон нормальных значений\n",
    "top_q = potentional_df['all_sales'].quantile(0.75)\n",
    "low_q = potentional_df['all_sales'].quantile(0.25)\n",
    "range_q = top_q + 2*low_q\n",
    "\n",
    "# построим диаграмму размаха на основании отфильтрованной таблицы, используя диапазон нормальных значений\n",
    "plt.figure(figsize=(14, 6))\n",
    "#sns.set_theme(style='darkgrid')\n",
    "sns.boxplot(x='platform', y='all_sales',\n",
    "            data=potentional_df.query('all_sales <= @range_q'\n",
    "                                     )).set(title='Диаграмма размаха потенцильно прибыльных платформ',\n",
    "                                                                    xlabel='Платформа',\n",
    "                                                                    ylabel='Количество проданных копий, млн.');"
   ]
  },
  {
   "cell_type": "markdown",
   "metadata": {
    "id": "Od869RVS88F5"
   },
   "source": [
    "Из построенной диаграммы видно следующее:\n",
    "* общее распределение продаж и их медиана выше у XBox One;\n",
    "* у Nintendo 3DS больше выбросов, \"выстреливших\" в продаже игр."
   ]
  },
  {
   "cell_type": "markdown",
   "metadata": {
    "id": "OnGz4cZwNMwv"
   },
   "source": [
    "### Влияние отзывов на продажи XBox One"
   ]
  },
  {
   "cell_type": "markdown",
   "metadata": {
    "id": "0FZ8y33pOWm7"
   },
   "source": [
    "Рассмотрим, как влияют отзывы пользователей и критиков на продажи внутри популярной платформы. Для анализа возьмем XBox One.\n",
    "\n",
    "Построим диаграмму рассеяния и рассмотрим корреляцию между ними."
   ]
  },
  {
   "cell_type": "code",
   "execution_count": 25,
   "metadata": {},
   "outputs": [],
   "source": [
    "# создадим общую функцию создания таблицы корреляции и отрисовкий диаграммы рассеяния\n",
    "def platform_correlation(platform, title):\n",
    "    \"\"\"\n",
    "    Функция на вход принимает два значения для расчета:\n",
    "    platform - платформа по которой будет рассчитана корреляция и диаграмма рассеяния\n",
    "    title - заголовок графика\n",
    "    \n",
    "    Из датафрейма фильтруются значения только заданной платформы.\n",
    "    Выводится таблица корреляции между глобальными продажами платформы и оценками пользователей и критиков.\n",
    "    Затем строятся два графика рассеяния - глобальных продаж по пользовательским оценкам\n",
    "    и глобальные продажи по оценкам критиков. На графиках строится линия, указывающая направление корреляции.\n",
    "    \"\"\"\n",
    "    plt.figure(figsize=(12, 5))\n",
    "    sns.regplot(data=df[df.platform == platform], \n",
    "                x='all_sales', y='user_score', \n",
    "                line_kws={\"color\":\"r\",\"alpha\":0.7,\"lw\":5}\n",
    "               ).set(title=title, xlabel='Количество проданных копий, млн.',\n",
    "                     ylabel='Пользовательская оценка');\n",
    "    plt.figure(figsize=(12, 5))\n",
    "    sns.regplot(data=df[df.platform == platform],\n",
    "                x='all_sales', y='critic_score',\n",
    "                line_kws={\"color\":\"r\",\"alpha\":0.7,\"lw\":5}\n",
    "               ).set(title=title, xlabel='Количество проданных копий, млн.',\n",
    "                     ylabel='Оценка критиков');\n",
    "    display(df[df.platform == platform][['all_sales', 'critic_score','user_score']].corr(\n",
    "    ).style.background_gradient(cmap='Greens'))"
   ]
  },
  {
   "cell_type": "code",
   "execution_count": 26,
   "metadata": {},
   "outputs": [
    {
     "data": {
      "text/html": [
       "<style  type=\"text/css\" >\n",
       "#T_beaaf_row0_col0,#T_beaaf_row1_col1,#T_beaaf_row2_col2{\n",
       "            background-color:  #00441b;\n",
       "            color:  #f1f1f1;\n",
       "        }#T_beaaf_row0_col1,#T_beaaf_row0_col2,#T_beaaf_row2_col0{\n",
       "            background-color:  #f7fcf5;\n",
       "            color:  #000000;\n",
       "        }#T_beaaf_row1_col0{\n",
       "            background-color:  #84cc83;\n",
       "            color:  #000000;\n",
       "        }#T_beaaf_row1_col2{\n",
       "            background-color:  #72c375;\n",
       "            color:  #000000;\n",
       "        }#T_beaaf_row2_col1{\n",
       "            background-color:  #e9f7e5;\n",
       "            color:  #000000;\n",
       "        }</style><table id=\"T_beaaf_\" ><thead>    <tr>        <th class=\"blank level0\" ></th>        <th class=\"col_heading level0 col0\" >all_sales</th>        <th class=\"col_heading level0 col1\" >critic_score</th>        <th class=\"col_heading level0 col2\" >user_score</th>    </tr></thead><tbody>\n",
       "                <tr>\n",
       "                        <th id=\"T_beaaf_level0_row0\" class=\"row_heading level0 row0\" >all_sales</th>\n",
       "                        <td id=\"T_beaaf_row0_col0\" class=\"data row0 col0\" >1.000000</td>\n",
       "                        <td id=\"T_beaaf_row0_col1\" class=\"data row0 col1\" >0.416998</td>\n",
       "                        <td id=\"T_beaaf_row0_col2\" class=\"data row0 col2\" >-0.068925</td>\n",
       "            </tr>\n",
       "            <tr>\n",
       "                        <th id=\"T_beaaf_level0_row1\" class=\"row_heading level0 row1\" >critic_score</th>\n",
       "                        <td id=\"T_beaaf_row1_col0\" class=\"data row1 col0\" >0.416998</td>\n",
       "                        <td id=\"T_beaaf_row1_col1\" class=\"data row1 col1\" >1.000000</td>\n",
       "                        <td id=\"T_beaaf_row1_col2\" class=\"data row1 col2\" >0.472462</td>\n",
       "            </tr>\n",
       "            <tr>\n",
       "                        <th id=\"T_beaaf_level0_row2\" class=\"row_heading level0 row2\" >user_score</th>\n",
       "                        <td id=\"T_beaaf_row2_col0\" class=\"data row2 col0\" >-0.068925</td>\n",
       "                        <td id=\"T_beaaf_row2_col1\" class=\"data row2 col1\" >0.472462</td>\n",
       "                        <td id=\"T_beaaf_row2_col2\" class=\"data row2 col2\" >1.000000</td>\n",
       "            </tr>\n",
       "    </tbody></table>"
      ],
      "text/plain": [
       "<pandas.io.formats.style.Styler at 0x7f4768f30fa0>"
      ]
     },
     "metadata": {},
     "output_type": "display_data"
    },
    {
     "data": {
      "image/png": "[encoded data removed]",
      "text/plain": [
       "<Figure size 864x360 with 1 Axes>"
      ]
     },
     "metadata": {
      "needs_background": "light"
     },
     "output_type": "display_data"
    },
    {
     "data": {
      "image/png": "[encoded data removed]",
      "text/plain": [
       "<Figure size 864x360 with 1 Axes>"
      ]
     },
     "metadata": {
      "needs_background": "light"
     },
     "output_type": "display_data"
    }
   ],
   "source": [
    "# с помощью функции platform_correlation выведем таблицу корреляции и построим диграммы рассеивания\n",
    "# для XBox One\n",
    "platform_correlation('XOne', 'Диаграмма рассеяния продаж XBox One')"
   ]
  },
  {
   "cell_type": "markdown",
   "metadata": {
    "id": "v2IzbFuPTkNK"
   },
   "source": [
    "По графикам рассеяния и таблице корреляции мы выяснили:\n",
    "* между глобальными продажами и оценками критиков существует положительная корреляция 0.42, соответственно оценки критиков влияют на продажи;\n",
    "* между глобальными продажаи и оценками пользователей корреляция практически отсутствует."
   ]
  },
  {
   "cell_type": "markdown",
   "metadata": {
    "id": "YwSk_xUBVB1L"
   },
   "source": [
    "### Влияние отзывов на продажи PlayStation 4 и Nintendo 3DS"
   ]
  },
  {
   "cell_type": "markdown",
   "metadata": {
    "id": "XGl_EKqLX3yR"
   },
   "source": [
    "Также рассмотрим, как влияют отзывы пользователей и критиков на продажи внутри двух других перспективных платформ. Для них построим диаграммы рассеяния и рассмотрим корреляцию между ними."
   ]
  },
  {
   "cell_type": "markdown",
   "metadata": {
    "id": "Qy9ur9lcVRk5"
   },
   "source": [
    "#### PlayStation 4"
   ]
  },
  {
   "cell_type": "code",
   "execution_count": 27,
   "metadata": {},
   "outputs": [
    {
     "data": {
      "text/html": [
       "<style  type=\"text/css\" >\n",
       "#T_d1ea8_row0_col0,#T_d1ea8_row1_col1,#T_d1ea8_row2_col2{\n",
       "            background-color:  #00441b;\n",
       "            color:  #f1f1f1;\n",
       "        }#T_d1ea8_row0_col1,#T_d1ea8_row0_col2,#T_d1ea8_row2_col0{\n",
       "            background-color:  #f7fcf5;\n",
       "            color:  #000000;\n",
       "        }#T_d1ea8_row1_col0{\n",
       "            background-color:  #90d18d;\n",
       "            color:  #000000;\n",
       "        }#T_d1ea8_row1_col2{\n",
       "            background-color:  #56b567;\n",
       "            color:  #000000;\n",
       "        }#T_d1ea8_row2_col1{\n",
       "            background-color:  #c6e8bf;\n",
       "            color:  #000000;\n",
       "        }</style><table id=\"T_d1ea8_\" ><thead>    <tr>        <th class=\"blank level0\" ></th>        <th class=\"col_heading level0 col0\" >all_sales</th>        <th class=\"col_heading level0 col1\" >critic_score</th>        <th class=\"col_heading level0 col2\" >user_score</th>    </tr></thead><tbody>\n",
       "                <tr>\n",
       "                        <th id=\"T_d1ea8_level0_row0\" class=\"row_heading level0 row0\" >all_sales</th>\n",
       "                        <td id=\"T_d1ea8_row0_col0\" class=\"data row0 col0\" >1.000000</td>\n",
       "                        <td id=\"T_d1ea8_row0_col1\" class=\"data row0 col1\" >0.406568</td>\n",
       "                        <td id=\"T_d1ea8_row0_col2\" class=\"data row0 col2\" >-0.031957</td>\n",
       "            </tr>\n",
       "            <tr>\n",
       "                        <th id=\"T_d1ea8_level0_row1\" class=\"row_heading level0 row1\" >critic_score</th>\n",
       "                        <td id=\"T_d1ea8_row1_col0\" class=\"data row1 col0\" >0.406568</td>\n",
       "                        <td id=\"T_d1ea8_row1_col1\" class=\"data row1 col1\" >1.000000</td>\n",
       "                        <td id=\"T_d1ea8_row1_col2\" class=\"data row1 col2\" >0.557654</td>\n",
       "            </tr>\n",
       "            <tr>\n",
       "                        <th id=\"T_d1ea8_level0_row2\" class=\"row_heading level0 row2\" >user_score</th>\n",
       "                        <td id=\"T_d1ea8_row2_col0\" class=\"data row2 col0\" >-0.031957</td>\n",
       "                        <td id=\"T_d1ea8_row2_col1\" class=\"data row2 col1\" >0.557654</td>\n",
       "                        <td id=\"T_d1ea8_row2_col2\" class=\"data row2 col2\" >1.000000</td>\n",
       "            </tr>\n",
       "    </tbody></table>"
      ],
      "text/plain": [
       "<pandas.io.formats.style.Styler at 0x7f4768a55100>"
      ]
     },
     "metadata": {},
     "output_type": "display_data"
    },
    {
     "data": {
      "image/png": "[encoded data removed]",
      "text/plain": [
       "<Figure size 864x360 with 1 Axes>"
      ]
     },
     "metadata": {
      "needs_background": "light"
     },
     "output_type": "display_data"
    },
    {
     "data": {
      "image/png": "[encoded data removed]",
      "text/plain": [
       "<Figure size 864x360 with 1 Axes>"
      ]
     },
     "metadata": {
      "needs_background": "light"
     },
     "output_type": "display_data"
    }
   ],
   "source": [
    "# с помощью функции platform_correlation выведем таблицу корреляции и построим диграммы рассеивания\n",
    "# для Playstation 4\n",
    "platform_correlation('PS4', 'Диаграмма рассеяния продаж PlayStation 4')"
   ]
  },
  {
   "cell_type": "markdown",
   "metadata": {
    "id": "uMGIg9pRXsMf"
   },
   "source": [
    "По графикам рассеяния и таблице корреляции мы выяснили:\n",
    "* между глобальными продажами и оценками критиков существует положительная корреляция 0.41, соответственно оценки критиков влияют на продажи;\n",
    "* между глобальными продажаи и оценками пользователей корреляция практически отсутствует."
   ]
  },
  {
   "cell_type": "markdown",
   "metadata": {
    "id": "snaW_dB_XjgQ"
   },
   "source": [
    "#### Nintendo 3DS"
   ]
  },
  {
   "cell_type": "code",
   "execution_count": 28,
   "metadata": {},
   "outputs": [
    {
     "data": {
      "text/html": [
       "<style  type=\"text/css\" >\n",
       "#T_b6069_row0_col0,#T_b6069_row1_col1,#T_b6069_row2_col2{\n",
       "            background-color:  #00441b;\n",
       "            color:  #f1f1f1;\n",
       "        }#T_b6069_row0_col1,#T_b6069_row0_col2,#T_b6069_row2_col0{\n",
       "            background-color:  #f7fcf5;\n",
       "            color:  #000000;\n",
       "        }#T_b6069_row1_col0{\n",
       "            background-color:  #dcf2d7;\n",
       "            color:  #000000;\n",
       "        }#T_b6069_row1_col2{\n",
       "            background-color:  #369f54;\n",
       "            color:  #000000;\n",
       "        }#T_b6069_row2_col1{\n",
       "            background-color:  #48ae60;\n",
       "            color:  #000000;\n",
       "        }</style><table id=\"T_b6069_\" ><thead>    <tr>        <th class=\"blank level0\" ></th>        <th class=\"col_heading level0 col0\" >all_sales</th>        <th class=\"col_heading level0 col1\" >critic_score</th>        <th class=\"col_heading level0 col2\" >user_score</th>    </tr></thead><tbody>\n",
       "                <tr>\n",
       "                        <th id=\"T_b6069_level0_row0\" class=\"row_heading level0 row0\" >all_sales</th>\n",
       "                        <td id=\"T_b6069_row0_col0\" class=\"data row0 col0\" >1.000000</td>\n",
       "                        <td id=\"T_b6069_row0_col1\" class=\"data row0 col1\" >0.349401</td>\n",
       "                        <td id=\"T_b6069_row0_col2\" class=\"data row0 col2\" >0.224808</td>\n",
       "            </tr>\n",
       "            <tr>\n",
       "                        <th id=\"T_b6069_level0_row1\" class=\"row_heading level0 row1\" >critic_score</th>\n",
       "                        <td id=\"T_b6069_row1_col0\" class=\"data row1 col0\" >0.349401</td>\n",
       "                        <td id=\"T_b6069_row1_col1\" class=\"data row1 col1\" >1.000000</td>\n",
       "                        <td id=\"T_b6069_row1_col2\" class=\"data row1 col2\" >0.744168</td>\n",
       "            </tr>\n",
       "            <tr>\n",
       "                        <th id=\"T_b6069_level0_row2\" class=\"row_heading level0 row2\" >user_score</th>\n",
       "                        <td id=\"T_b6069_row2_col0\" class=\"data row2 col0\" >0.224808</td>\n",
       "                        <td id=\"T_b6069_row2_col1\" class=\"data row2 col1\" >0.744168</td>\n",
       "                        <td id=\"T_b6069_row2_col2\" class=\"data row2 col2\" >1.000000</td>\n",
       "            </tr>\n",
       "    </tbody></table>"
      ],
      "text/plain": [
       "<pandas.io.formats.style.Styler at 0x7f4768f58a90>"
      ]
     },
     "metadata": {},
     "output_type": "display_data"
    },
    {
     "data": {
      "image/png": "[encoded data removed]",
      "text/plain": [
       "<Figure size 864x360 with 1 Axes>"
      ]
     },
     "metadata": {
      "needs_background": "light"
     },
     "output_type": "display_data"
    },
    {
     "data": {
      "image/png": "[encoded data removed]",
      "text/plain": [
       "<Figure size 864x360 with 1 Axes>"
      ]
     },
     "metadata": {
      "needs_background": "light"
     },
     "output_type": "display_data"
    }
   ],
   "source": [
    "# с помощью функции platform_correlation выведем таблицу корреляции и построим диграммы рассеивания\n",
    "# для Nintendo 3DS\n",
    "platform_correlation('3DS', 'Диаграмма рассеяния продаж Nintendo 3DS')"
   ]
  },
  {
   "cell_type": "markdown",
   "metadata": {
    "id": "JgR_VYLvYamx"
   },
   "source": [
    "По графикам рассеяния и таблице корреляции мы выяснили:\n",
    "* между глобальными продажами и оценками критиков существует положительная корреляция 0.35, соответственно оценки критиков влияют на продажи;\n",
    "* между глобальными продажаи и оценками пользователей существует положительная корреляция 0.23, соответственно оценки пользователей влияют на продажи;"
   ]
  },
  {
   "cell_type": "markdown",
   "metadata": {
    "id": "x_95LJjQVADN"
   },
   "source": [
    "### Вывод по влиянию отзывов на глобальные продажи"
   ]
  },
  {
   "cell_type": "markdown",
   "metadata": {
    "id": "6bwj_0bKZC6w"
   },
   "source": [
    "Исследовали влияние отзывов пользователей и критиков на глобальные продажи игр по перспективным платформам PlayStation 4, XBox One и Nintendo 3DS. По полученным данным можно сказать следующее.\n",
    "* **оценки критиков влияют на продажи игр** почти одинаково у PlayStation 4 и XBox One (корреляция 0.42), меньше у Nintendo 3DS (0.35);\n",
    "* **оценки пользователей не влияют на продажи игр PlayStation 4 и XBox One**;\n",
    "* **оценки пользователей влияют на продажи игр Nintendo 3DS** (корреляция 0.22). Вероятно это связано с популярностью платформы в Японии, откуда она родом. Видимо пользователи этого региона серьезнее относятся к оценками других пользователей."
   ]
  },
  {
   "cell_type": "markdown",
   "metadata": {
    "id": "pDL50IuLb_Jg"
   },
   "source": [
    "### Распределение игр по жанрам"
   ]
  },
  {
   "cell_type": "markdown",
   "metadata": {
    "id": "0KsHRdKtbOtq"
   },
   "source": [
    "Рассмотрим распределение игр по жанрам, а также глобальных продаж по ним. Для этого создадим сводную таблицу."
   ]
  },
  {
   "cell_type": "code",
   "execution_count": 29,
   "metadata": {
    "colab": {
     "base_uri": "https://localhost:8080/",
     "height": 457
    },
    "id": "_lKgpAmMeFBI",
    "outputId": "c4c16541-774b-453d-90e6-931c61bcad32"
   },
   "outputs": [
    {
     "data": {
      "text/html": [
       "<style  type=\"text/css\" >\n",
       "#T_8a144_row0_col0,#T_8a144_row6_col1{\n",
       "            width:  10em;\n",
       "             height:  80%;\n",
       "            background:  linear-gradient(90deg,#d65f5f 100.0%, transparent 100.0%);\n",
       "        }#T_8a144_row0_col1{\n",
       "            width:  10em;\n",
       "             height:  80%;\n",
       "            background:  linear-gradient(90deg,#d65f5f 17.5%, transparent 17.5%);\n",
       "        }#T_8a144_row1_col0{\n",
       "            width:  10em;\n",
       "             height:  80%;\n",
       "            background:  linear-gradient(90deg,#d65f5f 41.4%, transparent 41.4%);\n",
       "        }#T_8a144_row1_col1{\n",
       "            width:  10em;\n",
       "             height:  80%;\n",
       "            background:  linear-gradient(90deg,#d65f5f 23.6%, transparent 23.6%);\n",
       "        }#T_8a144_row2_col0{\n",
       "            width:  10em;\n",
       "             height:  80%;\n",
       "            background:  linear-gradient(90deg,#d65f5f 26.6%, transparent 26.6%);\n",
       "        }#T_8a144_row2_col1{\n",
       "            width:  10em;\n",
       "             height:  80%;\n",
       "            background:  linear-gradient(90deg,#d65f5f 29.5%, transparent 29.5%);\n",
       "        }#T_8a144_row3_col0{\n",
       "            width:  10em;\n",
       "             height:  80%;\n",
       "            background:  linear-gradient(90deg,#d65f5f 19.3%, transparent 19.3%);\n",
       "        }#T_8a144_row3_col1{\n",
       "            width:  10em;\n",
       "             height:  80%;\n",
       "            background:  linear-gradient(90deg,#d65f5f 7.1%, transparent 7.1%);\n",
       "        }#T_8a144_row4_col0{\n",
       "            width:  10em;\n",
       "             height:  80%;\n",
       "            background:  linear-gradient(90deg,#d65f5f 19.0%, transparent 19.0%);\n",
       "        }#T_8a144_row4_col1{\n",
       "            width:  10em;\n",
       "             height:  80%;\n",
       "            background:  linear-gradient(90deg,#d65f5f 5.0%, transparent 5.0%);\n",
       "        }#T_8a144_row5_col0{\n",
       "            width:  10em;\n",
       "             height:  80%;\n",
       "            background:  linear-gradient(90deg,#d65f5f 13.0%, transparent 13.0%);\n",
       "        }#T_8a144_row5_col1{\n",
       "            width:  10em;\n",
       "             height:  80%;\n",
       "            background:  linear-gradient(90deg,#d65f5f 8.3%, transparent 8.3%);\n",
       "        }#T_8a144_row6_col0{\n",
       "            width:  10em;\n",
       "             height:  80%;\n",
       "            background:  linear-gradient(90deg,#d65f5f 11.2%, transparent 11.2%);\n",
       "        }#T_8a144_row7_col0{\n",
       "            width:  10em;\n",
       "             height:  80%;\n",
       "            background:  linear-gradient(90deg,#d65f5f 10.5%, transparent 10.5%);\n",
       "        }#T_8a144_row7_col1{\n",
       "            width:  10em;\n",
       "             height:  80%;\n",
       "            background:  linear-gradient(90deg,#d65f5f 6.1%, transparent 6.1%);\n",
       "        }#T_8a144_row8_col0{\n",
       "            width:  10em;\n",
       "             height:  80%;\n",
       "            background:  linear-gradient(90deg,#d65f5f 8.1%, transparent 8.1%);\n",
       "        }#T_8a144_row8_col1{\n",
       "            width:  10em;\n",
       "             height:  80%;\n",
       "            background:  linear-gradient(90deg,#d65f5f 15.1%, transparent 15.1%);\n",
       "        }#T_8a144_row9_col0{\n",
       "            width:  10em;\n",
       "             height:  80%;\n",
       "            background:  linear-gradient(90deg,#d65f5f 0.5%, transparent 0.5%);\n",
       "        }#T_8a144_row9_col1{\n",
       "            width:  10em;\n",
       "             height:  80%;\n",
       "            background:  linear-gradient(90deg,#d65f5f 24.3%, transparent 24.3%);\n",
       "        }#T_8a144_row10_col0{\n",
       "            width:  10em;\n",
       "             height:  80%;\n",
       "            background:  linear-gradient(90deg,#d65f5f 0.0%, transparent 0.0%);\n",
       "        }#T_8a144_row10_col1,#T_8a144_row11_col0{\n",
       "            width:  10em;\n",
       "             height:  80%;\n",
       "        }#T_8a144_row11_col1{\n",
       "            width:  10em;\n",
       "             height:  80%;\n",
       "            background:  linear-gradient(90deg,#d65f5f 5.2%, transparent 5.2%);\n",
       "        }</style><table id=\"T_8a144_\" ><thead>    <tr>        <th class=\"blank level0\" ></th>        <th class=\"col_heading level0 col0\" >genre_mean</th>        <th class=\"col_heading level0 col1\" >genre_count</th>    </tr>    <tr>        <th class=\"index_name level0\" >genre</th>        <th class=\"blank\" ></th>        <th class=\"blank\" ></th>    </tr></thead><tbody>\n",
       "                <tr>\n",
       "                        <th id=\"T_8a144_level0_row0\" class=\"row_heading level0 row0\" >Shooter</th>\n",
       "                        <td id=\"T_8a144_row0_col0\" class=\"data row0 col0\" >1.305309</td>\n",
       "                        <td id=\"T_8a144_row0_col1\" class=\"data row0 col1\" >81</td>\n",
       "            </tr>\n",
       "            <tr>\n",
       "                        <th id=\"T_8a144_level0_row1\" class=\"row_heading level0 row1\" >Sports</th>\n",
       "                        <td id=\"T_8a144_row1_col0\" class=\"data row1 col0\" >0.601215</td>\n",
       "                        <td id=\"T_8a144_row1_col1\" class=\"data row1 col1\" >107</td>\n",
       "            </tr>\n",
       "            <tr>\n",
       "                        <th id=\"T_8a144_level0_row2\" class=\"row_heading level0 row2\" >Role-Playing</th>\n",
       "                        <td id=\"T_8a144_row2_col0\" class=\"data row2 col0\" >0.422879</td>\n",
       "                        <td id=\"T_8a144_row2_col1\" class=\"data row2 col1\" >132</td>\n",
       "            </tr>\n",
       "            <tr>\n",
       "                        <th id=\"T_8a144_level0_row3\" class=\"row_heading level0 row3\" >Fighting</th>\n",
       "                        <td id=\"T_8a144_row3_col0\" class=\"data row3 col0\" >0.334324</td>\n",
       "                        <td id=\"T_8a144_row3_col1\" class=\"data row3 col1\" >37</td>\n",
       "            </tr>\n",
       "            <tr>\n",
       "                        <th id=\"T_8a144_level0_row4\" class=\"row_heading level0 row4\" >Platform</th>\n",
       "                        <td id=\"T_8a144_row4_col0\" class=\"data row4 col0\" >0.331429</td>\n",
       "                        <td id=\"T_8a144_row4_col1\" class=\"data row4 col1\" >28</td>\n",
       "            </tr>\n",
       "            <tr>\n",
       "                        <th id=\"T_8a144_level0_row5\" class=\"row_heading level0 row5\" >Racing</th>\n",
       "                        <td id=\"T_8a144_row5_col0\" class=\"data row5 col0\" >0.258571</td>\n",
       "                        <td id=\"T_8a144_row5_col1\" class=\"data row5 col1\" >42</td>\n",
       "            </tr>\n",
       "            <tr>\n",
       "                        <th id=\"T_8a144_level0_row6\" class=\"row_heading level0 row6\" >Action</th>\n",
       "                        <td id=\"T_8a144_row6_col0\" class=\"data row6 col0\" >0.236961</td>\n",
       "                        <td id=\"T_8a144_row6_col1\" class=\"data row6 col1\" >431</td>\n",
       "            </tr>\n",
       "            <tr>\n",
       "                        <th id=\"T_8a144_level0_row7\" class=\"row_heading level0 row7\" >Simulation</th>\n",
       "                        <td id=\"T_8a144_row7_col0\" class=\"data row7 col0\" >0.228788</td>\n",
       "                        <td id=\"T_8a144_row7_col1\" class=\"data row7 col1\" >33</td>\n",
       "            </tr>\n",
       "            <tr>\n",
       "                        <th id=\"T_8a144_level0_row8\" class=\"row_heading level0 row8\" >Misc</th>\n",
       "                        <td id=\"T_8a144_row8_col0\" class=\"data row8 col0\" >0.199577</td>\n",
       "                        <td id=\"T_8a144_row8_col1\" class=\"data row8 col1\" >71</td>\n",
       "            </tr>\n",
       "            <tr>\n",
       "                        <th id=\"T_8a144_level0_row9\" class=\"row_heading level0 row9\" >Adventure</th>\n",
       "                        <td id=\"T_8a144_row9_col0\" class=\"data row9 col0\" >0.108909</td>\n",
       "                        <td id=\"T_8a144_row9_col1\" class=\"data row9 col1\" >110</td>\n",
       "            </tr>\n",
       "            <tr>\n",
       "                        <th id=\"T_8a144_level0_row10\" class=\"row_heading level0 row10\" >Puzzle</th>\n",
       "                        <td id=\"T_8a144_row10_col0\" class=\"data row10 col0\" >0.102857</td>\n",
       "                        <td id=\"T_8a144_row10_col1\" class=\"data row10 col1\" >7</td>\n",
       "            </tr>\n",
       "            <tr>\n",
       "                        <th id=\"T_8a144_level0_row11\" class=\"row_heading level0 row11\" >Strategy</th>\n",
       "                        <td id=\"T_8a144_row11_col0\" class=\"data row11 col0\" >0.102759</td>\n",
       "                        <td id=\"T_8a144_row11_col1\" class=\"data row11 col1\" >29</td>\n",
       "            </tr>\n",
       "    </tbody></table>"
      ],
      "text/plain": [
       "<pandas.io.formats.style.Styler at 0x7f4768a21550>"
      ]
     },
     "execution_count": 29,
     "metadata": {},
     "output_type": "execute_result"
    }
   ],
   "source": [
    "# предварительно отсортируем датафрейм по актуальному временному диапазону, начиная с 2015 года\n",
    "# соберем сводную таблицу жанров посчитав общее количество выпущенных игр и глобальные продажи по ним\n",
    "# затем выведем эту таблицу на экран\n",
    "genre_pivot = df[df['year_of_release'] >= 2015].pivot_table(index='genre', values='all_sales', aggfunc=['mean', 'count'])\n",
    "genre_pivot.columns = ('genre_mean', 'genre_count')\n",
    "genre_pivot = genre_pivot.sort_values(by='genre_mean', ascending=False)\n",
    "genre_pivot.style.bar()"
   ]
  },
  {
   "cell_type": "markdown",
   "metadata": {
    "id": "U3T2IcphiueE"
   },
   "source": [
    "Из полученных данных видно следующее:\n",
    "\n",
    "* жанры, приносящие стабильный высокий доход это **шутер, спорт и РПГ**\n",
    "* больше всго игр, тем не менее, выпускается в жанре **экшн**"
   ]
  },
  {
   "cell_type": "markdown",
   "metadata": {
    "id": "w46olLetjjXX"
   },
   "source": [
    "### Вывод по исследовательскому анализу"
   ]
  },
  {
   "cell_type": "markdown",
   "metadata": {
    "id": "uqoKWiDZjxIh"
   },
   "source": [
    "Проведя исследовательский анализ данных, мы выяснили следующее:\n",
    "\n",
    "* для построения прогнозов на 2017 год, необходимы данные с 2015 года;\n",
    "* лидерами по глобальным продажам являются PlayStation 2, XBox 360, Nintendo Wii, PlayStation 3, Nintendo DS и PlayStation One;\n",
    "*\tсрок \"жизни\" платформы составляет примерно 10 лет, ее популярность приходит через 3-5 лет после выпуска;\n",
    "* на конец 2016 года 3 потенциально прибыльных платформы: PlayStation 4, XBox One, Nintendo 3DS. Но актуальность Nintendo 3DS идет на спад;\n",
    "* на продажи всех три потенциально прибыльных платформ влияют отзывы критиков;\n",
    "* на продажи Nintendo 3DS также влияют отзывы пользователей;\n",
    "* жанры, приносящие стабильный высокий доход это шутер, спорт и РПГ;\n",
    "* больше всго игр, выпускается в жанре экшн."
   ]
  },
  {
   "cell_type": "markdown",
   "metadata": {
    "id": "yVIi_0FIjk1b"
   },
   "source": [
    "## Портрет пользователя по регионам"
   ]
  },
  {
   "cell_type": "markdown",
   "metadata": {},
   "source": [
    "Составим портрет для пользователей из разных регионов: Северной Америки (NA), Европы (EU) и Японии (JP). Проанализируем топ-5 платформ и жанров для пользователей разных регионов. Проверим влияние возрастного рейтинга ESRB на продажи в отдельных регионах. \n",
    "\n",
    "Портрет будем строить на основании данных с 2015 по 2016 год."
   ]
  },
  {
   "cell_type": "markdown",
   "metadata": {},
   "source": [
    "### Топ-5 платформ по регионам"
   ]
  },
  {
   "cell_type": "markdown",
   "metadata": {},
   "source": [
    "Сначала изучим предпочтения платформ пользователей из разных регионов"
   ]
  },
  {
   "cell_type": "code",
   "execution_count": 30,
   "metadata": {},
   "outputs": [],
   "source": [
    "# создадим общую функцию создания сводной таблицы и отрисовкий круговой диаграммы по ней\n",
    "def pie_chart(index, sales, title):\n",
    "    \"\"\"\n",
    "    Функция на вход принимает три значения для расчета:\n",
    "    index - платформа, жанр или возрастной рейтинг\n",
    "    sales - регион продаж - Америка, Европа, Япония\n",
    "    title - заголовок графика\n",
    "    Расчеты функции ограничены данными с 2015 года для актуальности.\n",
    "    \n",
    "    Собирается сводная таблица из полученных данных, суммируются продажи в регионе,\n",
    "    сортируются по убыванию и фильтруются топ-5 позиций.\n",
    "    По сводной таблице рисуется круговая диаграмма по значениям суммарных продаж и индексам из\n",
    "    сводной таблицы. Значения долей округлены до сотых.\n",
    "    \"\"\"\n",
    "    df_range = df[df['year_of_release'] >= 2015]\n",
    "    region_pivot = df_range.pivot_table(index=index, values=sales, aggfunc='sum')\n",
    "    region_pivot = region_pivot.sort_values(by=sales, ascending=False).head()\n",
    "    plt.figure(figsize=(20,7))\n",
    "    plt.pie(x=region_pivot[sales], labels=region_pivot.index, autopct=\"%.2f\")\n",
    "    plt.title(title);"
   ]
  },
  {
   "cell_type": "code",
   "execution_count": 31,
   "metadata": {},
   "outputs": [
    {
     "data": {
      "image/png": "[encoded data removed]",
      "text/plain": [
       "<Figure size 1440x504 with 1 Axes>"
      ]
     },
     "metadata": {},
     "output_type": "display_data"
    },
    {
     "data": {
      "image/png": "[encoded data removed]",
      "text/plain": [
       "<Figure size 1440x504 with 1 Axes>"
      ]
     },
     "metadata": {},
     "output_type": "display_data"
    },
    {
     "data": {
      "image/png": "[encoded data removed]",
      "text/plain": [
       "<Figure size 1440x504 with 1 Axes>"
      ]
     },
     "metadata": {},
     "output_type": "display_data"
    }
   ],
   "source": [
    "# с помощью функции pie_chart нарисуем диаграммы топ-5 платформ в регионах\n",
    "pie_chart('platform', 'na_sales', 'Топ-5 платформ в Северной Америке')\n",
    "pie_chart('platform', 'eu_sales', 'Топ-5 платформ в Европе')\n",
    "pie_chart('platform', 'jp_sales', 'Топ-5 платформ в Японии')"
   ]
  },
  {
   "cell_type": "markdown",
   "metadata": {
    "id": "umDmMO60PtTw"
   },
   "source": [
    "В зависимости от региона мы увидели следующие предпочтения за 2015-2016 года:\n",
    "* в Северной Америке 45% всех продаж пришлось на Playstation 4, далее идет ближайший конкурент XBox One с 36%, затем две консоли от Нинтендо, занимая 14% и на последнем месте XBox 360 с 6% продаж.\n",
    "* в Европе  - Playstation более популярна и занимает 62% рынка, консоль от Майкрософт сильно уступает с 20%. ПК гейминг в Европе более популярен, чем в Америке с 7% продаж. Последние два места занимают Японские консоли 3DS и WiiU имея по 5% рынка.\n",
    "* Топ-5 Японии сильно отличается от предыдущих регионов. В этот топ попали только \"местные\" консоли. Nintendo 3DS 44%, Playstation 4 23%, портативная PS Vita 16%, Playstation 3 9% и Nintendo WiiU 8%. Видна любовь японцев к портативным консолям. И нелюбовь к ПК."
   ]
  },
  {
   "cell_type": "markdown",
   "metadata": {},
   "source": [
    "### Топ-5 жанров по регионам"
   ]
  },
  {
   "cell_type": "markdown",
   "metadata": {},
   "source": [
    "Теперь изучим жанровые предпочтения пользователей разных регионов."
   ]
  },
  {
   "cell_type": "code",
   "execution_count": 32,
   "metadata": {},
   "outputs": [
    {
     "data": {
      "image/png": "[encoded data removed]",
      "text/plain": [
       "<Figure size 1440x504 with 1 Axes>"
      ]
     },
     "metadata": {},
     "output_type": "display_data"
    },
    {
     "data": {
      "image/png": "[encoded data removed]",
      "text/plain": [
       "<Figure size 1440x504 with 1 Axes>"
      ]
     },
     "metadata": {},
     "output_type": "display_data"
    },
    {
     "data": {
      "image/png": "[encoded data removed]",
      "text/plain": [
       "<Figure size 1440x504 with 1 Axes>"
      ]
     },
     "metadata": {},
     "output_type": "display_data"
    }
   ],
   "source": [
    "# с помощью функции pie_chart нарисуем диаграммы топ-5 жанров в регионах\n",
    "pie_chart('genre', 'na_sales', 'Топ-5 жанров в Северной Америке')\n",
    "pie_chart('genre', 'eu_sales', 'Топ-5 жанров в Европе')\n",
    "pie_chart('genre', 'jp_sales', 'Топ-5 жанров в Японии')"
   ]
  },
  {
   "cell_type": "markdown",
   "metadata": {},
   "source": [
    "Проанализировав полученныек диагрыммы, мы видим:\n",
    "* жанровые предпочтения Северной Америки и Европы почти схожи, доли жанров отличаются на +/- 5%, за исключением того, что пятое место в Америке занимают гонки, в Европе игры под жанром \"разное\";\n",
    "* Япония, как и в случае с платформами, полностью отличается от других регионов. Первое место заняли экшены, второе РПГ, затем расположились шутеры, \"разное\" и адвенчуры."
   ]
  },
  {
   "cell_type": "markdown",
   "metadata": {},
   "source": [
    "### Возрастной рейтинг по регионам"
   ]
  },
  {
   "cell_type": "markdown",
   "metadata": {},
   "source": [
    "Далее рассмотрим доли продаж по разным категориям возрастного рейтинга ESRB в разных регионах. Буквенный код рейтинга означает:\n",
    "* M / Mature, возраст 17+\n",
    "* T / Teen, возраст 13+\n",
    "* E10 / Everyone 10, возраст 10+\n",
    "* E / Everyone, возраст 0+\n",
    "* no_rating игры, неподвергавшиеся оценкой ESRB"
   ]
  },
  {
   "cell_type": "code",
   "execution_count": 33,
   "metadata": {},
   "outputs": [
    {
     "data": {
      "image/png": "[encoded data removed]",
      "text/plain": [
       "<Figure size 1440x504 with 1 Axes>"
      ]
     },
     "metadata": {},
     "output_type": "display_data"
    },
    {
     "data": {
      "image/png": "[encoded data removed]",
      "text/plain": [
       "<Figure size 1440x504 with 1 Axes>"
      ]
     },
     "metadata": {},
     "output_type": "display_data"
    },
    {
     "data": {
      "image/png": "[encoded data removed]",
      "text/plain": [
       "<Figure size 1440x504 with 1 Axes>"
      ]
     },
     "metadata": {},
     "output_type": "display_data"
    }
   ],
   "source": [
    "# с помощью функции pie_chart нарисуем диаграммы продаж разных возрастных категорий в регионах\n",
    "pie_chart('rating', 'na_sales', 'Возрастной рейтинг в Северной Америке')\n",
    "pie_chart('rating', 'eu_sales', 'Возрастной рейтинг в Европе')\n",
    "pie_chart('rating', 'jp_sales', 'Возрастной рейтинг в Японии')"
   ]
  },
  {
   "cell_type": "markdown",
   "metadata": {},
   "source": [
    "Доли продаж по возрастному рейтингу в разных регионах расположились следующим образом:\n",
    "* в Америке лидируют игры 17+ с 31%, затем \"без рейтинга\" 25%, третье место 0+ 17,5%, на четвертом 13+ 15% и на пятом 10+ 12%;\n",
    "* в Европе также лидируют игры 17+ 31%, второе место занимает без рейтинга 24%, третье 0+ 24%, четвертое 13+ 14% и на последнем 10+ с 8%;\n",
    "* в Японии самые популярные игры без рейтинга 62%, на втором месте 13+ 14%, на третьем 0+ 10%, на четвертом 17+, на пятом 10+ с 6%."
   ]
  },
  {
   "cell_type": "markdown",
   "metadata": {},
   "source": [
    "### Вывод "
   ]
  },
  {
   "cell_type": "markdown",
   "metadata": {},
   "source": [
    "Построили портрет пользователя из разных регионов: Северной Америки (NA), Европы (EU) и Японии (JP). И вот, что получилось:\n",
    "* пользователь из Северной Америки похож на пользователя из Европы: играют на PS4 в шутеры 17+;\n",
    "* пользователь из Японии играет на Nintendo 3DS в экшн без рейтинга."
   ]
  },
  {
   "cell_type": "markdown",
   "metadata": {},
   "source": [
    "## Проверка гипотез"
   ]
  },
  {
   "cell_type": "markdown",
   "metadata": {},
   "source": [
    "Завершающим этапом изучения таблицы являет принятие или опровержение двух гипотез:\n",
    "* средние пользовательские рейтинги платформ Xbox One и PC одинаковые;\n",
    "* средние пользовательские рейтинги жанров Action и Sports разные.\n",
    "\n",
    "Далее рассмотрим эти гипотезы более подробно."
   ]
  },
  {
   "cell_type": "markdown",
   "metadata": {},
   "source": [
    "Средние пользовательские рейтинги платформ Xbox One и PC одинаковые;\n",
    "Средние пользовательские рейтинги жанров Action (англ. «действие», экшен-игры) и Sports (англ. «спортивные соревнования») разные."
   ]
  },
  {
   "cell_type": "markdown",
   "metadata": {},
   "source": [
    "### Средние пользовательские рейтинги платформ Xbox One и PC"
   ]
  },
  {
   "cell_type": "markdown",
   "metadata": {},
   "source": [
    "Преждем чем приступать к выдвижению гипотез необходимо сравнить выборки средних пользовательских оценок на Xbox One и PC,  сравнить дисперсии и предварительно оценить средние значения."
   ]
  },
  {
   "cell_type": "code",
   "execution_count": 34,
   "metadata": {
    "scrolled": false
   },
   "outputs": [
    {
     "data": {
      "text/html": [
       "<div>\n",
       "<style scoped>\n",
       "    .dataframe tbody tr th:only-of-type {\n",
       "        vertical-align: middle;\n",
       "    }\n",
       "\n",
       "    .dataframe tbody tr th {\n",
       "        vertical-align: top;\n",
       "    }\n",
       "\n",
       "    .dataframe thead th {\n",
       "        text-align: right;\n",
       "    }\n",
       "</style>\n",
       "<table border=\"1\" class=\"dataframe\">\n",
       "  <thead>\n",
       "    <tr style=\"text-align: right;\">\n",
       "      <th></th>\n",
       "      <th>mean</th>\n",
       "      <th>var</th>\n",
       "    </tr>\n",
       "    <tr>\n",
       "      <th>platform</th>\n",
       "      <th></th>\n",
       "      <th></th>\n",
       "    </tr>\n",
       "  </thead>\n",
       "  <tbody>\n",
       "    <tr>\n",
       "      <th>PC</th>\n",
       "      <td>7.062468</td>\n",
       "      <td>2.340787</td>\n",
       "    </tr>\n",
       "    <tr>\n",
       "      <th>XOne</th>\n",
       "      <td>6.521429</td>\n",
       "      <td>1.906997</td>\n",
       "    </tr>\n",
       "  </tbody>\n",
       "</table>\n",
       "</div>"
      ],
      "text/plain": [
       "              mean       var\n",
       "platform                    \n",
       "PC        7.062468  2.340787\n",
       "XOne      6.521429  1.906997"
      ]
     },
     "execution_count": 34,
     "metadata": {},
     "output_type": "execute_result"
    }
   ],
   "source": [
    "# создадим сводную таблицу по пользовательским оценкам, расчитаем их среднее и дисперсию\n",
    "# для PC и XBox One и выведем эти значения на экран\n",
    "userscore_platform = df.pivot_table(index='platform', values='user_score', aggfunc={'mean', 'var'})\n",
    "userscore_platform = userscore_platform.query('platform == \"XOne\" or platform == \"PC\"')\n",
    "userscore_platform"
   ]
  },
  {
   "cell_type": "markdown",
   "metadata": {},
   "source": [
    "Теперь составим нулевую `H0` и альтернативную `H1` гипотезы:\n",
    "* `H0` - средние пользовательские рейтинги платформ Xbox One и PC одинаковые\n",
    "* `H1` - средние пользовательские рейтинги платформ Xbox One и PC отличаются\n",
    "\n",
    "С помощью теста Стьюдента проверим гипотезы. Уровень статистической значимости alpha 0.05, дисперсии выборок различаются."
   ]
  },
  {
   "cell_type": "code",
   "execution_count": 35,
   "metadata": {},
   "outputs": [
    {
     "name": "stdout",
     "output_type": "stream",
     "text": [
      "p-значение: 4.935072360183565e-06\n",
      "Средние пользовательские рейтинги платформ Xbox One и PC отличаются\n"
     ]
    }
   ],
   "source": [
    "# выделим две выборки со средними пользовательскими оценками по Xbox One и PC\n",
    "# и очистим эти выборки от пропусков\n",
    "userscore_xone = df[df['platform'] == 'XOne']['user_score'].dropna()\n",
    "userscore_pc = df[df['platform'] == 'PC']['user_score'].dropna()\n",
    "\n",
    "# проведем тест Стьюдента по выборкам\n",
    "alpha = .05\n",
    "results_platform = st.ttest_ind(\n",
    "    userscore_xone, \n",
    "    userscore_pc,\n",
    "    equal_var = False)\n",
    "\n",
    "print('p-значение:', results_platform.pvalue)\n",
    "\n",
    "if (results_platform.pvalue < alpha):\n",
    "    print(\"Средние пользовательские рейтинги платформ Xbox One и PC отличаются\")\n",
    "else:\n",
    "    print(\"Средние пользовательские рейтинги платформ Xbox One и PC одинаковые\") "
   ]
  },
  {
   "cell_type": "markdown",
   "metadata": {},
   "source": [
    "Предварительное сравнение средних значений выборок и проведение t-теста Стьюдента дало основание предпологать, что **средние пользовательские рейтинги платформ Xbox One и PC отличаются**"
   ]
  },
  {
   "cell_type": "markdown",
   "metadata": {},
   "source": [
    "### Средние пользовательские рейтинги жанров Action и Sports"
   ]
  },
  {
   "cell_type": "markdown",
   "metadata": {},
   "source": [
    "Таким же образом, как в предыдущем пункте, сравним выборки средних пользовательских оценок жанров экшн и спорт, сравним дисперсии и предварительно оценим средние значения."
   ]
  },
  {
   "cell_type": "code",
   "execution_count": 36,
   "metadata": {},
   "outputs": [
    {
     "data": {
      "text/html": [
       "<div>\n",
       "<style scoped>\n",
       "    .dataframe tbody tr th:only-of-type {\n",
       "        vertical-align: middle;\n",
       "    }\n",
       "\n",
       "    .dataframe tbody tr th {\n",
       "        vertical-align: top;\n",
       "    }\n",
       "\n",
       "    .dataframe thead th {\n",
       "        text-align: right;\n",
       "    }\n",
       "</style>\n",
       "<table border=\"1\" class=\"dataframe\">\n",
       "  <thead>\n",
       "    <tr style=\"text-align: right;\">\n",
       "      <th></th>\n",
       "      <th>mean</th>\n",
       "      <th>var</th>\n",
       "    </tr>\n",
       "    <tr>\n",
       "      <th>genre</th>\n",
       "      <th></th>\n",
       "      <th></th>\n",
       "    </tr>\n",
       "  </thead>\n",
       "  <tbody>\n",
       "    <tr>\n",
       "      <th>Action</th>\n",
       "      <td>7.054044</td>\n",
       "      <td>2.031747</td>\n",
       "    </tr>\n",
       "    <tr>\n",
       "      <th>Sports</th>\n",
       "      <td>6.961197</td>\n",
       "      <td>2.596515</td>\n",
       "    </tr>\n",
       "  </tbody>\n",
       "</table>\n",
       "</div>"
      ],
      "text/plain": [
       "            mean       var\n",
       "genre                     \n",
       "Action  7.054044  2.031747\n",
       "Sports  6.961197  2.596515"
      ]
     },
     "execution_count": 36,
     "metadata": {},
     "output_type": "execute_result"
    }
   ],
   "source": [
    "# создадим сводную таблицу по пользовательским оценкам, расчитаем их среднее и дисперсию\n",
    "# для жанров спорт и экшн и выведем эти значения на экран\n",
    "userscore_genre = df.pivot_table(index='genre', values='user_score', aggfunc={'mean', 'var'})\n",
    "userscore_genre = userscore_genre.query('genre == \"Action\" or genre == \"Sports\"')\n",
    "userscore_genre"
   ]
  },
  {
   "cell_type": "markdown",
   "metadata": {},
   "source": [
    "Cоставим нулевую `H0` и альтернативную `H1` гипотезы:\n",
    "* `H0` - средние пользовательские рейтинги жанров Action и Sports одинаковые\n",
    "* `H1` - средние пользовательские рейтинги жанров Action и Sports отличаются\n",
    "\n",
    "С помощью теста Стьюдента проверим гипотезы. Уровень статистической значимости alpha 0.05, значения дисперсии выборок близки, примем их одинаковыми."
   ]
  },
  {
   "cell_type": "code",
   "execution_count": 37,
   "metadata": {},
   "outputs": [
    {
     "name": "stdout",
     "output_type": "stream",
     "text": [
      "p-значение: 0.10406951359049141\n",
      "Cредние пользовательские рейтинги жанров Action и Sports одинаковые\n"
     ]
    }
   ],
   "source": [
    "# выделим две выборки со средними пользовательскими оценками по жанрам экшн и спорт\n",
    "# и очистим эти выборки от пропусков\n",
    "userscore_action = df[df['genre'] == 'Action']['user_score'].dropna()\n",
    "userscore_sports = df[df['genre'] == 'Sports']['user_score'].dropna()\n",
    "\n",
    "# проведем тест Стьюдента по выборкам\n",
    "alpha = .05\n",
    "results_genre = st.ttest_ind(\n",
    "    userscore_action, \n",
    "    userscore_sports,\n",
    "    equal_var = True)\n",
    "\n",
    "print('p-значение:', results_genre.pvalue)\n",
    "\n",
    "if (results_genre.pvalue < alpha):\n",
    "    print(\"Cредние пользовательские рейтинги жанров Action и Sports отличаются\")\n",
    "else:\n",
    "    print(\"Cредние пользовательские рейтинги жанров Action и Sports одинаковые\") "
   ]
  },
  {
   "cell_type": "markdown",
   "metadata": {},
   "source": [
    "Предварительное сравнение средних значений выборок и проведение t-теста Стьюдента ~~показало~~ дало основание полагать, что **средние пользовательские рейтинги жанров Action и Sports одинаковые**"
   ]
  },
  {
   "cell_type": "markdown",
   "metadata": {},
   "source": [
    "## Общий вывод"
   ]
  },
  {
   "cell_type": "markdown",
   "metadata": {},
   "source": [
    "Проведя данное исследование, мы проанализириволи и подготовили данные о продажах интернет магазина игр различных жанров и платформ. \n",
    "На основании этих данных провели исследовательский анализ, составили портрет пользователя разных регионов и проверили гипотезы средних пользовательских оценок.\n",
    "\n",
    "* платформы-лидеры продаж за все время: PlayStation 2, XBox 360, Nintendo Wii, PlayStation 3, Nintendo DS и PlayStation One;\n",
    "* срок \"жизни\" платформы составляет примерно 10 лет, ее популярность приходит через 3-5 лет после выпуска;\n",
    "* перспективно прибыльные платформы на 2017 год: PlayStation 4, XBox One, Nintendo 3DS;\n",
    "* на продажи влияют отзывы критиков;\n",
    "* наиболее стабильно прибыльные жанры это шутер, спорт и РПГ;\n",
    "* перспективно прибыльный пользователь играет на PS4 в шутеры 17+;\n",
    "* можно предпологать, что средние пользовательские рейтинги платформ Xbox One и PC отличаются, а рейтинги жанров Action и Sports одинаковые.\n"
   ]
  }
 ],
 "metadata": {
  "ExecuteTimeLog": [
   {
    "duration": 1016,
    "start_time": "2022-02-14T17:42:49.474Z"
   },
   {
    "duration": 34,
    "start_time": "2022-02-14T17:42:50.491Z"
   },
   {
    "duration": 52,
    "start_time": "2022-02-14T17:42:50.527Z"
   },
   {
    "duration": 4,
    "start_time": "2022-02-14T17:42:50.581Z"
   },
   {
    "duration": 8,
    "start_time": "2022-02-14T17:42:50.587Z"
   },
   {
    "duration": 6,
    "start_time": "2022-02-14T17:42:50.596Z"
   },
   {
    "duration": 4,
    "start_time": "2022-02-14T17:42:50.603Z"
   },
   {
    "duration": 4,
    "start_time": "2022-02-14T17:42:50.628Z"
   },
   {
    "duration": 12,
    "start_time": "2022-02-14T17:42:50.633Z"
   },
   {
    "duration": 5,
    "start_time": "2022-02-14T17:42:50.646Z"
   },
   {
    "duration": 6,
    "start_time": "2022-02-14T17:42:50.653Z"
   },
   {
    "duration": 8,
    "start_time": "2022-02-14T17:42:50.661Z"
   },
   {
    "duration": 338,
    "start_time": "2022-02-14T17:42:50.671Z"
   },
   {
    "duration": 3,
    "start_time": "2022-02-14T17:42:51.011Z"
   },
   {
    "duration": 18,
    "start_time": "2022-02-14T17:42:51.016Z"
   },
   {
    "duration": 7,
    "start_time": "2022-02-14T17:42:51.035Z"
   },
   {
    "duration": 401,
    "start_time": "2022-02-14T17:42:51.044Z"
   },
   {
    "duration": 3033,
    "start_time": "2022-02-14T17:42:48.414Z"
   },
   {
    "duration": 3030,
    "start_time": "2022-02-14T17:42:48.418Z"
   },
   {
    "duration": 3029,
    "start_time": "2022-02-14T17:42:48.420Z"
   },
   {
    "duration": 3028,
    "start_time": "2022-02-14T17:42:48.421Z"
   },
   {
    "duration": 3027,
    "start_time": "2022-02-14T17:42:48.423Z"
   },
   {
    "duration": 3026,
    "start_time": "2022-02-14T17:42:48.425Z"
   },
   {
    "duration": 3026,
    "start_time": "2022-02-14T17:42:48.426Z"
   },
   {
    "duration": 3025,
    "start_time": "2022-02-14T17:42:48.427Z"
   },
   {
    "duration": 3024,
    "start_time": "2022-02-14T17:42:48.429Z"
   },
   {
    "duration": 3024,
    "start_time": "2022-02-14T17:42:48.430Z"
   },
   {
    "duration": 3022,
    "start_time": "2022-02-14T17:42:48.432Z"
   },
   {
    "duration": 3,
    "start_time": "2022-02-14T17:43:15.079Z"
   },
   {
    "duration": 51,
    "start_time": "2022-02-14T17:43:15.084Z"
   },
   {
    "duration": 52,
    "start_time": "2022-02-14T17:43:15.136Z"
   },
   {
    "duration": 5,
    "start_time": "2022-02-14T17:43:15.190Z"
   },
   {
    "duration": 7,
    "start_time": "2022-02-14T17:43:15.196Z"
   },
   {
    "duration": 24,
    "start_time": "2022-02-14T17:43:15.204Z"
   },
   {
    "duration": 3,
    "start_time": "2022-02-14T17:43:15.230Z"
   },
   {
    "duration": 7,
    "start_time": "2022-02-14T17:43:15.234Z"
   },
   {
    "duration": 7,
    "start_time": "2022-02-14T17:43:15.243Z"
   },
   {
    "duration": 5,
    "start_time": "2022-02-14T17:43:15.252Z"
   },
   {
    "duration": 4,
    "start_time": "2022-02-14T17:43:15.258Z"
   },
   {
    "duration": 5,
    "start_time": "2022-02-14T17:43:15.264Z"
   },
   {
    "duration": 351,
    "start_time": "2022-02-14T17:43:15.270Z"
   },
   {
    "duration": 4,
    "start_time": "2022-02-14T17:43:15.623Z"
   },
   {
    "duration": 5,
    "start_time": "2022-02-14T17:43:15.629Z"
   },
   {
    "duration": 7,
    "start_time": "2022-02-14T17:43:15.635Z"
   },
   {
    "duration": 309,
    "start_time": "2022-02-14T17:43:15.643Z"
   },
   {
    "duration": 3033,
    "start_time": "2022-02-14T17:43:12.921Z"
   },
   {
    "duration": 3032,
    "start_time": "2022-02-14T17:43:12.923Z"
   },
   {
    "duration": 3032,
    "start_time": "2022-02-14T17:43:12.924Z"
   },
   {
    "duration": 3032,
    "start_time": "2022-02-14T17:43:12.925Z"
   },
   {
    "duration": 3031,
    "start_time": "2022-02-14T17:43:12.927Z"
   },
   {
    "duration": 3031,
    "start_time": "2022-02-14T17:43:12.928Z"
   },
   {
    "duration": 3031,
    "start_time": "2022-02-14T17:43:12.929Z"
   },
   {
    "duration": 3031,
    "start_time": "2022-02-14T17:43:12.930Z"
   },
   {
    "duration": 3029,
    "start_time": "2022-02-14T17:43:12.932Z"
   },
   {
    "duration": 3029,
    "start_time": "2022-02-14T17:43:12.933Z"
   },
   {
    "duration": 3029,
    "start_time": "2022-02-14T17:43:12.934Z"
   },
   {
    "duration": 36,
    "start_time": "2022-02-14T17:43:26.395Z"
   },
   {
    "duration": 1023,
    "start_time": "2022-02-14T17:43:32.717Z"
   },
   {
    "duration": 34,
    "start_time": "2022-02-14T17:43:33.741Z"
   },
   {
    "duration": 53,
    "start_time": "2022-02-14T17:43:33.777Z"
   },
   {
    "duration": 4,
    "start_time": "2022-02-14T17:43:33.832Z"
   },
   {
    "duration": 6,
    "start_time": "2022-02-14T17:43:33.837Z"
   },
   {
    "duration": 6,
    "start_time": "2022-02-14T17:43:33.844Z"
   },
   {
    "duration": 6,
    "start_time": "2022-02-14T17:43:33.851Z"
   },
   {
    "duration": 10,
    "start_time": "2022-02-14T17:43:33.858Z"
   },
   {
    "duration": 7,
    "start_time": "2022-02-14T17:43:33.870Z"
   },
   {
    "duration": 5,
    "start_time": "2022-02-14T17:43:33.879Z"
   },
   {
    "duration": 5,
    "start_time": "2022-02-14T17:43:33.885Z"
   },
   {
    "duration": 6,
    "start_time": "2022-02-14T17:43:33.892Z"
   },
   {
    "duration": 341,
    "start_time": "2022-02-14T17:43:33.899Z"
   },
   {
    "duration": 5,
    "start_time": "2022-02-14T17:43:34.241Z"
   },
   {
    "duration": 6,
    "start_time": "2022-02-14T17:43:34.248Z"
   },
   {
    "duration": 8,
    "start_time": "2022-02-14T17:43:34.256Z"
   },
   {
    "duration": 672,
    "start_time": "2022-02-14T17:43:34.265Z"
   },
   {
    "duration": 3041,
    "start_time": "2022-02-14T17:43:31.898Z"
   },
   {
    "duration": 3042,
    "start_time": "2022-02-14T17:43:31.899Z"
   },
   {
    "duration": 3042,
    "start_time": "2022-02-14T17:43:31.900Z"
   },
   {
    "duration": 3041,
    "start_time": "2022-02-14T17:43:31.902Z"
   },
   {
    "duration": 3042,
    "start_time": "2022-02-14T17:43:31.903Z"
   },
   {
    "duration": 3042,
    "start_time": "2022-02-14T17:43:31.904Z"
   },
   {
    "duration": 3041,
    "start_time": "2022-02-14T17:43:31.906Z"
   },
   {
    "duration": 3041,
    "start_time": "2022-02-14T17:43:31.907Z"
   },
   {
    "duration": 3040,
    "start_time": "2022-02-14T17:43:31.909Z"
   },
   {
    "duration": 3040,
    "start_time": "2022-02-14T17:43:31.910Z"
   },
   {
    "duration": 3026,
    "start_time": "2022-02-14T17:43:31.925Z"
   },
   {
    "duration": 362,
    "start_time": "2022-02-14T18:46:39.220Z"
   },
   {
    "duration": 1128,
    "start_time": "2022-02-14T18:46:59.536Z"
   },
   {
    "duration": 37,
    "start_time": "2022-02-14T18:47:00.666Z"
   },
   {
    "duration": 58,
    "start_time": "2022-02-14T18:47:00.705Z"
   },
   {
    "duration": 5,
    "start_time": "2022-02-14T18:47:00.765Z"
   },
   {
    "duration": 14,
    "start_time": "2022-02-14T18:47:00.772Z"
   },
   {
    "duration": 7,
    "start_time": "2022-02-14T18:47:00.787Z"
   },
   {
    "duration": 9,
    "start_time": "2022-02-14T18:47:00.795Z"
   },
   {
    "duration": 19,
    "start_time": "2022-02-14T18:47:00.806Z"
   },
   {
    "duration": 14,
    "start_time": "2022-02-14T18:47:00.828Z"
   },
   {
    "duration": 15,
    "start_time": "2022-02-14T18:47:00.843Z"
   },
   {
    "duration": 9,
    "start_time": "2022-02-14T18:47:00.860Z"
   },
   {
    "duration": 19,
    "start_time": "2022-02-14T18:47:00.870Z"
   },
   {
    "duration": 339,
    "start_time": "2022-02-14T18:47:00.891Z"
   },
   {
    "duration": 4,
    "start_time": "2022-02-14T18:47:01.232Z"
   },
   {
    "duration": 27,
    "start_time": "2022-02-14T18:47:01.237Z"
   },
   {
    "duration": 21,
    "start_time": "2022-02-14T18:47:01.265Z"
   },
   {
    "duration": 451,
    "start_time": "2022-02-14T18:47:01.287Z"
   },
   {
    "duration": 3084,
    "start_time": "2022-02-14T18:46:58.656Z"
   },
   {
    "duration": 3084,
    "start_time": "2022-02-14T18:46:58.657Z"
   },
   {
    "duration": 3083,
    "start_time": "2022-02-14T18:46:58.659Z"
   },
   {
    "duration": 3082,
    "start_time": "2022-02-14T18:46:58.660Z"
   },
   {
    "duration": 3081,
    "start_time": "2022-02-14T18:46:58.662Z"
   },
   {
    "duration": 3080,
    "start_time": "2022-02-14T18:46:58.664Z"
   },
   {
    "duration": 3079,
    "start_time": "2022-02-14T18:46:58.666Z"
   },
   {
    "duration": 3074,
    "start_time": "2022-02-14T18:46:58.672Z"
   },
   {
    "duration": 3073,
    "start_time": "2022-02-14T18:46:58.674Z"
   },
   {
    "duration": 3073,
    "start_time": "2022-02-14T18:46:58.675Z"
   },
   {
    "duration": 3073,
    "start_time": "2022-02-14T18:46:58.676Z"
   },
   {
    "duration": 348,
    "start_time": "2022-02-14T18:52:57.723Z"
   },
   {
    "duration": 347,
    "start_time": "2022-02-14T18:54:15.628Z"
   },
   {
    "duration": 317,
    "start_time": "2022-02-14T18:54:25.644Z"
   },
   {
    "duration": 337,
    "start_time": "2022-02-14T18:55:00.255Z"
   },
   {
    "duration": 18025,
    "start_time": "2022-02-14T19:00:01.150Z"
   },
   {
    "duration": 1640,
    "start_time": "2022-02-14T19:00:30.557Z"
   },
   {
    "duration": 8144,
    "start_time": "2022-02-14T19:00:32.198Z"
   },
   {
    "duration": 39,
    "start_time": "2022-02-14T19:00:40.347Z"
   },
   {
    "duration": 60,
    "start_time": "2022-02-14T19:00:40.388Z"
   },
   {
    "duration": 4,
    "start_time": "2022-02-14T19:00:40.449Z"
   },
   {
    "duration": 8,
    "start_time": "2022-02-14T19:00:40.455Z"
   },
   {
    "duration": 8,
    "start_time": "2022-02-14T19:00:40.464Z"
   },
   {
    "duration": 3,
    "start_time": "2022-02-14T19:00:40.474Z"
   },
   {
    "duration": 5,
    "start_time": "2022-02-14T19:00:40.479Z"
   },
   {
    "duration": 10,
    "start_time": "2022-02-14T19:00:40.486Z"
   },
   {
    "duration": 6,
    "start_time": "2022-02-14T19:00:40.497Z"
   },
   {
    "duration": 6,
    "start_time": "2022-02-14T19:00:40.504Z"
   },
   {
    "duration": 6,
    "start_time": "2022-02-14T19:00:40.511Z"
   },
   {
    "duration": 419,
    "start_time": "2022-02-14T19:00:40.519Z"
   },
   {
    "duration": 4,
    "start_time": "2022-02-14T19:00:40.939Z"
   },
   {
    "duration": 6,
    "start_time": "2022-02-14T19:00:40.945Z"
   },
   {
    "duration": 6,
    "start_time": "2022-02-14T19:00:40.952Z"
   },
   {
    "duration": 11,
    "start_time": "2022-02-14T19:00:40.959Z"
   },
   {
    "duration": 487,
    "start_time": "2022-02-14T19:00:40.972Z"
   },
   {
    "duration": 357,
    "start_time": "2022-02-14T19:00:41.461Z"
   },
   {
    "duration": 554,
    "start_time": "2022-02-14T19:00:41.820Z"
   },
   {
    "duration": 303,
    "start_time": "2022-02-14T19:00:42.376Z"
   },
   {
    "duration": 1188,
    "start_time": "2022-02-14T19:00:42.681Z"
   },
   {
    "duration": 765,
    "start_time": "2022-02-14T19:00:43.871Z"
   },
   {
    "duration": 872,
    "start_time": "2022-02-14T19:00:44.637Z"
   },
   {
    "duration": 29,
    "start_time": "2022-02-14T19:00:45.511Z"
   },
   {
    "duration": 12,
    "start_time": "2022-02-14T19:00:45.541Z"
   },
   {
    "duration": 225,
    "start_time": "2022-02-14T19:00:45.554Z"
   },
   {
    "duration": 16,
    "start_time": "2022-02-14T19:00:45.780Z"
   },
   {
    "duration": 1447,
    "start_time": "2022-02-14T19:05:37.942Z"
   },
   {
    "duration": 7629,
    "start_time": "2022-02-14T19:05:39.391Z"
   },
   {
    "duration": 41,
    "start_time": "2022-02-14T19:05:47.022Z"
   },
   {
    "duration": 64,
    "start_time": "2022-02-14T19:05:47.065Z"
   },
   {
    "duration": 5,
    "start_time": "2022-02-14T19:05:47.131Z"
   },
   {
    "duration": 5,
    "start_time": "2022-02-14T19:05:47.138Z"
   },
   {
    "duration": 6,
    "start_time": "2022-02-14T19:05:47.145Z"
   },
   {
    "duration": 3,
    "start_time": "2022-02-14T19:05:47.153Z"
   },
   {
    "duration": 6,
    "start_time": "2022-02-14T19:05:47.158Z"
   },
   {
    "duration": 9,
    "start_time": "2022-02-14T19:05:47.165Z"
   },
   {
    "duration": 6,
    "start_time": "2022-02-14T19:05:47.175Z"
   },
   {
    "duration": 5,
    "start_time": "2022-02-14T19:05:47.182Z"
   },
   {
    "duration": 40,
    "start_time": "2022-02-14T19:05:47.189Z"
   },
   {
    "duration": 347,
    "start_time": "2022-02-14T19:05:47.230Z"
   },
   {
    "duration": 4,
    "start_time": "2022-02-14T19:05:47.578Z"
   },
   {
    "duration": 11,
    "start_time": "2022-02-14T19:05:47.583Z"
   },
   {
    "duration": 8,
    "start_time": "2022-02-14T19:05:47.596Z"
   },
   {
    "duration": 376,
    "start_time": "2022-02-14T19:05:47.605Z"
   },
   {
    "duration": 401,
    "start_time": "2022-02-14T19:05:47.983Z"
   },
   {
    "duration": 352,
    "start_time": "2022-02-14T19:05:48.386Z"
   },
   {
    "duration": 557,
    "start_time": "2022-02-14T19:05:48.739Z"
   },
   {
    "duration": 256,
    "start_time": "2022-02-14T19:05:49.298Z"
   },
   {
    "duration": 1217,
    "start_time": "2022-02-14T19:05:49.556Z"
   },
   {
    "duration": 705,
    "start_time": "2022-02-14T19:05:50.775Z"
   },
   {
    "duration": 665,
    "start_time": "2022-02-14T19:05:51.482Z"
   },
   {
    "duration": 102,
    "start_time": "2022-02-14T19:05:52.149Z"
   },
   {
    "duration": 12,
    "start_time": "2022-02-14T19:05:52.253Z"
   },
   {
    "duration": 262,
    "start_time": "2022-02-14T19:05:52.267Z"
   },
   {
    "duration": 14,
    "start_time": "2022-02-14T19:05:52.531Z"
   },
   {
    "duration": 99,
    "start_time": "2022-02-14T19:06:37.867Z"
   },
   {
    "duration": 65,
    "start_time": "2022-02-14T19:06:41.274Z"
   },
   {
    "duration": 179,
    "start_time": "2022-02-14T19:06:53.333Z"
   },
   {
    "duration": 303,
    "start_time": "2022-02-14T19:07:00.836Z"
   },
   {
    "duration": 281,
    "start_time": "2022-02-14T19:07:06.064Z"
   },
   {
    "duration": 360,
    "start_time": "2022-02-14T19:07:36.691Z"
   },
   {
    "duration": 381,
    "start_time": "2022-02-14T19:08:04.569Z"
   },
   {
    "duration": 515,
    "start_time": "2022-02-14T19:09:12.129Z"
   },
   {
    "duration": 211,
    "start_time": "2022-02-14T19:09:43.751Z"
   },
   {
    "duration": 732,
    "start_time": "2022-02-14T19:10:34.801Z"
   },
   {
    "duration": 849,
    "start_time": "2022-02-14T19:11:29.750Z"
   },
   {
    "duration": 689,
    "start_time": "2022-02-14T19:12:11.220Z"
   },
   {
    "duration": 243,
    "start_time": "2022-02-14T19:20:21.690Z"
   },
   {
    "duration": 428,
    "start_time": "2022-02-14T19:20:50.528Z"
   },
   {
    "duration": 322,
    "start_time": "2022-02-14T19:20:57.711Z"
   },
   {
    "duration": 266,
    "start_time": "2022-02-14T19:21:14.469Z"
   },
   {
    "duration": 314,
    "start_time": "2022-02-14T19:21:25.758Z"
   },
   {
    "duration": 177,
    "start_time": "2022-02-14T19:22:17.578Z"
   },
   {
    "duration": 780,
    "start_time": "2022-02-14T19:26:52.074Z"
   },
   {
    "duration": 807,
    "start_time": "2022-02-14T19:31:34.432Z"
   },
   {
    "duration": 449,
    "start_time": "2022-02-14T19:34:08.213Z"
   },
   {
    "duration": 502,
    "start_time": "2022-02-14T19:34:42.637Z"
   },
   {
    "duration": 3174,
    "start_time": "2022-02-14T19:35:11.657Z"
   },
   {
    "duration": 431,
    "start_time": "2022-02-14T19:36:02.221Z"
   },
   {
    "duration": 683,
    "start_time": "2022-02-14T19:37:46.946Z"
   },
   {
    "duration": 285,
    "start_time": "2022-02-15T02:52:19.382Z"
   },
   {
    "duration": 1434,
    "start_time": "2022-02-15T02:52:41.863Z"
   },
   {
    "duration": 20938,
    "start_time": "2022-02-15T02:52:43.299Z"
   },
   {
    "duration": 47,
    "start_time": "2022-02-15T02:53:04.244Z"
   },
   {
    "duration": 106,
    "start_time": "2022-02-15T02:53:04.293Z"
   },
   {
    "duration": 7,
    "start_time": "2022-02-15T02:53:04.402Z"
   },
   {
    "duration": 24,
    "start_time": "2022-02-15T02:53:04.412Z"
   },
   {
    "duration": 7,
    "start_time": "2022-02-15T02:53:04.439Z"
   },
   {
    "duration": 5,
    "start_time": "2022-02-15T02:53:04.450Z"
   },
   {
    "duration": 10,
    "start_time": "2022-02-15T02:53:04.458Z"
   },
   {
    "duration": 14,
    "start_time": "2022-02-15T02:53:04.470Z"
   },
   {
    "duration": 49,
    "start_time": "2022-02-15T02:53:04.486Z"
   },
   {
    "duration": 12,
    "start_time": "2022-02-15T02:53:04.537Z"
   },
   {
    "duration": 9,
    "start_time": "2022-02-15T02:53:04.552Z"
   },
   {
    "duration": 548,
    "start_time": "2022-02-15T02:53:04.563Z"
   },
   {
    "duration": 6,
    "start_time": "2022-02-15T02:53:05.113Z"
   },
   {
    "duration": 16,
    "start_time": "2022-02-15T02:53:05.122Z"
   },
   {
    "duration": 10,
    "start_time": "2022-02-15T02:53:05.140Z"
   },
   {
    "duration": 396,
    "start_time": "2022-02-15T02:53:05.153Z"
   },
   {
    "duration": 4269,
    "start_time": "2022-02-15T02:53:01.283Z"
   },
   {
    "duration": 4269,
    "start_time": "2022-02-15T02:53:01.285Z"
   },
   {
    "duration": 4270,
    "start_time": "2022-02-15T02:53:01.286Z"
   },
   {
    "duration": 4270,
    "start_time": "2022-02-15T02:53:01.287Z"
   },
   {
    "duration": 4271,
    "start_time": "2022-02-15T02:53:01.289Z"
   },
   {
    "duration": 4270,
    "start_time": "2022-02-15T02:53:01.291Z"
   },
   {
    "duration": 4271,
    "start_time": "2022-02-15T02:53:01.292Z"
   },
   {
    "duration": 4271,
    "start_time": "2022-02-15T02:53:01.293Z"
   },
   {
    "duration": 4271,
    "start_time": "2022-02-15T02:53:01.295Z"
   },
   {
    "duration": 4265,
    "start_time": "2022-02-15T02:53:01.302Z"
   },
   {
    "duration": 2458,
    "start_time": "2022-02-15T03:00:06.547Z"
   },
   {
    "duration": 10511,
    "start_time": "2022-02-15T03:00:09.007Z"
   },
   {
    "duration": 46,
    "start_time": "2022-02-15T03:00:19.523Z"
   },
   {
    "duration": 112,
    "start_time": "2022-02-15T03:00:19.572Z"
   },
   {
    "duration": 9,
    "start_time": "2022-02-15T03:00:19.687Z"
   },
   {
    "duration": 34,
    "start_time": "2022-02-15T03:00:19.699Z"
   },
   {
    "duration": 8,
    "start_time": "2022-02-15T03:00:19.736Z"
   },
   {
    "duration": 14,
    "start_time": "2022-02-15T03:00:19.747Z"
   },
   {
    "duration": 18,
    "start_time": "2022-02-15T03:00:19.766Z"
   },
   {
    "duration": 16,
    "start_time": "2022-02-15T03:00:19.788Z"
   },
   {
    "duration": 28,
    "start_time": "2022-02-15T03:00:19.807Z"
   },
   {
    "duration": 7,
    "start_time": "2022-02-15T03:00:19.837Z"
   },
   {
    "duration": 8,
    "start_time": "2022-02-15T03:00:19.846Z"
   },
   {
    "duration": 555,
    "start_time": "2022-02-15T03:00:19.857Z"
   },
   {
    "duration": 6,
    "start_time": "2022-02-15T03:00:20.414Z"
   },
   {
    "duration": 5,
    "start_time": "2022-02-15T03:00:20.433Z"
   },
   {
    "duration": 18,
    "start_time": "2022-02-15T03:00:20.440Z"
   },
   {
    "duration": 536,
    "start_time": "2022-02-15T03:00:20.460Z"
   },
   {
    "duration": 742,
    "start_time": "2022-02-15T03:00:20.999Z"
   },
   {
    "duration": 616,
    "start_time": "2022-02-15T03:00:21.744Z"
   },
   {
    "duration": 762,
    "start_time": "2022-02-15T03:00:22.362Z"
   },
   {
    "duration": 399,
    "start_time": "2022-02-15T03:00:23.126Z"
   },
   {
    "duration": 1632,
    "start_time": "2022-02-15T03:00:23.531Z"
   },
   {
    "duration": 1119,
    "start_time": "2022-02-15T03:00:25.166Z"
   },
   {
    "duration": 1103,
    "start_time": "2022-02-15T03:00:26.287Z"
   },
   {
    "duration": 46,
    "start_time": "2022-02-15T03:00:27.392Z"
   },
   {
    "duration": 813,
    "start_time": "2022-02-15T03:00:27.442Z"
   },
   {
    "duration": 290,
    "start_time": "2022-02-15T03:00:28.258Z"
   },
   {
    "duration": 3207,
    "start_time": "2022-02-15T03:03:00.946Z"
   },
   {
    "duration": 735,
    "start_time": "2022-02-15T03:03:28.897Z"
   },
   {
    "duration": 16,
    "start_time": "2022-02-15T03:05:04.205Z"
   },
   {
    "duration": 30,
    "start_time": "2022-02-15T03:05:21.471Z"
   },
   {
    "duration": 9,
    "start_time": "2022-02-15T03:05:24.851Z"
   },
   {
    "duration": 10,
    "start_time": "2022-02-15T03:05:27.352Z"
   },
   {
    "duration": 11,
    "start_time": "2022-02-15T03:05:29.814Z"
   },
   {
    "duration": 24,
    "start_time": "2022-02-15T03:08:47.603Z"
   },
   {
    "duration": 5,
    "start_time": "2022-02-15T03:08:57.762Z"
   },
   {
    "duration": 6,
    "start_time": "2022-02-15T03:09:06.002Z"
   },
   {
    "duration": 32,
    "start_time": "2022-02-15T03:10:08.337Z"
   },
   {
    "duration": 10,
    "start_time": "2022-02-15T03:10:10.345Z"
   },
   {
    "duration": 34,
    "start_time": "2022-02-15T03:10:18.067Z"
   },
   {
    "duration": 9,
    "start_time": "2022-02-15T03:10:20.058Z"
   },
   {
    "duration": 9,
    "start_time": "2022-02-15T03:10:21.948Z"
   },
   {
    "duration": 8,
    "start_time": "2022-02-15T03:10:24.519Z"
   },
   {
    "duration": 810,
    "start_time": "2022-02-15T03:10:38.756Z"
   },
   {
    "duration": 713,
    "start_time": "2022-02-15T03:27:04.426Z"
   },
   {
    "duration": 869,
    "start_time": "2022-02-15T03:28:20.671Z"
   },
   {
    "duration": 306,
    "start_time": "2022-02-15T08:30:34.295Z"
   },
   {
    "duration": 1206,
    "start_time": "2022-02-15T08:30:42.192Z"
   },
   {
    "duration": 17083,
    "start_time": "2022-02-15T08:30:43.400Z"
   },
   {
    "duration": 42,
    "start_time": "2022-02-15T08:31:00.486Z"
   },
   {
    "duration": 89,
    "start_time": "2022-02-15T08:31:00.530Z"
   },
   {
    "duration": 5,
    "start_time": "2022-02-15T08:31:00.621Z"
   },
   {
    "duration": 22,
    "start_time": "2022-02-15T08:31:00.628Z"
   },
   {
    "duration": 27,
    "start_time": "2022-02-15T08:31:00.652Z"
   },
   {
    "duration": 15,
    "start_time": "2022-02-15T08:31:00.680Z"
   },
   {
    "duration": 15,
    "start_time": "2022-02-15T08:31:00.698Z"
   },
   {
    "duration": 14,
    "start_time": "2022-02-15T08:31:00.716Z"
   },
   {
    "duration": 14,
    "start_time": "2022-02-15T08:31:00.732Z"
   },
   {
    "duration": 49,
    "start_time": "2022-02-15T08:31:00.748Z"
   },
   {
    "duration": 24,
    "start_time": "2022-02-15T08:31:00.799Z"
   },
   {
    "duration": 382,
    "start_time": "2022-02-15T08:31:00.825Z"
   },
   {
    "duration": 11,
    "start_time": "2022-02-15T08:31:01.209Z"
   },
   {
    "duration": 38,
    "start_time": "2022-02-15T08:31:01.221Z"
   },
   {
    "duration": 10,
    "start_time": "2022-02-15T08:31:01.261Z"
   },
   {
    "duration": 409,
    "start_time": "2022-02-15T08:31:01.272Z"
   },
   {
    "duration": 10355,
    "start_time": "2022-02-15T08:30:51.328Z"
   },
   {
    "duration": 10352,
    "start_time": "2022-02-15T08:30:51.332Z"
   },
   {
    "duration": 10231,
    "start_time": "2022-02-15T08:30:51.455Z"
   },
   {
    "duration": 10227,
    "start_time": "2022-02-15T08:30:51.460Z"
   },
   {
    "duration": 10225,
    "start_time": "2022-02-15T08:30:51.463Z"
   },
   {
    "duration": 10223,
    "start_time": "2022-02-15T08:30:51.466Z"
   },
   {
    "duration": 10222,
    "start_time": "2022-02-15T08:30:51.468Z"
   },
   {
    "duration": 10220,
    "start_time": "2022-02-15T08:30:51.471Z"
   },
   {
    "duration": 10218,
    "start_time": "2022-02-15T08:30:51.474Z"
   },
   {
    "duration": 10216,
    "start_time": "2022-02-15T08:30:51.476Z"
   },
   {
    "duration": 10215,
    "start_time": "2022-02-15T08:30:51.479Z"
   },
   {
    "duration": 10214,
    "start_time": "2022-02-15T08:30:51.481Z"
   },
   {
    "duration": 246,
    "start_time": "2022-02-15T08:31:15.223Z"
   },
   {
    "duration": 273,
    "start_time": "2022-02-15T08:31:38.275Z"
   },
   {
    "duration": 3,
    "start_time": "2022-02-15T08:31:44.319Z"
   },
   {
    "duration": 9420,
    "start_time": "2022-02-15T08:31:44.324Z"
   },
   {
    "duration": 35,
    "start_time": "2022-02-15T08:31:53.747Z"
   },
   {
    "duration": 66,
    "start_time": "2022-02-15T08:31:53.784Z"
   },
   {
    "duration": 4,
    "start_time": "2022-02-15T08:31:53.852Z"
   },
   {
    "duration": 7,
    "start_time": "2022-02-15T08:31:53.858Z"
   },
   {
    "duration": 13,
    "start_time": "2022-02-15T08:31:53.867Z"
   },
   {
    "duration": 18,
    "start_time": "2022-02-15T08:31:53.882Z"
   },
   {
    "duration": 11,
    "start_time": "2022-02-15T08:31:53.903Z"
   },
   {
    "duration": 9,
    "start_time": "2022-02-15T08:31:53.916Z"
   },
   {
    "duration": 9,
    "start_time": "2022-02-15T08:31:53.926Z"
   },
   {
    "duration": 9,
    "start_time": "2022-02-15T08:31:53.937Z"
   },
   {
    "duration": 15,
    "start_time": "2022-02-15T08:31:53.947Z"
   },
   {
    "duration": 360,
    "start_time": "2022-02-15T08:31:53.964Z"
   },
   {
    "duration": 4,
    "start_time": "2022-02-15T08:31:54.326Z"
   },
   {
    "duration": 8,
    "start_time": "2022-02-15T08:31:54.331Z"
   },
   {
    "duration": 6,
    "start_time": "2022-02-15T08:31:54.340Z"
   },
   {
    "duration": 265,
    "start_time": "2022-02-15T08:31:54.348Z"
   },
   {
    "duration": 9987,
    "start_time": "2022-02-15T08:31:44.629Z"
   },
   {
    "duration": 9985,
    "start_time": "2022-02-15T08:31:44.632Z"
   },
   {
    "duration": 9983,
    "start_time": "2022-02-15T08:31:44.634Z"
   },
   {
    "duration": 9981,
    "start_time": "2022-02-15T08:31:44.637Z"
   },
   {
    "duration": 9980,
    "start_time": "2022-02-15T08:31:44.640Z"
   },
   {
    "duration": 9977,
    "start_time": "2022-02-15T08:31:44.643Z"
   },
   {
    "duration": 9975,
    "start_time": "2022-02-15T08:31:44.647Z"
   },
   {
    "duration": 9973,
    "start_time": "2022-02-15T08:31:44.650Z"
   },
   {
    "duration": 9970,
    "start_time": "2022-02-15T08:31:44.654Z"
   },
   {
    "duration": 9821,
    "start_time": "2022-02-15T08:31:44.804Z"
   },
   {
    "duration": 9805,
    "start_time": "2022-02-15T08:31:44.821Z"
   },
   {
    "duration": 9803,
    "start_time": "2022-02-15T08:31:44.824Z"
   },
   {
    "duration": 9800,
    "start_time": "2022-02-15T08:31:44.828Z"
   },
   {
    "duration": 2271,
    "start_time": "2022-02-15T08:32:33.446Z"
   },
   {
    "duration": 8259,
    "start_time": "2022-02-15T08:32:35.719Z"
   },
   {
    "duration": 40,
    "start_time": "2022-02-15T08:32:43.981Z"
   },
   {
    "duration": 72,
    "start_time": "2022-02-15T08:32:44.024Z"
   },
   {
    "duration": 24,
    "start_time": "2022-02-15T08:32:44.097Z"
   },
   {
    "duration": 4,
    "start_time": "2022-02-15T08:32:44.123Z"
   },
   {
    "duration": 18,
    "start_time": "2022-02-15T08:32:44.129Z"
   },
   {
    "duration": 22,
    "start_time": "2022-02-15T08:32:44.150Z"
   },
   {
    "duration": 37,
    "start_time": "2022-02-15T08:32:44.175Z"
   },
   {
    "duration": 29,
    "start_time": "2022-02-15T08:32:44.214Z"
   },
   {
    "duration": 17,
    "start_time": "2022-02-15T08:32:44.245Z"
   },
   {
    "duration": 19,
    "start_time": "2022-02-15T08:32:44.264Z"
   },
   {
    "duration": 9,
    "start_time": "2022-02-15T08:32:44.285Z"
   },
   {
    "duration": 363,
    "start_time": "2022-02-15T08:32:44.295Z"
   },
   {
    "duration": 4,
    "start_time": "2022-02-15T08:32:44.660Z"
   },
   {
    "duration": 5,
    "start_time": "2022-02-15T08:32:44.666Z"
   },
   {
    "duration": 7,
    "start_time": "2022-02-15T08:32:44.673Z"
   },
   {
    "duration": 411,
    "start_time": "2022-02-15T08:32:44.681Z"
   },
   {
    "duration": 505,
    "start_time": "2022-02-15T08:32:45.093Z"
   },
   {
    "duration": 475,
    "start_time": "2022-02-15T08:32:45.599Z"
   },
   {
    "duration": 587,
    "start_time": "2022-02-15T08:32:46.077Z"
   },
   {
    "duration": 315,
    "start_time": "2022-02-15T08:32:46.666Z"
   },
   {
    "duration": 1341,
    "start_time": "2022-02-15T08:32:46.984Z"
   },
   {
    "duration": 806,
    "start_time": "2022-02-15T08:32:48.328Z"
   },
   {
    "duration": 803,
    "start_time": "2022-02-15T08:32:49.136Z"
   },
   {
    "duration": 24,
    "start_time": "2022-02-15T08:32:49.941Z"
   },
   {
    "duration": 772,
    "start_time": "2022-02-15T08:32:49.967Z"
   },
   {
    "duration": 702,
    "start_time": "2022-02-15T08:32:50.742Z"
   },
   {
    "duration": 690,
    "start_time": "2022-02-15T08:32:51.447Z"
   },
   {
    "duration": 84,
    "start_time": "2022-02-15T08:32:52.140Z"
   },
   {
    "duration": 10,
    "start_time": "2022-02-15T08:32:52.226Z"
   },
   {
    "duration": 9,
    "start_time": "2022-02-15T08:33:09.945Z"
   },
   {
    "duration": 4,
    "start_time": "2022-02-15T08:33:12.455Z"
   },
   {
    "duration": 100,
    "start_time": "2022-02-15T08:33:39.956Z"
   },
   {
    "duration": 8,
    "start_time": "2022-02-15T08:33:59.942Z"
   },
   {
    "duration": 5,
    "start_time": "2022-02-15T08:34:02.657Z"
   },
   {
    "duration": 4,
    "start_time": "2022-02-15T08:34:04.868Z"
   },
   {
    "duration": 5,
    "start_time": "2022-02-15T08:34:25.963Z"
   },
   {
    "duration": 8,
    "start_time": "2022-02-15T08:35:26.542Z"
   },
   {
    "duration": 4,
    "start_time": "2022-02-15T08:35:28.648Z"
   },
   {
    "duration": 4,
    "start_time": "2022-02-15T08:35:30.690Z"
   },
   {
    "duration": 8,
    "start_time": "2022-02-15T08:35:37.572Z"
   },
   {
    "duration": 106,
    "start_time": "2022-02-15T08:35:39.591Z"
   },
   {
    "duration": 4,
    "start_time": "2022-02-15T08:35:43.584Z"
   },
   {
    "duration": 5,
    "start_time": "2022-02-15T08:35:45.678Z"
   },
   {
    "duration": 8,
    "start_time": "2022-02-15T08:36:06.722Z"
   },
   {
    "duration": 4,
    "start_time": "2022-02-15T08:36:08.839Z"
   },
   {
    "duration": 4,
    "start_time": "2022-02-15T08:36:10.697Z"
   },
   {
    "duration": 8,
    "start_time": "2022-02-15T08:37:26.168Z"
   },
   {
    "duration": 4,
    "start_time": "2022-02-15T08:37:28.715Z"
   },
   {
    "duration": 5,
    "start_time": "2022-02-15T08:37:30.545Z"
   },
   {
    "duration": 3,
    "start_time": "2022-02-15T08:48:48.548Z"
   },
   {
    "duration": 8449,
    "start_time": "2022-02-15T08:48:48.553Z"
   },
   {
    "duration": 47,
    "start_time": "2022-02-15T08:48:57.005Z"
   },
   {
    "duration": 70,
    "start_time": "2022-02-15T08:48:57.053Z"
   },
   {
    "duration": 7,
    "start_time": "2022-02-15T08:48:57.125Z"
   },
   {
    "duration": 14,
    "start_time": "2022-02-15T08:48:57.133Z"
   },
   {
    "duration": 8,
    "start_time": "2022-02-15T08:48:57.149Z"
   },
   {
    "duration": 6,
    "start_time": "2022-02-15T08:48:57.158Z"
   },
   {
    "duration": 6,
    "start_time": "2022-02-15T08:48:57.166Z"
   },
   {
    "duration": 8,
    "start_time": "2022-02-15T08:48:57.175Z"
   },
   {
    "duration": 6,
    "start_time": "2022-02-15T08:48:57.185Z"
   },
   {
    "duration": 33,
    "start_time": "2022-02-15T08:48:57.193Z"
   },
   {
    "duration": 15,
    "start_time": "2022-02-15T08:48:57.228Z"
   },
   {
    "duration": 390,
    "start_time": "2022-02-15T08:48:57.245Z"
   },
   {
    "duration": 5,
    "start_time": "2022-02-15T08:48:57.637Z"
   },
   {
    "duration": 5,
    "start_time": "2022-02-15T08:48:57.644Z"
   },
   {
    "duration": 8,
    "start_time": "2022-02-15T08:48:57.650Z"
   },
   {
    "duration": 417,
    "start_time": "2022-02-15T08:48:57.660Z"
   },
   {
    "duration": 477,
    "start_time": "2022-02-15T08:48:58.079Z"
   },
   {
    "duration": 423,
    "start_time": "2022-02-15T08:48:58.558Z"
   },
   {
    "duration": 641,
    "start_time": "2022-02-15T08:48:58.983Z"
   },
   {
    "duration": 268,
    "start_time": "2022-02-15T08:48:59.626Z"
   },
   {
    "duration": 825,
    "start_time": "2022-02-15T08:48:59.896Z"
   },
   {
    "duration": 882,
    "start_time": "2022-02-15T08:49:00.723Z"
   },
   {
    "duration": 824,
    "start_time": "2022-02-15T08:49:01.607Z"
   },
   {
    "duration": 25,
    "start_time": "2022-02-15T08:49:02.434Z"
   },
   {
    "duration": 567,
    "start_time": "2022-02-15T08:49:02.462Z"
   },
   {
    "duration": 710,
    "start_time": "2022-02-15T08:49:03.032Z"
   },
   {
    "duration": 713,
    "start_time": "2022-02-15T08:49:03.745Z"
   },
   {
    "duration": 73,
    "start_time": "2022-02-15T08:49:04.460Z"
   },
   {
    "duration": 572,
    "start_time": "2022-02-15T08:49:04.539Z"
   },
   {
    "duration": 10430,
    "start_time": "2022-02-15T08:48:54.683Z"
   },
   {
    "duration": 10428,
    "start_time": "2022-02-15T08:48:54.687Z"
   },
   {
    "duration": 16,
    "start_time": "2022-02-15T08:51:25.985Z"
   },
   {
    "duration": 16,
    "start_time": "2022-02-15T08:51:43.687Z"
   },
   {
    "duration": 18,
    "start_time": "2022-02-15T08:58:17.047Z"
   },
   {
    "duration": 297,
    "start_time": "2022-02-15T08:58:28.413Z"
   },
   {
    "duration": 290,
    "start_time": "2022-02-15T08:58:37.653Z"
   },
   {
    "duration": 18,
    "start_time": "2022-02-15T08:58:42.974Z"
   },
   {
    "duration": 7,
    "start_time": "2022-02-15T09:01:17.182Z"
   },
   {
    "duration": 18,
    "start_time": "2022-02-15T09:06:39.485Z"
   },
   {
    "duration": 268,
    "start_time": "2022-02-15T10:08:22.433Z"
   },
   {
    "duration": 11,
    "start_time": "2022-02-15T10:08:41.543Z"
   },
   {
    "duration": 10,
    "start_time": "2022-02-15T10:08:51.801Z"
   },
   {
    "duration": 9,
    "start_time": "2022-02-15T10:08:57.282Z"
   },
   {
    "duration": 11,
    "start_time": "2022-02-15T10:09:15.742Z"
   },
   {
    "duration": 11,
    "start_time": "2022-02-15T10:10:52.691Z"
   },
   {
    "duration": 11,
    "start_time": "2022-02-15T10:12:06.554Z"
   },
   {
    "duration": 19,
    "start_time": "2022-02-15T10:20:11.841Z"
   },
   {
    "duration": 20,
    "start_time": "2022-02-15T10:20:18.853Z"
   },
   {
    "duration": 13,
    "start_time": "2022-02-15T10:23:08.690Z"
   },
   {
    "duration": 14,
    "start_time": "2022-02-15T10:23:36.684Z"
   },
   {
    "duration": 12,
    "start_time": "2022-02-15T10:24:11.272Z"
   },
   {
    "duration": 13,
    "start_time": "2022-02-15T10:27:15.358Z"
   },
   {
    "duration": 9,
    "start_time": "2022-02-15T10:51:10.325Z"
   },
   {
    "duration": 7,
    "start_time": "2022-02-15T10:51:30.773Z"
   },
   {
    "duration": 1712,
    "start_time": "2022-02-15T10:52:11.825Z"
   },
   {
    "duration": 8827,
    "start_time": "2022-02-15T10:52:13.539Z"
   },
   {
    "duration": 38,
    "start_time": "2022-02-15T10:52:22.369Z"
   },
   {
    "duration": 69,
    "start_time": "2022-02-15T10:52:22.409Z"
   },
   {
    "duration": 4,
    "start_time": "2022-02-15T10:52:22.480Z"
   },
   {
    "duration": 8,
    "start_time": "2022-02-15T10:52:22.486Z"
   },
   {
    "duration": 27,
    "start_time": "2022-02-15T10:52:22.495Z"
   },
   {
    "duration": 8,
    "start_time": "2022-02-15T10:52:22.523Z"
   },
   {
    "duration": 6,
    "start_time": "2022-02-15T10:52:22.534Z"
   },
   {
    "duration": 11,
    "start_time": "2022-02-15T10:52:22.543Z"
   },
   {
    "duration": 7,
    "start_time": "2022-02-15T10:52:22.556Z"
   },
   {
    "duration": 5,
    "start_time": "2022-02-15T10:52:22.564Z"
   },
   {
    "duration": 10,
    "start_time": "2022-02-15T10:52:22.571Z"
   },
   {
    "duration": 410,
    "start_time": "2022-02-15T10:52:22.583Z"
   },
   {
    "duration": 4,
    "start_time": "2022-02-15T10:52:22.995Z"
   },
   {
    "duration": 19,
    "start_time": "2022-02-15T10:52:23.001Z"
   },
   {
    "duration": 5,
    "start_time": "2022-02-15T10:52:23.021Z"
   },
   {
    "duration": 366,
    "start_time": "2022-02-15T10:52:23.028Z"
   },
   {
    "duration": 510,
    "start_time": "2022-02-15T10:52:23.396Z"
   },
   {
    "duration": 415,
    "start_time": "2022-02-15T10:52:23.908Z"
   },
   {
    "duration": 619,
    "start_time": "2022-02-15T10:52:24.325Z"
   },
   {
    "duration": 310,
    "start_time": "2022-02-15T10:52:24.946Z"
   },
   {
    "duration": 1331,
    "start_time": "2022-02-15T10:52:25.258Z"
   },
   {
    "duration": 836,
    "start_time": "2022-02-15T10:52:26.591Z"
   },
   {
    "duration": 797,
    "start_time": "2022-02-15T10:52:27.429Z"
   },
   {
    "duration": 25,
    "start_time": "2022-02-15T10:52:28.228Z"
   },
   {
    "duration": 567,
    "start_time": "2022-02-15T10:52:28.257Z"
   },
   {
    "duration": 701,
    "start_time": "2022-02-15T10:52:28.826Z"
   },
   {
    "duration": 596,
    "start_time": "2022-02-15T10:52:29.529Z"
   },
   {
    "duration": 94,
    "start_time": "2022-02-15T10:52:30.127Z"
   },
   {
    "duration": 12,
    "start_time": "2022-02-15T10:52:30.223Z"
   },
   {
    "duration": 34,
    "start_time": "2022-02-15T10:52:30.237Z"
   },
   {
    "duration": 12,
    "start_time": "2022-02-15T10:52:30.273Z"
   },
   {
    "duration": 1596,
    "start_time": "2022-02-15T14:19:06.621Z"
   },
   {
    "duration": 25028,
    "start_time": "2022-02-15T14:19:08.220Z"
   },
   {
    "duration": 65,
    "start_time": "2022-02-15T14:19:33.253Z"
   },
   {
    "duration": 110,
    "start_time": "2022-02-15T14:19:33.322Z"
   },
   {
    "duration": 8,
    "start_time": "2022-02-15T14:19:33.448Z"
   },
   {
    "duration": 9,
    "start_time": "2022-02-15T14:19:33.459Z"
   },
   {
    "duration": 8,
    "start_time": "2022-02-15T14:19:33.470Z"
   },
   {
    "duration": 5,
    "start_time": "2022-02-15T14:19:33.482Z"
   },
   {
    "duration": 6,
    "start_time": "2022-02-15T14:19:33.490Z"
   },
   {
    "duration": 55,
    "start_time": "2022-02-15T14:19:33.498Z"
   },
   {
    "duration": 9,
    "start_time": "2022-02-15T14:19:33.556Z"
   },
   {
    "duration": 13,
    "start_time": "2022-02-15T14:19:33.569Z"
   },
   {
    "duration": 16,
    "start_time": "2022-02-15T14:19:33.585Z"
   },
   {
    "duration": 590,
    "start_time": "2022-02-15T14:19:33.603Z"
   },
   {
    "duration": 6,
    "start_time": "2022-02-15T14:19:34.196Z"
   },
   {
    "duration": 14,
    "start_time": "2022-02-15T14:19:34.205Z"
   },
   {
    "duration": 28,
    "start_time": "2022-02-15T14:19:34.222Z"
   },
   {
    "duration": 435,
    "start_time": "2022-02-15T14:19:34.253Z"
   },
   {
    "duration": 3977,
    "start_time": "2022-02-15T14:19:30.715Z"
   },
   {
    "duration": 3974,
    "start_time": "2022-02-15T14:19:30.719Z"
   },
   {
    "duration": 3960,
    "start_time": "2022-02-15T14:19:30.735Z"
   },
   {
    "duration": 3955,
    "start_time": "2022-02-15T14:19:30.741Z"
   },
   {
    "duration": 3955,
    "start_time": "2022-02-15T14:19:30.743Z"
   },
   {
    "duration": 3955,
    "start_time": "2022-02-15T14:19:30.745Z"
   },
   {
    "duration": 3955,
    "start_time": "2022-02-15T14:19:30.746Z"
   },
   {
    "duration": 3954,
    "start_time": "2022-02-15T14:19:30.749Z"
   },
   {
    "duration": 3955,
    "start_time": "2022-02-15T14:19:30.750Z"
   },
   {
    "duration": 3950,
    "start_time": "2022-02-15T14:19:30.756Z"
   },
   {
    "duration": 3950,
    "start_time": "2022-02-15T14:19:30.758Z"
   },
   {
    "duration": 3950,
    "start_time": "2022-02-15T14:19:30.759Z"
   },
   {
    "duration": 3949,
    "start_time": "2022-02-15T14:19:30.761Z"
   },
   {
    "duration": 3949,
    "start_time": "2022-02-15T14:19:30.763Z"
   },
   {
    "duration": 3948,
    "start_time": "2022-02-15T14:19:30.765Z"
   },
   {
    "duration": 4,
    "start_time": "2022-02-15T14:19:49.568Z"
   },
   {
    "duration": 11888,
    "start_time": "2022-02-15T14:19:49.575Z"
   },
   {
    "duration": 46,
    "start_time": "2022-02-15T14:20:01.466Z"
   },
   {
    "duration": 353,
    "start_time": "2022-02-15T14:20:01.515Z"
   },
   {
    "duration": 7,
    "start_time": "2022-02-15T14:20:01.871Z"
   },
   {
    "duration": 32,
    "start_time": "2022-02-15T14:20:01.881Z"
   },
   {
    "duration": 38,
    "start_time": "2022-02-15T14:20:01.916Z"
   },
   {
    "duration": 11,
    "start_time": "2022-02-15T14:20:01.959Z"
   },
   {
    "duration": 32,
    "start_time": "2022-02-15T14:20:01.974Z"
   },
   {
    "duration": 14,
    "start_time": "2022-02-15T14:20:02.009Z"
   },
   {
    "duration": 14,
    "start_time": "2022-02-15T14:20:02.026Z"
   },
   {
    "duration": 10,
    "start_time": "2022-02-15T14:20:02.042Z"
   },
   {
    "duration": 21,
    "start_time": "2022-02-15T14:20:02.055Z"
   },
   {
    "duration": 570,
    "start_time": "2022-02-15T14:20:02.078Z"
   },
   {
    "duration": 7,
    "start_time": "2022-02-15T14:20:02.651Z"
   },
   {
    "duration": 13,
    "start_time": "2022-02-15T14:20:02.661Z"
   },
   {
    "duration": 8,
    "start_time": "2022-02-15T14:20:02.676Z"
   },
   {
    "duration": 376,
    "start_time": "2022-02-15T14:20:02.686Z"
   },
   {
    "duration": 3974,
    "start_time": "2022-02-15T14:19:59.091Z"
   },
   {
    "duration": 3974,
    "start_time": "2022-02-15T14:19:59.093Z"
   },
   {
    "duration": 3973,
    "start_time": "2022-02-15T14:19:59.095Z"
   },
   {
    "duration": 3973,
    "start_time": "2022-02-15T14:19:59.096Z"
   },
   {
    "duration": 3961,
    "start_time": "2022-02-15T14:19:59.109Z"
   },
   {
    "duration": 3958,
    "start_time": "2022-02-15T14:19:59.114Z"
   },
   {
    "duration": 3957,
    "start_time": "2022-02-15T14:19:59.116Z"
   },
   {
    "duration": 3957,
    "start_time": "2022-02-15T14:19:59.118Z"
   },
   {
    "duration": 3956,
    "start_time": "2022-02-15T14:19:59.120Z"
   },
   {
    "duration": 3957,
    "start_time": "2022-02-15T14:19:59.121Z"
   },
   {
    "duration": 3956,
    "start_time": "2022-02-15T14:19:59.123Z"
   },
   {
    "duration": 3955,
    "start_time": "2022-02-15T14:19:59.125Z"
   },
   {
    "duration": 3951,
    "start_time": "2022-02-15T14:19:59.131Z"
   },
   {
    "duration": 3950,
    "start_time": "2022-02-15T14:19:59.133Z"
   },
   {
    "duration": 3950,
    "start_time": "2022-02-15T14:19:59.134Z"
   },
   {
    "duration": 2662,
    "start_time": "2022-02-15T14:20:16.886Z"
   },
   {
    "duration": 4246,
    "start_time": "2022-02-15T14:20:19.551Z"
   },
   {
    "duration": 55,
    "start_time": "2022-02-15T14:20:23.804Z"
   },
   {
    "duration": 148,
    "start_time": "2022-02-15T14:20:23.862Z"
   },
   {
    "duration": 9,
    "start_time": "2022-02-15T14:20:24.014Z"
   },
   {
    "duration": 8,
    "start_time": "2022-02-15T14:20:24.049Z"
   },
   {
    "duration": 10,
    "start_time": "2022-02-15T14:20:24.061Z"
   },
   {
    "duration": 13,
    "start_time": "2022-02-15T14:20:24.074Z"
   },
   {
    "duration": 8,
    "start_time": "2022-02-15T14:20:24.090Z"
   },
   {
    "duration": 12,
    "start_time": "2022-02-15T14:20:24.101Z"
   },
   {
    "duration": 38,
    "start_time": "2022-02-15T14:20:24.116Z"
   },
   {
    "duration": 10,
    "start_time": "2022-02-15T14:20:24.157Z"
   },
   {
    "duration": 16,
    "start_time": "2022-02-15T14:20:24.170Z"
   },
   {
    "duration": 573,
    "start_time": "2022-02-15T14:20:24.188Z"
   },
   {
    "duration": 7,
    "start_time": "2022-02-15T14:20:24.764Z"
   },
   {
    "duration": 11,
    "start_time": "2022-02-15T14:20:24.774Z"
   },
   {
    "duration": 8,
    "start_time": "2022-02-15T14:20:24.788Z"
   },
   {
    "duration": 566,
    "start_time": "2022-02-15T14:20:24.799Z"
   },
   {
    "duration": 697,
    "start_time": "2022-02-15T14:20:25.367Z"
   },
   {
    "duration": 644,
    "start_time": "2022-02-15T14:20:26.067Z"
   },
   {
    "duration": 846,
    "start_time": "2022-02-15T14:20:26.714Z"
   },
   {
    "duration": 426,
    "start_time": "2022-02-15T14:20:27.566Z"
   },
   {
    "duration": 2666,
    "start_time": "2022-02-15T14:20:27.995Z"
   },
   {
    "duration": 1699,
    "start_time": "2022-02-15T14:20:30.664Z"
   },
   {
    "duration": 1563,
    "start_time": "2022-02-15T14:20:32.366Z"
   },
   {
    "duration": 54,
    "start_time": "2022-02-15T14:20:33.932Z"
   },
   {
    "duration": 860,
    "start_time": "2022-02-15T14:20:33.989Z"
   },
   {
    "duration": 801,
    "start_time": "2022-02-15T14:20:34.853Z"
   },
   {
    "duration": 719,
    "start_time": "2022-02-15T14:20:35.656Z"
   },
   {
    "duration": 96,
    "start_time": "2022-02-15T14:20:36.378Z"
   },
   {
    "duration": 14,
    "start_time": "2022-02-15T14:20:36.476Z"
   },
   {
    "duration": 57,
    "start_time": "2022-02-15T14:20:36.493Z"
   },
   {
    "duration": 14,
    "start_time": "2022-02-15T14:20:36.553Z"
   },
   {
    "duration": 4023,
    "start_time": "2022-02-15T14:21:21.092Z"
   },
   {
    "duration": 7,
    "start_time": "2022-02-15T14:34:29.004Z"
   },
   {
    "duration": 306,
    "start_time": "2022-02-15T14:35:30.058Z"
   },
   {
    "duration": 9,
    "start_time": "2022-02-15T14:35:53.307Z"
   },
   {
    "duration": 340,
    "start_time": "2022-02-15T14:35:55.039Z"
   },
   {
    "duration": 782,
    "start_time": "2022-02-15T14:38:40.969Z"
   },
   {
    "duration": 1008,
    "start_time": "2022-02-15T14:50:15.249Z"
   },
   {
    "duration": 790,
    "start_time": "2022-02-15T14:51:28.682Z"
   },
   {
    "duration": 719,
    "start_time": "2022-02-15T14:53:23.641Z"
   },
   {
    "duration": 7,
    "start_time": "2022-02-15T15:41:59.627Z"
   },
   {
    "duration": 8,
    "start_time": "2022-02-15T15:42:18.762Z"
   },
   {
    "duration": 7,
    "start_time": "2022-02-15T15:42:26.080Z"
   },
   {
    "duration": 1162,
    "start_time": "2022-02-15T15:42:49.903Z"
   },
   {
    "duration": 1378,
    "start_time": "2022-02-15T15:43:41.685Z"
   },
   {
    "duration": 11,
    "start_time": "2022-02-15T15:43:55.200Z"
   },
   {
    "duration": 1070,
    "start_time": "2022-02-15T15:43:57.199Z"
   },
   {
    "duration": 8,
    "start_time": "2022-02-15T15:45:34.188Z"
   },
   {
    "duration": 1222,
    "start_time": "2022-02-15T15:45:36.466Z"
   },
   {
    "duration": 9,
    "start_time": "2022-02-15T15:45:42.145Z"
   },
   {
    "duration": 1120,
    "start_time": "2022-02-15T15:45:43.817Z"
   },
   {
    "duration": 1231,
    "start_time": "2022-02-15T15:48:24.622Z"
   },
   {
    "duration": 1158,
    "start_time": "2022-02-15T15:50:13.686Z"
   },
   {
    "duration": 8,
    "start_time": "2022-02-15T15:58:06.113Z"
   },
   {
    "duration": 1101,
    "start_time": "2022-02-15T15:59:10.620Z"
   },
   {
    "duration": 2040,
    "start_time": "2022-02-15T15:59:45.074Z"
   },
   {
    "duration": 3779,
    "start_time": "2022-02-15T15:59:47.117Z"
   },
   {
    "duration": 47,
    "start_time": "2022-02-15T15:59:50.900Z"
   },
   {
    "duration": 112,
    "start_time": "2022-02-15T15:59:50.950Z"
   },
   {
    "duration": 7,
    "start_time": "2022-02-15T15:59:51.065Z"
   },
   {
    "duration": 11,
    "start_time": "2022-02-15T15:59:51.074Z"
   },
   {
    "duration": 15,
    "start_time": "2022-02-15T15:59:51.088Z"
   },
   {
    "duration": 12,
    "start_time": "2022-02-15T15:59:51.106Z"
   },
   {
    "duration": 29,
    "start_time": "2022-02-15T15:59:51.121Z"
   },
   {
    "duration": 11,
    "start_time": "2022-02-15T15:59:51.153Z"
   },
   {
    "duration": 8,
    "start_time": "2022-02-15T15:59:51.167Z"
   },
   {
    "duration": 10,
    "start_time": "2022-02-15T15:59:51.178Z"
   },
   {
    "duration": 16,
    "start_time": "2022-02-15T15:59:51.191Z"
   },
   {
    "duration": 553,
    "start_time": "2022-02-15T15:59:51.210Z"
   },
   {
    "duration": 7,
    "start_time": "2022-02-15T15:59:51.765Z"
   },
   {
    "duration": 11,
    "start_time": "2022-02-15T15:59:51.775Z"
   },
   {
    "duration": 7,
    "start_time": "2022-02-15T15:59:51.789Z"
   },
   {
    "duration": 529,
    "start_time": "2022-02-15T15:59:51.799Z"
   },
   {
    "duration": 733,
    "start_time": "2022-02-15T15:59:52.332Z"
   },
   {
    "duration": 763,
    "start_time": "2022-02-15T15:59:53.068Z"
   },
   {
    "duration": 987,
    "start_time": "2022-02-15T15:59:53.837Z"
   },
   {
    "duration": 394,
    "start_time": "2022-02-15T15:59:54.827Z"
   },
   {
    "duration": 24,
    "start_time": "2022-02-15T15:59:55.227Z"
   },
   {
    "duration": 2371,
    "start_time": "2022-02-15T15:59:55.255Z"
   },
   {
    "duration": 1306,
    "start_time": "2022-02-15T15:59:57.628Z"
   },
   {
    "duration": 1120,
    "start_time": "2022-02-15T15:59:58.937Z"
   },
   {
    "duration": 35,
    "start_time": "2022-02-15T16:00:00.060Z"
   },
   {
    "duration": 5,
    "start_time": "2022-02-15T16:00:00.098Z"
   },
   {
    "duration": 760,
    "start_time": "2022-02-15T16:00:00.106Z"
   },
   {
    "duration": 884,
    "start_time": "2022-02-15T16:00:00.868Z"
   },
   {
    "duration": 716,
    "start_time": "2022-02-15T16:00:01.754Z"
   },
   {
    "duration": 99,
    "start_time": "2022-02-15T16:00:02.473Z"
   },
   {
    "duration": 17,
    "start_time": "2022-02-15T16:00:02.575Z"
   },
   {
    "duration": 65,
    "start_time": "2022-02-15T16:00:02.595Z"
   },
   {
    "duration": 31,
    "start_time": "2022-02-15T16:00:02.662Z"
   },
   {
    "duration": 4,
    "start_time": "2022-02-15T16:02:16.176Z"
   },
   {
    "duration": 77,
    "start_time": "2022-02-15T16:02:23.975Z"
   },
   {
    "duration": 4,
    "start_time": "2022-02-15T16:02:46.303Z"
   },
   {
    "duration": 5,
    "start_time": "2022-02-15T16:02:51.212Z"
   },
   {
    "duration": 115,
    "start_time": "2022-02-15T16:02:52.751Z"
   },
   {
    "duration": 94,
    "start_time": "2022-02-15T16:06:16.066Z"
   },
   {
    "duration": 96,
    "start_time": "2022-02-15T16:06:25.340Z"
   },
   {
    "duration": 5,
    "start_time": "2022-02-15T16:06:32.241Z"
   },
   {
    "duration": 158,
    "start_time": "2022-02-15T16:07:01.383Z"
   },
   {
    "duration": 11,
    "start_time": "2022-02-15T16:20:11.648Z"
   },
   {
    "duration": 451,
    "start_time": "2022-02-15T16:20:15.264Z"
   },
   {
    "duration": 58,
    "start_time": "2022-02-15T16:27:03.084Z"
   },
   {
    "duration": 4,
    "start_time": "2022-02-15T16:27:20.210Z"
   },
   {
    "duration": 4,
    "start_time": "2022-02-15T16:28:41.561Z"
   },
   {
    "duration": 543,
    "start_time": "2022-02-15T16:29:02.340Z"
   },
   {
    "duration": 631,
    "start_time": "2022-02-15T16:29:33.665Z"
   },
   {
    "duration": 338,
    "start_time": "2022-02-15T16:29:40.990Z"
   },
   {
    "duration": 768,
    "start_time": "2022-02-15T16:29:56.857Z"
   },
   {
    "duration": 1182,
    "start_time": "2022-02-23T07:29:02.096Z"
   },
   {
    "duration": 105337,
    "start_time": "2022-02-23T07:29:03.280Z"
   },
   {
    "duration": 39,
    "start_time": "2022-02-23T07:30:48.620Z"
   },
   {
    "duration": 4,
    "start_time": "2022-02-23T07:30:48.661Z"
   },
   {
    "duration": 83,
    "start_time": "2022-02-23T07:30:48.666Z"
   },
   {
    "duration": 5,
    "start_time": "2022-02-23T07:30:48.750Z"
   },
   {
    "duration": 6,
    "start_time": "2022-02-23T07:30:48.757Z"
   },
   {
    "duration": 4,
    "start_time": "2022-02-23T07:30:48.766Z"
   },
   {
    "duration": 4,
    "start_time": "2022-02-23T07:30:48.772Z"
   },
   {
    "duration": 7,
    "start_time": "2022-02-23T07:30:48.778Z"
   },
   {
    "duration": 38,
    "start_time": "2022-02-23T07:30:48.786Z"
   },
   {
    "duration": 7,
    "start_time": "2022-02-23T07:30:48.826Z"
   },
   {
    "duration": 11,
    "start_time": "2022-02-23T07:30:48.835Z"
   },
   {
    "duration": 10,
    "start_time": "2022-02-23T07:30:48.847Z"
   },
   {
    "duration": 386,
    "start_time": "2022-02-23T07:30:48.859Z"
   },
   {
    "duration": 4,
    "start_time": "2022-02-23T07:30:49.247Z"
   },
   {
    "duration": 18,
    "start_time": "2022-02-23T07:30:49.253Z"
   },
   {
    "duration": 8,
    "start_time": "2022-02-23T07:30:49.272Z"
   },
   {
    "duration": 267,
    "start_time": "2022-02-23T07:30:49.282Z"
   },
   {
    "duration": -393,
    "start_time": "2022-02-23T07:30:49.944Z"
   },
   {
    "duration": -394,
    "start_time": "2022-02-23T07:30:49.947Z"
   },
   {
    "duration": -396,
    "start_time": "2022-02-23T07:30:49.950Z"
   },
   {
    "duration": -397,
    "start_time": "2022-02-23T07:30:49.952Z"
   },
   {
    "duration": -399,
    "start_time": "2022-02-23T07:30:49.955Z"
   },
   {
    "duration": -401,
    "start_time": "2022-02-23T07:30:49.958Z"
   },
   {
    "duration": -403,
    "start_time": "2022-02-23T07:30:49.961Z"
   },
   {
    "duration": -404,
    "start_time": "2022-02-23T07:30:49.963Z"
   },
   {
    "duration": -406,
    "start_time": "2022-02-23T07:30:49.966Z"
   },
   {
    "duration": -406,
    "start_time": "2022-02-23T07:30:49.968Z"
   },
   {
    "duration": -408,
    "start_time": "2022-02-23T07:30:49.971Z"
   },
   {
    "duration": -409,
    "start_time": "2022-02-23T07:30:49.973Z"
   },
   {
    "duration": -411,
    "start_time": "2022-02-23T07:30:49.976Z"
   },
   {
    "duration": -413,
    "start_time": "2022-02-23T07:30:49.979Z"
   },
   {
    "duration": -414,
    "start_time": "2022-02-23T07:30:49.981Z"
   },
   {
    "duration": -416,
    "start_time": "2022-02-23T07:30:49.984Z"
   },
   {
    "duration": -418,
    "start_time": "2022-02-23T07:30:49.987Z"
   },
   {
    "duration": 1501,
    "start_time": "2022-02-23T07:38:17.305Z"
   },
   {
    "duration": 11494,
    "start_time": "2022-02-23T07:38:18.809Z"
   },
   {
    "duration": 48,
    "start_time": "2022-02-23T07:38:30.307Z"
   },
   {
    "duration": 6,
    "start_time": "2022-02-23T07:38:30.358Z"
   },
   {
    "duration": 142,
    "start_time": "2022-02-23T07:38:30.367Z"
   },
   {
    "duration": 9,
    "start_time": "2022-02-23T07:38:30.512Z"
   },
   {
    "duration": 56,
    "start_time": "2022-02-23T07:38:30.525Z"
   },
   {
    "duration": 30,
    "start_time": "2022-02-23T07:38:30.586Z"
   },
   {
    "duration": 42,
    "start_time": "2022-02-23T07:38:30.620Z"
   },
   {
    "duration": 38,
    "start_time": "2022-02-23T07:38:30.665Z"
   },
   {
    "duration": 31,
    "start_time": "2022-02-23T07:38:30.707Z"
   },
   {
    "duration": 10,
    "start_time": "2022-02-23T07:38:30.741Z"
   },
   {
    "duration": 42,
    "start_time": "2022-02-23T07:38:30.754Z"
   },
   {
    "duration": 18,
    "start_time": "2022-02-23T07:38:30.799Z"
   },
   {
    "duration": 594,
    "start_time": "2022-02-23T07:38:30.820Z"
   },
   {
    "duration": 6,
    "start_time": "2022-02-23T07:38:31.417Z"
   },
   {
    "duration": 30,
    "start_time": "2022-02-23T07:38:31.426Z"
   },
   {
    "duration": 8,
    "start_time": "2022-02-23T07:38:31.459Z"
   },
   {
    "duration": 842,
    "start_time": "2022-02-23T07:38:31.470Z"
   },
   {
    "duration": 14325,
    "start_time": "2022-02-23T07:38:17.991Z"
   },
   {
    "duration": 14321,
    "start_time": "2022-02-23T07:38:17.997Z"
   },
   {
    "duration": 14321,
    "start_time": "2022-02-23T07:38:17.999Z"
   },
   {
    "duration": 14322,
    "start_time": "2022-02-23T07:38:18.001Z"
   },
   {
    "duration": 14318,
    "start_time": "2022-02-23T07:38:18.007Z"
   },
   {
    "duration": 14318,
    "start_time": "2022-02-23T07:38:18.009Z"
   },
   {
    "duration": 14313,
    "start_time": "2022-02-23T07:38:18.016Z"
   },
   {
    "duration": 14313,
    "start_time": "2022-02-23T07:38:18.018Z"
   },
   {
    "duration": 14313,
    "start_time": "2022-02-23T07:38:18.020Z"
   },
   {
    "duration": 14314,
    "start_time": "2022-02-23T07:38:18.022Z"
   },
   {
    "duration": 14309,
    "start_time": "2022-02-23T07:38:18.028Z"
   },
   {
    "duration": 14309,
    "start_time": "2022-02-23T07:38:18.030Z"
   },
   {
    "duration": 14309,
    "start_time": "2022-02-23T07:38:18.032Z"
   },
   {
    "duration": 14309,
    "start_time": "2022-02-23T07:38:18.034Z"
   },
   {
    "duration": 14309,
    "start_time": "2022-02-23T07:38:18.036Z"
   },
   {
    "duration": 14309,
    "start_time": "2022-02-23T07:38:18.038Z"
   },
   {
    "duration": 14308,
    "start_time": "2022-02-23T07:38:18.040Z"
   },
   {
    "duration": 8969,
    "start_time": "2022-02-23T07:39:17.530Z"
   },
   {
    "duration": 1669,
    "start_time": "2022-02-23T07:39:33.703Z"
   },
   {
    "duration": 9579,
    "start_time": "2022-02-23T07:39:35.376Z"
   },
   {
    "duration": 51,
    "start_time": "2022-02-23T07:39:44.960Z"
   },
   {
    "duration": 6,
    "start_time": "2022-02-23T07:39:45.014Z"
   },
   {
    "duration": 142,
    "start_time": "2022-02-23T07:39:45.022Z"
   },
   {
    "duration": 8,
    "start_time": "2022-02-23T07:39:45.168Z"
   },
   {
    "duration": 16,
    "start_time": "2022-02-23T07:39:45.179Z"
   },
   {
    "duration": 21,
    "start_time": "2022-02-23T07:39:45.201Z"
   },
   {
    "duration": 25,
    "start_time": "2022-02-23T07:39:45.225Z"
   },
   {
    "duration": 17,
    "start_time": "2022-02-23T07:39:45.253Z"
   },
   {
    "duration": 14,
    "start_time": "2022-02-23T07:39:45.273Z"
   },
   {
    "duration": 9,
    "start_time": "2022-02-23T07:39:45.290Z"
   },
   {
    "duration": 9,
    "start_time": "2022-02-23T07:39:45.302Z"
   },
   {
    "duration": 21,
    "start_time": "2022-02-23T07:39:45.349Z"
   },
   {
    "duration": 959,
    "start_time": "2022-02-23T07:39:45.373Z"
   },
   {
    "duration": 16,
    "start_time": "2022-02-23T07:39:46.335Z"
   },
   {
    "duration": 10,
    "start_time": "2022-02-23T07:39:46.354Z"
   },
   {
    "duration": 7,
    "start_time": "2022-02-23T07:39:46.367Z"
   },
   {
    "duration": 639,
    "start_time": "2022-02-23T07:39:46.376Z"
   },
   {
    "duration": 906,
    "start_time": "2022-02-23T07:39:47.018Z"
   },
   {
    "duration": 854,
    "start_time": "2022-02-23T07:39:47.928Z"
   },
   {
    "duration": 1158,
    "start_time": "2022-02-23T07:39:48.785Z"
   },
   {
    "duration": 553,
    "start_time": "2022-02-23T07:39:49.952Z"
   },
   {
    "duration": 8,
    "start_time": "2022-02-23T07:39:50.508Z"
   },
   {
    "duration": 2342,
    "start_time": "2022-02-23T07:39:50.519Z"
   },
   {
    "duration": 1585,
    "start_time": "2022-02-23T07:39:52.865Z"
   },
   {
    "duration": 1622,
    "start_time": "2022-02-23T07:39:54.453Z"
   },
   {
    "duration": 38,
    "start_time": "2022-02-23T07:39:56.079Z"
   },
   {
    "duration": 31,
    "start_time": "2022-02-23T07:39:56.120Z"
   },
   {
    "duration": 1167,
    "start_time": "2022-02-23T07:39:56.154Z"
   },
   {
    "duration": 933,
    "start_time": "2022-02-23T07:39:57.324Z"
   },
   {
    "duration": 1078,
    "start_time": "2022-02-23T07:39:58.260Z"
   },
   {
    "duration": 41,
    "start_time": "2022-02-23T07:39:59.342Z"
   },
   {
    "duration": 16,
    "start_time": "2022-02-23T07:39:59.386Z"
   },
   {
    "duration": 57,
    "start_time": "2022-02-23T07:39:59.404Z"
   },
   {
    "duration": 14,
    "start_time": "2022-02-23T07:39:59.464Z"
   },
   {
    "duration": 1663,
    "start_time": "2022-02-23T07:40:59.525Z"
   },
   {
    "duration": 8232,
    "start_time": "2022-02-23T07:41:01.191Z"
   },
   {
    "duration": 47,
    "start_time": "2022-02-23T07:41:09.428Z"
   },
   {
    "duration": 6,
    "start_time": "2022-02-23T07:41:09.478Z"
   },
   {
    "duration": 133,
    "start_time": "2022-02-23T07:41:09.486Z"
   },
   {
    "duration": 7,
    "start_time": "2022-02-23T07:41:09.622Z"
   },
   {
    "duration": 11,
    "start_time": "2022-02-23T07:41:09.648Z"
   },
   {
    "duration": 14,
    "start_time": "2022-02-23T07:41:09.663Z"
   },
   {
    "duration": 8,
    "start_time": "2022-02-23T07:41:09.679Z"
   },
   {
    "duration": 22,
    "start_time": "2022-02-23T07:41:09.689Z"
   },
   {
    "duration": 17,
    "start_time": "2022-02-23T07:41:09.714Z"
   },
   {
    "duration": 9,
    "start_time": "2022-02-23T07:41:09.748Z"
   },
   {
    "duration": 11,
    "start_time": "2022-02-23T07:41:09.759Z"
   },
   {
    "duration": 20,
    "start_time": "2022-02-23T07:41:09.773Z"
   },
   {
    "duration": 666,
    "start_time": "2022-02-23T07:41:09.795Z"
   },
   {
    "duration": 6,
    "start_time": "2022-02-23T07:41:10.464Z"
   },
   {
    "duration": 18,
    "start_time": "2022-02-23T07:41:10.472Z"
   },
   {
    "duration": 11,
    "start_time": "2022-02-23T07:41:10.493Z"
   },
   {
    "duration": 612,
    "start_time": "2022-02-23T07:41:10.507Z"
   },
   {
    "duration": 1328,
    "start_time": "2022-02-23T07:41:11.123Z"
   },
   {
    "duration": 811,
    "start_time": "2022-02-23T07:41:12.455Z"
   },
   {
    "duration": 1104,
    "start_time": "2022-02-23T07:41:13.269Z"
   },
   {
    "duration": 606,
    "start_time": "2022-02-23T07:41:14.380Z"
   },
   {
    "duration": 8,
    "start_time": "2022-02-23T07:41:14.989Z"
   },
   {
    "duration": 2634,
    "start_time": "2022-02-23T07:41:14.999Z"
   },
   {
    "duration": 1643,
    "start_time": "2022-02-23T07:41:17.635Z"
   },
   {
    "duration": 1556,
    "start_time": "2022-02-23T07:41:19.281Z"
   },
   {
    "duration": 41,
    "start_time": "2022-02-23T07:41:20.840Z"
   },
   {
    "duration": 6,
    "start_time": "2022-02-23T07:41:20.884Z"
   },
   {
    "duration": 861,
    "start_time": "2022-02-23T07:41:20.893Z"
   },
   {
    "duration": 997,
    "start_time": "2022-02-23T07:41:21.758Z"
   },
   {
    "duration": 806,
    "start_time": "2022-02-23T07:41:22.757Z"
   },
   {
    "duration": 28,
    "start_time": "2022-02-23T07:41:23.565Z"
   },
   {
    "duration": 15,
    "start_time": "2022-02-23T07:41:23.595Z"
   },
   {
    "duration": 63,
    "start_time": "2022-02-23T07:41:23.612Z"
   },
   {
    "duration": 15,
    "start_time": "2022-02-23T07:41:23.677Z"
   },
   {
    "duration": 5,
    "start_time": "2022-02-23T07:51:19.228Z"
   },
   {
    "duration": 8521,
    "start_time": "2022-02-23T07:51:19.237Z"
   },
   {
    "duration": 54,
    "start_time": "2022-02-23T07:51:27.763Z"
   },
   {
    "duration": 6,
    "start_time": "2022-02-23T07:51:27.822Z"
   },
   {
    "duration": 135,
    "start_time": "2022-02-23T07:51:27.831Z"
   },
   {
    "duration": 6,
    "start_time": "2022-02-23T07:51:27.969Z"
   },
   {
    "duration": 8,
    "start_time": "2022-02-23T07:51:27.978Z"
   },
   {
    "duration": 8,
    "start_time": "2022-02-23T07:51:27.990Z"
   },
   {
    "duration": 48,
    "start_time": "2022-02-23T07:51:28.001Z"
   },
   {
    "duration": 9,
    "start_time": "2022-02-23T07:51:28.052Z"
   },
   {
    "duration": 16,
    "start_time": "2022-02-23T07:51:28.064Z"
   },
   {
    "duration": 20,
    "start_time": "2022-02-23T07:51:28.084Z"
   },
   {
    "duration": 15,
    "start_time": "2022-02-23T07:51:28.107Z"
   },
   {
    "duration": 37,
    "start_time": "2022-02-23T07:51:28.125Z"
   },
   {
    "duration": 655,
    "start_time": "2022-02-23T07:51:28.165Z"
   },
   {
    "duration": 8,
    "start_time": "2022-02-23T07:51:28.824Z"
   },
   {
    "duration": 9,
    "start_time": "2022-02-23T07:51:28.849Z"
   },
   {
    "duration": 7,
    "start_time": "2022-02-23T07:51:28.860Z"
   },
   {
    "duration": 648,
    "start_time": "2022-02-23T07:51:28.871Z"
   },
   {
    "duration": 1065,
    "start_time": "2022-02-23T07:51:29.523Z"
   },
   {
    "duration": 742,
    "start_time": "2022-02-23T07:51:30.592Z"
   },
   {
    "duration": 1191,
    "start_time": "2022-02-23T07:51:31.348Z"
   },
   {
    "duration": 472,
    "start_time": "2022-02-23T07:51:32.552Z"
   },
   {
    "duration": 10,
    "start_time": "2022-02-23T07:51:33.027Z"
   },
   {
    "duration": 1627,
    "start_time": "2022-02-23T07:51:33.049Z"
   },
   {
    "duration": 2542,
    "start_time": "2022-02-23T07:51:34.679Z"
   },
   {
    "duration": 1686,
    "start_time": "2022-02-23T07:51:37.225Z"
   },
   {
    "duration": 55,
    "start_time": "2022-02-23T07:51:38.914Z"
   },
   {
    "duration": 7,
    "start_time": "2022-02-23T07:51:38.971Z"
   },
   {
    "duration": 1191,
    "start_time": "2022-02-23T07:51:38.981Z"
   },
   {
    "duration": 934,
    "start_time": "2022-02-23T07:51:40.175Z"
   },
   {
    "duration": 838,
    "start_time": "2022-02-23T07:51:41.112Z"
   },
   {
    "duration": 26,
    "start_time": "2022-02-23T07:51:41.953Z"
   },
   {
    "duration": 16,
    "start_time": "2022-02-23T07:51:41.982Z"
   },
   {
    "duration": 62,
    "start_time": "2022-02-23T07:51:42.000Z"
   },
   {
    "duration": 16,
    "start_time": "2022-02-23T07:51:42.065Z"
   },
   {
    "duration": 1155,
    "start_time": "2022-02-24T07:24:40.500Z"
   },
   {
    "duration": 206593,
    "start_time": "2022-02-24T07:24:41.659Z"
   },
   {
    "duration": 46,
    "start_time": "2022-02-24T07:28:08.254Z"
   },
   {
    "duration": 5,
    "start_time": "2022-02-24T07:28:08.303Z"
   },
   {
    "duration": 84,
    "start_time": "2022-02-24T07:28:08.310Z"
   },
   {
    "duration": 5,
    "start_time": "2022-02-24T07:28:08.396Z"
   },
   {
    "duration": 8,
    "start_time": "2022-02-24T07:28:08.403Z"
   },
   {
    "duration": 6,
    "start_time": "2022-02-24T07:28:08.413Z"
   },
   {
    "duration": 4,
    "start_time": "2022-02-24T07:28:08.420Z"
   },
   {
    "duration": 41,
    "start_time": "2022-02-24T07:28:08.425Z"
   },
   {
    "duration": 25,
    "start_time": "2022-02-24T07:28:08.468Z"
   },
   {
    "duration": 10,
    "start_time": "2022-02-24T07:28:08.495Z"
   },
   {
    "duration": 10,
    "start_time": "2022-02-24T07:28:08.506Z"
   },
   {
    "duration": 14,
    "start_time": "2022-02-24T07:28:08.517Z"
   },
   {
    "duration": 378,
    "start_time": "2022-02-24T07:28:08.533Z"
   },
   {
    "duration": 4,
    "start_time": "2022-02-24T07:28:08.913Z"
   },
   {
    "duration": 10,
    "start_time": "2022-02-24T07:28:08.919Z"
   },
   {
    "duration": 6,
    "start_time": "2022-02-24T07:28:08.931Z"
   },
   {
    "duration": 352,
    "start_time": "2022-02-24T07:28:08.938Z"
   },
   {
    "duration": -1938,
    "start_time": "2022-02-24T07:28:11.231Z"
   },
   {
    "duration": -1946,
    "start_time": "2022-02-24T07:28:11.240Z"
   },
   {
    "duration": -1949,
    "start_time": "2022-02-24T07:28:11.244Z"
   },
   {
    "duration": -1951,
    "start_time": "2022-02-24T07:28:11.247Z"
   },
   {
    "duration": -1952,
    "start_time": "2022-02-24T07:28:11.250Z"
   },
   {
    "duration": -1954,
    "start_time": "2022-02-24T07:28:11.253Z"
   },
   {
    "duration": -1962,
    "start_time": "2022-02-24T07:28:11.262Z"
   },
   {
    "duration": -1964,
    "start_time": "2022-02-24T07:28:11.266Z"
   },
   {
    "duration": -1966,
    "start_time": "2022-02-24T07:28:11.269Z"
   },
   {
    "duration": -1969,
    "start_time": "2022-02-24T07:28:11.273Z"
   },
   {
    "duration": -1970,
    "start_time": "2022-02-24T07:28:11.275Z"
   },
   {
    "duration": -1973,
    "start_time": "2022-02-24T07:28:11.279Z"
   },
   {
    "duration": -1975,
    "start_time": "2022-02-24T07:28:11.282Z"
   },
   {
    "duration": -1981,
    "start_time": "2022-02-24T07:28:11.289Z"
   },
   {
    "duration": -1986,
    "start_time": "2022-02-24T07:28:11.295Z"
   },
   {
    "duration": -1992,
    "start_time": "2022-02-24T07:28:11.302Z"
   },
   {
    "duration": -1997,
    "start_time": "2022-02-24T07:28:11.308Z"
   },
   {
    "duration": 230,
    "start_time": "2022-02-24T07:28:58.950Z"
   },
   {
    "duration": 233,
    "start_time": "2022-02-24T07:29:23.080Z"
   },
   {
    "duration": 456,
    "start_time": "2022-02-24T07:29:31.273Z"
   },
   {
    "duration": 218,
    "start_time": "2022-02-24T07:29:49.580Z"
   },
   {
    "duration": 540,
    "start_time": "2022-02-24T07:30:53.821Z"
   },
   {
    "duration": 241,
    "start_time": "2022-02-24T07:30:54.364Z"
   },
   {
    "duration": -1953,
    "start_time": "2022-02-24T07:30:56.560Z"
   },
   {
    "duration": -1959,
    "start_time": "2022-02-24T07:30:56.568Z"
   },
   {
    "duration": -1969,
    "start_time": "2022-02-24T07:30:56.579Z"
   },
   {
    "duration": -1979,
    "start_time": "2022-02-24T07:30:56.590Z"
   },
   {
    "duration": -1982,
    "start_time": "2022-02-24T07:30:56.594Z"
   },
   {
    "duration": -1983,
    "start_time": "2022-02-24T07:30:56.597Z"
   },
   {
    "duration": -1991,
    "start_time": "2022-02-24T07:30:56.606Z"
   },
   {
    "duration": -1994,
    "start_time": "2022-02-24T07:30:56.610Z"
   },
   {
    "duration": -1996,
    "start_time": "2022-02-24T07:30:56.613Z"
   },
   {
    "duration": -2004,
    "start_time": "2022-02-24T07:30:56.622Z"
   },
   {
    "duration": -2006,
    "start_time": "2022-02-24T07:30:56.625Z"
   },
   {
    "duration": -2008,
    "start_time": "2022-02-24T07:30:56.629Z"
   },
   {
    "duration": -2010,
    "start_time": "2022-02-24T07:30:56.632Z"
   },
   {
    "duration": -2013,
    "start_time": "2022-02-24T07:30:56.636Z"
   },
   {
    "duration": -2014,
    "start_time": "2022-02-24T07:30:56.639Z"
   },
   {
    "duration": 22,
    "start_time": "2022-02-24T07:31:19.720Z"
   },
   {
    "duration": 1158,
    "start_time": "2022-02-24T07:42:22.429Z"
   },
   {
    "duration": 3,
    "start_time": "2022-02-24T07:48:28.692Z"
   },
   {
    "duration": 81721,
    "start_time": "2022-02-24T07:48:28.707Z"
   },
   {
    "duration": 45,
    "start_time": "2022-02-24T07:49:50.440Z"
   },
   {
    "duration": 5,
    "start_time": "2022-02-24T07:49:50.494Z"
   },
   {
    "duration": 80,
    "start_time": "2022-02-24T07:49:50.509Z"
   },
   {
    "duration": 2400,
    "start_time": "2022-02-24T07:49:50.596Z"
   },
   {
    "duration": -30544,
    "start_time": "2022-02-24T07:50:23.544Z"
   },
   {
    "duration": -30554,
    "start_time": "2022-02-24T07:50:23.556Z"
   },
   {
    "duration": -30562,
    "start_time": "2022-02-24T07:50:23.566Z"
   },
   {
    "duration": -30608,
    "start_time": "2022-02-24T07:50:23.614Z"
   },
   {
    "duration": -30617,
    "start_time": "2022-02-24T07:50:23.625Z"
   },
   {
    "duration": -30625,
    "start_time": "2022-02-24T07:50:23.635Z"
   },
   {
    "duration": -30634,
    "start_time": "2022-02-24T07:50:23.646Z"
   },
   {
    "duration": -30643,
    "start_time": "2022-02-24T07:50:23.657Z"
   },
   {
    "duration": -30651,
    "start_time": "2022-02-24T07:50:23.667Z"
   },
   {
    "duration": -30658,
    "start_time": "2022-02-24T07:50:23.677Z"
   },
   {
    "duration": -30674,
    "start_time": "2022-02-24T07:50:23.695Z"
   },
   {
    "duration": -30698,
    "start_time": "2022-02-24T07:50:23.721Z"
   },
   {
    "duration": -30754,
    "start_time": "2022-02-24T07:50:23.778Z"
   },
   {
    "duration": -30759,
    "start_time": "2022-02-24T07:50:23.785Z"
   },
   {
    "duration": -30766,
    "start_time": "2022-02-24T07:50:23.794Z"
   },
   {
    "duration": -30770,
    "start_time": "2022-02-24T07:50:23.800Z"
   },
   {
    "duration": -30776,
    "start_time": "2022-02-24T07:50:23.808Z"
   },
   {
    "duration": -30779,
    "start_time": "2022-02-24T07:50:23.815Z"
   },
   {
    "duration": -30781,
    "start_time": "2022-02-24T07:50:23.823Z"
   },
   {
    "duration": -30787,
    "start_time": "2022-02-24T07:50:23.831Z"
   },
   {
    "duration": -30793,
    "start_time": "2022-02-24T07:50:23.839Z"
   },
   {
    "duration": -30800,
    "start_time": "2022-02-24T07:50:23.848Z"
   },
   {
    "duration": -30806,
    "start_time": "2022-02-24T07:50:23.857Z"
   },
   {
    "duration": -30812,
    "start_time": "2022-02-24T07:50:23.865Z"
   },
   {
    "duration": -30886,
    "start_time": "2022-02-24T07:50:23.941Z"
   },
   {
    "duration": -30894,
    "start_time": "2022-02-24T07:50:23.951Z"
   },
   {
    "duration": -30902,
    "start_time": "2022-02-24T07:50:23.960Z"
   },
   {
    "duration": -30908,
    "start_time": "2022-02-24T07:50:23.967Z"
   },
   {
    "duration": -30915,
    "start_time": "2022-02-24T07:50:23.975Z"
   },
   {
    "duration": -30921,
    "start_time": "2022-02-24T07:50:23.982Z"
   },
   {
    "duration": 1198,
    "start_time": "2022-02-24T07:49:58.665Z"
   },
   {
    "duration": 166162,
    "start_time": "2022-02-24T07:49:59.865Z"
   },
   {
    "duration": 42,
    "start_time": "2022-02-24T07:52:46.029Z"
   },
   {
    "duration": 3,
    "start_time": "2022-02-24T07:52:46.073Z"
   },
   {
    "duration": 81,
    "start_time": "2022-02-24T07:52:46.078Z"
   },
   {
    "duration": 5,
    "start_time": "2022-02-24T07:52:46.160Z"
   },
   {
    "duration": 6,
    "start_time": "2022-02-24T07:52:46.167Z"
   },
   {
    "duration": 6,
    "start_time": "2022-02-24T07:52:46.176Z"
   },
   {
    "duration": 4,
    "start_time": "2022-02-24T07:52:46.184Z"
   },
   {
    "duration": 5,
    "start_time": "2022-02-24T07:52:46.190Z"
   },
   {
    "duration": 42,
    "start_time": "2022-02-24T07:52:46.196Z"
   },
   {
    "duration": 8,
    "start_time": "2022-02-24T07:52:46.240Z"
   },
   {
    "duration": 7,
    "start_time": "2022-02-24T07:52:46.249Z"
   },
   {
    "duration": 13,
    "start_time": "2022-02-24T07:52:46.258Z"
   },
   {
    "duration": 376,
    "start_time": "2022-02-24T07:52:46.272Z"
   },
   {
    "duration": 5,
    "start_time": "2022-02-24T07:52:46.650Z"
   },
   {
    "duration": 7,
    "start_time": "2022-02-24T07:52:46.657Z"
   },
   {
    "duration": 6,
    "start_time": "2022-02-24T07:52:46.665Z"
   },
   {
    "duration": 270,
    "start_time": "2022-02-24T07:52:46.673Z"
   },
   {
    "duration": 408,
    "start_time": "2022-02-24T07:52:46.945Z"
   },
   {
    "duration": 328,
    "start_time": "2022-02-24T07:52:47.355Z"
   },
   {
    "duration": 536,
    "start_time": "2022-02-24T07:52:47.685Z"
   },
   {
    "duration": 316,
    "start_time": "2022-02-24T07:52:48.223Z"
   },
   {
    "duration": 4,
    "start_time": "2022-02-24T07:52:48.541Z"
   },
   {
    "duration": 1110,
    "start_time": "2022-02-24T07:52:48.547Z"
   },
   {
    "duration": 817,
    "start_time": "2022-02-24T07:52:49.658Z"
   },
   {
    "duration": 781,
    "start_time": "2022-02-24T07:52:50.477Z"
   },
   {
    "duration": 22,
    "start_time": "2022-02-24T07:52:51.260Z"
   },
   {
    "duration": 4,
    "start_time": "2022-02-24T07:52:51.284Z"
   },
   {
    "duration": 480,
    "start_time": "2022-02-24T07:52:51.289Z"
   },
   {
    "duration": 485,
    "start_time": "2022-02-24T07:52:51.771Z"
   },
   {
    "duration": 473,
    "start_time": "2022-02-24T07:52:52.257Z"
   },
   {
    "duration": 20,
    "start_time": "2022-02-24T07:52:52.731Z"
   },
   {
    "duration": 10,
    "start_time": "2022-02-24T07:52:52.752Z"
   },
   {
    "duration": 19,
    "start_time": "2022-02-24T07:52:52.764Z"
   },
   {
    "duration": 10,
    "start_time": "2022-02-24T07:52:52.784Z"
   },
   {
    "duration": 4,
    "start_time": "2022-02-24T07:59:43.011Z"
   },
   {
    "duration": 34730,
    "start_time": "2022-02-24T07:59:43.018Z"
   },
   {
    "duration": 38,
    "start_time": "2022-02-24T08:00:17.751Z"
   },
   {
    "duration": 4,
    "start_time": "2022-02-24T08:00:17.791Z"
   },
   {
    "duration": 73,
    "start_time": "2022-02-24T08:00:17.797Z"
   },
   {
    "duration": 5,
    "start_time": "2022-02-24T08:00:17.871Z"
   },
   {
    "duration": 6,
    "start_time": "2022-02-24T08:00:17.878Z"
   },
   {
    "duration": 8,
    "start_time": "2022-02-24T08:00:17.885Z"
   },
   {
    "duration": 11,
    "start_time": "2022-02-24T08:00:17.895Z"
   },
   {
    "duration": 28,
    "start_time": "2022-02-24T08:00:17.909Z"
   },
   {
    "duration": 7,
    "start_time": "2022-02-24T08:00:17.939Z"
   },
   {
    "duration": 6,
    "start_time": "2022-02-24T08:00:17.948Z"
   },
   {
    "duration": 8,
    "start_time": "2022-02-24T08:00:17.956Z"
   },
   {
    "duration": 10,
    "start_time": "2022-02-24T08:00:17.965Z"
   },
   {
    "duration": 382,
    "start_time": "2022-02-24T08:00:17.977Z"
   },
   {
    "duration": 4,
    "start_time": "2022-02-24T08:00:18.361Z"
   },
   {
    "duration": 7,
    "start_time": "2022-02-24T08:00:18.367Z"
   },
   {
    "duration": 5,
    "start_time": "2022-02-24T08:00:18.376Z"
   },
   {
    "duration": 259,
    "start_time": "2022-02-24T08:00:18.382Z"
   },
   {
    "duration": 487,
    "start_time": "2022-02-24T08:00:18.643Z"
   },
   {
    "duration": 331,
    "start_time": "2022-02-24T08:00:19.131Z"
   },
   {
    "duration": 574,
    "start_time": "2022-02-24T08:00:19.464Z"
   },
   {
    "duration": 256,
    "start_time": "2022-02-24T08:00:20.041Z"
   },
   {
    "duration": 5,
    "start_time": "2022-02-24T08:00:20.302Z"
   },
   {
    "duration": 905,
    "start_time": "2022-02-24T08:00:20.309Z"
   },
   {
    "duration": 872,
    "start_time": "2022-02-24T08:00:21.215Z"
   },
   {
    "duration": 861,
    "start_time": "2022-02-24T08:00:22.089Z"
   },
   {
    "duration": 25,
    "start_time": "2022-02-24T08:00:22.952Z"
   },
   {
    "duration": 4,
    "start_time": "2022-02-24T08:00:22.979Z"
   },
   {
    "duration": 496,
    "start_time": "2022-02-24T08:00:22.985Z"
   },
   {
    "duration": 515,
    "start_time": "2022-02-24T08:00:23.483Z"
   },
   {
    "duration": 541,
    "start_time": "2022-02-24T08:00:24.000Z"
   },
   {
    "duration": 16,
    "start_time": "2022-02-24T08:00:24.543Z"
   },
   {
    "duration": 9,
    "start_time": "2022-02-24T08:00:24.561Z"
   },
   {
    "duration": 20,
    "start_time": "2022-02-24T08:00:24.571Z"
   },
   {
    "duration": 38,
    "start_time": "2022-02-24T08:00:24.593Z"
   },
   {
    "duration": 1157,
    "start_time": "2022-02-24T08:07:16.710Z"
   },
   {
    "duration": 132102,
    "start_time": "2022-02-24T08:07:17.868Z"
   },
   {
    "duration": 38,
    "start_time": "2022-02-24T08:09:29.972Z"
   },
   {
    "duration": 5,
    "start_time": "2022-02-24T08:09:30.012Z"
   },
   {
    "duration": 91,
    "start_time": "2022-02-24T08:09:30.018Z"
   },
   {
    "duration": 4,
    "start_time": "2022-02-24T08:09:30.111Z"
   },
   {
    "duration": 8,
    "start_time": "2022-02-24T08:09:30.117Z"
   },
   {
    "duration": 12,
    "start_time": "2022-02-24T08:09:30.127Z"
   },
   {
    "duration": 7,
    "start_time": "2022-02-24T08:09:30.141Z"
   },
   {
    "duration": 7,
    "start_time": "2022-02-24T08:09:30.149Z"
   },
   {
    "duration": 11,
    "start_time": "2022-02-24T08:09:30.158Z"
   },
   {
    "duration": 8,
    "start_time": "2022-02-24T08:09:30.170Z"
   },
   {
    "duration": 8,
    "start_time": "2022-02-24T08:09:30.180Z"
   },
   {
    "duration": 13,
    "start_time": "2022-02-24T08:09:30.189Z"
   },
   {
    "duration": 362,
    "start_time": "2022-02-24T08:09:30.203Z"
   },
   {
    "duration": 4,
    "start_time": "2022-02-24T08:09:30.567Z"
   },
   {
    "duration": 14,
    "start_time": "2022-02-24T08:09:30.572Z"
   },
   {
    "duration": 5,
    "start_time": "2022-02-24T08:09:30.588Z"
   },
   {
    "duration": 260,
    "start_time": "2022-02-24T08:09:30.594Z"
   },
   {
    "duration": 407,
    "start_time": "2022-02-24T08:09:30.856Z"
   },
   {
    "duration": 335,
    "start_time": "2022-02-24T08:09:31.265Z"
   },
   {
    "duration": 537,
    "start_time": "2022-02-24T08:09:31.602Z"
   },
   {
    "duration": 319,
    "start_time": "2022-02-24T08:09:32.143Z"
   },
   {
    "duration": 6,
    "start_time": "2022-02-24T08:09:32.464Z"
   },
   {
    "duration": 1145,
    "start_time": "2022-02-24T08:09:32.471Z"
   },
   {
    "duration": 851,
    "start_time": "2022-02-24T08:09:33.618Z"
   },
   {
    "duration": 795,
    "start_time": "2022-02-24T08:09:34.471Z"
   },
   {
    "duration": 22,
    "start_time": "2022-02-24T08:09:35.267Z"
   },
   {
    "duration": 4,
    "start_time": "2022-02-24T08:09:35.291Z"
   },
   {
    "duration": 480,
    "start_time": "2022-02-24T08:09:35.296Z"
   },
   {
    "duration": 478,
    "start_time": "2022-02-24T08:09:35.778Z"
   },
   {
    "duration": 449,
    "start_time": "2022-02-24T08:09:36.258Z"
   },
   {
    "duration": 26,
    "start_time": "2022-02-24T08:09:36.709Z"
   },
   {
    "duration": 10,
    "start_time": "2022-02-24T08:09:36.737Z"
   },
   {
    "duration": 18,
    "start_time": "2022-02-24T08:09:36.749Z"
   },
   {
    "duration": 9,
    "start_time": "2022-02-24T08:09:36.769Z"
   },
   {
    "duration": 4,
    "start_time": "2022-02-24T08:20:25.175Z"
   },
   {
    "duration": 117360,
    "start_time": "2022-02-24T08:20:25.180Z"
   },
   {
    "duration": 38,
    "start_time": "2022-02-24T08:22:22.542Z"
   },
   {
    "duration": 4,
    "start_time": "2022-02-24T08:22:22.582Z"
   },
   {
    "duration": 77,
    "start_time": "2022-02-24T08:22:22.588Z"
   },
   {
    "duration": 5,
    "start_time": "2022-02-24T08:22:22.667Z"
   },
   {
    "duration": 20,
    "start_time": "2022-02-24T08:22:22.674Z"
   },
   {
    "duration": 13,
    "start_time": "2022-02-24T08:22:22.696Z"
   },
   {
    "duration": 7,
    "start_time": "2022-02-24T08:22:22.711Z"
   },
   {
    "duration": 12,
    "start_time": "2022-02-24T08:22:22.720Z"
   },
   {
    "duration": 9,
    "start_time": "2022-02-24T08:22:22.734Z"
   },
   {
    "duration": 6,
    "start_time": "2022-02-24T08:22:22.744Z"
   },
   {
    "duration": 7,
    "start_time": "2022-02-24T08:22:22.752Z"
   },
   {
    "duration": 9,
    "start_time": "2022-02-24T08:22:22.761Z"
   },
   {
    "duration": 390,
    "start_time": "2022-02-24T08:22:22.771Z"
   },
   {
    "duration": 4,
    "start_time": "2022-02-24T08:22:23.163Z"
   },
   {
    "duration": 7,
    "start_time": "2022-02-24T08:22:23.168Z"
   },
   {
    "duration": 4,
    "start_time": "2022-02-24T08:22:23.176Z"
   },
   {
    "duration": 251,
    "start_time": "2022-02-24T08:22:23.182Z"
   },
   {
    "duration": 506,
    "start_time": "2022-02-24T08:22:23.435Z"
   },
   {
    "duration": 318,
    "start_time": "2022-02-24T08:22:23.942Z"
   },
   {
    "duration": 561,
    "start_time": "2022-02-24T08:22:24.262Z"
   },
   {
    "duration": 244,
    "start_time": "2022-02-24T08:22:24.830Z"
   },
   {
    "duration": 5,
    "start_time": "2022-02-24T08:22:25.076Z"
   },
   {
    "duration": 1051,
    "start_time": "2022-02-24T08:22:25.083Z"
   },
   {
    "duration": 838,
    "start_time": "2022-02-24T08:22:26.136Z"
   },
   {
    "duration": 785,
    "start_time": "2022-02-24T08:22:26.975Z"
   },
   {
    "duration": 25,
    "start_time": "2022-02-24T08:22:27.762Z"
   },
   {
    "duration": 4,
    "start_time": "2022-02-24T08:22:27.788Z"
   },
   {
    "duration": 495,
    "start_time": "2022-02-24T08:22:27.794Z"
   },
   {
    "duration": 487,
    "start_time": "2022-02-24T08:22:28.291Z"
   },
   {
    "duration": 555,
    "start_time": "2022-02-24T08:22:28.780Z"
   },
   {
    "duration": 18,
    "start_time": "2022-02-24T08:22:29.337Z"
   },
   {
    "duration": 9,
    "start_time": "2022-02-24T08:22:29.357Z"
   },
   {
    "duration": 20,
    "start_time": "2022-02-24T08:22:29.368Z"
   },
   {
    "duration": 10,
    "start_time": "2022-02-24T08:22:29.390Z"
   },
   {
    "duration": 1155,
    "start_time": "2022-02-24T08:23:25.902Z"
   },
   {
    "duration": 35160,
    "start_time": "2022-02-24T08:23:27.059Z"
   },
   {
    "duration": 36,
    "start_time": "2022-02-24T08:24:02.221Z"
   },
   {
    "duration": 4,
    "start_time": "2022-02-24T08:24:02.259Z"
   },
   {
    "duration": 79,
    "start_time": "2022-02-24T08:24:02.264Z"
   },
   {
    "duration": 6,
    "start_time": "2022-02-24T08:24:02.345Z"
   },
   {
    "duration": 11,
    "start_time": "2022-02-24T08:24:02.353Z"
   },
   {
    "duration": 6,
    "start_time": "2022-02-24T08:24:02.367Z"
   },
   {
    "duration": 7,
    "start_time": "2022-02-24T08:24:02.375Z"
   },
   {
    "duration": 13,
    "start_time": "2022-02-24T08:24:02.383Z"
   },
   {
    "duration": 13,
    "start_time": "2022-02-24T08:24:02.397Z"
   },
   {
    "duration": 20,
    "start_time": "2022-02-24T08:24:02.412Z"
   },
   {
    "duration": 11,
    "start_time": "2022-02-24T08:24:02.434Z"
   },
   {
    "duration": 10,
    "start_time": "2022-02-24T08:24:02.447Z"
   },
   {
    "duration": 366,
    "start_time": "2022-02-24T08:24:02.459Z"
   },
   {
    "duration": 4,
    "start_time": "2022-02-24T08:24:02.827Z"
   },
   {
    "duration": 6,
    "start_time": "2022-02-24T08:24:02.833Z"
   },
   {
    "duration": 5,
    "start_time": "2022-02-24T08:24:02.840Z"
   },
   {
    "duration": 266,
    "start_time": "2022-02-24T08:24:02.847Z"
   },
   {
    "duration": 415,
    "start_time": "2022-02-24T08:24:03.115Z"
   },
   {
    "duration": 471,
    "start_time": "2022-02-24T08:24:03.533Z"
   },
   {
    "duration": 569,
    "start_time": "2022-02-24T08:24:04.006Z"
   },
   {
    "duration": 455,
    "start_time": "2022-02-24T08:24:04.578Z"
   },
   {
    "duration": 8,
    "start_time": "2022-02-24T08:24:05.036Z"
   },
   {
    "duration": 1326,
    "start_time": "2022-02-24T08:24:05.046Z"
   },
   {
    "duration": 920,
    "start_time": "2022-02-24T08:24:06.375Z"
   },
   {
    "duration": 899,
    "start_time": "2022-02-24T08:24:07.297Z"
   },
   {
    "duration": 22,
    "start_time": "2022-02-24T08:24:08.198Z"
   },
   {
    "duration": 8,
    "start_time": "2022-02-24T08:24:08.222Z"
   },
   {
    "duration": 540,
    "start_time": "2022-02-24T08:24:08.232Z"
   },
   {
    "duration": 560,
    "start_time": "2022-02-24T08:24:08.779Z"
   },
   {
    "duration": 457,
    "start_time": "2022-02-24T08:24:09.341Z"
   },
   {
    "duration": 17,
    "start_time": "2022-02-24T08:24:09.800Z"
   },
   {
    "duration": 17,
    "start_time": "2022-02-24T08:24:09.818Z"
   },
   {
    "duration": 18,
    "start_time": "2022-02-24T08:24:09.837Z"
   },
   {
    "duration": 10,
    "start_time": "2022-02-24T08:24:09.857Z"
   },
   {
    "duration": 1126,
    "start_time": "2022-02-24T08:24:17.542Z"
   },
   {
    "duration": 17381,
    "start_time": "2022-02-24T08:24:18.669Z"
   },
   {
    "duration": 37,
    "start_time": "2022-02-24T08:24:36.053Z"
   },
   {
    "duration": 4,
    "start_time": "2022-02-24T08:24:36.093Z"
   },
   {
    "duration": 77,
    "start_time": "2022-02-24T08:24:36.098Z"
   },
   {
    "duration": 4,
    "start_time": "2022-02-24T08:24:36.177Z"
   },
   {
    "duration": 9,
    "start_time": "2022-02-24T08:24:36.183Z"
   },
   {
    "duration": 9,
    "start_time": "2022-02-24T08:24:36.194Z"
   },
   {
    "duration": 6,
    "start_time": "2022-02-24T08:24:36.205Z"
   },
   {
    "duration": 19,
    "start_time": "2022-02-24T08:24:36.213Z"
   },
   {
    "duration": 9,
    "start_time": "2022-02-24T08:24:36.233Z"
   },
   {
    "duration": 7,
    "start_time": "2022-02-24T08:24:36.243Z"
   },
   {
    "duration": 6,
    "start_time": "2022-02-24T08:24:36.252Z"
   },
   {
    "duration": 9,
    "start_time": "2022-02-24T08:24:36.260Z"
   },
   {
    "duration": 380,
    "start_time": "2022-02-24T08:24:36.270Z"
   },
   {
    "duration": 5,
    "start_time": "2022-02-24T08:24:36.652Z"
   },
   {
    "duration": 7,
    "start_time": "2022-02-24T08:24:36.658Z"
   },
   {
    "duration": 5,
    "start_time": "2022-02-24T08:24:36.667Z"
   },
   {
    "duration": 264,
    "start_time": "2022-02-24T08:24:36.674Z"
   },
   {
    "duration": 407,
    "start_time": "2022-02-24T08:24:36.940Z"
   },
   {
    "duration": 325,
    "start_time": "2022-02-24T08:24:37.349Z"
   },
   {
    "duration": 555,
    "start_time": "2022-02-24T08:24:37.675Z"
   },
   {
    "duration": 323,
    "start_time": "2022-02-24T08:24:38.234Z"
   },
   {
    "duration": 5,
    "start_time": "2022-02-24T08:24:38.559Z"
   },
   {
    "duration": 1174,
    "start_time": "2022-02-24T08:24:38.566Z"
   },
   {
    "duration": 832,
    "start_time": "2022-02-24T08:24:39.742Z"
   },
   {
    "duration": 784,
    "start_time": "2022-02-24T08:24:40.576Z"
   },
   {
    "duration": 23,
    "start_time": "2022-02-24T08:24:41.361Z"
   },
   {
    "duration": 4,
    "start_time": "2022-02-24T08:24:41.385Z"
   },
   {
    "duration": 486,
    "start_time": "2022-02-24T08:24:41.390Z"
   },
   {
    "duration": 488,
    "start_time": "2022-02-24T08:24:41.878Z"
   },
   {
    "duration": 468,
    "start_time": "2022-02-24T08:24:42.368Z"
   },
   {
    "duration": 19,
    "start_time": "2022-02-24T08:24:42.838Z"
   },
   {
    "duration": 10,
    "start_time": "2022-02-24T08:24:42.858Z"
   },
   {
    "duration": 19,
    "start_time": "2022-02-24T08:24:42.869Z"
   },
   {
    "duration": 10,
    "start_time": "2022-02-24T08:24:42.890Z"
   },
   {
    "duration": 1153,
    "start_time": "2022-02-24T08:57:18.099Z"
   },
   {
    "duration": 2,
    "start_time": "2022-02-24T08:57:19.254Z"
   },
   {
    "duration": 40,
    "start_time": "2022-02-24T08:57:19.261Z"
   },
   {
    "duration": 3,
    "start_time": "2022-02-24T08:57:19.303Z"
   },
   {
    "duration": 78,
    "start_time": "2022-02-24T08:57:19.308Z"
   },
   {
    "duration": 5,
    "start_time": "2022-02-24T08:57:19.388Z"
   },
   {
    "duration": 11,
    "start_time": "2022-02-24T08:57:19.395Z"
   },
   {
    "duration": 23,
    "start_time": "2022-02-24T08:57:19.408Z"
   },
   {
    "duration": 3,
    "start_time": "2022-02-24T08:57:19.433Z"
   },
   {
    "duration": 6,
    "start_time": "2022-02-24T08:57:19.437Z"
   },
   {
    "duration": 9,
    "start_time": "2022-02-24T08:57:19.445Z"
   },
   {
    "duration": 7,
    "start_time": "2022-02-24T08:57:19.455Z"
   },
   {
    "duration": 9,
    "start_time": "2022-02-24T08:57:19.464Z"
   },
   {
    "duration": 10,
    "start_time": "2022-02-24T08:57:19.474Z"
   },
   {
    "duration": 395,
    "start_time": "2022-02-24T08:57:19.486Z"
   },
   {
    "duration": 4,
    "start_time": "2022-02-24T08:57:19.883Z"
   },
   {
    "duration": 7,
    "start_time": "2022-02-24T08:57:19.888Z"
   },
   {
    "duration": 5,
    "start_time": "2022-02-24T08:57:19.897Z"
   },
   {
    "duration": 270,
    "start_time": "2022-02-24T08:57:19.903Z"
   },
   {
    "duration": 411,
    "start_time": "2022-02-24T08:57:20.175Z"
   },
   {
    "duration": 328,
    "start_time": "2022-02-24T08:57:20.588Z"
   },
   {
    "duration": 571,
    "start_time": "2022-02-24T08:57:20.920Z"
   },
   {
    "duration": 306,
    "start_time": "2022-02-24T08:57:21.493Z"
   },
   {
    "duration": 5,
    "start_time": "2022-02-24T08:57:21.800Z"
   },
   {
    "duration": 1114,
    "start_time": "2022-02-24T08:57:21.807Z"
   },
   {
    "duration": 850,
    "start_time": "2022-02-24T08:57:22.923Z"
   },
   {
    "duration": 797,
    "start_time": "2022-02-24T08:57:23.776Z"
   },
   {
    "duration": 22,
    "start_time": "2022-02-24T08:57:24.575Z"
   },
   {
    "duration": 3,
    "start_time": "2022-02-24T08:57:24.599Z"
   },
   {
    "duration": 488,
    "start_time": "2022-02-24T08:57:24.603Z"
   },
   {
    "duration": 485,
    "start_time": "2022-02-24T08:57:25.093Z"
   },
   {
    "duration": 455,
    "start_time": "2022-02-24T08:57:25.579Z"
   },
   {
    "duration": 18,
    "start_time": "2022-02-24T08:57:26.036Z"
   },
   {
    "duration": 10,
    "start_time": "2022-02-24T08:57:26.056Z"
   },
   {
    "duration": 19,
    "start_time": "2022-02-24T08:57:26.067Z"
   },
   {
    "duration": 10,
    "start_time": "2022-02-24T08:57:26.088Z"
   },
   {
    "duration": 99826,
    "start_time": "2022-02-24T08:57:48.737Z"
   },
   {
    "duration": 1486,
    "start_time": "2022-02-24T17:00:37.392Z"
   },
   {
    "duration": 15577,
    "start_time": "2022-02-24T17:00:38.881Z"
   },
   {
    "duration": 64,
    "start_time": "2022-02-24T17:00:54.461Z"
   },
   {
    "duration": 5,
    "start_time": "2022-02-24T17:00:54.528Z"
   },
   {
    "duration": 124,
    "start_time": "2022-02-24T17:00:54.536Z"
   },
   {
    "duration": 8,
    "start_time": "2022-02-24T17:00:54.663Z"
   },
   {
    "duration": 12,
    "start_time": "2022-02-24T17:00:54.674Z"
   },
   {
    "duration": 7,
    "start_time": "2022-02-24T17:00:54.690Z"
   },
   {
    "duration": 7,
    "start_time": "2022-02-24T17:00:54.701Z"
   },
   {
    "duration": 48,
    "start_time": "2022-02-24T17:00:54.711Z"
   },
   {
    "duration": 15,
    "start_time": "2022-02-24T17:00:54.762Z"
   },
   {
    "duration": 9,
    "start_time": "2022-02-24T17:00:54.780Z"
   },
   {
    "duration": 10,
    "start_time": "2022-02-24T17:00:54.793Z"
   },
   {
    "duration": 45,
    "start_time": "2022-02-24T17:00:54.806Z"
   },
   {
    "duration": 586,
    "start_time": "2022-02-24T17:00:54.854Z"
   },
   {
    "duration": 13,
    "start_time": "2022-02-24T17:00:55.442Z"
   },
   {
    "duration": 18,
    "start_time": "2022-02-24T17:00:55.458Z"
   },
   {
    "duration": 8,
    "start_time": "2022-02-24T17:00:55.478Z"
   },
   {
    "duration": 543,
    "start_time": "2022-02-24T17:00:55.488Z"
   },
   {
    "duration": 20297,
    "start_time": "2022-02-24T17:00:35.739Z"
   },
   {
    "duration": 20292,
    "start_time": "2022-02-24T17:00:35.746Z"
   },
   {
    "duration": 20288,
    "start_time": "2022-02-24T17:00:35.752Z"
   },
   {
    "duration": 20283,
    "start_time": "2022-02-24T17:00:35.759Z"
   },
   {
    "duration": 20277,
    "start_time": "2022-02-24T17:00:35.766Z"
   },
   {
    "duration": 20273,
    "start_time": "2022-02-24T17:00:35.773Z"
   },
   {
    "duration": 20269,
    "start_time": "2022-02-24T17:00:35.779Z"
   },
   {
    "duration": 20264,
    "start_time": "2022-02-24T17:00:35.786Z"
   },
   {
    "duration": 20259,
    "start_time": "2022-02-24T17:00:35.793Z"
   },
   {
    "duration": 20255,
    "start_time": "2022-02-24T17:00:35.799Z"
   },
   {
    "duration": 20255,
    "start_time": "2022-02-24T17:00:35.801Z"
   },
   {
    "duration": 20249,
    "start_time": "2022-02-24T17:00:35.808Z"
   },
   {
    "duration": 20245,
    "start_time": "2022-02-24T17:00:35.814Z"
   },
   {
    "duration": 20240,
    "start_time": "2022-02-24T17:00:35.821Z"
   },
   {
    "duration": 20236,
    "start_time": "2022-02-24T17:00:35.827Z"
   },
   {
    "duration": 20235,
    "start_time": "2022-02-24T17:00:35.829Z"
   },
   {
    "duration": 20231,
    "start_time": "2022-02-24T17:00:35.835Z"
   },
   {
    "duration": 441,
    "start_time": "2022-02-24T17:01:33.660Z"
   },
   {
    "duration": 436,
    "start_time": "2022-02-24T17:01:39.821Z"
   },
   {
    "duration": 316,
    "start_time": "2022-02-24T17:01:44.526Z"
   },
   {
    "duration": 434,
    "start_time": "2022-02-24T17:01:51.965Z"
   },
   {
    "duration": 415,
    "start_time": "2022-02-24T17:02:25.517Z"
   },
   {
    "duration": 1652,
    "start_time": "2022-02-24T17:02:33.861Z"
   },
   {
    "duration": 8131,
    "start_time": "2022-02-24T17:02:35.516Z"
   },
   {
    "duration": 54,
    "start_time": "2022-02-24T17:02:43.651Z"
   },
   {
    "duration": 7,
    "start_time": "2022-02-24T17:02:43.708Z"
   },
   {
    "duration": 136,
    "start_time": "2022-02-24T17:02:43.718Z"
   },
   {
    "duration": 7,
    "start_time": "2022-02-24T17:02:43.857Z"
   },
   {
    "duration": 24,
    "start_time": "2022-02-24T17:02:43.867Z"
   },
   {
    "duration": 26,
    "start_time": "2022-02-24T17:02:43.896Z"
   },
   {
    "duration": 17,
    "start_time": "2022-02-24T17:02:43.926Z"
   },
   {
    "duration": 21,
    "start_time": "2022-02-24T17:02:43.946Z"
   },
   {
    "duration": 52,
    "start_time": "2022-02-24T17:02:43.970Z"
   },
   {
    "duration": 30,
    "start_time": "2022-02-24T17:02:44.024Z"
   },
   {
    "duration": 26,
    "start_time": "2022-02-24T17:02:44.056Z"
   },
   {
    "duration": 36,
    "start_time": "2022-02-24T17:02:44.084Z"
   },
   {
    "duration": 548,
    "start_time": "2022-02-24T17:02:44.123Z"
   },
   {
    "duration": 7,
    "start_time": "2022-02-24T17:02:44.673Z"
   },
   {
    "duration": 30,
    "start_time": "2022-02-24T17:02:44.683Z"
   },
   {
    "duration": 13,
    "start_time": "2022-02-24T17:02:44.716Z"
   },
   {
    "duration": 567,
    "start_time": "2022-02-24T17:02:44.732Z"
   },
   {
    "duration": 1059,
    "start_time": "2022-02-24T17:02:45.302Z"
   },
   {
    "duration": 743,
    "start_time": "2022-02-24T17:02:46.364Z"
   },
   {
    "duration": 1232,
    "start_time": "2022-02-24T17:02:47.110Z"
   },
   {
    "duration": 515,
    "start_time": "2022-02-24T17:02:48.351Z"
   },
   {
    "duration": 8,
    "start_time": "2022-02-24T17:02:48.869Z"
   },
   {
    "duration": 2082,
    "start_time": "2022-02-24T17:02:48.879Z"
   },
   {
    "duration": 1351,
    "start_time": "2022-02-24T17:02:50.963Z"
   },
   {
    "duration": 1318,
    "start_time": "2022-02-24T17:02:52.316Z"
   },
   {
    "duration": 44,
    "start_time": "2022-02-24T17:02:53.637Z"
   },
   {
    "duration": 6,
    "start_time": "2022-02-24T17:02:53.684Z"
   },
   {
    "duration": 938,
    "start_time": "2022-02-24T17:02:53.693Z"
   },
   {
    "duration": 1082,
    "start_time": "2022-02-24T17:02:54.633Z"
   },
   {
    "duration": 880,
    "start_time": "2022-02-24T17:02:55.718Z"
   },
   {
    "duration": 28,
    "start_time": "2022-02-24T17:02:56.600Z"
   },
   {
    "duration": 18,
    "start_time": "2022-02-24T17:02:56.648Z"
   },
   {
    "duration": 30,
    "start_time": "2022-02-24T17:02:56.669Z"
   },
   {
    "duration": 54,
    "start_time": "2022-02-24T17:02:56.702Z"
   },
   {
    "duration": 1605,
    "start_time": "2022-02-24T17:08:00.523Z"
   },
   {
    "duration": 4,
    "start_time": "2022-02-24T17:08:02.130Z"
   },
   {
    "duration": 83,
    "start_time": "2022-02-24T17:08:02.137Z"
   },
   {
    "duration": 7,
    "start_time": "2022-02-24T17:08:02.224Z"
   },
   {
    "duration": 147,
    "start_time": "2022-02-24T17:08:02.234Z"
   },
   {
    "duration": 9,
    "start_time": "2022-02-24T17:08:02.384Z"
   },
   {
    "duration": 11,
    "start_time": "2022-02-24T17:08:02.398Z"
   },
   {
    "duration": 38,
    "start_time": "2022-02-24T17:08:02.413Z"
   },
   {
    "duration": 10,
    "start_time": "2022-02-24T17:08:02.454Z"
   },
   {
    "duration": 13,
    "start_time": "2022-02-24T17:08:02.467Z"
   },
   {
    "duration": 14,
    "start_time": "2022-02-24T17:08:02.484Z"
   },
   {
    "duration": 9,
    "start_time": "2022-02-24T17:08:02.501Z"
   },
   {
    "duration": 42,
    "start_time": "2022-02-24T17:08:02.513Z"
   },
   {
    "duration": 24,
    "start_time": "2022-02-24T17:08:02.558Z"
   },
   {
    "duration": 683,
    "start_time": "2022-02-24T17:08:02.586Z"
   },
   {
    "duration": 16,
    "start_time": "2022-02-24T17:08:03.272Z"
   },
   {
    "duration": 22,
    "start_time": "2022-02-24T17:08:03.291Z"
   },
   {
    "duration": 9,
    "start_time": "2022-02-24T17:08:03.316Z"
   },
   {
    "duration": 484,
    "start_time": "2022-02-24T17:08:03.328Z"
   },
   {
    "duration": 796,
    "start_time": "2022-02-24T17:08:03.816Z"
   },
   {
    "duration": 726,
    "start_time": "2022-02-24T17:08:04.615Z"
   },
   {
    "duration": 1297,
    "start_time": "2022-02-24T17:08:05.344Z"
   },
   {
    "duration": 501,
    "start_time": "2022-02-24T17:08:06.650Z"
   },
   {
    "duration": 8,
    "start_time": "2022-02-24T17:08:07.155Z"
   },
   {
    "duration": 2153,
    "start_time": "2022-02-24T17:08:07.166Z"
   },
   {
    "duration": 1439,
    "start_time": "2022-02-24T17:08:09.322Z"
   },
   {
    "duration": 1349,
    "start_time": "2022-02-24T17:08:10.764Z"
   },
   {
    "duration": 51,
    "start_time": "2022-02-24T17:08:12.118Z"
   },
   {
    "duration": 7,
    "start_time": "2022-02-24T17:08:12.173Z"
   },
   {
    "duration": 1087,
    "start_time": "2022-02-24T17:08:12.183Z"
   },
   {
    "duration": 881,
    "start_time": "2022-02-24T17:08:13.274Z"
   },
   {
    "duration": 833,
    "start_time": "2022-02-24T17:08:14.158Z"
   },
   {
    "duration": 30,
    "start_time": "2022-02-24T17:08:14.994Z"
   },
   {
    "duration": 39,
    "start_time": "2022-02-24T17:08:15.027Z"
   },
   {
    "duration": 44,
    "start_time": "2022-02-24T17:08:15.070Z"
   },
   {
    "duration": 33,
    "start_time": "2022-02-24T17:08:15.117Z"
   },
   {
    "duration": 1276,
    "start_time": "2022-02-24T20:29:02.968Z"
   },
   {
    "duration": 2,
    "start_time": "2022-02-24T20:29:04.246Z"
   },
   {
    "duration": 63,
    "start_time": "2022-02-24T20:29:04.251Z"
   },
   {
    "duration": 4,
    "start_time": "2022-02-24T20:29:04.316Z"
   },
   {
    "duration": 101,
    "start_time": "2022-02-24T20:29:04.322Z"
   },
   {
    "duration": 5,
    "start_time": "2022-02-24T20:29:04.425Z"
   },
   {
    "duration": 42,
    "start_time": "2022-02-24T20:29:04.432Z"
   },
   {
    "duration": 61,
    "start_time": "2022-02-24T20:29:04.477Z"
   },
   {
    "duration": 30,
    "start_time": "2022-02-24T20:29:04.541Z"
   },
   {
    "duration": 50,
    "start_time": "2022-02-24T20:29:04.573Z"
   },
   {
    "duration": 52,
    "start_time": "2022-02-24T20:29:04.625Z"
   },
   {
    "duration": 51,
    "start_time": "2022-02-24T20:29:04.679Z"
   },
   {
    "duration": 48,
    "start_time": "2022-02-24T20:29:04.732Z"
   },
   {
    "duration": 33,
    "start_time": "2022-02-24T20:29:04.782Z"
   },
   {
    "duration": 452,
    "start_time": "2022-02-24T20:29:04.817Z"
   },
   {
    "duration": 5,
    "start_time": "2022-02-24T20:29:05.270Z"
   },
   {
    "duration": 48,
    "start_time": "2022-02-24T20:29:05.277Z"
   },
   {
    "duration": 49,
    "start_time": "2022-02-24T20:29:05.327Z"
   },
   {
    "duration": 416,
    "start_time": "2022-02-24T20:29:05.378Z"
   },
   {
    "duration": 521,
    "start_time": "2022-02-24T20:29:05.797Z"
   },
   {
    "duration": 390,
    "start_time": "2022-02-24T20:29:06.320Z"
   },
   {
    "duration": 21219,
    "start_time": "2022-02-24T20:28:45.493Z"
   },
   {
    "duration": 21217,
    "start_time": "2022-02-24T20:28:45.496Z"
   },
   {
    "duration": 21216,
    "start_time": "2022-02-24T20:28:45.498Z"
   },
   {
    "duration": 21216,
    "start_time": "2022-02-24T20:28:45.500Z"
   },
   {
    "duration": 21215,
    "start_time": "2022-02-24T20:28:45.502Z"
   },
   {
    "duration": 21215,
    "start_time": "2022-02-24T20:28:45.504Z"
   },
   {
    "duration": 21214,
    "start_time": "2022-02-24T20:28:45.507Z"
   },
   {
    "duration": 21213,
    "start_time": "2022-02-24T20:28:45.509Z"
   },
   {
    "duration": 21213,
    "start_time": "2022-02-24T20:28:45.511Z"
   },
   {
    "duration": 21212,
    "start_time": "2022-02-24T20:28:45.513Z"
   },
   {
    "duration": 21212,
    "start_time": "2022-02-24T20:28:45.515Z"
   },
   {
    "duration": 21206,
    "start_time": "2022-02-24T20:28:45.522Z"
   },
   {
    "duration": 21206,
    "start_time": "2022-02-24T20:28:45.524Z"
   },
   {
    "duration": 21206,
    "start_time": "2022-02-24T20:28:45.526Z"
   },
   {
    "duration": 21205,
    "start_time": "2022-02-24T20:28:45.528Z"
   },
   {
    "duration": 543,
    "start_time": "2022-02-24T20:34:03.002Z"
   },
   {
    "duration": 547,
    "start_time": "2022-02-24T20:35:03.295Z"
   },
   {
    "duration": 1329,
    "start_time": "2022-02-24T20:35:03.844Z"
   },
   {
    "duration": 21225,
    "start_time": "2022-02-24T20:34:43.952Z"
   },
   {
    "duration": 21224,
    "start_time": "2022-02-24T20:34:43.954Z"
   },
   {
    "duration": 21224,
    "start_time": "2022-02-24T20:34:43.956Z"
   },
   {
    "duration": 21223,
    "start_time": "2022-02-24T20:34:43.959Z"
   },
   {
    "duration": 21222,
    "start_time": "2022-02-24T20:34:43.961Z"
   },
   {
    "duration": 21222,
    "start_time": "2022-02-24T20:34:43.963Z"
   },
   {
    "duration": 21221,
    "start_time": "2022-02-24T20:34:43.965Z"
   },
   {
    "duration": 21221,
    "start_time": "2022-02-24T20:34:43.967Z"
   },
   {
    "duration": 21221,
    "start_time": "2022-02-24T20:34:43.969Z"
   },
   {
    "duration": 21219,
    "start_time": "2022-02-24T20:34:43.972Z"
   },
   {
    "duration": 21218,
    "start_time": "2022-02-24T20:34:43.975Z"
   },
   {
    "duration": 21217,
    "start_time": "2022-02-24T20:34:43.977Z"
   },
   {
    "duration": 21211,
    "start_time": "2022-02-24T20:34:43.985Z"
   },
   {
    "duration": 21210,
    "start_time": "2022-02-24T20:34:43.988Z"
   },
   {
    "duration": 1039,
    "start_time": "2022-02-24T20:35:50.244Z"
   },
   {
    "duration": 788,
    "start_time": "2022-02-24T20:36:49.350Z"
   },
   {
    "duration": 716,
    "start_time": "2022-02-24T20:37:16.919Z"
   },
   {
    "duration": 296,
    "start_time": "2022-02-24T20:37:17.637Z"
   },
   {
    "duration": 5,
    "start_time": "2022-02-24T20:37:17.935Z"
   },
   {
    "duration": 1357,
    "start_time": "2022-02-24T20:37:17.942Z"
   },
   {
    "duration": 1032,
    "start_time": "2022-02-24T20:37:19.301Z"
   },
   {
    "duration": 976,
    "start_time": "2022-02-24T20:37:20.335Z"
   },
   {
    "duration": 31,
    "start_time": "2022-02-24T20:37:21.313Z"
   },
   {
    "duration": 4,
    "start_time": "2022-02-24T20:37:21.347Z"
   },
   {
    "duration": 645,
    "start_time": "2022-02-24T20:37:21.353Z"
   },
   {
    "duration": 573,
    "start_time": "2022-02-24T20:37:22.000Z"
   },
   {
    "duration": 531,
    "start_time": "2022-02-24T20:37:22.575Z"
   },
   {
    "duration": 23,
    "start_time": "2022-02-24T20:37:23.108Z"
   },
   {
    "duration": 13,
    "start_time": "2022-02-24T20:37:23.132Z"
   },
   {
    "duration": 42,
    "start_time": "2022-02-24T20:37:23.147Z"
   },
   {
    "duration": 11,
    "start_time": "2022-02-24T20:37:23.191Z"
   },
   {
    "duration": 1141,
    "start_time": "2022-02-24T20:38:30.908Z"
   },
   {
    "duration": 2,
    "start_time": "2022-02-24T20:38:32.051Z"
   },
   {
    "duration": 54,
    "start_time": "2022-02-24T20:38:32.055Z"
   },
   {
    "duration": 4,
    "start_time": "2022-02-24T20:38:32.112Z"
   },
   {
    "duration": 92,
    "start_time": "2022-02-24T20:38:32.118Z"
   },
   {
    "duration": 5,
    "start_time": "2022-02-24T20:38:32.212Z"
   },
   {
    "duration": 16,
    "start_time": "2022-02-24T20:38:32.219Z"
   },
   {
    "duration": 6,
    "start_time": "2022-02-24T20:38:32.238Z"
   },
   {
    "duration": 26,
    "start_time": "2022-02-24T20:38:32.246Z"
   },
   {
    "duration": 13,
    "start_time": "2022-02-24T20:38:32.273Z"
   },
   {
    "duration": 11,
    "start_time": "2022-02-24T20:38:32.288Z"
   },
   {
    "duration": 7,
    "start_time": "2022-02-24T20:38:32.301Z"
   },
   {
    "duration": 14,
    "start_time": "2022-02-24T20:38:32.309Z"
   },
   {
    "duration": 11,
    "start_time": "2022-02-24T20:38:32.325Z"
   },
   {
    "duration": 421,
    "start_time": "2022-02-24T20:38:32.338Z"
   },
   {
    "duration": 9,
    "start_time": "2022-02-24T20:38:32.761Z"
   },
   {
    "duration": 8,
    "start_time": "2022-02-24T20:38:32.771Z"
   },
   {
    "duration": 5,
    "start_time": "2022-02-24T20:38:32.781Z"
   },
   {
    "duration": 317,
    "start_time": "2022-02-24T20:38:32.788Z"
   },
   {
    "duration": 499,
    "start_time": "2022-02-24T20:38:33.107Z"
   },
   {
    "duration": 559,
    "start_time": "2022-02-24T20:38:33.607Z"
   },
   {
    "duration": 709,
    "start_time": "2022-02-24T20:38:34.168Z"
   },
   {
    "duration": 304,
    "start_time": "2022-02-24T20:38:34.881Z"
   },
   {
    "duration": 6,
    "start_time": "2022-02-24T20:38:35.187Z"
   },
   {
    "duration": 1426,
    "start_time": "2022-02-24T20:38:35.195Z"
   },
   {
    "duration": 1083,
    "start_time": "2022-02-24T20:38:36.624Z"
   },
   {
    "duration": 985,
    "start_time": "2022-02-24T20:38:37.709Z"
   },
   {
    "duration": 33,
    "start_time": "2022-02-24T20:38:38.696Z"
   },
   {
    "duration": 4,
    "start_time": "2022-02-24T20:38:38.731Z"
   },
   {
    "duration": 545,
    "start_time": "2022-02-24T20:38:38.736Z"
   },
   {
    "duration": 572,
    "start_time": "2022-02-24T20:38:39.283Z"
   },
   {
    "duration": 555,
    "start_time": "2022-02-24T20:38:39.856Z"
   },
   {
    "duration": 25,
    "start_time": "2022-02-24T20:38:40.413Z"
   },
   {
    "duration": 33,
    "start_time": "2022-02-24T20:38:40.441Z"
   },
   {
    "duration": 26,
    "start_time": "2022-02-24T20:38:40.477Z"
   },
   {
    "duration": 11,
    "start_time": "2022-02-24T20:38:40.505Z"
   },
   {
    "duration": 99,
    "start_time": "2022-02-24T20:39:17.928Z"
   },
   {
    "duration": 85,
    "start_time": "2022-02-24T20:39:21.289Z"
   },
   {
    "duration": 108,
    "start_time": "2022-02-24T20:39:32.549Z"
   },
   {
    "duration": 83,
    "start_time": "2022-02-24T20:39:38.974Z"
   },
   {
    "duration": 1176,
    "start_time": "2022-02-24T20:41:43.070Z"
   },
   {
    "duration": 1220,
    "start_time": "2022-02-24T20:44:29.956Z"
   },
   {
    "duration": 8,
    "start_time": "2022-02-24T20:44:31.178Z"
   },
   {
    "duration": 88,
    "start_time": "2022-02-24T20:44:31.188Z"
   },
   {
    "duration": 4,
    "start_time": "2022-02-24T20:44:31.278Z"
   },
   {
    "duration": 97,
    "start_time": "2022-02-24T20:44:31.284Z"
   },
   {
    "duration": 6,
    "start_time": "2022-02-24T20:44:31.383Z"
   },
   {
    "duration": 30,
    "start_time": "2022-02-24T20:44:31.391Z"
   },
   {
    "duration": 11,
    "start_time": "2022-02-24T20:44:31.423Z"
   },
   {
    "duration": 8,
    "start_time": "2022-02-24T20:44:31.437Z"
   },
   {
    "duration": 8,
    "start_time": "2022-02-24T20:44:31.448Z"
   },
   {
    "duration": 13,
    "start_time": "2022-02-24T20:44:31.457Z"
   },
   {
    "duration": 9,
    "start_time": "2022-02-24T20:44:31.471Z"
   },
   {
    "duration": 7,
    "start_time": "2022-02-24T20:44:31.482Z"
   },
   {
    "duration": 14,
    "start_time": "2022-02-24T20:44:31.491Z"
   },
   {
    "duration": 417,
    "start_time": "2022-02-24T20:44:31.506Z"
   },
   {
    "duration": 6,
    "start_time": "2022-02-24T20:44:31.925Z"
   },
   {
    "duration": 9,
    "start_time": "2022-02-24T20:44:31.933Z"
   },
   {
    "duration": 5,
    "start_time": "2022-02-24T20:44:31.944Z"
   },
   {
    "duration": 316,
    "start_time": "2022-02-24T20:44:31.969Z"
   },
   {
    "duration": 502,
    "start_time": "2022-02-24T20:44:32.287Z"
   },
   {
    "duration": 554,
    "start_time": "2022-02-24T20:44:32.791Z"
   },
   {
    "duration": 722,
    "start_time": "2022-02-24T20:44:33.348Z"
   },
   {
    "duration": 285,
    "start_time": "2022-02-24T20:44:34.072Z"
   },
   {
    "duration": 10,
    "start_time": "2022-02-24T20:44:34.359Z"
   },
   {
    "duration": 1435,
    "start_time": "2022-02-24T20:44:34.372Z"
   },
   {
    "duration": 1127,
    "start_time": "2022-02-24T20:44:35.809Z"
   },
   {
    "duration": 1043,
    "start_time": "2022-02-24T20:44:36.940Z"
   },
   {
    "duration": 34,
    "start_time": "2022-02-24T20:44:37.985Z"
   },
   {
    "duration": 12,
    "start_time": "2022-02-24T20:44:38.021Z"
   },
   {
    "duration": 567,
    "start_time": "2022-02-24T20:44:38.035Z"
   },
   {
    "duration": 553,
    "start_time": "2022-02-24T20:44:38.604Z"
   },
   {
    "duration": 546,
    "start_time": "2022-02-24T20:44:39.159Z"
   },
   {
    "duration": 24,
    "start_time": "2022-02-24T20:44:39.707Z"
   },
   {
    "duration": 13,
    "start_time": "2022-02-24T20:44:39.733Z"
   },
   {
    "duration": 22,
    "start_time": "2022-02-24T20:44:39.769Z"
   },
   {
    "duration": 12,
    "start_time": "2022-02-24T20:44:39.793Z"
   },
   {
    "duration": 1289,
    "start_time": "2022-02-24T20:57:06.380Z"
   },
   {
    "duration": 2,
    "start_time": "2022-02-24T20:57:07.671Z"
   },
   {
    "duration": 55,
    "start_time": "2022-02-24T20:57:07.676Z"
   },
   {
    "duration": 4,
    "start_time": "2022-02-24T20:57:07.734Z"
   },
   {
    "duration": 83,
    "start_time": "2022-02-24T20:57:07.740Z"
   },
   {
    "duration": 5,
    "start_time": "2022-02-24T20:57:07.825Z"
   },
   {
    "duration": 9,
    "start_time": "2022-02-24T20:57:07.832Z"
   },
   {
    "duration": 26,
    "start_time": "2022-02-24T20:57:07.843Z"
   },
   {
    "duration": 3,
    "start_time": "2022-02-24T20:57:07.872Z"
   },
   {
    "duration": 7,
    "start_time": "2022-02-24T20:57:07.877Z"
   },
   {
    "duration": 15,
    "start_time": "2022-02-24T20:57:07.886Z"
   },
   {
    "duration": 6,
    "start_time": "2022-02-24T20:57:07.903Z"
   },
   {
    "duration": 14,
    "start_time": "2022-02-24T20:57:07.911Z"
   },
   {
    "duration": 14,
    "start_time": "2022-02-24T20:57:07.927Z"
   },
   {
    "duration": 422,
    "start_time": "2022-02-24T20:57:07.943Z"
   },
   {
    "duration": 6,
    "start_time": "2022-02-24T20:57:08.368Z"
   },
   {
    "duration": 14,
    "start_time": "2022-02-24T20:57:08.375Z"
   },
   {
    "duration": 6,
    "start_time": "2022-02-24T20:57:08.391Z"
   },
   {
    "duration": 313,
    "start_time": "2022-02-24T20:57:08.399Z"
   },
   {
    "duration": 479,
    "start_time": "2022-02-24T20:57:08.714Z"
   },
   {
    "duration": 556,
    "start_time": "2022-02-24T20:57:09.195Z"
   },
   {
    "duration": 757,
    "start_time": "2022-02-24T20:57:09.753Z"
   },
   {
    "duration": 291,
    "start_time": "2022-02-24T20:57:10.514Z"
   },
   {
    "duration": 6,
    "start_time": "2022-02-24T20:57:10.807Z"
   },
   {
    "duration": 1442,
    "start_time": "2022-02-24T20:57:10.814Z"
   },
   {
    "duration": 1111,
    "start_time": "2022-02-24T20:57:12.258Z"
   },
   {
    "duration": 1069,
    "start_time": "2022-02-24T20:57:13.370Z"
   },
   {
    "duration": 39,
    "start_time": "2022-02-24T20:57:14.441Z"
   },
   {
    "duration": 4,
    "start_time": "2022-02-24T20:57:14.482Z"
   },
   {
    "duration": 581,
    "start_time": "2022-02-24T20:57:14.488Z"
   },
   {
    "duration": 569,
    "start_time": "2022-02-24T20:57:15.071Z"
   },
   {
    "duration": 554,
    "start_time": "2022-02-24T20:57:15.643Z"
   },
   {
    "duration": 22,
    "start_time": "2022-02-24T20:57:16.199Z"
   },
   {
    "duration": 12,
    "start_time": "2022-02-24T20:57:16.223Z"
   },
   {
    "duration": 48,
    "start_time": "2022-02-24T20:57:16.237Z"
   },
   {
    "duration": 31,
    "start_time": "2022-02-24T20:57:16.287Z"
   },
   {
    "duration": 1235,
    "start_time": "2022-02-24T21:02:49.419Z"
   },
   {
    "duration": 3,
    "start_time": "2022-02-24T21:02:50.656Z"
   },
   {
    "duration": 55,
    "start_time": "2022-02-24T21:02:50.662Z"
   },
   {
    "duration": 5,
    "start_time": "2022-02-24T21:02:50.719Z"
   },
   {
    "duration": 85,
    "start_time": "2022-02-24T21:02:50.725Z"
   },
   {
    "duration": 4,
    "start_time": "2022-02-24T21:02:50.812Z"
   },
   {
    "duration": 11,
    "start_time": "2022-02-24T21:02:50.818Z"
   },
   {
    "duration": 7,
    "start_time": "2022-02-24T21:02:50.831Z"
   },
   {
    "duration": 4,
    "start_time": "2022-02-24T21:02:50.842Z"
   },
   {
    "duration": 20,
    "start_time": "2022-02-24T21:02:50.849Z"
   },
   {
    "duration": 15,
    "start_time": "2022-02-24T21:02:50.871Z"
   },
   {
    "duration": 7,
    "start_time": "2022-02-24T21:02:50.888Z"
   },
   {
    "duration": 14,
    "start_time": "2022-02-24T21:02:50.897Z"
   },
   {
    "duration": 12,
    "start_time": "2022-02-24T21:02:50.913Z"
   },
   {
    "duration": 414,
    "start_time": "2022-02-24T21:02:50.927Z"
   },
   {
    "duration": 5,
    "start_time": "2022-02-24T21:02:51.343Z"
   },
   {
    "duration": 23,
    "start_time": "2022-02-24T21:02:51.350Z"
   },
   {
    "duration": 8,
    "start_time": "2022-02-24T21:02:51.374Z"
   },
   {
    "duration": 314,
    "start_time": "2022-02-24T21:02:51.383Z"
   },
   {
    "duration": 501,
    "start_time": "2022-02-24T21:02:51.699Z"
   },
   {
    "duration": 556,
    "start_time": "2022-02-24T21:02:52.202Z"
   },
   {
    "duration": 715,
    "start_time": "2022-02-24T21:02:52.760Z"
   },
   {
    "duration": 291,
    "start_time": "2022-02-24T21:02:53.477Z"
   },
   {
    "duration": 8,
    "start_time": "2022-02-24T21:02:53.770Z"
   },
   {
    "duration": 1470,
    "start_time": "2022-02-24T21:02:53.779Z"
   },
   {
    "duration": 1139,
    "start_time": "2022-02-24T21:02:55.252Z"
   },
   {
    "duration": 1049,
    "start_time": "2022-02-24T21:02:56.395Z"
   },
   {
    "duration": 47,
    "start_time": "2022-02-24T21:02:57.446Z"
   },
   {
    "duration": 5,
    "start_time": "2022-02-24T21:02:57.495Z"
   },
   {
    "duration": 586,
    "start_time": "2022-02-24T21:02:57.502Z"
   },
   {
    "duration": 573,
    "start_time": "2022-02-24T21:02:58.090Z"
   },
   {
    "duration": 581,
    "start_time": "2022-02-24T21:02:58.665Z"
   },
   {
    "duration": 37,
    "start_time": "2022-02-24T21:02:59.248Z"
   },
   {
    "duration": 14,
    "start_time": "2022-02-24T21:02:59.287Z"
   },
   {
    "duration": 22,
    "start_time": "2022-02-24T21:02:59.303Z"
   },
   {
    "duration": 13,
    "start_time": "2022-02-24T21:02:59.327Z"
   },
   {
    "duration": 1177,
    "start_time": "2022-02-25T14:04:05.309Z"
   },
   {
    "duration": 2,
    "start_time": "2022-02-25T14:04:06.488Z"
   },
   {
    "duration": 45,
    "start_time": "2022-02-25T14:04:06.492Z"
   },
   {
    "duration": 4,
    "start_time": "2022-02-25T14:04:06.539Z"
   },
   {
    "duration": 68,
    "start_time": "2022-02-25T14:04:06.545Z"
   },
   {
    "duration": 6,
    "start_time": "2022-02-25T14:04:06.631Z"
   },
   {
    "duration": 8,
    "start_time": "2022-02-25T14:04:06.639Z"
   },
   {
    "duration": 6,
    "start_time": "2022-02-25T14:04:06.649Z"
   },
   {
    "duration": 2,
    "start_time": "2022-02-25T14:04:06.659Z"
   },
   {
    "duration": 5,
    "start_time": "2022-02-25T14:04:06.664Z"
   },
   {
    "duration": 12,
    "start_time": "2022-02-25T14:04:06.670Z"
   },
   {
    "duration": 7,
    "start_time": "2022-02-25T14:04:06.684Z"
   },
   {
    "duration": 41,
    "start_time": "2022-02-25T14:04:06.693Z"
   },
   {
    "duration": 9,
    "start_time": "2022-02-25T14:04:06.736Z"
   },
   {
    "duration": 500,
    "start_time": "2022-02-25T14:04:06.746Z"
   },
   {
    "duration": 5,
    "start_time": "2022-02-25T14:04:07.248Z"
   },
   {
    "duration": 7,
    "start_time": "2022-02-25T14:04:07.255Z"
   },
   {
    "duration": 6,
    "start_time": "2022-02-25T14:04:07.264Z"
   },
   {
    "duration": 266,
    "start_time": "2022-02-25T14:04:07.272Z"
   },
   {
    "duration": 392,
    "start_time": "2022-02-25T14:04:07.540Z"
   },
   {
    "duration": 459,
    "start_time": "2022-02-25T14:04:07.934Z"
   },
   {
    "duration": 576,
    "start_time": "2022-02-25T14:04:08.395Z"
   },
   {
    "duration": 237,
    "start_time": "2022-02-25T14:04:08.972Z"
   },
   {
    "duration": 5,
    "start_time": "2022-02-25T14:04:09.211Z"
   },
   {
    "duration": 1953,
    "start_time": "2022-02-25T14:04:09.217Z"
   },
   {
    "duration": 871,
    "start_time": "2022-02-25T14:04:11.172Z"
   },
   {
    "duration": 819,
    "start_time": "2022-02-25T14:04:12.047Z"
   },
   {
    "duration": 28,
    "start_time": "2022-02-25T14:04:12.868Z"
   },
   {
    "duration": 3,
    "start_time": "2022-02-25T14:04:12.898Z"
   },
   {
    "duration": 459,
    "start_time": "2022-02-25T14:04:12.903Z"
   },
   {
    "duration": 457,
    "start_time": "2022-02-25T14:04:13.364Z"
   },
   {
    "duration": 434,
    "start_time": "2022-02-25T14:04:13.822Z"
   },
   {
    "duration": 19,
    "start_time": "2022-02-25T14:04:14.258Z"
   },
   {
    "duration": 11,
    "start_time": "2022-02-25T14:04:14.278Z"
   },
   {
    "duration": 17,
    "start_time": "2022-02-25T14:04:14.291Z"
   },
   {
    "duration": 10,
    "start_time": "2022-02-25T14:04:14.331Z"
   },
   {
    "duration": 470,
    "start_time": "2022-02-25T15:52:52.910Z"
   },
   {
    "duration": 1501,
    "start_time": "2022-02-25T15:53:16.415Z"
   },
   {
    "duration": 3,
    "start_time": "2022-02-25T15:53:17.919Z"
   },
   {
    "duration": 67,
    "start_time": "2022-02-25T15:53:17.925Z"
   },
   {
    "duration": 14,
    "start_time": "2022-02-25T15:53:17.996Z"
   },
   {
    "duration": 119,
    "start_time": "2022-02-25T15:53:18.013Z"
   },
   {
    "duration": 8,
    "start_time": "2022-02-25T15:53:18.134Z"
   },
   {
    "duration": 13,
    "start_time": "2022-02-25T15:53:18.144Z"
   },
   {
    "duration": 8,
    "start_time": "2022-02-25T15:53:18.162Z"
   },
   {
    "duration": 41,
    "start_time": "2022-02-25T15:53:18.174Z"
   },
   {
    "duration": 7,
    "start_time": "2022-02-25T15:53:18.218Z"
   },
   {
    "duration": 14,
    "start_time": "2022-02-25T15:53:18.227Z"
   },
   {
    "duration": 9,
    "start_time": "2022-02-25T15:53:18.244Z"
   },
   {
    "duration": 6,
    "start_time": "2022-02-25T15:53:18.256Z"
   },
   {
    "duration": 15,
    "start_time": "2022-02-25T15:53:18.311Z"
   },
   {
    "duration": 576,
    "start_time": "2022-02-25T15:53:18.328Z"
   },
   {
    "duration": 6,
    "start_time": "2022-02-25T15:53:18.907Z"
   },
   {
    "duration": 12,
    "start_time": "2022-02-25T15:53:18.915Z"
   },
   {
    "duration": 8,
    "start_time": "2022-02-25T15:53:18.929Z"
   },
   {
    "duration": 443,
    "start_time": "2022-02-25T15:53:18.939Z"
   },
   {
    "duration": 682,
    "start_time": "2022-02-25T15:53:19.385Z"
   },
   {
    "duration": 795,
    "start_time": "2022-02-25T15:53:20.070Z"
   },
   {
    "duration": 1020,
    "start_time": "2022-02-25T15:53:20.868Z"
   },
   {
    "duration": 428,
    "start_time": "2022-02-25T15:53:21.893Z"
   },
   {
    "duration": 8,
    "start_time": "2022-02-25T15:53:22.324Z"
   },
   {
    "duration": 2070,
    "start_time": "2022-02-25T15:53:22.335Z"
   },
   {
    "duration": 1341,
    "start_time": "2022-02-25T15:53:24.411Z"
   },
   {
    "duration": 1194,
    "start_time": "2022-02-25T15:53:25.755Z"
   },
   {
    "duration": 61,
    "start_time": "2022-02-25T15:53:26.951Z"
   },
   {
    "duration": 6,
    "start_time": "2022-02-25T15:53:27.015Z"
   },
   {
    "duration": 795,
    "start_time": "2022-02-25T15:53:27.024Z"
   },
   {
    "duration": 909,
    "start_time": "2022-02-25T15:53:27.821Z"
   },
   {
    "duration": 805,
    "start_time": "2022-02-25T15:53:28.732Z"
   },
   {
    "duration": 32,
    "start_time": "2022-02-25T15:53:29.540Z"
   },
   {
    "duration": 43,
    "start_time": "2022-02-25T15:53:29.574Z"
   },
   {
    "duration": 32,
    "start_time": "2022-02-25T15:53:29.620Z"
   },
   {
    "duration": 16,
    "start_time": "2022-02-25T15:53:29.655Z"
   },
   {
    "duration": 384,
    "start_time": "2022-02-25T15:53:53.718Z"
   },
   {
    "duration": 384,
    "start_time": "2022-02-25T15:54:02.640Z"
   },
   {
    "duration": 908,
    "start_time": "2022-02-25T15:56:54.682Z"
   },
   {
    "duration": 1041,
    "start_time": "2022-02-25T15:57:04.936Z"
   },
   {
    "duration": 587,
    "start_time": "2022-02-25T16:08:42.735Z"
   },
   {
    "duration": 52,
    "start_time": "2022-02-25T16:09:09.221Z"
   },
   {
    "duration": 46,
    "start_time": "2022-02-25T16:10:35.426Z"
   },
   {
    "duration": 46,
    "start_time": "2022-02-25T16:14:21.338Z"
   },
   {
    "duration": 52,
    "start_time": "2022-02-25T16:24:21.322Z"
   },
   {
    "duration": 1485,
    "start_time": "2022-02-25T17:46:56.200Z"
   },
   {
    "duration": 3,
    "start_time": "2022-02-25T17:46:57.688Z"
   },
   {
    "duration": 61,
    "start_time": "2022-02-25T17:46:57.711Z"
   },
   {
    "duration": 5,
    "start_time": "2022-02-25T17:46:57.775Z"
   },
   {
    "duration": 107,
    "start_time": "2022-02-25T17:46:57.783Z"
   },
   {
    "duration": 22,
    "start_time": "2022-02-25T17:46:57.892Z"
   },
   {
    "duration": 7,
    "start_time": "2022-02-25T17:46:57.918Z"
   },
   {
    "duration": 6,
    "start_time": "2022-02-25T17:46:57.928Z"
   },
   {
    "duration": 7,
    "start_time": "2022-02-25T17:46:57.937Z"
   },
   {
    "duration": 7,
    "start_time": "2022-02-25T17:46:57.947Z"
   },
   {
    "duration": 61,
    "start_time": "2022-02-25T17:46:57.956Z"
   },
   {
    "duration": 10,
    "start_time": "2022-02-25T17:46:58.019Z"
   },
   {
    "duration": 9,
    "start_time": "2022-02-25T17:46:58.031Z"
   },
   {
    "duration": 15,
    "start_time": "2022-02-25T17:46:58.043Z"
   },
   {
    "duration": 607,
    "start_time": "2022-02-25T17:46:58.060Z"
   },
   {
    "duration": 6,
    "start_time": "2022-02-25T17:46:58.670Z"
   },
   {
    "duration": 32,
    "start_time": "2022-02-25T17:46:58.678Z"
   },
   {
    "duration": 7,
    "start_time": "2022-02-25T17:46:58.713Z"
   },
   {
    "duration": 435,
    "start_time": "2022-02-25T17:46:58.722Z"
   },
   {
    "duration": 797,
    "start_time": "2022-02-25T17:46:59.160Z"
   },
   {
    "duration": 820,
    "start_time": "2022-02-25T17:46:59.959Z"
   },
   {
    "duration": 1050,
    "start_time": "2022-02-25T17:47:00.784Z"
   },
   {
    "duration": 431,
    "start_time": "2022-02-25T17:47:01.837Z"
   },
   {
    "duration": 12,
    "start_time": "2022-02-25T17:47:02.271Z"
   },
   {
    "duration": 2159,
    "start_time": "2022-02-25T17:47:02.285Z"
   },
   {
    "duration": 1469,
    "start_time": "2022-02-25T17:47:04.446Z"
   },
   {
    "duration": 1263,
    "start_time": "2022-02-25T17:47:05.918Z"
   },
   {
    "duration": 58,
    "start_time": "2022-02-25T17:47:07.184Z"
   },
   {
    "duration": 7,
    "start_time": "2022-02-25T17:47:07.246Z"
   },
   {
    "duration": 881,
    "start_time": "2022-02-25T17:47:07.255Z"
   },
   {
    "duration": 882,
    "start_time": "2022-02-25T17:47:08.139Z"
   },
   {
    "duration": 783,
    "start_time": "2022-02-25T17:47:09.023Z"
   },
   {
    "duration": 31,
    "start_time": "2022-02-25T17:47:09.811Z"
   },
   {
    "duration": 18,
    "start_time": "2022-02-25T17:47:09.845Z"
   },
   {
    "duration": 68,
    "start_time": "2022-02-25T17:47:09.866Z"
   },
   {
    "duration": 17,
    "start_time": "2022-02-25T17:47:09.936Z"
   },
   {
    "duration": 47,
    "start_time": "2022-02-25T17:56:30.486Z"
   },
   {
    "duration": 6,
    "start_time": "2022-02-25T18:22:29.437Z"
   },
   {
    "duration": 896,
    "start_time": "2022-02-25T18:22:31.652Z"
   },
   {
    "duration": 815,
    "start_time": "2022-02-25T18:22:45.371Z"
   },
   {
    "duration": 302,
    "start_time": "2022-02-25T18:23:04.142Z"
   },
   {
    "duration": 171,
    "start_time": "2022-02-25T18:23:19.870Z"
   },
   {
    "duration": 172,
    "start_time": "2022-02-25T18:23:27.031Z"
   },
   {
    "duration": 791,
    "start_time": "2022-02-25T18:24:48.298Z"
   },
   {
    "duration": 634,
    "start_time": "2022-02-25T18:25:12.780Z"
   },
   {
    "duration": 754,
    "start_time": "2022-02-25T18:29:28.433Z"
   },
   {
    "duration": 158,
    "start_time": "2022-02-25T18:29:34.803Z"
   },
   {
    "duration": 440,
    "start_time": "2022-02-25T18:29:58.692Z"
   },
   {
    "duration": 1353,
    "start_time": "2022-02-25T18:30:25.586Z"
   },
   {
    "duration": 918,
    "start_time": "2022-02-25T18:30:56.309Z"
   },
   {
    "duration": 836,
    "start_time": "2022-02-25T18:35:05.564Z"
   },
   {
    "duration": 7,
    "start_time": "2022-02-25T18:45:03.615Z"
   },
   {
    "duration": 818,
    "start_time": "2022-02-25T18:45:13.408Z"
   },
   {
    "duration": 6,
    "start_time": "2022-02-25T18:45:46.383Z"
   },
   {
    "duration": 1448,
    "start_time": "2022-02-25T19:30:01.934Z"
   },
   {
    "duration": 3,
    "start_time": "2022-02-25T19:30:03.384Z"
   },
   {
    "duration": 52,
    "start_time": "2022-02-25T19:30:03.391Z"
   },
   {
    "duration": 5,
    "start_time": "2022-02-25T19:30:03.445Z"
   },
   {
    "duration": 122,
    "start_time": "2022-02-25T19:30:03.453Z"
   },
   {
    "duration": 6,
    "start_time": "2022-02-25T19:30:03.578Z"
   },
   {
    "duration": 29,
    "start_time": "2022-02-25T19:30:03.586Z"
   },
   {
    "duration": 7,
    "start_time": "2022-02-25T19:30:03.619Z"
   },
   {
    "duration": 5,
    "start_time": "2022-02-25T19:30:03.628Z"
   },
   {
    "duration": 8,
    "start_time": "2022-02-25T19:30:03.635Z"
   },
   {
    "duration": 13,
    "start_time": "2022-02-25T19:30:03.645Z"
   },
   {
    "duration": 8,
    "start_time": "2022-02-25T19:30:03.660Z"
   },
   {
    "duration": 8,
    "start_time": "2022-02-25T19:30:03.710Z"
   },
   {
    "duration": 14,
    "start_time": "2022-02-25T19:30:03.721Z"
   },
   {
    "duration": 565,
    "start_time": "2022-02-25T19:30:03.737Z"
   },
   {
    "duration": 10,
    "start_time": "2022-02-25T19:30:04.305Z"
   },
   {
    "duration": 10,
    "start_time": "2022-02-25T19:30:04.317Z"
   },
   {
    "duration": 6,
    "start_time": "2022-02-25T19:30:04.329Z"
   },
   {
    "duration": 8,
    "start_time": "2022-02-25T19:30:04.337Z"
   },
   {
    "duration": 447,
    "start_time": "2022-02-25T19:30:04.347Z"
   },
   {
    "duration": 687,
    "start_time": "2022-02-25T19:30:04.796Z"
   },
   {
    "duration": 885,
    "start_time": "2022-02-25T19:30:05.485Z"
   },
   {
    "duration": 1084,
    "start_time": "2022-02-25T19:30:06.375Z"
   },
   {
    "duration": 442,
    "start_time": "2022-02-25T19:30:07.462Z"
   },
   {
    "duration": 9,
    "start_time": "2022-02-25T19:30:07.906Z"
   },
   {
    "duration": 2367,
    "start_time": "2022-02-25T19:30:07.918Z"
   },
   {
    "duration": 1475,
    "start_time": "2022-02-25T19:30:10.287Z"
   },
   {
    "duration": 1396,
    "start_time": "2022-02-25T19:30:11.765Z"
   },
   {
    "duration": 65,
    "start_time": "2022-02-25T19:30:13.164Z"
   },
   {
    "duration": 6,
    "start_time": "2022-02-25T19:30:13.232Z"
   },
   {
    "duration": 872,
    "start_time": "2022-02-25T19:30:13.241Z"
   },
   {
    "duration": 877,
    "start_time": "2022-02-25T19:30:14.117Z"
   },
   {
    "duration": 868,
    "start_time": "2022-02-25T19:30:14.997Z"
   },
   {
    "duration": 46,
    "start_time": "2022-02-25T19:30:15.867Z"
   },
   {
    "duration": 25,
    "start_time": "2022-02-25T19:30:15.916Z"
   },
   {
    "duration": 33,
    "start_time": "2022-02-25T19:30:15.943Z"
   },
   {
    "duration": 48,
    "start_time": "2022-02-25T19:30:15.978Z"
   },
   {
    "duration": 221,
    "start_time": "2022-02-26T14:52:56.161Z"
   },
   {
    "duration": 1281,
    "start_time": "2022-02-26T14:53:01.264Z"
   },
   {
    "duration": 3,
    "start_time": "2022-02-26T14:53:02.547Z"
   },
   {
    "duration": 49,
    "start_time": "2022-02-26T14:53:02.552Z"
   },
   {
    "duration": 4,
    "start_time": "2022-02-26T14:53:02.603Z"
   },
   {
    "duration": 83,
    "start_time": "2022-02-26T14:53:02.609Z"
   },
   {
    "duration": 8,
    "start_time": "2022-02-26T14:53:02.694Z"
   },
   {
    "duration": 10,
    "start_time": "2022-02-26T14:53:02.704Z"
   },
   {
    "duration": 13,
    "start_time": "2022-02-26T14:53:02.717Z"
   },
   {
    "duration": 8,
    "start_time": "2022-02-26T14:53:02.733Z"
   },
   {
    "duration": 20,
    "start_time": "2022-02-26T14:53:02.743Z"
   },
   {
    "duration": 13,
    "start_time": "2022-02-26T14:53:02.765Z"
   },
   {
    "duration": 7,
    "start_time": "2022-02-26T14:53:02.780Z"
   },
   {
    "duration": 18,
    "start_time": "2022-02-26T14:53:02.789Z"
   },
   {
    "duration": 15,
    "start_time": "2022-02-26T14:53:02.809Z"
   },
   {
    "duration": 473,
    "start_time": "2022-02-26T14:53:02.826Z"
   },
   {
    "duration": 5,
    "start_time": "2022-02-26T14:53:03.300Z"
   },
   {
    "duration": 16,
    "start_time": "2022-02-26T14:53:03.307Z"
   },
   {
    "duration": 10,
    "start_time": "2022-02-26T14:53:03.325Z"
   },
   {
    "duration": 10,
    "start_time": "2022-02-26T14:53:03.337Z"
   },
   {
    "duration": 338,
    "start_time": "2022-02-26T14:53:03.348Z"
   },
   {
    "duration": 538,
    "start_time": "2022-02-26T14:53:03.688Z"
   },
   {
    "duration": 555,
    "start_time": "2022-02-26T14:53:04.228Z"
   },
   {
    "duration": 658,
    "start_time": "2022-02-26T14:53:04.785Z"
   },
   {
    "duration": 302,
    "start_time": "2022-02-26T14:53:05.444Z"
   },
   {
    "duration": 5,
    "start_time": "2022-02-26T14:53:05.748Z"
   },
   {
    "duration": 1623,
    "start_time": "2022-02-26T14:53:05.762Z"
   },
   {
    "duration": 943,
    "start_time": "2022-02-26T14:53:07.389Z"
   },
   {
    "duration": 882,
    "start_time": "2022-02-26T14:53:08.334Z"
   },
   {
    "duration": 29,
    "start_time": "2022-02-26T14:53:09.218Z"
   },
   {
    "duration": 16,
    "start_time": "2022-02-26T14:53:09.249Z"
   },
   {
    "duration": 503,
    "start_time": "2022-02-26T14:53:09.267Z"
   },
   {
    "duration": 506,
    "start_time": "2022-02-26T14:53:09.772Z"
   },
   {
    "duration": 525,
    "start_time": "2022-02-26T14:53:10.281Z"
   },
   {
    "duration": 22,
    "start_time": "2022-02-26T14:53:10.808Z"
   },
   {
    "duration": 31,
    "start_time": "2022-02-26T14:53:10.832Z"
   },
   {
    "duration": 22,
    "start_time": "2022-02-26T14:53:10.865Z"
   },
   {
    "duration": 19,
    "start_time": "2022-02-26T14:53:10.889Z"
   },
   {
    "duration": 11,
    "start_time": "2022-02-26T14:53:10.910Z"
   },
   {
    "duration": 1130,
    "start_time": "2022-05-21T15:50:27.817Z"
   },
   {
    "duration": 2,
    "start_time": "2022-05-21T15:50:28.950Z"
   },
   {
    "duration": 215,
    "start_time": "2022-05-21T15:50:28.954Z"
   },
   {
    "duration": 3,
    "start_time": "2022-05-21T15:50:29.172Z"
   },
   {
    "duration": 93,
    "start_time": "2022-05-21T15:50:29.177Z"
   },
   {
    "duration": 5,
    "start_time": "2022-05-21T15:50:29.271Z"
   },
   {
    "duration": 9,
    "start_time": "2022-05-21T15:50:29.278Z"
   },
   {
    "duration": 17,
    "start_time": "2022-05-21T15:50:29.288Z"
   },
   {
    "duration": 8,
    "start_time": "2022-05-21T15:50:29.307Z"
   },
   {
    "duration": 8,
    "start_time": "2022-05-21T15:50:29.317Z"
   },
   {
    "duration": 11,
    "start_time": "2022-05-21T15:50:29.326Z"
   },
   {
    "duration": 7,
    "start_time": "2022-05-21T15:50:29.339Z"
   },
   {
    "duration": 12,
    "start_time": "2022-05-21T15:50:29.348Z"
   },
   {
    "duration": 9,
    "start_time": "2022-05-21T15:50:29.361Z"
   },
   {
    "duration": 408,
    "start_time": "2022-05-21T15:50:29.372Z"
   },
   {
    "duration": 7,
    "start_time": "2022-05-21T15:50:29.782Z"
   },
   {
    "duration": 15,
    "start_time": "2022-05-21T15:50:29.791Z"
   },
   {
    "duration": 4,
    "start_time": "2022-05-21T15:50:29.809Z"
   },
   {
    "duration": 9,
    "start_time": "2022-05-21T15:50:29.815Z"
   },
   {
    "duration": 252,
    "start_time": "2022-05-21T15:50:29.826Z"
   },
   {
    "duration": 388,
    "start_time": "2022-05-21T15:50:30.080Z"
   },
   {
    "duration": 319,
    "start_time": "2022-05-21T15:50:30.470Z"
   },
   {
    "duration": 495,
    "start_time": "2022-05-21T15:50:30.791Z"
   },
   {
    "duration": 208,
    "start_time": "2022-05-21T15:50:31.289Z"
   },
   {
    "duration": 6,
    "start_time": "2022-05-21T15:50:31.500Z"
   },
   {
    "duration": 589,
    "start_time": "2022-05-21T15:50:31.507Z"
   },
   {
    "duration": 539,
    "start_time": "2022-05-21T15:50:32.101Z"
   },
   {
    "duration": 485,
    "start_time": "2022-05-21T15:50:32.643Z"
   },
   {
    "duration": 23,
    "start_time": "2022-05-21T15:50:33.129Z"
   },
   {
    "duration": 4,
    "start_time": "2022-05-21T15:50:33.153Z"
   },
   {
    "duration": 407,
    "start_time": "2022-05-21T15:50:33.159Z"
   },
   {
    "duration": 417,
    "start_time": "2022-05-21T15:50:33.568Z"
   },
   {
    "duration": 388,
    "start_time": "2022-05-21T15:50:33.987Z"
   },
   {
    "duration": 26,
    "start_time": "2022-05-21T15:50:34.377Z"
   },
   {
    "duration": 10,
    "start_time": "2022-05-21T15:50:34.405Z"
   },
   {
    "duration": 38,
    "start_time": "2022-05-21T15:50:34.416Z"
   },
   {
    "duration": 17,
    "start_time": "2022-05-21T15:50:34.456Z"
   }
  ],
  "colab": {
   "collapsed_sections": [
    "4o7bHqqQ6gzr",
    "mz88RfrG6kVp",
    "AotpcWR_BOM2",
    "rCYbEY3CLp61",
    "sAHPFNq1NKSi",
    "GdMk1iRPtiRP",
    "0rkSmNvQfFuA"
   ],
   "name": "sprint_05_games_project",
   "provenance": []
  },
  "kernelspec": {
   "display_name": "Python 3 (ipykernel)",
   "language": "python",
   "name": "python3"
  },
  "language_info": {
   "codemirror_mode": {
    "name": "ipython",
    "version": 3
   },
   "file_extension": ".py",
   "mimetype": "text/x-python",
   "name": "python",
   "nbconvert_exporter": "python",
   "pygments_lexer": "ipython3",
   "version": "3.9.7"
  },
  "toc": {
   "base_numbering": 1,
   "nav_menu": {},
   "number_sections": false,
   "sideBar": true,
   "skip_h1_title": false,
   "title_cell": "Table of Contents",
   "title_sidebar": "Contents",
   "toc_cell": false,
   "toc_position": {
    "height": "calc(100% - 180px)",
    "left": "10px",
    "top": "150px",
    "width": "348.352px"
   },
   "toc_section_display": true,
   "toc_window_display": true
  }
 },
 "nbformat": 4,
 "nbformat_minor": 1
}

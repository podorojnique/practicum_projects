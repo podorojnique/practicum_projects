{
 "cells": [
  {
   "cell_type": "markdown",
   "metadata": {
    "id": "E0vqbgi9ay0H"
   },
   "source": [
    "# Яндекс.Музыка"
   ]
  },
  {
   "cell_type": "markdown",
   "metadata": {
    "id": "VUC88oWjTJw2"
   },
   "source": [
    "Сравнение Москвы и Петербурга окружено мифами. Например:\n",
    " * Москва — мегаполис, подчинённый жёсткому ритму рабочей недели;\n",
    " * Петербург — культурная столица, со своими вкусами.\n",
    "\n",
    "На данных Яндекс.Музыки вы сравните поведение пользователей двух столиц.\n",
    "\n",
    "**Цель исследования** — проверьте три гипотезы:\n",
    "1. Активность пользователей зависит от дня недели. Причём в Москве и Петербурге это проявляется по-разному.\n",
    "2. В понедельник утром в Москве преобладают одни жанры, а в Петербурге — другие. Так же и вечером пятницы преобладают разные жанры — в зависимости от города. \n",
    "3. Москва и Петербург предпочитают разные жанры музыки. В Москве чаще слушают поп-музыку, в Петербурге — русский рэп."
   ]
  },
  {
   "cell_type": "markdown",
   "metadata": {
    "id": "Ml1hmfXC_Zcs"
   },
   "source": [
    "## Обзор данных\n",
    "\n",
    "Составьте первое представление о данных Яндекс.Музыки.\n",
    "\n",
    "\n"
   ]
  },
  {
   "cell_type": "markdown",
   "metadata": {
    "id": "57eAOGIz_Zcs"
   },
   "source": [
    "Основной инструмент аналитика — `pandas`. Импортируйте эту библиотеку."
   ]
  },
  {
   "cell_type": "code",
   "execution_count": 1,
   "metadata": {
    "id": "AXN7PHPN_Zcs"
   },
   "outputs": [],
   "source": [
    "# импорт библиотеки pandas\n",
    "import pandas as pd"
   ]
  },
  {
   "cell_type": "markdown",
   "metadata": {
    "id": "SG23P8tt_Zcs"
   },
   "source": [
    "Прочитайте файл `yandex_music_project.csv` из папки `/datasets` и сохраните его в переменной `df`:"
   ]
  },
  {
   "cell_type": "code",
   "execution_count": 2,
   "metadata": {
    "id": "fFVu7vqh_Zct"
   },
   "outputs": [],
   "source": [
    "# чтение файла с данными и сохранение в df\n",
    "df = pd.read_csv('/datasets/yandex_music_project.csv')"
   ]
  },
  {
   "cell_type": "markdown",
   "metadata": {
    "id": "rDoOMd3uTqnZ"
   },
   "source": [
    "Выведите на экран первые десять строк таблицы:"
   ]
  },
  {
   "cell_type": "code",
   "execution_count": 3,
   "metadata": {
    "id": "oWTVX3gW_Zct"
   },
   "outputs": [
    {
     "data": {
      "text/html": [
       "<div>\n",
       "<style scoped>\n",
       "    .dataframe tbody tr th:only-of-type {\n",
       "        vertical-align: middle;\n",
       "    }\n",
       "\n",
       "    .dataframe tbody tr th {\n",
       "        vertical-align: top;\n",
       "    }\n",
       "\n",
       "    .dataframe thead th {\n",
       "        text-align: right;\n",
       "    }\n",
       "</style>\n",
       "<table border=\"1\" class=\"dataframe\">\n",
       "  <thead>\n",
       "    <tr style=\"text-align: right;\">\n",
       "      <th></th>\n",
       "      <th>userID</th>\n",
       "      <th>Track</th>\n",
       "      <th>artist</th>\n",
       "      <th>genre</th>\n",
       "      <th>City</th>\n",
       "      <th>time</th>\n",
       "      <th>Day</th>\n",
       "    </tr>\n",
       "  </thead>\n",
       "  <tbody>\n",
       "    <tr>\n",
       "      <td>0</td>\n",
       "      <td>FFB692EC</td>\n",
       "      <td>Kamigata To Boots</td>\n",
       "      <td>The Mass Missile</td>\n",
       "      <td>rock</td>\n",
       "      <td>Saint-Petersburg</td>\n",
       "      <td>20:28:33</td>\n",
       "      <td>Wednesday</td>\n",
       "    </tr>\n",
       "    <tr>\n",
       "      <td>1</td>\n",
       "      <td>55204538</td>\n",
       "      <td>Delayed Because of Accident</td>\n",
       "      <td>Andreas Rönnberg</td>\n",
       "      <td>rock</td>\n",
       "      <td>Moscow</td>\n",
       "      <td>14:07:09</td>\n",
       "      <td>Friday</td>\n",
       "    </tr>\n",
       "    <tr>\n",
       "      <td>2</td>\n",
       "      <td>20EC38</td>\n",
       "      <td>Funiculì funiculà</td>\n",
       "      <td>Mario Lanza</td>\n",
       "      <td>pop</td>\n",
       "      <td>Saint-Petersburg</td>\n",
       "      <td>20:58:07</td>\n",
       "      <td>Wednesday</td>\n",
       "    </tr>\n",
       "    <tr>\n",
       "      <td>3</td>\n",
       "      <td>A3DD03C9</td>\n",
       "      <td>Dragons in the Sunset</td>\n",
       "      <td>Fire + Ice</td>\n",
       "      <td>folk</td>\n",
       "      <td>Saint-Petersburg</td>\n",
       "      <td>08:37:09</td>\n",
       "      <td>Monday</td>\n",
       "    </tr>\n",
       "    <tr>\n",
       "      <td>4</td>\n",
       "      <td>E2DC1FAE</td>\n",
       "      <td>Soul People</td>\n",
       "      <td>Space Echo</td>\n",
       "      <td>dance</td>\n",
       "      <td>Moscow</td>\n",
       "      <td>08:34:34</td>\n",
       "      <td>Monday</td>\n",
       "    </tr>\n",
       "    <tr>\n",
       "      <td>5</td>\n",
       "      <td>842029A1</td>\n",
       "      <td>Преданная</td>\n",
       "      <td>IMPERVTOR</td>\n",
       "      <td>rusrap</td>\n",
       "      <td>Saint-Petersburg</td>\n",
       "      <td>13:09:41</td>\n",
       "      <td>Friday</td>\n",
       "    </tr>\n",
       "    <tr>\n",
       "      <td>6</td>\n",
       "      <td>4CB90AA5</td>\n",
       "      <td>True</td>\n",
       "      <td>Roman Messer</td>\n",
       "      <td>dance</td>\n",
       "      <td>Moscow</td>\n",
       "      <td>13:00:07</td>\n",
       "      <td>Wednesday</td>\n",
       "    </tr>\n",
       "    <tr>\n",
       "      <td>7</td>\n",
       "      <td>F03E1C1F</td>\n",
       "      <td>Feeling This Way</td>\n",
       "      <td>Polina Griffith</td>\n",
       "      <td>dance</td>\n",
       "      <td>Moscow</td>\n",
       "      <td>20:47:49</td>\n",
       "      <td>Wednesday</td>\n",
       "    </tr>\n",
       "    <tr>\n",
       "      <td>8</td>\n",
       "      <td>8FA1D3BE</td>\n",
       "      <td>И вновь продолжается бой</td>\n",
       "      <td>NaN</td>\n",
       "      <td>ruspop</td>\n",
       "      <td>Moscow</td>\n",
       "      <td>09:17:40</td>\n",
       "      <td>Friday</td>\n",
       "    </tr>\n",
       "    <tr>\n",
       "      <td>9</td>\n",
       "      <td>E772D5C0</td>\n",
       "      <td>Pessimist</td>\n",
       "      <td>NaN</td>\n",
       "      <td>dance</td>\n",
       "      <td>Saint-Petersburg</td>\n",
       "      <td>21:20:49</td>\n",
       "      <td>Wednesday</td>\n",
       "    </tr>\n",
       "  </tbody>\n",
       "</table>\n",
       "</div>"
      ],
      "text/plain": [
       "     userID                        Track            artist   genre  \\\n",
       "0  FFB692EC            Kamigata To Boots  The Mass Missile    rock   \n",
       "1  55204538  Delayed Because of Accident  Andreas Rönnberg    rock   \n",
       "2    20EC38            Funiculì funiculà       Mario Lanza     pop   \n",
       "3  A3DD03C9        Dragons in the Sunset        Fire + Ice    folk   \n",
       "4  E2DC1FAE                  Soul People        Space Echo   dance   \n",
       "5  842029A1                    Преданная         IMPERVTOR  rusrap   \n",
       "6  4CB90AA5                         True      Roman Messer   dance   \n",
       "7  F03E1C1F             Feeling This Way   Polina Griffith   dance   \n",
       "8  8FA1D3BE     И вновь продолжается бой               NaN  ruspop   \n",
       "9  E772D5C0                    Pessimist               NaN   dance   \n",
       "\n",
       "             City        time        Day  \n",
       "0  Saint-Petersburg  20:28:33  Wednesday  \n",
       "1            Moscow  14:07:09     Friday  \n",
       "2  Saint-Petersburg  20:58:07  Wednesday  \n",
       "3  Saint-Petersburg  08:37:09     Monday  \n",
       "4            Moscow  08:34:34     Monday  \n",
       "5  Saint-Petersburg  13:09:41     Friday  \n",
       "6            Moscow  13:00:07  Wednesday  \n",
       "7            Moscow  20:47:49  Wednesday  \n",
       "8            Moscow  09:17:40     Friday  \n",
       "9  Saint-Petersburg  21:20:49  Wednesday  "
      ]
     },
     "execution_count": 3,
     "metadata": {},
     "output_type": "execute_result"
    }
   ],
   "source": [
    "# получение первых 10 строк таблицы df\n",
    "df.head(10)"
   ]
  },
  {
   "cell_type": "markdown",
   "metadata": {
    "id": "EO73Kwic_Zct"
   },
   "source": [
    "Одной командой получить общую информацию о таблице:"
   ]
  },
  {
   "cell_type": "code",
   "execution_count": 4,
   "metadata": {
    "id": "DSf2kIb-_Zct"
   },
   "outputs": [
    {
     "name": "stdout",
     "output_type": "stream",
     "text": [
      "<class 'pandas.core.frame.DataFrame'>\n",
      "RangeIndex: 65079 entries, 0 to 65078\n",
      "Data columns (total 7 columns):\n",
      "  userID    65079 non-null object\n",
      "Track       63848 non-null object\n",
      "artist      57876 non-null object\n",
      "genre       63881 non-null object\n",
      "  City      65079 non-null object\n",
      "time        65079 non-null object\n",
      "Day         65079 non-null object\n",
      "dtypes: object(7)\n",
      "memory usage: 3.5+ MB\n"
     ]
    }
   ],
   "source": [
    "# получение общей информации о данных в таблице df\n",
    "df.info()"
   ]
  },
  {
   "cell_type": "markdown",
   "metadata": {
    "id": "TaQ2Iwbr_Zct"
   },
   "source": [
    "Итак, в таблице семь столбцов. Тип данных во всех столбцах — `object`.\n",
    "\n",
    "Согласно документации к данным:\n",
    "* `userID` — идентификатор пользователя;\n",
    "* `Track` — название трека;  \n",
    "* `artist` — имя исполнителя;\n",
    "* `genre` — название жанра;\n",
    "* `City` — город пользователя;\n",
    "* `time` — время начала прослушивания;\n",
    "* `Day` — день недели.\n",
    "\n",
    "В названиях колонок видны три нарушения стиля:\n",
    "1. Строчные буквы сочетаются с прописными.\n",
    "2. Встречаются пробелы.\n",
    "3. Отсутствие знака нижнего подчеркивания между составными словами, т.н. ВерблюжийРегистр.\n",
    "\n",
    "\n",
    "\n",
    "Количество значений в столбцах различается. Значит, в данных есть пропущенные значения.\n"
   ]
  },
  {
   "cell_type": "markdown",
   "metadata": {
    "id": "MCB6-dXG_Zct"
   },
   "source": [
    "**Выводы**\n",
    "\n",
    "В каждой строке таблицы — данные о прослушанном треке. Часть колонок описывает саму композицию: название, исполнителя и жанр. Остальные данные рассказывают о пользователе: из какого он города, когда он слушал музыку. \n",
    "\n",
    "Предварительно можно утверждать, что, данных достаточно для проверки гипотез. Но встречаются пропуски в данных, а в названиях колонок — расхождения с хорошим стилем.\n",
    "\n",
    "Чтобы двигаться дальше, нужно устранить проблемы в данных."
   ]
  },
  {
   "cell_type": "markdown",
   "metadata": {
    "id": "SjYF6Ub9_Zct"
   },
   "source": [
    "## Предобработка данных\n",
    "Исправьте стиль в заголовках столбцов, исключите пропуски. Затем проверьте данные на дубликаты."
   ]
  },
  {
   "cell_type": "markdown",
   "metadata": {
    "id": "dIaKXr29_Zct"
   },
   "source": [
    "### Стиль заголовков\n",
    "Выведите на экран названия столбцов:"
   ]
  },
  {
   "cell_type": "code",
   "execution_count": 5,
   "metadata": {
    "id": "oKOTdF_Q_Zct"
   },
   "outputs": [
    {
     "data": {
      "text/plain": [
       "Index(['  userID', 'Track', 'artist', 'genre', '  City  ', 'time', 'Day'], dtype='object')"
      ]
     },
     "execution_count": 5,
     "metadata": {},
     "output_type": "execute_result"
    }
   ],
   "source": [
    "# перечень названий столбцов таблицы df\n",
    "df.columns"
   ]
  },
  {
   "cell_type": "markdown",
   "metadata": {
    "id": "zj5534cv_Zct"
   },
   "source": [
    "Приведите названия в соответствие с хорошим стилем:\n",
    "* несколько слов в названии запишите в «змеином_регистре»,\n",
    "* все символы сделайте строчными,\n",
    "* устраните пробелы.\n",
    "\n",
    "Для этого переименуйте колонки так:\n",
    "* `'  userID'` → `'user_id'`;\n",
    "* `'Track'` → `'track'`;\n",
    "* `'  City  '` → `'city'`;\n",
    "* `'Day'` → `'day'`."
   ]
  },
  {
   "cell_type": "code",
   "execution_count": 6,
   "metadata": {
    "id": "ISlFqs5y_Zct"
   },
   "outputs": [],
   "source": [
    "# переименование столбцов\n",
    "df = df.rename(columns = {'  userID':'user_id', 'Track':'track', '  City  ':'city', 'Day':'day'})"
   ]
  },
  {
   "cell_type": "markdown",
   "metadata": {
    "id": "1dqbh00J_Zct"
   },
   "source": [
    "Проверьте результат. Для этого ещё раз выведите на экран названия столбцов:"
   ]
  },
  {
   "cell_type": "code",
   "execution_count": 7,
   "metadata": {
    "id": "d4NOAmTW_Zct"
   },
   "outputs": [
    {
     "data": {
      "text/plain": [
       "Index(['user_id', 'track', 'artist', 'genre', 'city', 'time', 'day'], dtype='object')"
      ]
     },
     "execution_count": 7,
     "metadata": {},
     "output_type": "execute_result"
    }
   ],
   "source": [
    "# проверка результатов - перечень названий столбцов\n",
    "df.columns"
   ]
  },
  {
   "cell_type": "markdown",
   "metadata": {
    "id": "5ISfbcfY_Zct"
   },
   "source": [
    "### Пропуски значений\n",
    "Сначала посчитайте, сколько в таблице пропущенных значений. Для этого достаточно двух методов `pandas`:"
   ]
  },
  {
   "cell_type": "code",
   "execution_count": 8,
   "metadata": {
    "id": "RskX29qr_Zct"
   },
   "outputs": [
    {
     "data": {
      "text/plain": [
       "user_id       0\n",
       "track      1231\n",
       "artist     7203\n",
       "genre      1198\n",
       "city          0\n",
       "time          0\n",
       "day           0\n",
       "dtype: int64"
      ]
     },
     "execution_count": 8,
     "metadata": {},
     "output_type": "execute_result"
    }
   ],
   "source": [
    "# подсчёт пропусков\n",
    "df.isna().sum()"
   ]
  },
  {
   "cell_type": "markdown",
   "metadata": {
    "id": "qubhgnlO_Zct"
   },
   "source": [
    "Не все пропущенные значения влияют на исследование. Так в `track` и `artist` пропуски не важны для вашей работы. Достаточно заменить их явными обозначениями.\n",
    "\n",
    "Но пропуски в `genre` могут помешать сравнению музыкальных вкусов в Москве и Санкт-Петербурге. На практике было бы правильно установить причину пропусков и восстановить данные. Такой возможности нет в учебном проекте. Придётся:\n",
    "* заполнить и эти пропуски явными обозначениями,\n",
    "* оценить, насколько они повредят расчётам. "
   ]
  },
  {
   "cell_type": "markdown",
   "metadata": {
    "id": "fSv2laPA_Zct"
   },
   "source": [
    "Замените пропущенные значения в столбцах `track`, `artist` и `genre` на строку `'unknown'`. Для этого создайте список `columns_to_replace`, переберите его элементы циклом `for` и для каждого столбца выполните замену пропущенных значений:"
   ]
  },
  {
   "cell_type": "code",
   "execution_count": 9,
   "metadata": {
    "id": "KplB5qWs_Zct"
   },
   "outputs": [],
   "source": [
    "# перебор названий столбцов в цикле и замена пропущенных значений на 'unknown'\n",
    "# empty - индекс, по которому проходят итерации в указанных столбцах. \n",
    "# Если цикл находит пустую ячейку в одном из столбцов, заменяет ее значением 'unknown'\n",
    "columns_to_replace = ['track', 'artist', 'genre']\n",
    "for empty in columns_to_replace:\n",
    "    df[empty] = df[empty].fillna('unknown')"
   ]
  },
  {
   "cell_type": "markdown",
   "metadata": {
    "id": "Ilsm-MZo_Zct"
   },
   "source": [
    "Убедитесь, что в таблице не осталось пропусков. Для этого ещё раз посчитайте пропущенные значения."
   ]
  },
  {
   "cell_type": "code",
   "execution_count": 10,
   "metadata": {
    "id": "Tq4nYRX4_Zct"
   },
   "outputs": [
    {
     "data": {
      "text/plain": [
       "user_id    0\n",
       "track      0\n",
       "artist     0\n",
       "genre      0\n",
       "city       0\n",
       "time       0\n",
       "day        0\n",
       "dtype: int64"
      ]
     },
     "execution_count": 10,
     "metadata": {},
     "output_type": "execute_result"
    }
   ],
   "source": [
    "# подсчёт пропусков\n",
    "df.isna().sum()"
   ]
  },
  {
   "cell_type": "markdown",
   "metadata": {
    "id": "BWKRtBJ3_Zct"
   },
   "source": [
    "### Дубликаты\n",
    "Посчитайте явные дубликаты в таблице одной командой:"
   ]
  },
  {
   "cell_type": "code",
   "execution_count": 11,
   "metadata": {
    "id": "36eES_S0_Zct"
   },
   "outputs": [
    {
     "data": {
      "text/plain": [
       "3826"
      ]
     },
     "execution_count": 11,
     "metadata": {},
     "output_type": "execute_result"
    }
   ],
   "source": [
    "# подсчёт явных дубликатов\n",
    "df.duplicated().sum()"
   ]
  },
  {
   "cell_type": "markdown",
   "metadata": {
    "id": "Ot25h6XR_Zct"
   },
   "source": [
    "Вызовите специальный метод `pandas`, чтобы удалить явные дубликаты:"
   ]
  },
  {
   "cell_type": "code",
   "execution_count": 12,
   "metadata": {
    "id": "exFHq6tt_Zct"
   },
   "outputs": [],
   "source": [
    "#удаление явных дубликатов (с удалением старых индексов и формированием новых)\n",
    "df = df.drop_duplicates().reset_index(drop=True)"
   ]
  },
  {
   "cell_type": "markdown",
   "metadata": {
    "id": "Im2YwBEG_Zct"
   },
   "source": [
    "Ещё раз посчитайте явные дубликаты в таблице — убедитесь, что полностью от них избавились:"
   ]
  },
  {
   "cell_type": "code",
   "execution_count": 13,
   "metadata": {
    "id": "-8PuNWQ0_Zct"
   },
   "outputs": [
    {
     "data": {
      "text/plain": [
       "0"
      ]
     },
     "execution_count": 13,
     "metadata": {},
     "output_type": "execute_result"
    }
   ],
   "source": [
    "# проверка на отсутствие дубликатов\n",
    "df.duplicated().sum()"
   ]
  },
  {
   "cell_type": "markdown",
   "metadata": {
    "id": "QlFBsxAr_Zct"
   },
   "source": [
    "Теперь избавьтесь от неявных дубликатов в колонке `genre`. Например, название одного и того же жанра может быть записано немного по-разному. Такие ошибки тоже повлияют на результат исследования."
   ]
  },
  {
   "cell_type": "markdown",
   "metadata": {
    "id": "eSjWwsOh_Zct"
   },
   "source": [
    "Выведите на экран список уникальных названий жанров, отсортированный в алфавитном порядке. Для этого:\n",
    "* извлеките нужный столбец датафрейма, \n",
    "* примените к нему метод сортировки,\n",
    "* для отсортированного столбца вызовите метод, который вернёт уникальные значения из столбца."
   ]
  },
  {
   "cell_type": "code",
   "execution_count": 14,
   "metadata": {
    "id": "JIUcqzZN_Zct"
   },
   "outputs": [
    {
     "data": {
      "text/plain": [
       "array(['acid', 'acoustic', 'action', 'adult', 'africa', 'afrikaans',\n",
       "       'alternative', 'alternativepunk', 'ambient', 'americana',\n",
       "       'animated', 'anime', 'arabesk', 'arabic', 'arena',\n",
       "       'argentinetango', 'art', 'audiobook', 'author', 'avantgarde',\n",
       "       'axé', 'baile', 'balkan', 'beats', 'bigroom', 'black', 'bluegrass',\n",
       "       'blues', 'bollywood', 'bossa', 'brazilian', 'breakbeat', 'breaks',\n",
       "       'broadway', 'cantautori', 'cantopop', 'canzone', 'caribbean',\n",
       "       'caucasian', 'celtic', 'chamber', 'chanson', 'children', 'chill',\n",
       "       'chinese', 'choral', 'christian', 'christmas', 'classical',\n",
       "       'classicmetal', 'club', 'colombian', 'comedy', 'conjazz',\n",
       "       'contemporary', 'country', 'cuban', 'dance', 'dancehall',\n",
       "       'dancepop', 'dark', 'death', 'deep', 'deutschrock', 'deutschspr',\n",
       "       'dirty', 'disco', 'dnb', 'documentary', 'downbeat', 'downtempo',\n",
       "       'drum', 'dub', 'dubstep', 'eastern', 'easy', 'electronic',\n",
       "       'electropop', 'emo', 'entehno', 'epicmetal', 'estrada', 'ethnic',\n",
       "       'eurofolk', 'european', 'experimental', 'extrememetal', 'fado',\n",
       "       'fairytail', 'film', 'fitness', 'flamenco', 'folk', 'folklore',\n",
       "       'folkmetal', 'folkrock', 'folktronica', 'forró', 'frankreich',\n",
       "       'französisch', 'french', 'funk', 'future', 'gangsta', 'garage',\n",
       "       'german', 'ghazal', 'gitarre', 'glitch', 'gospel', 'gothic',\n",
       "       'grime', 'grunge', 'gypsy', 'handsup', \"hard'n'heavy\", 'hardcore',\n",
       "       'hardstyle', 'hardtechno', 'hip', 'hip-hop', 'hiphop',\n",
       "       'historisch', 'holiday', 'hop', 'horror', 'house', 'hymn', 'idm',\n",
       "       'independent', 'indian', 'indie', 'indipop', 'industrial',\n",
       "       'inspirational', 'instrumental', 'international', 'irish', 'jam',\n",
       "       'japanese', 'jazz', 'jewish', 'jpop', 'jungle', 'k-pop',\n",
       "       'karadeniz', 'karaoke', 'kayokyoku', 'korean', 'laiko', 'latin',\n",
       "       'latino', 'leftfield', 'local', 'lounge', 'loungeelectronic',\n",
       "       'lovers', 'malaysian', 'mandopop', 'marschmusik', 'meditative',\n",
       "       'mediterranean', 'melodic', 'metal', 'metalcore', 'mexican',\n",
       "       'middle', 'minimal', 'miscellaneous', 'modern', 'mood', 'mpb',\n",
       "       'muslim', 'native', 'neoklassik', 'neue', 'new', 'newage',\n",
       "       'newwave', 'nu', 'nujazz', 'numetal', 'oceania', 'old', 'opera',\n",
       "       'orchestral', 'other', 'piano', 'podcasts', 'pop', 'popdance',\n",
       "       'popelectronic', 'popeurodance', 'poprussian', 'post',\n",
       "       'posthardcore', 'postrock', 'power', 'progmetal', 'progressive',\n",
       "       'psychedelic', 'punjabi', 'punk', 'quebecois', 'ragga', 'ram',\n",
       "       'rancheras', 'rap', 'rave', 'reggae', 'reggaeton', 'regional',\n",
       "       'relax', 'religious', 'retro', 'rhythm', 'rnb', 'rnr', 'rock',\n",
       "       'rockabilly', 'rockalternative', 'rockindie', 'rockother',\n",
       "       'romance', 'roots', 'ruspop', 'rusrap', 'rusrock', 'russian',\n",
       "       'salsa', 'samba', 'scenic', 'schlager', 'self', 'sertanejo',\n",
       "       'shanson', 'shoegazing', 'showtunes', 'singer', 'ska', 'skarock',\n",
       "       'slow', 'smooth', 'soft', 'soul', 'soulful', 'sound', 'soundtrack',\n",
       "       'southern', 'specialty', 'speech', 'spiritual', 'sport',\n",
       "       'stonerrock', 'surf', 'swing', 'synthpop', 'synthrock',\n",
       "       'sängerportrait', 'tango', 'tanzorchester', 'taraftar', 'tatar',\n",
       "       'tech', 'techno', 'teen', 'thrash', 'top', 'traditional',\n",
       "       'tradjazz', 'trance', 'tribal', 'trip', 'triphop', 'tropical',\n",
       "       'türk', 'türkçe', 'ukrrock', 'unknown', 'urban', 'uzbek',\n",
       "       'variété', 'vi', 'videogame', 'vocal', 'western', 'world',\n",
       "       'worldbeat', 'ïîï', 'электроника'], dtype=object)"
      ]
     },
     "execution_count": 14,
     "metadata": {},
     "output_type": "execute_result"
    }
   ],
   "source": [
    "# Просмотр уникальных названий жанров\n",
    "df['genre'].sort_values().unique()"
   ]
  },
  {
   "cell_type": "markdown",
   "metadata": {
    "id": "qej-Qmuo_Zct"
   },
   "source": [
    "Просмотрите список и найдите неявные дубликаты названия `hiphop`. Это могут быть названия с ошибками или альтернативные названия того же жанра.\n",
    "\n",
    "Вы увидите следующие неявные дубликаты:\n",
    "* *hip*,\n",
    "* *hop*,\n",
    "* *hip-hop*.\n",
    "\n",
    "Чтобы очистить от них таблицу, напишите функцию `replace_wrong_genres()` с двумя параметрами: \n",
    "* `wrong_genres` — список дубликатов,\n",
    "* `correct_genre` — строка с правильным значением.\n",
    "\n",
    "Функция должна исправить колонку `genre` в таблице `df`: заменить каждое значение из списка `wrong_genres` на значение из `correct_genre`."
   ]
  },
  {
   "cell_type": "code",
   "execution_count": 15,
   "metadata": {
    "id": "ErNDkmns_Zct"
   },
   "outputs": [],
   "source": [
    "# Функция для замены неявных дубликатов\n",
    "def replace_wrong_genres(wrong_genres, correct_genre):\n",
    "    for index in wrong_genres:\n",
    "        df['genre'] = df['genre'].replace(index, correct_genre)"
   ]
  },
  {
   "cell_type": "markdown",
   "metadata": {
    "id": "aDoBJxbA_Zct"
   },
   "source": [
    "Вызовите `replace_wrong_genres()` и передайте ей такие аргументы, чтобы она устранила неявные дубликаты: вместо `hip`, `hop` и `hip-hop` в таблице должно быть значение `hiphop`:"
   ]
  },
  {
   "cell_type": "code",
   "execution_count": 16,
   "metadata": {
    "id": "YN5i2hpmSo09"
   },
   "outputs": [],
   "source": [
    "# Устранение неявных дубликатов\n",
    "wrong_genres, correct_genre = ['hip', 'hop', 'hip-hop'], 'hiphop'\n",
    "replace_wrong_genres(wrong_genres, correct_genre)"
   ]
  },
  {
   "cell_type": "markdown",
   "metadata": {
    "id": "zQKF16_RG15m"
   },
   "source": [
    "Проверьте, что заменили неправильные названия:\n",
    "\n",
    "*   hip\n",
    "*   hop\n",
    "*   hip-hop\n",
    "\n",
    "Выведите отсортированный список уникальных значений столбца `genre`:"
   ]
  },
  {
   "cell_type": "code",
   "execution_count": 17,
   "metadata": {
    "id": "wvixALnFG15m"
   },
   "outputs": [
    {
     "data": {
      "text/plain": [
       "array(['acid', 'acoustic', 'action', 'adult', 'africa', 'afrikaans',\n",
       "       'alternative', 'alternativepunk', 'ambient', 'americana',\n",
       "       'animated', 'anime', 'arabesk', 'arabic', 'arena',\n",
       "       'argentinetango', 'art', 'audiobook', 'author', 'avantgarde',\n",
       "       'axé', 'baile', 'balkan', 'beats', 'bigroom', 'black', 'bluegrass',\n",
       "       'blues', 'bollywood', 'bossa', 'brazilian', 'breakbeat', 'breaks',\n",
       "       'broadway', 'cantautori', 'cantopop', 'canzone', 'caribbean',\n",
       "       'caucasian', 'celtic', 'chamber', 'chanson', 'children', 'chill',\n",
       "       'chinese', 'choral', 'christian', 'christmas', 'classical',\n",
       "       'classicmetal', 'club', 'colombian', 'comedy', 'conjazz',\n",
       "       'contemporary', 'country', 'cuban', 'dance', 'dancehall',\n",
       "       'dancepop', 'dark', 'death', 'deep', 'deutschrock', 'deutschspr',\n",
       "       'dirty', 'disco', 'dnb', 'documentary', 'downbeat', 'downtempo',\n",
       "       'drum', 'dub', 'dubstep', 'eastern', 'easy', 'electronic',\n",
       "       'electropop', 'emo', 'entehno', 'epicmetal', 'estrada', 'ethnic',\n",
       "       'eurofolk', 'european', 'experimental', 'extrememetal', 'fado',\n",
       "       'fairytail', 'film', 'fitness', 'flamenco', 'folk', 'folklore',\n",
       "       'folkmetal', 'folkrock', 'folktronica', 'forró', 'frankreich',\n",
       "       'französisch', 'french', 'funk', 'future', 'gangsta', 'garage',\n",
       "       'german', 'ghazal', 'gitarre', 'glitch', 'gospel', 'gothic',\n",
       "       'grime', 'grunge', 'gypsy', 'handsup', \"hard'n'heavy\", 'hardcore',\n",
       "       'hardstyle', 'hardtechno', 'hiphop', 'historisch', 'holiday',\n",
       "       'horror', 'house', 'hymn', 'idm', 'independent', 'indian', 'indie',\n",
       "       'indipop', 'industrial', 'inspirational', 'instrumental',\n",
       "       'international', 'irish', 'jam', 'japanese', 'jazz', 'jewish',\n",
       "       'jpop', 'jungle', 'k-pop', 'karadeniz', 'karaoke', 'kayokyoku',\n",
       "       'korean', 'laiko', 'latin', 'latino', 'leftfield', 'local',\n",
       "       'lounge', 'loungeelectronic', 'lovers', 'malaysian', 'mandopop',\n",
       "       'marschmusik', 'meditative', 'mediterranean', 'melodic', 'metal',\n",
       "       'metalcore', 'mexican', 'middle', 'minimal', 'miscellaneous',\n",
       "       'modern', 'mood', 'mpb', 'muslim', 'native', 'neoklassik', 'neue',\n",
       "       'new', 'newage', 'newwave', 'nu', 'nujazz', 'numetal', 'oceania',\n",
       "       'old', 'opera', 'orchestral', 'other', 'piano', 'podcasts', 'pop',\n",
       "       'popdance', 'popelectronic', 'popeurodance', 'poprussian', 'post',\n",
       "       'posthardcore', 'postrock', 'power', 'progmetal', 'progressive',\n",
       "       'psychedelic', 'punjabi', 'punk', 'quebecois', 'ragga', 'ram',\n",
       "       'rancheras', 'rap', 'rave', 'reggae', 'reggaeton', 'regional',\n",
       "       'relax', 'religious', 'retro', 'rhythm', 'rnb', 'rnr', 'rock',\n",
       "       'rockabilly', 'rockalternative', 'rockindie', 'rockother',\n",
       "       'romance', 'roots', 'ruspop', 'rusrap', 'rusrock', 'russian',\n",
       "       'salsa', 'samba', 'scenic', 'schlager', 'self', 'sertanejo',\n",
       "       'shanson', 'shoegazing', 'showtunes', 'singer', 'ska', 'skarock',\n",
       "       'slow', 'smooth', 'soft', 'soul', 'soulful', 'sound', 'soundtrack',\n",
       "       'southern', 'specialty', 'speech', 'spiritual', 'sport',\n",
       "       'stonerrock', 'surf', 'swing', 'synthpop', 'synthrock',\n",
       "       'sängerportrait', 'tango', 'tanzorchester', 'taraftar', 'tatar',\n",
       "       'tech', 'techno', 'teen', 'thrash', 'top', 'traditional',\n",
       "       'tradjazz', 'trance', 'tribal', 'trip', 'triphop', 'tropical',\n",
       "       'türk', 'türkçe', 'ukrrock', 'unknown', 'urban', 'uzbek',\n",
       "       'variété', 'vi', 'videogame', 'vocal', 'western', 'world',\n",
       "       'worldbeat', 'ïîï', 'электроника'], dtype=object)"
      ]
     },
     "execution_count": 17,
     "metadata": {},
     "output_type": "execute_result"
    }
   ],
   "source": [
    "# Проверка на неявные дубликаты\n",
    "df['genre'].sort_values().unique()"
   ]
  },
  {
   "cell_type": "markdown",
   "metadata": {
    "id": "jz6a9-7HQUDd"
   },
   "source": [
    "**Выводы**\n",
    "\n",
    "Предобработка обнаружила три проблемы в данных:\n",
    "\n",
    "- нарушения в стиле заголовков,\n",
    "- пропущенные значения,\n",
    "- дубликаты — явные и неявные.\n",
    "\n",
    "Вы исправили заголовки, чтобы упростить работу с таблицей. Без дубликатов исследование станет более точным.\n",
    "\n",
    "Пропущенные значения вы заменили на `'unknown'`. Ещё предстоит увидеть, не повредят ли исследованию пропуски в колонке `genre`.\n",
    "\n",
    "Теперь можно перейти к проверке гипотез. "
   ]
  },
  {
   "cell_type": "markdown",
   "metadata": {
    "id": "WttZHXH0SqKk"
   },
   "source": [
    "## Проверка гипотез"
   ]
  },
  {
   "cell_type": "markdown",
   "metadata": {
    "id": "Im936VVi_Zcu"
   },
   "source": [
    "### Сравнение поведения пользователей двух столиц"
   ]
  },
  {
   "cell_type": "markdown",
   "metadata": {
    "id": "nwt_MuaL_Zcu"
   },
   "source": [
    "Первая гипотеза утверждает, что пользователи по-разному слушают музыку в Москве и Санкт-Петербурге. Проверьте это предположение по данным о трёх днях недели — понедельнике, среде и пятнице. Для этого:\n",
    "\n",
    "* Разделите пользователей Москвы и Санкт-Петербурга\n",
    "* Сравните, сколько треков послушала каждая группа пользователей в понедельник, среду и пятницу.\n"
   ]
  },
  {
   "cell_type": "markdown",
   "metadata": {
    "id": "8Dw_YMmT_Zcu"
   },
   "source": [
    "Для тренировки сначала выполните каждый из расчётов по отдельности. \n",
    "\n",
    "Оцените активность пользователей в каждом городе. Сгруппируйте данные по городу и посчитайте прослушивания в каждой группе.\n",
    "\n"
   ]
  },
  {
   "cell_type": "code",
   "execution_count": 18,
   "metadata": {
    "id": "0_Qs96oh_Zcu"
   },
   "outputs": [
    {
     "data": {
      "text/plain": [
       "city\n",
       "Moscow              42741\n",
       "Saint-Petersburg    18512\n",
       "Name: user_id, dtype: int64"
      ]
     },
     "execution_count": 18,
     "metadata": {},
     "output_type": "execute_result"
    }
   ],
   "source": [
    "# Подсчёт прослушиваний в каждом городе\n",
    "df.groupby('city')['user_id'].count()"
   ]
  },
  {
   "cell_type": "markdown",
   "metadata": {
    "id": "dzli3w8o_Zcu"
   },
   "source": [
    "В Москве прослушиваний больше, чем в Петербурге. Из этого не следует, что московские пользователи чаще слушают музыку. Просто самих пользователей в Москве больше.\n",
    "\n",
    "Теперь сгруппируйте данные по дню недели и подсчитайте прослушивания в понедельник, среду и пятницу. Учтите, что в данных есть информация только о прослушиваниях только за эти дни.\n"
   ]
  },
  {
   "cell_type": "code",
   "execution_count": 19,
   "metadata": {
    "id": "uZMKjiJz_Zcu"
   },
   "outputs": [
    {
     "data": {
      "text/plain": [
       "day\n",
       "Friday       21840\n",
       "Monday       21354\n",
       "Wednesday    18059\n",
       "Name: user_id, dtype: int64"
      ]
     },
     "execution_count": 19,
     "metadata": {},
     "output_type": "execute_result"
    }
   ],
   "source": [
    "# Подсчёт прослушиваний в каждый из трёх дней\n",
    "df.groupby('day')['user_id'].count()"
   ]
  },
  {
   "cell_type": "markdown",
   "metadata": {
    "id": "cC2tNrlL_Zcu"
   },
   "source": [
    "В среднем пользователи из двух городов менее активны по средам. Но картина может измениться, если рассмотреть каждый город в отдельности."
   ]
  },
  {
   "cell_type": "markdown",
   "metadata": {
    "id": "POzs8bGa_Zcu"
   },
   "source": [
    "Вы видели, как работает группировка по городу и по дням недели. Теперь напишите функцию, которая объединит два эти расчёта.\n",
    "\n",
    "Создайте функцию `number_tracks()`, которая посчитает прослушивания для заданного дня и города. Ей понадобятся два параметра:\n",
    "* день недели,\n",
    "* название города.\n",
    "\n",
    "В функции сохраните в переменную строки исходной таблицы, у которых значение:\n",
    "  * в колонке `day` равно параметру `day`,\n",
    "  * в колонке `city` равно параметру `city`.\n",
    "\n",
    "Для этого примените последовательную фильтрацию с логической индексацией.\n",
    "\n",
    "Затем посчитайте значения в столбце `user_id` получившейся таблицы. Результат сохраните в новую переменную. Верните эту переменную из функции."
   ]
  },
  {
   "cell_type": "code",
   "execution_count": 20,
   "metadata": {
    "id": "Nz3GdQB1_Zcu"
   },
   "outputs": [],
   "source": [
    "# <создание функции number_tracks()>\n",
    "# Объявляется функция с двумя параметрами: day, city.\n",
    "# В переменной track_list сохраняются те строки таблицы df, для которых \n",
    "# значение в столбце 'day' равно параметру day и одновременно значение\n",
    "# в столбце 'city' равно параметру city (используйте последовательную фильтрацию\n",
    "# с помощью логической индексации).\n",
    "# В переменной track_list_count сохраняется число значений столбца 'user_id',\n",
    "# рассчитанное методом count() для таблицы track_list.\n",
    "# Функция возвращает число - значение track_list_count.\n",
    "\n",
    "def number_tracks(day, city):\n",
    "    \"\"\"\n",
    "    Функция для подсчёта прослушиваний для конкретного города и дня.\n",
    "    С помощью последовательной фильтрации с логической индексацией она \n",
    "    сначала получит из исходной таблицы строки с нужным днём,\n",
    "    затем из результата отфильтрует строки с нужным городом,\n",
    "    методом count() посчитает количество значений в колонке user_id. \n",
    "    Это количество функция вернёт в качестве результата\n",
    "    \"\"\"\n",
    "    track_list = df[df['day'] == day]\n",
    "    track_list = track_list[track_list['city'] == city]\n",
    "    track_list_count = track_list['user_id'].count()\n",
    "    return track_list_count"
   ]
  },
  {
   "cell_type": "markdown",
   "metadata": {
    "id": "ytf7xFrFJQ2r"
   },
   "source": [
    "Вызовите `number_tracks()` шесть раз, меняя значение параметров — так, чтобы получить данные для каждого города в каждый из трёх дней."
   ]
  },
  {
   "cell_type": "code",
   "execution_count": 21,
   "metadata": {
    "id": "rJcRATNQ_Zcu"
   },
   "outputs": [
    {
     "data": {
      "text/plain": [
       "15740"
      ]
     },
     "execution_count": 21,
     "metadata": {},
     "output_type": "execute_result"
    }
   ],
   "source": [
    "# количество прослушиваний в Москве по понедельникам\n",
    "number_tracks('Monday', 'Moscow')"
   ]
  },
  {
   "cell_type": "code",
   "execution_count": 22,
   "metadata": {
    "id": "hq_ncZ5T_Zcu"
   },
   "outputs": [
    {
     "data": {
      "text/plain": [
       "5614"
      ]
     },
     "execution_count": 22,
     "metadata": {},
     "output_type": "execute_result"
    }
   ],
   "source": [
    "# количество прослушиваний в Санкт-Петербурге по понедельникам\n",
    "number_tracks('Monday', 'Saint-Petersburg')"
   ]
  },
  {
   "cell_type": "code",
   "execution_count": 23,
   "metadata": {
    "id": "_NTy2VPU_Zcu"
   },
   "outputs": [
    {
     "data": {
      "text/plain": [
       "11056"
      ]
     },
     "execution_count": 23,
     "metadata": {},
     "output_type": "execute_result"
    }
   ],
   "source": [
    "# количество прослушиваний в Москве по средам\n",
    "number_tracks('Wednesday', 'Moscow')"
   ]
  },
  {
   "cell_type": "code",
   "execution_count": 24,
   "metadata": {
    "id": "j2y3TAwo_Zcu"
   },
   "outputs": [
    {
     "data": {
      "text/plain": [
       "7003"
      ]
     },
     "execution_count": 24,
     "metadata": {},
     "output_type": "execute_result"
    }
   ],
   "source": [
    "# количество прослушиваний в Санкт-Петербурге по средам\n",
    "number_tracks('Wednesday', 'Saint-Petersburg')"
   ]
  },
  {
   "cell_type": "code",
   "execution_count": 25,
   "metadata": {
    "id": "vYDw5u_K_Zcu"
   },
   "outputs": [
    {
     "data": {
      "text/plain": [
       "15945"
      ]
     },
     "execution_count": 25,
     "metadata": {},
     "output_type": "execute_result"
    }
   ],
   "source": [
    "# количество прослушиваний в Москве по пятницам\n",
    "number_tracks('Friday', 'Moscow')"
   ]
  },
  {
   "cell_type": "code",
   "execution_count": 26,
   "metadata": {
    "id": "8_yzFtW3_Zcu"
   },
   "outputs": [
    {
     "data": {
      "text/plain": [
       "5895"
      ]
     },
     "execution_count": 26,
     "metadata": {},
     "output_type": "execute_result"
    }
   ],
   "source": [
    "# количество прослушиваний в Санкт-Петербурге по пятницам\n",
    "number_tracks('Friday', 'Saint-Petersburg')"
   ]
  },
  {
   "cell_type": "markdown",
   "metadata": {
    "id": "7QXffbO-_Zcu"
   },
   "source": [
    "Создайте c помощью конструктора `pd.DataFrame` таблицу, где\n",
    "* названия колонок — `['city', 'monday', 'wednesday', 'friday']`;\n",
    "* данные — результаты, которые вы получили с помощью `number_tracks`."
   ]
  },
  {
   "cell_type": "code",
   "execution_count": 27,
   "metadata": {
    "id": "APAcLpOr_Zcu"
   },
   "outputs": [
    {
     "name": "stdout",
     "output_type": "stream",
     "text": [
      "[['Moscow', 15740, 11056, 15945], ['Saint-Petersburg', 5614, 7003, 5895]]\n"
     ]
    },
    {
     "data": {
      "text/html": [
       "<div>\n",
       "<style scoped>\n",
       "    .dataframe tbody tr th:only-of-type {\n",
       "        vertical-align: middle;\n",
       "    }\n",
       "\n",
       "    .dataframe tbody tr th {\n",
       "        vertical-align: top;\n",
       "    }\n",
       "\n",
       "    .dataframe thead th {\n",
       "        text-align: right;\n",
       "    }\n",
       "</style>\n",
       "<table border=\"1\" class=\"dataframe\">\n",
       "  <thead>\n",
       "    <tr style=\"text-align: right;\">\n",
       "      <th></th>\n",
       "      <th>city</th>\n",
       "      <th>monday</th>\n",
       "      <th>wednesday</th>\n",
       "      <th>friday</th>\n",
       "    </tr>\n",
       "  </thead>\n",
       "  <tbody>\n",
       "    <tr>\n",
       "      <td>0</td>\n",
       "      <td>Moscow</td>\n",
       "      <td>15740</td>\n",
       "      <td>11056</td>\n",
       "      <td>15945</td>\n",
       "    </tr>\n",
       "    <tr>\n",
       "      <td>1</td>\n",
       "      <td>Saint-Petersburg</td>\n",
       "      <td>5614</td>\n",
       "      <td>7003</td>\n",
       "      <td>5895</td>\n",
       "    </tr>\n",
       "  </tbody>\n",
       "</table>\n",
       "</div>"
      ],
      "text/plain": [
       "               city  monday  wednesday  friday\n",
       "0            Moscow   15740      11056   15945\n",
       "1  Saint-Petersburg    5614       7003    5895"
      ]
     },
     "execution_count": 27,
     "metadata": {},
     "output_type": "execute_result"
    }
   ],
   "source": [
    "# переменная со списком городов\n",
    "cities_for_result = ['Moscow', 'Saint-Petersburg']\n",
    "# переменная со списком дней\n",
    "days_for_result = ['Monday', 'Wednesday', 'Friday']\n",
    "\n",
    "# Создаем вложенный цикл, который собирает два списка: с указанием города и расчетным количеством прослушиваний по дням недели.\n",
    "# Сначала цикл добавляет название города из списка cities_for_result, далее проходит функцию \n",
    "# number_tracks по дням из списка days_for_result, расчитывая количество прослушиваний для трех представленных дней \n",
    "# и добавляет их в список.\n",
    "# Его можно сделать более изящным, но я пока не понимаю как.\n",
    "data_for_result = []\n",
    "for city in cities_for_result:\n",
    "    city_numbers = [city]\n",
    "    for day in days_for_result:\n",
    "        city_numbers.append(number_tracks(day, city))\n",
    "    data_for_result.append(city_numbers)\n",
    "print(data_for_result)\n",
    "\n",
    "# Таблица с результатами\n",
    "pd.DataFrame(data=data_for_result, columns=['city', 'monday', 'wednesday', 'friday'])"
   ]
  },
  {
   "cell_type": "markdown",
   "metadata": {
    "id": "-EgPIHYu_Zcu"
   },
   "source": [
    "**Выводы**\n",
    "\n",
    "Данные показывают разницу поведения пользователей:\n",
    "\n",
    "- В Москве пик прослушиваний приходится на понедельник и пятницу, а в среду заметен спад.\n",
    "- В Петербурге, наоборот, больше слушают музыку по средам. Активность в понедельник и пятницу здесь почти в равной мере уступает среде.\n",
    "\n",
    "Значит, данные говорят в пользу первой гипотезы."
   ]
  },
  {
   "cell_type": "markdown",
   "metadata": {
    "id": "atZAxtq4_Zcu"
   },
   "source": [
    "### Музыка в начале и в конце недели"
   ]
  },
  {
   "cell_type": "markdown",
   "metadata": {
    "id": "eXrQqXFH_Zcu"
   },
   "source": [
    "Согласно второй гипотезе, утром в понедельник в Москве преобладают одни жанры, а в Петербурге — другие. Так же и вечером пятницы преобладают разные жанры — в зависимости от города."
   ]
  },
  {
   "cell_type": "markdown",
   "metadata": {
    "id": "S8UcW6Hw_Zcu"
   },
   "source": [
    "Сохраните таблицы с данными в две переменные:\n",
    "* по Москве — в `moscow_general`;\n",
    "* по Санкт-Петербургу — в `spb_general`."
   ]
  },
  {
   "cell_type": "code",
   "execution_count": 28,
   "metadata": {
    "id": "qeaFfM_P_Zcu"
   },
   "outputs": [],
   "source": [
    "# получение таблицы moscow_general из тех строк таблицы df, \n",
    "# для которых значение в столбце 'city' равно 'Moscow'\n",
    "moscow_general = df[df['city'] == 'Moscow']"
   ]
  },
  {
   "cell_type": "code",
   "execution_count": 29,
   "metadata": {
    "id": "ORaVRKto_Zcu"
   },
   "outputs": [],
   "source": [
    "# получение таблицы spb_general из тех строк таблицы df,\n",
    "# для которых значение в столбце 'city' равно 'Saint-Petersburg'\n",
    "spb_general = df[df['city'] == 'Saint-Petersburg']"
   ]
  },
  {
   "cell_type": "markdown",
   "metadata": {
    "id": "MEJV-CX2_Zcu"
   },
   "source": [
    "Создайте функцию `genre_weekday()` с четырьмя параметрами:\n",
    "* таблица (датафрейм) с данными,\n",
    "* день недели,\n",
    "* начальная временная метка в формате 'hh:mm', \n",
    "* последняя временная метка в формате 'hh:mm'.\n",
    "\n",
    "Функция должна вернуть информацию о топ-10 жанров тех треков, которые прослушивали в указанный день, в промежутке между двумя отметками времени."
   ]
  },
  {
   "cell_type": "code",
   "execution_count": 30,
   "metadata": {
    "id": "laJT9BYl_Zcu"
   },
   "outputs": [],
   "source": [
    "# Объявление функции genre_weekday() с параметрами table, day, time1, time2,\n",
    "# которая возвращает информацию о самых популярных жанрах в указанный день в\n",
    "# заданное время:\n",
    "# 1) в переменную genre_df сохраняются те строки переданного датафрейма table, для\n",
    "#    которых одновременно:\n",
    "#    - значение в столбце day равно значению аргумента day\n",
    "#    - значение в столбце time больше значения аргумента time1\n",
    "#    - значение в столбце time меньше значения аргумента time2\n",
    "#    Используйте последовательную фильтрацию с помощью логической индексации.\n",
    "# 2) сгруппировать датафрейм genre_df по столбцу genre, взять один из его\n",
    "#    столбцов и посчитать методом count() количество записей для каждого из\n",
    "#    присутствующих жанров, получившийся Series записать в переменную\n",
    "#    genre_df_count\n",
    "# 3) отсортировать genre_df_count по убыванию встречаемости и сохранить\n",
    "#    в переменную genre_df_sorted\n",
    "# 4) вернуть Series из 10 первых значений genre_df_sorted, это будут топ-10\n",
    "#    популярных жанров (в указанный день, в заданное время)\n",
    "\n",
    "def genre_weekday(table, day, time1, time2):\n",
    "    \"\"\"\n",
    "    Функция для возврата информации о 10 самых популярных жанрах в указанный день в\n",
    "    заданное время.\n",
    "    С помощью последовательной фильтрации с логической индексацией она \n",
    "    сначала получит из исходной таблицы строки с нужным днём,\n",
    "    затем из результата отфильтрует строки с нужным временем (утро или вечер),\n",
    "    сгруппирует данные по жанру исполнителя, методом count() посчитает количество значений в колонке user_id. \n",
    "    Это количество функция вернёт в качестве результата в порядке убывания.\n",
    "    \"\"\"\n",
    "    genre_df = table[table['day'] == day]\n",
    "    genre_df = table[(table['time'] > time1) & (table['time'] < time2)]\n",
    "    genre_df_count = genre_df.groupby('genre')['user_id'].count()\n",
    "    genre_df_sorted = genre_df_count.sort_values(ascending=False)\n",
    "    # return genre_df_sorted.head(10)\n",
    "    return genre_df_sorted[:10]"
   ]
  },
  {
   "cell_type": "markdown",
   "metadata": {
    "id": "la2s2_PF_Zcu"
   },
   "source": [
    "Cравните результаты функции `genre_weekday()` для Москвы и Санкт-Петербурга в понедельник утром (с 7:00 до 11:00) и в пятницу вечером (с 17:00 до 23:00):"
   ]
  },
  {
   "cell_type": "code",
   "execution_count": 31,
   "metadata": {
    "id": "yz7itPUQ_Zcu"
   },
   "outputs": [
    {
     "data": {
      "text/plain": [
       "genre\n",
       "pop            2015\n",
       "dance          1444\n",
       "rock           1259\n",
       "electronic     1249\n",
       "hiphop          709\n",
       "ruspop          510\n",
       "classical       473\n",
       "world           439\n",
       "alternative     436\n",
       "rusrap          406\n",
       "Name: user_id, dtype: int64"
      ]
     },
     "execution_count": 31,
     "metadata": {},
     "output_type": "execute_result"
    }
   ],
   "source": [
    "# вызов функции для утра понедельника в Москве (вместо df — таблица moscow_general)\n",
    "# объекты, хранящие время, являются строками и сравниваются как строки\n",
    "# пример вызова: genre_weekday(moscow_general, 'Monday', '07:00', '11:00')\n",
    "genre_weekday(moscow_general, 'Monday', '07:00', '11:00')"
   ]
  },
  {
   "cell_type": "code",
   "execution_count": 32,
   "metadata": {
    "id": "kwUcHPdy_Zcu"
   },
   "outputs": [
    {
     "data": {
      "text/plain": [
       "genre\n",
       "pop            701\n",
       "dance          606\n",
       "rock           520\n",
       "electronic     519\n",
       "hiphop         288\n",
       "rusrap         195\n",
       "alternative    184\n",
       "ruspop         174\n",
       "classical      155\n",
       "world          130\n",
       "Name: user_id, dtype: int64"
      ]
     },
     "execution_count": 32,
     "metadata": {},
     "output_type": "execute_result"
    }
   ],
   "source": [
    "# вызов функции для утра понедельника в Петербурге (вместо df — таблица spb_general)\n",
    "genre_weekday(spb_general, 'Monday', '07:00', '11:00')"
   ]
  },
  {
   "cell_type": "code",
   "execution_count": 33,
   "metadata": {
    "id": "EzXVRE1o_Zcu"
   },
   "outputs": [
    {
     "data": {
      "text/plain": [
       "genre\n",
       "pop            1983\n",
       "dance          1430\n",
       "rock           1386\n",
       "electronic     1284\n",
       "hiphop          685\n",
       "world           501\n",
       "classical       487\n",
       "alternative     475\n",
       "ruspop          435\n",
       "rusrap          382\n",
       "Name: user_id, dtype: int64"
      ]
     },
     "execution_count": 33,
     "metadata": {},
     "output_type": "execute_result"
    }
   ],
   "source": [
    "# вызов функции для вечера пятницы в Москве\n",
    "genre_weekday(moscow_general, 'Friday', '17:00', '23:00')"
   ]
  },
  {
   "cell_type": "code",
   "execution_count": 34,
   "metadata": {
    "id": "JZaEKu5v_Zcu"
   },
   "outputs": [
    {
     "data": {
      "text/plain": [
       "genre\n",
       "pop            839\n",
       "rock           667\n",
       "electronic     649\n",
       "dance          626\n",
       "hiphop         332\n",
       "alternative    234\n",
       "classical      219\n",
       "rusrap         184\n",
       "jazz           179\n",
       "world          179\n",
       "Name: user_id, dtype: int64"
      ]
     },
     "execution_count": 34,
     "metadata": {},
     "output_type": "execute_result"
    }
   ],
   "source": [
    "# вызов функции для вечера пятницы в Петербурге\n",
    "genre_weekday(spb_general, 'Friday', '17:00', '23:00')"
   ]
  },
  {
   "cell_type": "markdown",
   "metadata": {
    "id": "wrCe4MNX_Zcu"
   },
   "source": [
    "**Выводы**\n",
    "\n",
    "Если сравнить топ-10 жанров в понедельник утром, можно сделать такие выводы:\n",
    "\n",
    "1. В Москве и Петербурге слушают похожую музыку. Единственное отличие — в московский рейтинг вошёл жанр “world”, а в петербургский — джаз и классика.\n",
    "\n",
    "2. В Москве пропущенных значений оказалось так много, что значение `'unknown'` заняло десятое место среди самых популярных жанров. Значит, пропущенные значения занимают существенную долю в данных и угрожают достоверности исследования.\n",
    "\n",
    "Вечер пятницы не меняет эту картину. Некоторые жанры поднимаются немного выше, другие спускаются, но в целом топ-10 остаётся тем же самым.\n",
    "\n",
    "Таким образом, вторая гипотеза подтвердилась лишь частично:\n",
    "* Пользователи слушают похожую музыку в начале недели и в конце.\n",
    "* Разница между Москвой и Петербургом не слишком выражена. В Москве чаще слушают русскую популярную музыку, в Петербурге — джаз.\n",
    "\n",
    "Однако пропуски в данных ставят под сомнение этот результат. В Москве их так много, что рейтинг топ-10 мог бы выглядеть иначе, если бы не утерянные  данные о жанрах."
   ]
  },
  {
   "cell_type": "markdown",
   "metadata": {
    "id": "JolODAqr_Zcu"
   },
   "source": [
    "### Жанровые предпочтения в Москве и Петербурге\n",
    "\n",
    "Гипотеза: Петербург — столица рэпа, музыку этого жанра там слушают чаще, чем в Москве.  А Москва — город контрастов, в котором, тем не менее, преобладает поп-музыка."
   ]
  },
  {
   "cell_type": "markdown",
   "metadata": {
    "id": "DlegSvaT_Zcu"
   },
   "source": [
    "Сгруппируйте таблицу `moscow_general` по жанру и посчитайте прослушивания треков каждого жанра методом `count()`. Затем отсортируйте результат в порядке убывания и сохраните его в таблице `moscow_genres`."
   ]
  },
  {
   "cell_type": "code",
   "execution_count": 35,
   "metadata": {
    "id": "r19lIPke_Zcu"
   },
   "outputs": [],
   "source": [
    "# одной строкой: группировка таблицы moscow_general по столбцу 'genre', \n",
    "# подсчёт числа значений 'genre' в этой группировке методом count(), \n",
    "# сортировка получившегося Series в порядке убывания и сохранение в moscow_genres\n",
    "moscow_genres = moscow_general.groupby('genre')['genre'].count().sort_values(ascending=False)"
   ]
  },
  {
   "cell_type": "markdown",
   "metadata": {
    "id": "6kMuomxTiIr8"
   },
   "source": [
    "Выведите на экран первые десять строк `moscow_genres`:"
   ]
  },
  {
   "cell_type": "code",
   "execution_count": 36,
   "metadata": {
    "id": "WhCSooF8_Zcv"
   },
   "outputs": [
    {
     "data": {
      "text/plain": [
       "genre\n",
       "pop            5892\n",
       "dance          4435\n",
       "rock           3965\n",
       "electronic     3786\n",
       "hiphop         2096\n",
       "classical      1616\n",
       "world          1432\n",
       "alternative    1379\n",
       "ruspop         1372\n",
       "rusrap         1161\n",
       "Name: genre, dtype: int64"
      ]
     },
     "execution_count": 36,
     "metadata": {},
     "output_type": "execute_result"
    }
   ],
   "source": [
    "# просмотр первых 10 строк moscow_genres\n",
    "moscow_genres.head(10)"
   ]
  },
  {
   "cell_type": "markdown",
   "metadata": {
    "id": "cnPG2vnN_Zcv"
   },
   "source": [
    "Теперь повторите то же и для Петербурга.\n",
    "\n",
    "Сгруппируйте таблицу `spb_general` по жанру. Посчитайте прослушивания треков каждого жанра. Результат отсортируйте в порядке убывания и сохраните в таблице `spb_genres`:\n"
   ]
  },
  {
   "cell_type": "code",
   "execution_count": 37,
   "metadata": {
    "id": "gluLIpE7_Zcv"
   },
   "outputs": [],
   "source": [
    "# одной строкой: группировка таблицы spb_general по столбцу 'genre', \n",
    "# подсчёт числа значений 'genre' в этой группировке методом count(), \n",
    "# сортировка получившегося Series в порядке убывания и сохранение в spb_genres\n",
    "spb_genres = spb_general.groupby('genre')['genre'].count().sort_values(ascending=False)"
   ]
  },
  {
   "cell_type": "markdown",
   "metadata": {
    "id": "5Doha_ODgyQ8"
   },
   "source": [
    "Выведите на экран первые десять строк `spb_genres`:"
   ]
  },
  {
   "cell_type": "code",
   "execution_count": 38,
   "metadata": {
    "id": "uaGJHjVU_Zcv"
   },
   "outputs": [
    {
     "data": {
      "text/plain": [
       "genre\n",
       "pop            2431\n",
       "dance          1932\n",
       "rock           1879\n",
       "electronic     1736\n",
       "hiphop          960\n",
       "alternative     649\n",
       "classical       646\n",
       "rusrap          564\n",
       "ruspop          538\n",
       "world           515\n",
       "Name: genre, dtype: int64"
      ]
     },
     "execution_count": 38,
     "metadata": {},
     "output_type": "execute_result"
    }
   ],
   "source": [
    "# просмотр первых 10 строк spb_genres\n",
    "spb_genres.head(10)"
   ]
  },
  {
   "cell_type": "markdown",
   "metadata": {
    "id": "RY51YJYu_Zcv"
   },
   "source": [
    "**Выводы**"
   ]
  },
  {
   "cell_type": "markdown",
   "metadata": {
    "id": "nVhnJEm__Zcv"
   },
   "source": [
    "Гипотеза частично подтвердилась:\n",
    "* Поп-музыка — самый популярный жанр в Москве, как и предполагала гипотеза. Более того, в топ-10 жанров встречается близкий жанр — русская популярная музыка.\n",
    "* Вопреки ожиданиям, рэп одинаково популярен в Москве и Петербурге. \n"
   ]
  },
  {
   "cell_type": "markdown",
   "metadata": {
    "id": "ykKQ0N65_Zcv"
   },
   "source": [
    "## Итоги исследования"
   ]
  },
  {
   "cell_type": "markdown",
   "metadata": {
    "id": "tjUwbHb3_Zcv"
   },
   "source": [
    "Вы проверили три гипотезы и установили:\n",
    "\n",
    "1. День недели по-разному влияет на активность пользователей в Москве и Петербурге. \n",
    "\n",
    "Первая гипотеза полностью подтвердилась.\n",
    "\n",
    "2. Музыкальные предпочтения не сильно меняются в течение недели — будь то Москва или Петербург. Небольшие различия заметны в начале недели, по понедельникам:\n",
    "* в Москве слушают музыку жанра “world”,\n",
    "* в Петербурге — джаз и классику.\n",
    "\n",
    "Таким образом, вторая гипотеза подтвердилась лишь отчасти. Этот результат мог оказаться иным, если бы не пропуски в данных.\n",
    "\n",
    "3. Во вкусах пользователей Москвы и Петербурга больше общего чем различий. Вопреки ожиданиям, предпочтения жанров в Петербурге напоминают московские.\n",
    "\n",
    "Третья гипотеза не подтвердилась. Если различия в предпочтениях и существуют, на основной массе пользователей они незаметны.\n",
    "\n",
    "**На практике исследования содержат проверки статистических гипотез.**\n",
    "Из данных одного сервиса не всегда можно сделать вывод о всех жителях города.\n",
    "Проверки статистических гипотез покажут, насколько они достоверны, исходя из имеющихся данных. \n",
    "С методами проверок гипотез вы ещё познакомитесь в следующих темах."
   ]
  }
 ],
 "metadata": {
  "ExecuteTimeLog": [
   {
    "duration": 824,
    "start_time": "2021-12-20T14:54:12.012Z"
   },
   {
    "duration": 196,
    "start_time": "2021-12-20T14:58:21.152Z"
   },
   {
    "duration": 25,
    "start_time": "2021-12-20T14:59:40.758Z"
   },
   {
    "duration": 32,
    "start_time": "2021-12-20T15:00:44.338Z"
   },
   {
    "duration": 35,
    "start_time": "2021-12-20T15:00:57.536Z"
   },
   {
    "duration": 33,
    "start_time": "2021-12-20T15:01:03.184Z"
   },
   {
    "duration": 6,
    "start_time": "2021-12-20T15:08:14.770Z"
   },
   {
    "duration": 5,
    "start_time": "2021-12-20T15:08:26.058Z"
   },
   {
    "duration": 9,
    "start_time": "2021-12-20T15:08:47.113Z"
   },
   {
    "duration": 47,
    "start_time": "2021-12-20T15:13:04.506Z"
   },
   {
    "duration": 7,
    "start_time": "2021-12-20T15:13:18.234Z"
   },
   {
    "duration": 5,
    "start_time": "2021-12-20T15:13:54.874Z"
   },
   {
    "duration": 28,
    "start_time": "2021-12-20T15:14:10.991Z"
   },
   {
    "duration": 6,
    "start_time": "2021-12-20T15:14:14.134Z"
   },
   {
    "duration": 30,
    "start_time": "2021-12-20T15:19:27.844Z"
   },
   {
    "duration": 448,
    "start_time": "2021-12-20T17:26:22.618Z"
   },
   {
    "duration": 768,
    "start_time": "2021-12-20T17:26:43.472Z"
   },
   {
    "duration": 184,
    "start_time": "2021-12-20T17:26:44.243Z"
   },
   {
    "duration": 35,
    "start_time": "2021-12-20T17:26:44.430Z"
   },
   {
    "duration": 33,
    "start_time": "2021-12-20T17:26:44.468Z"
   },
   {
    "duration": 6,
    "start_time": "2021-12-20T17:26:44.503Z"
   },
   {
    "duration": 60,
    "start_time": "2021-12-20T17:26:44.511Z"
   },
   {
    "duration": 8,
    "start_time": "2021-12-20T17:26:44.573Z"
   },
   {
    "duration": 31,
    "start_time": "2021-12-20T17:26:44.583Z"
   },
   {
    "duration": 50,
    "start_time": "2021-12-20T17:26:44.618Z"
   },
   {
    "duration": 22,
    "start_time": "2021-12-20T17:26:48.784Z"
   },
   {
    "duration": 30,
    "start_time": "2021-12-20T17:26:58.612Z"
   },
   {
    "duration": 22,
    "start_time": "2021-12-20T17:29:48.233Z"
   },
   {
    "duration": 84,
    "start_time": "2021-12-20T17:31:53.723Z"
   },
   {
    "duration": 105,
    "start_time": "2021-12-20T17:34:03.335Z"
   },
   {
    "duration": 135,
    "start_time": "2021-12-20T17:34:11.417Z"
   },
   {
    "duration": 86,
    "start_time": "2021-12-20T17:34:19.266Z"
   },
   {
    "duration": 572,
    "start_time": "2021-12-21T05:51:04.069Z"
   },
   {
    "duration": 132,
    "start_time": "2021-12-21T05:51:04.643Z"
   },
   {
    "duration": 20,
    "start_time": "2021-12-21T05:51:04.777Z"
   },
   {
    "duration": 25,
    "start_time": "2021-12-21T05:51:04.799Z"
   },
   {
    "duration": 4,
    "start_time": "2021-12-21T05:51:04.826Z"
   },
   {
    "duration": 22,
    "start_time": "2021-12-21T05:51:04.831Z"
   },
   {
    "duration": 4,
    "start_time": "2021-12-21T05:51:04.856Z"
   },
   {
    "duration": 51,
    "start_time": "2021-12-21T05:51:04.861Z"
   },
   {
    "duration": 15,
    "start_time": "2021-12-21T05:51:04.914Z"
   },
   {
    "duration": 20,
    "start_time": "2021-12-21T05:51:04.931Z"
   },
   {
    "duration": 76,
    "start_time": "2021-12-21T05:51:04.952Z"
   },
   {
    "duration": 122,
    "start_time": "2021-12-21T05:51:05.029Z"
   },
   {
    "duration": 64,
    "start_time": "2021-12-21T05:52:21.275Z"
   },
   {
    "duration": 49,
    "start_time": "2021-12-21T05:52:24.010Z"
   },
   {
    "duration": 37,
    "start_time": "2021-12-21T06:09:40.881Z"
   },
   {
    "duration": 40,
    "start_time": "2021-12-21T06:12:49.548Z"
   },
   {
    "duration": 41,
    "start_time": "2021-12-21T06:13:36.855Z"
   },
   {
    "duration": 38,
    "start_time": "2021-12-21T06:14:21.091Z"
   },
   {
    "duration": 439,
    "start_time": "2021-12-21T06:14:42.848Z"
   },
   {
    "duration": 39,
    "start_time": "2021-12-21T06:14:52.178Z"
   },
   {
    "duration": 41,
    "start_time": "2021-12-21T06:16:57.549Z"
   },
   {
    "duration": 261,
    "start_time": "2021-12-21T06:24:15.227Z"
   },
   {
    "duration": 3,
    "start_time": "2021-12-21T06:24:23.237Z"
   },
   {
    "duration": 351,
    "start_time": "2021-12-21T06:24:26.086Z"
   },
   {
    "duration": 362,
    "start_time": "2021-12-21T06:25:09.519Z"
   },
   {
    "duration": 3,
    "start_time": "2021-12-21T06:25:52.335Z"
   },
   {
    "duration": 355,
    "start_time": "2021-12-21T06:25:54.180Z"
   },
   {
    "duration": 395,
    "start_time": "2021-12-21T06:26:54.074Z"
   },
   {
    "duration": 3,
    "start_time": "2021-12-21T06:30:53.019Z"
   },
   {
    "duration": 356,
    "start_time": "2021-12-21T06:30:54.970Z"
   },
   {
    "duration": 3,
    "start_time": "2021-12-21T06:32:06.650Z"
   },
   {
    "duration": 353,
    "start_time": "2021-12-21T06:32:25.748Z"
   },
   {
    "duration": 3,
    "start_time": "2021-12-21T06:36:59.424Z"
   },
   {
    "duration": 3,
    "start_time": "2021-12-21T06:37:03.623Z"
   },
   {
    "duration": 366,
    "start_time": "2021-12-21T06:37:04.365Z"
   },
   {
    "duration": 3,
    "start_time": "2021-12-21T06:37:21.302Z"
   },
   {
    "duration": 485,
    "start_time": "2021-12-21T06:37:23.753Z"
   },
   {
    "duration": 2,
    "start_time": "2021-12-21T06:37:30.182Z"
   },
   {
    "duration": 135,
    "start_time": "2021-12-21T06:37:30.186Z"
   },
   {
    "duration": 10,
    "start_time": "2021-12-21T06:37:30.324Z"
   },
   {
    "duration": 36,
    "start_time": "2021-12-21T06:37:30.336Z"
   },
   {
    "duration": 10,
    "start_time": "2021-12-21T06:37:30.374Z"
   },
   {
    "duration": 20,
    "start_time": "2021-12-21T06:37:30.391Z"
   },
   {
    "duration": 4,
    "start_time": "2021-12-21T06:37:30.413Z"
   },
   {
    "duration": 29,
    "start_time": "2021-12-21T06:37:30.419Z"
   },
   {
    "duration": 23,
    "start_time": "2021-12-21T06:37:30.450Z"
   },
   {
    "duration": 37,
    "start_time": "2021-12-21T06:37:30.475Z"
   },
   {
    "duration": 59,
    "start_time": "2021-12-21T06:37:30.514Z"
   },
   {
    "duration": 66,
    "start_time": "2021-12-21T06:37:30.575Z"
   },
   {
    "duration": 57,
    "start_time": "2021-12-21T06:37:30.643Z"
   },
   {
    "duration": 40,
    "start_time": "2021-12-21T06:37:30.702Z"
   },
   {
    "duration": 9,
    "start_time": "2021-12-21T06:37:30.744Z"
   },
   {
    "duration": 374,
    "start_time": "2021-12-21T06:37:30.755Z"
   },
   {
    "duration": 3,
    "start_time": "2021-12-21T06:38:07.923Z"
   },
   {
    "duration": 366,
    "start_time": "2021-12-21T06:38:09.894Z"
   },
   {
    "duration": 338,
    "start_time": "2021-12-21T06:38:59.527Z"
   },
   {
    "duration": 342,
    "start_time": "2021-12-21T06:39:13.397Z"
   },
   {
    "duration": 3,
    "start_time": "2021-12-21T06:44:16.186Z"
   },
   {
    "duration": 541,
    "start_time": "2021-12-21T06:44:18.605Z"
   },
   {
    "duration": 3,
    "start_time": "2021-12-21T06:47:03.769Z"
   },
   {
    "duration": 463,
    "start_time": "2021-12-21T06:47:06.415Z"
   },
   {
    "duration": 2,
    "start_time": "2021-12-21T06:47:11.819Z"
   },
   {
    "duration": 128,
    "start_time": "2021-12-21T06:47:11.823Z"
   },
   {
    "duration": 10,
    "start_time": "2021-12-21T06:47:11.953Z"
   },
   {
    "duration": 31,
    "start_time": "2021-12-21T06:47:11.965Z"
   },
   {
    "duration": 3,
    "start_time": "2021-12-21T06:47:11.998Z"
   },
   {
    "duration": 23,
    "start_time": "2021-12-21T06:47:12.003Z"
   },
   {
    "duration": 4,
    "start_time": "2021-12-21T06:47:12.028Z"
   },
   {
    "duration": 25,
    "start_time": "2021-12-21T06:47:12.034Z"
   },
   {
    "duration": 37,
    "start_time": "2021-12-21T06:47:12.061Z"
   },
   {
    "duration": 23,
    "start_time": "2021-12-21T06:47:12.100Z"
   },
   {
    "duration": 68,
    "start_time": "2021-12-21T06:47:12.125Z"
   },
   {
    "duration": 58,
    "start_time": "2021-12-21T06:47:12.195Z"
   },
   {
    "duration": 66,
    "start_time": "2021-12-21T06:47:12.255Z"
   },
   {
    "duration": 39,
    "start_time": "2021-12-21T06:47:12.323Z"
   },
   {
    "duration": 3,
    "start_time": "2021-12-21T06:47:12.364Z"
   },
   {
    "duration": 355,
    "start_time": "2021-12-21T06:47:16.655Z"
   },
   {
    "duration": 137,
    "start_time": "2021-12-21T06:47:45.476Z"
   },
   {
    "duration": 3,
    "start_time": "2021-12-21T06:47:50.548Z"
   },
   {
    "duration": 375,
    "start_time": "2021-12-21T06:47:52.217Z"
   },
   {
    "duration": 3,
    "start_time": "2021-12-21T06:48:47.408Z"
   },
   {
    "duration": 359,
    "start_time": "2021-12-21T06:48:49.266Z"
   },
   {
    "duration": 3,
    "start_time": "2021-12-21T06:48:56.925Z"
   },
   {
    "duration": 366,
    "start_time": "2021-12-21T06:48:58.327Z"
   },
   {
    "duration": 364,
    "start_time": "2021-12-21T06:49:50.616Z"
   },
   {
    "duration": 377,
    "start_time": "2021-12-21T06:49:56.567Z"
   },
   {
    "duration": 3,
    "start_time": "2021-12-21T06:52:10.249Z"
   },
   {
    "duration": 377,
    "start_time": "2021-12-21T06:52:12.229Z"
   },
   {
    "duration": 3,
    "start_time": "2021-12-21T06:53:26.755Z"
   },
   {
    "duration": 3,
    "start_time": "2021-12-21T06:53:28.497Z"
   },
   {
    "duration": 43,
    "start_time": "2021-12-21T06:53:45.743Z"
   },
   {
    "duration": 42,
    "start_time": "2021-12-21T06:54:07.844Z"
   },
   {
    "duration": 3,
    "start_time": "2021-12-21T07:25:08.243Z"
   },
   {
    "duration": 140,
    "start_time": "2021-12-21T07:25:08.247Z"
   },
   {
    "duration": 10,
    "start_time": "2021-12-21T07:25:08.392Z"
   },
   {
    "duration": 27,
    "start_time": "2021-12-21T07:25:08.404Z"
   },
   {
    "duration": 4,
    "start_time": "2021-12-21T07:25:08.433Z"
   },
   {
    "duration": 24,
    "start_time": "2021-12-21T07:25:08.439Z"
   },
   {
    "duration": 28,
    "start_time": "2021-12-21T07:25:08.464Z"
   },
   {
    "duration": 25,
    "start_time": "2021-12-21T07:25:08.494Z"
   },
   {
    "duration": 17,
    "start_time": "2021-12-21T07:25:08.523Z"
   },
   {
    "duration": 50,
    "start_time": "2021-12-21T07:25:08.542Z"
   },
   {
    "duration": 58,
    "start_time": "2021-12-21T07:25:08.594Z"
   },
   {
    "duration": 77,
    "start_time": "2021-12-21T07:25:08.654Z"
   },
   {
    "duration": 49,
    "start_time": "2021-12-21T07:25:08.732Z"
   },
   {
    "duration": 40,
    "start_time": "2021-12-21T07:25:08.783Z"
   },
   {
    "duration": 2,
    "start_time": "2021-12-21T07:25:08.825Z"
   },
   {
    "duration": 22,
    "start_time": "2021-12-21T07:25:08.828Z"
   },
   {
    "duration": 38,
    "start_time": "2021-12-21T07:25:19.765Z"
   },
   {
    "duration": 39,
    "start_time": "2021-12-21T07:26:00.549Z"
   },
   {
    "duration": 2,
    "start_time": "2021-12-21T07:26:34.805Z"
   },
   {
    "duration": 137,
    "start_time": "2021-12-21T07:26:34.810Z"
   },
   {
    "duration": 11,
    "start_time": "2021-12-21T07:26:34.949Z"
   },
   {
    "duration": 40,
    "start_time": "2021-12-21T07:26:34.962Z"
   },
   {
    "duration": 5,
    "start_time": "2021-12-21T07:26:35.004Z"
   },
   {
    "duration": 17,
    "start_time": "2021-12-21T07:26:35.011Z"
   },
   {
    "duration": 4,
    "start_time": "2021-12-21T07:26:35.030Z"
   },
   {
    "duration": 23,
    "start_time": "2021-12-21T07:26:35.036Z"
   },
   {
    "duration": 41,
    "start_time": "2021-12-21T07:26:35.062Z"
   },
   {
    "duration": 22,
    "start_time": "2021-12-21T07:26:35.104Z"
   },
   {
    "duration": 77,
    "start_time": "2021-12-21T07:26:35.128Z"
   },
   {
    "duration": 60,
    "start_time": "2021-12-21T07:26:35.207Z"
   },
   {
    "duration": 65,
    "start_time": "2021-12-21T07:26:35.269Z"
   },
   {
    "duration": 40,
    "start_time": "2021-12-21T07:26:35.336Z"
   },
   {
    "duration": 24,
    "start_time": "2021-12-21T07:26:35.378Z"
   },
   {
    "duration": 4,
    "start_time": "2021-12-21T07:26:35.404Z"
   },
   {
    "duration": 3,
    "start_time": "2021-12-21T07:28:19.434Z"
   },
   {
    "duration": 402,
    "start_time": "2021-12-21T07:28:21.906Z"
   },
   {
    "duration": 6,
    "start_time": "2021-12-21T07:28:48.451Z"
   },
   {
    "duration": 3,
    "start_time": "2021-12-21T07:30:31.613Z"
   },
   {
    "duration": 353,
    "start_time": "2021-12-21T07:30:33.995Z"
   },
   {
    "duration": 3,
    "start_time": "2021-12-21T07:31:24.289Z"
   },
   {
    "duration": 140,
    "start_time": "2021-12-21T07:31:24.294Z"
   },
   {
    "duration": 10,
    "start_time": "2021-12-21T07:31:24.436Z"
   },
   {
    "duration": 25,
    "start_time": "2021-12-21T07:31:24.448Z"
   },
   {
    "duration": 4,
    "start_time": "2021-12-21T07:31:24.491Z"
   },
   {
    "duration": 18,
    "start_time": "2021-12-21T07:31:24.497Z"
   },
   {
    "duration": 4,
    "start_time": "2021-12-21T07:31:24.517Z"
   },
   {
    "duration": 23,
    "start_time": "2021-12-21T07:31:24.522Z"
   },
   {
    "duration": 16,
    "start_time": "2021-12-21T07:31:24.547Z"
   },
   {
    "duration": 46,
    "start_time": "2021-12-21T07:31:24.565Z"
   },
   {
    "duration": 51,
    "start_time": "2021-12-21T07:31:24.613Z"
   },
   {
    "duration": 74,
    "start_time": "2021-12-21T07:31:24.666Z"
   },
   {
    "duration": 57,
    "start_time": "2021-12-21T07:31:24.742Z"
   },
   {
    "duration": 37,
    "start_time": "2021-12-21T07:31:24.801Z"
   },
   {
    "duration": 3,
    "start_time": "2021-12-21T07:31:24.839Z"
   },
   {
    "duration": 3,
    "start_time": "2021-12-21T07:34:09.380Z"
   },
   {
    "duration": 347,
    "start_time": "2021-12-21T07:34:11.499Z"
   },
   {
    "duration": 3,
    "start_time": "2021-12-21T07:34:46.032Z"
   },
   {
    "duration": 368,
    "start_time": "2021-12-21T07:34:47.932Z"
   },
   {
    "duration": 3,
    "start_time": "2021-12-21T07:35:03.618Z"
   },
   {
    "duration": 347,
    "start_time": "2021-12-21T07:36:13.623Z"
   },
   {
    "duration": 3,
    "start_time": "2021-12-21T07:45:38.814Z"
   },
   {
    "duration": 350,
    "start_time": "2021-12-21T07:45:40.531Z"
   },
   {
    "duration": 121,
    "start_time": "2021-12-21T07:46:37.240Z"
   },
   {
    "duration": 3,
    "start_time": "2021-12-21T07:46:46.623Z"
   },
   {
    "duration": 354,
    "start_time": "2021-12-21T07:46:48.732Z"
   },
   {
    "duration": 3,
    "start_time": "2021-12-21T07:47:01.713Z"
   },
   {
    "duration": 154,
    "start_time": "2021-12-21T07:47:01.717Z"
   },
   {
    "duration": 10,
    "start_time": "2021-12-21T07:47:01.873Z"
   },
   {
    "duration": 43,
    "start_time": "2021-12-21T07:47:01.892Z"
   },
   {
    "duration": 30,
    "start_time": "2021-12-21T07:47:01.937Z"
   },
   {
    "duration": 21,
    "start_time": "2021-12-21T07:47:01.969Z"
   },
   {
    "duration": 3,
    "start_time": "2021-12-21T07:47:01.992Z"
   },
   {
    "duration": 39,
    "start_time": "2021-12-21T07:47:01.997Z"
   },
   {
    "duration": 21,
    "start_time": "2021-12-21T07:47:02.038Z"
   },
   {
    "duration": 30,
    "start_time": "2021-12-21T07:47:02.061Z"
   },
   {
    "duration": 67,
    "start_time": "2021-12-21T07:47:02.093Z"
   },
   {
    "duration": 62,
    "start_time": "2021-12-21T07:47:02.162Z"
   },
   {
    "duration": 51,
    "start_time": "2021-12-21T07:47:02.226Z"
   },
   {
    "duration": 48,
    "start_time": "2021-12-21T07:47:02.279Z"
   },
   {
    "duration": 3,
    "start_time": "2021-12-21T07:47:02.328Z"
   },
   {
    "duration": 375,
    "start_time": "2021-12-21T07:47:02.332Z"
   },
   {
    "duration": 3,
    "start_time": "2021-12-21T07:49:22.202Z"
   },
   {
    "duration": 3,
    "start_time": "2021-12-21T07:49:24.894Z"
   },
   {
    "duration": 25,
    "start_time": "2021-12-21T07:49:40.096Z"
   },
   {
    "duration": 384,
    "start_time": "2021-12-21T07:53:20.966Z"
   },
   {
    "duration": 3,
    "start_time": "2021-12-21T07:53:37.693Z"
   },
   {
    "duration": 133,
    "start_time": "2021-12-21T07:53:37.698Z"
   },
   {
    "duration": 10,
    "start_time": "2021-12-21T07:53:37.833Z"
   },
   {
    "duration": 27,
    "start_time": "2021-12-21T07:53:37.845Z"
   },
   {
    "duration": 4,
    "start_time": "2021-12-21T07:53:37.874Z"
   },
   {
    "duration": 12,
    "start_time": "2021-12-21T07:53:37.891Z"
   },
   {
    "duration": 4,
    "start_time": "2021-12-21T07:53:37.905Z"
   },
   {
    "duration": 25,
    "start_time": "2021-12-21T07:53:37.911Z"
   },
   {
    "duration": 17,
    "start_time": "2021-12-21T07:53:37.939Z"
   },
   {
    "duration": 46,
    "start_time": "2021-12-21T07:53:37.957Z"
   },
   {
    "duration": 55,
    "start_time": "2021-12-21T07:53:38.004Z"
   },
   {
    "duration": 85,
    "start_time": "2021-12-21T07:53:38.061Z"
   },
   {
    "duration": 60,
    "start_time": "2021-12-21T07:53:38.147Z"
   },
   {
    "duration": 39,
    "start_time": "2021-12-21T07:53:38.208Z"
   },
   {
    "duration": 63,
    "start_time": "2021-12-21T07:54:00.133Z"
   },
   {
    "duration": 63,
    "start_time": "2021-12-21T07:54:06.594Z"
   },
   {
    "duration": 2,
    "start_time": "2021-12-21T07:54:13.320Z"
   },
   {
    "duration": 589,
    "start_time": "2021-12-21T07:54:15.881Z"
   },
   {
    "duration": 62,
    "start_time": "2021-12-21T07:54:23.320Z"
   },
   {
    "duration": 2,
    "start_time": "2021-12-21T07:54:29.687Z"
   },
   {
    "duration": 136,
    "start_time": "2021-12-21T07:54:29.691Z"
   },
   {
    "duration": 10,
    "start_time": "2021-12-21T07:54:29.829Z"
   },
   {
    "duration": 24,
    "start_time": "2021-12-21T07:54:29.840Z"
   },
   {
    "duration": 3,
    "start_time": "2021-12-21T07:54:29.866Z"
   },
   {
    "duration": 30,
    "start_time": "2021-12-21T07:54:29.871Z"
   },
   {
    "duration": 4,
    "start_time": "2021-12-21T07:54:29.902Z"
   },
   {
    "duration": 23,
    "start_time": "2021-12-21T07:54:29.907Z"
   },
   {
    "duration": 16,
    "start_time": "2021-12-21T07:54:29.932Z"
   },
   {
    "duration": 45,
    "start_time": "2021-12-21T07:54:29.950Z"
   },
   {
    "duration": 65,
    "start_time": "2021-12-21T07:54:29.996Z"
   },
   {
    "duration": 69,
    "start_time": "2021-12-21T07:54:30.062Z"
   },
   {
    "duration": 59,
    "start_time": "2021-12-21T07:54:30.133Z"
   },
   {
    "duration": 39,
    "start_time": "2021-12-21T07:54:30.193Z"
   },
   {
    "duration": 2,
    "start_time": "2021-12-21T07:54:34.807Z"
   },
   {
    "duration": 132,
    "start_time": "2021-12-21T07:54:34.811Z"
   },
   {
    "duration": 11,
    "start_time": "2021-12-21T07:54:34.945Z"
   },
   {
    "duration": 41,
    "start_time": "2021-12-21T07:54:34.958Z"
   },
   {
    "duration": 17,
    "start_time": "2021-12-21T07:54:35.001Z"
   },
   {
    "duration": 31,
    "start_time": "2021-12-21T07:54:35.020Z"
   },
   {
    "duration": 11,
    "start_time": "2021-12-21T07:54:35.053Z"
   },
   {
    "duration": 50,
    "start_time": "2021-12-21T07:54:35.066Z"
   },
   {
    "duration": 29,
    "start_time": "2021-12-21T07:54:35.119Z"
   },
   {
    "duration": 55,
    "start_time": "2021-12-21T07:54:35.150Z"
   },
   {
    "duration": 80,
    "start_time": "2021-12-21T07:54:35.206Z"
   },
   {
    "duration": 60,
    "start_time": "2021-12-21T07:54:35.288Z"
   },
   {
    "duration": 62,
    "start_time": "2021-12-21T07:54:35.350Z"
   },
   {
    "duration": 38,
    "start_time": "2021-12-21T07:54:35.414Z"
   },
   {
    "duration": 2,
    "start_time": "2021-12-21T07:54:35.454Z"
   },
   {
    "duration": 342,
    "start_time": "2021-12-21T07:54:35.458Z"
   },
   {
    "duration": 6,
    "start_time": "2021-12-21T08:03:02.281Z"
   },
   {
    "duration": 3,
    "start_time": "2021-12-21T08:05:56.773Z"
   },
   {
    "duration": 353,
    "start_time": "2021-12-21T08:05:58.921Z"
   },
   {
    "duration": 3,
    "start_time": "2021-12-21T08:08:14.407Z"
   },
   {
    "duration": 339,
    "start_time": "2021-12-21T08:08:16.044Z"
   },
   {
    "duration": 7,
    "start_time": "2021-12-21T08:08:21.328Z"
   },
   {
    "duration": 3,
    "start_time": "2021-12-21T08:09:49.334Z"
   },
   {
    "duration": 404,
    "start_time": "2021-12-21T08:09:51.609Z"
   },
   {
    "duration": 17,
    "start_time": "2021-12-21T08:10:16.594Z"
   },
   {
    "duration": 18,
    "start_time": "2021-12-21T08:10:27.114Z"
   },
   {
    "duration": 3,
    "start_time": "2021-12-21T08:10:39.842Z"
   },
   {
    "duration": 342,
    "start_time": "2021-12-21T08:10:41.633Z"
   },
   {
    "duration": 18,
    "start_time": "2021-12-21T08:11:11.634Z"
   },
   {
    "duration": 6,
    "start_time": "2021-12-21T08:11:21.794Z"
   },
   {
    "duration": 3,
    "start_time": "2021-12-21T08:11:59.874Z"
   },
   {
    "duration": 20,
    "start_time": "2021-12-21T08:12:01.946Z"
   },
   {
    "duration": 3,
    "start_time": "2021-12-21T08:12:19.259Z"
   },
   {
    "duration": 38,
    "start_time": "2021-12-21T08:12:21.109Z"
   },
   {
    "duration": 184,
    "start_time": "2021-12-21T08:12:40.967Z"
   },
   {
    "duration": 7,
    "start_time": "2021-12-21T08:13:02.791Z"
   },
   {
    "duration": 41,
    "start_time": "2021-12-21T08:13:31.647Z"
   },
   {
    "duration": 40,
    "start_time": "2021-12-21T08:16:24.395Z"
   },
   {
    "duration": 40,
    "start_time": "2021-12-21T08:16:39.448Z"
   },
   {
    "duration": 3,
    "start_time": "2021-12-21T08:16:56.195Z"
   },
   {
    "duration": 141,
    "start_time": "2021-12-21T08:16:56.200Z"
   },
   {
    "duration": 12,
    "start_time": "2021-12-21T08:16:56.343Z"
   },
   {
    "duration": 34,
    "start_time": "2021-12-21T08:16:56.357Z"
   },
   {
    "duration": 5,
    "start_time": "2021-12-21T08:16:56.393Z"
   },
   {
    "duration": 15,
    "start_time": "2021-12-21T08:16:56.400Z"
   },
   {
    "duration": 5,
    "start_time": "2021-12-21T08:16:56.417Z"
   },
   {
    "duration": 24,
    "start_time": "2021-12-21T08:16:56.425Z"
   },
   {
    "duration": 52,
    "start_time": "2021-12-21T08:16:56.451Z"
   },
   {
    "duration": 26,
    "start_time": "2021-12-21T08:16:56.505Z"
   },
   {
    "duration": 73,
    "start_time": "2021-12-21T08:16:56.533Z"
   },
   {
    "duration": 64,
    "start_time": "2021-12-21T08:16:56.609Z"
   },
   {
    "duration": 65,
    "start_time": "2021-12-21T08:16:56.675Z"
   },
   {
    "duration": 56,
    "start_time": "2021-12-21T08:16:56.742Z"
   },
   {
    "duration": 3,
    "start_time": "2021-12-21T08:16:56.800Z"
   },
   {
    "duration": 19,
    "start_time": "2021-12-21T08:16:56.805Z"
   },
   {
    "duration": 7,
    "start_time": "2021-12-21T08:19:18.047Z"
   },
   {
    "duration": 19,
    "start_time": "2021-12-21T08:19:52.292Z"
   },
   {
    "duration": 189,
    "start_time": "2021-12-21T08:20:09.015Z"
   },
   {
    "duration": 9,
    "start_time": "2021-12-21T08:20:30.238Z"
   },
   {
    "duration": 16,
    "start_time": "2021-12-21T08:21:09.103Z"
   },
   {
    "duration": 14,
    "start_time": "2021-12-21T08:22:11.460Z"
   },
   {
    "duration": 14,
    "start_time": "2021-12-21T08:22:17.414Z"
   },
   {
    "duration": 17,
    "start_time": "2021-12-21T08:22:30.924Z"
   },
   {
    "duration": 16,
    "start_time": "2021-12-21T08:22:43.326Z"
   },
   {
    "duration": 14,
    "start_time": "2021-12-21T08:24:37.153Z"
   },
   {
    "duration": 16,
    "start_time": "2021-12-21T08:24:41.648Z"
   },
   {
    "duration": 14,
    "start_time": "2021-12-21T08:25:35.177Z"
   },
   {
    "duration": 5,
    "start_time": "2021-12-21T08:41:56.995Z"
   },
   {
    "duration": 9,
    "start_time": "2021-12-21T08:41:59.206Z"
   },
   {
    "duration": 52,
    "start_time": "2021-12-21T08:42:02.671Z"
   },
   {
    "duration": 33,
    "start_time": "2021-12-21T08:47:28.567Z"
   },
   {
    "duration": 488,
    "start_time": "2021-12-21T08:49:17.392Z"
   },
   {
    "duration": 291,
    "start_time": "2021-12-21T08:49:29.246Z"
   },
   {
    "duration": 33,
    "start_time": "2021-12-21T08:49:37.985Z"
   },
   {
    "duration": 35,
    "start_time": "2021-12-21T08:49:51.286Z"
   },
   {
    "duration": 32,
    "start_time": "2021-12-21T08:50:02.826Z"
   },
   {
    "duration": 34,
    "start_time": "2021-12-21T08:50:28.683Z"
   },
   {
    "duration": 186,
    "start_time": "2021-12-21T08:59:36.711Z"
   },
   {
    "duration": 33,
    "start_time": "2021-12-21T08:59:54.222Z"
   },
   {
    "duration": 381,
    "start_time": "2021-12-21T09:07:13.628Z"
   },
   {
    "duration": 36,
    "start_time": "2021-12-21T09:07:22.517Z"
   },
   {
    "duration": 235,
    "start_time": "2021-12-21T11:45:42.221Z"
   },
   {
    "duration": 104,
    "start_time": "2021-12-21T11:46:00.672Z"
   },
   {
    "duration": 860,
    "start_time": "2021-12-21T11:47:21.424Z"
   },
   {
    "duration": 192,
    "start_time": "2021-12-21T11:47:22.287Z"
   },
   {
    "duration": 26,
    "start_time": "2021-12-21T11:47:22.483Z"
   },
   {
    "duration": 52,
    "start_time": "2021-12-21T11:47:22.512Z"
   },
   {
    "duration": 6,
    "start_time": "2021-12-21T11:47:22.566Z"
   },
   {
    "duration": 45,
    "start_time": "2021-12-21T11:47:22.575Z"
   },
   {
    "duration": 22,
    "start_time": "2021-12-21T11:47:22.623Z"
   },
   {
    "duration": 40,
    "start_time": "2021-12-21T11:47:22.648Z"
   },
   {
    "duration": 29,
    "start_time": "2021-12-21T11:47:22.694Z"
   },
   {
    "duration": 44,
    "start_time": "2021-12-21T11:47:22.726Z"
   },
   {
    "duration": 114,
    "start_time": "2021-12-21T11:47:22.772Z"
   },
   {
    "duration": 125,
    "start_time": "2021-12-21T11:47:22.889Z"
   },
   {
    "duration": 82,
    "start_time": "2021-12-21T11:47:23.016Z"
   },
   {
    "duration": 66,
    "start_time": "2021-12-21T11:47:23.100Z"
   },
   {
    "duration": 6,
    "start_time": "2021-12-21T11:47:23.169Z"
   },
   {
    "duration": 695,
    "start_time": "2021-12-21T11:47:23.177Z"
   },
   {
    "duration": 617,
    "start_time": "2021-12-21T11:47:23.257Z"
   },
   {
    "duration": 616,
    "start_time": "2021-12-21T11:47:23.260Z"
   },
   {
    "duration": 301,
    "start_time": "2021-12-21T11:48:45.419Z"
   },
   {
    "duration": 294,
    "start_time": "2021-12-21T11:48:51.652Z"
   },
   {
    "duration": 403,
    "start_time": "2021-12-21T11:49:45.158Z"
   },
   {
    "duration": 376,
    "start_time": "2021-12-21T11:49:51.181Z"
   },
   {
    "duration": 293,
    "start_time": "2021-12-21T11:50:13.559Z"
   },
   {
    "duration": 41,
    "start_time": "2021-12-21T11:53:34.630Z"
   },
   {
    "duration": 676,
    "start_time": "2021-12-21T11:55:01.898Z"
   },
   {
    "duration": 42,
    "start_time": "2021-12-21T11:55:19.738Z"
   },
   {
    "duration": 404,
    "start_time": "2021-12-21T11:55:32.320Z"
   },
   {
    "duration": 295,
    "start_time": "2021-12-21T11:55:40.310Z"
   },
   {
    "duration": 321,
    "start_time": "2021-12-21T11:55:42.539Z"
   },
   {
    "duration": 343,
    "start_time": "2021-12-21T11:55:43.777Z"
   },
   {
    "duration": 46,
    "start_time": "2021-12-21T11:55:47.226Z"
   },
   {
    "duration": 28,
    "start_time": "2021-12-21T12:01:32.172Z"
   },
   {
    "duration": 38,
    "start_time": "2021-12-21T12:02:13.282Z"
   },
   {
    "duration": 3,
    "start_time": "2021-12-21T12:02:58.699Z"
   },
   {
    "duration": 188,
    "start_time": "2021-12-21T12:02:58.706Z"
   },
   {
    "duration": 17,
    "start_time": "2021-12-21T12:02:58.896Z"
   },
   {
    "duration": 73,
    "start_time": "2021-12-21T12:02:58.917Z"
   },
   {
    "duration": 5,
    "start_time": "2021-12-21T12:02:58.993Z"
   },
   {
    "duration": 40,
    "start_time": "2021-12-21T12:02:59.001Z"
   },
   {
    "duration": 21,
    "start_time": "2021-12-21T12:02:59.043Z"
   },
   {
    "duration": 40,
    "start_time": "2021-12-21T12:02:59.069Z"
   },
   {
    "duration": 28,
    "start_time": "2021-12-21T12:02:59.112Z"
   },
   {
    "duration": 47,
    "start_time": "2021-12-21T12:02:59.143Z"
   },
   {
    "duration": 149,
    "start_time": "2021-12-21T12:02:59.193Z"
   },
   {
    "duration": 105,
    "start_time": "2021-12-21T12:02:59.344Z"
   },
   {
    "duration": 88,
    "start_time": "2021-12-21T12:02:59.452Z"
   },
   {
    "duration": 93,
    "start_time": "2021-12-21T12:02:59.543Z"
   },
   {
    "duration": 28,
    "start_time": "2021-12-21T12:02:59.639Z"
   },
   {
    "duration": 319,
    "start_time": "2021-12-21T12:02:59.669Z"
   },
   {
    "duration": 671,
    "start_time": "2021-12-21T12:02:59.319Z"
   },
   {
    "duration": 41,
    "start_time": "2021-12-21T12:03:09.657Z"
   },
   {
    "duration": 38,
    "start_time": "2021-12-21T12:03:48.654Z"
   },
   {
    "duration": 37,
    "start_time": "2021-12-21T12:04:11.568Z"
   },
   {
    "duration": 38,
    "start_time": "2021-12-21T12:05:49.738Z"
   },
   {
    "duration": 99,
    "start_time": "2021-12-21T12:07:34.932Z"
   },
   {
    "duration": 62,
    "start_time": "2021-12-21T12:07:42.525Z"
   },
   {
    "duration": 30,
    "start_time": "2021-12-21T12:07:49.035Z"
   },
   {
    "duration": 64,
    "start_time": "2021-12-21T12:08:12.429Z"
   },
   {
    "duration": 16,
    "start_time": "2021-12-21T12:11:39.797Z"
   },
   {
    "duration": 23,
    "start_time": "2021-12-21T12:12:36.750Z"
   },
   {
    "duration": 17,
    "start_time": "2021-12-21T12:12:49.234Z"
   },
   {
    "duration": 19,
    "start_time": "2021-12-21T12:14:19.964Z"
   },
   {
    "duration": 16,
    "start_time": "2021-12-21T12:14:45.528Z"
   },
   {
    "duration": 17,
    "start_time": "2021-12-21T12:14:47.740Z"
   },
   {
    "duration": 15,
    "start_time": "2021-12-21T12:15:05.130Z"
   },
   {
    "duration": 16,
    "start_time": "2021-12-21T12:15:07.194Z"
   },
   {
    "duration": 4,
    "start_time": "2021-12-21T12:15:12.633Z"
   },
   {
    "duration": 191,
    "start_time": "2021-12-21T12:15:12.639Z"
   },
   {
    "duration": 15,
    "start_time": "2021-12-21T12:15:12.833Z"
   },
   {
    "duration": 32,
    "start_time": "2021-12-21T12:15:12.863Z"
   },
   {
    "duration": 6,
    "start_time": "2021-12-21T12:15:12.897Z"
   },
   {
    "duration": 25,
    "start_time": "2021-12-21T12:15:12.905Z"
   },
   {
    "duration": 32,
    "start_time": "2021-12-21T12:15:12.932Z"
   },
   {
    "duration": 29,
    "start_time": "2021-12-21T12:15:12.966Z"
   },
   {
    "duration": 27,
    "start_time": "2021-12-21T12:15:12.999Z"
   },
   {
    "duration": 48,
    "start_time": "2021-12-21T12:15:13.029Z"
   },
   {
    "duration": 100,
    "start_time": "2021-12-21T12:15:13.080Z"
   },
   {
    "duration": 99,
    "start_time": "2021-12-21T12:15:13.182Z"
   },
   {
    "duration": 82,
    "start_time": "2021-12-21T12:15:13.283Z"
   },
   {
    "duration": 60,
    "start_time": "2021-12-21T12:15:13.367Z"
   },
   {
    "duration": 4,
    "start_time": "2021-12-21T12:15:13.429Z"
   },
   {
    "duration": 324,
    "start_time": "2021-12-21T12:15:13.436Z"
   },
   {
    "duration": 666,
    "start_time": "2021-12-21T12:15:13.097Z"
   },
   {
    "duration": 640,
    "start_time": "2021-12-21T12:15:13.124Z"
   },
   {
    "duration": 16,
    "start_time": "2021-12-21T12:15:18.337Z"
   },
   {
    "duration": 749,
    "start_time": "2021-12-21T12:22:12.461Z"
   },
   {
    "duration": 182,
    "start_time": "2021-12-21T12:22:13.213Z"
   },
   {
    "duration": 28,
    "start_time": "2021-12-21T12:22:13.398Z"
   },
   {
    "duration": 45,
    "start_time": "2021-12-21T12:22:13.428Z"
   },
   {
    "duration": 5,
    "start_time": "2021-12-21T12:22:13.475Z"
   },
   {
    "duration": 32,
    "start_time": "2021-12-21T12:22:13.483Z"
   },
   {
    "duration": 5,
    "start_time": "2021-12-21T12:22:13.517Z"
   },
   {
    "duration": 58,
    "start_time": "2021-12-21T12:22:13.526Z"
   },
   {
    "duration": 20,
    "start_time": "2021-12-21T12:22:13.587Z"
   },
   {
    "duration": 54,
    "start_time": "2021-12-21T12:22:13.610Z"
   },
   {
    "duration": 82,
    "start_time": "2021-12-21T12:22:13.666Z"
   },
   {
    "duration": 113,
    "start_time": "2021-12-21T12:22:13.750Z"
   },
   {
    "duration": 76,
    "start_time": "2021-12-21T12:22:13.865Z"
   },
   {
    "duration": 72,
    "start_time": "2021-12-21T12:22:13.944Z"
   },
   {
    "duration": 5,
    "start_time": "2021-12-21T12:22:14.018Z"
   },
   {
    "duration": 418,
    "start_time": "2021-12-21T12:22:14.025Z"
   },
   {
    "duration": 631,
    "start_time": "2021-12-21T12:22:13.815Z"
   },
   {
    "duration": 630,
    "start_time": "2021-12-21T12:22:13.818Z"
   },
   {
    "duration": 600,
    "start_time": "2021-12-21T12:22:13.849Z"
   },
   {
    "duration": 594,
    "start_time": "2021-12-21T12:22:13.857Z"
   },
   {
    "duration": 587,
    "start_time": "2021-12-21T12:22:13.866Z"
   },
   {
    "duration": 586,
    "start_time": "2021-12-21T12:22:13.868Z"
   },
   {
    "duration": 579,
    "start_time": "2021-12-21T12:22:13.877Z"
   },
   {
    "duration": 493,
    "start_time": "2021-12-21T12:22:13.964Z"
   },
   {
    "duration": 493,
    "start_time": "2021-12-21T12:22:13.966Z"
   },
   {
    "duration": 492,
    "start_time": "2021-12-21T12:22:13.968Z"
   },
   {
    "duration": 492,
    "start_time": "2021-12-21T12:22:13.970Z"
   },
   {
    "duration": 491,
    "start_time": "2021-12-21T12:22:13.972Z"
   },
   {
    "duration": 491,
    "start_time": "2021-12-21T12:22:13.974Z"
   },
   {
    "duration": 490,
    "start_time": "2021-12-21T12:22:13.976Z"
   },
   {
    "duration": 490,
    "start_time": "2021-12-21T12:22:13.977Z"
   },
   {
    "duration": 490,
    "start_time": "2021-12-21T12:22:13.979Z"
   },
   {
    "duration": 489,
    "start_time": "2021-12-21T12:22:13.981Z"
   },
   {
    "duration": 489,
    "start_time": "2021-12-21T12:22:13.982Z"
   },
   {
    "duration": 489,
    "start_time": "2021-12-21T12:22:13.984Z"
   },
   {
    "duration": 488,
    "start_time": "2021-12-21T12:22:13.986Z"
   },
   {
    "duration": 487,
    "start_time": "2021-12-21T12:22:13.988Z"
   },
   {
    "duration": 357,
    "start_time": "2021-12-21T12:22:14.120Z"
   },
   {
    "duration": 597,
    "start_time": "2021-12-21T12:26:04.776Z"
   },
   {
    "duration": 5,
    "start_time": "2021-12-21T12:26:59.717Z"
   },
   {
    "duration": 1230,
    "start_time": "2021-12-21T12:27:01.566Z"
   },
   {
    "duration": 648,
    "start_time": "2021-12-21T12:27:11.051Z"
   },
   {
    "duration": 5,
    "start_time": "2021-12-21T12:27:21.323Z"
   },
   {
    "duration": 22,
    "start_time": "2021-12-21T12:27:22.931Z"
   },
   {
    "duration": 23,
    "start_time": "2021-12-21T12:28:57.378Z"
   },
   {
    "duration": 94,
    "start_time": "2021-12-21T12:30:27.678Z"
   },
   {
    "duration": 5,
    "start_time": "2021-12-21T12:31:01.907Z"
   },
   {
    "duration": 30,
    "start_time": "2021-12-21T12:31:04.631Z"
   },
   {
    "duration": 905,
    "start_time": "2021-12-21T12:31:23.858Z"
   },
   {
    "duration": 181,
    "start_time": "2021-12-21T12:31:24.766Z"
   },
   {
    "duration": 35,
    "start_time": "2021-12-21T12:31:24.950Z"
   },
   {
    "duration": 37,
    "start_time": "2021-12-21T12:31:24.989Z"
   },
   {
    "duration": 7,
    "start_time": "2021-12-21T12:31:25.029Z"
   },
   {
    "duration": 29,
    "start_time": "2021-12-21T12:31:25.063Z"
   },
   {
    "duration": 8,
    "start_time": "2021-12-21T12:31:25.095Z"
   },
   {
    "duration": 57,
    "start_time": "2021-12-21T12:31:25.107Z"
   },
   {
    "duration": 22,
    "start_time": "2021-12-21T12:31:25.167Z"
   },
   {
    "duration": 30,
    "start_time": "2021-12-21T12:31:25.192Z"
   },
   {
    "duration": 123,
    "start_time": "2021-12-21T12:31:25.225Z"
   },
   {
    "duration": 98,
    "start_time": "2021-12-21T12:31:25.350Z"
   },
   {
    "duration": 95,
    "start_time": "2021-12-21T12:31:25.450Z"
   },
   {
    "duration": 73,
    "start_time": "2021-12-21T12:31:25.547Z"
   },
   {
    "duration": 4,
    "start_time": "2021-12-21T12:31:25.623Z"
   },
   {
    "duration": 640,
    "start_time": "2021-12-21T12:31:25.630Z"
   },
   {
    "duration": 628,
    "start_time": "2021-12-21T12:31:25.646Z"
   },
   {
    "duration": 619,
    "start_time": "2021-12-21T12:31:25.657Z"
   },
   {
    "duration": 619,
    "start_time": "2021-12-21T12:31:25.659Z"
   },
   {
    "duration": 616,
    "start_time": "2021-12-21T12:31:25.665Z"
   },
   {
    "duration": 616,
    "start_time": "2021-12-21T12:31:25.667Z"
   },
   {
    "duration": 617,
    "start_time": "2021-12-21T12:31:25.668Z"
   },
   {
    "duration": 589,
    "start_time": "2021-12-21T12:31:25.699Z"
   },
   {
    "duration": 588,
    "start_time": "2021-12-21T12:31:25.702Z"
   },
   {
    "duration": 588,
    "start_time": "2021-12-21T12:31:25.704Z"
   },
   {
    "duration": 529,
    "start_time": "2021-12-21T12:31:25.765Z"
   },
   {
    "duration": 526,
    "start_time": "2021-12-21T12:31:25.770Z"
   },
   {
    "duration": 527,
    "start_time": "2021-12-21T12:31:25.772Z"
   },
   {
    "duration": 528,
    "start_time": "2021-12-21T12:31:25.773Z"
   },
   {
    "duration": 528,
    "start_time": "2021-12-21T12:31:25.775Z"
   },
   {
    "duration": 528,
    "start_time": "2021-12-21T12:31:25.777Z"
   },
   {
    "duration": 514,
    "start_time": "2021-12-21T12:31:25.793Z"
   },
   {
    "duration": 513,
    "start_time": "2021-12-21T12:31:25.796Z"
   },
   {
    "duration": 500,
    "start_time": "2021-12-21T12:31:25.812Z"
   },
   {
    "duration": 514,
    "start_time": "2021-12-21T12:31:25.848Z"
   },
   {
    "duration": 515,
    "start_time": "2021-12-21T12:31:25.850Z"
   },
   {
    "duration": 515,
    "start_time": "2021-12-21T12:31:25.852Z"
   },
   {
    "duration": 515,
    "start_time": "2021-12-21T12:31:25.854Z"
   },
   {
    "duration": 348,
    "start_time": "2021-12-21T12:31:38.614Z"
   },
   {
    "duration": 3,
    "start_time": "2021-12-21T12:31:45.268Z"
   },
   {
    "duration": 204,
    "start_time": "2021-12-21T12:31:45.274Z"
   },
   {
    "duration": 15,
    "start_time": "2021-12-21T12:31:45.482Z"
   },
   {
    "duration": 57,
    "start_time": "2021-12-21T12:31:45.499Z"
   },
   {
    "duration": 24,
    "start_time": "2021-12-21T12:31:45.558Z"
   },
   {
    "duration": 42,
    "start_time": "2021-12-21T12:31:45.585Z"
   },
   {
    "duration": 16,
    "start_time": "2021-12-21T12:31:45.629Z"
   },
   {
    "duration": 67,
    "start_time": "2021-12-21T12:31:45.647Z"
   },
   {
    "duration": 32,
    "start_time": "2021-12-21T12:31:45.718Z"
   },
   {
    "duration": 53,
    "start_time": "2021-12-21T12:31:45.753Z"
   },
   {
    "duration": 108,
    "start_time": "2021-12-21T12:31:45.809Z"
   },
   {
    "duration": 94,
    "start_time": "2021-12-21T12:31:45.919Z"
   },
   {
    "duration": 86,
    "start_time": "2021-12-21T12:31:46.015Z"
   },
   {
    "duration": 67,
    "start_time": "2021-12-21T12:31:46.103Z"
   },
   {
    "duration": 18,
    "start_time": "2021-12-21T12:31:46.173Z"
   },
   {
    "duration": 346,
    "start_time": "2021-12-21T12:31:46.193Z"
   },
   {
    "duration": 657,
    "start_time": "2021-12-21T12:31:45.884Z"
   },
   {
    "duration": 615,
    "start_time": "2021-12-21T12:31:45.928Z"
   },
   {
    "duration": 614,
    "start_time": "2021-12-21T12:31:45.930Z"
   },
   {
    "duration": 310,
    "start_time": "2021-12-21T12:31:48.667Z"
   },
   {
    "duration": 5,
    "start_time": "2021-12-21T12:34:59.896Z"
   },
   {
    "duration": 31,
    "start_time": "2021-12-21T12:37:21.053Z"
   },
   {
    "duration": 5,
    "start_time": "2021-12-21T12:38:24.574Z"
   },
   {
    "duration": 185,
    "start_time": "2021-12-21T12:38:24.583Z"
   },
   {
    "duration": 16,
    "start_time": "2021-12-21T12:38:24.771Z"
   },
   {
    "duration": 32,
    "start_time": "2021-12-21T12:38:24.790Z"
   },
   {
    "duration": 5,
    "start_time": "2021-12-21T12:38:24.825Z"
   },
   {
    "duration": 22,
    "start_time": "2021-12-21T12:38:24.863Z"
   },
   {
    "duration": 6,
    "start_time": "2021-12-21T12:38:24.888Z"
   },
   {
    "duration": 30,
    "start_time": "2021-12-21T12:38:24.896Z"
   },
   {
    "duration": 64,
    "start_time": "2021-12-21T12:38:24.932Z"
   },
   {
    "duration": 67,
    "start_time": "2021-12-21T12:38:25.000Z"
   },
   {
    "duration": 131,
    "start_time": "2021-12-21T12:38:25.071Z"
   },
   {
    "duration": 145,
    "start_time": "2021-12-21T12:38:25.206Z"
   },
   {
    "duration": 116,
    "start_time": "2021-12-21T12:38:25.354Z"
   },
   {
    "duration": 63,
    "start_time": "2021-12-21T12:38:25.472Z"
   },
   {
    "duration": 25,
    "start_time": "2021-12-21T12:38:25.538Z"
   },
   {
    "duration": 296,
    "start_time": "2021-12-21T12:38:25.566Z"
   },
   {
    "duration": 641,
    "start_time": "2021-12-21T12:38:25.224Z"
   },
   {
    "duration": 641,
    "start_time": "2021-12-21T12:38:25.226Z"
   },
   {
    "duration": 641,
    "start_time": "2021-12-21T12:38:25.228Z"
   },
   {
    "duration": 28,
    "start_time": "2021-12-21T12:38:34.761Z"
   },
   {
    "duration": 6,
    "start_time": "2021-12-21T12:38:47.911Z"
   },
   {
    "duration": 28,
    "start_time": "2021-12-21T12:38:49.556Z"
   },
   {
    "duration": 29,
    "start_time": "2021-12-21T12:38:56.061Z"
   },
   {
    "duration": 15,
    "start_time": "2021-12-21T12:39:54.780Z"
   },
   {
    "duration": 3,
    "start_time": "2021-12-21T12:40:29.518Z"
   },
   {
    "duration": 191,
    "start_time": "2021-12-21T12:40:29.524Z"
   },
   {
    "duration": 17,
    "start_time": "2021-12-21T12:40:29.718Z"
   },
   {
    "duration": 49,
    "start_time": "2021-12-21T12:40:29.738Z"
   },
   {
    "duration": 5,
    "start_time": "2021-12-21T12:40:29.790Z"
   },
   {
    "duration": 17,
    "start_time": "2021-12-21T12:40:29.797Z"
   },
   {
    "duration": 5,
    "start_time": "2021-12-21T12:40:29.816Z"
   },
   {
    "duration": 68,
    "start_time": "2021-12-21T12:40:29.823Z"
   },
   {
    "duration": 22,
    "start_time": "2021-12-21T12:40:29.895Z"
   },
   {
    "duration": 58,
    "start_time": "2021-12-21T12:40:29.920Z"
   },
   {
    "duration": 104,
    "start_time": "2021-12-21T12:40:29.981Z"
   },
   {
    "duration": 106,
    "start_time": "2021-12-21T12:40:30.088Z"
   },
   {
    "duration": 91,
    "start_time": "2021-12-21T12:40:30.197Z"
   },
   {
    "duration": 74,
    "start_time": "2021-12-21T12:40:30.291Z"
   },
   {
    "duration": 3,
    "start_time": "2021-12-21T12:40:30.368Z"
   },
   {
    "duration": 894,
    "start_time": "2021-12-21T12:40:30.374Z"
   },
   {
    "duration": 564,
    "start_time": "2021-12-21T12:40:30.707Z"
   },
   {
    "duration": 561,
    "start_time": "2021-12-21T12:40:30.711Z"
   },
   {
    "duration": 561,
    "start_time": "2021-12-21T12:40:30.713Z"
   },
   {
    "duration": 561,
    "start_time": "2021-12-21T12:40:30.714Z"
   },
   {
    "duration": 561,
    "start_time": "2021-12-21T12:40:30.716Z"
   },
   {
    "duration": 510,
    "start_time": "2021-12-21T12:40:30.768Z"
   },
   {
    "duration": 502,
    "start_time": "2021-12-21T12:40:30.778Z"
   },
   {
    "duration": 501,
    "start_time": "2021-12-21T12:40:30.780Z"
   },
   {
    "duration": 501,
    "start_time": "2021-12-21T12:40:30.782Z"
   },
   {
    "duration": 32,
    "start_time": "2021-12-21T12:40:34.143Z"
   },
   {
    "duration": 27,
    "start_time": "2021-12-21T12:40:36.643Z"
   },
   {
    "duration": 30,
    "start_time": "2021-12-21T12:40:38.480Z"
   },
   {
    "duration": 31,
    "start_time": "2021-12-21T12:40:51.512Z"
   },
   {
    "duration": 34,
    "start_time": "2021-12-21T12:40:54.539Z"
   },
   {
    "duration": 26,
    "start_time": "2021-12-21T12:40:57.862Z"
   },
   {
    "duration": 5,
    "start_time": "2021-12-21T12:41:20.692Z"
   },
   {
    "duration": 20,
    "start_time": "2021-12-21T12:41:22.520Z"
   },
   {
    "duration": 19,
    "start_time": "2021-12-21T12:41:24.292Z"
   },
   {
    "duration": 20,
    "start_time": "2021-12-21T12:41:26.031Z"
   },
   {
    "duration": 17,
    "start_time": "2021-12-21T12:41:27.751Z"
   },
   {
    "duration": 22,
    "start_time": "2021-12-21T12:41:29.421Z"
   },
   {
    "duration": 20,
    "start_time": "2021-12-21T12:41:31.200Z"
   },
   {
    "duration": 614,
    "start_time": "2021-12-21T16:58:43.004Z"
   },
   {
    "duration": 145,
    "start_time": "2021-12-21T16:58:43.620Z"
   },
   {
    "duration": 26,
    "start_time": "2021-12-21T16:58:43.767Z"
   },
   {
    "duration": 35,
    "start_time": "2021-12-21T16:58:43.797Z"
   },
   {
    "duration": 15,
    "start_time": "2021-12-21T16:58:43.834Z"
   },
   {
    "duration": 30,
    "start_time": "2021-12-21T16:58:43.851Z"
   },
   {
    "duration": 18,
    "start_time": "2021-12-21T16:58:43.882Z"
   },
   {
    "duration": 31,
    "start_time": "2021-12-21T16:58:43.904Z"
   },
   {
    "duration": 37,
    "start_time": "2021-12-21T16:58:43.938Z"
   },
   {
    "duration": 26,
    "start_time": "2021-12-21T16:58:43.977Z"
   },
   {
    "duration": 69,
    "start_time": "2021-12-21T16:58:44.007Z"
   },
   {
    "duration": 96,
    "start_time": "2021-12-21T16:58:44.078Z"
   },
   {
    "duration": 70,
    "start_time": "2021-12-21T16:58:44.176Z"
   },
   {
    "duration": 58,
    "start_time": "2021-12-21T16:58:44.247Z"
   },
   {
    "duration": 3,
    "start_time": "2021-12-21T16:58:44.307Z"
   },
   {
    "duration": 241,
    "start_time": "2021-12-21T16:58:44.312Z"
   },
   {
    "duration": -714,
    "start_time": "2021-12-21T16:58:45.268Z"
   },
   {
    "duration": -713,
    "start_time": "2021-12-21T16:58:45.269Z"
   },
   {
    "duration": -713,
    "start_time": "2021-12-21T16:58:45.270Z"
   },
   {
    "duration": -714,
    "start_time": "2021-12-21T16:58:45.272Z"
   },
   {
    "duration": -715,
    "start_time": "2021-12-21T16:58:45.274Z"
   },
   {
    "duration": -718,
    "start_time": "2021-12-21T16:58:45.278Z"
   },
   {
    "duration": -719,
    "start_time": "2021-12-21T16:58:45.280Z"
   },
   {
    "duration": -719,
    "start_time": "2021-12-21T16:58:45.281Z"
   },
   {
    "duration": -719,
    "start_time": "2021-12-21T16:58:45.282Z"
   },
   {
    "duration": 180,
    "start_time": "2021-12-21T16:58:49.732Z"
   },
   {
    "duration": 4,
    "start_time": "2021-12-21T16:58:56.504Z"
   },
   {
    "duration": 17,
    "start_time": "2021-12-21T16:58:59.444Z"
   },
   {
    "duration": 16,
    "start_time": "2021-12-21T16:59:01.612Z"
   },
   {
    "duration": 15,
    "start_time": "2021-12-21T16:59:03.339Z"
   },
   {
    "duration": 17,
    "start_time": "2021-12-21T16:59:04.977Z"
   },
   {
    "duration": 18,
    "start_time": "2021-12-21T16:59:06.750Z"
   },
   {
    "duration": 16,
    "start_time": "2021-12-21T16:59:08.743Z"
   },
   {
    "duration": 174,
    "start_time": "2021-12-21T17:01:24.605Z"
   },
   {
    "duration": 173,
    "start_time": "2021-12-21T17:01:47.165Z"
   },
   {
    "duration": 173,
    "start_time": "2021-12-21T17:07:20.363Z"
   },
   {
    "duration": 3,
    "start_time": "2021-12-21T17:07:22.737Z"
   },
   {
    "duration": 186,
    "start_time": "2021-12-21T17:07:24.452Z"
   },
   {
    "duration": 358,
    "start_time": "2021-12-21T17:07:44.801Z"
   },
   {
    "duration": 17,
    "start_time": "2021-12-21T17:08:10.947Z"
   },
   {
    "duration": 10,
    "start_time": "2021-12-21T17:08:27.812Z"
   },
   {
    "duration": 9,
    "start_time": "2021-12-21T17:08:30.212Z"
   },
   {
    "duration": 46,
    "start_time": "2021-12-21T17:08:32.274Z"
   },
   {
    "duration": 3,
    "start_time": "2021-12-21T17:08:53.848Z"
   },
   {
    "duration": 139,
    "start_time": "2021-12-21T17:08:53.853Z"
   },
   {
    "duration": 15,
    "start_time": "2021-12-21T17:08:53.996Z"
   },
   {
    "duration": 25,
    "start_time": "2021-12-21T17:08:54.013Z"
   },
   {
    "duration": 4,
    "start_time": "2021-12-21T17:08:54.040Z"
   },
   {
    "duration": 21,
    "start_time": "2021-12-21T17:08:54.045Z"
   },
   {
    "duration": 6,
    "start_time": "2021-12-21T17:08:54.094Z"
   },
   {
    "duration": 26,
    "start_time": "2021-12-21T17:08:54.102Z"
   },
   {
    "duration": 29,
    "start_time": "2021-12-21T17:08:54.131Z"
   },
   {
    "duration": 35,
    "start_time": "2021-12-21T17:08:54.162Z"
   },
   {
    "duration": 61,
    "start_time": "2021-12-21T17:08:54.200Z"
   },
   {
    "duration": 71,
    "start_time": "2021-12-21T17:08:54.262Z"
   },
   {
    "duration": 48,
    "start_time": "2021-12-21T17:08:54.335Z"
   },
   {
    "duration": 44,
    "start_time": "2021-12-21T17:08:54.393Z"
   },
   {
    "duration": 3,
    "start_time": "2021-12-21T17:08:54.439Z"
   },
   {
    "duration": 10,
    "start_time": "2021-12-21T17:08:54.443Z"
   },
   {
    "duration": 61,
    "start_time": "2021-12-21T17:08:54.454Z"
   },
   {
    "duration": 11,
    "start_time": "2021-12-21T17:08:54.517Z"
   },
   {
    "duration": 10,
    "start_time": "2021-12-21T17:08:54.529Z"
   },
   {
    "duration": 3,
    "start_time": "2021-12-21T17:08:54.540Z"
   },
   {
    "duration": 47,
    "start_time": "2021-12-21T17:08:54.545Z"
   },
   {
    "duration": 20,
    "start_time": "2021-12-21T17:08:54.596Z"
   },
   {
    "duration": 13,
    "start_time": "2021-12-21T17:08:54.618Z"
   },
   {
    "duration": 12,
    "start_time": "2021-12-21T17:08:54.633Z"
   },
   {
    "duration": 15,
    "start_time": "2021-12-21T17:08:54.647Z"
   },
   {
    "duration": 45,
    "start_time": "2021-12-21T17:08:54.664Z"
   },
   {
    "duration": 216,
    "start_time": "2021-12-21T17:08:54.713Z"
   },
   {
    "duration": -707,
    "start_time": "2021-12-21T17:08:55.638Z"
   },
   {
    "duration": -718,
    "start_time": "2021-12-21T17:08:55.650Z"
   },
   {
    "duration": -719,
    "start_time": "2021-12-21T17:08:55.652Z"
   },
   {
    "duration": -719,
    "start_time": "2021-12-21T17:08:55.653Z"
   },
   {
    "duration": -720,
    "start_time": "2021-12-21T17:08:55.654Z"
   },
   {
    "duration": -720,
    "start_time": "2021-12-21T17:08:55.656Z"
   },
   {
    "duration": -720,
    "start_time": "2021-12-21T17:08:55.657Z"
   },
   {
    "duration": -721,
    "start_time": "2021-12-21T17:08:55.659Z"
   },
   {
    "duration": -721,
    "start_time": "2021-12-21T17:08:55.660Z"
   },
   {
    "duration": -722,
    "start_time": "2021-12-21T17:08:55.662Z"
   },
   {
    "duration": -722,
    "start_time": "2021-12-21T17:08:55.663Z"
   },
   {
    "duration": 174,
    "start_time": "2021-12-21T17:22:05.973Z"
   },
   {
    "duration": 171,
    "start_time": "2021-12-21T17:22:16.767Z"
   },
   {
    "duration": 337,
    "start_time": "2021-12-21T17:22:39.104Z"
   },
   {
    "duration": 348,
    "start_time": "2021-12-21T17:23:47.311Z"
   },
   {
    "duration": 175,
    "start_time": "2021-12-21T17:25:53.596Z"
   },
   {
    "duration": 178,
    "start_time": "2021-12-21T17:27:23.777Z"
   },
   {
    "duration": 181,
    "start_time": "2021-12-21T17:28:18.703Z"
   },
   {
    "duration": 178,
    "start_time": "2021-12-21T17:37:23.364Z"
   },
   {
    "duration": 189,
    "start_time": "2021-12-21T17:37:30.467Z"
   },
   {
    "duration": 172,
    "start_time": "2021-12-21T17:37:33.177Z"
   },
   {
    "duration": 184,
    "start_time": "2021-12-21T17:52:24.902Z"
   },
   {
    "duration": 171,
    "start_time": "2021-12-21T17:52:40.537Z"
   },
   {
    "duration": 4,
    "start_time": "2021-12-21T17:53:12.663Z"
   },
   {
    "duration": 7,
    "start_time": "2021-12-21T17:53:17.492Z"
   },
   {
    "duration": 174,
    "start_time": "2021-12-21T17:55:22.832Z"
   },
   {
    "duration": 205,
    "start_time": "2021-12-21T17:57:34.921Z"
   },
   {
    "duration": 592,
    "start_time": "2021-12-21T17:57:40.683Z"
   },
   {
    "duration": 164,
    "start_time": "2021-12-21T17:59:57.525Z"
   },
   {
    "duration": 175,
    "start_time": "2021-12-21T18:04:44.612Z"
   },
   {
    "duration": 169,
    "start_time": "2021-12-21T18:11:27.709Z"
   },
   {
    "duration": 3,
    "start_time": "2021-12-21T18:14:50.639Z"
   },
   {
    "duration": 343,
    "start_time": "2021-12-21T18:15:58.890Z"
   },
   {
    "duration": 3,
    "start_time": "2021-12-21T18:16:40.188Z"
   },
   {
    "duration": 186,
    "start_time": "2021-12-21T18:16:40.195Z"
   },
   {
    "duration": 17,
    "start_time": "2021-12-21T18:16:40.383Z"
   },
   {
    "duration": 28,
    "start_time": "2021-12-21T18:16:40.403Z"
   },
   {
    "duration": 5,
    "start_time": "2021-12-21T18:16:40.433Z"
   },
   {
    "duration": 29,
    "start_time": "2021-12-21T18:16:40.440Z"
   },
   {
    "duration": 6,
    "start_time": "2021-12-21T18:16:40.492Z"
   },
   {
    "duration": 39,
    "start_time": "2021-12-21T18:16:40.500Z"
   },
   {
    "duration": 16,
    "start_time": "2021-12-21T18:16:40.542Z"
   },
   {
    "duration": 52,
    "start_time": "2021-12-21T18:16:40.561Z"
   },
   {
    "duration": 60,
    "start_time": "2021-12-21T18:16:40.615Z"
   },
   {
    "duration": 70,
    "start_time": "2021-12-21T18:16:40.692Z"
   },
   {
    "duration": 77,
    "start_time": "2021-12-21T18:16:40.764Z"
   },
   {
    "duration": 50,
    "start_time": "2021-12-21T18:16:40.843Z"
   },
   {
    "duration": 5,
    "start_time": "2021-12-21T18:16:40.896Z"
   },
   {
    "duration": 14,
    "start_time": "2021-12-21T18:16:40.903Z"
   },
   {
    "duration": 74,
    "start_time": "2021-12-21T18:16:40.919Z"
   },
   {
    "duration": 17,
    "start_time": "2021-12-21T18:16:40.997Z"
   },
   {
    "duration": 12,
    "start_time": "2021-12-21T18:16:41.016Z"
   },
   {
    "duration": 3,
    "start_time": "2021-12-21T18:16:41.030Z"
   },
   {
    "duration": 22,
    "start_time": "2021-12-21T18:16:41.035Z"
   },
   {
    "duration": 45,
    "start_time": "2021-12-21T18:16:41.059Z"
   },
   {
    "duration": 17,
    "start_time": "2021-12-21T18:16:41.106Z"
   },
   {
    "duration": 13,
    "start_time": "2021-12-21T18:16:41.125Z"
   },
   {
    "duration": 14,
    "start_time": "2021-12-21T18:16:41.140Z"
   },
   {
    "duration": 54,
    "start_time": "2021-12-21T18:16:41.156Z"
   },
   {
    "duration": 39,
    "start_time": "2021-12-21T18:16:41.214Z"
   },
   {
    "duration": 3,
    "start_time": "2021-12-21T18:16:41.256Z"
   },
   {
    "duration": 30,
    "start_time": "2021-12-21T18:16:41.261Z"
   },
   {
    "duration": 9,
    "start_time": "2021-12-21T18:16:41.294Z"
   },
   {
    "duration": 12,
    "start_time": "2021-12-21T18:16:41.305Z"
   },
   {
    "duration": 5,
    "start_time": "2021-12-21T18:16:41.319Z"
   },
   {
    "duration": 11,
    "start_time": "2021-12-21T18:16:41.326Z"
   },
   {
    "duration": 6,
    "start_time": "2021-12-21T18:16:41.338Z"
   },
   {
    "duration": 5,
    "start_time": "2021-12-21T18:16:41.346Z"
   },
   {
    "duration": 5,
    "start_time": "2021-12-21T18:16:41.353Z"
   },
   {
    "duration": 11,
    "start_time": "2021-12-21T18:16:41.360Z"
   },
   {
    "duration": 4,
    "start_time": "2021-12-21T18:16:41.373Z"
   },
   {
    "duration": 5,
    "start_time": "2021-12-21T18:17:04.492Z"
   },
   {
    "duration": 16,
    "start_time": "2021-12-21T18:17:06.365Z"
   },
   {
    "duration": 19,
    "start_time": "2021-12-21T18:17:08.033Z"
   },
   {
    "duration": 20,
    "start_time": "2021-12-21T18:17:09.732Z"
   },
   {
    "duration": 17,
    "start_time": "2021-12-21T18:17:12.059Z"
   },
   {
    "duration": 21,
    "start_time": "2021-12-21T18:17:14.922Z"
   },
   {
    "duration": 18,
    "start_time": "2021-12-21T18:17:19.015Z"
   },
   {
    "duration": 35,
    "start_time": "2021-12-21T18:17:21.604Z"
   },
   {
    "duration": 34,
    "start_time": "2021-12-21T18:18:29.123Z"
   },
   {
    "duration": 648,
    "start_time": "2021-12-21T18:18:42.162Z"
   },
   {
    "duration": 152,
    "start_time": "2021-12-21T18:18:42.813Z"
   },
   {
    "duration": 17,
    "start_time": "2021-12-21T18:18:42.967Z"
   },
   {
    "duration": 41,
    "start_time": "2021-12-21T18:18:42.992Z"
   },
   {
    "duration": 4,
    "start_time": "2021-12-21T18:18:43.035Z"
   },
   {
    "duration": 60,
    "start_time": "2021-12-21T18:18:43.041Z"
   },
   {
    "duration": 7,
    "start_time": "2021-12-21T18:18:43.104Z"
   },
   {
    "duration": 31,
    "start_time": "2021-12-21T18:18:43.116Z"
   },
   {
    "duration": 42,
    "start_time": "2021-12-21T18:18:43.150Z"
   },
   {
    "duration": 35,
    "start_time": "2021-12-21T18:18:43.194Z"
   },
   {
    "duration": 90,
    "start_time": "2021-12-21T18:18:43.231Z"
   },
   {
    "duration": 94,
    "start_time": "2021-12-21T18:18:43.324Z"
   },
   {
    "duration": 64,
    "start_time": "2021-12-21T18:18:43.421Z"
   },
   {
    "duration": 50,
    "start_time": "2021-12-21T18:18:43.493Z"
   },
   {
    "duration": 4,
    "start_time": "2021-12-21T18:18:43.545Z"
   },
   {
    "duration": 15,
    "start_time": "2021-12-21T18:18:43.551Z"
   },
   {
    "duration": 75,
    "start_time": "2021-12-21T18:18:43.567Z"
   },
   {
    "duration": 11,
    "start_time": "2021-12-21T18:18:43.644Z"
   },
   {
    "duration": 38,
    "start_time": "2021-12-21T18:18:43.657Z"
   },
   {
    "duration": 6,
    "start_time": "2021-12-21T18:18:43.699Z"
   },
   {
    "duration": 23,
    "start_time": "2021-12-21T18:18:43.709Z"
   },
   {
    "duration": 18,
    "start_time": "2021-12-21T18:18:43.734Z"
   },
   {
    "duration": 48,
    "start_time": "2021-12-21T18:18:43.756Z"
   },
   {
    "duration": 23,
    "start_time": "2021-12-21T18:18:43.809Z"
   },
   {
    "duration": 25,
    "start_time": "2021-12-21T18:18:43.833Z"
   },
   {
    "duration": 49,
    "start_time": "2021-12-21T18:18:43.860Z"
   },
   {
    "duration": 39,
    "start_time": "2021-12-21T18:18:43.912Z"
   },
   {
    "duration": 7,
    "start_time": "2021-12-21T18:18:43.953Z"
   },
   {
    "duration": 9,
    "start_time": "2021-12-21T18:18:43.962Z"
   },
   {
    "duration": 5,
    "start_time": "2021-12-21T18:18:43.973Z"
   },
   {
    "duration": 6,
    "start_time": "2021-12-21T18:18:43.992Z"
   },
   {
    "duration": 5,
    "start_time": "2021-12-21T18:18:44.002Z"
   },
   {
    "duration": 6,
    "start_time": "2021-12-21T18:18:44.010Z"
   },
   {
    "duration": 4,
    "start_time": "2021-12-21T18:18:44.019Z"
   },
   {
    "duration": 4,
    "start_time": "2021-12-21T18:18:44.025Z"
   },
   {
    "duration": 4,
    "start_time": "2021-12-21T18:18:44.031Z"
   },
   {
    "duration": 6,
    "start_time": "2021-12-21T18:18:44.037Z"
   },
   {
    "duration": 5,
    "start_time": "2021-12-21T18:18:44.045Z"
   },
   {
    "duration": 415,
    "start_time": "2021-12-21T18:24:04.188Z"
   },
   {
    "duration": 693,
    "start_time": "2021-12-21T18:24:11.474Z"
   },
   {
    "duration": 600,
    "start_time": "2021-12-21T18:25:21.874Z"
   },
   {
    "duration": 161,
    "start_time": "2021-12-21T18:25:22.476Z"
   },
   {
    "duration": 19,
    "start_time": "2021-12-21T18:25:22.640Z"
   },
   {
    "duration": 41,
    "start_time": "2021-12-21T18:25:22.661Z"
   },
   {
    "duration": 6,
    "start_time": "2021-12-21T18:25:22.706Z"
   },
   {
    "duration": 37,
    "start_time": "2021-12-21T18:25:22.714Z"
   },
   {
    "duration": 13,
    "start_time": "2021-12-21T18:25:22.754Z"
   },
   {
    "duration": 43,
    "start_time": "2021-12-21T18:25:22.769Z"
   },
   {
    "duration": 20,
    "start_time": "2021-12-21T18:25:22.814Z"
   },
   {
    "duration": 24,
    "start_time": "2021-12-21T18:25:22.837Z"
   },
   {
    "duration": 90,
    "start_time": "2021-12-21T18:25:22.863Z"
   },
   {
    "duration": 81,
    "start_time": "2021-12-21T18:25:22.955Z"
   },
   {
    "duration": 68,
    "start_time": "2021-12-21T18:25:23.039Z"
   },
   {
    "duration": 53,
    "start_time": "2021-12-21T18:25:23.109Z"
   },
   {
    "duration": 6,
    "start_time": "2021-12-21T18:25:23.164Z"
   },
   {
    "duration": 25,
    "start_time": "2021-12-21T18:25:23.172Z"
   },
   {
    "duration": 68,
    "start_time": "2021-12-21T18:25:23.200Z"
   },
   {
    "duration": 26,
    "start_time": "2021-12-21T18:25:23.270Z"
   },
   {
    "duration": 16,
    "start_time": "2021-12-21T18:25:23.299Z"
   },
   {
    "duration": 3,
    "start_time": "2021-12-21T18:25:23.317Z"
   },
   {
    "duration": 20,
    "start_time": "2021-12-21T18:25:23.322Z"
   },
   {
    "duration": 15,
    "start_time": "2021-12-21T18:25:23.344Z"
   },
   {
    "duration": 46,
    "start_time": "2021-12-21T18:25:23.362Z"
   },
   {
    "duration": 15,
    "start_time": "2021-12-21T18:25:23.410Z"
   },
   {
    "duration": 18,
    "start_time": "2021-12-21T18:25:23.427Z"
   },
   {
    "duration": 48,
    "start_time": "2021-12-21T18:25:23.447Z"
   },
   {
    "duration": 35,
    "start_time": "2021-12-21T18:25:23.498Z"
   },
   {
    "duration": 4,
    "start_time": "2021-12-21T18:25:23.535Z"
   },
   {
    "duration": 5,
    "start_time": "2021-12-21T18:25:23.541Z"
   },
   {
    "duration": 10,
    "start_time": "2021-12-21T18:25:23.548Z"
   },
   {
    "duration": 6,
    "start_time": "2021-12-21T18:25:23.561Z"
   },
   {
    "duration": 5,
    "start_time": "2021-12-21T18:25:23.568Z"
   },
   {
    "duration": 11,
    "start_time": "2021-12-21T18:25:23.590Z"
   },
   {
    "duration": 5,
    "start_time": "2021-12-21T18:25:23.603Z"
   },
   {
    "duration": 7,
    "start_time": "2021-12-21T18:25:23.610Z"
   },
   {
    "duration": 5,
    "start_time": "2021-12-21T18:25:23.619Z"
   },
   {
    "duration": 4,
    "start_time": "2021-12-21T18:25:23.626Z"
   },
   {
    "duration": 5,
    "start_time": "2021-12-21T18:25:23.632Z"
   },
   {
    "duration": 457,
    "start_time": "2021-12-21T18:27:38.698Z"
   },
   {
    "duration": -656,
    "start_time": "2021-12-21T18:35:27.268Z"
   },
   {
    "duration": 544,
    "start_time": "2021-12-21T18:35:33.218Z"
   },
   {
    "duration": 140,
    "start_time": "2021-12-21T18:35:33.764Z"
   },
   {
    "duration": 17,
    "start_time": "2021-12-21T18:35:33.906Z"
   },
   {
    "duration": 25,
    "start_time": "2021-12-21T18:35:33.925Z"
   },
   {
    "duration": 4,
    "start_time": "2021-12-21T18:35:33.952Z"
   },
   {
    "duration": 48,
    "start_time": "2021-12-21T18:35:33.957Z"
   },
   {
    "duration": 3,
    "start_time": "2021-12-21T18:35:34.007Z"
   },
   {
    "duration": 21,
    "start_time": "2021-12-21T18:35:34.013Z"
   },
   {
    "duration": 17,
    "start_time": "2021-12-21T18:35:34.036Z"
   },
   {
    "duration": 41,
    "start_time": "2021-12-21T18:35:34.054Z"
   },
   {
    "duration": 55,
    "start_time": "2021-12-21T18:35:34.097Z"
   },
   {
    "duration": 75,
    "start_time": "2021-12-21T18:35:34.154Z"
   },
   {
    "duration": 47,
    "start_time": "2021-12-21T18:35:34.230Z"
   },
   {
    "duration": 52,
    "start_time": "2021-12-21T18:35:34.278Z"
   },
   {
    "duration": 3,
    "start_time": "2021-12-21T18:35:34.331Z"
   },
   {
    "duration": 11,
    "start_time": "2021-12-21T18:35:34.336Z"
   },
   {
    "duration": 56,
    "start_time": "2021-12-21T18:35:34.348Z"
   },
   {
    "duration": 10,
    "start_time": "2021-12-21T18:35:34.406Z"
   },
   {
    "duration": 11,
    "start_time": "2021-12-21T18:35:34.417Z"
   },
   {
    "duration": 3,
    "start_time": "2021-12-21T18:35:34.429Z"
   },
   {
    "duration": 19,
    "start_time": "2021-12-21T18:35:34.434Z"
   },
   {
    "duration": 37,
    "start_time": "2021-12-21T18:35:34.455Z"
   },
   {
    "duration": 15,
    "start_time": "2021-12-21T18:35:34.495Z"
   },
   {
    "duration": 12,
    "start_time": "2021-12-21T18:35:34.512Z"
   },
   {
    "duration": 15,
    "start_time": "2021-12-21T18:35:34.526Z"
   },
   {
    "duration": 13,
    "start_time": "2021-12-21T18:35:34.542Z"
   },
   {
    "duration": 229,
    "start_time": "2021-12-21T18:35:34.557Z"
   },
   {
    "duration": -641,
    "start_time": "2021-12-21T18:35:35.429Z"
   },
   {
    "duration": -647,
    "start_time": "2021-12-21T18:35:35.436Z"
   },
   {
    "duration": -647,
    "start_time": "2021-12-21T18:35:35.437Z"
   },
   {
    "duration": -648,
    "start_time": "2021-12-21T18:35:35.439Z"
   },
   {
    "duration": -648,
    "start_time": "2021-12-21T18:35:35.440Z"
   },
   {
    "duration": -649,
    "start_time": "2021-12-21T18:35:35.442Z"
   },
   {
    "duration": -649,
    "start_time": "2021-12-21T18:35:35.443Z"
   },
   {
    "duration": -649,
    "start_time": "2021-12-21T18:35:35.444Z"
   },
   {
    "duration": -649,
    "start_time": "2021-12-21T18:35:35.445Z"
   },
   {
    "duration": -650,
    "start_time": "2021-12-21T18:35:35.447Z"
   },
   {
    "duration": -650,
    "start_time": "2021-12-21T18:35:35.448Z"
   },
   {
    "duration": 30,
    "start_time": "2021-12-21T18:35:53.501Z"
   },
   {
    "duration": 168,
    "start_time": "2021-12-21T18:36:25.197Z"
   },
   {
    "duration": 32,
    "start_time": "2021-12-21T18:36:32.774Z"
   },
   {
    "duration": 57,
    "start_time": "2021-12-21T18:40:29.089Z"
   },
   {
    "duration": 14,
    "start_time": "2021-12-21T18:40:36.200Z"
   },
   {
    "duration": 14,
    "start_time": "2021-12-21T18:40:48.393Z"
   },
   {
    "duration": 11,
    "start_time": "2021-12-21T19:12:26.239Z"
   },
   {
    "duration": 10,
    "start_time": "2021-12-21T19:13:49.649Z"
   },
   {
    "duration": 12,
    "start_time": "2021-12-21T19:13:52.446Z"
   },
   {
    "duration": 24,
    "start_time": "2021-12-21T19:14:02.221Z"
   },
   {
    "duration": 21,
    "start_time": "2021-12-21T19:14:26.762Z"
   },
   {
    "duration": 539,
    "start_time": "2021-12-21T19:14:45.440Z"
   },
   {
    "duration": 144,
    "start_time": "2021-12-21T19:14:45.981Z"
   },
   {
    "duration": 17,
    "start_time": "2021-12-21T19:14:46.127Z"
   },
   {
    "duration": 37,
    "start_time": "2021-12-21T19:14:46.145Z"
   },
   {
    "duration": 18,
    "start_time": "2021-12-21T19:14:46.184Z"
   },
   {
    "duration": 34,
    "start_time": "2021-12-21T19:14:46.204Z"
   },
   {
    "duration": 10,
    "start_time": "2021-12-21T19:14:46.239Z"
   },
   {
    "duration": 45,
    "start_time": "2021-12-21T19:14:46.252Z"
   },
   {
    "duration": 40,
    "start_time": "2021-12-21T19:14:46.300Z"
   },
   {
    "duration": 29,
    "start_time": "2021-12-21T19:14:46.342Z"
   },
   {
    "duration": 75,
    "start_time": "2021-12-21T19:14:46.373Z"
   },
   {
    "duration": 75,
    "start_time": "2021-12-21T19:14:46.449Z"
   },
   {
    "duration": 49,
    "start_time": "2021-12-21T19:14:46.525Z"
   },
   {
    "duration": 57,
    "start_time": "2021-12-21T19:14:46.575Z"
   },
   {
    "duration": 2,
    "start_time": "2021-12-21T19:14:46.634Z"
   },
   {
    "duration": 15,
    "start_time": "2021-12-21T19:14:46.638Z"
   },
   {
    "duration": 52,
    "start_time": "2021-12-21T19:14:46.654Z"
   },
   {
    "duration": 12,
    "start_time": "2021-12-21T19:14:46.709Z"
   },
   {
    "duration": 11,
    "start_time": "2021-12-21T19:14:46.723Z"
   },
   {
    "duration": 4,
    "start_time": "2021-12-21T19:14:46.735Z"
   },
   {
    "duration": 23,
    "start_time": "2021-12-21T19:14:46.740Z"
   },
   {
    "duration": 46,
    "start_time": "2021-12-21T19:14:46.764Z"
   },
   {
    "duration": 15,
    "start_time": "2021-12-21T19:14:46.814Z"
   },
   {
    "duration": 14,
    "start_time": "2021-12-21T19:14:46.831Z"
   },
   {
    "duration": 16,
    "start_time": "2021-12-21T19:14:46.847Z"
   },
   {
    "duration": 19,
    "start_time": "2021-12-21T19:14:46.893Z"
   },
   {
    "duration": 8,
    "start_time": "2021-12-21T19:14:46.914Z"
   },
   {
    "duration": 17,
    "start_time": "2021-12-21T19:14:46.924Z"
   },
   {
    "duration": 18,
    "start_time": "2021-12-21T19:14:46.943Z"
   },
   {
    "duration": 2,
    "start_time": "2021-12-21T19:14:46.963Z"
   },
   {
    "duration": 9,
    "start_time": "2021-12-21T19:14:46.967Z"
   },
   {
    "duration": 15,
    "start_time": "2021-12-21T19:14:46.977Z"
   },
   {
    "duration": 7,
    "start_time": "2021-12-21T19:14:46.995Z"
   },
   {
    "duration": 6,
    "start_time": "2021-12-21T19:14:47.004Z"
   },
   {
    "duration": 5,
    "start_time": "2021-12-21T19:14:47.011Z"
   },
   {
    "duration": 5,
    "start_time": "2021-12-21T19:14:47.017Z"
   },
   {
    "duration": 5,
    "start_time": "2021-12-21T19:14:47.023Z"
   },
   {
    "duration": 4,
    "start_time": "2021-12-21T19:14:47.030Z"
   },
   {
    "duration": 3,
    "start_time": "2021-12-21T20:12:37.784Z"
   },
   {
    "duration": 162,
    "start_time": "2021-12-21T20:12:37.789Z"
   },
   {
    "duration": 10,
    "start_time": "2021-12-21T20:12:37.954Z"
   },
   {
    "duration": 45,
    "start_time": "2021-12-21T20:12:37.967Z"
   },
   {
    "duration": 5,
    "start_time": "2021-12-21T20:12:38.014Z"
   },
   {
    "duration": 19,
    "start_time": "2021-12-21T20:12:38.021Z"
   },
   {
    "duration": 4,
    "start_time": "2021-12-21T20:12:38.041Z"
   },
   {
    "duration": 58,
    "start_time": "2021-12-21T20:12:38.049Z"
   },
   {
    "duration": 26,
    "start_time": "2021-12-21T20:12:38.110Z"
   },
   {
    "duration": 55,
    "start_time": "2021-12-21T20:12:38.138Z"
   },
   {
    "duration": 62,
    "start_time": "2021-12-21T20:12:38.196Z"
   },
   {
    "duration": 88,
    "start_time": "2021-12-21T20:12:38.261Z"
   },
   {
    "duration": 61,
    "start_time": "2021-12-21T20:12:38.351Z"
   },
   {
    "duration": 41,
    "start_time": "2021-12-21T20:12:38.413Z"
   },
   {
    "duration": 2,
    "start_time": "2021-12-21T20:12:38.456Z"
   },
   {
    "duration": 11,
    "start_time": "2021-12-21T20:12:38.460Z"
   },
   {
    "duration": 45,
    "start_time": "2021-12-21T20:12:38.491Z"
   },
   {
    "duration": 11,
    "start_time": "2021-12-21T20:12:38.538Z"
   },
   {
    "duration": 10,
    "start_time": "2021-12-21T20:12:38.551Z"
   },
   {
    "duration": 4,
    "start_time": "2021-12-21T20:12:38.562Z"
   },
   {
    "duration": 42,
    "start_time": "2021-12-21T20:12:38.567Z"
   },
   {
    "duration": 15,
    "start_time": "2021-12-21T20:12:38.610Z"
   },
   {
    "duration": 13,
    "start_time": "2021-12-21T20:12:38.628Z"
   },
   {
    "duration": 50,
    "start_time": "2021-12-21T20:12:38.643Z"
   },
   {
    "duration": 22,
    "start_time": "2021-12-21T20:12:38.696Z"
   },
   {
    "duration": 23,
    "start_time": "2021-12-21T20:12:38.720Z"
   },
   {
    "duration": 16,
    "start_time": "2021-12-21T20:12:38.745Z"
   },
   {
    "duration": 26,
    "start_time": "2021-12-21T20:12:38.762Z"
   },
   {
    "duration": 23,
    "start_time": "2021-12-21T20:12:38.790Z"
   },
   {
    "duration": 7,
    "start_time": "2021-12-21T20:12:38.816Z"
   },
   {
    "duration": 38,
    "start_time": "2021-12-21T20:12:38.824Z"
   },
   {
    "duration": 36,
    "start_time": "2021-12-21T20:12:38.864Z"
   },
   {
    "duration": 35,
    "start_time": "2021-12-21T20:12:38.903Z"
   },
   {
    "duration": 21,
    "start_time": "2021-12-21T20:12:38.940Z"
   },
   {
    "duration": 32,
    "start_time": "2021-12-21T20:12:38.963Z"
   },
   {
    "duration": 22,
    "start_time": "2021-12-21T20:12:38.997Z"
   },
   {
    "duration": 13,
    "start_time": "2021-12-21T20:12:39.020Z"
   },
   {
    "duration": 24,
    "start_time": "2021-12-21T20:12:39.035Z"
   },
   {
    "duration": 4,
    "start_time": "2021-12-21T20:13:09.926Z"
   },
   {
    "duration": 75,
    "start_time": "2021-12-21T20:13:34.654Z"
   },
   {
    "duration": 83,
    "start_time": "2021-12-21T20:16:13.068Z"
   },
   {
    "duration": 765,
    "start_time": "2021-12-22T03:18:46.568Z"
   },
   {
    "duration": 195,
    "start_time": "2021-12-22T03:18:47.336Z"
   },
   {
    "duration": 46,
    "start_time": "2021-12-22T03:18:47.534Z"
   },
   {
    "duration": 33,
    "start_time": "2021-12-22T03:18:47.584Z"
   },
   {
    "duration": 5,
    "start_time": "2021-12-22T03:18:47.619Z"
   },
   {
    "duration": 63,
    "start_time": "2021-12-22T03:18:47.626Z"
   },
   {
    "duration": 5,
    "start_time": "2021-12-22T03:18:47.692Z"
   },
   {
    "duration": 31,
    "start_time": "2021-12-22T03:18:47.700Z"
   },
   {
    "duration": 48,
    "start_time": "2021-12-22T03:18:47.734Z"
   },
   {
    "duration": 29,
    "start_time": "2021-12-22T03:18:47.785Z"
   },
   {
    "duration": 115,
    "start_time": "2021-12-22T03:18:47.817Z"
   },
   {
    "duration": 107,
    "start_time": "2021-12-22T03:18:47.935Z"
   },
   {
    "duration": 83,
    "start_time": "2021-12-22T03:18:48.044Z"
   },
   {
    "duration": 75,
    "start_time": "2021-12-22T03:18:48.130Z"
   },
   {
    "duration": 5,
    "start_time": "2021-12-22T03:18:48.208Z"
   },
   {
    "duration": 22,
    "start_time": "2021-12-22T03:18:48.216Z"
   },
   {
    "duration": 107,
    "start_time": "2021-12-22T03:18:48.264Z"
   },
   {
    "duration": 23,
    "start_time": "2021-12-22T03:18:48.374Z"
   },
   {
    "duration": 23,
    "start_time": "2021-12-22T03:18:48.400Z"
   },
   {
    "duration": 7,
    "start_time": "2021-12-22T03:18:48.426Z"
   },
   {
    "duration": 33,
    "start_time": "2021-12-22T03:18:48.464Z"
   },
   {
    "duration": 27,
    "start_time": "2021-12-22T03:18:48.500Z"
   },
   {
    "duration": 53,
    "start_time": "2021-12-22T03:18:48.535Z"
   },
   {
    "duration": 18,
    "start_time": "2021-12-22T03:18:48.591Z"
   },
   {
    "duration": 55,
    "start_time": "2021-12-22T03:18:48.611Z"
   },
   {
    "duration": 19,
    "start_time": "2021-12-22T03:18:48.669Z"
   },
   {
    "duration": 115,
    "start_time": "2021-12-22T03:18:48.690Z"
   },
   {
    "duration": 14,
    "start_time": "2021-12-22T03:18:48.808Z"
   },
   {
    "duration": 11,
    "start_time": "2021-12-22T03:18:48.824Z"
   },
   {
    "duration": 26,
    "start_time": "2021-12-22T03:18:48.838Z"
   },
   {
    "duration": 5,
    "start_time": "2021-12-22T03:18:48.867Z"
   },
   {
    "duration": 7,
    "start_time": "2021-12-22T03:18:48.874Z"
   },
   {
    "duration": 5,
    "start_time": "2021-12-22T03:18:48.883Z"
   },
   {
    "duration": 4,
    "start_time": "2021-12-22T03:18:48.890Z"
   },
   {
    "duration": 5,
    "start_time": "2021-12-22T03:18:48.897Z"
   },
   {
    "duration": 5,
    "start_time": "2021-12-22T03:18:48.904Z"
   },
   {
    "duration": 51,
    "start_time": "2021-12-22T03:18:48.912Z"
   },
   {
    "duration": 7,
    "start_time": "2021-12-22T03:18:48.965Z"
   },
   {
    "duration": 92,
    "start_time": "2021-12-22T03:20:26.024Z"
   },
   {
    "duration": 143,
    "start_time": "2021-12-22T03:24:17.186Z"
   },
   {
    "duration": 5,
    "start_time": "2021-12-22T03:33:35.073Z"
   },
   {
    "duration": 964,
    "start_time": "2021-12-22T03:34:03.953Z"
   },
   {
    "duration": 5,
    "start_time": "2021-12-22T03:34:18.109Z"
   },
   {
    "duration": 639,
    "start_time": "2021-12-22T03:34:20.022Z"
   },
   {
    "duration": 93,
    "start_time": "2021-12-22T03:36:25.854Z"
   },
   {
    "duration": 116,
    "start_time": "2021-12-22T03:36:32.215Z"
   },
   {
    "duration": 8,
    "start_time": "2021-12-22T03:36:37.658Z"
   },
   {
    "duration": 615,
    "start_time": "2021-12-22T03:36:40.100Z"
   },
   {
    "duration": 6,
    "start_time": "2021-12-22T03:47:07.731Z"
   },
   {
    "duration": 30,
    "start_time": "2021-12-22T03:47:09.982Z"
   },
   {
    "duration": 22,
    "start_time": "2021-12-22T03:47:32.788Z"
   },
   {
    "duration": 28,
    "start_time": "2021-12-22T03:48:05.367Z"
   },
   {
    "duration": 19,
    "start_time": "2021-12-22T03:48:15.486Z"
   },
   {
    "duration": 755,
    "start_time": "2021-12-22T03:50:51.769Z"
   },
   {
    "duration": 401,
    "start_time": "2021-12-22T03:51:39.924Z"
   },
   {
    "duration": 3,
    "start_time": "2021-12-22T05:06:37.958Z"
   },
   {
    "duration": 217,
    "start_time": "2021-12-22T05:06:37.967Z"
   },
   {
    "duration": 15,
    "start_time": "2021-12-22T05:06:38.187Z"
   },
   {
    "duration": 35,
    "start_time": "2021-12-22T05:06:38.205Z"
   },
   {
    "duration": 6,
    "start_time": "2021-12-22T05:06:38.264Z"
   },
   {
    "duration": 29,
    "start_time": "2021-12-22T05:06:38.273Z"
   },
   {
    "duration": 6,
    "start_time": "2021-12-22T05:06:38.305Z"
   },
   {
    "duration": 66,
    "start_time": "2021-12-22T05:06:38.314Z"
   },
   {
    "duration": 21,
    "start_time": "2021-12-22T05:06:38.383Z"
   },
   {
    "duration": 29,
    "start_time": "2021-12-22T05:06:38.408Z"
   },
   {
    "duration": 99,
    "start_time": "2021-12-22T05:06:38.440Z"
   },
   {
    "duration": 107,
    "start_time": "2021-12-22T05:06:38.541Z"
   },
   {
    "duration": 125,
    "start_time": "2021-12-22T05:06:38.650Z"
   },
   {
    "duration": 111,
    "start_time": "2021-12-22T05:06:38.778Z"
   },
   {
    "duration": 5,
    "start_time": "2021-12-22T05:06:38.893Z"
   },
   {
    "duration": 20,
    "start_time": "2021-12-22T05:06:38.901Z"
   },
   {
    "duration": 121,
    "start_time": "2021-12-22T05:06:38.924Z"
   },
   {
    "duration": 25,
    "start_time": "2021-12-22T05:06:39.048Z"
   },
   {
    "duration": 20,
    "start_time": "2021-12-22T05:06:39.076Z"
   },
   {
    "duration": 6,
    "start_time": "2021-12-22T05:06:39.099Z"
   },
   {
    "duration": 65,
    "start_time": "2021-12-22T05:06:39.108Z"
   },
   {
    "duration": 21,
    "start_time": "2021-12-22T05:06:39.176Z"
   },
   {
    "duration": 20,
    "start_time": "2021-12-22T05:06:39.199Z"
   },
   {
    "duration": 54,
    "start_time": "2021-12-22T05:06:39.221Z"
   },
   {
    "duration": 33,
    "start_time": "2021-12-22T05:06:39.278Z"
   },
   {
    "duration": 64,
    "start_time": "2021-12-22T05:06:39.314Z"
   },
   {
    "duration": 161,
    "start_time": "2021-12-22T05:06:39.382Z"
   },
   {
    "duration": 29,
    "start_time": "2021-12-22T05:06:39.550Z"
   },
   {
    "duration": 22,
    "start_time": "2021-12-22T05:06:39.582Z"
   },
   {
    "duration": 7,
    "start_time": "2021-12-22T05:06:39.607Z"
   },
   {
    "duration": 72,
    "start_time": "2021-12-22T05:06:39.617Z"
   },
   {
    "duration": 30,
    "start_time": "2021-12-22T05:06:39.692Z"
   },
   {
    "duration": 71,
    "start_time": "2021-12-22T05:06:39.724Z"
   },
   {
    "duration": 19,
    "start_time": "2021-12-22T05:06:39.798Z"
   },
   {
    "duration": 502,
    "start_time": "2021-12-22T05:06:39.819Z"
   },
   {
    "duration": 1272,
    "start_time": "2021-12-22T05:06:39.051Z"
   },
   {
    "duration": 1272,
    "start_time": "2021-12-22T05:06:39.053Z"
   },
   {
    "duration": 1244,
    "start_time": "2021-12-22T05:06:39.082Z"
   },
   {
    "duration": 729,
    "start_time": "2021-12-22T05:07:42.999Z"
   },
   {
    "duration": 327,
    "start_time": "2021-12-22T05:07:56.119Z"
   },
   {
    "duration": 321,
    "start_time": "2021-12-22T05:08:29.960Z"
   },
   {
    "duration": 317,
    "start_time": "2021-12-22T05:10:05.506Z"
   },
   {
    "duration": 325,
    "start_time": "2021-12-22T05:12:12.169Z"
   },
   {
    "duration": 666,
    "start_time": "2021-12-22T05:12:15.248Z"
   },
   {
    "duration": 486,
    "start_time": "2021-12-22T05:12:39.751Z"
   },
   {
    "duration": 538,
    "start_time": "2021-12-22T05:12:44.760Z"
   },
   {
    "duration": 309,
    "start_time": "2021-12-22T05:13:57.286Z"
   },
   {
    "duration": 30,
    "start_time": "2021-12-22T05:19:05.788Z"
   },
   {
    "duration": 3,
    "start_time": "2021-12-22T05:19:13.976Z"
   },
   {
    "duration": 13,
    "start_time": "2021-12-22T05:19:30.536Z"
   },
   {
    "duration": 45,
    "start_time": "2021-12-22T05:19:59.273Z"
   },
   {
    "duration": 13,
    "start_time": "2021-12-22T05:20:01.491Z"
   },
   {
    "duration": 25,
    "start_time": "2021-12-22T05:33:10.442Z"
   },
   {
    "duration": 12,
    "start_time": "2021-12-22T05:33:29.573Z"
   },
   {
    "duration": 29,
    "start_time": "2021-12-22T05:53:40.962Z"
   },
   {
    "duration": 13,
    "start_time": "2021-12-22T05:53:42.932Z"
   },
   {
    "duration": 31,
    "start_time": "2021-12-22T05:53:50.038Z"
   },
   {
    "duration": 12,
    "start_time": "2021-12-22T05:53:52.261Z"
   },
   {
    "duration": 847,
    "start_time": "2021-12-22T05:54:45.143Z"
   },
   {
    "duration": 363,
    "start_time": "2021-12-22T05:55:14.668Z"
   },
   {
    "duration": 435,
    "start_time": "2021-12-22T05:55:34.876Z"
   },
   {
    "duration": 293,
    "start_time": "2021-12-22T05:55:43.621Z"
   },
   {
    "duration": 314,
    "start_time": "2021-12-22T05:55:54.611Z"
   },
   {
    "duration": 156,
    "start_time": "2021-12-22T05:56:05.679Z"
   },
   {
    "duration": 107,
    "start_time": "2021-12-22T05:56:09.904Z"
   },
   {
    "duration": 13,
    "start_time": "2021-12-22T05:56:14.192Z"
   },
   {
    "duration": 7,
    "start_time": "2021-12-22T05:56:16.801Z"
   },
   {
    "duration": 7,
    "start_time": "2021-12-22T05:56:41.381Z"
   },
   {
    "duration": 13,
    "start_time": "2021-12-22T05:56:44.030Z"
   },
   {
    "duration": 10,
    "start_time": "2021-12-22T05:57:16.863Z"
   },
   {
    "duration": 7,
    "start_time": "2021-12-22T05:57:31.379Z"
   },
   {
    "duration": 782,
    "start_time": "2021-12-22T05:58:15.035Z"
   },
   {
    "duration": 183,
    "start_time": "2021-12-22T05:58:15.820Z"
   },
   {
    "duration": 26,
    "start_time": "2021-12-22T05:58:16.006Z"
   },
   {
    "duration": 53,
    "start_time": "2021-12-22T05:58:16.035Z"
   },
   {
    "duration": 6,
    "start_time": "2021-12-22T05:58:16.091Z"
   },
   {
    "duration": 29,
    "start_time": "2021-12-22T05:58:16.099Z"
   },
   {
    "duration": 33,
    "start_time": "2021-12-22T05:58:16.131Z"
   },
   {
    "duration": 34,
    "start_time": "2021-12-22T05:58:16.167Z"
   },
   {
    "duration": 56,
    "start_time": "2021-12-22T05:58:16.207Z"
   },
   {
    "duration": 31,
    "start_time": "2021-12-22T05:58:16.267Z"
   },
   {
    "duration": 144,
    "start_time": "2021-12-22T05:58:16.301Z"
   },
   {
    "duration": 146,
    "start_time": "2021-12-22T05:58:16.449Z"
   },
   {
    "duration": 118,
    "start_time": "2021-12-22T05:58:16.598Z"
   },
   {
    "duration": 105,
    "start_time": "2021-12-22T05:58:16.719Z"
   },
   {
    "duration": 5,
    "start_time": "2021-12-22T05:58:16.827Z"
   },
   {
    "duration": 39,
    "start_time": "2021-12-22T05:58:16.835Z"
   },
   {
    "duration": 105,
    "start_time": "2021-12-22T05:58:16.877Z"
   },
   {
    "duration": 22,
    "start_time": "2021-12-22T05:58:16.985Z"
   },
   {
    "duration": 20,
    "start_time": "2021-12-22T05:58:17.010Z"
   },
   {
    "duration": 6,
    "start_time": "2021-12-22T05:58:17.064Z"
   },
   {
    "duration": 35,
    "start_time": "2021-12-22T05:58:17.073Z"
   },
   {
    "duration": 26,
    "start_time": "2021-12-22T05:58:17.111Z"
   },
   {
    "duration": 27,
    "start_time": "2021-12-22T05:58:17.163Z"
   },
   {
    "duration": 26,
    "start_time": "2021-12-22T05:58:17.193Z"
   },
   {
    "duration": 58,
    "start_time": "2021-12-22T05:58:17.222Z"
   },
   {
    "duration": 27,
    "start_time": "2021-12-22T05:58:17.283Z"
   },
   {
    "duration": 124,
    "start_time": "2021-12-22T05:58:17.316Z"
   },
   {
    "duration": 29,
    "start_time": "2021-12-22T05:58:17.444Z"
   },
   {
    "duration": 15,
    "start_time": "2021-12-22T05:58:17.475Z"
   },
   {
    "duration": 8,
    "start_time": "2021-12-22T05:58:17.492Z"
   },
   {
    "duration": 71,
    "start_time": "2021-12-22T05:58:17.502Z"
   },
   {
    "duration": 20,
    "start_time": "2021-12-22T05:58:17.575Z"
   },
   {
    "duration": 30,
    "start_time": "2021-12-22T05:58:17.597Z"
   },
   {
    "duration": 44,
    "start_time": "2021-12-22T05:58:17.629Z"
   },
   {
    "duration": 10,
    "start_time": "2021-12-22T05:58:17.675Z"
   },
   {
    "duration": 6,
    "start_time": "2021-12-22T05:58:17.688Z"
   },
   {
    "duration": 8,
    "start_time": "2021-12-22T05:58:17.696Z"
   },
   {
    "duration": 6,
    "start_time": "2021-12-22T05:58:17.706Z"
   },
   {
    "duration": 800,
    "start_time": "2021-12-23T02:49:22.333Z"
   },
   {
    "duration": 193,
    "start_time": "2021-12-23T02:49:23.135Z"
   },
   {
    "duration": 38,
    "start_time": "2021-12-23T02:49:23.331Z"
   },
   {
    "duration": 35,
    "start_time": "2021-12-23T02:49:23.371Z"
   },
   {
    "duration": 6,
    "start_time": "2021-12-23T02:49:23.409Z"
   },
   {
    "duration": 59,
    "start_time": "2021-12-23T02:49:23.418Z"
   },
   {
    "duration": 13,
    "start_time": "2021-12-23T02:49:23.480Z"
   },
   {
    "duration": 33,
    "start_time": "2021-12-23T02:49:23.499Z"
   },
   {
    "duration": 46,
    "start_time": "2021-12-23T02:49:23.537Z"
   },
   {
    "duration": 33,
    "start_time": "2021-12-23T02:49:23.585Z"
   },
   {
    "duration": 123,
    "start_time": "2021-12-23T02:49:23.620Z"
   },
   {
    "duration": 110,
    "start_time": "2021-12-23T02:49:23.745Z"
   },
   {
    "duration": 77,
    "start_time": "2021-12-23T02:49:23.858Z"
   },
   {
    "duration": 71,
    "start_time": "2021-12-23T02:49:23.937Z"
   },
   {
    "duration": 4,
    "start_time": "2021-12-23T02:49:24.010Z"
   },
   {
    "duration": 16,
    "start_time": "2021-12-23T02:49:24.016Z"
   },
   {
    "duration": 84,
    "start_time": "2021-12-23T02:49:24.035Z"
   },
   {
    "duration": 15,
    "start_time": "2021-12-23T02:49:24.121Z"
   },
   {
    "duration": 39,
    "start_time": "2021-12-23T02:49:24.139Z"
   },
   {
    "duration": 4,
    "start_time": "2021-12-23T02:49:24.181Z"
   },
   {
    "duration": 25,
    "start_time": "2021-12-23T02:49:24.188Z"
   },
   {
    "duration": 19,
    "start_time": "2021-12-23T02:49:24.216Z"
   },
   {
    "duration": 20,
    "start_time": "2021-12-23T02:49:24.269Z"
   },
   {
    "duration": 17,
    "start_time": "2021-12-23T02:49:24.292Z"
   },
   {
    "duration": 20,
    "start_time": "2021-12-23T02:49:24.312Z"
   },
   {
    "duration": 48,
    "start_time": "2021-12-23T02:49:24.335Z"
   },
   {
    "duration": 125,
    "start_time": "2021-12-23T02:49:24.385Z"
   },
   {
    "duration": 18,
    "start_time": "2021-12-23T02:49:24.513Z"
   },
   {
    "duration": 37,
    "start_time": "2021-12-23T02:49:24.534Z"
   },
   {
    "duration": 7,
    "start_time": "2021-12-23T02:49:24.574Z"
   },
   {
    "duration": 39,
    "start_time": "2021-12-23T02:49:24.584Z"
   },
   {
    "duration": 46,
    "start_time": "2021-12-23T02:49:24.626Z"
   },
   {
    "duration": 31,
    "start_time": "2021-12-23T02:49:24.675Z"
   },
   {
    "duration": 19,
    "start_time": "2021-12-23T02:49:24.708Z"
   },
   {
    "duration": 39,
    "start_time": "2021-12-23T02:49:24.730Z"
   },
   {
    "duration": 7,
    "start_time": "2021-12-23T02:49:24.771Z"
   },
   {
    "duration": 9,
    "start_time": "2021-12-23T02:49:24.780Z"
   },
   {
    "duration": 6,
    "start_time": "2021-12-23T02:49:24.792Z"
   },
   {
    "duration": 748,
    "start_time": "2021-12-23T07:55:07.269Z"
   },
   {
    "duration": 545,
    "start_time": "2021-12-23T07:55:15.793Z"
   },
   {
    "duration": 136,
    "start_time": "2021-12-23T07:55:16.340Z"
   },
   {
    "duration": 19,
    "start_time": "2021-12-23T07:55:16.478Z"
   },
   {
    "duration": 24,
    "start_time": "2021-12-23T07:55:16.499Z"
   },
   {
    "duration": 3,
    "start_time": "2021-12-23T07:55:16.525Z"
   },
   {
    "duration": 41,
    "start_time": "2021-12-23T07:55:16.530Z"
   },
   {
    "duration": 3,
    "start_time": "2021-12-23T07:55:16.573Z"
   },
   {
    "duration": 25,
    "start_time": "2021-12-23T07:55:16.580Z"
   },
   {
    "duration": 19,
    "start_time": "2021-12-23T07:55:16.608Z"
   },
   {
    "duration": 45,
    "start_time": "2021-12-23T07:55:16.629Z"
   },
   {
    "duration": 58,
    "start_time": "2021-12-23T07:55:16.677Z"
   },
   {
    "duration": 83,
    "start_time": "2021-12-23T07:55:16.737Z"
   },
   {
    "duration": 60,
    "start_time": "2021-12-23T07:55:16.821Z"
   },
   {
    "duration": 43,
    "start_time": "2021-12-23T07:55:16.883Z"
   },
   {
    "duration": 3,
    "start_time": "2021-12-23T07:55:16.927Z"
   },
   {
    "duration": 30,
    "start_time": "2021-12-23T07:55:16.931Z"
   },
   {
    "duration": 42,
    "start_time": "2021-12-23T07:55:16.963Z"
   },
   {
    "duration": 10,
    "start_time": "2021-12-23T07:55:17.007Z"
   },
   {
    "duration": 18,
    "start_time": "2021-12-23T07:55:17.019Z"
   },
   {
    "duration": 3,
    "start_time": "2021-12-23T07:55:17.039Z"
   },
   {
    "duration": 37,
    "start_time": "2021-12-23T07:55:17.044Z"
   },
   {
    "duration": 17,
    "start_time": "2021-12-23T07:55:17.083Z"
   },
   {
    "duration": 14,
    "start_time": "2021-12-23T07:55:17.103Z"
   },
   {
    "duration": 11,
    "start_time": "2021-12-23T07:55:17.119Z"
   },
   {
    "duration": 39,
    "start_time": "2021-12-23T07:55:17.132Z"
   },
   {
    "duration": 13,
    "start_time": "2021-12-23T07:55:17.173Z"
   },
   {
    "duration": 79,
    "start_time": "2021-12-23T07:55:17.187Z"
   },
   {
    "duration": 10,
    "start_time": "2021-12-23T07:55:17.268Z"
   },
   {
    "duration": 10,
    "start_time": "2021-12-23T07:55:17.279Z"
   },
   {
    "duration": 10,
    "start_time": "2021-12-23T07:55:17.290Z"
   },
   {
    "duration": 27,
    "start_time": "2021-12-23T07:55:17.302Z"
   },
   {
    "duration": 30,
    "start_time": "2021-12-23T07:55:17.331Z"
   },
   {
    "duration": 21,
    "start_time": "2021-12-23T07:55:17.363Z"
   },
   {
    "duration": 15,
    "start_time": "2021-12-23T07:55:17.385Z"
   },
   {
    "duration": 7,
    "start_time": "2021-12-23T07:55:17.402Z"
   },
   {
    "duration": 4,
    "start_time": "2021-12-23T07:55:17.411Z"
   },
   {
    "duration": 7,
    "start_time": "2021-12-23T07:55:17.416Z"
   },
   {
    "duration": 36,
    "start_time": "2021-12-23T07:55:17.425Z"
   },
   {
    "duration": 24,
    "start_time": "2021-12-23T07:59:30.070Z"
   },
   {
    "duration": 3,
    "start_time": "2021-12-23T07:59:43.810Z"
   },
   {
    "duration": 16,
    "start_time": "2021-12-23T07:59:51.402Z"
   },
   {
    "duration": 4,
    "start_time": "2021-12-23T07:59:59.905Z"
   },
   {
    "duration": 21,
    "start_time": "2021-12-23T08:00:14.779Z"
   },
   {
    "duration": 16,
    "start_time": "2021-12-23T08:00:38.848Z"
   },
   {
    "duration": 23,
    "start_time": "2021-12-23T08:00:44.360Z"
   },
   {
    "duration": 53,
    "start_time": "2021-12-23T08:00:57.036Z"
   },
   {
    "duration": 57,
    "start_time": "2021-12-23T08:01:10.513Z"
   },
   {
    "duration": 53,
    "start_time": "2021-12-23T08:01:16.310Z"
   },
   {
    "duration": 43,
    "start_time": "2021-12-23T08:02:02.633Z"
   },
   {
    "duration": 50,
    "start_time": "2021-12-23T08:02:13.608Z"
   },
   {
    "duration": 38,
    "start_time": "2021-12-23T08:03:35.664Z"
   },
   {
    "duration": 9,
    "start_time": "2021-12-23T08:03:52.358Z"
   },
   {
    "duration": 38,
    "start_time": "2021-12-23T08:03:54.793Z"
   },
   {
    "duration": 3,
    "start_time": "2021-12-23T08:04:49.222Z"
   },
   {
    "duration": 3,
    "start_time": "2021-12-23T08:06:40.155Z"
   },
   {
    "duration": 65,
    "start_time": "2021-12-23T08:11:53.860Z"
   },
   {
    "duration": 13,
    "start_time": "2021-12-23T08:12:08.527Z"
   },
   {
    "duration": 10,
    "start_time": "2021-12-23T08:12:11.572Z"
   },
   {
    "duration": 4,
    "start_time": "2021-12-23T08:17:45.914Z"
   },
   {
    "duration": 666,
    "start_time": "2021-12-23T08:18:06.452Z"
   },
   {
    "duration": 150,
    "start_time": "2021-12-23T08:18:07.120Z"
   },
   {
    "duration": 17,
    "start_time": "2021-12-23T08:18:07.272Z"
   },
   {
    "duration": 25,
    "start_time": "2021-12-23T08:18:07.291Z"
   },
   {
    "duration": 4,
    "start_time": "2021-12-23T08:18:07.318Z"
   },
   {
    "duration": 47,
    "start_time": "2021-12-23T08:18:07.324Z"
   },
   {
    "duration": 3,
    "start_time": "2021-12-23T08:18:07.373Z"
   },
   {
    "duration": 32,
    "start_time": "2021-12-23T08:18:07.379Z"
   },
   {
    "duration": 18,
    "start_time": "2021-12-23T08:18:07.414Z"
   },
   {
    "duration": 41,
    "start_time": "2021-12-23T08:18:07.434Z"
   },
   {
    "duration": 63,
    "start_time": "2021-12-23T08:18:07.477Z"
   },
   {
    "duration": 81,
    "start_time": "2021-12-23T08:18:07.542Z"
   },
   {
    "duration": 64,
    "start_time": "2021-12-23T08:18:07.625Z"
   },
   {
    "duration": 39,
    "start_time": "2021-12-23T08:18:07.691Z"
   },
   {
    "duration": 2,
    "start_time": "2021-12-23T08:18:07.732Z"
   },
   {
    "duration": 31,
    "start_time": "2021-12-23T08:18:07.736Z"
   },
   {
    "duration": 42,
    "start_time": "2021-12-23T08:18:07.768Z"
   },
   {
    "duration": 11,
    "start_time": "2021-12-23T08:18:07.812Z"
   },
   {
    "duration": 12,
    "start_time": "2021-12-23T08:18:07.824Z"
   },
   {
    "duration": 25,
    "start_time": "2021-12-23T08:18:07.837Z"
   },
   {
    "duration": 22,
    "start_time": "2021-12-23T08:18:07.863Z"
   },
   {
    "duration": 14,
    "start_time": "2021-12-23T08:18:07.886Z"
   },
   {
    "duration": 15,
    "start_time": "2021-12-23T08:18:07.903Z"
   },
   {
    "duration": 14,
    "start_time": "2021-12-23T08:18:07.920Z"
   },
   {
    "duration": 18,
    "start_time": "2021-12-23T08:18:07.960Z"
   },
   {
    "duration": 15,
    "start_time": "2021-12-23T08:18:07.980Z"
   },
   {
    "duration": 105,
    "start_time": "2021-12-23T08:18:07.997Z"
   },
   {
    "duration": 11,
    "start_time": "2021-12-23T08:18:08.104Z"
   },
   {
    "duration": 9,
    "start_time": "2021-12-23T08:18:08.117Z"
   },
   {
    "duration": 4,
    "start_time": "2021-12-23T08:18:08.128Z"
   },
   {
    "duration": 836,
    "start_time": "2021-12-23T08:18:07.297Z"
   },
   {
    "duration": 824,
    "start_time": "2021-12-23T08:18:07.310Z"
   },
   {
    "duration": 848,
    "start_time": "2021-12-23T08:18:07.312Z"
   },
   {
    "duration": 848,
    "start_time": "2021-12-23T08:18:07.313Z"
   },
   {
    "duration": 844,
    "start_time": "2021-12-23T08:18:07.318Z"
   },
   {
    "duration": 844,
    "start_time": "2021-12-23T08:18:07.319Z"
   },
   {
    "duration": 843,
    "start_time": "2021-12-23T08:18:07.321Z"
   },
   {
    "duration": 839,
    "start_time": "2021-12-23T08:18:07.326Z"
   },
   {
    "duration": 5,
    "start_time": "2021-12-23T08:18:22.786Z"
   },
   {
    "duration": 5,
    "start_time": "2021-12-23T08:18:25.145Z"
   },
   {
    "duration": 608,
    "start_time": "2021-12-23T08:19:18.942Z"
   },
   {
    "duration": 140,
    "start_time": "2021-12-23T08:19:19.552Z"
   },
   {
    "duration": 19,
    "start_time": "2021-12-23T08:19:19.694Z"
   },
   {
    "duration": 26,
    "start_time": "2021-12-23T08:19:19.715Z"
   },
   {
    "duration": 20,
    "start_time": "2021-12-23T08:19:19.743Z"
   },
   {
    "duration": 21,
    "start_time": "2021-12-23T08:19:19.765Z"
   },
   {
    "duration": 5,
    "start_time": "2021-12-23T08:19:19.788Z"
   },
   {
    "duration": 27,
    "start_time": "2021-12-23T08:19:19.796Z"
   },
   {
    "duration": 47,
    "start_time": "2021-12-23T08:19:19.826Z"
   },
   {
    "duration": 26,
    "start_time": "2021-12-23T08:19:19.875Z"
   },
   {
    "duration": 72,
    "start_time": "2021-12-23T08:19:19.902Z"
   },
   {
    "duration": 85,
    "start_time": "2021-12-23T08:19:19.976Z"
   },
   {
    "duration": 53,
    "start_time": "2021-12-23T08:19:20.062Z"
   },
   {
    "duration": 54,
    "start_time": "2021-12-23T08:19:20.117Z"
   },
   {
    "duration": 3,
    "start_time": "2021-12-23T08:19:20.172Z"
   },
   {
    "duration": 18,
    "start_time": "2021-12-23T08:19:20.176Z"
   },
   {
    "duration": 41,
    "start_time": "2021-12-23T08:19:20.196Z"
   },
   {
    "duration": 31,
    "start_time": "2021-12-23T08:19:20.239Z"
   },
   {
    "duration": 10,
    "start_time": "2021-12-23T08:19:20.272Z"
   },
   {
    "duration": 4,
    "start_time": "2021-12-23T08:19:20.284Z"
   },
   {
    "duration": 28,
    "start_time": "2021-12-23T08:19:20.289Z"
   },
   {
    "duration": 14,
    "start_time": "2021-12-23T08:19:20.319Z"
   },
   {
    "duration": 35,
    "start_time": "2021-12-23T08:19:20.337Z"
   },
   {
    "duration": 13,
    "start_time": "2021-12-23T08:19:20.373Z"
   },
   {
    "duration": 15,
    "start_time": "2021-12-23T08:19:20.387Z"
   },
   {
    "duration": 13,
    "start_time": "2021-12-23T08:19:20.404Z"
   },
   {
    "duration": 99,
    "start_time": "2021-12-23T08:19:20.419Z"
   },
   {
    "duration": 10,
    "start_time": "2021-12-23T08:19:20.520Z"
   },
   {
    "duration": 12,
    "start_time": "2021-12-23T08:19:20.531Z"
   },
   {
    "duration": 17,
    "start_time": "2021-12-23T08:19:20.545Z"
   },
   {
    "duration": 33,
    "start_time": "2021-12-23T08:19:20.563Z"
   },
   {
    "duration": 14,
    "start_time": "2021-12-23T08:19:20.598Z"
   },
   {
    "duration": 22,
    "start_time": "2021-12-23T08:19:20.614Z"
   },
   {
    "duration": 31,
    "start_time": "2021-12-23T08:19:20.638Z"
   },
   {
    "duration": 8,
    "start_time": "2021-12-23T08:19:20.670Z"
   },
   {
    "duration": 6,
    "start_time": "2021-12-23T08:19:20.679Z"
   },
   {
    "duration": 16,
    "start_time": "2021-12-23T08:19:20.686Z"
   },
   {
    "duration": 7,
    "start_time": "2021-12-23T08:19:20.704Z"
   },
   {
    "duration": 5,
    "start_time": "2021-12-23T08:19:51.845Z"
   },
   {
    "duration": 2,
    "start_time": "2021-12-23T08:19:58.385Z"
   },
   {
    "duration": 157,
    "start_time": "2021-12-23T08:19:58.389Z"
   },
   {
    "duration": 12,
    "start_time": "2021-12-23T08:19:58.549Z"
   },
   {
    "duration": 25,
    "start_time": "2021-12-23T08:19:58.564Z"
   },
   {
    "duration": 8,
    "start_time": "2021-12-23T08:19:58.591Z"
   },
   {
    "duration": 16,
    "start_time": "2021-12-23T08:19:58.601Z"
   },
   {
    "duration": 4,
    "start_time": "2021-12-23T08:19:58.619Z"
   },
   {
    "duration": 48,
    "start_time": "2021-12-23T08:19:58.626Z"
   },
   {
    "duration": 18,
    "start_time": "2021-12-23T08:19:58.677Z"
   },
   {
    "duration": 21,
    "start_time": "2021-12-23T08:19:58.697Z"
   },
   {
    "duration": 83,
    "start_time": "2021-12-23T08:19:58.720Z"
   },
   {
    "duration": 68,
    "start_time": "2021-12-23T08:19:58.805Z"
   },
   {
    "duration": 50,
    "start_time": "2021-12-23T08:19:58.874Z"
   },
   {
    "duration": 52,
    "start_time": "2021-12-23T08:19:58.926Z"
   },
   {
    "duration": 5,
    "start_time": "2021-12-23T08:19:58.980Z"
   },
   {
    "duration": 19,
    "start_time": "2021-12-23T08:19:58.986Z"
   },
   {
    "duration": 43,
    "start_time": "2021-12-23T08:19:59.007Z"
   },
   {
    "duration": 15,
    "start_time": "2021-12-23T08:19:59.051Z"
   },
   {
    "duration": 10,
    "start_time": "2021-12-23T08:19:59.068Z"
   },
   {
    "duration": 8,
    "start_time": "2021-12-23T08:19:59.080Z"
   },
   {
    "duration": 21,
    "start_time": "2021-12-23T08:19:59.090Z"
   },
   {
    "duration": 14,
    "start_time": "2021-12-23T08:19:59.112Z"
   },
   {
    "duration": 38,
    "start_time": "2021-12-23T08:19:59.129Z"
   },
   {
    "duration": 13,
    "start_time": "2021-12-23T08:19:59.169Z"
   },
   {
    "duration": 16,
    "start_time": "2021-12-23T08:19:59.184Z"
   },
   {
    "duration": 15,
    "start_time": "2021-12-23T08:19:59.201Z"
   },
   {
    "duration": 108,
    "start_time": "2021-12-23T08:19:59.218Z"
   },
   {
    "duration": 12,
    "start_time": "2021-12-23T08:19:59.327Z"
   },
   {
    "duration": 25,
    "start_time": "2021-12-23T08:19:59.341Z"
   },
   {
    "duration": 4,
    "start_time": "2021-12-23T08:19:59.368Z"
   },
   {
    "duration": 41,
    "start_time": "2021-12-23T08:19:59.373Z"
   },
   {
    "duration": 13,
    "start_time": "2021-12-23T08:19:59.416Z"
   },
   {
    "duration": 33,
    "start_time": "2021-12-23T08:19:59.430Z"
   },
   {
    "duration": 15,
    "start_time": "2021-12-23T08:19:59.465Z"
   },
   {
    "duration": 9,
    "start_time": "2021-12-23T08:19:59.482Z"
   },
   {
    "duration": 16,
    "start_time": "2021-12-23T08:19:59.493Z"
   },
   {
    "duration": 14,
    "start_time": "2021-12-23T08:19:59.511Z"
   },
   {
    "duration": 6,
    "start_time": "2021-12-23T08:19:59.527Z"
   },
   {
    "duration": 18,
    "start_time": "2021-12-23T08:26:13.511Z"
   },
   {
    "duration": 6,
    "start_time": "2021-12-23T08:27:56.396Z"
   },
   {
    "duration": 605,
    "start_time": "2021-12-23T08:41:00.289Z"
   },
   {
    "duration": 160,
    "start_time": "2021-12-23T08:41:00.896Z"
   },
   {
    "duration": 18,
    "start_time": "2021-12-23T08:41:01.059Z"
   },
   {
    "duration": 36,
    "start_time": "2021-12-23T08:41:01.080Z"
   },
   {
    "duration": 11,
    "start_time": "2021-12-23T08:41:01.118Z"
   },
   {
    "duration": 30,
    "start_time": "2021-12-23T08:41:01.131Z"
   },
   {
    "duration": 8,
    "start_time": "2021-12-23T08:41:01.163Z"
   },
   {
    "duration": 34,
    "start_time": "2021-12-23T08:41:01.174Z"
   },
   {
    "duration": 18,
    "start_time": "2021-12-23T08:41:01.210Z"
   },
   {
    "duration": 31,
    "start_time": "2021-12-23T08:41:01.230Z"
   },
   {
    "duration": 64,
    "start_time": "2021-12-23T08:41:01.263Z"
   },
   {
    "duration": 85,
    "start_time": "2021-12-23T08:41:01.329Z"
   },
   {
    "duration": 67,
    "start_time": "2021-12-23T08:41:01.415Z"
   },
   {
    "duration": 42,
    "start_time": "2021-12-23T08:41:01.484Z"
   },
   {
    "duration": 4,
    "start_time": "2021-12-23T08:41:01.528Z"
   },
   {
    "duration": 32,
    "start_time": "2021-12-23T08:41:01.534Z"
   },
   {
    "duration": 66,
    "start_time": "2021-12-23T08:41:01.567Z"
   },
   {
    "duration": 37,
    "start_time": "2021-12-23T08:41:01.635Z"
   },
   {
    "duration": 36,
    "start_time": "2021-12-23T08:41:01.674Z"
   },
   {
    "duration": 10,
    "start_time": "2021-12-23T08:41:01.712Z"
   },
   {
    "duration": 42,
    "start_time": "2021-12-23T08:41:01.724Z"
   },
   {
    "duration": 23,
    "start_time": "2021-12-23T08:41:01.768Z"
   },
   {
    "duration": 29,
    "start_time": "2021-12-23T08:41:01.795Z"
   },
   {
    "duration": 17,
    "start_time": "2021-12-23T08:41:01.826Z"
   },
   {
    "duration": 20,
    "start_time": "2021-12-23T08:41:01.861Z"
   },
   {
    "duration": 17,
    "start_time": "2021-12-23T08:41:01.883Z"
   },
   {
    "duration": 113,
    "start_time": "2021-12-23T08:41:01.902Z"
   },
   {
    "duration": 12,
    "start_time": "2021-12-23T08:41:02.017Z"
   },
   {
    "duration": 30,
    "start_time": "2021-12-23T08:41:02.031Z"
   },
   {
    "duration": 5,
    "start_time": "2021-12-23T08:41:02.063Z"
   },
   {
    "duration": 45,
    "start_time": "2021-12-23T08:41:02.069Z"
   },
   {
    "duration": 17,
    "start_time": "2021-12-23T08:41:02.116Z"
   },
   {
    "duration": 33,
    "start_time": "2021-12-23T08:41:02.134Z"
   },
   {
    "duration": 15,
    "start_time": "2021-12-23T08:41:02.169Z"
   },
   {
    "duration": 8,
    "start_time": "2021-12-23T08:41:02.186Z"
   },
   {
    "duration": 6,
    "start_time": "2021-12-23T08:41:02.196Z"
   },
   {
    "duration": 10,
    "start_time": "2021-12-23T08:41:02.204Z"
   },
   {
    "duration": 20,
    "start_time": "2021-12-23T08:41:02.215Z"
   },
   {
    "duration": 159,
    "start_time": "2021-12-23T09:21:39.519Z"
   },
   {
    "duration": 927,
    "start_time": "2021-12-23T09:27:10.987Z"
   },
   {
    "duration": 189,
    "start_time": "2021-12-23T09:27:11.916Z"
   },
   {
    "duration": 26,
    "start_time": "2021-12-23T09:27:12.108Z"
   },
   {
    "duration": 44,
    "start_time": "2021-12-23T09:27:12.137Z"
   },
   {
    "duration": 6,
    "start_time": "2021-12-23T09:27:12.184Z"
   },
   {
    "duration": 26,
    "start_time": "2021-12-23T09:27:12.193Z"
   },
   {
    "duration": 43,
    "start_time": "2021-12-23T09:27:12.222Z"
   },
   {
    "duration": 31,
    "start_time": "2021-12-23T09:27:12.271Z"
   },
   {
    "duration": 54,
    "start_time": "2021-12-23T09:27:12.305Z"
   },
   {
    "duration": 30,
    "start_time": "2021-12-23T09:27:12.362Z"
   },
   {
    "duration": 126,
    "start_time": "2021-12-23T09:27:12.394Z"
   },
   {
    "duration": 108,
    "start_time": "2021-12-23T09:27:12.522Z"
   },
   {
    "duration": 90,
    "start_time": "2021-12-23T09:27:12.632Z"
   },
   {
    "duration": 66,
    "start_time": "2021-12-23T09:27:12.724Z"
   },
   {
    "duration": 4,
    "start_time": "2021-12-23T09:27:12.792Z"
   },
   {
    "duration": 19,
    "start_time": "2021-12-23T09:27:12.798Z"
   },
   {
    "duration": 88,
    "start_time": "2021-12-23T09:27:12.819Z"
   },
   {
    "duration": 14,
    "start_time": "2021-12-23T09:27:12.910Z"
   },
   {
    "duration": 40,
    "start_time": "2021-12-23T09:27:12.927Z"
   },
   {
    "duration": 6,
    "start_time": "2021-12-23T09:27:12.969Z"
   },
   {
    "duration": 28,
    "start_time": "2021-12-23T09:27:12.978Z"
   },
   {
    "duration": 20,
    "start_time": "2021-12-23T09:27:13.009Z"
   },
   {
    "duration": 19,
    "start_time": "2021-12-23T09:27:13.062Z"
   },
   {
    "duration": 17,
    "start_time": "2021-12-23T09:27:13.084Z"
   },
   {
    "duration": 22,
    "start_time": "2021-12-23T09:27:13.104Z"
   },
   {
    "duration": 22,
    "start_time": "2021-12-23T09:27:13.160Z"
   },
   {
    "duration": 117,
    "start_time": "2021-12-23T09:27:13.184Z"
   },
   {
    "duration": 15,
    "start_time": "2021-12-23T09:27:13.303Z"
   },
   {
    "duration": 11,
    "start_time": "2021-12-23T09:27:13.321Z"
   },
   {
    "duration": 29,
    "start_time": "2021-12-23T09:27:13.335Z"
   },
   {
    "duration": 36,
    "start_time": "2021-12-23T09:27:13.366Z"
   },
   {
    "duration": 20,
    "start_time": "2021-12-23T09:27:13.405Z"
   },
   {
    "duration": 57,
    "start_time": "2021-12-23T09:27:13.428Z"
   },
   {
    "duration": 19,
    "start_time": "2021-12-23T09:27:13.487Z"
   },
   {
    "duration": 10,
    "start_time": "2021-12-23T09:27:13.508Z"
   },
   {
    "duration": 6,
    "start_time": "2021-12-23T09:27:13.521Z"
   },
   {
    "duration": 12,
    "start_time": "2021-12-23T09:27:13.560Z"
   },
   {
    "duration": 8,
    "start_time": "2021-12-23T09:27:13.574Z"
   }
  ],
  "colab": {
   "collapsed_sections": [
    "E0vqbgi9ay0H",
    "VUC88oWjTJw2"
   ],
   "name": "yandex_music_project_2021.2.ipynb",
   "provenance": []
  },
  "kernelspec": {
   "display_name": "Python 3 (ipykernel)",
   "language": "python",
   "name": "python3"
  },
  "language_info": {
   "codemirror_mode": {
    "name": "ipython",
    "version": 3
   },
   "file_extension": ".py",
   "mimetype": "text/x-python",
   "name": "python",
   "nbconvert_exporter": "python",
   "pygments_lexer": "ipython3",
   "version": "3.9.7"
  },
  "toc": {
   "base_numbering": 1,
   "nav_menu": {},
   "number_sections": true,
   "sideBar": true,
   "skip_h1_title": true,
   "title_cell": "Table of Contents",
   "title_sidebar": "Contents",
   "toc_cell": false,
   "toc_position": {
    "height": "calc(100% - 180px)",
    "left": "10px",
    "top": "150px",
    "width": "165px"
   },
   "toc_section_display": true,
   "toc_window_display": true
  }
 },
 "nbformat": 4,
 "nbformat_minor": 1
}

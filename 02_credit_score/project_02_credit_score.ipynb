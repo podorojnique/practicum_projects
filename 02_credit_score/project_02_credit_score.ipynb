{
 "cells": [
  {
   "cell_type": "markdown",
   "metadata": {},
   "source": [
    "# Исследование надёжности заёмщиков\n",
    "\n",
    "Заказчик — кредитный отдел банка. Нужно разобраться, влияет ли семейное положение и количество детей клиента на факт погашения кредита в срок. Входные данные от банка — статистика о платёжеспособности клиентов.\n",
    "\n",
    "Результаты исследования будут учтены при построении модели **кредитного скоринга** — специальной системы, которая оценивает способность потенциального заёмщика вернуть кредит банку."
   ]
  },
  {
   "cell_type": "markdown",
   "metadata": {},
   "source": [
    "## Изучение общей информации"
   ]
  },
  {
   "cell_type": "markdown",
   "metadata": {},
   "source": [
    "Произведем проверку полученной таблицы, выведем полную информаци о ней, а также проверим значения в некоторых столбцах."
   ]
  },
  {
   "cell_type": "code",
   "execution_count": 1,
   "metadata": {},
   "outputs": [],
   "source": [
    "# импортируем библиотеку pandas, читаем файл с данными и сохраняем его в df\n",
    "import pandas as pd\n",
    "df = pd.read_csv('/datasets/data.csv')"
   ]
  },
  {
   "cell_type": "code",
   "execution_count": 2,
   "metadata": {
    "scrolled": true
   },
   "outputs": [
    {
     "name": "stdout",
     "output_type": "stream",
     "text": [
      "<class 'pandas.core.frame.DataFrame'>\n",
      "RangeIndex: 21525 entries, 0 to 21524\n",
      "Data columns (total 12 columns):\n",
      "children            21525 non-null int64\n",
      "days_employed       19351 non-null float64\n",
      "dob_years           21525 non-null int64\n",
      "education           21525 non-null object\n",
      "education_id        21525 non-null int64\n",
      "family_status       21525 non-null object\n",
      "family_status_id    21525 non-null int64\n",
      "gender              21525 non-null object\n",
      "income_type         21525 non-null object\n",
      "debt                21525 non-null int64\n",
      "total_income        19351 non-null float64\n",
      "purpose             21525 non-null object\n",
      "dtypes: float64(2), int64(5), object(5)\n",
      "memory usage: 2.0+ MB\n"
     ]
    }
   ],
   "source": [
    "# выводим общую информацию по таблице df\n",
    "df.info()"
   ]
  },
  {
   "cell_type": "code",
   "execution_count": 3,
   "metadata": {
    "scrolled": true
   },
   "outputs": [
    {
     "data": {
      "text/html": [
       "<div>\n",
       "<style scoped>\n",
       "    .dataframe tbody tr th:only-of-type {\n",
       "        vertical-align: middle;\n",
       "    }\n",
       "\n",
       "    .dataframe tbody tr th {\n",
       "        vertical-align: top;\n",
       "    }\n",
       "\n",
       "    .dataframe thead th {\n",
       "        text-align: right;\n",
       "    }\n",
       "</style>\n",
       "<table border=\"1\" class=\"dataframe\">\n",
       "  <thead>\n",
       "    <tr style=\"text-align: right;\">\n",
       "      <th></th>\n",
       "      <th>children</th>\n",
       "      <th>days_employed</th>\n",
       "      <th>dob_years</th>\n",
       "      <th>education_id</th>\n",
       "      <th>family_status_id</th>\n",
       "      <th>debt</th>\n",
       "      <th>total_income</th>\n",
       "    </tr>\n",
       "  </thead>\n",
       "  <tbody>\n",
       "    <tr>\n",
       "      <td>count</td>\n",
       "      <td>21525.000000</td>\n",
       "      <td>19351.000000</td>\n",
       "      <td>21525.000000</td>\n",
       "      <td>21525.000000</td>\n",
       "      <td>21525.000000</td>\n",
       "      <td>21525.000000</td>\n",
       "      <td>1.935100e+04</td>\n",
       "    </tr>\n",
       "    <tr>\n",
       "      <td>mean</td>\n",
       "      <td>0.538908</td>\n",
       "      <td>63046.497661</td>\n",
       "      <td>43.293380</td>\n",
       "      <td>0.817236</td>\n",
       "      <td>0.972544</td>\n",
       "      <td>0.080883</td>\n",
       "      <td>1.674223e+05</td>\n",
       "    </tr>\n",
       "    <tr>\n",
       "      <td>std</td>\n",
       "      <td>1.381587</td>\n",
       "      <td>140827.311974</td>\n",
       "      <td>12.574584</td>\n",
       "      <td>0.548138</td>\n",
       "      <td>1.420324</td>\n",
       "      <td>0.272661</td>\n",
       "      <td>1.029716e+05</td>\n",
       "    </tr>\n",
       "    <tr>\n",
       "      <td>min</td>\n",
       "      <td>-1.000000</td>\n",
       "      <td>-18388.949901</td>\n",
       "      <td>0.000000</td>\n",
       "      <td>0.000000</td>\n",
       "      <td>0.000000</td>\n",
       "      <td>0.000000</td>\n",
       "      <td>2.066726e+04</td>\n",
       "    </tr>\n",
       "    <tr>\n",
       "      <td>25%</td>\n",
       "      <td>0.000000</td>\n",
       "      <td>-2747.423625</td>\n",
       "      <td>33.000000</td>\n",
       "      <td>1.000000</td>\n",
       "      <td>0.000000</td>\n",
       "      <td>0.000000</td>\n",
       "      <td>1.030532e+05</td>\n",
       "    </tr>\n",
       "    <tr>\n",
       "      <td>50%</td>\n",
       "      <td>0.000000</td>\n",
       "      <td>-1203.369529</td>\n",
       "      <td>42.000000</td>\n",
       "      <td>1.000000</td>\n",
       "      <td>0.000000</td>\n",
       "      <td>0.000000</td>\n",
       "      <td>1.450179e+05</td>\n",
       "    </tr>\n",
       "    <tr>\n",
       "      <td>75%</td>\n",
       "      <td>1.000000</td>\n",
       "      <td>-291.095954</td>\n",
       "      <td>53.000000</td>\n",
       "      <td>1.000000</td>\n",
       "      <td>1.000000</td>\n",
       "      <td>0.000000</td>\n",
       "      <td>2.034351e+05</td>\n",
       "    </tr>\n",
       "    <tr>\n",
       "      <td>max</td>\n",
       "      <td>20.000000</td>\n",
       "      <td>401755.400475</td>\n",
       "      <td>75.000000</td>\n",
       "      <td>4.000000</td>\n",
       "      <td>4.000000</td>\n",
       "      <td>1.000000</td>\n",
       "      <td>2.265604e+06</td>\n",
       "    </tr>\n",
       "  </tbody>\n",
       "</table>\n",
       "</div>"
      ],
      "text/plain": [
       "           children  days_employed     dob_years  education_id  \\\n",
       "count  21525.000000   19351.000000  21525.000000  21525.000000   \n",
       "mean       0.538908   63046.497661     43.293380      0.817236   \n",
       "std        1.381587  140827.311974     12.574584      0.548138   \n",
       "min       -1.000000  -18388.949901      0.000000      0.000000   \n",
       "25%        0.000000   -2747.423625     33.000000      1.000000   \n",
       "50%        0.000000   -1203.369529     42.000000      1.000000   \n",
       "75%        1.000000    -291.095954     53.000000      1.000000   \n",
       "max       20.000000  401755.400475     75.000000      4.000000   \n",
       "\n",
       "       family_status_id          debt  total_income  \n",
       "count      21525.000000  21525.000000  1.935100e+04  \n",
       "mean           0.972544      0.080883  1.674223e+05  \n",
       "std            1.420324      0.272661  1.029716e+05  \n",
       "min            0.000000      0.000000  2.066726e+04  \n",
       "25%            0.000000      0.000000  1.030532e+05  \n",
       "50%            0.000000      0.000000  1.450179e+05  \n",
       "75%            1.000000      0.000000  2.034351e+05  \n",
       "max            4.000000      1.000000  2.265604e+06  "
      ]
     },
     "execution_count": 3,
     "metadata": {},
     "output_type": "execute_result"
    }
   ],
   "source": [
    "# выведем описание таблицы для первичного анализа\n",
    "df.describe()"
   ]
  },
  {
   "cell_type": "code",
   "execution_count": 4,
   "metadata": {},
   "outputs": [
    {
     "data": {
      "text/plain": [
       "children               0\n",
       "days_employed       2174\n",
       "dob_years              0\n",
       "education              0\n",
       "education_id           0\n",
       "family_status          0\n",
       "family_status_id       0\n",
       "gender                 0\n",
       "income_type            0\n",
       "debt                   0\n",
       "total_income        2174\n",
       "purpose                0\n",
       "dtype: int64"
      ]
     },
     "execution_count": 4,
     "metadata": {},
     "output_type": "execute_result"
    }
   ],
   "source": [
    "# посчитаем количество пропущенных значений по таблице\n",
    "df.isna().sum()"
   ]
  },
  {
   "cell_type": "code",
   "execution_count": 5,
   "metadata": {
    "scrolled": true
   },
   "outputs": [
    {
     "data": {
      "text/html": [
       "<div>\n",
       "<style scoped>\n",
       "    .dataframe tbody tr th:only-of-type {\n",
       "        vertical-align: middle;\n",
       "    }\n",
       "\n",
       "    .dataframe tbody tr th {\n",
       "        vertical-align: top;\n",
       "    }\n",
       "\n",
       "    .dataframe thead th {\n",
       "        text-align: right;\n",
       "    }\n",
       "</style>\n",
       "<table border=\"1\" class=\"dataframe\">\n",
       "  <thead>\n",
       "    <tr style=\"text-align: right;\">\n",
       "      <th></th>\n",
       "      <th>children</th>\n",
       "      <th>days_employed</th>\n",
       "      <th>dob_years</th>\n",
       "      <th>education</th>\n",
       "      <th>education_id</th>\n",
       "      <th>family_status</th>\n",
       "      <th>family_status_id</th>\n",
       "      <th>gender</th>\n",
       "      <th>income_type</th>\n",
       "      <th>debt</th>\n",
       "      <th>total_income</th>\n",
       "      <th>purpose</th>\n",
       "    </tr>\n",
       "  </thead>\n",
       "  <tbody>\n",
       "    <tr>\n",
       "      <td>0</td>\n",
       "      <td>1</td>\n",
       "      <td>-8437.673028</td>\n",
       "      <td>42</td>\n",
       "      <td>высшее</td>\n",
       "      <td>0</td>\n",
       "      <td>женат / замужем</td>\n",
       "      <td>0</td>\n",
       "      <td>F</td>\n",
       "      <td>сотрудник</td>\n",
       "      <td>0</td>\n",
       "      <td>253875.639453</td>\n",
       "      <td>покупка жилья</td>\n",
       "    </tr>\n",
       "    <tr>\n",
       "      <td>1</td>\n",
       "      <td>1</td>\n",
       "      <td>-4024.803754</td>\n",
       "      <td>36</td>\n",
       "      <td>среднее</td>\n",
       "      <td>1</td>\n",
       "      <td>женат / замужем</td>\n",
       "      <td>0</td>\n",
       "      <td>F</td>\n",
       "      <td>сотрудник</td>\n",
       "      <td>0</td>\n",
       "      <td>112080.014102</td>\n",
       "      <td>приобретение автомобиля</td>\n",
       "    </tr>\n",
       "    <tr>\n",
       "      <td>2</td>\n",
       "      <td>0</td>\n",
       "      <td>-5623.422610</td>\n",
       "      <td>33</td>\n",
       "      <td>Среднее</td>\n",
       "      <td>1</td>\n",
       "      <td>женат / замужем</td>\n",
       "      <td>0</td>\n",
       "      <td>M</td>\n",
       "      <td>сотрудник</td>\n",
       "      <td>0</td>\n",
       "      <td>145885.952297</td>\n",
       "      <td>покупка жилья</td>\n",
       "    </tr>\n",
       "    <tr>\n",
       "      <td>3</td>\n",
       "      <td>3</td>\n",
       "      <td>-4124.747207</td>\n",
       "      <td>32</td>\n",
       "      <td>среднее</td>\n",
       "      <td>1</td>\n",
       "      <td>женат / замужем</td>\n",
       "      <td>0</td>\n",
       "      <td>M</td>\n",
       "      <td>сотрудник</td>\n",
       "      <td>0</td>\n",
       "      <td>267628.550329</td>\n",
       "      <td>дополнительное образование</td>\n",
       "    </tr>\n",
       "    <tr>\n",
       "      <td>4</td>\n",
       "      <td>0</td>\n",
       "      <td>340266.072047</td>\n",
       "      <td>53</td>\n",
       "      <td>среднее</td>\n",
       "      <td>1</td>\n",
       "      <td>гражданский брак</td>\n",
       "      <td>1</td>\n",
       "      <td>F</td>\n",
       "      <td>пенсионер</td>\n",
       "      <td>0</td>\n",
       "      <td>158616.077870</td>\n",
       "      <td>сыграть свадьбу</td>\n",
       "    </tr>\n",
       "    <tr>\n",
       "      <td>5</td>\n",
       "      <td>0</td>\n",
       "      <td>-926.185831</td>\n",
       "      <td>27</td>\n",
       "      <td>высшее</td>\n",
       "      <td>0</td>\n",
       "      <td>гражданский брак</td>\n",
       "      <td>1</td>\n",
       "      <td>M</td>\n",
       "      <td>компаньон</td>\n",
       "      <td>0</td>\n",
       "      <td>255763.565419</td>\n",
       "      <td>покупка жилья</td>\n",
       "    </tr>\n",
       "    <tr>\n",
       "      <td>6</td>\n",
       "      <td>0</td>\n",
       "      <td>-2879.202052</td>\n",
       "      <td>43</td>\n",
       "      <td>высшее</td>\n",
       "      <td>0</td>\n",
       "      <td>женат / замужем</td>\n",
       "      <td>0</td>\n",
       "      <td>F</td>\n",
       "      <td>компаньон</td>\n",
       "      <td>0</td>\n",
       "      <td>240525.971920</td>\n",
       "      <td>операции с жильем</td>\n",
       "    </tr>\n",
       "    <tr>\n",
       "      <td>7</td>\n",
       "      <td>0</td>\n",
       "      <td>-152.779569</td>\n",
       "      <td>50</td>\n",
       "      <td>СРЕДНЕЕ</td>\n",
       "      <td>1</td>\n",
       "      <td>женат / замужем</td>\n",
       "      <td>0</td>\n",
       "      <td>M</td>\n",
       "      <td>сотрудник</td>\n",
       "      <td>0</td>\n",
       "      <td>135823.934197</td>\n",
       "      <td>образование</td>\n",
       "    </tr>\n",
       "    <tr>\n",
       "      <td>8</td>\n",
       "      <td>2</td>\n",
       "      <td>-6929.865299</td>\n",
       "      <td>35</td>\n",
       "      <td>ВЫСШЕЕ</td>\n",
       "      <td>0</td>\n",
       "      <td>гражданский брак</td>\n",
       "      <td>1</td>\n",
       "      <td>F</td>\n",
       "      <td>сотрудник</td>\n",
       "      <td>0</td>\n",
       "      <td>95856.832424</td>\n",
       "      <td>на проведение свадьбы</td>\n",
       "    </tr>\n",
       "    <tr>\n",
       "      <td>9</td>\n",
       "      <td>0</td>\n",
       "      <td>-2188.756445</td>\n",
       "      <td>41</td>\n",
       "      <td>среднее</td>\n",
       "      <td>1</td>\n",
       "      <td>женат / замужем</td>\n",
       "      <td>0</td>\n",
       "      <td>M</td>\n",
       "      <td>сотрудник</td>\n",
       "      <td>0</td>\n",
       "      <td>144425.938277</td>\n",
       "      <td>покупка жилья для семьи</td>\n",
       "    </tr>\n",
       "  </tbody>\n",
       "</table>\n",
       "</div>"
      ],
      "text/plain": [
       "   children  days_employed  dob_years education  education_id  \\\n",
       "0         1   -8437.673028         42    высшее             0   \n",
       "1         1   -4024.803754         36   среднее             1   \n",
       "2         0   -5623.422610         33   Среднее             1   \n",
       "3         3   -4124.747207         32   среднее             1   \n",
       "4         0  340266.072047         53   среднее             1   \n",
       "5         0    -926.185831         27    высшее             0   \n",
       "6         0   -2879.202052         43    высшее             0   \n",
       "7         0    -152.779569         50   СРЕДНЕЕ             1   \n",
       "8         2   -6929.865299         35    ВЫСШЕЕ             0   \n",
       "9         0   -2188.756445         41   среднее             1   \n",
       "\n",
       "      family_status  family_status_id gender income_type  debt   total_income  \\\n",
       "0   женат / замужем                 0      F   сотрудник     0  253875.639453   \n",
       "1   женат / замужем                 0      F   сотрудник     0  112080.014102   \n",
       "2   женат / замужем                 0      M   сотрудник     0  145885.952297   \n",
       "3   женат / замужем                 0      M   сотрудник     0  267628.550329   \n",
       "4  гражданский брак                 1      F   пенсионер     0  158616.077870   \n",
       "5  гражданский брак                 1      M   компаньон     0  255763.565419   \n",
       "6   женат / замужем                 0      F   компаньон     0  240525.971920   \n",
       "7   женат / замужем                 0      M   сотрудник     0  135823.934197   \n",
       "8  гражданский брак                 1      F   сотрудник     0   95856.832424   \n",
       "9   женат / замужем                 0      M   сотрудник     0  144425.938277   \n",
       "\n",
       "                      purpose  \n",
       "0               покупка жилья  \n",
       "1     приобретение автомобиля  \n",
       "2               покупка жилья  \n",
       "3  дополнительное образование  \n",
       "4             сыграть свадьбу  \n",
       "5               покупка жилья  \n",
       "6           операции с жильем  \n",
       "7                 образование  \n",
       "8       на проведение свадьбы  \n",
       "9     покупка жилья для семьи  "
      ]
     },
     "execution_count": 5,
     "metadata": {},
     "output_type": "execute_result"
    }
   ],
   "source": [
    "# выводим первые 10 строк таблицы df\n",
    "df.head(10)"
   ]
  },
  {
   "cell_type": "markdown",
   "metadata": {},
   "source": [
    "Согласно документации к данным таблица имеет 12 столбцов:\n",
    "\n",
    "* `children` — количество детей в семье\n",
    "* `days_employed` — общий трудовой стаж в днях\n",
    "* `dob_years` — возраст клиента в годах\n",
    "* `education` — уровень образования клиента\n",
    "* `education_id` — идентификатор уровня образования\n",
    "* `family_status` — семейное положение\n",
    "* `family_status_id` — идентификатор семейного положения\n",
    "* `gender` — пол клиента\n",
    "* `income_type` — тип занятости\n",
    "* `debt` — имел ли задолженность по возврату кредитов\n",
    "* `total_income` — ежемесячный доход\n",
    "* `purpose` — цель получения кредита\n",
    "\n",
    "Наименования столбцов выполнены без нарушения стиля."
   ]
  },
  {
   "cell_type": "markdown",
   "metadata": {},
   "source": [
    "Далее разберем некоторые столбцы более подробно."
   ]
  },
  {
   "cell_type": "markdown",
   "metadata": {},
   "source": [
    "В столбце `days_employed` присутствуют отрицательные и аномально большие значения (артефакты)."
   ]
  },
  {
   "cell_type": "code",
   "execution_count": 6,
   "metadata": {},
   "outputs": [
    {
     "data": {
      "text/plain": [
       "пенсионер      3443\n",
       "безработный       2\n",
       "Name: income_type, dtype: int64"
      ]
     },
     "execution_count": 6,
     "metadata": {},
     "output_type": "execute_result"
    }
   ],
   "source": [
    "# отфильтруем столбце days_employed по значениям больше 0 \n",
    "# и после этого посчитаем уникальные значения в столбце income_type\n",
    "df[df['days_employed'] > 0]['income_type'].value_counts()"
   ]
  },
  {
   "cell_type": "markdown",
   "metadata": {},
   "source": [
    "Артефакты в этих данных относяться только к пенсионерам и безработным. А для заемщиков, которые сейчас работают, значения стажа имеют отрицательный знак."
   ]
  },
  {
   "cell_type": "markdown",
   "metadata": {},
   "source": [
    "Затем проверим данные в столбце `children`:"
   ]
  },
  {
   "cell_type": "code",
   "execution_count": 7,
   "metadata": {},
   "outputs": [
    {
     "data": {
      "text/plain": [
       " 0     14149\n",
       " 1      4818\n",
       " 2      2055\n",
       " 3       330\n",
       " 20       76\n",
       "-1        47\n",
       " 4        41\n",
       " 5         9\n",
       "Name: children, dtype: int64"
      ]
     },
     "execution_count": 7,
     "metadata": {},
     "output_type": "execute_result"
    }
   ],
   "source": [
    "# выведем данные по количеству уникальных значений в столбце children\n",
    "df['children'].value_counts()"
   ]
  },
  {
   "cell_type": "markdown",
   "metadata": {},
   "source": [
    "В данных присутствуют отрицательные и завышенные значения количества детей.\n",
    "С одной стороны возможно, что у заемщика может быть 20 детей, но с другой стороны это не единичный случай и отсутствуют данные от 5 и до 20 детей."
   ]
  },
  {
   "cell_type": "markdown",
   "metadata": {},
   "source": [
    "Таким же образом проверим столбец `dob_years`:"
   ]
  },
  {
   "cell_type": "code",
   "execution_count": 8,
   "metadata": {},
   "outputs": [
    {
     "data": {
      "text/plain": [
       "array([42, 36, 33, 32, 53, 27, 43, 50, 35, 41, 40, 65, 54, 56, 26, 48, 24,\n",
       "       21, 57, 67, 28, 63, 62, 47, 34, 68, 25, 31, 30, 20, 49, 37, 45, 61,\n",
       "       64, 44, 52, 46, 23, 38, 39, 51,  0, 59, 29, 60, 55, 58, 71, 22, 73,\n",
       "       66, 69, 19, 72, 70, 74, 75])"
      ]
     },
     "execution_count": 8,
     "metadata": {},
     "output_type": "execute_result"
    }
   ],
   "source": [
    "# выведем данные по уникальным значениям в столбце dob_years\n",
    "df['dob_years'].unique()"
   ]
  },
  {
   "cell_type": "markdown",
   "metadata": {},
   "source": [
    "В данных присутствуют нулевые значения возраста заемщика. Таков возможно при ошибочном заполнении анкет, либо вызваны программной ошибкой."
   ]
  },
  {
   "cell_type": "markdown",
   "metadata": {},
   "source": [
    "**Вывод**"
   ]
  },
  {
   "cell_type": "markdown",
   "metadata": {},
   "source": [
    "В строках таблицы находятся данные о заемщиках, которые приобрели кредит в банке для определенных целей. В столбцах представленны данные о возрасте и поле, семейном положении (в том числе наличии детей), образовании, месте и стаже работы, а также о доходе и целях, на которые приобритался кредит.\n",
    "\n",
    "Предварительно можно утверждать, что, данных достаточно для проверки гипотез. Но встречаются пропуски в данных.\n",
    "\n",
    "В данных выявлены следующие недостатки и артефакты:\n",
    "\n",
    "* одинаковое количество пропущенных значений в столбцах `days_employed` и `total_income`\n",
    "* в столбце `children` имеются отрицательные и завышенные значения\n",
    "* данные в столбце `days_employed` представлены числами с плавающей точкой, а также имеют отрицательные и аномально большие значения (у пенсионеров и безработных)\n",
    "* присутствуют нулевые значения возраста в столбце `dob_years`\n",
    "* различные регистры написания данных столбца `education`, а также заглавный регистр в столбце `gender`\n",
    "* в столбце `purpose` присутствуют одинаковые по смыслу, но различные по написанию, цели"
   ]
  },
  {
   "cell_type": "markdown",
   "metadata": {},
   "source": [
    "## Предобработка данных"
   ]
  },
  {
   "cell_type": "markdown",
   "metadata": {},
   "source": [
    "### Обработка пропусков"
   ]
  },
  {
   "cell_type": "markdown",
   "metadata": {},
   "source": [
    "Как уже выяснили, пропуски данных имеются в столбцах `days_employed` и `total_income`. Что характерно, оба столбца имеют одинаковое количество пропусков в размере 2174 ячейки.\n",
    "\n",
    "Возможно, пропущенные данные относятся к одним и тем же строкам."
   ]
  },
  {
   "cell_type": "code",
   "execution_count": 9,
   "metadata": {},
   "outputs": [
    {
     "data": {
      "text/plain": [
       "children               0\n",
       "days_employed       2174\n",
       "dob_years              0\n",
       "education              0\n",
       "education_id           0\n",
       "family_status          0\n",
       "family_status_id       0\n",
       "gender                 0\n",
       "income_type            0\n",
       "debt                   0\n",
       "total_income        2174\n",
       "purpose                0\n",
       "dtype: int64"
      ]
     },
     "execution_count": 9,
     "metadata": {},
     "output_type": "execute_result"
    }
   ],
   "source": [
    "# отфильтруем таблицу по пропущенным значениям в столбце days_employed\n",
    "# в получившейся таблице посчитаем количество пропущенных значений\n",
    "df[df['days_employed'].isna()].isna().sum()"
   ]
  },
  {
   "cell_type": "markdown",
   "metadata": {},
   "source": [
    "Отфильтровав таблицу по пропущенным значениям в столбце `days_employed`, мы увидели, что в столбце `total_income` точно такое же количество пропусков - 2174.\n",
    "\n",
    "Из этого следует вывод, что пропущенные данные по общему стажу работы и доходу относятся к одним и тем же заемщикам.\n",
    "Вероятно, указанные заемщики трудоустроены неофициально и не смогли предоставить подтверждающие документы по стажу и уровню ежемесячного дохода. Другой вероятной причиной появления пропусков может являться человеческий фактор - при заполнении заявки сотрудник банка забыл заполнить необходимые ячейки, либо произошла утеря копий документов."
   ]
  },
  {
   "cell_type": "markdown",
   "metadata": {},
   "source": [
    "Далее займемся заполнением пропущенных значений.\n",
    "\n",
    "Первый столбец `days_employed` содержит в себе данные о количестве отработанных заемщиком дней, поэтому для заполнение пропусков сначала уберем отрицательные значения, поделим слишком большие значения на 24 часа, а затем возьмем среднее арифметическое значение по данному столбцу."
   ]
  },
  {
   "cell_type": "code",
   "execution_count": 10,
   "metadata": {},
   "outputs": [],
   "source": [
    "# убираем отрицательные значения из столбца days_employed используя метод .abs()\n",
    "df['days_employed'] = df['days_employed'].abs()"
   ]
  },
  {
   "cell_type": "code",
   "execution_count": 11,
   "metadata": {},
   "outputs": [],
   "source": [
    "# напишем функцию, которая поделит аномально высокие значения дней на 24 часа\n",
    "def high_days_employed(days):\n",
    "    \"\"\"\n",
    "    Функция возвращает аномально большое значение, деленное на 24 (количество часов в сутках) согласно правилу:\n",
    "    если значение дней стажа больше 27740 (76 лет, максимальный возраст заемщика в датафрейме)\n",
    "    \"\"\"\n",
    "    if days > 27740:\n",
    "        return days / 24\n",
    "    return days\n",
    "\n",
    "# и выполним ее, заменив аномальные значения\n",
    "df['days_employed'] = df['days_employed'].apply(high_days_employed)"
   ]
  },
  {
   "cell_type": "code",
   "execution_count": 12,
   "metadata": {},
   "outputs": [],
   "source": [
    "# заполняем пропуски в столбце days_employed средним значением\n",
    "df['days_employed'] = df['days_employed'].fillna(df['days_employed'].mean())\n",
    "\n",
    "# старое решение\n",
    "#df['days_employed'] = df['days_employed'].fillna(\n",
    "#    df['days_employed'][df['days_employed'] <= df['dob_years'].max() * 365].mean())"
   ]
  },
  {
   "cell_type": "markdown",
   "metadata": {},
   "source": [
    "Второй столбец `total_income` содержит в себе размер ежемесячного дохода заемщика. Для заполнения пропусков в данном столбце воспользуемся медианой."
   ]
  },
  {
   "cell_type": "code",
   "execution_count": 13,
   "metadata": {},
   "outputs": [],
   "source": [
    "# заполняем пропуски в столбце total_income медианным значением относительно каждого типа занятости\n",
    "df['total_income'] = df['total_income'].fillna(df.groupby('income_type')['total_income'].transform('median'))\n",
    "\n",
    "# старое решение\n",
    "#df['total_income'] = df['total_income'].fillna(df['total_income'].median())"
   ]
  },
  {
   "cell_type": "markdown",
   "metadata": {},
   "source": [
    "Устраним отрицательные и большие значения в столбце `children`:"
   ]
  },
  {
   "cell_type": "code",
   "execution_count": 14,
   "metadata": {},
   "outputs": [],
   "source": [
    "# уберем отрицательные значения методом .abs()\n",
    "df['children'] = df['children'].abs()"
   ]
  },
  {
   "cell_type": "code",
   "execution_count": 15,
   "metadata": {},
   "outputs": [],
   "source": [
    "# изменим число детей 20 на 2\n",
    "df.loc[df['children'] == 20, ['children']] = 2"
   ]
  },
  {
   "cell_type": "markdown",
   "metadata": {},
   "source": [
    "Для проверки заполнения пропусков еще раз выведем информацию по таблице"
   ]
  },
  {
   "cell_type": "code",
   "execution_count": 16,
   "metadata": {},
   "outputs": [
    {
     "name": "stdout",
     "output_type": "stream",
     "text": [
      "<class 'pandas.core.frame.DataFrame'>\n",
      "RangeIndex: 21525 entries, 0 to 21524\n",
      "Data columns (total 12 columns):\n",
      "children            21525 non-null int64\n",
      "days_employed       21525 non-null float64\n",
      "dob_years           21525 non-null int64\n",
      "education           21525 non-null object\n",
      "education_id        21525 non-null int64\n",
      "family_status       21525 non-null object\n",
      "family_status_id    21525 non-null int64\n",
      "gender              21525 non-null object\n",
      "income_type         21525 non-null object\n",
      "debt                21525 non-null int64\n",
      "total_income        21525 non-null float64\n",
      "purpose             21525 non-null object\n",
      "dtypes: float64(2), int64(5), object(5)\n",
      "memory usage: 2.0+ MB\n"
     ]
    }
   ],
   "source": [
    "# выводим общую информацию по таблице df для проверки отсутствия пропусков после их обработки\n",
    "df.info()"
   ]
  },
  {
   "cell_type": "markdown",
   "metadata": {},
   "source": [
    "**Вывод**"
   ]
  },
  {
   "cell_type": "markdown",
   "metadata": {},
   "source": [
    "Выяснили несколько вероятных причин появления пропусков в данных - неофициальное трудоустройство заемщиков, либо человеческий фактор при заполнении заявок на кредит. Также заполнили пропуски в данных с помощью средних и медианных значений.\n",
    "\n",
    "Устранили отрицательные значения в столбце данных с количеством детей. Возникновение данных артефактов возможно объяснить лишь с помощью программной или человеческой ошибки.\n",
    "\n",
    "Теперь таблица полностью заполнена и готова для дальнейшей обработки"
   ]
  },
  {
   "cell_type": "markdown",
   "metadata": {},
   "source": [
    "### Замена типа данных"
   ]
  },
  {
   "cell_type": "markdown",
   "metadata": {},
   "source": [
    "Судя по информации, полученной из представленной таблицы, данные в столбце `days_employed` представленые типом float, числа с плавающей точкой. Но так как данные в указанном столбце представляют собой целочисленные значения - количество дней трудоустройства, то данные здесь должны иметь тип int."
   ]
  },
  {
   "cell_type": "code",
   "execution_count": 17,
   "metadata": {},
   "outputs": [],
   "source": [
    "# переводим типа данных столбца days_employed из float в int методом .astype()\n",
    "df['days_employed'] = df['days_employed'].astype('int64')"
   ]
  },
  {
   "cell_type": "markdown",
   "metadata": {},
   "source": [
    "Как уже было замечено ранее, в некоторых ячейках наблюдается различный регистр написания данных. Приведем строчные данные str к одинаковому нижнему регистру"
   ]
  },
  {
   "cell_type": "code",
   "execution_count": 18,
   "metadata": {},
   "outputs": [],
   "source": [
    "# приведем столбцы education и gender к единому нижнему регистру методом .str.lower()\n",
    "df['education'] = df['education'].str.lower()\n",
    "df['gender'] = df['gender'].str.lower()"
   ]
  },
  {
   "cell_type": "markdown",
   "metadata": {},
   "source": [
    "Изменим тип данных в столбце `total_income` с float на int, изменив значения общего дохода на целочисленные значения."
   ]
  },
  {
   "cell_type": "code",
   "execution_count": 19,
   "metadata": {},
   "outputs": [],
   "source": [
    "# переводим типа данных столбца total_income из float в int методом .astype()\n",
    "df['total_income'] = df['total_income'].astype('int64')"
   ]
  },
  {
   "cell_type": "markdown",
   "metadata": {},
   "source": [
    "**Вывод**"
   ]
  },
  {
   "cell_type": "markdown",
   "metadata": {},
   "source": [
    "Заменили тип данных в количестве дней трудового стажа на целочисленные значения. Также привели строчные данные в столбцах обучения и пола к написанию нижним регистром."
   ]
  },
  {
   "cell_type": "markdown",
   "metadata": {},
   "source": [
    "### Обработка дубликатов"
   ]
  },
  {
   "cell_type": "markdown",
   "metadata": {},
   "source": [
    "Ранее обработали строчные данные и привели их нижнему регистру, заполнили пропуски, теперь приступаем к удалению дубликатов:"
   ]
  },
  {
   "cell_type": "code",
   "execution_count": 20,
   "metadata": {},
   "outputs": [
    {
     "data": {
      "text/plain": [
       "71"
      ]
     },
     "execution_count": 20,
     "metadata": {},
     "output_type": "execute_result"
    }
   ],
   "source": [
    "# выведем общее количество дубликатов по таблице\n",
    "df.duplicated().sum()"
   ]
  },
  {
   "cell_type": "code",
   "execution_count": 21,
   "metadata": {},
   "outputs": [],
   "source": [
    "# удалим дубликаты строк методом .drop_duplicates() и обновим индексацию таблицы\n",
    "df = df.drop_duplicates().reset_index(drop=True)"
   ]
  },
  {
   "cell_type": "code",
   "execution_count": 22,
   "metadata": {},
   "outputs": [
    {
     "name": "stdout",
     "output_type": "stream",
     "text": [
      "<class 'pandas.core.frame.DataFrame'>\n",
      "RangeIndex: 21454 entries, 0 to 21453\n",
      "Data columns (total 12 columns):\n",
      "children            21454 non-null int64\n",
      "days_employed       21454 non-null int64\n",
      "dob_years           21454 non-null int64\n",
      "education           21454 non-null object\n",
      "education_id        21454 non-null int64\n",
      "family_status       21454 non-null object\n",
      "family_status_id    21454 non-null int64\n",
      "gender              21454 non-null object\n",
      "income_type         21454 non-null object\n",
      "debt                21454 non-null int64\n",
      "total_income        21454 non-null int64\n",
      "purpose             21454 non-null object\n",
      "dtypes: int64(7), object(5)\n",
      "memory usage: 2.0+ MB\n"
     ]
    }
   ],
   "source": [
    "# выводим общую информацию по таблице df после очистки дубликатов\n",
    "df.info()"
   ]
  },
  {
   "cell_type": "markdown",
   "metadata": {},
   "source": [
    "**Вывод**"
   ]
  },
  {
   "cell_type": "markdown",
   "metadata": {},
   "source": [
    "Обработав таблицу, удалили 71 дубликат. Появление дубликатов может быть связано с повтороными попытками заемщиков подать заявки на кредит, либо могли быть вызваны программным сбоем. "
   ]
  },
  {
   "cell_type": "markdown",
   "metadata": {},
   "source": [
    "### Лемматизация"
   ]
  },
  {
   "cell_type": "markdown",
   "metadata": {},
   "source": [
    "Для того, чтобы в дальнейшем категоризировать цели кредитования, необходимо произвести лемматизацию столбца `purpose`. Сначала импортируем необходимый инструмент, а затем напишем функцию, которая будет производить лемматизацию целей. "
   ]
  },
  {
   "cell_type": "code",
   "execution_count": 23,
   "metadata": {},
   "outputs": [],
   "source": [
    "# импортируем инструмент для лемматизации Mystem из библиотеки pymystem3:\n",
    "from pymystem3 import Mystem\n",
    "m = Mystem()"
   ]
  },
  {
   "cell_type": "code",
   "execution_count": 24,
   "metadata": {},
   "outputs": [],
   "source": [
    "# напишем функцию для лемматизации целей приобретения кредита\n",
    "def purpose_group(row):\n",
    "    \"\"\"\n",
    "    Функция производит лемматизацию столбца purpose\n",
    "    с помощью метода lemmatize из библиотеки pymystem3.\n",
    "    Лемматизация проходит по четырем основным наименованиям: \n",
    "    автомобиль, недвижимость, свадьба и образование\n",
    "    \"\"\"\n",
    "    lem_purpose = m.lemmatize(row['purpose'])\n",
    "    if 'автомобиль' in lem_purpose:\n",
    "        return 'автомобиль'\n",
    "    if ('недвижимость' in lem_purpose) or ('жилье' in lem_purpose):\n",
    "        return 'недвижимость'\n",
    "    if 'свадьба' in lem_purpose:\n",
    "        return 'свадьба'\n",
    "    if 'образование' in lem_purpose:\n",
    "        return 'образование'"
   ]
  },
  {
   "cell_type": "code",
   "execution_count": 25,
   "metadata": {},
   "outputs": [],
   "source": [
    "# применим вновь созданную функцию purpose_group к таблице и заполним данными новый столбец purpose_group\n",
    "df['purpose_group'] = df.apply(purpose_group, axis=1)"
   ]
  },
  {
   "cell_type": "markdown",
   "metadata": {},
   "source": [
    "**Вывод**"
   ]
  },
  {
   "cell_type": "markdown",
   "metadata": {},
   "source": [
    "Создан новый столбец `purpose_group`, куда собраны обощенные цели кредитования с помощью функции лемматизации. Далее необходимо приступить к категоризации данных."
   ]
  },
  {
   "cell_type": "markdown",
   "metadata": {},
   "source": [
    "### Категоризация данных"
   ]
  },
  {
   "cell_type": "markdown",
   "metadata": {},
   "source": [
    "Для ответа на поставленные вопросы, необходимы категории по следующим столбцам:\n",
    "* `children` — количество детей в семье\n",
    "* `family_status` — семейное положение\n",
    "* `total_income` — ежемесячный доход\n",
    "* `purpose` — цель получения кредита\n",
    "\n",
    "Так как `family_status` и `purpose` уже имеют категории, то следует создать их для двух оставшихся."
   ]
  },
  {
   "cell_type": "markdown",
   "metadata": {},
   "source": [
    "Сначала обработаем столбец `children`, создав новый столбец `children_group` для категорий заемщиков."
   ]
  },
  {
   "cell_type": "code",
   "execution_count": 26,
   "metadata": {},
   "outputs": [],
   "source": [
    "# напишем функцию для создания категорий по столбцу children\n",
    "def children_group(children):\n",
    "    \"\"\"\n",
    "    Функция возвращает группу по количеству детей children, используя правила:\n",
    "    - 'нет детей', если children = 0 детей;\n",
    "    - 'есть дети', если children >= 1\n",
    "    \"\"\"\n",
    "    if children == 0:\n",
    "        return 'нет детей'\n",
    "    return 'есть дети' "
   ]
  },
  {
   "cell_type": "code",
   "execution_count": 27,
   "metadata": {},
   "outputs": [],
   "source": [
    "# выполним вновь созданную функцию children_group\n",
    "df['children_group'] = df['children'].apply(children_group)"
   ]
  },
  {
   "cell_type": "markdown",
   "metadata": {},
   "source": [
    "Далее обработаем столбец `total_income` и создадим новый столбец `income_group` для категорий:"
   ]
  },
  {
   "cell_type": "code",
   "execution_count": 28,
   "metadata": {},
   "outputs": [],
   "source": [
    "# напишем функцию для создания категорий по столбцу total_income\n",
    "def income_group(income):\n",
    "    \"\"\"\n",
    "    Функция возвращает группу по значению дохода total_income, используя правила:\n",
    "    - 'низкий доход', если total_income <= 50000 рублей;\n",
    "    - 'средний доход', если total_income от 50001 до 100000 рублей;\n",
    "    - 'высокий доход' — от 100001 и выше.\n",
    "    \"\"\"\n",
    "    if income <= 50000:\n",
    "        return 'низкий доход'\n",
    "    if income <= 100000:\n",
    "        return 'средний доход'\n",
    "    return 'высокий доход' "
   ]
  },
  {
   "cell_type": "code",
   "execution_count": 29,
   "metadata": {},
   "outputs": [],
   "source": [
    "# выполним вновь созданную функцию income_group\n",
    "df['income_group'] = df['total_income'].apply(income_group)"
   ]
  },
  {
   "cell_type": "markdown",
   "metadata": {},
   "source": [
    "**Вывод**"
   ]
  },
  {
   "cell_type": "markdown",
   "metadata": {},
   "source": [
    "С помощью функций добавили два новых столбца `children_group` и `income_group` для категоризации данных. В дальнейшем это необходимо для ответов на поставленные проектом вопросы.\n",
    "\n",
    "Теперь данные полностью обработаны и готовы к выдаче результатов."
   ]
  },
  {
   "cell_type": "markdown",
   "metadata": {},
   "source": [
    "## Ответы на вопросы"
   ]
  },
  {
   "cell_type": "markdown",
   "metadata": {},
   "source": [
    "Перед тем, как рассчитать необходимые зависимости, импортируем библиотеку Seaborn для визуализации полученных результатов."
   ]
  },
  {
   "cell_type": "code",
   "execution_count": 30,
   "metadata": {},
   "outputs": [],
   "source": [
    "# импортируем библиотеку seaborn для визуализации результатов\n",
    "import seaborn as sns"
   ]
  },
  {
   "cell_type": "markdown",
   "metadata": {},
   "source": [
    "### Зависимость между наличием детей и возвратом кредита в срок"
   ]
  },
  {
   "cell_type": "markdown",
   "metadata": {},
   "source": [
    "- Есть ли зависимость между наличием детей и возвратом кредита в срок?"
   ]
  },
  {
   "cell_type": "code",
   "execution_count": 32,
   "metadata": {},
   "outputs": [
    {
     "data": {
      "text/html": [
       "<div>\n",
       "<style scoped>\n",
       "    .dataframe tbody tr th:only-of-type {\n",
       "        vertical-align: middle;\n",
       "    }\n",
       "\n",
       "    .dataframe tbody tr th {\n",
       "        vertical-align: top;\n",
       "    }\n",
       "\n",
       "    .dataframe thead th {\n",
       "        text-align: right;\n",
       "    }\n",
       "</style>\n",
       "<table border=\"1\" class=\"dataframe\">\n",
       "  <thead>\n",
       "    <tr style=\"text-align: right;\">\n",
       "      <th>debt</th>\n",
       "      <th>0</th>\n",
       "      <th>1</th>\n",
       "      <th>debt %</th>\n",
       "    </tr>\n",
       "    <tr>\n",
       "      <th>children_group</th>\n",
       "      <th></th>\n",
       "      <th></th>\n",
       "      <th></th>\n",
       "    </tr>\n",
       "  </thead>\n",
       "  <tbody>\n",
       "    <tr>\n",
       "      <td>есть дети</td>\n",
       "      <td>6685</td>\n",
       "      <td>678</td>\n",
       "      <td>9.208203</td>\n",
       "    </tr>\n",
       "    <tr>\n",
       "      <td>нет детей</td>\n",
       "      <td>13028</td>\n",
       "      <td>1063</td>\n",
       "      <td>7.543822</td>\n",
       "    </tr>\n",
       "  </tbody>\n",
       "</table>\n",
       "</div>"
      ],
      "text/plain": [
       "debt                0     1    debt %\n",
       "children_group                       \n",
       "есть дети        6685   678  9.208203\n",
       "нет детей       13028  1063  7.543822"
      ]
     },
     "execution_count": 32,
     "metadata": {},
     "output_type": "execute_result"
    }
   ],
   "source": [
    "# создадим свобдную таблицу с данными о наличии детей и задолженностями\n",
    "children_pivot = df.pivot_table(\n",
    "    index='children_group', \n",
    "    columns='debt', \n",
    "    values='children', \n",
    "    aggfunc='count')\n",
    "\n",
    "# добавим столбец с процентным соотношенем \"должников\" по каждой категории\n",
    "children_pivot['debt %'] = df.groupby(['children_group'])['debt'].mean() * 100\n",
    "children_pivot"
   ]
  },
  {
   "cell_type": "code",
   "execution_count": 33,
   "metadata": {},
   "outputs": [
    {
     "data": {
      "text/plain": [
       "<matplotlib.axes._subplots.AxesSubplot at 0x7fac05e62fd0>"
      ]
     },
     "execution_count": 33,
     "metadata": {},
     "output_type": "execute_result"
    },
    {
     "data": {
      "image/png": "[encoded data removed]",
      "text/plain": [
       "<Figure size 432x288 with 1 Axes>"
      ]
     },
     "metadata": {
      "needs_background": "light"
     },
     "output_type": "display_data"
    }
   ],
   "source": [
    "# назначим переменные для осей графиков\n",
    "# x для среднего значения наличия задолженности заемщика по категориям\n",
    "# y для уникальных значений категории наличия детей\n",
    "\n",
    "x = [\n",
    "    df[df['children_group'] == 'есть дети']['debt'].mean(),\n",
    "    df[df['children_group'] == 'нет детей']['debt'].mean()\n",
    "]\n",
    "y = df['children_group'].unique()\n",
    "\n",
    "# построим график по полученным результатам\n",
    "sns.barplot(x=x, y=y)"
   ]
  },
  {
   "cell_type": "markdown",
   "metadata": {},
   "source": [
    "**Вывод**"
   ]
  },
  {
   "cell_type": "markdown",
   "metadata": {},
   "source": [
    "Зависимость показывает, что заемщики неимеющие детей реже имею задолженности по кредитованию, чем имеющие одного или более детей."
   ]
  },
  {
   "cell_type": "markdown",
   "metadata": {},
   "source": [
    "### Зависимость между семейным положением и возвратом кредита в срок"
   ]
  },
  {
   "cell_type": "markdown",
   "metadata": {},
   "source": [
    "- Есть ли зависимость между семейным положением и возвратом кредита в срок?"
   ]
  },
  {
   "cell_type": "code",
   "execution_count": 35,
   "metadata": {},
   "outputs": [
    {
     "data": {
      "text/html": [
       "<div>\n",
       "<style scoped>\n",
       "    .dataframe tbody tr th:only-of-type {\n",
       "        vertical-align: middle;\n",
       "    }\n",
       "\n",
       "    .dataframe tbody tr th {\n",
       "        vertical-align: top;\n",
       "    }\n",
       "\n",
       "    .dataframe thead th {\n",
       "        text-align: right;\n",
       "    }\n",
       "</style>\n",
       "<table border=\"1\" class=\"dataframe\">\n",
       "  <thead>\n",
       "    <tr style=\"text-align: right;\">\n",
       "      <th>debt</th>\n",
       "      <th>0</th>\n",
       "      <th>1</th>\n",
       "      <th>debt %</th>\n",
       "    </tr>\n",
       "    <tr>\n",
       "      <th>family_status</th>\n",
       "      <th></th>\n",
       "      <th></th>\n",
       "      <th></th>\n",
       "    </tr>\n",
       "  </thead>\n",
       "  <tbody>\n",
       "    <tr>\n",
       "      <td>Не женат / не замужем</td>\n",
       "      <td>2536</td>\n",
       "      <td>274</td>\n",
       "      <td>9.750890</td>\n",
       "    </tr>\n",
       "    <tr>\n",
       "      <td>в разводе</td>\n",
       "      <td>1110</td>\n",
       "      <td>85</td>\n",
       "      <td>7.112971</td>\n",
       "    </tr>\n",
       "    <tr>\n",
       "      <td>вдовец / вдова</td>\n",
       "      <td>896</td>\n",
       "      <td>63</td>\n",
       "      <td>6.569343</td>\n",
       "    </tr>\n",
       "    <tr>\n",
       "      <td>гражданский брак</td>\n",
       "      <td>3763</td>\n",
       "      <td>388</td>\n",
       "      <td>9.347145</td>\n",
       "    </tr>\n",
       "    <tr>\n",
       "      <td>женат / замужем</td>\n",
       "      <td>11408</td>\n",
       "      <td>931</td>\n",
       "      <td>7.545182</td>\n",
       "    </tr>\n",
       "  </tbody>\n",
       "</table>\n",
       "</div>"
      ],
      "text/plain": [
       "debt                       0    1    debt %\n",
       "family_status                              \n",
       "Не женат / не замужем   2536  274  9.750890\n",
       "в разводе               1110   85  7.112971\n",
       "вдовец / вдова           896   63  6.569343\n",
       "гражданский брак        3763  388  9.347145\n",
       "женат / замужем        11408  931  7.545182"
      ]
     },
     "execution_count": 35,
     "metadata": {},
     "output_type": "execute_result"
    }
   ],
   "source": [
    "# создадим свобдную таблицу с данными о семейном положении и задолженностями\n",
    "family_pivot = df.pivot_table(\n",
    "    index='family_status', \n",
    "    columns='debt', \n",
    "    values='family_status_id', \n",
    "    aggfunc='count')\n",
    "\n",
    "# добавим столбец с процентным соотношенем \"должников\" по каждой категории\n",
    "family_pivot['debt %'] = df.groupby(['family_status'])['debt'].mean() * 100\n",
    "family_pivot"
   ]
  },
  {
   "cell_type": "code",
   "execution_count": 36,
   "metadata": {},
   "outputs": [
    {
     "data": {
      "text/plain": [
       "<matplotlib.axes._subplots.AxesSubplot at 0x7fac0569a3d0>"
      ]
     },
     "execution_count": 36,
     "metadata": {},
     "output_type": "execute_result"
    },
    {
     "data": {
      "image/png": "[encoded data removed]",
      "text/plain": [
       "<Figure size 432x288 with 1 Axes>"
      ]
     },
     "metadata": {
      "needs_background": "light"
     },
     "output_type": "display_data"
    }
   ],
   "source": [
    "# назначим переменные для осей графиков\n",
    "# x для среднего значения наличия задолженности заемщика по категориям\n",
    "# y для уникальных значений семейного положения\n",
    "\n",
    "x = [\n",
    "    df[df['family_status'] == 'женат / замужем']['debt'].mean(),\n",
    "    df[df['family_status'] == 'гражданский брак']['debt'].mean(),\n",
    "    df[df['family_status'] == 'вдовец / вдова']['debt'].mean(),\n",
    "    df[df['family_status'] == 'в разводе']['debt'].mean(),\n",
    "    df[df['family_status'] == 'Не женат / не замужем']['debt'].mean()\n",
    "]\n",
    "y = df['family_status'].unique()\n",
    "\n",
    "# построим график по полученным результатам\n",
    "sns.barplot(x=x, y=y)"
   ]
  },
  {
   "cell_type": "markdown",
   "metadata": {},
   "source": [
    "**Вывод**"
   ]
  },
  {
   "cell_type": "markdown",
   "metadata": {},
   "source": [
    "В данном случае зависимость показывает, что овдовевшие заемщики реже всех имеют задолженности по кредитам. Затем идут заемщики в браке или уже разведенные. Хуже всех ситуация у несостоящих в браке или живущих в гражданском браке."
   ]
  },
  {
   "cell_type": "markdown",
   "metadata": {},
   "source": [
    "### Зависимость между уровнем дохода и возвратом кредита в срок"
   ]
  },
  {
   "cell_type": "markdown",
   "metadata": {},
   "source": [
    "- Есть ли зависимость между уровнем дохода и возвратом кредита в срок?"
   ]
  },
  {
   "cell_type": "code",
   "execution_count": 38,
   "metadata": {},
   "outputs": [
    {
     "data": {
      "text/html": [
       "<div>\n",
       "<style scoped>\n",
       "    .dataframe tbody tr th:only-of-type {\n",
       "        vertical-align: middle;\n",
       "    }\n",
       "\n",
       "    .dataframe tbody tr th {\n",
       "        vertical-align: top;\n",
       "    }\n",
       "\n",
       "    .dataframe thead th {\n",
       "        text-align: right;\n",
       "    }\n",
       "</style>\n",
       "<table border=\"1\" class=\"dataframe\">\n",
       "  <thead>\n",
       "    <tr style=\"text-align: right;\">\n",
       "      <th>debt</th>\n",
       "      <th>0</th>\n",
       "      <th>1</th>\n",
       "      <th>debt %</th>\n",
       "    </tr>\n",
       "    <tr>\n",
       "      <th>income_group</th>\n",
       "      <th></th>\n",
       "      <th></th>\n",
       "      <th></th>\n",
       "    </tr>\n",
       "  </thead>\n",
       "  <tbody>\n",
       "    <tr>\n",
       "      <td>высокий доход</td>\n",
       "      <td>15604</td>\n",
       "      <td>1387</td>\n",
       "      <td>8.163145</td>\n",
       "    </tr>\n",
       "    <tr>\n",
       "      <td>низкий доход</td>\n",
       "      <td>349</td>\n",
       "      <td>23</td>\n",
       "      <td>6.182796</td>\n",
       "    </tr>\n",
       "    <tr>\n",
       "      <td>средний доход</td>\n",
       "      <td>3760</td>\n",
       "      <td>331</td>\n",
       "      <td>8.090931</td>\n",
       "    </tr>\n",
       "  </tbody>\n",
       "</table>\n",
       "</div>"
      ],
      "text/plain": [
       "debt               0     1    debt %\n",
       "income_group                        \n",
       "высокий доход  15604  1387  8.163145\n",
       "низкий доход     349    23  6.182796\n",
       "средний доход   3760   331  8.090931"
      ]
     },
     "execution_count": 38,
     "metadata": {},
     "output_type": "execute_result"
    }
   ],
   "source": [
    "# создадим свобдную таблицу с данными об уровне дохода и задолженностями\n",
    "income_pivot = df.pivot_table(\n",
    "    index='income_group', \n",
    "    columns='debt', \n",
    "    values='total_income', \n",
    "    aggfunc='count')\n",
    "\n",
    "# добавим столбец с процентным соотношенем \"должников\" по каждой категории\n",
    "income_pivot['debt %'] = df.groupby(['income_group'])['debt'].mean() * 100\n",
    "income_pivot"
   ]
  },
  {
   "cell_type": "code",
   "execution_count": 39,
   "metadata": {},
   "outputs": [
    {
     "data": {
      "text/plain": [
       "<matplotlib.axes._subplots.AxesSubplot at 0x7fac0562a690>"
      ]
     },
     "execution_count": 39,
     "metadata": {},
     "output_type": "execute_result"
    },
    {
     "data": {
      "image/png": "[encoded data removed]",
      "text/plain": [
       "<Figure size 432x288 with 1 Axes>"
      ]
     },
     "metadata": {
      "needs_background": "light"
     },
     "output_type": "display_data"
    }
   ],
   "source": [
    "# назначим переменные для осей графиков\n",
    "# x для среднего значения наличия задолженности заемщика по категориям\n",
    "# y для уникальных значений категорий уровня дохода\n",
    "\n",
    "x = [\n",
    "    df[df['income_group'] == 'высокий доход']['debt'].mean(),\n",
    "    df[df['income_group'] == 'средний доход']['debt'].mean(),\n",
    "    df[df['income_group'] == 'низкий доход']['debt'].mean()\n",
    "]\n",
    "y = df['income_group'].unique()\n",
    "\n",
    "# построим график по полученным результатам\n",
    "sns.barplot(x=x, y=y)"
   ]
  },
  {
   "cell_type": "markdown",
   "metadata": {},
   "source": [
    "**Вывод**"
   ]
  },
  {
   "cell_type": "markdown",
   "metadata": {},
   "source": [
    "Тут зависимость показывает, что заемщики, имеющие доход менее 50000 рублей реже имеют задолженности по кредитам, чем заемщики, получающие более 50000 рублей."
   ]
  },
  {
   "cell_type": "markdown",
   "metadata": {},
   "source": [
    "### Зависимость разных целей кредитования и возвратом кредита в срок"
   ]
  },
  {
   "cell_type": "markdown",
   "metadata": {},
   "source": [
    "- Как разные цели кредита влияют на его возврат в срок?"
   ]
  },
  {
   "cell_type": "code",
   "execution_count": 40,
   "metadata": {
    "scrolled": true
   },
   "outputs": [],
   "source": [
    "# старое решение с выводом среднего значения \n",
    "\n",
    "# сгруппируем данные по категориям целей кредитования и выделим их средние значения\n",
    "# df.groupby(['purpose_group'])['debt'].mean()"
   ]
  },
  {
   "cell_type": "code",
   "execution_count": 41,
   "metadata": {},
   "outputs": [
    {
     "data": {
      "text/html": [
       "<div>\n",
       "<style scoped>\n",
       "    .dataframe tbody tr th:only-of-type {\n",
       "        vertical-align: middle;\n",
       "    }\n",
       "\n",
       "    .dataframe tbody tr th {\n",
       "        vertical-align: top;\n",
       "    }\n",
       "\n",
       "    .dataframe thead th {\n",
       "        text-align: right;\n",
       "    }\n",
       "</style>\n",
       "<table border=\"1\" class=\"dataframe\">\n",
       "  <thead>\n",
       "    <tr style=\"text-align: right;\">\n",
       "      <th>debt</th>\n",
       "      <th>0</th>\n",
       "      <th>1</th>\n",
       "      <th>debt %</th>\n",
       "    </tr>\n",
       "    <tr>\n",
       "      <th>purpose_group</th>\n",
       "      <th></th>\n",
       "      <th></th>\n",
       "      <th></th>\n",
       "    </tr>\n",
       "  </thead>\n",
       "  <tbody>\n",
       "    <tr>\n",
       "      <td>автомобиль</td>\n",
       "      <td>3903</td>\n",
       "      <td>403</td>\n",
       "      <td>9.359034</td>\n",
       "    </tr>\n",
       "    <tr>\n",
       "      <td>недвижимость</td>\n",
       "      <td>10029</td>\n",
       "      <td>782</td>\n",
       "      <td>7.233373</td>\n",
       "    </tr>\n",
       "    <tr>\n",
       "      <td>образование</td>\n",
       "      <td>3643</td>\n",
       "      <td>370</td>\n",
       "      <td>9.220035</td>\n",
       "    </tr>\n",
       "    <tr>\n",
       "      <td>свадьба</td>\n",
       "      <td>2138</td>\n",
       "      <td>186</td>\n",
       "      <td>8.003442</td>\n",
       "    </tr>\n",
       "  </tbody>\n",
       "</table>\n",
       "</div>"
      ],
      "text/plain": [
       "debt               0    1    debt %\n",
       "purpose_group                      \n",
       "автомобиль      3903  403  9.359034\n",
       "недвижимость   10029  782  7.233373\n",
       "образование     3643  370  9.220035\n",
       "свадьба         2138  186  8.003442"
      ]
     },
     "execution_count": 41,
     "metadata": {},
     "output_type": "execute_result"
    }
   ],
   "source": [
    "# создадим свобдную таблицу с данными о целях кредита и задолженностями\n",
    "purpose_pivot = df.pivot_table(\n",
    "    index='purpose_group', \n",
    "    columns='debt', \n",
    "    values='purpose', \n",
    "    aggfunc='count')\n",
    "\n",
    "# добавим столбец с процентным соотношенем \"должников\" по каждой категории\n",
    "purpose_pivot['debt %'] = df.groupby(['purpose_group'])['debt'].mean() * 100\n",
    "purpose_pivot"
   ]
  },
  {
   "cell_type": "code",
   "execution_count": 42,
   "metadata": {},
   "outputs": [
    {
     "data": {
      "text/plain": [
       "<matplotlib.axes._subplots.AxesSubplot at 0x7fac0559e4d0>"
      ]
     },
     "execution_count": 42,
     "metadata": {},
     "output_type": "execute_result"
    },
    {
     "data": {
      "image/png": "[encoded data removed]",
      "text/plain": [
       "<Figure size 432x288 with 1 Axes>"
      ]
     },
     "metadata": {
      "needs_background": "light"
     },
     "output_type": "display_data"
    }
   ],
   "source": [
    "# назначим переменные для осей графиков\n",
    "# x для среднего значения наличия задолженности заемщика по категориям\n",
    "# y для уникальных значений категорий целей кредитования\n",
    "\n",
    "x = [\n",
    "    df[df['purpose_group'] == 'недвижимость']['debt'].mean(),\n",
    "    df[df['purpose_group'] == 'автомобиль']['debt'].mean(),\n",
    "    df[df['purpose_group'] == 'образование']['debt'].mean(),\n",
    "    df[df['purpose_group'] == 'свадьба']['debt'].mean()\n",
    "]\n",
    "y = df['purpose_group'].unique()\n",
    "\n",
    "# построим график по полученным результатам\n",
    "sns.barplot(x=x, y=y)"
   ]
  },
  {
   "cell_type": "markdown",
   "metadata": {},
   "source": [
    "**Вывод**"
   ]
  },
  {
   "cell_type": "markdown",
   "metadata": {},
   "source": [
    "Зависимость показывает, что реже всего заемщики имеют задолженности при получении кредита на недвижимость, чуть чаще на свадьбу. На автомобиль и образование задолженности возникают чаще."
   ]
  },
  {
   "cell_type": "markdown",
   "metadata": {},
   "source": [
    "## Общий вывод"
   ]
  },
  {
   "cell_type": "markdown",
   "metadata": {},
   "source": [
    "Для выполнение поставленных задач, мы предварительно обработали датафрейм, заполнили пропуски и удалили дубликаты. Изменили тип необходимых данных, провели лемматизацию целей и категоризацию интересующих нас столбцов.\n",
    "\n",
    "Обработав подготовленные данные, мы увидели, какие категории заемщиков наиболее благонадежные:\n",
    "* по наличию детей - бездетные\n",
    "* по семейному положению - овдовевшие\n",
    "* по общему доходу - имеющие доходи менее 50000 рублей\n",
    "* по цели кредитование - на приобретение недвижимости"
   ]
  }
 ],
 "metadata": {
  "ExecuteTimeLog": [
   {
    "duration": 818,
    "start_time": "2021-12-30T17:39:35.796Z"
   },
   {
    "duration": 98,
    "start_time": "2021-12-30T17:44:56.801Z"
   },
   {
    "duration": 88,
    "start_time": "2021-12-30T17:45:05.624Z"
   },
   {
    "duration": 86,
    "start_time": "2021-12-30T17:45:12.427Z"
   },
   {
    "duration": 96,
    "start_time": "2021-12-30T17:48:22.386Z"
   },
   {
    "duration": 591,
    "start_time": "2021-12-30T19:51:42.265Z"
   },
   {
    "duration": 9,
    "start_time": "2021-12-30T19:51:42.858Z"
   },
   {
    "duration": 16,
    "start_time": "2021-12-30T19:51:45.582Z"
   },
   {
    "duration": 11,
    "start_time": "2021-12-30T20:01:28.966Z"
   },
   {
    "duration": 11,
    "start_time": "2021-12-30T20:01:38.033Z"
   },
   {
    "duration": 11,
    "start_time": "2021-12-30T20:01:59.698Z"
   },
   {
    "duration": 11,
    "start_time": "2021-12-30T20:02:03.783Z"
   },
   {
    "duration": 3,
    "start_time": "2021-12-30T20:07:23.425Z"
   },
   {
    "duration": 3,
    "start_time": "2021-12-30T20:07:38.705Z"
   },
   {
    "duration": 375,
    "start_time": "2022-01-01T12:02:14.749Z"
   },
   {
    "duration": 1125,
    "start_time": "2022-01-01T12:02:22.391Z"
   },
   {
    "duration": 15,
    "start_time": "2022-01-01T12:02:23.518Z"
   },
   {
    "duration": 27,
    "start_time": "2022-01-01T12:02:23.536Z"
   },
   {
    "duration": 6,
    "start_time": "2022-01-01T12:02:23.565Z"
   },
   {
    "duration": 6,
    "start_time": "2022-01-01T12:04:47.943Z"
   },
   {
    "duration": 8,
    "start_time": "2022-01-01T12:04:54.868Z"
   },
   {
    "duration": 86,
    "start_time": "2022-01-01T12:05:36.184Z"
   },
   {
    "duration": 6,
    "start_time": "2022-01-01T12:05:40.477Z"
   },
   {
    "duration": 7,
    "start_time": "2022-01-01T12:06:11.030Z"
   },
   {
    "duration": 8,
    "start_time": "2022-01-01T12:06:36.078Z"
   },
   {
    "duration": 304,
    "start_time": "2022-01-01T12:06:43.276Z"
   },
   {
    "duration": 278,
    "start_time": "2022-01-01T12:07:36.232Z"
   },
   {
    "duration": 33,
    "start_time": "2022-01-01T12:08:00.608Z"
   },
   {
    "duration": 330,
    "start_time": "2022-01-01T12:08:12.322Z"
   },
   {
    "duration": 11,
    "start_time": "2022-01-01T12:10:09.827Z"
   },
   {
    "duration": 6,
    "start_time": "2022-01-01T12:10:43.545Z"
   },
   {
    "duration": 6,
    "start_time": "2022-01-01T12:10:54.406Z"
   },
   {
    "duration": 8,
    "start_time": "2022-01-01T12:12:06.131Z"
   },
   {
    "duration": 6,
    "start_time": "2022-01-01T12:12:19.010Z"
   },
   {
    "duration": 5,
    "start_time": "2022-01-01T12:15:59.708Z"
   },
   {
    "duration": 18,
    "start_time": "2022-01-01T12:16:09.737Z"
   },
   {
    "duration": 16,
    "start_time": "2022-01-01T12:19:41.003Z"
   },
   {
    "duration": 6,
    "start_time": "2022-01-01T12:23:21.122Z"
   },
   {
    "duration": 8,
    "start_time": "2022-01-01T12:23:50.472Z"
   },
   {
    "duration": 17,
    "start_time": "2022-01-01T12:24:02.383Z"
   },
   {
    "duration": 263,
    "start_time": "2022-01-01T12:27:34.720Z"
   },
   {
    "duration": 8,
    "start_time": "2022-01-01T12:27:41.535Z"
   },
   {
    "duration": 7,
    "start_time": "2022-01-01T12:28:12.520Z"
   },
   {
    "duration": 6,
    "start_time": "2022-01-01T12:28:14.936Z"
   },
   {
    "duration": 13,
    "start_time": "2022-01-01T12:28:28.475Z"
   },
   {
    "duration": 14,
    "start_time": "2022-01-01T12:28:39.875Z"
   },
   {
    "duration": 281,
    "start_time": "2022-01-01T12:31:37.790Z"
   },
   {
    "duration": 7,
    "start_time": "2022-01-01T12:31:52.562Z"
   },
   {
    "duration": 7,
    "start_time": "2022-01-01T12:32:43.240Z"
   },
   {
    "duration": 756,
    "start_time": "2022-01-01T12:32:54.069Z"
   },
   {
    "duration": 17,
    "start_time": "2022-01-01T12:32:54.828Z"
   },
   {
    "duration": 31,
    "start_time": "2022-01-01T12:32:54.851Z"
   },
   {
    "duration": 7,
    "start_time": "2022-01-01T12:32:54.916Z"
   },
   {
    "duration": 6,
    "start_time": "2022-01-01T12:32:54.926Z"
   },
   {
    "duration": 8,
    "start_time": "2022-01-01T12:34:24.748Z"
   },
   {
    "duration": 10,
    "start_time": "2022-01-01T12:34:54.561Z"
   },
   {
    "duration": 6,
    "start_time": "2022-01-01T12:36:01.721Z"
   },
   {
    "duration": 6,
    "start_time": "2022-01-01T12:36:05.590Z"
   },
   {
    "duration": 13,
    "start_time": "2022-01-01T12:36:15.045Z"
   },
   {
    "duration": 14,
    "start_time": "2022-01-01T12:36:33.459Z"
   },
   {
    "duration": 44,
    "start_time": "2022-01-01T12:36:51.732Z"
   },
   {
    "duration": 15,
    "start_time": "2022-01-01T12:37:29.886Z"
   },
   {
    "duration": 10,
    "start_time": "2022-01-01T12:37:46.063Z"
   },
   {
    "duration": 14,
    "start_time": "2022-01-01T12:37:53.120Z"
   },
   {
    "duration": 62,
    "start_time": "2022-01-01T12:38:51.741Z"
   },
   {
    "duration": 15,
    "start_time": "2022-01-01T12:38:51.806Z"
   },
   {
    "duration": 19,
    "start_time": "2022-01-01T12:38:51.824Z"
   },
   {
    "duration": 8,
    "start_time": "2022-01-01T12:38:51.846Z"
   },
   {
    "duration": 22,
    "start_time": "2022-01-01T12:38:51.856Z"
   },
   {
    "duration": 39,
    "start_time": "2022-01-01T12:41:47.474Z"
   },
   {
    "duration": 832,
    "start_time": "2022-01-01T12:44:45.812Z"
   },
   {
    "duration": 16,
    "start_time": "2022-01-01T12:44:46.646Z"
   },
   {
    "duration": 50,
    "start_time": "2022-01-01T12:44:46.666Z"
   },
   {
    "duration": 7,
    "start_time": "2022-01-01T12:44:46.719Z"
   },
   {
    "duration": 6,
    "start_time": "2022-01-01T12:44:46.728Z"
   },
   {
    "duration": 18,
    "start_time": "2022-01-01T12:47:38.763Z"
   },
   {
    "duration": 17,
    "start_time": "2022-01-01T12:48:01.137Z"
   },
   {
    "duration": 430,
    "start_time": "2022-01-02T06:57:17.761Z"
   },
   {
    "duration": 899,
    "start_time": "2022-01-02T06:57:24.619Z"
   },
   {
    "duration": 15,
    "start_time": "2022-01-02T06:57:25.521Z"
   },
   {
    "duration": 34,
    "start_time": "2022-01-02T06:57:25.540Z"
   },
   {
    "duration": 6,
    "start_time": "2022-01-02T06:57:25.577Z"
   },
   {
    "duration": 7,
    "start_time": "2022-01-02T06:57:25.585Z"
   },
   {
    "duration": 7,
    "start_time": "2022-01-02T06:57:25.594Z"
   },
   {
    "duration": 14,
    "start_time": "2022-01-02T06:57:25.603Z"
   },
   {
    "duration": 391,
    "start_time": "2022-01-02T07:00:09.512Z"
   },
   {
    "duration": 8,
    "start_time": "2022-01-02T07:00:21.850Z"
   },
   {
    "duration": 10,
    "start_time": "2022-01-02T07:01:27.283Z"
   },
   {
    "duration": 8,
    "start_time": "2022-01-02T07:01:33.216Z"
   },
   {
    "duration": 9,
    "start_time": "2022-01-02T07:03:23.790Z"
   },
   {
    "duration": 6,
    "start_time": "2022-01-02T07:03:40.784Z"
   },
   {
    "duration": 61,
    "start_time": "2022-01-02T07:03:59.201Z"
   },
   {
    "duration": 14,
    "start_time": "2022-01-02T07:03:59.265Z"
   },
   {
    "duration": 18,
    "start_time": "2022-01-02T07:03:59.282Z"
   },
   {
    "duration": 6,
    "start_time": "2022-01-02T07:03:59.303Z"
   },
   {
    "duration": 3,
    "start_time": "2022-01-02T07:03:59.312Z"
   },
   {
    "duration": 3,
    "start_time": "2022-01-02T07:03:59.360Z"
   },
   {
    "duration": 18,
    "start_time": "2022-01-02T07:03:59.365Z"
   },
   {
    "duration": 8,
    "start_time": "2022-01-02T07:05:37.873Z"
   },
   {
    "duration": 9,
    "start_time": "2022-01-02T07:06:24.945Z"
   },
   {
    "duration": 8,
    "start_time": "2022-01-02T07:06:37.852Z"
   },
   {
    "duration": 13,
    "start_time": "2022-01-02T07:09:05.691Z"
   },
   {
    "duration": 6,
    "start_time": "2022-01-02T07:11:57.585Z"
   },
   {
    "duration": 6,
    "start_time": "2022-01-02T07:14:20.586Z"
   },
   {
    "duration": 7,
    "start_time": "2022-01-02T07:14:22.826Z"
   },
   {
    "duration": 36,
    "start_time": "2022-01-02T07:14:33.986Z"
   },
   {
    "duration": 39,
    "start_time": "2022-01-02T07:15:40.259Z"
   },
   {
    "duration": 35,
    "start_time": "2022-01-02T07:16:48.140Z"
   },
   {
    "duration": 383,
    "start_time": "2022-01-02T07:18:56.133Z"
   },
   {
    "duration": -63153,
    "start_time": "2022-01-02T07:20:45.549Z"
   },
   {
    "duration": 9109,
    "start_time": "2022-01-02T07:19:49.551Z"
   },
   {
    "duration": 10,
    "start_time": "2022-01-02T07:20:28.057Z"
   },
   {
    "duration": 13,
    "start_time": "2022-01-02T07:22:04.608Z"
   },
   {
    "duration": 9474,
    "start_time": "2022-01-02T07:25:01.752Z"
   },
   {
    "duration": 9358,
    "start_time": "2022-01-02T07:25:32.149Z"
   },
   {
    "duration": 8872,
    "start_time": "2022-01-02T07:25:46.358Z"
   },
   {
    "duration": 12,
    "start_time": "2022-01-02T07:26:02.285Z"
   },
   {
    "duration": 9,
    "start_time": "2022-01-02T07:26:32.763Z"
   },
   {
    "duration": 41,
    "start_time": "2022-01-02T07:27:45.526Z"
   },
   {
    "duration": 6,
    "start_time": "2022-01-02T07:27:57.399Z"
   },
   {
    "duration": 6,
    "start_time": "2022-01-02T07:27:59.886Z"
   },
   {
    "duration": 10,
    "start_time": "2022-01-02T07:28:36.460Z"
   },
   {
    "duration": 10,
    "start_time": "2022-01-02T07:28:59.306Z"
   },
   {
    "duration": 890,
    "start_time": "2022-01-02T07:33:30.128Z"
   },
   {
    "duration": 16,
    "start_time": "2022-01-02T07:33:31.020Z"
   },
   {
    "duration": 30,
    "start_time": "2022-01-02T07:33:31.039Z"
   },
   {
    "duration": 24,
    "start_time": "2022-01-02T07:33:31.072Z"
   },
   {
    "duration": 11,
    "start_time": "2022-01-02T07:33:31.099Z"
   },
   {
    "duration": 12,
    "start_time": "2022-01-02T07:33:31.112Z"
   },
   {
    "duration": 35,
    "start_time": "2022-01-02T07:33:31.126Z"
   },
   {
    "duration": 19,
    "start_time": "2022-01-02T07:33:31.164Z"
   },
   {
    "duration": 806,
    "start_time": "2022-01-02T07:41:57.819Z"
   },
   {
    "duration": 15,
    "start_time": "2022-01-02T07:41:58.628Z"
   },
   {
    "duration": 25,
    "start_time": "2022-01-02T07:41:58.647Z"
   },
   {
    "duration": 19,
    "start_time": "2022-01-02T07:41:58.675Z"
   },
   {
    "duration": 9,
    "start_time": "2022-01-02T07:41:58.697Z"
   },
   {
    "duration": 5,
    "start_time": "2022-01-02T07:41:58.709Z"
   },
   {
    "duration": 46,
    "start_time": "2022-01-02T07:41:58.716Z"
   },
   {
    "duration": 14,
    "start_time": "2022-01-02T07:41:58.765Z"
   },
   {
    "duration": 834,
    "start_time": "2022-01-02T07:53:57.264Z"
   },
   {
    "duration": 15,
    "start_time": "2022-01-02T07:53:58.101Z"
   },
   {
    "duration": 40,
    "start_time": "2022-01-02T07:53:58.119Z"
   },
   {
    "duration": 21,
    "start_time": "2022-01-02T07:53:58.162Z"
   },
   {
    "duration": 10,
    "start_time": "2022-01-02T07:53:58.185Z"
   },
   {
    "duration": 5,
    "start_time": "2022-01-02T07:53:58.197Z"
   },
   {
    "duration": 5,
    "start_time": "2022-01-02T07:53:58.204Z"
   },
   {
    "duration": 55,
    "start_time": "2022-01-02T07:53:58.212Z"
   },
   {
    "duration": 6,
    "start_time": "2022-01-02T08:02:26.508Z"
   },
   {
    "duration": 459,
    "start_time": "2022-01-02T08:02:56.153Z"
   },
   {
    "duration": 7,
    "start_time": "2022-01-02T08:04:23.303Z"
   },
   {
    "duration": 6,
    "start_time": "2022-01-02T08:05:31.539Z"
   },
   {
    "duration": 33,
    "start_time": "2022-01-02T08:07:57.447Z"
   },
   {
    "duration": 9,
    "start_time": "2022-01-02T08:08:58.379Z"
   },
   {
    "duration": 8,
    "start_time": "2022-01-02T08:09:03.244Z"
   },
   {
    "duration": 36,
    "start_time": "2022-01-02T08:09:07.748Z"
   },
   {
    "duration": 12,
    "start_time": "2022-01-02T08:10:03.765Z"
   },
   {
    "duration": 8,
    "start_time": "2022-01-02T08:22:53.200Z"
   },
   {
    "duration": 15,
    "start_time": "2022-01-02T08:23:10.593Z"
   },
   {
    "duration": 780,
    "start_time": "2022-01-02T08:23:29.012Z"
   },
   {
    "duration": 14,
    "start_time": "2022-01-02T08:23:29.795Z"
   },
   {
    "duration": 21,
    "start_time": "2022-01-02T08:23:29.812Z"
   },
   {
    "duration": 43,
    "start_time": "2022-01-02T08:23:29.835Z"
   },
   {
    "duration": 10,
    "start_time": "2022-01-02T08:23:29.880Z"
   },
   {
    "duration": 4,
    "start_time": "2022-01-02T08:23:29.893Z"
   },
   {
    "duration": 6,
    "start_time": "2022-01-02T08:23:29.899Z"
   },
   {
    "duration": 54,
    "start_time": "2022-01-02T08:23:29.908Z"
   },
   {
    "duration": 14,
    "start_time": "2022-01-02T08:23:29.965Z"
   },
   {
    "duration": 3,
    "start_time": "2022-01-02T08:23:29.982Z"
   },
   {
    "duration": 8,
    "start_time": "2022-01-02T08:24:09.042Z"
   },
   {
    "duration": 8,
    "start_time": "2022-01-02T08:24:28.063Z"
   },
   {
    "duration": 4,
    "start_time": "2022-01-02T08:51:59.212Z"
   },
   {
    "duration": 16,
    "start_time": "2022-01-02T08:52:50.112Z"
   },
   {
    "duration": 33,
    "start_time": "2022-01-02T08:52:57.835Z"
   },
   {
    "duration": 5022,
    "start_time": "2022-01-02T08:53:28.275Z"
   },
   {
    "duration": 9386,
    "start_time": "2022-01-02T08:53:44.339Z"
   },
   {
    "duration": 388,
    "start_time": "2022-01-02T08:54:14.756Z"
   },
   {
    "duration": 32,
    "start_time": "2022-01-02T08:54:55.389Z"
   },
   {
    "duration": 22,
    "start_time": "2022-01-02T08:55:52.300Z"
   },
   {
    "duration": 33,
    "start_time": "2022-01-02T08:56:03.443Z"
   },
   {
    "duration": 22,
    "start_time": "2022-01-02T08:56:14.215Z"
   },
   {
    "duration": 389,
    "start_time": "2022-01-02T08:57:11.939Z"
   },
   {
    "duration": 33,
    "start_time": "2022-01-02T08:57:18.923Z"
   },
   {
    "duration": 22,
    "start_time": "2022-01-02T08:57:50.168Z"
   },
   {
    "duration": 21,
    "start_time": "2022-01-02T08:58:13.281Z"
   },
   {
    "duration": 26,
    "start_time": "2022-01-02T08:59:25.944Z"
   },
   {
    "duration": 37,
    "start_time": "2022-01-02T08:59:43.265Z"
   },
   {
    "duration": 392,
    "start_time": "2022-01-02T08:59:56.473Z"
   },
   {
    "duration": 43,
    "start_time": "2022-01-02T09:00:03.364Z"
   },
   {
    "duration": 43,
    "start_time": "2022-01-02T09:01:56.917Z"
   },
   {
    "duration": 28,
    "start_time": "2022-01-02T09:04:33.268Z"
   },
   {
    "duration": 620,
    "start_time": "2022-01-03T13:02:06.038Z"
   },
   {
    "duration": 9,
    "start_time": "2022-01-03T13:02:06.660Z"
   },
   {
    "duration": 12,
    "start_time": "2022-01-03T13:02:06.670Z"
   },
   {
    "duration": 10,
    "start_time": "2022-01-03T13:02:06.684Z"
   },
   {
    "duration": 5,
    "start_time": "2022-01-03T13:02:06.696Z"
   },
   {
    "duration": 4,
    "start_time": "2022-01-03T13:02:06.703Z"
   },
   {
    "duration": 21,
    "start_time": "2022-01-03T13:02:06.708Z"
   },
   {
    "duration": 10,
    "start_time": "2022-01-03T13:02:06.730Z"
   },
   {
    "duration": 2,
    "start_time": "2022-01-03T13:02:06.742Z"
   },
   {
    "duration": 17,
    "start_time": "2022-01-03T13:02:06.746Z"
   },
   {
    "duration": 4,
    "start_time": "2022-01-03T13:02:06.764Z"
   },
   {
    "duration": 6,
    "start_time": "2022-01-03T13:37:04.440Z"
   },
   {
    "duration": 18,
    "start_time": "2022-01-03T13:37:45.054Z"
   },
   {
    "duration": 14,
    "start_time": "2022-01-03T13:38:11.573Z"
   },
   {
    "duration": 14,
    "start_time": "2022-01-03T13:39:22.384Z"
   },
   {
    "duration": 6,
    "start_time": "2022-01-03T13:40:09.490Z"
   },
   {
    "duration": 6,
    "start_time": "2022-01-03T13:52:52.041Z"
   },
   {
    "duration": 370,
    "start_time": "2022-01-03T13:53:25.835Z"
   },
   {
    "duration": 18,
    "start_time": "2022-01-03T13:53:38.048Z"
   },
   {
    "duration": 395,
    "start_time": "2022-01-03T13:53:52.302Z"
   },
   {
    "duration": 9,
    "start_time": "2022-01-03T13:54:03.131Z"
   },
   {
    "duration": 8,
    "start_time": "2022-01-03T13:54:19.418Z"
   },
   {
    "duration": 581,
    "start_time": "2022-01-03T13:54:31.889Z"
   },
   {
    "duration": 10,
    "start_time": "2022-01-03T13:54:32.472Z"
   },
   {
    "duration": 13,
    "start_time": "2022-01-03T13:54:32.487Z"
   },
   {
    "duration": 26,
    "start_time": "2022-01-03T13:54:32.502Z"
   },
   {
    "duration": 7,
    "start_time": "2022-01-03T13:54:32.529Z"
   },
   {
    "duration": 8,
    "start_time": "2022-01-03T13:54:32.537Z"
   },
   {
    "duration": 4,
    "start_time": "2022-01-03T13:54:32.547Z"
   },
   {
    "duration": 6,
    "start_time": "2022-01-03T13:54:32.552Z"
   },
   {
    "duration": 10,
    "start_time": "2022-01-03T13:54:32.559Z"
   },
   {
    "duration": 5,
    "start_time": "2022-01-03T13:54:32.570Z"
   },
   {
    "duration": 17,
    "start_time": "2022-01-03T13:54:32.576Z"
   },
   {
    "duration": 35,
    "start_time": "2022-01-03T13:54:32.595Z"
   },
   {
    "duration": 7,
    "start_time": "2022-01-03T13:57:35.539Z"
   },
   {
    "duration": 3,
    "start_time": "2022-01-03T14:01:36.435Z"
   },
   {
    "duration": 3,
    "start_time": "2022-01-03T14:01:41.554Z"
   },
   {
    "duration": 10,
    "start_time": "2022-01-03T14:02:19.547Z"
   },
   {
    "duration": 9,
    "start_time": "2022-01-03T14:02:26.757Z"
   },
   {
    "duration": 9,
    "start_time": "2022-01-03T14:02:32.391Z"
   },
   {
    "duration": 9,
    "start_time": "2022-01-03T14:02:41.660Z"
   },
   {
    "duration": 9,
    "start_time": "2022-01-03T14:02:57.356Z"
   },
   {
    "duration": 567,
    "start_time": "2022-01-03T14:03:10.276Z"
   },
   {
    "duration": 10,
    "start_time": "2022-01-03T14:03:10.845Z"
   },
   {
    "duration": 12,
    "start_time": "2022-01-03T14:03:10.858Z"
   },
   {
    "duration": 14,
    "start_time": "2022-01-03T14:03:10.872Z"
   },
   {
    "duration": 11,
    "start_time": "2022-01-03T14:03:10.887Z"
   },
   {
    "duration": 28,
    "start_time": "2022-01-03T14:03:10.899Z"
   },
   {
    "duration": 6,
    "start_time": "2022-01-03T14:03:10.929Z"
   },
   {
    "duration": 4,
    "start_time": "2022-01-03T14:03:10.936Z"
   },
   {
    "duration": 5,
    "start_time": "2022-01-03T14:03:10.941Z"
   },
   {
    "duration": 10,
    "start_time": "2022-01-03T14:03:10.947Z"
   },
   {
    "duration": 3,
    "start_time": "2022-01-03T14:03:10.959Z"
   },
   {
    "duration": 20,
    "start_time": "2022-01-03T14:03:10.963Z"
   },
   {
    "duration": 5,
    "start_time": "2022-01-03T14:03:10.984Z"
   },
   {
    "duration": 600,
    "start_time": "2022-01-03T15:01:56.831Z"
   },
   {
    "duration": 10,
    "start_time": "2022-01-03T15:01:57.433Z"
   },
   {
    "duration": 11,
    "start_time": "2022-01-03T15:01:57.445Z"
   },
   {
    "duration": 11,
    "start_time": "2022-01-03T15:01:57.458Z"
   },
   {
    "duration": 7,
    "start_time": "2022-01-03T15:01:57.470Z"
   },
   {
    "duration": 3,
    "start_time": "2022-01-03T15:01:57.478Z"
   },
   {
    "duration": 7,
    "start_time": "2022-01-03T15:01:57.483Z"
   },
   {
    "duration": 3,
    "start_time": "2022-01-03T15:01:57.492Z"
   },
   {
    "duration": 4,
    "start_time": "2022-01-03T15:01:57.527Z"
   },
   {
    "duration": 11,
    "start_time": "2022-01-03T15:01:57.532Z"
   },
   {
    "duration": 4,
    "start_time": "2022-01-03T15:01:57.544Z"
   },
   {
    "duration": 17,
    "start_time": "2022-01-03T15:01:57.549Z"
   },
   {
    "duration": 4,
    "start_time": "2022-01-03T15:01:57.568Z"
   },
   {
    "duration": 5,
    "start_time": "2022-01-03T15:12:26.918Z"
   },
   {
    "duration": 6,
    "start_time": "2022-01-03T15:14:23.646Z"
   },
   {
    "duration": 617,
    "start_time": "2022-01-03T15:19:03.327Z"
   },
   {
    "duration": 11,
    "start_time": "2022-01-03T15:19:03.946Z"
   },
   {
    "duration": 13,
    "start_time": "2022-01-03T15:19:03.959Z"
   },
   {
    "duration": 11,
    "start_time": "2022-01-03T15:19:03.974Z"
   },
   {
    "duration": 9,
    "start_time": "2022-01-03T15:19:03.986Z"
   },
   {
    "duration": 6,
    "start_time": "2022-01-03T15:19:03.996Z"
   },
   {
    "duration": 5,
    "start_time": "2022-01-03T15:19:04.027Z"
   },
   {
    "duration": 4,
    "start_time": "2022-01-03T15:19:04.034Z"
   },
   {
    "duration": 5,
    "start_time": "2022-01-03T15:19:04.039Z"
   },
   {
    "duration": 9,
    "start_time": "2022-01-03T15:19:04.046Z"
   },
   {
    "duration": 3,
    "start_time": "2022-01-03T15:19:04.057Z"
   },
   {
    "duration": 21,
    "start_time": "2022-01-03T15:19:04.061Z"
   },
   {
    "duration": 4,
    "start_time": "2022-01-03T15:19:04.083Z"
   },
   {
    "duration": 6,
    "start_time": "2022-01-03T15:45:30.484Z"
   },
   {
    "duration": 5,
    "start_time": "2022-01-03T15:45:42.222Z"
   },
   {
    "duration": 676,
    "start_time": "2022-01-03T15:46:01.227Z"
   },
   {
    "duration": 9,
    "start_time": "2022-01-03T15:46:01.905Z"
   },
   {
    "duration": 13,
    "start_time": "2022-01-03T15:46:01.915Z"
   },
   {
    "duration": 12,
    "start_time": "2022-01-03T15:46:01.929Z"
   },
   {
    "duration": 6,
    "start_time": "2022-01-03T15:46:01.942Z"
   },
   {
    "duration": 7,
    "start_time": "2022-01-03T15:46:01.950Z"
   },
   {
    "duration": 6,
    "start_time": "2022-01-03T15:46:01.958Z"
   },
   {
    "duration": 7,
    "start_time": "2022-01-03T15:46:01.966Z"
   },
   {
    "duration": 8,
    "start_time": "2022-01-03T15:46:01.975Z"
   },
   {
    "duration": 10,
    "start_time": "2022-01-03T15:46:01.984Z"
   },
   {
    "duration": 3,
    "start_time": "2022-01-03T15:46:01.996Z"
   },
   {
    "duration": 39,
    "start_time": "2022-01-03T15:46:02.000Z"
   },
   {
    "duration": 9,
    "start_time": "2022-01-03T15:46:02.041Z"
   },
   {
    "duration": 610,
    "start_time": "2022-01-03T15:53:37.340Z"
   },
   {
    "duration": 9,
    "start_time": "2022-01-03T15:53:37.952Z"
   },
   {
    "duration": 11,
    "start_time": "2022-01-03T15:53:37.963Z"
   },
   {
    "duration": 11,
    "start_time": "2022-01-03T15:53:37.976Z"
   },
   {
    "duration": 7,
    "start_time": "2022-01-03T15:53:37.988Z"
   },
   {
    "duration": 4,
    "start_time": "2022-01-03T15:53:37.997Z"
   },
   {
    "duration": 25,
    "start_time": "2022-01-03T15:53:38.002Z"
   },
   {
    "duration": 4,
    "start_time": "2022-01-03T15:53:38.029Z"
   },
   {
    "duration": 10,
    "start_time": "2022-01-03T15:53:38.034Z"
   },
   {
    "duration": 14,
    "start_time": "2022-01-03T15:53:38.045Z"
   },
   {
    "duration": 3,
    "start_time": "2022-01-03T15:53:38.060Z"
   },
   {
    "duration": 18,
    "start_time": "2022-01-03T15:53:38.064Z"
   },
   {
    "duration": 4,
    "start_time": "2022-01-03T15:53:38.083Z"
   },
   {
    "duration": 7,
    "start_time": "2022-01-03T16:00:23.744Z"
   },
   {
    "duration": 5,
    "start_time": "2022-01-03T16:00:37.780Z"
   },
   {
    "duration": 662,
    "start_time": "2022-01-03T16:00:45.887Z"
   },
   {
    "duration": 12,
    "start_time": "2022-01-03T16:00:46.550Z"
   },
   {
    "duration": 14,
    "start_time": "2022-01-03T16:00:46.564Z"
   },
   {
    "duration": 13,
    "start_time": "2022-01-03T16:00:46.580Z"
   },
   {
    "duration": 7,
    "start_time": "2022-01-03T16:00:46.595Z"
   },
   {
    "duration": 30,
    "start_time": "2022-01-03T16:00:46.603Z"
   },
   {
    "duration": 7,
    "start_time": "2022-01-03T16:00:46.635Z"
   },
   {
    "duration": 4,
    "start_time": "2022-01-03T16:00:46.645Z"
   },
   {
    "duration": 16,
    "start_time": "2022-01-03T16:00:46.650Z"
   },
   {
    "duration": 16,
    "start_time": "2022-01-03T16:00:46.667Z"
   },
   {
    "duration": 4,
    "start_time": "2022-01-03T16:00:46.685Z"
   },
   {
    "duration": 42,
    "start_time": "2022-01-03T16:00:46.691Z"
   },
   {
    "duration": 6,
    "start_time": "2022-01-03T16:00:46.734Z"
   },
   {
    "duration": 4,
    "start_time": "2022-01-03T16:32:27.903Z"
   },
   {
    "duration": 4,
    "start_time": "2022-01-03T16:33:02.954Z"
   },
   {
    "duration": 8,
    "start_time": "2022-01-03T16:34:41.626Z"
   },
   {
    "duration": 4,
    "start_time": "2022-01-03T16:35:29.697Z"
   },
   {
    "duration": 10,
    "start_time": "2022-01-03T16:35:45.849Z"
   },
   {
    "duration": 6,
    "start_time": "2022-01-03T16:36:53.706Z"
   },
   {
    "duration": 7,
    "start_time": "2022-01-03T16:37:13.032Z"
   },
   {
    "duration": 7,
    "start_time": "2022-01-03T16:37:20.109Z"
   },
   {
    "duration": 8,
    "start_time": "2022-01-03T16:38:20.772Z"
   },
   {
    "duration": 7,
    "start_time": "2022-01-03T16:38:25.274Z"
   },
   {
    "duration": 4,
    "start_time": "2022-01-03T16:41:18.971Z"
   },
   {
    "duration": 637,
    "start_time": "2022-01-03T16:44:09.953Z"
   },
   {
    "duration": 11,
    "start_time": "2022-01-03T16:44:10.592Z"
   },
   {
    "duration": 13,
    "start_time": "2022-01-03T16:44:10.605Z"
   },
   {
    "duration": 16,
    "start_time": "2022-01-03T16:44:10.620Z"
   },
   {
    "duration": 6,
    "start_time": "2022-01-03T16:44:10.638Z"
   },
   {
    "duration": 4,
    "start_time": "2022-01-03T16:44:10.645Z"
   },
   {
    "duration": 8,
    "start_time": "2022-01-03T16:44:10.651Z"
   },
   {
    "duration": 6,
    "start_time": "2022-01-03T16:44:10.661Z"
   },
   {
    "duration": 3,
    "start_time": "2022-01-03T16:44:10.668Z"
   },
   {
    "duration": 7,
    "start_time": "2022-01-03T16:44:10.672Z"
   },
   {
    "duration": 10,
    "start_time": "2022-01-03T16:44:10.680Z"
   },
   {
    "duration": 432,
    "start_time": "2022-01-03T16:44:10.692Z"
   },
   {
    "duration": -63786,
    "start_time": "2022-01-03T16:45:14.911Z"
   },
   {
    "duration": -63799,
    "start_time": "2022-01-03T16:45:14.925Z"
   },
   {
    "duration": 8,
    "start_time": "2022-01-03T16:47:30.272Z"
   },
   {
    "duration": 5,
    "start_time": "2022-01-03T16:50:53.174Z"
   },
   {
    "duration": 4,
    "start_time": "2022-01-03T16:51:05.244Z"
   },
   {
    "duration": 3,
    "start_time": "2022-01-03T16:51:13.147Z"
   },
   {
    "duration": 7,
    "start_time": "2022-01-03T16:51:19.024Z"
   },
   {
    "duration": 619,
    "start_time": "2022-01-03T16:51:41.932Z"
   },
   {
    "duration": 11,
    "start_time": "2022-01-03T16:51:42.553Z"
   },
   {
    "duration": 14,
    "start_time": "2022-01-03T16:51:42.567Z"
   },
   {
    "duration": 12,
    "start_time": "2022-01-03T16:51:42.583Z"
   },
   {
    "duration": 7,
    "start_time": "2022-01-03T16:51:42.597Z"
   },
   {
    "duration": 5,
    "start_time": "2022-01-03T16:51:42.627Z"
   },
   {
    "duration": 7,
    "start_time": "2022-01-03T16:51:42.634Z"
   },
   {
    "duration": 4,
    "start_time": "2022-01-03T16:51:42.643Z"
   },
   {
    "duration": 7,
    "start_time": "2022-01-03T16:51:42.649Z"
   },
   {
    "duration": 5,
    "start_time": "2022-01-03T16:51:42.657Z"
   },
   {
    "duration": 5,
    "start_time": "2022-01-03T16:51:42.663Z"
   },
   {
    "duration": 10,
    "start_time": "2022-01-03T16:51:42.669Z"
   },
   {
    "duration": 46,
    "start_time": "2022-01-03T16:51:42.681Z"
   },
   {
    "duration": 19,
    "start_time": "2022-01-03T16:51:42.728Z"
   },
   {
    "duration": 8,
    "start_time": "2022-01-03T16:51:42.748Z"
   },
   {
    "duration": 9,
    "start_time": "2022-01-03T16:57:05.965Z"
   },
   {
    "duration": 1003,
    "start_time": "2022-01-04T09:37:05.468Z"
   },
   {
    "duration": 21,
    "start_time": "2022-01-04T09:37:06.473Z"
   },
   {
    "duration": 23,
    "start_time": "2022-01-04T09:37:06.497Z"
   },
   {
    "duration": 51,
    "start_time": "2022-01-04T09:37:06.523Z"
   },
   {
    "duration": 12,
    "start_time": "2022-01-04T09:37:06.576Z"
   },
   {
    "duration": 18,
    "start_time": "2022-01-04T09:37:06.590Z"
   },
   {
    "duration": 11,
    "start_time": "2022-01-04T09:37:06.610Z"
   },
   {
    "duration": 39,
    "start_time": "2022-01-04T09:37:06.624Z"
   },
   {
    "duration": 6,
    "start_time": "2022-01-04T09:37:06.666Z"
   },
   {
    "duration": 21,
    "start_time": "2022-01-04T09:37:06.674Z"
   },
   {
    "duration": 9,
    "start_time": "2022-01-04T09:37:06.698Z"
   },
   {
    "duration": 41,
    "start_time": "2022-01-04T09:37:06.709Z"
   },
   {
    "duration": 8,
    "start_time": "2022-01-04T09:37:06.763Z"
   },
   {
    "duration": 7,
    "start_time": "2022-01-04T09:41:53.796Z"
   },
   {
    "duration": 798,
    "start_time": "2022-01-04T09:42:08.720Z"
   },
   {
    "duration": 15,
    "start_time": "2022-01-04T09:42:09.522Z"
   },
   {
    "duration": 33,
    "start_time": "2022-01-04T09:42:09.540Z"
   },
   {
    "duration": 22,
    "start_time": "2022-01-04T09:42:09.575Z"
   },
   {
    "duration": 11,
    "start_time": "2022-01-04T09:42:09.600Z"
   },
   {
    "duration": 8,
    "start_time": "2022-01-04T09:42:09.614Z"
   },
   {
    "duration": 48,
    "start_time": "2022-01-04T09:42:09.624Z"
   },
   {
    "duration": 10,
    "start_time": "2022-01-04T09:42:09.676Z"
   },
   {
    "duration": 7,
    "start_time": "2022-01-04T09:42:09.689Z"
   },
   {
    "duration": 3,
    "start_time": "2022-01-04T09:42:09.699Z"
   },
   {
    "duration": 17,
    "start_time": "2022-01-04T09:42:09.704Z"
   },
   {
    "duration": 5,
    "start_time": "2022-01-04T09:42:09.764Z"
   },
   {
    "duration": 27,
    "start_time": "2022-01-04T09:42:09.772Z"
   },
   {
    "duration": 9,
    "start_time": "2022-01-04T09:42:09.801Z"
   },
   {
    "duration": 7,
    "start_time": "2022-01-04T09:42:21.868Z"
   },
   {
    "duration": 11,
    "start_time": "2022-01-04T09:42:38.516Z"
   },
   {
    "duration": 7,
    "start_time": "2022-01-04T09:43:05.984Z"
   },
   {
    "duration": 819,
    "start_time": "2022-01-04T09:43:17.450Z"
   },
   {
    "duration": 14,
    "start_time": "2022-01-04T09:43:18.272Z"
   },
   {
    "duration": 20,
    "start_time": "2022-01-04T09:43:18.290Z"
   },
   {
    "duration": 50,
    "start_time": "2022-01-04T09:43:18.313Z"
   },
   {
    "duration": 11,
    "start_time": "2022-01-04T09:43:18.365Z"
   },
   {
    "duration": 7,
    "start_time": "2022-01-04T09:43:18.378Z"
   },
   {
    "duration": 9,
    "start_time": "2022-01-04T09:43:18.388Z"
   },
   {
    "duration": 10,
    "start_time": "2022-01-04T09:43:18.401Z"
   },
   {
    "duration": 50,
    "start_time": "2022-01-04T09:43:18.413Z"
   },
   {
    "duration": 15,
    "start_time": "2022-01-04T09:43:18.465Z"
   },
   {
    "duration": 5,
    "start_time": "2022-01-04T09:43:18.482Z"
   },
   {
    "duration": 28,
    "start_time": "2022-01-04T09:43:18.489Z"
   },
   {
    "duration": 44,
    "start_time": "2022-01-04T09:43:18.519Z"
   },
   {
    "duration": 4,
    "start_time": "2022-01-04T09:50:25.832Z"
   },
   {
    "duration": 8,
    "start_time": "2022-01-04T09:50:56.451Z"
   },
   {
    "duration": 779,
    "start_time": "2022-01-04T09:54:07.890Z"
   },
   {
    "duration": 14,
    "start_time": "2022-01-04T09:54:08.672Z"
   },
   {
    "duration": 20,
    "start_time": "2022-01-04T09:54:08.689Z"
   },
   {
    "duration": 19,
    "start_time": "2022-01-04T09:54:08.712Z"
   },
   {
    "duration": 37,
    "start_time": "2022-01-04T09:54:08.734Z"
   },
   {
    "duration": 15,
    "start_time": "2022-01-04T09:54:08.774Z"
   },
   {
    "duration": 14,
    "start_time": "2022-01-04T09:54:08.791Z"
   },
   {
    "duration": 11,
    "start_time": "2022-01-04T09:54:08.808Z"
   },
   {
    "duration": 42,
    "start_time": "2022-01-04T09:54:08.821Z"
   },
   {
    "duration": 4,
    "start_time": "2022-01-04T09:54:08.866Z"
   },
   {
    "duration": 38,
    "start_time": "2022-01-04T09:54:08.873Z"
   },
   {
    "duration": 5,
    "start_time": "2022-01-04T09:54:08.914Z"
   },
   {
    "duration": 27,
    "start_time": "2022-01-04T09:54:08.921Z"
   },
   {
    "duration": 18,
    "start_time": "2022-01-04T09:54:08.950Z"
   },
   {
    "duration": 388,
    "start_time": "2022-01-04T10:03:49.971Z"
   },
   {
    "duration": 11,
    "start_time": "2022-01-04T10:04:05.703Z"
   },
   {
    "duration": 10,
    "start_time": "2022-01-04T10:04:47.750Z"
   },
   {
    "duration": 12,
    "start_time": "2022-01-04T10:04:53.600Z"
   },
   {
    "duration": 26,
    "start_time": "2022-01-04T10:05:44.758Z"
   },
   {
    "duration": 25,
    "start_time": "2022-01-04T10:06:10.602Z"
   },
   {
    "duration": 26,
    "start_time": "2022-01-04T10:06:24.666Z"
   },
   {
    "duration": 52,
    "start_time": "2022-01-04T10:08:22.370Z"
   },
   {
    "duration": 13,
    "start_time": "2022-01-04T10:09:24.506Z"
   },
   {
    "duration": 49,
    "start_time": "2022-01-04T10:09:30.684Z"
   },
   {
    "duration": 927,
    "start_time": "2022-01-04T10:11:19.454Z"
   },
   {
    "duration": 15,
    "start_time": "2022-01-04T10:11:20.384Z"
   },
   {
    "duration": 20,
    "start_time": "2022-01-04T10:11:20.402Z"
   },
   {
    "duration": 42,
    "start_time": "2022-01-04T10:11:20.424Z"
   },
   {
    "duration": 12,
    "start_time": "2022-01-04T10:11:20.469Z"
   },
   {
    "duration": 8,
    "start_time": "2022-01-04T10:11:20.483Z"
   },
   {
    "duration": 9,
    "start_time": "2022-01-04T10:11:20.493Z"
   },
   {
    "duration": 59,
    "start_time": "2022-01-04T10:11:20.506Z"
   },
   {
    "duration": 5,
    "start_time": "2022-01-04T10:11:20.568Z"
   },
   {
    "duration": 5,
    "start_time": "2022-01-04T10:11:20.575Z"
   },
   {
    "duration": 14,
    "start_time": "2022-01-04T10:11:20.583Z"
   },
   {
    "duration": 5,
    "start_time": "2022-01-04T10:11:20.600Z"
   },
   {
    "duration": 74,
    "start_time": "2022-01-04T10:11:20.608Z"
   },
   {
    "duration": 54,
    "start_time": "2022-01-04T10:11:20.685Z"
   },
   {
    "duration": 5,
    "start_time": "2022-01-04T10:12:10.033Z"
   },
   {
    "duration": 100,
    "start_time": "2022-01-04T10:12:17.437Z"
   },
   {
    "duration": 14,
    "start_time": "2022-01-04T10:12:23.115Z"
   },
   {
    "duration": 12,
    "start_time": "2022-01-04T10:12:56.309Z"
   },
   {
    "duration": 12,
    "start_time": "2022-01-04T10:13:29.143Z"
   },
   {
    "duration": 11,
    "start_time": "2022-01-04T10:14:33.515Z"
   },
   {
    "duration": 769,
    "start_time": "2022-01-04T10:14:40.802Z"
   },
   {
    "duration": 14,
    "start_time": "2022-01-04T10:14:41.574Z"
   },
   {
    "duration": 20,
    "start_time": "2022-01-04T10:14:41.591Z"
   },
   {
    "duration": 52,
    "start_time": "2022-01-04T10:14:41.613Z"
   },
   {
    "duration": 13,
    "start_time": "2022-01-04T10:14:41.669Z"
   },
   {
    "duration": 8,
    "start_time": "2022-01-04T10:14:41.685Z"
   },
   {
    "duration": 10,
    "start_time": "2022-01-04T10:14:41.695Z"
   },
   {
    "duration": 55,
    "start_time": "2022-01-04T10:14:41.708Z"
   },
   {
    "duration": 7,
    "start_time": "2022-01-04T10:14:41.766Z"
   },
   {
    "duration": 5,
    "start_time": "2022-01-04T10:14:41.775Z"
   },
   {
    "duration": 15,
    "start_time": "2022-01-04T10:14:41.783Z"
   },
   {
    "duration": 6,
    "start_time": "2022-01-04T10:14:41.800Z"
   },
   {
    "duration": 68,
    "start_time": "2022-01-04T10:14:41.809Z"
   },
   {
    "duration": 50,
    "start_time": "2022-01-04T10:14:41.880Z"
   },
   {
    "duration": 11,
    "start_time": "2022-01-04T10:15:45.263Z"
   },
   {
    "duration": 47,
    "start_time": "2022-01-04T10:15:50.715Z"
   },
   {
    "duration": 6585,
    "start_time": "2022-01-04T10:16:20.004Z"
   },
   {
    "duration": 47,
    "start_time": "2022-01-04T10:16:26.592Z"
   },
   {
    "duration": 842,
    "start_time": "2022-01-04T10:17:12.959Z"
   },
   {
    "duration": 14,
    "start_time": "2022-01-04T10:17:13.804Z"
   },
   {
    "duration": 20,
    "start_time": "2022-01-04T10:17:13.821Z"
   },
   {
    "duration": 32,
    "start_time": "2022-01-04T10:17:13.844Z"
   },
   {
    "duration": 10,
    "start_time": "2022-01-04T10:17:13.879Z"
   },
   {
    "duration": 8,
    "start_time": "2022-01-04T10:17:13.892Z"
   },
   {
    "duration": 10,
    "start_time": "2022-01-04T10:17:13.902Z"
   },
   {
    "duration": 5204,
    "start_time": "2022-01-04T10:17:13.964Z"
   },
   {
    "duration": 6,
    "start_time": "2022-01-04T10:17:19.171Z"
   },
   {
    "duration": 10,
    "start_time": "2022-01-04T10:17:19.179Z"
   },
   {
    "duration": 23,
    "start_time": "2022-01-04T10:17:19.191Z"
   },
   {
    "duration": 371,
    "start_time": "2022-01-04T10:17:19.216Z"
   },
   {
    "duration": -65002,
    "start_time": "2022-01-04T10:18:24.592Z"
   },
   {
    "duration": -65013,
    "start_time": "2022-01-04T10:18:24.605Z"
   },
   {
    "duration": 11,
    "start_time": "2022-01-04T10:18:01.360Z"
   },
   {
    "duration": 10,
    "start_time": "2022-01-04T10:18:43.284Z"
   },
   {
    "duration": 8,
    "start_time": "2022-01-04T10:19:14.374Z"
   },
   {
    "duration": 828,
    "start_time": "2022-01-04T10:19:24.765Z"
   },
   {
    "duration": 16,
    "start_time": "2022-01-04T10:19:25.595Z"
   },
   {
    "duration": 21,
    "start_time": "2022-01-04T10:19:25.614Z"
   },
   {
    "duration": 37,
    "start_time": "2022-01-04T10:19:25.638Z"
   },
   {
    "duration": 12,
    "start_time": "2022-01-04T10:19:25.678Z"
   },
   {
    "duration": 8,
    "start_time": "2022-01-04T10:19:25.692Z"
   },
   {
    "duration": 10,
    "start_time": "2022-01-04T10:19:25.702Z"
   },
   {
    "duration": 54,
    "start_time": "2022-01-04T10:19:25.716Z"
   },
   {
    "duration": 8,
    "start_time": "2022-01-04T10:19:25.773Z"
   },
   {
    "duration": 5,
    "start_time": "2022-01-04T10:19:25.783Z"
   },
   {
    "duration": 16,
    "start_time": "2022-01-04T10:19:25.791Z"
   },
   {
    "duration": 5,
    "start_time": "2022-01-04T10:19:25.809Z"
   },
   {
    "duration": 70,
    "start_time": "2022-01-04T10:19:25.816Z"
   },
   {
    "duration": 52,
    "start_time": "2022-01-04T10:19:25.888Z"
   },
   {
    "duration": 29,
    "start_time": "2022-01-04T10:27:23.270Z"
   },
   {
    "duration": 23,
    "start_time": "2022-01-04T10:27:38.354Z"
   },
   {
    "duration": 8,
    "start_time": "2022-01-04T10:31:11.664Z"
   },
   {
    "duration": 14,
    "start_time": "2022-01-04T10:31:36.303Z"
   },
   {
    "duration": 12,
    "start_time": "2022-01-04T10:38:25.999Z"
   },
   {
    "duration": 23,
    "start_time": "2022-01-04T10:40:04.939Z"
   },
   {
    "duration": 15,
    "start_time": "2022-01-04T10:40:12.325Z"
   },
   {
    "duration": 16,
    "start_time": "2022-01-04T10:48:44.148Z"
   },
   {
    "duration": 778,
    "start_time": "2022-01-04T10:49:41.600Z"
   },
   {
    "duration": 16,
    "start_time": "2022-01-04T10:49:42.381Z"
   },
   {
    "duration": 21,
    "start_time": "2022-01-04T10:49:42.400Z"
   },
   {
    "duration": 49,
    "start_time": "2022-01-04T10:49:42.424Z"
   },
   {
    "duration": 10,
    "start_time": "2022-01-04T10:49:42.476Z"
   },
   {
    "duration": 14,
    "start_time": "2022-01-04T10:49:42.489Z"
   },
   {
    "duration": 29,
    "start_time": "2022-01-04T10:49:42.506Z"
   },
   {
    "duration": 17,
    "start_time": "2022-01-04T10:49:42.538Z"
   },
   {
    "duration": 23,
    "start_time": "2022-01-04T10:49:42.563Z"
   },
   {
    "duration": 9,
    "start_time": "2022-01-04T10:49:42.588Z"
   },
   {
    "duration": 23,
    "start_time": "2022-01-04T10:49:42.599Z"
   },
   {
    "duration": 5,
    "start_time": "2022-01-04T10:49:42.624Z"
   },
   {
    "duration": 39,
    "start_time": "2022-01-04T10:49:42.631Z"
   },
   {
    "duration": 31,
    "start_time": "2022-01-04T10:49:42.672Z"
   },
   {
    "duration": 24,
    "start_time": "2022-01-04T10:49:42.705Z"
   },
   {
    "duration": 31,
    "start_time": "2022-01-04T10:49:42.732Z"
   },
   {
    "duration": 627,
    "start_time": "2022-01-04T14:32:09.005Z"
   },
   {
    "duration": 11,
    "start_time": "2022-01-04T14:32:09.633Z"
   },
   {
    "duration": 13,
    "start_time": "2022-01-04T14:32:09.646Z"
   },
   {
    "duration": 13,
    "start_time": "2022-01-04T14:32:09.661Z"
   },
   {
    "duration": 7,
    "start_time": "2022-01-04T14:32:09.676Z"
   },
   {
    "duration": 5,
    "start_time": "2022-01-04T14:32:09.684Z"
   },
   {
    "duration": 7,
    "start_time": "2022-01-04T14:32:09.691Z"
   },
   {
    "duration": 5,
    "start_time": "2022-01-04T14:32:09.700Z"
   },
   {
    "duration": 5,
    "start_time": "2022-01-04T14:32:09.707Z"
   },
   {
    "duration": 3,
    "start_time": "2022-01-04T14:32:09.714Z"
   },
   {
    "duration": 47,
    "start_time": "2022-01-04T14:32:09.719Z"
   },
   {
    "duration": 3,
    "start_time": "2022-01-04T14:32:09.768Z"
   },
   {
    "duration": 20,
    "start_time": "2022-01-04T14:32:09.772Z"
   },
   {
    "duration": 16,
    "start_time": "2022-01-04T14:32:09.794Z"
   },
   {
    "duration": 16,
    "start_time": "2022-01-04T14:32:09.812Z"
   },
   {
    "duration": 36,
    "start_time": "2022-01-04T14:32:09.829Z"
   },
   {
    "duration": 23,
    "start_time": "2022-01-04T14:44:18.563Z"
   },
   {
    "duration": 5,
    "start_time": "2022-01-04T15:33:36.192Z"
   },
   {
    "duration": 3,
    "start_time": "2022-01-04T15:33:45.905Z"
   },
   {
    "duration": 4,
    "start_time": "2022-01-04T15:34:01.371Z"
   },
   {
    "duration": 4,
    "start_time": "2022-01-04T15:34:18.086Z"
   },
   {
    "duration": 3,
    "start_time": "2022-01-04T15:34:34.166Z"
   },
   {
    "duration": 4,
    "start_time": "2022-01-04T15:34:46.695Z"
   },
   {
    "duration": 4,
    "start_time": "2022-01-04T15:34:52.116Z"
   },
   {
    "duration": 3,
    "start_time": "2022-01-04T15:35:09.956Z"
   },
   {
    "duration": 4,
    "start_time": "2022-01-04T15:35:25.158Z"
   },
   {
    "duration": 3,
    "start_time": "2022-01-04T15:35:34.162Z"
   },
   {
    "duration": 4,
    "start_time": "2022-01-04T15:35:44.706Z"
   },
   {
    "duration": 3,
    "start_time": "2022-01-04T15:36:17.543Z"
   },
   {
    "duration": 4,
    "start_time": "2022-01-04T15:36:34.969Z"
   },
   {
    "duration": 3,
    "start_time": "2022-01-04T15:36:57.220Z"
   },
   {
    "duration": 4,
    "start_time": "2022-01-04T15:37:27.043Z"
   },
   {
    "duration": 4,
    "start_time": "2022-01-04T15:37:43.997Z"
   },
   {
    "duration": 7,
    "start_time": "2022-01-04T15:38:58.968Z"
   },
   {
    "duration": 6,
    "start_time": "2022-01-04T15:39:14.274Z"
   },
   {
    "duration": 364,
    "start_time": "2022-01-04T15:40:15.181Z"
   },
   {
    "duration": 5,
    "start_time": "2022-01-04T15:40:21.430Z"
   },
   {
    "duration": 720,
    "start_time": "2022-01-04T15:41:37.552Z"
   },
   {
    "duration": 11,
    "start_time": "2022-01-04T15:41:38.275Z"
   },
   {
    "duration": 36,
    "start_time": "2022-01-04T15:41:38.288Z"
   },
   {
    "duration": 40,
    "start_time": "2022-01-04T15:41:38.327Z"
   },
   {
    "duration": 9,
    "start_time": "2022-01-04T15:41:38.370Z"
   },
   {
    "duration": 6,
    "start_time": "2022-01-04T15:41:38.381Z"
   },
   {
    "duration": 16,
    "start_time": "2022-01-04T15:41:38.389Z"
   },
   {
    "duration": 14,
    "start_time": "2022-01-04T15:41:38.407Z"
   },
   {
    "duration": 16,
    "start_time": "2022-01-04T15:41:38.424Z"
   },
   {
    "duration": 15,
    "start_time": "2022-01-04T15:41:38.442Z"
   },
   {
    "duration": 26,
    "start_time": "2022-01-04T15:41:38.459Z"
   },
   {
    "duration": 15,
    "start_time": "2022-01-04T15:41:38.487Z"
   },
   {
    "duration": 21,
    "start_time": "2022-01-04T15:41:38.504Z"
   },
   {
    "duration": 28,
    "start_time": "2022-01-04T15:41:38.527Z"
   },
   {
    "duration": 16,
    "start_time": "2022-01-04T15:41:38.557Z"
   },
   {
    "duration": 10,
    "start_time": "2022-01-04T15:41:38.575Z"
   },
   {
    "duration": 33,
    "start_time": "2022-01-04T15:41:38.587Z"
   },
   {
    "duration": 17,
    "start_time": "2022-01-04T15:41:38.621Z"
   },
   {
    "duration": 6,
    "start_time": "2022-01-04T15:43:41.262Z"
   },
   {
    "duration": 5,
    "start_time": "2022-01-04T15:44:03.075Z"
   },
   {
    "duration": 648,
    "start_time": "2022-01-04T15:49:58.063Z"
   },
   {
    "duration": 11,
    "start_time": "2022-01-04T15:49:58.713Z"
   },
   {
    "duration": 19,
    "start_time": "2022-01-04T15:49:58.727Z"
   },
   {
    "duration": 19,
    "start_time": "2022-01-04T15:49:58.748Z"
   },
   {
    "duration": 8,
    "start_time": "2022-01-04T15:49:58.769Z"
   },
   {
    "duration": 8,
    "start_time": "2022-01-04T15:49:58.779Z"
   },
   {
    "duration": 19,
    "start_time": "2022-01-04T15:49:58.789Z"
   },
   {
    "duration": 11,
    "start_time": "2022-01-04T15:49:58.811Z"
   },
   {
    "duration": 12,
    "start_time": "2022-01-04T15:49:58.824Z"
   },
   {
    "duration": 7,
    "start_time": "2022-01-04T15:49:58.838Z"
   },
   {
    "duration": 12,
    "start_time": "2022-01-04T15:49:58.847Z"
   },
   {
    "duration": 13,
    "start_time": "2022-01-04T15:49:58.860Z"
   },
   {
    "duration": 4,
    "start_time": "2022-01-04T15:49:58.875Z"
   },
   {
    "duration": 18,
    "start_time": "2022-01-04T15:49:58.880Z"
   },
   {
    "duration": 27,
    "start_time": "2022-01-04T15:49:58.900Z"
   },
   {
    "duration": 15,
    "start_time": "2022-01-04T15:49:58.929Z"
   },
   {
    "duration": 10,
    "start_time": "2022-01-04T15:49:58.960Z"
   },
   {
    "duration": 27,
    "start_time": "2022-01-04T15:49:58.972Z"
   },
   {
    "duration": 6,
    "start_time": "2022-01-04T15:49:59.001Z"
   },
   {
    "duration": 6,
    "start_time": "2022-01-04T17:02:20.850Z"
   },
   {
    "duration": 3,
    "start_time": "2022-01-04T17:08:24.848Z"
   },
   {
    "duration": 550,
    "start_time": "2022-01-04T17:09:43.769Z"
   },
   {
    "duration": 7,
    "start_time": "2022-01-04T17:09:57.313Z"
   },
   {
    "duration": 3,
    "start_time": "2022-01-04T17:09:58.622Z"
   },
   {
    "duration": 660,
    "start_time": "2022-01-04T17:10:09.382Z"
   },
   {
    "duration": 13,
    "start_time": "2022-01-04T17:10:10.044Z"
   },
   {
    "duration": 16,
    "start_time": "2022-01-04T17:10:10.060Z"
   },
   {
    "duration": 16,
    "start_time": "2022-01-04T17:10:10.078Z"
   },
   {
    "duration": 8,
    "start_time": "2022-01-04T17:10:10.096Z"
   },
   {
    "duration": 7,
    "start_time": "2022-01-04T17:10:10.106Z"
   },
   {
    "duration": 9,
    "start_time": "2022-01-04T17:10:10.115Z"
   },
   {
    "duration": 41,
    "start_time": "2022-01-04T17:10:10.127Z"
   },
   {
    "duration": 7,
    "start_time": "2022-01-04T17:10:10.171Z"
   },
   {
    "duration": 5,
    "start_time": "2022-01-04T17:10:10.180Z"
   },
   {
    "duration": 3,
    "start_time": "2022-01-04T17:10:10.187Z"
   },
   {
    "duration": 12,
    "start_time": "2022-01-04T17:10:10.192Z"
   },
   {
    "duration": 4,
    "start_time": "2022-01-04T17:10:10.206Z"
   },
   {
    "duration": 61,
    "start_time": "2022-01-04T17:10:10.211Z"
   },
   {
    "duration": 22,
    "start_time": "2022-01-04T17:10:10.274Z"
   },
   {
    "duration": 18,
    "start_time": "2022-01-04T17:10:10.297Z"
   },
   {
    "duration": 12,
    "start_time": "2022-01-04T17:10:10.317Z"
   },
   {
    "duration": 32,
    "start_time": "2022-01-04T17:10:10.331Z"
   },
   {
    "duration": 5,
    "start_time": "2022-01-04T17:10:10.365Z"
   },
   {
    "duration": 4,
    "start_time": "2022-01-04T17:10:10.372Z"
   },
   {
    "duration": 3843,
    "start_time": "2022-01-04T17:10:10.378Z"
   },
   {
    "duration": 3,
    "start_time": "2022-01-04T17:13:02.574Z"
   },
   {
    "duration": 3,
    "start_time": "2022-01-04T17:13:04.145Z"
   },
   {
    "duration": 5,
    "start_time": "2022-01-04T17:13:07.081Z"
   },
   {
    "duration": 4414,
    "start_time": "2022-01-04T17:13:09.667Z"
   },
   {
    "duration": 14,
    "start_time": "2022-01-04T17:13:26.029Z"
   },
   {
    "duration": 4,
    "start_time": "2022-01-04T17:14:33.058Z"
   },
   {
    "duration": 3817,
    "start_time": "2022-01-04T17:14:35.215Z"
   },
   {
    "duration": 13,
    "start_time": "2022-01-04T17:14:39.034Z"
   },
   {
    "duration": 653,
    "start_time": "2022-01-04T17:26:17.663Z"
   },
   {
    "duration": 11,
    "start_time": "2022-01-04T17:26:18.318Z"
   },
   {
    "duration": 13,
    "start_time": "2022-01-04T17:26:18.334Z"
   },
   {
    "duration": 23,
    "start_time": "2022-01-04T17:26:18.349Z"
   },
   {
    "duration": 9,
    "start_time": "2022-01-04T17:26:18.374Z"
   },
   {
    "duration": 6,
    "start_time": "2022-01-04T17:26:18.385Z"
   },
   {
    "duration": 5,
    "start_time": "2022-01-04T17:26:18.395Z"
   },
   {
    "duration": 10,
    "start_time": "2022-01-04T17:26:18.402Z"
   },
   {
    "duration": 49,
    "start_time": "2022-01-04T17:26:18.414Z"
   },
   {
    "duration": 5,
    "start_time": "2022-01-04T17:26:18.465Z"
   },
   {
    "duration": 4,
    "start_time": "2022-01-04T17:26:18.472Z"
   },
   {
    "duration": 11,
    "start_time": "2022-01-04T17:26:18.478Z"
   },
   {
    "duration": 4,
    "start_time": "2022-01-04T17:26:18.491Z"
   },
   {
    "duration": 21,
    "start_time": "2022-01-04T17:26:18.497Z"
   },
   {
    "duration": 50,
    "start_time": "2022-01-04T17:26:18.519Z"
   },
   {
    "duration": 17,
    "start_time": "2022-01-04T17:26:18.570Z"
   },
   {
    "duration": 12,
    "start_time": "2022-01-04T17:26:18.589Z"
   },
   {
    "duration": 4,
    "start_time": "2022-01-04T17:26:18.603Z"
   },
   {
    "duration": 6,
    "start_time": "2022-01-04T17:26:18.608Z"
   },
   {
    "duration": 4805,
    "start_time": "2022-01-04T17:26:18.616Z"
   },
   {
    "duration": 38,
    "start_time": "2022-01-04T17:31:00.797Z"
   },
   {
    "duration": 13,
    "start_time": "2022-01-04T17:31:03.414Z"
   },
   {
    "duration": 20,
    "start_time": "2022-01-04T17:31:21.542Z"
   },
   {
    "duration": 51,
    "start_time": "2022-01-04T17:31:25.953Z"
   },
   {
    "duration": 10,
    "start_time": "2022-01-04T17:31:26.006Z"
   },
   {
    "duration": 13,
    "start_time": "2022-01-04T17:31:26.018Z"
   },
   {
    "duration": 32,
    "start_time": "2022-01-04T17:31:26.033Z"
   },
   {
    "duration": 13,
    "start_time": "2022-01-04T17:31:26.067Z"
   },
   {
    "duration": 6,
    "start_time": "2022-01-04T17:31:26.082Z"
   },
   {
    "duration": 5,
    "start_time": "2022-01-04T17:31:26.090Z"
   },
   {
    "duration": 8,
    "start_time": "2022-01-04T17:31:26.097Z"
   },
   {
    "duration": 7,
    "start_time": "2022-01-04T17:31:26.108Z"
   },
   {
    "duration": 44,
    "start_time": "2022-01-04T17:31:26.116Z"
   },
   {
    "duration": 4,
    "start_time": "2022-01-04T17:31:26.162Z"
   },
   {
    "duration": 14,
    "start_time": "2022-01-04T17:31:26.168Z"
   },
   {
    "duration": 4,
    "start_time": "2022-01-04T17:31:26.184Z"
   },
   {
    "duration": 19,
    "start_time": "2022-01-04T17:31:26.189Z"
   },
   {
    "duration": 19,
    "start_time": "2022-01-04T17:31:26.209Z"
   },
   {
    "duration": 49,
    "start_time": "2022-01-04T17:31:26.230Z"
   },
   {
    "duration": 10,
    "start_time": "2022-01-04T17:31:26.281Z"
   },
   {
    "duration": 26,
    "start_time": "2022-01-04T17:31:26.293Z"
   },
   {
    "duration": 4,
    "start_time": "2022-01-04T17:31:26.321Z"
   },
   {
    "duration": 4248,
    "start_time": "2022-01-04T17:31:26.326Z"
   },
   {
    "duration": 53,
    "start_time": "2022-01-04T17:51:30.605Z"
   },
   {
    "duration": 11,
    "start_time": "2022-01-04T17:51:30.660Z"
   },
   {
    "duration": 12,
    "start_time": "2022-01-04T17:51:30.673Z"
   },
   {
    "duration": 19,
    "start_time": "2022-01-04T17:51:30.687Z"
   },
   {
    "duration": 14,
    "start_time": "2022-01-04T17:51:30.708Z"
   },
   {
    "duration": 13,
    "start_time": "2022-01-04T17:51:30.723Z"
   },
   {
    "duration": 24,
    "start_time": "2022-01-04T17:51:30.737Z"
   },
   {
    "duration": 8,
    "start_time": "2022-01-04T17:51:30.764Z"
   },
   {
    "duration": 22,
    "start_time": "2022-01-04T17:51:30.774Z"
   },
   {
    "duration": 8,
    "start_time": "2022-01-04T17:51:30.798Z"
   },
   {
    "duration": 16,
    "start_time": "2022-01-04T17:51:30.808Z"
   },
   {
    "duration": 28,
    "start_time": "2022-01-04T17:51:30.826Z"
   },
   {
    "duration": 13,
    "start_time": "2022-01-04T17:51:30.856Z"
   },
   {
    "duration": 51,
    "start_time": "2022-01-04T17:51:30.871Z"
   },
   {
    "duration": 32,
    "start_time": "2022-01-04T17:51:30.925Z"
   },
   {
    "duration": 24,
    "start_time": "2022-01-04T17:51:30.959Z"
   },
   {
    "duration": 20,
    "start_time": "2022-01-04T17:51:30.985Z"
   },
   {
    "duration": 34,
    "start_time": "2022-01-04T17:51:31.006Z"
   },
   {
    "duration": 4,
    "start_time": "2022-01-04T17:51:31.042Z"
   },
   {
    "duration": 4187,
    "start_time": "2022-01-04T17:51:31.047Z"
   },
   {
    "duration": 99,
    "start_time": "2022-01-04T19:37:02.711Z"
   },
   {
    "duration": 412,
    "start_time": "2022-01-04T19:37:08.541Z"
   },
   {
    "duration": 818,
    "start_time": "2022-01-04T19:37:15.899Z"
   },
   {
    "duration": 15,
    "start_time": "2022-01-04T19:37:16.719Z"
   },
   {
    "duration": 21,
    "start_time": "2022-01-04T19:37:16.737Z"
   },
   {
    "duration": 22,
    "start_time": "2022-01-04T19:37:16.761Z"
   },
   {
    "duration": 45,
    "start_time": "2022-01-04T19:37:16.785Z"
   },
   {
    "duration": 9,
    "start_time": "2022-01-04T19:37:16.832Z"
   },
   {
    "duration": 10,
    "start_time": "2022-01-04T19:37:16.843Z"
   },
   {
    "duration": 10,
    "start_time": "2022-01-04T19:37:16.855Z"
   },
   {
    "duration": 8,
    "start_time": "2022-01-04T19:37:16.869Z"
   },
   {
    "duration": 47,
    "start_time": "2022-01-04T19:37:16.879Z"
   },
   {
    "duration": 10,
    "start_time": "2022-01-04T19:37:16.928Z"
   },
   {
    "duration": 16,
    "start_time": "2022-01-04T19:37:16.940Z"
   },
   {
    "duration": 5,
    "start_time": "2022-01-04T19:37:16.958Z"
   },
   {
    "duration": 25,
    "start_time": "2022-01-04T19:37:16.965Z"
   },
   {
    "duration": 53,
    "start_time": "2022-01-04T19:37:16.992Z"
   },
   {
    "duration": 24,
    "start_time": "2022-01-04T19:37:17.048Z"
   },
   {
    "duration": 13,
    "start_time": "2022-01-04T19:37:17.075Z"
   },
   {
    "duration": 33,
    "start_time": "2022-01-04T19:37:17.091Z"
   },
   {
    "duration": 7,
    "start_time": "2022-01-04T19:37:17.126Z"
   },
   {
    "duration": 6051,
    "start_time": "2022-01-04T19:37:17.135Z"
   },
   {
    "duration": 41,
    "start_time": "2022-01-04T19:37:23.189Z"
   },
   {
    "duration": 9,
    "start_time": "2022-01-04T19:38:17.700Z"
   },
   {
    "duration": 10,
    "start_time": "2022-01-04T19:38:57.559Z"
   },
   {
    "duration": 12,
    "start_time": "2022-01-04T19:39:36.745Z"
   },
   {
    "duration": 9,
    "start_time": "2022-01-04T19:39:51.186Z"
   },
   {
    "duration": 10,
    "start_time": "2022-01-04T19:40:28.866Z"
   },
   {
    "duration": 13,
    "start_time": "2022-01-05T06:45:33.435Z"
   },
   {
    "duration": 22,
    "start_time": "2022-01-05T06:45:45.542Z"
   },
   {
    "duration": 10,
    "start_time": "2022-01-05T06:46:15.654Z"
   },
   {
    "duration": 13,
    "start_time": "2022-01-05T06:46:27.518Z"
   },
   {
    "duration": 10,
    "start_time": "2022-01-05T06:46:30.113Z"
   },
   {
    "duration": 13,
    "start_time": "2022-01-05T06:46:44.883Z"
   },
   {
    "duration": 9,
    "start_time": "2022-01-05T06:46:46.939Z"
   },
   {
    "duration": 21,
    "start_time": "2022-01-05T06:47:18.788Z"
   },
   {
    "duration": 12,
    "start_time": "2022-01-05T06:50:38.982Z"
   },
   {
    "duration": 23,
    "start_time": "2022-01-05T06:50:46.958Z"
   },
   {
    "duration": -65862,
    "start_time": "2022-01-05T07:00:04.560Z"
   },
   {
    "duration": 9335,
    "start_time": "2022-01-05T06:59:12.636Z"
   },
   {
    "duration": -65880,
    "start_time": "2022-01-05T07:00:37.958Z"
   },
   {
    "duration": -65886,
    "start_time": "2022-01-05T07:00:48.897Z"
   },
   {
    "duration": 809,
    "start_time": "2022-01-05T06:59:47.896Z"
   },
   {
    "duration": 14,
    "start_time": "2022-01-05T06:59:48.707Z"
   },
   {
    "duration": 40,
    "start_time": "2022-01-05T06:59:48.724Z"
   },
   {
    "duration": 21,
    "start_time": "2022-01-05T06:59:48.766Z"
   },
   {
    "duration": 11,
    "start_time": "2022-01-05T06:59:48.790Z"
   },
   {
    "duration": 8,
    "start_time": "2022-01-05T06:59:48.803Z"
   },
   {
    "duration": 5,
    "start_time": "2022-01-05T06:59:48.813Z"
   },
   {
    "duration": 10,
    "start_time": "2022-01-05T06:59:48.862Z"
   },
   {
    "duration": 9,
    "start_time": "2022-01-05T06:59:48.875Z"
   },
   {
    "duration": 6,
    "start_time": "2022-01-05T06:59:48.886Z"
   },
   {
    "duration": 4,
    "start_time": "2022-01-05T06:59:48.895Z"
   },
   {
    "duration": 16,
    "start_time": "2022-01-05T06:59:48.902Z"
   },
   {
    "duration": 5,
    "start_time": "2022-01-05T06:59:48.960Z"
   },
   {
    "duration": 25,
    "start_time": "2022-01-05T06:59:48.967Z"
   },
   {
    "duration": 28,
    "start_time": "2022-01-05T06:59:48.995Z"
   },
   {
    "duration": 55,
    "start_time": "2022-01-05T06:59:49.025Z"
   },
   {
    "duration": 14,
    "start_time": "2022-01-05T06:59:49.082Z"
   },
   {
    "duration": 6,
    "start_time": "2022-01-05T06:59:49.098Z"
   },
   {
    "duration": 5,
    "start_time": "2022-01-05T06:59:49.106Z"
   },
   {
    "duration": 6301,
    "start_time": "2022-01-05T06:59:49.113Z"
   },
   {
    "duration": 9,
    "start_time": "2022-01-05T06:59:55.416Z"
   },
   {
    "duration": 33,
    "start_time": "2022-01-05T06:59:55.427Z"
   },
   {
    "duration": 27,
    "start_time": "2022-01-05T06:59:55.464Z"
   },
   {
    "duration": 9,
    "start_time": "2022-01-05T06:59:55.494Z"
   },
   {
    "duration": 10,
    "start_time": "2022-01-05T06:59:55.505Z"
   },
   {
    "duration": 12,
    "start_time": "2022-01-05T06:59:55.517Z"
   },
   {
    "duration": 9,
    "start_time": "2022-01-05T06:59:55.559Z"
   },
   {
    "duration": 22,
    "start_time": "2022-01-05T06:59:55.571Z"
   },
   {
    "duration": 10,
    "start_time": "2022-01-05T06:59:55.595Z"
   },
   {
    "duration": 10083,
    "start_time": "2022-01-05T06:59:55.607Z"
   },
   {
    "duration": 855,
    "start_time": "2022-01-05T07:00:52.412Z"
   },
   {
    "duration": 18,
    "start_time": "2022-01-05T07:00:53.270Z"
   },
   {
    "duration": 21,
    "start_time": "2022-01-05T07:00:53.291Z"
   },
   {
    "duration": 53,
    "start_time": "2022-01-05T07:00:53.315Z"
   },
   {
    "duration": 12,
    "start_time": "2022-01-05T07:00:53.371Z"
   },
   {
    "duration": 10,
    "start_time": "2022-01-05T07:00:53.386Z"
   },
   {
    "duration": 7,
    "start_time": "2022-01-05T07:00:53.399Z"
   },
   {
    "duration": 57,
    "start_time": "2022-01-05T07:00:53.411Z"
   },
   {
    "duration": 10,
    "start_time": "2022-01-05T07:00:53.472Z"
   },
   {
    "duration": 7,
    "start_time": "2022-01-05T07:00:53.485Z"
   },
   {
    "duration": 6,
    "start_time": "2022-01-05T07:00:53.494Z"
   },
   {
    "duration": 65,
    "start_time": "2022-01-05T07:00:53.502Z"
   },
   {
    "duration": 6,
    "start_time": "2022-01-05T07:00:53.570Z"
   },
   {
    "duration": 28,
    "start_time": "2022-01-05T07:00:53.578Z"
   },
   {
    "duration": 60,
    "start_time": "2022-01-05T07:00:53.609Z"
   },
   {
    "duration": 29,
    "start_time": "2022-01-05T07:00:53.672Z"
   },
   {
    "duration": 17,
    "start_time": "2022-01-05T07:00:53.703Z"
   },
   {
    "duration": 39,
    "start_time": "2022-01-05T07:00:53.722Z"
   },
   {
    "duration": 5,
    "start_time": "2022-01-05T07:00:53.763Z"
   },
   {
    "duration": 6120,
    "start_time": "2022-01-05T07:00:53.771Z"
   },
   {
    "duration": 9,
    "start_time": "2022-01-05T07:00:59.894Z"
   },
   {
    "duration": 11,
    "start_time": "2022-01-05T07:00:59.906Z"
   },
   {
    "duration": 46,
    "start_time": "2022-01-05T07:00:59.922Z"
   },
   {
    "duration": 10,
    "start_time": "2022-01-05T07:00:59.971Z"
   },
   {
    "duration": 10,
    "start_time": "2022-01-05T07:00:59.983Z"
   },
   {
    "duration": 13,
    "start_time": "2022-01-05T07:00:59.995Z"
   },
   {
    "duration": 51,
    "start_time": "2022-01-05T07:01:00.010Z"
   },
   {
    "duration": 23,
    "start_time": "2022-01-05T07:01:00.063Z"
   },
   {
    "duration": 9448,
    "start_time": "2022-01-05T07:01:00.088Z"
   },
   {
    "duration": -65925,
    "start_time": "2022-01-05T07:02:15.465Z"
   },
   {
    "duration": 10,
    "start_time": "2022-01-05T07:01:26.544Z"
   },
   {
    "duration": 10,
    "start_time": "2022-01-05T07:01:30.603Z"
   },
   {
    "duration": 5158,
    "start_time": "2022-01-05T07:16:26.901Z"
   },
   {
    "duration": 5233,
    "start_time": "2022-01-05T07:17:27.881Z"
   },
   {
    "duration": 804,
    "start_time": "2022-01-05T07:18:29.704Z"
   },
   {
    "duration": 14,
    "start_time": "2022-01-05T07:18:30.511Z"
   },
   {
    "duration": 40,
    "start_time": "2022-01-05T07:18:30.529Z"
   },
   {
    "duration": 20,
    "start_time": "2022-01-05T07:18:30.572Z"
   },
   {
    "duration": 10,
    "start_time": "2022-01-05T07:18:30.595Z"
   },
   {
    "duration": 16,
    "start_time": "2022-01-05T07:18:30.607Z"
   },
   {
    "duration": 36,
    "start_time": "2022-01-05T07:18:30.626Z"
   },
   {
    "duration": 13,
    "start_time": "2022-01-05T07:18:30.667Z"
   },
   {
    "duration": 16,
    "start_time": "2022-01-05T07:18:30.683Z"
   },
   {
    "duration": 7,
    "start_time": "2022-01-05T07:18:30.701Z"
   },
   {
    "duration": 6,
    "start_time": "2022-01-05T07:18:30.710Z"
   },
   {
    "duration": 48,
    "start_time": "2022-01-05T07:18:30.718Z"
   },
   {
    "duration": 4,
    "start_time": "2022-01-05T07:18:30.769Z"
   },
   {
    "duration": 33,
    "start_time": "2022-01-05T07:18:30.775Z"
   },
   {
    "duration": 26,
    "start_time": "2022-01-05T07:18:30.811Z"
   },
   {
    "duration": 29,
    "start_time": "2022-01-05T07:18:30.860Z"
   },
   {
    "duration": 15,
    "start_time": "2022-01-05T07:18:30.891Z"
   },
   {
    "duration": 10,
    "start_time": "2022-01-05T07:18:30.908Z"
   },
   {
    "duration": 7,
    "start_time": "2022-01-05T07:18:30.921Z"
   },
   {
    "duration": 5845,
    "start_time": "2022-01-05T07:18:30.961Z"
   },
   {
    "duration": 9,
    "start_time": "2022-01-05T07:18:36.809Z"
   },
   {
    "duration": 14,
    "start_time": "2022-01-05T07:18:36.821Z"
   },
   {
    "duration": 40,
    "start_time": "2022-01-05T07:18:36.839Z"
   },
   {
    "duration": 10,
    "start_time": "2022-01-05T07:18:36.882Z"
   },
   {
    "duration": 9,
    "start_time": "2022-01-05T07:18:36.895Z"
   },
   {
    "duration": 13,
    "start_time": "2022-01-05T07:18:36.907Z"
   },
   {
    "duration": 46,
    "start_time": "2022-01-05T07:18:36.922Z"
   },
   {
    "duration": 23,
    "start_time": "2022-01-05T07:18:36.971Z"
   },
   {
    "duration": 10,
    "start_time": "2022-01-05T07:18:36.997Z"
   },
   {
    "duration": 50,
    "start_time": "2022-01-05T07:18:37.009Z"
   },
   {
    "duration": 4921,
    "start_time": "2022-01-05T07:18:37.062Z"
   },
   {
    "duration": 3,
    "start_time": "2022-01-05T07:19:48.810Z"
   },
   {
    "duration": 21,
    "start_time": "2022-01-05T07:20:00.915Z"
   },
   {
    "duration": 13,
    "start_time": "2022-01-05T07:20:19.791Z"
   },
   {
    "duration": 394,
    "start_time": "2022-01-05T07:21:01.692Z"
   },
   {
    "duration": 382,
    "start_time": "2022-01-05T07:21:59.831Z"
   },
   {
    "duration": 430,
    "start_time": "2022-01-05T07:22:12.956Z"
   },
   {
    "duration": 7,
    "start_time": "2022-01-05T07:22:37.430Z"
   },
   {
    "duration": 517,
    "start_time": "2022-01-05T07:24:45.273Z"
   },
   {
    "duration": 6,
    "start_time": "2022-01-05T07:24:59.754Z"
   },
   {
    "duration": 6,
    "start_time": "2022-01-05T07:25:30.442Z"
   },
   {
    "duration": 10,
    "start_time": "2022-01-05T07:27:18.898Z"
   },
   {
    "duration": 10818,
    "start_time": "2022-01-05T07:35:47.373Z"
   },
   {
    "duration": 385,
    "start_time": "2022-01-05T07:36:05.311Z"
   },
   {
    "duration": 6,
    "start_time": "2022-01-05T07:37:38.184Z"
   },
   {
    "duration": 6,
    "start_time": "2022-01-05T07:37:41.924Z"
   },
   {
    "duration": 65,
    "start_time": "2022-01-05T07:37:47.469Z"
   },
   {
    "duration": 14,
    "start_time": "2022-01-05T07:37:47.536Z"
   },
   {
    "duration": 12,
    "start_time": "2022-01-05T07:37:47.563Z"
   },
   {
    "duration": 19,
    "start_time": "2022-01-05T07:37:47.577Z"
   },
   {
    "duration": 10,
    "start_time": "2022-01-05T07:37:47.599Z"
   },
   {
    "duration": 11,
    "start_time": "2022-01-05T07:37:47.660Z"
   },
   {
    "duration": 6,
    "start_time": "2022-01-05T07:37:47.673Z"
   },
   {
    "duration": 12,
    "start_time": "2022-01-05T07:37:47.682Z"
   },
   {
    "duration": 59,
    "start_time": "2022-01-05T07:37:47.700Z"
   },
   {
    "duration": 7,
    "start_time": "2022-01-05T07:37:47.763Z"
   },
   {
    "duration": 5,
    "start_time": "2022-01-05T07:37:47.773Z"
   },
   {
    "duration": 27,
    "start_time": "2022-01-05T07:37:47.781Z"
   },
   {
    "duration": 6,
    "start_time": "2022-01-05T07:37:47.811Z"
   },
   {
    "duration": 61,
    "start_time": "2022-01-05T07:37:47.820Z"
   },
   {
    "duration": 27,
    "start_time": "2022-01-05T07:37:47.884Z"
   },
   {
    "duration": 62,
    "start_time": "2022-01-05T07:37:47.914Z"
   },
   {
    "duration": 17,
    "start_time": "2022-01-05T07:37:47.979Z"
   },
   {
    "duration": 34,
    "start_time": "2022-01-05T07:37:47.999Z"
   },
   {
    "duration": 26,
    "start_time": "2022-01-05T07:37:48.035Z"
   },
   {
    "duration": 6107,
    "start_time": "2022-01-05T07:37:48.063Z"
   },
   {
    "duration": 12,
    "start_time": "2022-01-05T07:37:54.173Z"
   },
   {
    "duration": 12,
    "start_time": "2022-01-05T07:37:54.188Z"
   },
   {
    "duration": 12,
    "start_time": "2022-01-05T07:37:54.203Z"
   },
   {
    "duration": 54,
    "start_time": "2022-01-05T07:37:54.218Z"
   },
   {
    "duration": 12,
    "start_time": "2022-01-05T07:37:54.275Z"
   },
   {
    "duration": 15,
    "start_time": "2022-01-05T07:37:54.289Z"
   },
   {
    "duration": 18,
    "start_time": "2022-01-05T07:37:54.309Z"
   },
   {
    "duration": 40,
    "start_time": "2022-01-05T07:37:54.329Z"
   },
   {
    "duration": 24,
    "start_time": "2022-01-05T07:37:54.371Z"
   },
   {
    "duration": 13,
    "start_time": "2022-01-05T07:37:54.398Z"
   },
   {
    "duration": 47,
    "start_time": "2022-01-05T07:37:54.414Z"
   },
   {
    "duration": 12,
    "start_time": "2022-01-05T07:37:54.464Z"
   },
   {
    "duration": 26,
    "start_time": "2022-01-05T07:37:54.479Z"
   },
   {
    "duration": 5,
    "start_time": "2022-01-05T07:38:32.116Z"
   },
   {
    "duration": 15,
    "start_time": "2022-01-05T07:38:40.176Z"
   },
   {
    "duration": 17,
    "start_time": "2022-01-05T07:39:10.614Z"
   },
   {
    "duration": 421,
    "start_time": "2022-01-05T07:39:34.613Z"
   },
   {
    "duration": 5,
    "start_time": "2022-01-05T07:39:43.601Z"
   },
   {
    "duration": 16,
    "start_time": "2022-01-05T07:39:49.958Z"
   },
   {
    "duration": 16,
    "start_time": "2022-01-05T07:48:49.746Z"
   },
   {
    "duration": 14,
    "start_time": "2022-01-05T07:49:02.819Z"
   },
   {
    "duration": 9,
    "start_time": "2022-01-05T08:11:50.324Z"
   },
   {
    "duration": 11,
    "start_time": "2022-01-05T08:13:32.093Z"
   },
   {
    "duration": 394,
    "start_time": "2022-01-05T08:14:42.366Z"
   },
   {
    "duration": 480,
    "start_time": "2022-01-05T08:14:46.253Z"
   },
   {
    "duration": 603,
    "start_time": "2022-01-05T08:15:05.825Z"
   },
   {
    "duration": 10,
    "start_time": "2022-01-05T08:15:15.660Z"
   },
   {
    "duration": 16,
    "start_time": "2022-01-05T08:18:19.093Z"
   },
   {
    "duration": 11,
    "start_time": "2022-01-05T08:19:30.209Z"
   },
   {
    "duration": 10,
    "start_time": "2022-01-05T08:24:14.564Z"
   },
   {
    "duration": 10,
    "start_time": "2022-01-05T08:24:58.832Z"
   },
   {
    "duration": 4,
    "start_time": "2022-01-05T09:15:59.971Z"
   },
   {
    "duration": 11,
    "start_time": "2022-01-05T09:16:29.573Z"
   },
   {
    "duration": 66,
    "start_time": "2022-01-05T09:23:40.889Z"
   },
   {
    "duration": 15,
    "start_time": "2022-01-05T09:23:40.958Z"
   },
   {
    "duration": 14,
    "start_time": "2022-01-05T09:23:40.976Z"
   },
   {
    "duration": 26,
    "start_time": "2022-01-05T09:23:40.994Z"
   },
   {
    "duration": 48,
    "start_time": "2022-01-05T09:23:41.023Z"
   },
   {
    "duration": 9,
    "start_time": "2022-01-05T09:23:41.074Z"
   },
   {
    "duration": 7,
    "start_time": "2022-01-05T09:23:41.086Z"
   },
   {
    "duration": 14,
    "start_time": "2022-01-05T09:23:41.096Z"
   },
   {
    "duration": 11,
    "start_time": "2022-01-05T09:23:41.160Z"
   },
   {
    "duration": 7,
    "start_time": "2022-01-05T09:23:41.176Z"
   },
   {
    "duration": 6,
    "start_time": "2022-01-05T09:23:41.186Z"
   },
   {
    "duration": 24,
    "start_time": "2022-01-05T09:23:41.195Z"
   },
   {
    "duration": 39,
    "start_time": "2022-01-05T09:23:41.222Z"
   },
   {
    "duration": 35,
    "start_time": "2022-01-05T09:23:41.265Z"
   },
   {
    "duration": 24,
    "start_time": "2022-01-05T09:23:41.303Z"
   },
   {
    "duration": 51,
    "start_time": "2022-01-05T09:23:41.329Z"
   },
   {
    "duration": 14,
    "start_time": "2022-01-05T09:23:41.383Z"
   },
   {
    "duration": 60,
    "start_time": "2022-01-05T09:23:41.399Z"
   },
   {
    "duration": 7,
    "start_time": "2022-01-05T09:23:41.461Z"
   },
   {
    "duration": 6303,
    "start_time": "2022-01-05T09:23:41.471Z"
   },
   {
    "duration": 5,
    "start_time": "2022-01-05T09:23:47.776Z"
   },
   {
    "duration": 14,
    "start_time": "2022-01-05T09:23:47.784Z"
   },
   {
    "duration": 3,
    "start_time": "2022-01-05T09:23:47.801Z"
   },
   {
    "duration": 16,
    "start_time": "2022-01-05T09:23:47.807Z"
   },
   {
    "duration": 46,
    "start_time": "2022-01-05T09:23:47.825Z"
   },
   {
    "duration": 10,
    "start_time": "2022-01-05T09:23:47.874Z"
   },
   {
    "duration": 10,
    "start_time": "2022-01-05T09:23:47.888Z"
   },
   {
    "duration": 10,
    "start_time": "2022-01-05T09:23:47.900Z"
   },
   {
    "duration": 73,
    "start_time": "2022-01-05T09:45:24.504Z"
   },
   {
    "duration": 16,
    "start_time": "2022-01-05T09:45:24.580Z"
   },
   {
    "duration": 13,
    "start_time": "2022-01-05T09:45:24.599Z"
   },
   {
    "duration": 53,
    "start_time": "2022-01-05T09:45:24.614Z"
   },
   {
    "duration": 12,
    "start_time": "2022-01-05T09:45:24.670Z"
   },
   {
    "duration": 8,
    "start_time": "2022-01-05T09:45:24.685Z"
   },
   {
    "duration": 5,
    "start_time": "2022-01-05T09:45:24.695Z"
   },
   {
    "duration": 56,
    "start_time": "2022-01-05T09:45:24.703Z"
   },
   {
    "duration": 9,
    "start_time": "2022-01-05T09:45:24.764Z"
   },
   {
    "duration": 6,
    "start_time": "2022-01-05T09:45:24.776Z"
   },
   {
    "duration": 6,
    "start_time": "2022-01-05T09:45:24.784Z"
   },
   {
    "duration": 15,
    "start_time": "2022-01-05T09:45:24.792Z"
   },
   {
    "duration": 54,
    "start_time": "2022-01-05T09:45:24.809Z"
   },
   {
    "duration": 27,
    "start_time": "2022-01-05T09:45:24.865Z"
   },
   {
    "duration": 25,
    "start_time": "2022-01-05T09:45:24.894Z"
   },
   {
    "duration": 27,
    "start_time": "2022-01-05T09:45:24.960Z"
   },
   {
    "duration": 15,
    "start_time": "2022-01-05T09:45:24.990Z"
   },
   {
    "duration": 65,
    "start_time": "2022-01-05T09:45:25.007Z"
   },
   {
    "duration": 8,
    "start_time": "2022-01-05T09:45:25.076Z"
   },
   {
    "duration": 7151,
    "start_time": "2022-01-05T09:45:25.088Z"
   },
   {
    "duration": 16,
    "start_time": "2022-01-05T09:45:32.243Z"
   },
   {
    "duration": 16,
    "start_time": "2022-01-05T09:45:32.262Z"
   },
   {
    "duration": 6,
    "start_time": "2022-01-05T09:45:32.281Z"
   },
   {
    "duration": 13,
    "start_time": "2022-01-05T09:45:32.290Z"
   },
   {
    "duration": 55,
    "start_time": "2022-01-05T09:45:32.305Z"
   },
   {
    "duration": 13,
    "start_time": "2022-01-05T09:45:32.363Z"
   },
   {
    "duration": 11,
    "start_time": "2022-01-05T09:45:32.381Z"
   },
   {
    "duration": 12,
    "start_time": "2022-01-05T09:45:32.394Z"
   },
   {
    "duration": 10,
    "start_time": "2022-01-05T09:48:31.081Z"
   },
   {
    "duration": 13,
    "start_time": "2022-01-05T09:49:53.420Z"
   },
   {
    "duration": 6,
    "start_time": "2022-01-05T09:51:01.248Z"
   },
   {
    "duration": 5,
    "start_time": "2022-01-05T09:51:19.364Z"
   },
   {
    "duration": 11,
    "start_time": "2022-01-05T09:51:37.252Z"
   },
   {
    "duration": 4074,
    "start_time": "2022-01-05T10:38:59.190Z"
   },
   {
    "duration": 4,
    "start_time": "2022-01-05T10:39:44.113Z"
   },
   {
    "duration": 5,
    "start_time": "2022-01-05T10:40:30.696Z"
   },
   {
    "duration": 7,
    "start_time": "2022-01-05T10:40:34.530Z"
   },
   {
    "duration": 6,
    "start_time": "2022-01-05T10:40:42.752Z"
   },
   {
    "duration": 6,
    "start_time": "2022-01-05T10:40:50.109Z"
   },
   {
    "duration": 404,
    "start_time": "2022-01-05T10:43:03.569Z"
   },
   {
    "duration": 10,
    "start_time": "2022-01-05T10:43:21.169Z"
   },
   {
    "duration": 39,
    "start_time": "2022-01-05T10:43:42.448Z"
   },
   {
    "duration": 206,
    "start_time": "2022-01-05T10:43:50.784Z"
   },
   {
    "duration": 12,
    "start_time": "2022-01-05T10:44:03.341Z"
   },
   {
    "duration": 125,
    "start_time": "2022-01-05T10:45:14.538Z"
   },
   {
    "duration": 22,
    "start_time": "2022-01-05T10:45:24.725Z"
   },
   {
    "duration": 240,
    "start_time": "2022-01-05T10:45:47.679Z"
   },
   {
    "duration": 13,
    "start_time": "2022-01-05T10:46:01.154Z"
   },
   {
    "duration": 3,
    "start_time": "2022-01-05T10:47:56.180Z"
   },
   {
    "duration": 913,
    "start_time": "2022-01-05T10:48:05.124Z"
   },
   {
    "duration": 16,
    "start_time": "2022-01-05T10:48:06.040Z"
   },
   {
    "duration": 21,
    "start_time": "2022-01-05T10:48:06.059Z"
   },
   {
    "duration": 21,
    "start_time": "2022-01-05T10:48:06.083Z"
   },
   {
    "duration": 11,
    "start_time": "2022-01-05T10:48:06.107Z"
   },
   {
    "duration": 40,
    "start_time": "2022-01-05T10:48:06.121Z"
   },
   {
    "duration": 7,
    "start_time": "2022-01-05T10:48:06.163Z"
   },
   {
    "duration": 11,
    "start_time": "2022-01-05T10:48:06.172Z"
   },
   {
    "duration": 8,
    "start_time": "2022-01-05T10:48:06.186Z"
   },
   {
    "duration": 7,
    "start_time": "2022-01-05T10:48:06.198Z"
   },
   {
    "duration": 53,
    "start_time": "2022-01-05T10:48:06.207Z"
   },
   {
    "duration": 16,
    "start_time": "2022-01-05T10:48:06.262Z"
   },
   {
    "duration": 4,
    "start_time": "2022-01-05T10:48:06.281Z"
   },
   {
    "duration": 25,
    "start_time": "2022-01-05T10:48:06.288Z"
   },
   {
    "duration": 60,
    "start_time": "2022-01-05T10:48:06.315Z"
   },
   {
    "duration": 28,
    "start_time": "2022-01-05T10:48:06.377Z"
   },
   {
    "duration": 15,
    "start_time": "2022-01-05T10:48:06.407Z"
   },
   {
    "duration": 35,
    "start_time": "2022-01-05T10:48:06.424Z"
   },
   {
    "duration": 6,
    "start_time": "2022-01-05T10:48:06.461Z"
   },
   {
    "duration": 6101,
    "start_time": "2022-01-05T10:48:06.469Z"
   },
   {
    "duration": 5,
    "start_time": "2022-01-05T10:48:12.573Z"
   },
   {
    "duration": 17,
    "start_time": "2022-01-05T10:48:12.581Z"
   },
   {
    "duration": 4,
    "start_time": "2022-01-05T10:48:12.600Z"
   },
   {
    "duration": 13,
    "start_time": "2022-01-05T10:48:12.606Z"
   },
   {
    "duration": 726,
    "start_time": "2022-01-05T10:48:12.621Z"
   },
   {
    "duration": 26,
    "start_time": "2022-01-05T10:48:13.349Z"
   },
   {
    "duration": 233,
    "start_time": "2022-01-05T10:48:13.379Z"
   },
   {
    "duration": 14,
    "start_time": "2022-01-05T10:48:13.615Z"
   },
   {
    "duration": 31,
    "start_time": "2022-01-05T10:48:13.632Z"
   },
   {
    "duration": 10,
    "start_time": "2022-01-05T10:48:13.665Z"
   },
   {
    "duration": 726,
    "start_time": "2022-01-05T10:56:16.533Z"
   },
   {
    "duration": 261,
    "start_time": "2022-01-05T10:56:25.978Z"
   },
   {
    "duration": 241,
    "start_time": "2022-01-05T11:03:31.624Z"
   },
   {
    "duration": 22,
    "start_time": "2022-01-05T11:04:37.059Z"
   },
   {
    "duration": 213,
    "start_time": "2022-01-05T11:05:11.398Z"
   },
   {
    "duration": 28,
    "start_time": "2022-01-05T11:05:53.103Z"
   },
   {
    "duration": 26,
    "start_time": "2022-01-05T11:05:57.025Z"
   },
   {
    "duration": 28,
    "start_time": "2022-01-05T11:07:11.502Z"
   },
   {
    "duration": 305,
    "start_time": "2022-01-05T11:07:29.958Z"
   },
   {
    "duration": 7,
    "start_time": "2022-01-05T11:08:32.911Z"
   },
   {
    "duration": 225,
    "start_time": "2022-01-05T11:09:03.652Z"
   },
   {
    "duration": 7,
    "start_time": "2022-01-05T11:09:43.454Z"
   },
   {
    "duration": 260,
    "start_time": "2022-01-05T11:10:16.590Z"
   },
   {
    "duration": 365,
    "start_time": "2022-01-05T11:11:30.902Z"
   },
   {
    "duration": 223,
    "start_time": "2022-01-05T11:11:54.831Z"
   },
   {
    "duration": 224,
    "start_time": "2022-01-05T11:14:38.079Z"
   },
   {
    "duration": 264,
    "start_time": "2022-01-05T11:16:28.239Z"
   },
   {
    "duration": 7,
    "start_time": "2022-01-05T11:17:26.530Z"
   },
   {
    "duration": 245,
    "start_time": "2022-01-05T11:17:41.120Z"
   },
   {
    "duration": 245,
    "start_time": "2022-01-05T11:17:54.461Z"
   },
   {
    "duration": 7,
    "start_time": "2022-01-05T11:19:17.975Z"
   },
   {
    "duration": 352,
    "start_time": "2022-01-05T11:19:56.912Z"
   },
   {
    "duration": 236,
    "start_time": "2022-01-05T11:20:47.016Z"
   },
   {
    "duration": 857,
    "start_time": "2022-01-05T12:47:12.325Z"
   },
   {
    "duration": 16,
    "start_time": "2022-01-05T12:47:13.184Z"
   },
   {
    "duration": 20,
    "start_time": "2022-01-05T12:47:13.203Z"
   },
   {
    "duration": 45,
    "start_time": "2022-01-05T12:47:13.226Z"
   },
   {
    "duration": 11,
    "start_time": "2022-01-05T12:47:13.274Z"
   },
   {
    "duration": 10,
    "start_time": "2022-01-05T12:47:13.287Z"
   },
   {
    "duration": 8,
    "start_time": "2022-01-05T12:47:13.299Z"
   },
   {
    "duration": 58,
    "start_time": "2022-01-05T12:47:13.314Z"
   },
   {
    "duration": 10,
    "start_time": "2022-01-05T12:47:13.377Z"
   },
   {
    "duration": 7,
    "start_time": "2022-01-05T12:47:13.389Z"
   },
   {
    "duration": 6,
    "start_time": "2022-01-05T12:47:13.399Z"
   },
   {
    "duration": 65,
    "start_time": "2022-01-05T12:47:13.407Z"
   },
   {
    "duration": 4,
    "start_time": "2022-01-05T12:47:13.474Z"
   },
   {
    "duration": 27,
    "start_time": "2022-01-05T12:47:13.481Z"
   },
   {
    "duration": 53,
    "start_time": "2022-01-05T12:47:13.511Z"
   },
   {
    "duration": 30,
    "start_time": "2022-01-05T12:47:13.567Z"
   },
   {
    "duration": 16,
    "start_time": "2022-01-05T12:47:13.600Z"
   },
   {
    "duration": 10,
    "start_time": "2022-01-05T12:47:13.620Z"
   },
   {
    "duration": 34,
    "start_time": "2022-01-05T12:47:13.632Z"
   },
   {
    "duration": 5636,
    "start_time": "2022-01-05T12:47:13.669Z"
   },
   {
    "duration": 5,
    "start_time": "2022-01-05T12:47:19.307Z"
   },
   {
    "duration": 15,
    "start_time": "2022-01-05T12:47:19.314Z"
   },
   {
    "duration": 4,
    "start_time": "2022-01-05T12:47:19.333Z"
   },
   {
    "duration": 14,
    "start_time": "2022-01-05T12:47:19.364Z"
   },
   {
    "duration": 761,
    "start_time": "2022-01-05T12:47:19.380Z"
   },
   {
    "duration": 23,
    "start_time": "2022-01-05T12:47:20.143Z"
   },
   {
    "duration": 248,
    "start_time": "2022-01-05T12:47:20.169Z"
   },
   {
    "duration": 11,
    "start_time": "2022-01-05T12:47:20.419Z"
   },
   {
    "duration": 298,
    "start_time": "2022-01-05T12:47:20.432Z"
   },
   {
    "duration": 10,
    "start_time": "2022-01-05T12:47:20.732Z"
   },
   {
    "duration": 296,
    "start_time": "2022-01-05T12:47:20.745Z"
   },
   {
    "duration": 24,
    "start_time": "2022-01-05T12:47:21.044Z"
   },
   {
    "duration": 270,
    "start_time": "2022-01-05T12:47:21.071Z"
   },
   {
    "duration": 813,
    "start_time": "2022-01-05T12:57:10.566Z"
   },
   {
    "duration": 16,
    "start_time": "2022-01-05T12:57:11.382Z"
   },
   {
    "duration": 29,
    "start_time": "2022-01-05T12:57:11.401Z"
   },
   {
    "duration": 48,
    "start_time": "2022-01-05T12:57:11.433Z"
   },
   {
    "duration": 11,
    "start_time": "2022-01-05T12:57:11.484Z"
   },
   {
    "duration": 12,
    "start_time": "2022-01-05T12:57:11.497Z"
   },
   {
    "duration": 7,
    "start_time": "2022-01-05T12:57:11.511Z"
   },
   {
    "duration": 48,
    "start_time": "2022-01-05T12:57:11.522Z"
   },
   {
    "duration": 11,
    "start_time": "2022-01-05T12:57:11.573Z"
   },
   {
    "duration": 10,
    "start_time": "2022-01-05T12:57:11.587Z"
   },
   {
    "duration": 19,
    "start_time": "2022-01-05T12:57:11.600Z"
   },
   {
    "duration": 26,
    "start_time": "2022-01-05T12:57:11.621Z"
   },
   {
    "duration": 5,
    "start_time": "2022-01-05T12:57:11.662Z"
   },
   {
    "duration": 30,
    "start_time": "2022-01-05T12:57:11.670Z"
   },
   {
    "duration": 29,
    "start_time": "2022-01-05T12:57:11.702Z"
   },
   {
    "duration": 49,
    "start_time": "2022-01-05T12:57:11.733Z"
   },
   {
    "duration": 14,
    "start_time": "2022-01-05T12:57:11.784Z"
   },
   {
    "duration": 9,
    "start_time": "2022-01-05T12:57:11.801Z"
   },
   {
    "duration": 6,
    "start_time": "2022-01-05T12:57:11.812Z"
   },
   {
    "duration": 5776,
    "start_time": "2022-01-05T12:57:11.821Z"
   },
   {
    "duration": 7,
    "start_time": "2022-01-05T12:57:17.601Z"
   },
   {
    "duration": 15,
    "start_time": "2022-01-05T12:57:17.612Z"
   },
   {
    "duration": 4,
    "start_time": "2022-01-05T12:57:17.632Z"
   },
   {
    "duration": 37,
    "start_time": "2022-01-05T12:57:17.639Z"
   },
   {
    "duration": 785,
    "start_time": "2022-01-05T12:57:17.678Z"
   },
   {
    "duration": 24,
    "start_time": "2022-01-05T12:57:18.465Z"
   },
   {
    "duration": 380,
    "start_time": "2022-01-05T12:57:18.492Z"
   },
   {
    "duration": 14,
    "start_time": "2022-01-05T12:57:18.875Z"
   },
   {
    "duration": 451,
    "start_time": "2022-01-05T12:57:18.892Z"
   },
   {
    "duration": 23,
    "start_time": "2022-01-05T12:57:19.346Z"
   },
   {
    "duration": 407,
    "start_time": "2022-01-05T12:57:19.373Z"
   },
   {
    "duration": 14,
    "start_time": "2022-01-05T12:57:19.784Z"
   },
   {
    "duration": 403,
    "start_time": "2022-01-05T12:57:19.801Z"
   },
   {
    "duration": 5495,
    "start_time": "2022-01-05T12:58:42.549Z"
   },
   {
    "duration": 630,
    "start_time": "2022-01-06T07:03:19.454Z"
   },
   {
    "duration": 12,
    "start_time": "2022-01-06T07:03:20.086Z"
   },
   {
    "duration": 16,
    "start_time": "2022-01-06T07:03:20.101Z"
   },
   {
    "duration": 14,
    "start_time": "2022-01-06T07:03:20.119Z"
   },
   {
    "duration": 9,
    "start_time": "2022-01-06T07:03:20.135Z"
   },
   {
    "duration": 5,
    "start_time": "2022-01-06T07:03:20.146Z"
   },
   {
    "duration": 41,
    "start_time": "2022-01-06T07:03:20.152Z"
   },
   {
    "duration": 9,
    "start_time": "2022-01-06T07:03:20.197Z"
   },
   {
    "duration": 7,
    "start_time": "2022-01-06T07:03:20.209Z"
   },
   {
    "duration": 6,
    "start_time": "2022-01-06T07:03:20.218Z"
   },
   {
    "duration": 18,
    "start_time": "2022-01-06T07:03:20.225Z"
   },
   {
    "duration": 12,
    "start_time": "2022-01-06T07:03:20.245Z"
   },
   {
    "duration": 5,
    "start_time": "2022-01-06T07:03:20.259Z"
   },
   {
    "duration": 44,
    "start_time": "2022-01-06T07:03:20.265Z"
   },
   {
    "duration": 20,
    "start_time": "2022-01-06T07:03:20.310Z"
   },
   {
    "duration": 18,
    "start_time": "2022-01-06T07:03:20.332Z"
   },
   {
    "duration": 10,
    "start_time": "2022-01-06T07:03:20.352Z"
   },
   {
    "duration": 31,
    "start_time": "2022-01-06T07:03:20.363Z"
   },
   {
    "duration": 5,
    "start_time": "2022-01-06T07:03:20.396Z"
   },
   {
    "duration": 4878,
    "start_time": "2022-01-06T07:03:20.403Z"
   },
   {
    "duration": 9,
    "start_time": "2022-01-06T07:03:25.283Z"
   },
   {
    "duration": 14,
    "start_time": "2022-01-06T07:03:25.295Z"
   },
   {
    "duration": 4,
    "start_time": "2022-01-06T07:03:25.314Z"
   },
   {
    "duration": 13,
    "start_time": "2022-01-06T07:03:25.321Z"
   },
   {
    "duration": 632,
    "start_time": "2022-01-06T07:03:25.336Z"
   },
   {
    "duration": 22,
    "start_time": "2022-01-06T07:03:25.969Z"
   },
   {
    "duration": 182,
    "start_time": "2022-01-06T07:03:25.994Z"
   },
   {
    "duration": 17,
    "start_time": "2022-01-06T07:03:26.177Z"
   },
   {
    "duration": 227,
    "start_time": "2022-01-06T07:03:26.196Z"
   },
   {
    "duration": 7,
    "start_time": "2022-01-06T07:03:26.425Z"
   },
   {
    "duration": 174,
    "start_time": "2022-01-06T07:03:26.433Z"
   },
   {
    "duration": 10,
    "start_time": "2022-01-06T07:03:26.609Z"
   },
   {
    "duration": 185,
    "start_time": "2022-01-06T07:03:26.620Z"
   },
   {
    "duration": 279,
    "start_time": "2022-01-06T07:36:36.338Z"
   },
   {
    "duration": 627,
    "start_time": "2022-01-06T07:36:41.078Z"
   },
   {
    "duration": 12,
    "start_time": "2022-01-06T07:36:41.707Z"
   },
   {
    "duration": 47,
    "start_time": "2022-01-06T07:36:41.721Z"
   },
   {
    "duration": 10,
    "start_time": "2022-01-06T07:36:41.770Z"
   },
   {
    "duration": 15,
    "start_time": "2022-01-06T07:36:41.782Z"
   },
   {
    "duration": 12,
    "start_time": "2022-01-06T07:36:41.800Z"
   },
   {
    "duration": 6,
    "start_time": "2022-01-06T07:36:41.814Z"
   },
   {
    "duration": 7,
    "start_time": "2022-01-06T07:36:41.822Z"
   },
   {
    "duration": 8,
    "start_time": "2022-01-06T07:36:41.861Z"
   },
   {
    "duration": 7,
    "start_time": "2022-01-06T07:36:41.871Z"
   },
   {
    "duration": 5,
    "start_time": "2022-01-06T07:36:41.880Z"
   },
   {
    "duration": 12,
    "start_time": "2022-01-06T07:36:41.886Z"
   },
   {
    "duration": 12,
    "start_time": "2022-01-06T07:36:41.900Z"
   },
   {
    "duration": 3,
    "start_time": "2022-01-06T07:36:41.914Z"
   },
   {
    "duration": 50,
    "start_time": "2022-01-06T07:36:41.919Z"
   },
   {
    "duration": 19,
    "start_time": "2022-01-06T07:36:41.971Z"
   },
   {
    "duration": 21,
    "start_time": "2022-01-06T07:36:41.992Z"
   },
   {
    "duration": 13,
    "start_time": "2022-01-06T07:36:42.014Z"
   },
   {
    "duration": 31,
    "start_time": "2022-01-06T07:36:42.029Z"
   },
   {
    "duration": 5,
    "start_time": "2022-01-06T07:36:42.063Z"
   },
   {
    "duration": 4225,
    "start_time": "2022-01-06T07:36:42.069Z"
   },
   {
    "duration": 3,
    "start_time": "2022-01-06T07:36:46.296Z"
   },
   {
    "duration": 9,
    "start_time": "2022-01-06T07:36:46.301Z"
   },
   {
    "duration": 3,
    "start_time": "2022-01-06T07:36:46.311Z"
   },
   {
    "duration": 13,
    "start_time": "2022-01-06T07:36:46.315Z"
   },
   {
    "duration": 559,
    "start_time": "2022-01-06T07:36:46.330Z"
   },
   {
    "duration": 15,
    "start_time": "2022-01-06T07:36:46.892Z"
   },
   {
    "duration": 153,
    "start_time": "2022-01-06T07:36:46.909Z"
   },
   {
    "duration": 7,
    "start_time": "2022-01-06T07:36:47.064Z"
   },
   {
    "duration": 170,
    "start_time": "2022-01-06T07:36:47.073Z"
   },
   {
    "duration": 8,
    "start_time": "2022-01-06T07:36:47.244Z"
   },
   {
    "duration": 145,
    "start_time": "2022-01-06T07:36:47.261Z"
   },
   {
    "duration": 7,
    "start_time": "2022-01-06T07:36:47.408Z"
   },
   {
    "duration": 159,
    "start_time": "2022-01-06T07:36:47.417Z"
   },
   {
    "duration": 314,
    "start_time": "2022-01-06T07:57:29.149Z"
   },
   {
    "duration": 277,
    "start_time": "2022-01-06T07:57:41.861Z"
   },
   {
    "duration": 1156,
    "start_time": "2022-01-06T08:23:20.531Z"
   },
   {
    "duration": 1183,
    "start_time": "2022-01-06T08:23:48.444Z"
   },
   {
    "duration": 11,
    "start_time": "2022-01-06T08:23:58.109Z"
   },
   {
    "duration": 36,
    "start_time": "2022-01-06T08:25:02.051Z"
   },
   {
    "duration": 34,
    "start_time": "2022-01-06T08:25:34.794Z"
   },
   {
    "duration": 644,
    "start_time": "2022-01-06T08:32:55.139Z"
   },
   {
    "duration": 12,
    "start_time": "2022-01-06T08:32:55.785Z"
   },
   {
    "duration": 35,
    "start_time": "2022-01-06T08:32:55.799Z"
   },
   {
    "duration": 26,
    "start_time": "2022-01-06T08:32:55.835Z"
   },
   {
    "duration": 12,
    "start_time": "2022-01-06T08:32:55.863Z"
   },
   {
    "duration": 21,
    "start_time": "2022-01-06T08:32:55.877Z"
   },
   {
    "duration": 27,
    "start_time": "2022-01-06T08:32:55.899Z"
   },
   {
    "duration": 4,
    "start_time": "2022-01-06T08:32:55.930Z"
   },
   {
    "duration": 23,
    "start_time": "2022-01-06T08:32:55.936Z"
   },
   {
    "duration": 23,
    "start_time": "2022-01-06T08:32:55.961Z"
   },
   {
    "duration": 19,
    "start_time": "2022-01-06T08:32:55.986Z"
   },
   {
    "duration": 43,
    "start_time": "2022-01-06T08:32:56.007Z"
   },
   {
    "duration": 4,
    "start_time": "2022-01-06T08:32:56.052Z"
   },
   {
    "duration": 10,
    "start_time": "2022-01-06T08:32:56.057Z"
   },
   {
    "duration": 19,
    "start_time": "2022-01-06T08:32:56.069Z"
   },
   {
    "duration": 10,
    "start_time": "2022-01-06T08:32:56.089Z"
   },
   {
    "duration": 28,
    "start_time": "2022-01-06T08:32:56.101Z"
   },
   {
    "duration": 39,
    "start_time": "2022-01-06T08:32:56.130Z"
   },
   {
    "duration": 20,
    "start_time": "2022-01-06T08:32:56.171Z"
   },
   {
    "duration": 18,
    "start_time": "2022-01-06T08:32:56.193Z"
   },
   {
    "duration": 11,
    "start_time": "2022-01-06T08:32:56.213Z"
   },
   {
    "duration": 9,
    "start_time": "2022-01-06T08:32:56.226Z"
   },
   {
    "duration": 4376,
    "start_time": "2022-01-06T08:32:56.239Z"
   },
   {
    "duration": 3,
    "start_time": "2022-01-06T08:33:00.618Z"
   },
   {
    "duration": 10,
    "start_time": "2022-01-06T08:33:00.622Z"
   },
   {
    "duration": 16,
    "start_time": "2022-01-06T08:33:00.633Z"
   },
   {
    "duration": 17,
    "start_time": "2022-01-06T08:33:00.651Z"
   },
   {
    "duration": 554,
    "start_time": "2022-01-06T08:33:00.670Z"
   },
   {
    "duration": 16,
    "start_time": "2022-01-06T08:33:01.226Z"
   },
   {
    "duration": 201,
    "start_time": "2022-01-06T08:33:01.245Z"
   },
   {
    "duration": 11,
    "start_time": "2022-01-06T08:33:01.449Z"
   },
   {
    "duration": 193,
    "start_time": "2022-01-06T08:33:01.462Z"
   },
   {
    "duration": 9,
    "start_time": "2022-01-06T08:33:01.660Z"
   },
   {
    "duration": 236,
    "start_time": "2022-01-06T08:33:01.671Z"
   },
   {
    "duration": 10,
    "start_time": "2022-01-06T08:33:01.909Z"
   },
   {
    "duration": 174,
    "start_time": "2022-01-06T08:33:01.921Z"
   },
   {
    "duration": 33,
    "start_time": "2022-01-06T08:59:00.888Z"
   },
   {
    "duration": 31,
    "start_time": "2022-01-06T09:01:25.388Z"
   },
   {
    "duration": 30,
    "start_time": "2022-01-06T09:01:38.947Z"
   },
   {
    "duration": 57,
    "start_time": "2022-01-06T09:02:28.652Z"
   },
   {
    "duration": 9,
    "start_time": "2022-01-06T09:02:28.711Z"
   },
   {
    "duration": 55,
    "start_time": "2022-01-06T09:02:28.722Z"
   },
   {
    "duration": 14,
    "start_time": "2022-01-06T09:02:28.779Z"
   },
   {
    "duration": 15,
    "start_time": "2022-01-06T09:02:28.794Z"
   },
   {
    "duration": 9,
    "start_time": "2022-01-06T09:02:28.811Z"
   },
   {
    "duration": 5,
    "start_time": "2022-01-06T09:02:28.821Z"
   },
   {
    "duration": 9,
    "start_time": "2022-01-06T09:02:28.862Z"
   },
   {
    "duration": 8,
    "start_time": "2022-01-06T09:02:28.873Z"
   },
   {
    "duration": 7,
    "start_time": "2022-01-06T09:02:28.883Z"
   },
   {
    "duration": 9,
    "start_time": "2022-01-06T09:02:28.892Z"
   },
   {
    "duration": 30,
    "start_time": "2022-01-06T09:02:28.902Z"
   },
   {
    "duration": 60,
    "start_time": "2022-01-06T09:02:28.934Z"
   },
   {
    "duration": 5,
    "start_time": "2022-01-06T09:02:28.996Z"
   },
   {
    "duration": 6,
    "start_time": "2022-01-06T09:02:29.003Z"
   },
   {
    "duration": 22,
    "start_time": "2022-01-06T09:02:29.010Z"
   },
   {
    "duration": 4,
    "start_time": "2022-01-06T09:02:29.034Z"
   },
   {
    "duration": 37,
    "start_time": "2022-01-06T09:02:29.040Z"
   },
   {
    "duration": 18,
    "start_time": "2022-01-06T09:02:29.079Z"
   },
   {
    "duration": 19,
    "start_time": "2022-01-06T09:02:29.099Z"
   },
   {
    "duration": 42,
    "start_time": "2022-01-06T09:02:29.119Z"
   },
   {
    "duration": 28,
    "start_time": "2022-01-06T09:02:29.163Z"
   },
   {
    "duration": 4,
    "start_time": "2022-01-06T09:02:29.194Z"
   },
   {
    "duration": 4152,
    "start_time": "2022-01-06T09:02:29.200Z"
   },
   {
    "duration": 3,
    "start_time": "2022-01-06T09:02:33.361Z"
   },
   {
    "duration": 19,
    "start_time": "2022-01-06T09:02:33.366Z"
   },
   {
    "duration": 13,
    "start_time": "2022-01-06T09:02:33.386Z"
   },
   {
    "duration": 31,
    "start_time": "2022-01-06T09:02:33.400Z"
   },
   {
    "duration": 11,
    "start_time": "2022-01-06T09:02:33.433Z"
   },
   {
    "duration": 35,
    "start_time": "2022-01-06T09:02:33.445Z"
   },
   {
    "duration": 135,
    "start_time": "2022-01-06T09:02:33.482Z"
   },
   {
    "duration": 7,
    "start_time": "2022-01-06T09:02:33.619Z"
   },
   {
    "duration": 181,
    "start_time": "2022-01-06T09:02:33.628Z"
   },
   {
    "duration": 7,
    "start_time": "2022-01-06T09:02:33.811Z"
   },
   {
    "duration": 159,
    "start_time": "2022-01-06T09:02:33.819Z"
   },
   {
    "duration": 7,
    "start_time": "2022-01-06T09:02:33.980Z"
   },
   {
    "duration": 226,
    "start_time": "2022-01-06T09:02:33.989Z"
   },
   {
    "duration": 4,
    "start_time": "2022-01-06T09:11:05.797Z"
   },
   {
    "duration": 9,
    "start_time": "2022-01-06T09:30:38.897Z"
   },
   {
    "duration": 338,
    "start_time": "2022-01-06T09:32:17.352Z"
   },
   {
    "duration": 6,
    "start_time": "2022-01-06T09:32:40.924Z"
   },
   {
    "duration": 669,
    "start_time": "2022-01-06T09:33:28.468Z"
   },
   {
    "duration": 10,
    "start_time": "2022-01-06T09:33:29.139Z"
   },
   {
    "duration": 49,
    "start_time": "2022-01-06T09:33:29.151Z"
   },
   {
    "duration": 11,
    "start_time": "2022-01-06T09:33:29.202Z"
   },
   {
    "duration": 37,
    "start_time": "2022-01-06T09:33:29.215Z"
   },
   {
    "duration": 31,
    "start_time": "2022-01-06T09:33:29.254Z"
   },
   {
    "duration": 14,
    "start_time": "2022-01-06T09:33:29.287Z"
   },
   {
    "duration": 30,
    "start_time": "2022-01-06T09:33:29.304Z"
   },
   {
    "duration": 28,
    "start_time": "2022-01-06T09:33:29.337Z"
   },
   {
    "duration": 20,
    "start_time": "2022-01-06T09:33:29.366Z"
   },
   {
    "duration": 23,
    "start_time": "2022-01-06T09:33:29.388Z"
   },
   {
    "duration": 15,
    "start_time": "2022-01-06T09:33:29.413Z"
   },
   {
    "duration": 28,
    "start_time": "2022-01-06T09:33:29.429Z"
   },
   {
    "duration": 32,
    "start_time": "2022-01-06T09:33:29.459Z"
   },
   {
    "duration": 14,
    "start_time": "2022-01-06T09:33:29.493Z"
   },
   {
    "duration": 29,
    "start_time": "2022-01-06T09:33:29.508Z"
   },
   {
    "duration": 15,
    "start_time": "2022-01-06T09:33:29.539Z"
   },
   {
    "duration": 9,
    "start_time": "2022-01-06T09:33:29.555Z"
   },
   {
    "duration": 22,
    "start_time": "2022-01-06T09:33:29.565Z"
   },
   {
    "duration": 19,
    "start_time": "2022-01-06T09:33:29.589Z"
   },
   {
    "duration": 24,
    "start_time": "2022-01-06T09:33:29.610Z"
   },
   {
    "duration": 25,
    "start_time": "2022-01-06T09:33:29.635Z"
   },
   {
    "duration": 13,
    "start_time": "2022-01-06T09:33:29.663Z"
   },
   {
    "duration": 4,
    "start_time": "2022-01-06T09:33:29.679Z"
   },
   {
    "duration": 4457,
    "start_time": "2022-01-06T09:33:29.684Z"
   },
   {
    "duration": 3,
    "start_time": "2022-01-06T09:33:34.143Z"
   },
   {
    "duration": 7,
    "start_time": "2022-01-06T09:33:34.160Z"
   },
   {
    "duration": 6,
    "start_time": "2022-01-06T09:33:34.169Z"
   },
   {
    "duration": 12,
    "start_time": "2022-01-06T09:33:34.176Z"
   },
   {
    "duration": 529,
    "start_time": "2022-01-06T09:33:34.190Z"
   },
   {
    "duration": 13,
    "start_time": "2022-01-06T09:33:34.721Z"
   },
   {
    "duration": 162,
    "start_time": "2022-01-06T09:33:34.736Z"
   },
   {
    "duration": 8,
    "start_time": "2022-01-06T09:33:34.899Z"
   },
   {
    "duration": 180,
    "start_time": "2022-01-06T09:33:34.909Z"
   },
   {
    "duration": 7,
    "start_time": "2022-01-06T09:33:35.090Z"
   },
   {
    "duration": 163,
    "start_time": "2022-01-06T09:33:35.099Z"
   },
   {
    "duration": 7,
    "start_time": "2022-01-06T09:33:35.264Z"
   },
   {
    "duration": 164,
    "start_time": "2022-01-06T09:33:35.273Z"
   },
   {
    "duration": 10,
    "start_time": "2022-01-06T09:44:16.140Z"
   },
   {
    "duration": 6,
    "start_time": "2022-01-06T09:44:35.820Z"
   },
   {
    "duration": 10,
    "start_time": "2022-01-06T09:46:53.880Z"
   },
   {
    "duration": 91,
    "start_time": "2022-01-06T09:47:48.010Z"
   },
   {
    "duration": 79,
    "start_time": "2022-01-06T09:47:53.629Z"
   },
   {
    "duration": 89,
    "start_time": "2022-01-06T09:49:05.172Z"
   },
   {
    "duration": 81,
    "start_time": "2022-01-06T09:49:46.577Z"
   },
   {
    "duration": 656,
    "start_time": "2022-01-06T09:51:40.557Z"
   },
   {
    "duration": 11,
    "start_time": "2022-01-06T09:51:41.215Z"
   },
   {
    "duration": 37,
    "start_time": "2022-01-06T09:51:41.228Z"
   },
   {
    "duration": 10,
    "start_time": "2022-01-06T09:51:41.268Z"
   },
   {
    "duration": 13,
    "start_time": "2022-01-06T09:51:41.279Z"
   },
   {
    "duration": 13,
    "start_time": "2022-01-06T09:51:41.294Z"
   },
   {
    "duration": 14,
    "start_time": "2022-01-06T09:51:41.309Z"
   },
   {
    "duration": 4,
    "start_time": "2022-01-06T09:51:41.326Z"
   },
   {
    "duration": 34,
    "start_time": "2022-01-06T09:51:41.332Z"
   },
   {
    "duration": 3,
    "start_time": "2022-01-06T09:51:41.368Z"
   },
   {
    "duration": 12,
    "start_time": "2022-01-06T09:51:41.373Z"
   },
   {
    "duration": 6,
    "start_time": "2022-01-06T09:51:41.387Z"
   },
   {
    "duration": 15,
    "start_time": "2022-01-06T09:51:41.395Z"
   },
   {
    "duration": 11,
    "start_time": "2022-01-06T09:51:41.412Z"
   },
   {
    "duration": 4,
    "start_time": "2022-01-06T09:51:41.425Z"
   },
   {
    "duration": 32,
    "start_time": "2022-01-06T09:51:41.430Z"
   },
   {
    "duration": 12,
    "start_time": "2022-01-06T09:51:41.464Z"
   },
   {
    "duration": 10,
    "start_time": "2022-01-06T09:51:41.478Z"
   },
   {
    "duration": 3,
    "start_time": "2022-01-06T09:51:41.489Z"
   },
   {
    "duration": 18,
    "start_time": "2022-01-06T09:51:41.494Z"
   },
   {
    "duration": 17,
    "start_time": "2022-01-06T09:51:41.514Z"
   },
   {
    "duration": 20,
    "start_time": "2022-01-06T09:51:41.560Z"
   },
   {
    "duration": 10,
    "start_time": "2022-01-06T09:51:41.583Z"
   },
   {
    "duration": 16,
    "start_time": "2022-01-06T09:51:41.595Z"
   },
   {
    "duration": 20,
    "start_time": "2022-01-06T09:51:41.612Z"
   },
   {
    "duration": 4357,
    "start_time": "2022-01-06T09:51:41.634Z"
   },
   {
    "duration": 3,
    "start_time": "2022-01-06T09:51:45.993Z"
   },
   {
    "duration": 13,
    "start_time": "2022-01-06T09:51:45.997Z"
   },
   {
    "duration": 3,
    "start_time": "2022-01-06T09:51:46.012Z"
   },
   {
    "duration": 11,
    "start_time": "2022-01-06T09:51:46.016Z"
   },
   {
    "duration": 579,
    "start_time": "2022-01-06T09:51:46.028Z"
   },
   {
    "duration": 15,
    "start_time": "2022-01-06T09:51:46.608Z"
   },
   {
    "duration": 157,
    "start_time": "2022-01-06T09:51:46.625Z"
   },
   {
    "duration": 7,
    "start_time": "2022-01-06T09:51:46.784Z"
   },
   {
    "duration": 171,
    "start_time": "2022-01-06T09:51:46.792Z"
   },
   {
    "duration": 7,
    "start_time": "2022-01-06T09:51:46.964Z"
   },
   {
    "duration": 159,
    "start_time": "2022-01-06T09:51:46.973Z"
   },
   {
    "duration": 7,
    "start_time": "2022-01-06T09:51:47.133Z"
   },
   {
    "duration": 147,
    "start_time": "2022-01-06T09:51:47.142Z"
   },
   {
    "duration": 4,
    "start_time": "2022-01-06T10:02:46.501Z"
   },
   {
    "duration": 4,
    "start_time": "2022-01-06T10:03:11.150Z"
   },
   {
    "duration": 16,
    "start_time": "2022-01-06T10:03:31.786Z"
   },
   {
    "duration": 362,
    "start_time": "2022-01-06T10:03:41.679Z"
   },
   {
    "duration": 29,
    "start_time": "2022-01-06T10:03:48.959Z"
   },
   {
    "duration": 17,
    "start_time": "2022-01-06T10:04:18.917Z"
   },
   {
    "duration": 3,
    "start_time": "2022-01-06T10:05:38.056Z"
   },
   {
    "duration": 3,
    "start_time": "2022-01-06T10:10:02.615Z"
   },
   {
    "duration": 6,
    "start_time": "2022-01-06T10:10:05.341Z"
   },
   {
    "duration": 7,
    "start_time": "2022-01-06T10:10:27.270Z"
   },
   {
    "duration": 8,
    "start_time": "2022-01-06T10:19:39.401Z"
   },
   {
    "duration": 118,
    "start_time": "2022-01-06T10:19:59.825Z"
   },
   {
    "duration": 852,
    "start_time": "2022-01-06T16:10:50.863Z"
   },
   {
    "duration": 14,
    "start_time": "2022-01-06T16:10:51.718Z"
   },
   {
    "duration": 66,
    "start_time": "2022-01-06T16:10:51.735Z"
   },
   {
    "duration": 12,
    "start_time": "2022-01-06T16:10:51.803Z"
   },
   {
    "duration": 19,
    "start_time": "2022-01-06T16:10:51.817Z"
   },
   {
    "duration": 29,
    "start_time": "2022-01-06T16:10:51.838Z"
   },
   {
    "duration": 7,
    "start_time": "2022-01-06T16:10:51.869Z"
   },
   {
    "duration": 5,
    "start_time": "2022-01-06T16:10:51.880Z"
   },
   {
    "duration": 10,
    "start_time": "2022-01-06T16:10:51.888Z"
   },
   {
    "duration": 4,
    "start_time": "2022-01-06T16:10:51.900Z"
   },
   {
    "duration": 65,
    "start_time": "2022-01-06T16:10:51.906Z"
   },
   {
    "duration": 8,
    "start_time": "2022-01-06T16:10:51.974Z"
   },
   {
    "duration": 9,
    "start_time": "2022-01-06T16:10:51.984Z"
   },
   {
    "duration": 10,
    "start_time": "2022-01-06T16:10:51.996Z"
   },
   {
    "duration": 5,
    "start_time": "2022-01-06T16:10:52.008Z"
   },
   {
    "duration": 43,
    "start_time": "2022-01-06T16:10:52.016Z"
   },
   {
    "duration": 16,
    "start_time": "2022-01-06T16:10:52.061Z"
   },
   {
    "duration": 17,
    "start_time": "2022-01-06T16:10:52.079Z"
   },
   {
    "duration": 7,
    "start_time": "2022-01-06T16:10:52.098Z"
   },
   {
    "duration": 53,
    "start_time": "2022-01-06T16:10:52.107Z"
   },
   {
    "duration": 5,
    "start_time": "2022-01-06T16:10:52.162Z"
   },
   {
    "duration": 26,
    "start_time": "2022-01-06T16:10:52.169Z"
   },
   {
    "duration": 25,
    "start_time": "2022-01-06T16:10:52.200Z"
   },
   {
    "duration": 41,
    "start_time": "2022-01-06T16:10:52.228Z"
   },
   {
    "duration": 10,
    "start_time": "2022-01-06T16:10:52.271Z"
   },
   {
    "duration": 4,
    "start_time": "2022-01-06T16:10:52.284Z"
   },
   {
    "duration": 6213,
    "start_time": "2022-01-06T16:10:52.291Z"
   },
   {
    "duration": 4,
    "start_time": "2022-01-06T16:10:58.506Z"
   },
   {
    "duration": 16,
    "start_time": "2022-01-06T16:10:58.512Z"
   },
   {
    "duration": 4,
    "start_time": "2022-01-06T16:10:58.531Z"
   },
   {
    "duration": 31,
    "start_time": "2022-01-06T16:10:58.537Z"
   },
   {
    "duration": 770,
    "start_time": "2022-01-06T16:10:58.570Z"
   },
   {
    "duration": 28,
    "start_time": "2022-01-06T16:10:59.342Z"
   },
   {
    "duration": 324,
    "start_time": "2022-01-06T16:10:59.372Z"
   },
   {
    "duration": 11,
    "start_time": "2022-01-06T16:10:59.698Z"
   },
   {
    "duration": 275,
    "start_time": "2022-01-06T16:10:59.712Z"
   },
   {
    "duration": 13,
    "start_time": "2022-01-06T16:10:59.991Z"
   },
   {
    "duration": 268,
    "start_time": "2022-01-06T16:11:00.007Z"
   },
   {
    "duration": 13,
    "start_time": "2022-01-06T16:11:00.278Z"
   },
   {
    "duration": 274,
    "start_time": "2022-01-06T16:11:00.294Z"
   },
   {
    "duration": 165,
    "start_time": "2022-01-06T16:20:56.453Z"
   },
   {
    "duration": 710,
    "start_time": "2022-01-06T16:21:26.797Z"
   },
   {
    "duration": 520,
    "start_time": "2022-01-06T16:22:23.408Z"
   },
   {
    "duration": 467,
    "start_time": "2022-01-06T16:23:08.765Z"
   },
   {
    "duration": 436,
    "start_time": "2022-01-06T16:23:34.777Z"
   },
   {
    "duration": 403,
    "start_time": "2022-01-06T16:23:58.632Z"
   },
   {
    "duration": 128,
    "start_time": "2022-01-06T16:25:24.986Z"
   },
   {
    "duration": 33,
    "start_time": "2022-01-06T16:25:31.861Z"
   },
   {
    "duration": 36,
    "start_time": "2022-01-06T16:25:40.967Z"
   },
   {
    "duration": 40,
    "start_time": "2022-01-06T16:26:09.367Z"
   },
   {
    "duration": 143,
    "start_time": "2022-01-06T16:29:21.773Z"
   },
   {
    "duration": 12,
    "start_time": "2022-01-06T16:29:36.272Z"
   },
   {
    "duration": 15,
    "start_time": "2022-01-06T16:30:14.205Z"
   },
   {
    "duration": 41,
    "start_time": "2022-01-06T16:30:34.988Z"
   },
   {
    "duration": 18,
    "start_time": "2022-01-06T16:31:30.053Z"
   },
   {
    "duration": 18,
    "start_time": "2022-01-06T16:31:52.101Z"
   },
   {
    "duration": 26,
    "start_time": "2022-01-06T16:32:11.581Z"
   },
   {
    "duration": 24,
    "start_time": "2022-01-06T16:32:22.452Z"
   },
   {
    "duration": 24,
    "start_time": "2022-01-06T16:32:39.160Z"
   },
   {
    "duration": 41,
    "start_time": "2022-01-06T16:34:04.893Z"
   },
   {
    "duration": 9,
    "start_time": "2022-01-06T16:35:03.537Z"
   },
   {
    "duration": 23,
    "start_time": "2022-01-06T16:35:21.013Z"
   },
   {
    "duration": 35,
    "start_time": "2022-01-06T16:36:14.477Z"
   },
   {
    "duration": 888,
    "start_time": "2022-01-06T16:36:24.126Z"
   },
   {
    "duration": 15,
    "start_time": "2022-01-06T16:36:25.017Z"
   },
   {
    "duration": 64,
    "start_time": "2022-01-06T16:36:25.035Z"
   },
   {
    "duration": 13,
    "start_time": "2022-01-06T16:36:25.102Z"
   },
   {
    "duration": 42,
    "start_time": "2022-01-06T16:36:25.117Z"
   },
   {
    "duration": 14,
    "start_time": "2022-01-06T16:36:25.163Z"
   },
   {
    "duration": 7,
    "start_time": "2022-01-06T16:36:25.179Z"
   },
   {
    "duration": 7,
    "start_time": "2022-01-06T16:36:25.189Z"
   },
   {
    "duration": 9,
    "start_time": "2022-01-06T16:36:25.200Z"
   },
   {
    "duration": 5,
    "start_time": "2022-01-06T16:36:25.260Z"
   },
   {
    "duration": 14,
    "start_time": "2022-01-06T16:36:25.267Z"
   },
   {
    "duration": 5,
    "start_time": "2022-01-06T16:36:25.283Z"
   },
   {
    "duration": 3,
    "start_time": "2022-01-06T16:36:25.291Z"
   },
   {
    "duration": 69,
    "start_time": "2022-01-06T16:36:25.297Z"
   },
   {
    "duration": 41,
    "start_time": "2022-01-06T16:36:25.368Z"
   },
   {
    "duration": 21,
    "start_time": "2022-01-06T16:36:25.411Z"
   },
   {
    "duration": 25,
    "start_time": "2022-01-06T16:36:25.435Z"
   },
   {
    "duration": 14,
    "start_time": "2022-01-06T16:36:25.463Z"
   },
   {
    "duration": 18,
    "start_time": "2022-01-06T16:36:25.479Z"
   },
   {
    "duration": 4,
    "start_time": "2022-01-06T16:36:25.500Z"
   },
   {
    "duration": 62,
    "start_time": "2022-01-06T16:36:25.507Z"
   },
   {
    "duration": 494,
    "start_time": "2022-01-06T16:36:25.572Z"
   },
   {
    "duration": -22,
    "start_time": "2022-01-06T16:36:26.091Z"
   },
   {
    "duration": -22,
    "start_time": "2022-01-06T16:36:26.092Z"
   },
   {
    "duration": -67,
    "start_time": "2022-01-06T16:36:26.139Z"
   },
   {
    "duration": -68,
    "start_time": "2022-01-06T16:36:26.141Z"
   },
   {
    "duration": -67,
    "start_time": "2022-01-06T16:36:26.142Z"
   },
   {
    "duration": -68,
    "start_time": "2022-01-06T16:36:26.144Z"
   },
   {
    "duration": -69,
    "start_time": "2022-01-06T16:36:26.146Z"
   },
   {
    "duration": -69,
    "start_time": "2022-01-06T16:36:26.147Z"
   },
   {
    "duration": -69,
    "start_time": "2022-01-06T16:36:26.149Z"
   },
   {
    "duration": -69,
    "start_time": "2022-01-06T16:36:26.150Z"
   },
   {
    "duration": -70,
    "start_time": "2022-01-06T16:36:26.152Z"
   },
   {
    "duration": -69,
    "start_time": "2022-01-06T16:36:26.153Z"
   },
   {
    "duration": -70,
    "start_time": "2022-01-06T16:36:26.155Z"
   },
   {
    "duration": -69,
    "start_time": "2022-01-06T16:36:26.156Z"
   },
   {
    "duration": -70,
    "start_time": "2022-01-06T16:36:26.158Z"
   },
   {
    "duration": -69,
    "start_time": "2022-01-06T16:36:26.159Z"
   },
   {
    "duration": -70,
    "start_time": "2022-01-06T16:36:26.161Z"
   },
   {
    "duration": -69,
    "start_time": "2022-01-06T16:36:26.162Z"
   },
   {
    "duration": -82,
    "start_time": "2022-01-06T16:36:26.176Z"
   },
   {
    "duration": 822,
    "start_time": "2022-01-06T16:46:12.659Z"
   },
   {
    "duration": 15,
    "start_time": "2022-01-06T16:46:13.484Z"
   },
   {
    "duration": 75,
    "start_time": "2022-01-06T16:46:13.502Z"
   },
   {
    "duration": 12,
    "start_time": "2022-01-06T16:46:13.580Z"
   },
   {
    "duration": 20,
    "start_time": "2022-01-06T16:46:13.594Z"
   },
   {
    "duration": 47,
    "start_time": "2022-01-06T16:46:13.616Z"
   },
   {
    "duration": 7,
    "start_time": "2022-01-06T16:46:13.665Z"
   },
   {
    "duration": 5,
    "start_time": "2022-01-06T16:46:13.675Z"
   },
   {
    "duration": 10,
    "start_time": "2022-01-06T16:46:13.684Z"
   },
   {
    "duration": 4,
    "start_time": "2022-01-06T16:46:13.697Z"
   },
   {
    "duration": 62,
    "start_time": "2022-01-06T16:46:13.703Z"
   },
   {
    "duration": 6,
    "start_time": "2022-01-06T16:46:13.768Z"
   },
   {
    "duration": 8,
    "start_time": "2022-01-06T16:46:13.777Z"
   },
   {
    "duration": 4,
    "start_time": "2022-01-06T16:46:13.787Z"
   },
   {
    "duration": 5,
    "start_time": "2022-01-06T16:46:13.794Z"
   },
   {
    "duration": 7,
    "start_time": "2022-01-06T16:46:13.802Z"
   },
   {
    "duration": 60,
    "start_time": "2022-01-06T16:46:13.812Z"
   },
   {
    "duration": 21,
    "start_time": "2022-01-06T16:46:13.875Z"
   },
   {
    "duration": 6,
    "start_time": "2022-01-06T16:46:13.899Z"
   },
   {
    "duration": 80,
    "start_time": "2022-01-06T16:46:13.907Z"
   },
   {
    "duration": 6,
    "start_time": "2022-01-06T16:46:13.990Z"
   },
   {
    "duration": 36,
    "start_time": "2022-01-06T16:46:13.998Z"
   },
   {
    "duration": 51,
    "start_time": "2022-01-06T16:46:14.037Z"
   },
   {
    "duration": 20,
    "start_time": "2022-01-06T16:46:14.091Z"
   },
   {
    "duration": 11,
    "start_time": "2022-01-06T16:46:14.113Z"
   },
   {
    "duration": 6,
    "start_time": "2022-01-06T16:46:14.127Z"
   },
   {
    "duration": 6325,
    "start_time": "2022-01-06T16:46:14.164Z"
   },
   {
    "duration": 5,
    "start_time": "2022-01-06T16:46:20.492Z"
   },
   {
    "duration": 14,
    "start_time": "2022-01-06T16:46:20.499Z"
   },
   {
    "duration": 4,
    "start_time": "2022-01-06T16:46:20.515Z"
   },
   {
    "duration": 40,
    "start_time": "2022-01-06T16:46:20.521Z"
   },
   {
    "duration": 805,
    "start_time": "2022-01-06T16:46:20.564Z"
   },
   {
    "duration": 18,
    "start_time": "2022-01-06T16:46:21.372Z"
   },
   {
    "duration": 223,
    "start_time": "2022-01-06T16:46:21.392Z"
   },
   {
    "duration": 10,
    "start_time": "2022-01-06T16:46:21.618Z"
   },
   {
    "duration": 279,
    "start_time": "2022-01-06T16:46:21.630Z"
   },
   {
    "duration": 10,
    "start_time": "2022-01-06T16:46:21.911Z"
   },
   {
    "duration": 267,
    "start_time": "2022-01-06T16:46:21.923Z"
   },
   {
    "duration": 11,
    "start_time": "2022-01-06T16:46:22.192Z"
   },
   {
    "duration": 258,
    "start_time": "2022-01-06T16:46:22.205Z"
   },
   {
    "duration": 79,
    "start_time": "2022-01-06T17:01:26.837Z"
   },
   {
    "duration": 586,
    "start_time": "2022-01-06T17:01:40.080Z"
   },
   {
    "duration": 376,
    "start_time": "2022-01-06T17:01:45.586Z"
   },
   {
    "duration": 523,
    "start_time": "2022-01-06T17:01:55.336Z"
   },
   {
    "duration": 508,
    "start_time": "2022-01-06T17:02:26.994Z"
   },
   {
    "duration": 567,
    "start_time": "2022-01-06T17:02:59.139Z"
   },
   {
    "duration": 398,
    "start_time": "2022-01-06T17:03:08.779Z"
   },
   {
    "duration": 388,
    "start_time": "2022-01-06T17:03:50.493Z"
   },
   {
    "duration": 1702,
    "start_time": "2022-01-06T17:04:17.442Z"
   },
   {
    "duration": 17,
    "start_time": "2022-01-06T17:04:19.147Z"
   },
   {
    "duration": 58,
    "start_time": "2022-01-06T17:04:19.168Z"
   },
   {
    "duration": 35,
    "start_time": "2022-01-06T17:04:19.230Z"
   },
   {
    "duration": 29,
    "start_time": "2022-01-06T17:04:19.268Z"
   },
   {
    "duration": 9,
    "start_time": "2022-01-06T17:04:19.300Z"
   },
   {
    "duration": 7,
    "start_time": "2022-01-06T17:04:19.312Z"
   },
   {
    "duration": 6,
    "start_time": "2022-01-06T17:04:19.358Z"
   },
   {
    "duration": 16,
    "start_time": "2022-01-06T17:04:19.367Z"
   },
   {
    "duration": 4,
    "start_time": "2022-01-06T17:04:19.385Z"
   },
   {
    "duration": 20,
    "start_time": "2022-01-06T17:04:19.391Z"
   },
   {
    "duration": 8,
    "start_time": "2022-01-06T17:04:19.414Z"
   },
   {
    "duration": 38,
    "start_time": "2022-01-06T17:04:19.425Z"
   },
   {
    "duration": 3,
    "start_time": "2022-01-06T17:04:19.466Z"
   },
   {
    "duration": 8,
    "start_time": "2022-01-06T17:04:19.471Z"
   },
   {
    "duration": 6081,
    "start_time": "2022-01-06T17:04:19.481Z"
   },
   {
    "duration": 9,
    "start_time": "2022-01-06T17:04:25.557Z"
   },
   {
    "duration": 5,
    "start_time": "2022-01-06T17:04:25.563Z"
   },
   {
    "duration": 6,
    "start_time": "2022-01-06T17:04:25.564Z"
   },
   {
    "duration": 6,
    "start_time": "2022-01-06T17:04:25.566Z"
   },
   {
    "duration": 6,
    "start_time": "2022-01-06T17:04:25.568Z"
   },
   {
    "duration": 6,
    "start_time": "2022-01-06T17:04:25.570Z"
   },
   {
    "duration": 7,
    "start_time": "2022-01-06T17:04:25.571Z"
   },
   {
    "duration": 8,
    "start_time": "2022-01-06T17:04:25.573Z"
   },
   {
    "duration": 8,
    "start_time": "2022-01-06T17:04:25.575Z"
   },
   {
    "duration": 4,
    "start_time": "2022-01-06T17:04:25.580Z"
   },
   {
    "duration": 5,
    "start_time": "2022-01-06T17:04:25.581Z"
   },
   {
    "duration": 5,
    "start_time": "2022-01-06T17:04:25.583Z"
   },
   {
    "duration": 5,
    "start_time": "2022-01-06T17:04:25.585Z"
   },
   {
    "duration": 5,
    "start_time": "2022-01-06T17:04:25.587Z"
   },
   {
    "duration": 6,
    "start_time": "2022-01-06T17:04:25.588Z"
   },
   {
    "duration": 6,
    "start_time": "2022-01-06T17:04:25.590Z"
   },
   {
    "duration": 7,
    "start_time": "2022-01-06T17:04:25.591Z"
   },
   {
    "duration": -32,
    "start_time": "2022-01-06T17:04:25.632Z"
   },
   {
    "duration": -33,
    "start_time": "2022-01-06T17:04:25.634Z"
   },
   {
    "duration": -36,
    "start_time": "2022-01-06T17:04:25.638Z"
   },
   {
    "duration": 19,
    "start_time": "2022-01-06T17:04:25.640Z"
   },
   {
    "duration": 20,
    "start_time": "2022-01-06T17:04:25.641Z"
   },
   {
    "duration": 17,
    "start_time": "2022-01-06T17:04:25.645Z"
   },
   {
    "duration": 17,
    "start_time": "2022-01-06T17:04:25.647Z"
   },
   {
    "duration": 4837,
    "start_time": "2022-01-06T17:05:26.542Z"
   },
   {
    "duration": 8,
    "start_time": "2022-01-06T17:05:31.374Z"
   },
   {
    "duration": 5129,
    "start_time": "2022-01-06T17:07:14.144Z"
   },
   {
    "duration": 5001,
    "start_time": "2022-01-06T17:08:58.123Z"
   },
   {
    "duration": 6907,
    "start_time": "2022-01-06T17:10:40.424Z"
   },
   {
    "duration": 388,
    "start_time": "2022-01-06T17:12:57.327Z"
   },
   {
    "duration": 66,
    "start_time": "2022-01-06T17:13:09.351Z"
   },
   {
    "duration": 16,
    "start_time": "2022-01-06T17:13:12.450Z"
   },
   {
    "duration": 4,
    "start_time": "2022-01-06T17:13:33.342Z"
   },
   {
    "duration": 367,
    "start_time": "2022-01-06T17:15:40.737Z"
   },
   {
    "duration": 15,
    "start_time": "2022-01-06T17:18:03.034Z"
   },
   {
    "duration": 502,
    "start_time": "2022-01-06T17:18:23.448Z"
   },
   {
    "duration": 870,
    "start_time": "2022-01-06T17:18:34.262Z"
   },
   {
    "duration": 14,
    "start_time": "2022-01-06T17:18:35.135Z"
   },
   {
    "duration": 68,
    "start_time": "2022-01-06T17:18:35.152Z"
   },
   {
    "duration": 13,
    "start_time": "2022-01-06T17:18:35.224Z"
   },
   {
    "duration": 39,
    "start_time": "2022-01-06T17:18:35.239Z"
   },
   {
    "duration": 10,
    "start_time": "2022-01-06T17:18:35.280Z"
   },
   {
    "duration": 7,
    "start_time": "2022-01-06T17:18:35.292Z"
   },
   {
    "duration": 8,
    "start_time": "2022-01-06T17:18:35.301Z"
   },
   {
    "duration": 10,
    "start_time": "2022-01-06T17:18:35.313Z"
   },
   {
    "duration": 5,
    "start_time": "2022-01-06T17:18:35.360Z"
   },
   {
    "duration": 26,
    "start_time": "2022-01-06T17:18:35.367Z"
   },
   {
    "duration": 7,
    "start_time": "2022-01-06T17:18:35.395Z"
   },
   {
    "duration": 15,
    "start_time": "2022-01-06T17:18:35.404Z"
   },
   {
    "duration": 496,
    "start_time": "2022-01-06T17:18:35.422Z"
   },
   {
    "duration": 40,
    "start_time": "2022-01-06T17:18:35.882Z"
   },
   {
    "duration": 34,
    "start_time": "2022-01-06T17:18:35.889Z"
   },
   {
    "duration": 33,
    "start_time": "2022-01-06T17:18:35.892Z"
   },
   {
    "duration": 32,
    "start_time": "2022-01-06T17:18:35.894Z"
   },
   {
    "duration": 31,
    "start_time": "2022-01-06T17:18:35.896Z"
   },
   {
    "duration": 30,
    "start_time": "2022-01-06T17:18:35.898Z"
   },
   {
    "duration": 30,
    "start_time": "2022-01-06T17:18:35.900Z"
   },
   {
    "duration": 30,
    "start_time": "2022-01-06T17:18:35.901Z"
   },
   {
    "duration": 25,
    "start_time": "2022-01-06T17:18:35.907Z"
   },
   {
    "duration": 25,
    "start_time": "2022-01-06T17:18:35.909Z"
   },
   {
    "duration": 24,
    "start_time": "2022-01-06T17:18:35.911Z"
   },
   {
    "duration": 23,
    "start_time": "2022-01-06T17:18:35.913Z"
   },
   {
    "duration": 22,
    "start_time": "2022-01-06T17:18:35.915Z"
   },
   {
    "duration": 22,
    "start_time": "2022-01-06T17:18:35.917Z"
   },
   {
    "duration": 21,
    "start_time": "2022-01-06T17:18:35.919Z"
   },
   {
    "duration": 16,
    "start_time": "2022-01-06T17:18:35.925Z"
   },
   {
    "duration": 14,
    "start_time": "2022-01-06T17:18:35.928Z"
   },
   {
    "duration": 14,
    "start_time": "2022-01-06T17:18:35.930Z"
   },
   {
    "duration": 14,
    "start_time": "2022-01-06T17:18:35.931Z"
   },
   {
    "duration": 9,
    "start_time": "2022-01-06T17:18:35.937Z"
   },
   {
    "duration": 9,
    "start_time": "2022-01-06T17:18:35.939Z"
   },
   {
    "duration": 8,
    "start_time": "2022-01-06T17:18:35.941Z"
   },
   {
    "duration": 7,
    "start_time": "2022-01-06T17:18:35.943Z"
   },
   {
    "duration": 7,
    "start_time": "2022-01-06T17:18:35.945Z"
   },
   {
    "duration": 7,
    "start_time": "2022-01-06T17:18:35.946Z"
   },
   {
    "duration": 6,
    "start_time": "2022-01-06T17:18:35.948Z"
   },
   {
    "duration": 5,
    "start_time": "2022-01-06T17:18:35.950Z"
   },
   {
    "duration": 376,
    "start_time": "2022-01-06T17:19:05.107Z"
   },
   {
    "duration": 400,
    "start_time": "2022-01-06T17:19:11.149Z"
   },
   {
    "duration": 875,
    "start_time": "2022-01-06T17:19:19.537Z"
   },
   {
    "duration": 15,
    "start_time": "2022-01-06T17:19:20.415Z"
   },
   {
    "duration": 70,
    "start_time": "2022-01-06T17:19:20.434Z"
   },
   {
    "duration": 13,
    "start_time": "2022-01-06T17:19:20.507Z"
   },
   {
    "duration": 44,
    "start_time": "2022-01-06T17:19:20.523Z"
   },
   {
    "duration": 10,
    "start_time": "2022-01-06T17:19:20.570Z"
   },
   {
    "duration": 14,
    "start_time": "2022-01-06T17:19:20.583Z"
   },
   {
    "duration": 13,
    "start_time": "2022-01-06T17:19:20.600Z"
   },
   {
    "duration": 42,
    "start_time": "2022-01-06T17:19:20.618Z"
   },
   {
    "duration": 5,
    "start_time": "2022-01-06T17:19:20.663Z"
   },
   {
    "duration": 33,
    "start_time": "2022-01-06T17:19:20.671Z"
   },
   {
    "duration": 6,
    "start_time": "2022-01-06T17:19:20.707Z"
   },
   {
    "duration": 39,
    "start_time": "2022-01-06T17:19:20.716Z"
   },
   {
    "duration": 598,
    "start_time": "2022-01-06T17:19:20.757Z"
   },
   {
    "duration": 30,
    "start_time": "2022-01-06T17:19:21.328Z"
   },
   {
    "duration": 26,
    "start_time": "2022-01-06T17:19:21.334Z"
   },
   {
    "duration": 26,
    "start_time": "2022-01-06T17:19:21.335Z"
   },
   {
    "duration": 26,
    "start_time": "2022-01-06T17:19:21.337Z"
   },
   {
    "duration": 25,
    "start_time": "2022-01-06T17:19:21.339Z"
   },
   {
    "duration": 24,
    "start_time": "2022-01-06T17:19:21.341Z"
   },
   {
    "duration": 25,
    "start_time": "2022-01-06T17:19:21.342Z"
   },
   {
    "duration": 24,
    "start_time": "2022-01-06T17:19:21.344Z"
   },
   {
    "duration": 23,
    "start_time": "2022-01-06T17:19:21.346Z"
   },
   {
    "duration": 23,
    "start_time": "2022-01-06T17:19:21.347Z"
   },
   {
    "duration": 22,
    "start_time": "2022-01-06T17:19:21.349Z"
   },
   {
    "duration": 22,
    "start_time": "2022-01-06T17:19:21.351Z"
   },
   {
    "duration": 21,
    "start_time": "2022-01-06T17:19:21.353Z"
   },
   {
    "duration": 21,
    "start_time": "2022-01-06T17:19:21.354Z"
   },
   {
    "duration": 21,
    "start_time": "2022-01-06T17:19:21.356Z"
   },
   {
    "duration": 20,
    "start_time": "2022-01-06T17:19:21.358Z"
   },
   {
    "duration": 20,
    "start_time": "2022-01-06T17:19:21.359Z"
   },
   {
    "duration": 20,
    "start_time": "2022-01-06T17:19:21.361Z"
   },
   {
    "duration": 19,
    "start_time": "2022-01-06T17:19:21.363Z"
   },
   {
    "duration": 19,
    "start_time": "2022-01-06T17:19:21.364Z"
   },
   {
    "duration": -25,
    "start_time": "2022-01-06T17:19:21.409Z"
   },
   {
    "duration": -25,
    "start_time": "2022-01-06T17:19:21.411Z"
   },
   {
    "duration": -26,
    "start_time": "2022-01-06T17:19:21.413Z"
   },
   {
    "duration": -26,
    "start_time": "2022-01-06T17:19:21.415Z"
   },
   {
    "duration": -28,
    "start_time": "2022-01-06T17:19:21.418Z"
   },
   {
    "duration": -31,
    "start_time": "2022-01-06T17:19:21.422Z"
   },
   {
    "duration": -32,
    "start_time": "2022-01-06T17:19:21.424Z"
   },
   {
    "duration": 911,
    "start_time": "2022-01-06T17:22:08.176Z"
   },
   {
    "duration": 18,
    "start_time": "2022-01-06T17:22:09.090Z"
   },
   {
    "duration": 81,
    "start_time": "2022-01-06T17:22:09.111Z"
   },
   {
    "duration": 12,
    "start_time": "2022-01-06T17:22:09.195Z"
   },
   {
    "duration": 25,
    "start_time": "2022-01-06T17:22:09.210Z"
   },
   {
    "duration": 38,
    "start_time": "2022-01-06T17:22:09.237Z"
   },
   {
    "duration": 10,
    "start_time": "2022-01-06T17:22:09.279Z"
   },
   {
    "duration": 5,
    "start_time": "2022-01-06T17:22:09.291Z"
   },
   {
    "duration": 10,
    "start_time": "2022-01-06T17:22:09.300Z"
   },
   {
    "duration": 4,
    "start_time": "2022-01-06T17:22:09.313Z"
   },
   {
    "duration": 17,
    "start_time": "2022-01-06T17:22:09.366Z"
   },
   {
    "duration": 6,
    "start_time": "2022-01-06T17:22:09.385Z"
   },
   {
    "duration": 4,
    "start_time": "2022-01-06T17:22:09.393Z"
   },
   {
    "duration": 18,
    "start_time": "2022-01-06T17:22:09.399Z"
   },
   {
    "duration": 3,
    "start_time": "2022-01-06T17:22:09.419Z"
   },
   {
    "duration": 48,
    "start_time": "2022-01-06T17:22:09.424Z"
   },
   {
    "duration": 5,
    "start_time": "2022-01-06T17:22:09.475Z"
   },
   {
    "duration": 20,
    "start_time": "2022-01-06T17:22:09.483Z"
   },
   {
    "duration": 25,
    "start_time": "2022-01-06T17:22:09.506Z"
   },
   {
    "duration": 10,
    "start_time": "2022-01-06T17:22:09.533Z"
   },
   {
    "duration": 53,
    "start_time": "2022-01-06T17:22:09.546Z"
   },
   {
    "duration": 554,
    "start_time": "2022-01-06T17:22:09.602Z"
   },
   {
    "duration": 30,
    "start_time": "2022-01-06T17:22:10.130Z"
   },
   {
    "duration": 30,
    "start_time": "2022-01-06T17:22:10.132Z"
   },
   {
    "duration": 29,
    "start_time": "2022-01-06T17:22:10.134Z"
   },
   {
    "duration": 29,
    "start_time": "2022-01-06T17:22:10.135Z"
   },
   {
    "duration": 29,
    "start_time": "2022-01-06T17:22:10.137Z"
   },
   {
    "duration": 29,
    "start_time": "2022-01-06T17:22:10.139Z"
   },
   {
    "duration": 25,
    "start_time": "2022-01-06T17:22:10.145Z"
   },
   {
    "duration": 26,
    "start_time": "2022-01-06T17:22:10.147Z"
   },
   {
    "duration": 26,
    "start_time": "2022-01-06T17:22:10.149Z"
   },
   {
    "duration": 28,
    "start_time": "2022-01-06T17:22:10.151Z"
   },
   {
    "duration": 28,
    "start_time": "2022-01-06T17:22:10.152Z"
   },
   {
    "duration": 28,
    "start_time": "2022-01-06T17:22:10.154Z"
   },
   {
    "duration": 27,
    "start_time": "2022-01-06T17:22:10.156Z"
   },
   {
    "duration": 27,
    "start_time": "2022-01-06T17:22:10.157Z"
   },
   {
    "duration": 21,
    "start_time": "2022-01-06T17:22:10.164Z"
   },
   {
    "duration": 22,
    "start_time": "2022-01-06T17:22:10.165Z"
   },
   {
    "duration": 21,
    "start_time": "2022-01-06T17:22:10.167Z"
   },
   {
    "duration": 20,
    "start_time": "2022-01-06T17:22:10.169Z"
   },
   {
    "duration": 20,
    "start_time": "2022-01-06T17:22:10.171Z"
   },
   {
    "duration": 386,
    "start_time": "2022-01-06T17:24:32.392Z"
   },
   {
    "duration": 12,
    "start_time": "2022-01-06T17:24:39.144Z"
   },
   {
    "duration": 16,
    "start_time": "2022-01-06T17:24:41.518Z"
   },
   {
    "duration": 849,
    "start_time": "2022-01-06T17:24:47.649Z"
   },
   {
    "duration": 17,
    "start_time": "2022-01-06T17:24:48.500Z"
   },
   {
    "duration": 86,
    "start_time": "2022-01-06T17:24:48.521Z"
   },
   {
    "duration": 15,
    "start_time": "2022-01-06T17:24:48.610Z"
   },
   {
    "duration": 42,
    "start_time": "2022-01-06T17:24:48.628Z"
   },
   {
    "duration": 13,
    "start_time": "2022-01-06T17:24:48.672Z"
   },
   {
    "duration": 9,
    "start_time": "2022-01-06T17:24:48.688Z"
   },
   {
    "duration": 6,
    "start_time": "2022-01-06T17:24:48.702Z"
   },
   {
    "duration": 56,
    "start_time": "2022-01-06T17:24:48.712Z"
   },
   {
    "duration": 8,
    "start_time": "2022-01-06T17:24:48.771Z"
   },
   {
    "duration": 14,
    "start_time": "2022-01-06T17:24:48.781Z"
   },
   {
    "duration": 11,
    "start_time": "2022-01-06T17:24:48.798Z"
   },
   {
    "duration": 14,
    "start_time": "2022-01-06T17:24:48.811Z"
   },
   {
    "duration": 33,
    "start_time": "2022-01-06T17:24:48.828Z"
   },
   {
    "duration": 3,
    "start_time": "2022-01-06T17:24:48.864Z"
   },
   {
    "duration": 18,
    "start_time": "2022-01-06T17:24:48.869Z"
   },
   {
    "duration": 7,
    "start_time": "2022-01-06T17:24:48.890Z"
   },
   {
    "duration": 18,
    "start_time": "2022-01-06T17:24:48.899Z"
   },
   {
    "duration": 21,
    "start_time": "2022-01-06T17:24:48.920Z"
   },
   {
    "duration": 19,
    "start_time": "2022-01-06T17:24:48.943Z"
   },
   {
    "duration": 27,
    "start_time": "2022-01-06T17:24:48.964Z"
   },
   {
    "duration": 5,
    "start_time": "2022-01-06T17:24:48.993Z"
   },
   {
    "duration": 64,
    "start_time": "2022-01-06T17:24:49.005Z"
   },
   {
    "duration": 25,
    "start_time": "2022-01-06T17:24:49.072Z"
   },
   {
    "duration": 15,
    "start_time": "2022-01-06T17:24:49.100Z"
   },
   {
    "duration": 10,
    "start_time": "2022-01-06T17:24:49.117Z"
   },
   {
    "duration": 34,
    "start_time": "2022-01-06T17:24:49.129Z"
   },
   {
    "duration": 7083,
    "start_time": "2022-01-06T17:24:49.166Z"
   },
   {
    "duration": 5,
    "start_time": "2022-01-06T17:24:56.260Z"
   },
   {
    "duration": 16,
    "start_time": "2022-01-06T17:24:56.267Z"
   },
   {
    "duration": 4,
    "start_time": "2022-01-06T17:24:56.285Z"
   },
   {
    "duration": 19,
    "start_time": "2022-01-06T17:24:56.291Z"
   },
   {
    "duration": 724,
    "start_time": "2022-01-06T17:24:56.312Z"
   },
   {
    "duration": 21,
    "start_time": "2022-01-06T17:24:57.039Z"
   },
   {
    "duration": 224,
    "start_time": "2022-01-06T17:24:57.063Z"
   },
   {
    "duration": 10,
    "start_time": "2022-01-06T17:24:57.289Z"
   },
   {
    "duration": 279,
    "start_time": "2022-01-06T17:24:57.302Z"
   },
   {
    "duration": 9,
    "start_time": "2022-01-06T17:24:57.584Z"
   },
   {
    "duration": 289,
    "start_time": "2022-01-06T17:24:57.596Z"
   },
   {
    "duration": 11,
    "start_time": "2022-01-06T17:24:57.888Z"
   },
   {
    "duration": 392,
    "start_time": "2022-01-06T17:24:57.902Z"
   },
   {
    "duration": 922,
    "start_time": "2022-01-06T17:26:18.530Z"
   },
   {
    "duration": 21,
    "start_time": "2022-01-06T17:26:19.454Z"
   },
   {
    "duration": 55,
    "start_time": "2022-01-06T17:26:19.479Z"
   },
   {
    "duration": 31,
    "start_time": "2022-01-06T17:26:19.537Z"
   },
   {
    "duration": 25,
    "start_time": "2022-01-06T17:26:19.572Z"
   },
   {
    "duration": 14,
    "start_time": "2022-01-06T17:26:19.601Z"
   },
   {
    "duration": 50,
    "start_time": "2022-01-06T17:26:19.618Z"
   },
   {
    "duration": 9,
    "start_time": "2022-01-06T17:26:19.674Z"
   },
   {
    "duration": 13,
    "start_time": "2022-01-06T17:26:19.686Z"
   },
   {
    "duration": 5,
    "start_time": "2022-01-06T17:26:19.702Z"
   },
   {
    "duration": 58,
    "start_time": "2022-01-06T17:26:19.710Z"
   },
   {
    "duration": 7,
    "start_time": "2022-01-06T17:26:19.770Z"
   },
   {
    "duration": 9,
    "start_time": "2022-01-06T17:26:19.780Z"
   },
   {
    "duration": 15,
    "start_time": "2022-01-06T17:26:19.791Z"
   },
   {
    "duration": 3,
    "start_time": "2022-01-06T17:26:19.808Z"
   },
   {
    "duration": 10,
    "start_time": "2022-01-06T17:26:19.814Z"
   },
   {
    "duration": 35,
    "start_time": "2022-01-06T17:26:19.827Z"
   },
   {
    "duration": 23,
    "start_time": "2022-01-06T17:26:19.868Z"
   },
   {
    "duration": 22,
    "start_time": "2022-01-06T17:26:19.893Z"
   },
   {
    "duration": 5,
    "start_time": "2022-01-06T17:26:19.917Z"
   },
   {
    "duration": 62,
    "start_time": "2022-01-06T17:26:19.925Z"
   },
   {
    "duration": 5,
    "start_time": "2022-01-06T17:26:19.989Z"
   },
   {
    "duration": 27,
    "start_time": "2022-01-06T17:26:19.999Z"
   },
   {
    "duration": 63,
    "start_time": "2022-01-06T17:26:20.029Z"
   },
   {
    "duration": 18,
    "start_time": "2022-01-06T17:26:20.095Z"
   },
   {
    "duration": 43,
    "start_time": "2022-01-06T17:26:20.116Z"
   },
   {
    "duration": 9,
    "start_time": "2022-01-06T17:26:20.163Z"
   },
   {
    "duration": 7335,
    "start_time": "2022-01-06T17:26:20.176Z"
   },
   {
    "duration": 4,
    "start_time": "2022-01-06T17:26:27.514Z"
   },
   {
    "duration": 13,
    "start_time": "2022-01-06T17:26:27.520Z"
   },
   {
    "duration": 5,
    "start_time": "2022-01-06T17:26:27.535Z"
   },
   {
    "duration": 36,
    "start_time": "2022-01-06T17:26:27.542Z"
   },
   {
    "duration": 790,
    "start_time": "2022-01-06T17:26:27.582Z"
   },
   {
    "duration": 21,
    "start_time": "2022-01-06T17:26:28.375Z"
   },
   {
    "duration": 252,
    "start_time": "2022-01-06T17:26:28.398Z"
   },
   {
    "duration": 17,
    "start_time": "2022-01-06T17:26:28.652Z"
   },
   {
    "duration": 309,
    "start_time": "2022-01-06T17:26:28.674Z"
   },
   {
    "duration": 15,
    "start_time": "2022-01-06T17:26:28.987Z"
   },
   {
    "duration": 282,
    "start_time": "2022-01-06T17:26:29.004Z"
   },
   {
    "duration": 12,
    "start_time": "2022-01-06T17:26:29.288Z"
   },
   {
    "duration": 291,
    "start_time": "2022-01-06T17:26:29.303Z"
   },
   {
    "duration": 11,
    "start_time": "2022-01-06T17:27:29.173Z"
   },
   {
    "duration": 10,
    "start_time": "2022-01-06T17:30:29.098Z"
   },
   {
    "duration": 168,
    "start_time": "2022-01-06T17:31:01.454Z"
   },
   {
    "duration": 12,
    "start_time": "2022-01-06T17:31:29.778Z"
   },
   {
    "duration": 31,
    "start_time": "2022-01-06T17:39:32.668Z"
   },
   {
    "duration": 8,
    "start_time": "2022-01-06T17:39:49.939Z"
   },
   {
    "duration": 908,
    "start_time": "2022-01-06T17:39:59.420Z"
   },
   {
    "duration": 14,
    "start_time": "2022-01-06T17:40:00.331Z"
   },
   {
    "duration": 176,
    "start_time": "2022-01-06T17:40:00.348Z"
   },
   {
    "duration": 13,
    "start_time": "2022-01-06T17:40:00.527Z"
   },
   {
    "duration": 27,
    "start_time": "2022-01-06T17:40:00.558Z"
   },
   {
    "duration": 16,
    "start_time": "2022-01-06T17:40:00.587Z"
   },
   {
    "duration": 8,
    "start_time": "2022-01-06T17:40:00.605Z"
   },
   {
    "duration": 12,
    "start_time": "2022-01-06T17:40:00.617Z"
   },
   {
    "duration": 14,
    "start_time": "2022-01-06T17:40:00.660Z"
   },
   {
    "duration": 28,
    "start_time": "2022-01-06T17:40:00.679Z"
   },
   {
    "duration": 29,
    "start_time": "2022-01-06T17:40:00.710Z"
   },
   {
    "duration": 12,
    "start_time": "2022-01-06T17:40:00.742Z"
   },
   {
    "duration": 33,
    "start_time": "2022-01-06T17:40:00.756Z"
   },
   {
    "duration": 14,
    "start_time": "2022-01-06T17:40:00.792Z"
   },
   {
    "duration": 42,
    "start_time": "2022-01-06T17:40:00.808Z"
   },
   {
    "duration": 11,
    "start_time": "2022-01-06T17:40:00.853Z"
   },
   {
    "duration": 22,
    "start_time": "2022-01-06T17:40:00.868Z"
   },
   {
    "duration": 4,
    "start_time": "2022-01-06T17:40:00.893Z"
   },
   {
    "duration": 34,
    "start_time": "2022-01-06T17:40:00.900Z"
   },
   {
    "duration": 6,
    "start_time": "2022-01-06T17:40:00.961Z"
   },
   {
    "duration": 39,
    "start_time": "2022-01-06T17:40:00.970Z"
   },
   {
    "duration": 26,
    "start_time": "2022-01-06T17:40:01.012Z"
   },
   {
    "duration": 21,
    "start_time": "2022-01-06T17:40:01.061Z"
   },
   {
    "duration": 9,
    "start_time": "2022-01-06T17:40:01.086Z"
   },
   {
    "duration": 11,
    "start_time": "2022-01-06T17:40:01.098Z"
   },
   {
    "duration": 2467,
    "start_time": "2022-01-06T17:40:01.112Z"
   },
   {
    "duration": 39,
    "start_time": "2022-01-06T17:40:03.545Z"
   },
   {
    "duration": 39,
    "start_time": "2022-01-06T17:40:03.547Z"
   },
   {
    "duration": 40,
    "start_time": "2022-01-06T17:40:03.548Z"
   },
   {
    "duration": 41,
    "start_time": "2022-01-06T17:40:03.550Z"
   },
   {
    "duration": 41,
    "start_time": "2022-01-06T17:40:03.552Z"
   },
   {
    "duration": 38,
    "start_time": "2022-01-06T17:40:03.558Z"
   },
   {
    "duration": 35,
    "start_time": "2022-01-06T17:40:03.563Z"
   },
   {
    "duration": 36,
    "start_time": "2022-01-06T17:40:03.564Z"
   },
   {
    "duration": 3,
    "start_time": "2022-01-06T17:40:03.600Z"
   },
   {
    "duration": 0,
    "start_time": "2022-01-06T17:40:03.605Z"
   },
   {
    "duration": 1,
    "start_time": "2022-01-06T17:40:03.606Z"
   },
   {
    "duration": -1,
    "start_time": "2022-01-06T17:40:03.611Z"
   },
   {
    "duration": -1,
    "start_time": "2022-01-06T17:40:03.613Z"
   },
   {
    "duration": 914,
    "start_time": "2022-01-06T17:41:29.234Z"
   },
   {
    "duration": 20,
    "start_time": "2022-01-06T17:41:30.150Z"
   },
   {
    "duration": 62,
    "start_time": "2022-01-06T17:41:30.178Z"
   },
   {
    "duration": 31,
    "start_time": "2022-01-06T17:41:30.244Z"
   },
   {
    "duration": 21,
    "start_time": "2022-01-06T17:41:30.280Z"
   },
   {
    "duration": 17,
    "start_time": "2022-01-06T17:41:30.304Z"
   },
   {
    "duration": 38,
    "start_time": "2022-01-06T17:41:30.323Z"
   },
   {
    "duration": 15,
    "start_time": "2022-01-06T17:41:30.366Z"
   },
   {
    "duration": 13,
    "start_time": "2022-01-06T17:41:30.384Z"
   },
   {
    "duration": 6,
    "start_time": "2022-01-06T17:41:30.401Z"
   },
   {
    "duration": 63,
    "start_time": "2022-01-06T17:41:30.409Z"
   },
   {
    "duration": 21,
    "start_time": "2022-01-06T17:41:30.476Z"
   },
   {
    "duration": 12,
    "start_time": "2022-01-06T17:41:30.500Z"
   },
   {
    "duration": 5,
    "start_time": "2022-01-06T17:41:30.514Z"
   },
   {
    "duration": 41,
    "start_time": "2022-01-06T17:41:30.522Z"
   },
   {
    "duration": 13,
    "start_time": "2022-01-06T17:41:30.566Z"
   },
   {
    "duration": 22,
    "start_time": "2022-01-06T17:41:30.581Z"
   },
   {
    "duration": 10,
    "start_time": "2022-01-06T17:41:30.606Z"
   },
   {
    "duration": 66,
    "start_time": "2022-01-06T17:41:30.619Z"
   },
   {
    "duration": 6,
    "start_time": "2022-01-06T17:41:30.688Z"
   },
   {
    "duration": 48,
    "start_time": "2022-01-06T17:41:30.698Z"
   },
   {
    "duration": 38,
    "start_time": "2022-01-06T17:41:30.748Z"
   },
   {
    "duration": 17,
    "start_time": "2022-01-06T17:41:30.793Z"
   },
   {
    "duration": 6,
    "start_time": "2022-01-06T17:41:30.814Z"
   },
   {
    "duration": 42,
    "start_time": "2022-01-06T17:41:30.822Z"
   },
   {
    "duration": 2811,
    "start_time": "2022-01-06T17:41:30.867Z"
   },
   {
    "duration": 20,
    "start_time": "2022-01-06T17:41:33.662Z"
   },
   {
    "duration": 20,
    "start_time": "2022-01-06T17:41:33.664Z"
   },
   {
    "duration": 21,
    "start_time": "2022-01-06T17:41:33.665Z"
   },
   {
    "duration": 21,
    "start_time": "2022-01-06T17:41:33.667Z"
   },
   {
    "duration": 22,
    "start_time": "2022-01-06T17:41:33.668Z"
   },
   {
    "duration": 22,
    "start_time": "2022-01-06T17:41:33.670Z"
   },
   {
    "duration": 23,
    "start_time": "2022-01-06T17:41:33.671Z"
   },
   {
    "duration": 22,
    "start_time": "2022-01-06T17:41:33.673Z"
   },
   {
    "duration": 23,
    "start_time": "2022-01-06T17:41:33.674Z"
   },
   {
    "duration": 23,
    "start_time": "2022-01-06T17:41:33.676Z"
   },
   {
    "duration": 23,
    "start_time": "2022-01-06T17:41:33.677Z"
   },
   {
    "duration": 23,
    "start_time": "2022-01-06T17:41:33.679Z"
   },
   {
    "duration": 19,
    "start_time": "2022-01-06T17:41:33.685Z"
   },
   {
    "duration": 5,
    "start_time": "2022-01-06T17:47:29.995Z"
   },
   {
    "duration": 2092,
    "start_time": "2022-01-06T17:47:32.138Z"
   },
   {
    "duration": 18,
    "start_time": "2022-01-06T17:49:28.646Z"
   },
   {
    "duration": 851,
    "start_time": "2022-01-06T17:49:41.772Z"
   },
   {
    "duration": 15,
    "start_time": "2022-01-06T17:49:42.626Z"
   },
   {
    "duration": 63,
    "start_time": "2022-01-06T17:49:42.643Z"
   },
   {
    "duration": 13,
    "start_time": "2022-01-06T17:49:42.708Z"
   },
   {
    "duration": 51,
    "start_time": "2022-01-06T17:49:42.724Z"
   },
   {
    "duration": 11,
    "start_time": "2022-01-06T17:49:42.779Z"
   },
   {
    "duration": 10,
    "start_time": "2022-01-06T17:49:42.793Z"
   },
   {
    "duration": 8,
    "start_time": "2022-01-06T17:49:42.806Z"
   },
   {
    "duration": 62,
    "start_time": "2022-01-06T17:49:42.817Z"
   },
   {
    "duration": 5,
    "start_time": "2022-01-06T17:49:42.882Z"
   },
   {
    "duration": 13,
    "start_time": "2022-01-06T17:49:42.889Z"
   },
   {
    "duration": 7,
    "start_time": "2022-01-06T17:49:42.904Z"
   },
   {
    "duration": 11,
    "start_time": "2022-01-06T17:49:42.913Z"
   },
   {
    "duration": 4,
    "start_time": "2022-01-06T17:49:42.926Z"
   },
   {
    "duration": 25,
    "start_time": "2022-01-06T17:49:42.965Z"
   },
   {
    "duration": 16,
    "start_time": "2022-01-06T17:49:42.993Z"
   },
   {
    "duration": 12,
    "start_time": "2022-01-06T17:49:43.012Z"
   },
   {
    "duration": 41,
    "start_time": "2022-01-06T17:49:43.027Z"
   },
   {
    "duration": 34,
    "start_time": "2022-01-06T17:49:43.071Z"
   },
   {
    "duration": 6,
    "start_time": "2022-01-06T17:49:43.107Z"
   },
   {
    "duration": 62,
    "start_time": "2022-01-06T17:49:43.115Z"
   },
   {
    "duration": 27,
    "start_time": "2022-01-06T17:49:43.180Z"
   },
   {
    "duration": 14,
    "start_time": "2022-01-06T17:49:43.211Z"
   },
   {
    "duration": 31,
    "start_time": "2022-01-06T17:49:43.228Z"
   },
   {
    "duration": 8,
    "start_time": "2022-01-06T17:49:43.266Z"
   },
   {
    "duration": 2774,
    "start_time": "2022-01-06T17:49:43.276Z"
   },
   {
    "duration": 48,
    "start_time": "2022-01-06T17:49:46.005Z"
   },
   {
    "duration": 47,
    "start_time": "2022-01-06T17:49:46.007Z"
   },
   {
    "duration": 47,
    "start_time": "2022-01-06T17:49:46.009Z"
   },
   {
    "duration": 46,
    "start_time": "2022-01-06T17:49:46.011Z"
   },
   {
    "duration": 47,
    "start_time": "2022-01-06T17:49:46.012Z"
   },
   {
    "duration": 47,
    "start_time": "2022-01-06T17:49:46.014Z"
   },
   {
    "duration": 48,
    "start_time": "2022-01-06T17:49:46.015Z"
   },
   {
    "duration": 44,
    "start_time": "2022-01-06T17:49:46.021Z"
   },
   {
    "duration": 45,
    "start_time": "2022-01-06T17:49:46.022Z"
   },
   {
    "duration": 45,
    "start_time": "2022-01-06T17:49:46.024Z"
   },
   {
    "duration": 43,
    "start_time": "2022-01-06T17:49:46.028Z"
   },
   {
    "duration": 43,
    "start_time": "2022-01-06T17:49:46.029Z"
   },
   {
    "duration": 43,
    "start_time": "2022-01-06T17:49:46.031Z"
   },
   {
    "duration": 37,
    "start_time": "2022-01-06T17:51:00.045Z"
   },
   {
    "duration": 33,
    "start_time": "2022-01-06T17:51:24.361Z"
   },
   {
    "duration": 1338,
    "start_time": "2022-01-06T17:56:38.563Z"
   },
   {
    "duration": 22,
    "start_time": "2022-01-06T18:37:51.335Z"
   },
   {
    "duration": 15,
    "start_time": "2022-01-06T18:38:04.674Z"
   },
   {
    "duration": 945,
    "start_time": "2022-01-06T18:38:10.533Z"
   },
   {
    "duration": 15,
    "start_time": "2022-01-06T18:38:11.481Z"
   },
   {
    "duration": 77,
    "start_time": "2022-01-06T18:38:11.499Z"
   },
   {
    "duration": 14,
    "start_time": "2022-01-06T18:38:11.580Z"
   },
   {
    "duration": 30,
    "start_time": "2022-01-06T18:38:11.597Z"
   },
   {
    "duration": 19,
    "start_time": "2022-01-06T18:38:11.662Z"
   },
   {
    "duration": 10,
    "start_time": "2022-01-06T18:38:11.683Z"
   },
   {
    "duration": 6,
    "start_time": "2022-01-06T18:38:11.697Z"
   },
   {
    "duration": 12,
    "start_time": "2022-01-06T18:38:11.705Z"
   },
   {
    "duration": 46,
    "start_time": "2022-01-06T18:38:11.719Z"
   },
   {
    "duration": 30,
    "start_time": "2022-01-06T18:38:11.768Z"
   },
   {
    "duration": 6,
    "start_time": "2022-01-06T18:38:11.800Z"
   },
   {
    "duration": 10,
    "start_time": "2022-01-06T18:38:11.809Z"
   },
   {
    "duration": 4,
    "start_time": "2022-01-06T18:38:11.821Z"
   },
   {
    "duration": 49,
    "start_time": "2022-01-06T18:38:11.828Z"
   },
   {
    "duration": 15,
    "start_time": "2022-01-06T18:38:11.880Z"
   },
   {
    "duration": 4,
    "start_time": "2022-01-06T18:38:11.898Z"
   },
   {
    "duration": 66,
    "start_time": "2022-01-06T18:38:11.904Z"
   },
   {
    "duration": 6,
    "start_time": "2022-01-06T18:38:11.973Z"
   },
   {
    "duration": 25,
    "start_time": "2022-01-06T18:38:11.981Z"
   },
   {
    "duration": 51,
    "start_time": "2022-01-06T18:38:12.008Z"
   },
   {
    "duration": 24,
    "start_time": "2022-01-06T18:38:12.063Z"
   },
   {
    "duration": 7,
    "start_time": "2022-01-06T18:38:12.095Z"
   },
   {
    "duration": 5,
    "start_time": "2022-01-06T18:38:12.105Z"
   },
   {
    "duration": 65,
    "start_time": "2022-01-06T18:38:12.112Z"
   },
   {
    "duration": 16,
    "start_time": "2022-01-06T18:38:12.180Z"
   },
   {
    "duration": 2497,
    "start_time": "2022-01-06T18:38:12.198Z"
   },
   {
    "duration": 58,
    "start_time": "2022-01-06T18:38:14.640Z"
   },
   {
    "duration": 57,
    "start_time": "2022-01-06T18:38:14.642Z"
   },
   {
    "duration": 57,
    "start_time": "2022-01-06T18:38:14.644Z"
   },
   {
    "duration": 56,
    "start_time": "2022-01-06T18:38:14.646Z"
   },
   {
    "duration": 57,
    "start_time": "2022-01-06T18:38:14.647Z"
   },
   {
    "duration": 56,
    "start_time": "2022-01-06T18:38:14.649Z"
   },
   {
    "duration": 55,
    "start_time": "2022-01-06T18:38:14.651Z"
   },
   {
    "duration": 56,
    "start_time": "2022-01-06T18:38:14.652Z"
   },
   {
    "duration": 55,
    "start_time": "2022-01-06T18:38:14.654Z"
   },
   {
    "duration": 56,
    "start_time": "2022-01-06T18:38:14.655Z"
   },
   {
    "duration": 55,
    "start_time": "2022-01-06T18:38:14.657Z"
   },
   {
    "duration": 56,
    "start_time": "2022-01-06T18:38:14.658Z"
   },
   {
    "duration": 56,
    "start_time": "2022-01-06T18:38:14.660Z"
   },
   {
    "duration": 864,
    "start_time": "2022-01-06T18:39:22.689Z"
   },
   {
    "duration": 17,
    "start_time": "2022-01-06T18:39:23.556Z"
   },
   {
    "duration": 59,
    "start_time": "2022-01-06T18:39:23.577Z"
   },
   {
    "duration": 34,
    "start_time": "2022-01-06T18:39:23.640Z"
   },
   {
    "duration": 29,
    "start_time": "2022-01-06T18:39:23.679Z"
   },
   {
    "duration": 16,
    "start_time": "2022-01-06T18:39:23.711Z"
   },
   {
    "duration": 32,
    "start_time": "2022-01-06T18:39:23.730Z"
   },
   {
    "duration": 8,
    "start_time": "2022-01-06T18:39:23.768Z"
   },
   {
    "duration": 18,
    "start_time": "2022-01-06T18:39:23.781Z"
   },
   {
    "duration": 5,
    "start_time": "2022-01-06T18:39:23.802Z"
   },
   {
    "duration": 60,
    "start_time": "2022-01-06T18:39:23.809Z"
   },
   {
    "duration": 8,
    "start_time": "2022-01-06T18:39:23.877Z"
   },
   {
    "duration": 12,
    "start_time": "2022-01-06T18:39:23.888Z"
   },
   {
    "duration": 5,
    "start_time": "2022-01-06T18:39:23.902Z"
   },
   {
    "duration": 6,
    "start_time": "2022-01-06T18:39:23.909Z"
   },
   {
    "duration": 49,
    "start_time": "2022-01-06T18:39:23.918Z"
   },
   {
    "duration": 6,
    "start_time": "2022-01-06T18:39:23.972Z"
   },
   {
    "duration": 29,
    "start_time": "2022-01-06T18:39:23.981Z"
   },
   {
    "duration": 6,
    "start_time": "2022-01-06T18:39:24.013Z"
   },
   {
    "duration": 76,
    "start_time": "2022-01-06T18:39:24.022Z"
   },
   {
    "duration": 27,
    "start_time": "2022-01-06T18:39:24.101Z"
   },
   {
    "duration": 30,
    "start_time": "2022-01-06T18:39:24.131Z"
   },
   {
    "duration": 14,
    "start_time": "2022-01-06T18:39:24.171Z"
   },
   {
    "duration": 5,
    "start_time": "2022-01-06T18:39:24.189Z"
   },
   {
    "duration": 20,
    "start_time": "2022-01-06T18:39:24.197Z"
   },
   {
    "duration": 60,
    "start_time": "2022-01-06T18:39:24.220Z"
   },
   {
    "duration": 7148,
    "start_time": "2022-01-06T18:39:24.284Z"
   },
   {
    "duration": 11,
    "start_time": "2022-01-06T18:39:31.435Z"
   },
   {
    "duration": 27,
    "start_time": "2022-01-06T18:39:31.448Z"
   },
   {
    "duration": 5,
    "start_time": "2022-01-06T18:39:31.479Z"
   },
   {
    "duration": 17,
    "start_time": "2022-01-06T18:39:31.486Z"
   },
   {
    "duration": 917,
    "start_time": "2022-01-06T18:39:31.505Z"
   },
   {
    "duration": 49,
    "start_time": "2022-01-06T18:39:32.425Z"
   },
   {
    "duration": 440,
    "start_time": "2022-01-06T18:39:32.477Z"
   },
   {
    "duration": 12,
    "start_time": "2022-01-06T18:39:32.920Z"
   },
   {
    "duration": 308,
    "start_time": "2022-01-06T18:39:32.935Z"
   },
   {
    "duration": 26,
    "start_time": "2022-01-06T18:39:33.247Z"
   },
   {
    "duration": 271,
    "start_time": "2022-01-06T18:39:33.276Z"
   },
   {
    "duration": 20,
    "start_time": "2022-01-06T18:39:33.550Z"
   },
   {
    "duration": 281,
    "start_time": "2022-01-06T18:39:33.573Z"
   },
   {
    "duration": 8,
    "start_time": "2022-01-06T18:40:25.926Z"
   },
   {
    "duration": 11,
    "start_time": "2022-01-06T18:40:46.691Z"
   },
   {
    "duration": 954,
    "start_time": "2022-01-06T18:40:53.634Z"
   },
   {
    "duration": 15,
    "start_time": "2022-01-06T18:40:54.591Z"
   },
   {
    "duration": 81,
    "start_time": "2022-01-06T18:40:54.609Z"
   },
   {
    "duration": 13,
    "start_time": "2022-01-06T18:40:54.693Z"
   },
   {
    "duration": 19,
    "start_time": "2022-01-06T18:40:54.709Z"
   },
   {
    "duration": 17,
    "start_time": "2022-01-06T18:40:54.759Z"
   },
   {
    "duration": 9,
    "start_time": "2022-01-06T18:40:54.779Z"
   },
   {
    "duration": 6,
    "start_time": "2022-01-06T18:40:54.791Z"
   },
   {
    "duration": 11,
    "start_time": "2022-01-06T18:40:54.800Z"
   },
   {
    "duration": 48,
    "start_time": "2022-01-06T18:40:54.813Z"
   },
   {
    "duration": 23,
    "start_time": "2022-01-06T18:40:54.863Z"
   },
   {
    "duration": 7,
    "start_time": "2022-01-06T18:40:54.888Z"
   },
   {
    "duration": 12,
    "start_time": "2022-01-06T18:40:54.898Z"
   },
   {
    "duration": 47,
    "start_time": "2022-01-06T18:40:54.913Z"
   },
   {
    "duration": 13,
    "start_time": "2022-01-06T18:40:54.964Z"
   },
   {
    "duration": 8,
    "start_time": "2022-01-06T18:40:54.979Z"
   },
   {
    "duration": 14,
    "start_time": "2022-01-06T18:40:54.989Z"
   },
   {
    "duration": 5,
    "start_time": "2022-01-06T18:40:55.006Z"
   },
   {
    "duration": 76,
    "start_time": "2022-01-06T18:40:55.014Z"
   },
   {
    "duration": 5,
    "start_time": "2022-01-06T18:40:55.092Z"
   },
   {
    "duration": 26,
    "start_time": "2022-01-06T18:40:55.099Z"
   },
   {
    "duration": 58,
    "start_time": "2022-01-06T18:40:55.128Z"
   },
   {
    "duration": 14,
    "start_time": "2022-01-06T18:40:55.191Z"
   },
   {
    "duration": 6,
    "start_time": "2022-01-06T18:40:55.207Z"
   },
   {
    "duration": 9,
    "start_time": "2022-01-06T18:40:55.215Z"
   },
   {
    "duration": 50,
    "start_time": "2022-01-06T18:40:55.226Z"
   },
   {
    "duration": 13,
    "start_time": "2022-01-06T18:40:55.279Z"
   },
   {
    "duration": 6665,
    "start_time": "2022-01-06T18:40:55.295Z"
   },
   {
    "duration": 6,
    "start_time": "2022-01-06T18:41:01.964Z"
   },
   {
    "duration": 18,
    "start_time": "2022-01-06T18:41:01.973Z"
   },
   {
    "duration": 10,
    "start_time": "2022-01-06T18:41:01.993Z"
   },
   {
    "duration": 21,
    "start_time": "2022-01-06T18:41:02.006Z"
   },
   {
    "duration": 746,
    "start_time": "2022-01-06T18:41:02.029Z"
   },
   {
    "duration": 18,
    "start_time": "2022-01-06T18:41:02.777Z"
   },
   {
    "duration": 251,
    "start_time": "2022-01-06T18:41:02.798Z"
   },
   {
    "duration": 15,
    "start_time": "2022-01-06T18:41:03.051Z"
   },
   {
    "duration": 310,
    "start_time": "2022-01-06T18:41:03.069Z"
   },
   {
    "duration": 9,
    "start_time": "2022-01-06T18:41:03.382Z"
   },
   {
    "duration": 290,
    "start_time": "2022-01-06T18:41:03.394Z"
   },
   {
    "duration": 10,
    "start_time": "2022-01-06T18:41:03.686Z"
   },
   {
    "duration": 275,
    "start_time": "2022-01-06T18:41:03.699Z"
   },
   {
    "duration": 567,
    "start_time": "2022-01-06T19:17:02.771Z"
   },
   {
    "duration": 413,
    "start_time": "2022-01-06T19:18:29.744Z"
   },
   {
    "duration": 399,
    "start_time": "2022-01-06T19:18:41.319Z"
   },
   {
    "duration": 35,
    "start_time": "2022-01-06T19:19:27.231Z"
   },
   {
    "duration": 34,
    "start_time": "2022-01-06T19:19:35.735Z"
   },
   {
    "duration": 395,
    "start_time": "2022-01-06T19:25:54.111Z"
   },
   {
    "duration": 440,
    "start_time": "2022-01-06T19:25:58.398Z"
   },
   {
    "duration": 24,
    "start_time": "2022-01-06T19:27:40.922Z"
   },
   {
    "duration": 23,
    "start_time": "2022-01-06T19:27:52.626Z"
   },
   {
    "duration": 419,
    "start_time": "2022-01-06T19:27:58.161Z"
   },
   {
    "duration": 25,
    "start_time": "2022-01-06T19:28:10.748Z"
   },
   {
    "duration": 383,
    "start_time": "2022-01-06T19:28:14.333Z"
   },
   {
    "duration": 400,
    "start_time": "2022-01-06T19:28:55.235Z"
   },
   {
    "duration": 23,
    "start_time": "2022-01-06T19:28:59.318Z"
   },
   {
    "duration": 25,
    "start_time": "2022-01-06T19:29:36.816Z"
   },
   {
    "duration": 25,
    "start_time": "2022-01-06T19:29:40.825Z"
   },
   {
    "duration": 31,
    "start_time": "2022-01-06T19:29:49.727Z"
   },
   {
    "duration": 30,
    "start_time": "2022-01-06T19:30:34.634Z"
   },
   {
    "duration": 40,
    "start_time": "2022-01-06T19:35:01.844Z"
   },
   {
    "duration": 31,
    "start_time": "2022-01-06T19:35:47.968Z"
   },
   {
    "duration": 32,
    "start_time": "2022-01-06T19:36:09.172Z"
   },
   {
    "duration": 31,
    "start_time": "2022-01-06T19:36:20.815Z"
   },
   {
    "duration": 31,
    "start_time": "2022-01-06T19:36:53.092Z"
   },
   {
    "duration": 29,
    "start_time": "2022-01-06T19:37:17.281Z"
   },
   {
    "duration": 30,
    "start_time": "2022-01-06T19:37:36.720Z"
   },
   {
    "duration": 34,
    "start_time": "2022-01-06T19:37:56.959Z"
   },
   {
    "duration": 30,
    "start_time": "2022-01-06T19:38:02.683Z"
   },
   {
    "duration": 30,
    "start_time": "2022-01-06T19:38:10.309Z"
   },
   {
    "duration": 31,
    "start_time": "2022-01-06T19:38:14.210Z"
   },
   {
    "duration": 35,
    "start_time": "2022-01-06T19:39:44.633Z"
   },
   {
    "duration": 32,
    "start_time": "2022-01-06T19:41:33.507Z"
   },
   {
    "duration": 30,
    "start_time": "2022-01-06T19:42:17.816Z"
   },
   {
    "duration": 209,
    "start_time": "2022-01-06T19:42:37.672Z"
   },
   {
    "duration": 252,
    "start_time": "2022-01-06T19:42:46.228Z"
   },
   {
    "duration": 32,
    "start_time": "2022-01-06T19:42:49.676Z"
   },
   {
    "duration": 10,
    "start_time": "2022-01-06T19:44:45.273Z"
   },
   {
    "duration": 3,
    "start_time": "2022-01-06T19:45:40.739Z"
   },
   {
    "duration": 46,
    "start_time": "2022-01-06T19:52:40.979Z"
   },
   {
    "duration": 5,
    "start_time": "2022-01-06T19:54:52.358Z"
   },
   {
    "duration": 20,
    "start_time": "2022-01-06T19:55:59.638Z"
   },
   {
    "duration": 39,
    "start_time": "2022-01-06T19:56:36.860Z"
   },
   {
    "duration": 3,
    "start_time": "2022-01-06T19:59:52.892Z"
   },
   {
    "duration": 19,
    "start_time": "2022-01-06T20:00:17.692Z"
   },
   {
    "duration": 35,
    "start_time": "2022-01-06T20:02:23.788Z"
   },
   {
    "duration": 38,
    "start_time": "2022-01-06T20:02:35.930Z"
   },
   {
    "duration": 4,
    "start_time": "2022-01-06T20:02:58.480Z"
   },
   {
    "duration": 846,
    "start_time": "2022-01-06T20:04:35.919Z"
   },
   {
    "duration": 16,
    "start_time": "2022-01-06T20:04:36.768Z"
   },
   {
    "duration": 90,
    "start_time": "2022-01-06T20:04:36.788Z"
   },
   {
    "duration": 15,
    "start_time": "2022-01-06T20:04:36.882Z"
   },
   {
    "duration": 20,
    "start_time": "2022-01-06T20:04:36.900Z"
   },
   {
    "duration": 49,
    "start_time": "2022-01-06T20:04:36.923Z"
   },
   {
    "duration": 12,
    "start_time": "2022-01-06T20:04:36.975Z"
   },
   {
    "duration": 8,
    "start_time": "2022-01-06T20:04:36.989Z"
   },
   {
    "duration": 14,
    "start_time": "2022-01-06T20:04:37.001Z"
   },
   {
    "duration": 4,
    "start_time": "2022-01-06T20:04:37.019Z"
   },
   {
    "duration": 52,
    "start_time": "2022-01-06T20:04:37.026Z"
   },
   {
    "duration": 5,
    "start_time": "2022-01-06T20:04:37.081Z"
   },
   {
    "duration": 12,
    "start_time": "2022-01-06T20:04:37.089Z"
   },
   {
    "duration": 4,
    "start_time": "2022-01-06T20:04:37.103Z"
   },
   {
    "duration": 9,
    "start_time": "2022-01-06T20:04:37.109Z"
   },
   {
    "duration": 23,
    "start_time": "2022-01-06T20:04:37.159Z"
   },
   {
    "duration": 6,
    "start_time": "2022-01-06T20:04:37.185Z"
   },
   {
    "duration": 28,
    "start_time": "2022-01-06T20:04:37.194Z"
   },
   {
    "duration": 36,
    "start_time": "2022-01-06T20:04:37.225Z"
   },
   {
    "duration": 39,
    "start_time": "2022-01-06T20:04:37.265Z"
   },
   {
    "duration": 26,
    "start_time": "2022-01-06T20:04:37.306Z"
   },
   {
    "duration": 42,
    "start_time": "2022-01-06T20:04:37.335Z"
   },
   {
    "duration": 11,
    "start_time": "2022-01-06T20:04:37.381Z"
   },
   {
    "duration": 5,
    "start_time": "2022-01-06T20:04:37.394Z"
   },
   {
    "duration": 7115,
    "start_time": "2022-01-06T20:04:37.401Z"
   },
   {
    "duration": 6,
    "start_time": "2022-01-06T20:04:44.519Z"
   },
   {
    "duration": 37,
    "start_time": "2022-01-06T20:04:44.532Z"
   },
   {
    "duration": 5,
    "start_time": "2022-01-06T20:04:44.573Z"
   },
   {
    "duration": 12,
    "start_time": "2022-01-06T20:04:44.581Z"
   },
   {
    "duration": 767,
    "start_time": "2022-01-06T20:04:44.595Z"
   },
   {
    "duration": 4,
    "start_time": "2022-01-06T20:04:45.366Z"
   },
   {
    "duration": 47,
    "start_time": "2022-01-06T20:04:45.373Z"
   },
   {
    "duration": 258,
    "start_time": "2022-01-06T20:04:45.422Z"
   },
   {
    "duration": 3,
    "start_time": "2022-01-06T20:04:45.684Z"
   },
   {
    "duration": 36,
    "start_time": "2022-01-06T20:04:45.689Z"
   },
   {
    "duration": 303,
    "start_time": "2022-01-06T20:04:45.727Z"
   },
   {
    "duration": 3,
    "start_time": "2022-01-06T20:04:46.033Z"
   },
   {
    "duration": 61,
    "start_time": "2022-01-06T20:04:46.038Z"
   },
   {
    "duration": 322,
    "start_time": "2022-01-06T20:04:46.101Z"
   },
   {
    "duration": 3,
    "start_time": "2022-01-06T20:04:46.427Z"
   },
   {
    "duration": 60,
    "start_time": "2022-01-06T20:04:46.433Z"
   },
   {
    "duration": 256,
    "start_time": "2022-01-06T20:04:46.496Z"
   },
   {
    "duration": 847,
    "start_time": "2022-01-06T20:17:37.602Z"
   },
   {
    "duration": 22,
    "start_time": "2022-01-06T20:17:38.452Z"
   },
   {
    "duration": 62,
    "start_time": "2022-01-06T20:17:38.478Z"
   },
   {
    "duration": 20,
    "start_time": "2022-01-06T20:17:38.562Z"
   },
   {
    "duration": 20,
    "start_time": "2022-01-06T20:17:38.585Z"
   },
   {
    "duration": 12,
    "start_time": "2022-01-06T20:17:38.608Z"
   },
   {
    "duration": 8,
    "start_time": "2022-01-06T20:17:38.659Z"
   },
   {
    "duration": 15,
    "start_time": "2022-01-06T20:17:38.673Z"
   },
   {
    "duration": 11,
    "start_time": "2022-01-06T20:17:38.691Z"
   },
   {
    "duration": 4,
    "start_time": "2022-01-06T20:17:38.705Z"
   },
   {
    "duration": 54,
    "start_time": "2022-01-06T20:17:38.712Z"
   },
   {
    "duration": 13,
    "start_time": "2022-01-06T20:17:38.769Z"
   },
   {
    "duration": 10,
    "start_time": "2022-01-06T20:17:38.784Z"
   },
   {
    "duration": 4,
    "start_time": "2022-01-06T20:17:38.796Z"
   },
   {
    "duration": 20,
    "start_time": "2022-01-06T20:17:38.802Z"
   },
   {
    "duration": 46,
    "start_time": "2022-01-06T20:17:38.824Z"
   },
   {
    "duration": 5,
    "start_time": "2022-01-06T20:17:38.873Z"
   },
   {
    "duration": 25,
    "start_time": "2022-01-06T20:17:38.881Z"
   },
   {
    "duration": 4,
    "start_time": "2022-01-06T20:17:38.909Z"
   },
   {
    "duration": 68,
    "start_time": "2022-01-06T20:17:38.916Z"
   },
   {
    "duration": 28,
    "start_time": "2022-01-06T20:17:38.986Z"
   },
   {
    "duration": 14,
    "start_time": "2022-01-06T20:17:39.016Z"
   },
   {
    "duration": 14,
    "start_time": "2022-01-06T20:17:39.059Z"
   },
   {
    "duration": 7,
    "start_time": "2022-01-06T20:17:39.076Z"
   },
   {
    "duration": 6291,
    "start_time": "2022-01-06T20:17:39.085Z"
   },
   {
    "duration": 5,
    "start_time": "2022-01-06T20:17:45.380Z"
   },
   {
    "duration": 14,
    "start_time": "2022-01-06T20:17:45.388Z"
   },
   {
    "duration": 4,
    "start_time": "2022-01-06T20:17:45.405Z"
   },
   {
    "duration": 51,
    "start_time": "2022-01-06T20:17:45.411Z"
   },
   {
    "duration": 810,
    "start_time": "2022-01-06T20:17:45.465Z"
   },
   {
    "duration": 3,
    "start_time": "2022-01-06T20:17:46.278Z"
   },
   {
    "duration": 50,
    "start_time": "2022-01-06T20:17:46.283Z"
   },
   {
    "duration": 248,
    "start_time": "2022-01-06T20:17:46.336Z"
   },
   {
    "duration": 3,
    "start_time": "2022-01-06T20:17:46.587Z"
   },
   {
    "duration": 36,
    "start_time": "2022-01-06T20:17:46.592Z"
   },
   {
    "duration": 296,
    "start_time": "2022-01-06T20:17:46.630Z"
   },
   {
    "duration": 4,
    "start_time": "2022-01-06T20:17:46.929Z"
   },
   {
    "duration": 54,
    "start_time": "2022-01-06T20:17:46.936Z"
   },
   {
    "duration": 292,
    "start_time": "2022-01-06T20:17:46.993Z"
   },
   {
    "duration": 3,
    "start_time": "2022-01-06T20:17:47.288Z"
   },
   {
    "duration": 34,
    "start_time": "2022-01-06T20:17:47.294Z"
   },
   {
    "duration": 289,
    "start_time": "2022-01-06T20:17:47.331Z"
   },
   {
    "duration": 1049,
    "start_time": "2022-01-06T21:12:10.921Z"
   },
   {
    "duration": 15,
    "start_time": "2022-01-06T21:12:11.973Z"
   },
   {
    "duration": 77,
    "start_time": "2022-01-06T21:12:11.990Z"
   },
   {
    "duration": 12,
    "start_time": "2022-01-06T21:12:12.070Z"
   },
   {
    "duration": 19,
    "start_time": "2022-01-06T21:12:12.084Z"
   },
   {
    "duration": 13,
    "start_time": "2022-01-06T21:12:12.106Z"
   },
   {
    "duration": 8,
    "start_time": "2022-01-06T21:12:12.159Z"
   },
   {
    "duration": 6,
    "start_time": "2022-01-06T21:12:12.171Z"
   },
   {
    "duration": 10,
    "start_time": "2022-01-06T21:12:12.180Z"
   },
   {
    "duration": 5,
    "start_time": "2022-01-06T21:12:12.192Z"
   },
   {
    "duration": 62,
    "start_time": "2022-01-06T21:12:12.199Z"
   },
   {
    "duration": 15,
    "start_time": "2022-01-06T21:12:12.264Z"
   },
   {
    "duration": 10,
    "start_time": "2022-01-06T21:12:12.282Z"
   },
   {
    "duration": 4,
    "start_time": "2022-01-06T21:12:12.294Z"
   },
   {
    "duration": 10,
    "start_time": "2022-01-06T21:12:12.301Z"
   },
   {
    "duration": 61,
    "start_time": "2022-01-06T21:12:12.313Z"
   },
   {
    "duration": 6,
    "start_time": "2022-01-06T21:12:12.377Z"
   },
   {
    "duration": 41,
    "start_time": "2022-01-06T21:12:12.386Z"
   },
   {
    "duration": 29,
    "start_time": "2022-01-06T21:12:12.430Z"
   },
   {
    "duration": 37,
    "start_time": "2022-01-06T21:12:12.462Z"
   },
   {
    "duration": 28,
    "start_time": "2022-01-06T21:12:12.502Z"
   },
   {
    "duration": 39,
    "start_time": "2022-01-06T21:12:12.532Z"
   },
   {
    "duration": 5,
    "start_time": "2022-01-06T21:12:12.576Z"
   },
   {
    "duration": 5,
    "start_time": "2022-01-06T21:12:12.584Z"
   },
   {
    "duration": 6722,
    "start_time": "2022-01-06T21:12:12.591Z"
   },
   {
    "duration": 4,
    "start_time": "2022-01-06T21:12:19.316Z"
   },
   {
    "duration": 13,
    "start_time": "2022-01-06T21:12:19.322Z"
   },
   {
    "duration": 24,
    "start_time": "2022-01-06T21:12:19.337Z"
   },
   {
    "duration": 14,
    "start_time": "2022-01-06T21:12:19.364Z"
   },
   {
    "duration": 772,
    "start_time": "2022-01-06T21:12:19.381Z"
   },
   {
    "duration": 4,
    "start_time": "2022-01-06T21:12:20.157Z"
   },
   {
    "duration": 42,
    "start_time": "2022-01-06T21:12:20.164Z"
   },
   {
    "duration": 244,
    "start_time": "2022-01-06T21:12:20.209Z"
   },
   {
    "duration": 4,
    "start_time": "2022-01-06T21:12:20.461Z"
   },
   {
    "duration": 44,
    "start_time": "2022-01-06T21:12:20.468Z"
   },
   {
    "duration": 410,
    "start_time": "2022-01-06T21:12:20.516Z"
   },
   {
    "duration": 4,
    "start_time": "2022-01-06T21:12:20.929Z"
   },
   {
    "duration": 49,
    "start_time": "2022-01-06T21:12:20.935Z"
   },
   {
    "duration": 364,
    "start_time": "2022-01-06T21:12:20.986Z"
   },
   {
    "duration": 6,
    "start_time": "2022-01-06T21:12:21.353Z"
   },
   {
    "duration": 51,
    "start_time": "2022-01-06T21:12:21.361Z"
   },
   {
    "duration": 255,
    "start_time": "2022-01-06T21:12:21.415Z"
   },
   {
    "duration": 865,
    "start_time": "2022-01-07T19:16:38.430Z"
   },
   {
    "duration": 17,
    "start_time": "2022-01-07T19:16:39.298Z"
   },
   {
    "duration": 77,
    "start_time": "2022-01-07T19:16:39.318Z"
   },
   {
    "duration": 12,
    "start_time": "2022-01-07T19:16:39.398Z"
   },
   {
    "duration": 23,
    "start_time": "2022-01-07T19:16:39.412Z"
   },
   {
    "duration": 13,
    "start_time": "2022-01-07T19:16:39.459Z"
   },
   {
    "duration": 7,
    "start_time": "2022-01-07T19:16:39.475Z"
   },
   {
    "duration": 5,
    "start_time": "2022-01-07T19:16:39.486Z"
   },
   {
    "duration": 11,
    "start_time": "2022-01-07T19:16:39.494Z"
   },
   {
    "duration": 52,
    "start_time": "2022-01-07T19:16:39.507Z"
   },
   {
    "duration": 15,
    "start_time": "2022-01-07T19:16:39.561Z"
   },
   {
    "duration": 8,
    "start_time": "2022-01-07T19:16:39.578Z"
   },
   {
    "duration": 12,
    "start_time": "2022-01-07T19:16:39.589Z"
   },
   {
    "duration": 4,
    "start_time": "2022-01-07T19:16:39.603Z"
   },
   {
    "duration": 8,
    "start_time": "2022-01-07T19:16:39.609Z"
   },
   {
    "duration": 52,
    "start_time": "2022-01-07T19:16:39.619Z"
   },
   {
    "duration": 4,
    "start_time": "2022-01-07T19:16:39.674Z"
   },
   {
    "duration": 29,
    "start_time": "2022-01-07T19:16:39.680Z"
   },
   {
    "duration": 6,
    "start_time": "2022-01-07T19:16:39.712Z"
   },
   {
    "duration": 72,
    "start_time": "2022-01-07T19:16:39.721Z"
   },
   {
    "duration": 32,
    "start_time": "2022-01-07T19:16:39.795Z"
   },
   {
    "duration": 35,
    "start_time": "2022-01-07T19:16:39.829Z"
   },
   {
    "duration": 24,
    "start_time": "2022-01-07T19:16:39.869Z"
   },
   {
    "duration": 6,
    "start_time": "2022-01-07T19:16:39.896Z"
   },
   {
    "duration": 812,
    "start_time": "2022-01-07T19:17:33.615Z"
   },
   {
    "duration": 66,
    "start_time": "2022-01-07T19:17:42.455Z"
   },
   {
    "duration": 16,
    "start_time": "2022-01-07T19:17:43.136Z"
   },
   {
    "duration": 61,
    "start_time": "2022-01-07T19:17:43.794Z"
   },
   {
    "duration": 14,
    "start_time": "2022-01-07T19:17:43.993Z"
   },
   {
    "duration": 19,
    "start_time": "2022-01-07T19:17:44.184Z"
   },
   {
    "duration": 11,
    "start_time": "2022-01-07T19:17:44.991Z"
   },
   {
    "duration": 10,
    "start_time": "2022-01-07T19:17:45.503Z"
   },
   {
    "duration": 6,
    "start_time": "2022-01-07T19:17:46.018Z"
   },
   {
    "duration": 10,
    "start_time": "2022-01-07T19:17:47.796Z"
   },
   {
    "duration": 5,
    "start_time": "2022-01-07T19:17:48.305Z"
   },
   {
    "duration": 15,
    "start_time": "2022-01-07T19:17:48.489Z"
   },
   {
    "duration": 6,
    "start_time": "2022-01-07T19:17:48.670Z"
   },
   {
    "duration": 11,
    "start_time": "2022-01-07T19:17:51.208Z"
   },
   {
    "duration": 5,
    "start_time": "2022-01-07T19:17:52.041Z"
   },
   {
    "duration": 8,
    "start_time": "2022-01-07T19:17:52.199Z"
   },
   {
    "duration": 14,
    "start_time": "2022-01-07T19:17:54.916Z"
   },
   {
    "duration": 5,
    "start_time": "2022-01-07T19:17:55.794Z"
   },
   {
    "duration": 28,
    "start_time": "2022-01-07T19:17:56.130Z"
   },
   {
    "duration": 5,
    "start_time": "2022-01-07T19:17:56.628Z"
   },
   {
    "duration": 25,
    "start_time": "2022-01-07T19:17:58.371Z"
   },
   {
    "duration": 30,
    "start_time": "2022-01-07T19:17:58.525Z"
   },
   {
    "duration": 17,
    "start_time": "2022-01-07T19:18:00.071Z"
   },
   {
    "duration": 10,
    "start_time": "2022-01-07T19:18:10.191Z"
   },
   {
    "duration": 5,
    "start_time": "2022-01-07T19:18:15.088Z"
   },
   {
    "duration": 823,
    "start_time": "2022-01-07T19:19:25.588Z"
   },
   {
    "duration": 15,
    "start_time": "2022-01-07T19:19:26.414Z"
   },
   {
    "duration": 82,
    "start_time": "2022-01-07T19:19:26.435Z"
   },
   {
    "duration": 15,
    "start_time": "2022-01-07T19:19:26.520Z"
   },
   {
    "duration": 783,
    "start_time": "2022-01-07T19:19:32.611Z"
   },
   {
    "duration": 17,
    "start_time": "2022-01-07T19:19:33.397Z"
   },
   {
    "duration": 77,
    "start_time": "2022-01-07T19:19:33.417Z"
   },
   {
    "duration": 12,
    "start_time": "2022-01-07T19:19:33.496Z"
   },
   {
    "duration": 19,
    "start_time": "2022-01-07T19:19:33.511Z"
   },
   {
    "duration": 35,
    "start_time": "2022-01-07T19:19:33.534Z"
   },
   {
    "duration": 10,
    "start_time": "2022-01-07T19:19:33.572Z"
   },
   {
    "duration": 6,
    "start_time": "2022-01-07T19:19:33.585Z"
   },
   {
    "duration": 10,
    "start_time": "2022-01-07T19:19:33.595Z"
   },
   {
    "duration": 51,
    "start_time": "2022-01-07T19:19:33.608Z"
   },
   {
    "duration": 14,
    "start_time": "2022-01-07T19:19:33.661Z"
   },
   {
    "duration": 8,
    "start_time": "2022-01-07T19:19:33.677Z"
   },
   {
    "duration": 9,
    "start_time": "2022-01-07T19:19:33.688Z"
   },
   {
    "duration": 4,
    "start_time": "2022-01-07T19:19:33.700Z"
   },
   {
    "duration": 8,
    "start_time": "2022-01-07T19:19:33.707Z"
   },
   {
    "duration": 18,
    "start_time": "2022-01-07T19:19:33.758Z"
   },
   {
    "duration": 5,
    "start_time": "2022-01-07T19:19:33.779Z"
   },
   {
    "duration": 30,
    "start_time": "2022-01-07T19:19:33.787Z"
   },
   {
    "duration": 41,
    "start_time": "2022-01-07T19:19:33.819Z"
   },
   {
    "duration": 30,
    "start_time": "2022-01-07T19:19:33.863Z"
   },
   {
    "duration": 32,
    "start_time": "2022-01-07T19:19:33.896Z"
   },
   {
    "duration": 40,
    "start_time": "2022-01-07T19:19:33.931Z"
   },
   {
    "duration": 11,
    "start_time": "2022-01-07T19:19:33.974Z"
   },
   {
    "duration": 5,
    "start_time": "2022-01-07T19:19:33.987Z"
   },
   {
    "duration": 1463,
    "start_time": "2022-01-07T19:22:14.521Z"
   },
   {
    "duration": 16,
    "start_time": "2022-01-07T19:22:18.723Z"
   },
   {
    "duration": 57,
    "start_time": "2022-01-07T19:22:19.213Z"
   },
   {
    "duration": 13,
    "start_time": "2022-01-07T19:22:19.574Z"
   },
   {
    "duration": 19,
    "start_time": "2022-01-07T19:22:19.846Z"
   },
   {
    "duration": 12,
    "start_time": "2022-01-07T19:22:20.647Z"
   },
   {
    "duration": 8,
    "start_time": "2022-01-07T19:22:21.165Z"
   },
   {
    "duration": 6,
    "start_time": "2022-01-07T19:22:21.698Z"
   },
   {
    "duration": 11,
    "start_time": "2022-01-07T19:22:23.495Z"
   },
   {
    "duration": 4,
    "start_time": "2022-01-07T19:22:24.138Z"
   },
   {
    "duration": 14,
    "start_time": "2022-01-07T19:22:24.660Z"
   },
   {
    "duration": 6,
    "start_time": "2022-01-07T19:22:25.115Z"
   },
   {
    "duration": 12,
    "start_time": "2022-01-07T19:22:26.006Z"
   },
   {
    "duration": 4,
    "start_time": "2022-01-07T19:22:26.834Z"
   },
   {
    "duration": 8,
    "start_time": "2022-01-07T19:22:27.013Z"
   },
   {
    "duration": 16,
    "start_time": "2022-01-07T19:22:27.703Z"
   },
   {
    "duration": 5,
    "start_time": "2022-01-07T19:22:28.552Z"
   },
   {
    "duration": 29,
    "start_time": "2022-01-07T19:22:28.910Z"
   },
   {
    "duration": 6,
    "start_time": "2022-01-07T19:22:29.416Z"
   },
   {
    "duration": 29,
    "start_time": "2022-01-07T19:22:30.892Z"
   },
   {
    "duration": 41,
    "start_time": "2022-01-07T19:22:31.077Z"
   },
   {
    "duration": 22,
    "start_time": "2022-01-07T19:22:31.244Z"
   },
   {
    "duration": 9,
    "start_time": "2022-01-07T19:22:33.152Z"
   },
   {
    "duration": 5,
    "start_time": "2022-01-07T19:22:33.327Z"
   },
   {
    "duration": 850,
    "start_time": "2022-01-07T19:23:02.161Z"
   },
   {
    "duration": 16,
    "start_time": "2022-01-07T19:23:03.503Z"
   },
   {
    "duration": 58,
    "start_time": "2022-01-07T19:23:03.671Z"
   },
   {
    "duration": 12,
    "start_time": "2022-01-07T19:23:03.842Z"
   },
   {
    "duration": 19,
    "start_time": "2022-01-07T19:23:04.016Z"
   },
   {
    "duration": 11,
    "start_time": "2022-01-07T19:23:04.757Z"
   },
   {
    "duration": 8,
    "start_time": "2022-01-07T19:23:05.290Z"
   },
   {
    "duration": 6,
    "start_time": "2022-01-07T19:23:05.841Z"
   },
   {
    "duration": 10,
    "start_time": "2022-01-07T19:23:07.726Z"
   },
   {
    "duration": 5,
    "start_time": "2022-01-07T19:23:08.284Z"
   },
   {
    "duration": 15,
    "start_time": "2022-01-07T19:23:08.463Z"
   },
   {
    "duration": 5,
    "start_time": "2022-01-07T19:23:08.653Z"
   },
   {
    "duration": 10,
    "start_time": "2022-01-07T19:23:09.527Z"
   },
   {
    "duration": 5,
    "start_time": "2022-01-07T19:23:11.623Z"
   },
   {
    "duration": 8,
    "start_time": "2022-01-07T19:23:11.805Z"
   },
   {
    "duration": 13,
    "start_time": "2022-01-07T19:23:12.543Z"
   },
   {
    "duration": 5,
    "start_time": "2022-01-07T19:23:14.697Z"
   },
   {
    "duration": 26,
    "start_time": "2022-01-07T19:23:15.068Z"
   },
   {
    "duration": 6,
    "start_time": "2022-01-07T19:23:17.294Z"
   },
   {
    "duration": 25,
    "start_time": "2022-01-07T19:23:21.495Z"
   },
   {
    "duration": 28,
    "start_time": "2022-01-07T19:23:22.004Z"
   },
   {
    "duration": 15,
    "start_time": "2022-01-07T19:23:22.578Z"
   },
   {
    "duration": 13,
    "start_time": "2022-01-07T19:23:26.096Z"
   },
   {
    "duration": 5,
    "start_time": "2022-01-07T19:23:26.656Z"
   },
   {
    "duration": 4,
    "start_time": "2022-01-07T19:23:28.945Z"
   },
   {
    "duration": 10,
    "start_time": "2022-01-07T19:23:29.627Z"
   },
   {
    "duration": 5,
    "start_time": "2022-01-07T19:23:32.288Z"
   },
   {
    "duration": 12,
    "start_time": "2022-01-07T19:23:32.480Z"
   },
   {
    "duration": 770,
    "start_time": "2022-01-07T19:24:42.525Z"
   },
   {
    "duration": 4,
    "start_time": "2022-01-07T19:24:45.040Z"
   },
   {
    "duration": 57,
    "start_time": "2022-01-07T19:24:45.445Z"
   },
   {
    "duration": 210,
    "start_time": "2022-01-07T19:24:45.592Z"
   },
   {
    "duration": 4,
    "start_time": "2022-01-07T19:24:53.008Z"
   },
   {
    "duration": 35,
    "start_time": "2022-01-07T19:24:53.456Z"
   },
   {
    "duration": 272,
    "start_time": "2022-01-07T19:24:53.951Z"
   },
   {
    "duration": 3,
    "start_time": "2022-01-07T19:25:29.633Z"
   },
   {
    "duration": 34,
    "start_time": "2022-01-07T19:25:30.169Z"
   },
   {
    "duration": 244,
    "start_time": "2022-01-07T19:25:31.288Z"
   },
   {
    "duration": 3,
    "start_time": "2022-01-07T19:25:36.216Z"
   },
   {
    "duration": 432,
    "start_time": "2022-01-07T19:25:38.698Z"
   },
   {
    "duration": 7157,
    "start_time": "2022-01-07T19:25:41.483Z"
   },
   {
    "duration": 824,
    "start_time": "2022-01-07T22:49:26.378Z"
   },
   {
    "duration": 16,
    "start_time": "2022-01-07T22:49:27.205Z"
   },
   {
    "duration": 79,
    "start_time": "2022-01-07T22:49:27.224Z"
   },
   {
    "duration": 12,
    "start_time": "2022-01-07T22:49:27.305Z"
   },
   {
    "duration": 19,
    "start_time": "2022-01-07T22:49:27.320Z"
   },
   {
    "duration": 11,
    "start_time": "2022-01-07T22:49:27.364Z"
   },
   {
    "duration": 8,
    "start_time": "2022-01-07T22:49:27.377Z"
   },
   {
    "duration": 6,
    "start_time": "2022-01-07T22:49:27.389Z"
   },
   {
    "duration": 10,
    "start_time": "2022-01-07T22:49:27.398Z"
   },
   {
    "duration": 53,
    "start_time": "2022-01-07T22:49:27.410Z"
   },
   {
    "duration": 13,
    "start_time": "2022-01-07T22:49:27.466Z"
   },
   {
    "duration": 8,
    "start_time": "2022-01-07T22:49:27.481Z"
   },
   {
    "duration": 10,
    "start_time": "2022-01-07T22:49:27.492Z"
   },
   {
    "duration": 4,
    "start_time": "2022-01-07T22:49:27.504Z"
   },
   {
    "duration": 9,
    "start_time": "2022-01-07T22:49:27.511Z"
   },
   {
    "duration": 51,
    "start_time": "2022-01-07T22:49:27.522Z"
   },
   {
    "duration": 4,
    "start_time": "2022-01-07T22:49:27.576Z"
   },
   {
    "duration": 28,
    "start_time": "2022-01-07T22:49:27.582Z"
   },
   {
    "duration": 4,
    "start_time": "2022-01-07T22:49:27.612Z"
   },
   {
    "duration": 61,
    "start_time": "2022-01-07T22:49:27.618Z"
   },
   {
    "duration": 28,
    "start_time": "2022-01-07T22:49:27.681Z"
   },
   {
    "duration": 15,
    "start_time": "2022-01-07T22:49:27.711Z"
   },
   {
    "duration": 33,
    "start_time": "2022-01-07T22:49:27.731Z"
   },
   {
    "duration": 5,
    "start_time": "2022-01-07T22:49:27.767Z"
   },
   {
    "duration": 5603,
    "start_time": "2022-01-07T22:49:27.775Z"
   },
   {
    "duration": 6,
    "start_time": "2022-01-07T22:49:33.381Z"
   },
   {
    "duration": 13,
    "start_time": "2022-01-07T22:49:33.389Z"
   },
   {
    "duration": 6,
    "start_time": "2022-01-07T22:49:33.405Z"
   },
   {
    "duration": 16,
    "start_time": "2022-01-07T22:49:33.413Z"
   },
   {
    "duration": 736,
    "start_time": "2022-01-07T22:49:33.432Z"
   },
   {
    "duration": 3,
    "start_time": "2022-01-07T22:49:34.171Z"
   },
   {
    "duration": 44,
    "start_time": "2022-01-07T22:49:34.177Z"
   },
   {
    "duration": 250,
    "start_time": "2022-01-07T22:49:34.224Z"
   },
   {
    "duration": 3,
    "start_time": "2022-01-07T22:49:34.476Z"
   },
   {
    "duration": 35,
    "start_time": "2022-01-07T22:49:34.482Z"
   },
   {
    "duration": 299,
    "start_time": "2022-01-07T22:49:34.520Z"
   },
   {
    "duration": 3,
    "start_time": "2022-01-07T22:49:34.822Z"
   },
   {
    "duration": 52,
    "start_time": "2022-01-07T22:49:34.827Z"
   },
   {
    "duration": 260,
    "start_time": "2022-01-07T22:49:34.882Z"
   },
   {
    "duration": 3,
    "start_time": "2022-01-07T22:49:35.145Z"
   },
   {
    "duration": 37,
    "start_time": "2022-01-07T22:49:35.162Z"
   },
   {
    "duration": 279,
    "start_time": "2022-01-07T22:49:35.201Z"
   }
  ],
  "celltoolbar": "Отсутствует",
  "kernelspec": {
   "display_name": "Python 3 (ipykernel)",
   "language": "python",
   "name": "python3"
  },
  "language_info": {
   "codemirror_mode": {
    "name": "ipython",
    "version": 3
   },
   "file_extension": ".py",
   "mimetype": "text/x-python",
   "name": "python",
   "nbconvert_exporter": "python",
   "pygments_lexer": "ipython3",
   "version": "3.9.7"
  },
  "toc": {
   "base_numbering": 1,
   "nav_menu": {
    "height": "226.983px",
    "width": "295.983px"
   },
   "number_sections": true,
   "sideBar": true,
   "skip_h1_title": true,
   "title_cell": "Table of Contents",
   "title_sidebar": "Contents",
   "toc_cell": false,
   "toc_position": {
    "height": "calc(100% - 180px)",
    "left": "10px",
    "top": "150px",
    "width": "165px"
   },
   "toc_section_display": true,
   "toc_window_display": false
  }
 },
 "nbformat": 4,
 "nbformat_minor": 2
}

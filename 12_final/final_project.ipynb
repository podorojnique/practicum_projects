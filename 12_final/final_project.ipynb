{
 "cells": [
  {
   "cell_type": "markdown",
   "metadata": {},
   "source": [
    "# Финальный проект \"Игры — Анализ рекламных источников\""
   ]
  },
  {
   "cell_type": "markdown",
   "metadata": {},
   "source": [
    "Основной датасет содержит данные о событиях, совершенных в мобильной игре «Космические братья». В ней пользователи строят свою космическую программу и пытаются преуспеть в нелёгком деле колонизации галактики.\n",
    "\n",
    "Основная монетизация игры — только планируется. Но предполагается, что в приложении будет происходить показ рекламы на экране с выбором типа объекта для постройки.\n",
    "\n",
    "В датасете представлены данные по игре пользователей на первом уровне. Завершение первого уровня требует от игрока выполнения одного из двух условий:\n",
    "* Победа над первым врагом\n",
    "* Реализация проекта - разработка орбитальной сборки спутников\n",
    "\n",
    "В датасете содержатся данные первых пользователей приложения — когорты пользователей, которые начали пользоваться приложением в период с 4 по 10 мая включительно.\n",
    "\n",
    "Датасет **`game_actions.csv`**:\n",
    "* `event_datetime` — время события;\n",
    "* `event` — одно из трёх событий:\n",
    "1. `building` — объект построен,\n",
    "2. `finished_stage_1` — первый уровень завершён,\n",
    "3. `project` — проект завершён;\n",
    "* `building_type` — один из трёх типов здания:\n",
    "1. `assembly_shop` — сборочный цех,\n",
    "2. `spaceport` — космопорт,\n",
    "3. `research_center` — исследовательский центр;\n",
    "* `user_id` — идентификатор пользователя;\n",
    "* `project_type` — тип реализованного проекта;\n",
    "\n",
    "Помимо основного датасета есть два датасета с информацией о рекламных активностях. Они также помогут в решении задачи.\n",
    "\n",
    "Датасет **`ad_cost.csv`**:\n",
    "* `day` - день, в который был совершен клик по объявлению\n",
    "* `source` - источник трафика\n",
    "* `cost` - стоимость кликов\n",
    "\n",
    "Датасет **`user_source.csv`** содержит колонки:\n",
    "* `user_id` - идентификатор пользователя\n",
    "* `source` - источников, с которого пришёл пользователь, установивший приложение."
   ]
  },
  {
   "cell_type": "markdown",
   "metadata": {},
   "source": [
    "# Ссылка на презентацию"
   ]
  },
  {
   "cell_type": "markdown",
   "metadata": {},
   "source": [
    "https://disk.yandex.ru/i/gCxqDZzbmRl_VA"
   ]
  },
  {
   "cell_type": "markdown",
   "metadata": {},
   "source": [
    "**Чек-лист проекта**\n",
    "\n",
    "- [x] **Загрузка данных и библиотек**\n",
    "- [x] **Предобработка данных**\n",
    "- [x] Проверить пропущенные значения и при необходимости обработать их их\n",
    "- [x] Проверить соответствие типов данных и при необходимости привести к нужным\n",
    "- [x] Проверить дубликаты и при необходимости удалить их\n",
    "- [x] Проверить корректность названий столбцов и при необходимости переименовать\n",
    "- [x] **Исследовательский анализ данных**\n",
    "- [x] Среднее количество событий\n",
    "- [x] Среднее время окончания 1го уровня\n",
    "- [X] Количество пользователей завершивших 1ый уровень через реализацию проекта и победу над другим игроком\n",
    "- [X] Количество посещений приложения в день\n",
    "- [X] Расчет стоимости привлечения новых клиентов CAC\n",
    "- [X] Вывод о возможных способах монетизации\n",
    "- [X] **Статистический анализ**\n",
    "- [X] Время завершения уровня различается в зависимости способа прохождения\n",
    "- [X] Количество построек различается в зависимости способа прохождения\n",
    "- [X] Общий вывод\n",
    "- [x] **Презентация**"
   ]
  },
  {
   "cell_type": "markdown",
   "metadata": {},
   "source": [
    "## Загрузка данных и библиотек"
   ]
  },
  {
   "cell_type": "markdown",
   "metadata": {},
   "source": [
    "Перед началом работы сданными загрузим необходимые библиотеки:"
   ]
  },
  {
   "cell_type": "code",
   "execution_count": 1,
   "metadata": {},
   "outputs": [],
   "source": [
    "# импортируем библиотеки для работы с данными, графиками и математическими операторами\n",
    "import pandas as pd\n",
    "import matplotlib.pyplot as plt\n",
    "import seaborn as sns\n",
    "import warnings\n",
    "warnings.simplefilter(action='ignore', category=FutureWarning)\n",
    "import scipy.stats as stats"
   ]
  },
  {
   "cell_type": "markdown",
   "metadata": {},
   "source": [
    "Далее прочитаем заданный датафрейм:"
   ]
  },
  {
   "cell_type": "code",
   "execution_count": 2,
   "metadata": {},
   "outputs": [],
   "source": [
    "# два варианта загрузки датафреймов через связку try-except, \n",
    "try:\n",
    "  df_actions = pd.read_csv('/datasets/game_actions.csv')\n",
    "  df_ad = pd.read_csv('/datasets/ad_costs.csv')\n",
    "  df_users = pd.read_csv('/datasets/user_source.csv')\n",
    "except:\n",
    "  df_actions = pd.read_csv('C:/Users/podor/jupyter notes/final_project/game_actions.csv')\n",
    "  df_ad = pd.read_csv('C:/Users/podor/jupyter notes/final_project/ad_costs.csv')\n",
    "  df_users = pd.read_csv('C:/Users/podor/jupyter notes/final_project/user_source.csv')"
   ]
  },
  {
   "cell_type": "markdown",
   "metadata": {},
   "source": [
    "## Предобработка данных"
   ]
  },
  {
   "cell_type": "markdown",
   "metadata": {},
   "source": [
    "### Изучение данных"
   ]
  },
  {
   "cell_type": "markdown",
   "metadata": {},
   "source": [
    "Для изучения данных воспользуемся функцией, которая выводит основную информацию по датафреймам:"
   ]
  },
  {
   "cell_type": "code",
   "execution_count": 3,
   "metadata": {},
   "outputs": [],
   "source": [
    "# воспользуемся функцией автоматизиции вывода первичных данных по заданной таблице\n",
    "def df_analysis(dataframe):\n",
    "    \"\"\"\n",
    "    На вход функция принимает датафрейм.\n",
    "    Выводит поэтапно на экран информацию по таблице методом info(),\n",
    "    10 первых строчек методом head(), описание данных таблицы методом describe(), \n",
    "    а также выводит долю пропусков по столбцам с количеством дубликатов по всей таблице.\n",
    "    \"\"\"\n",
    "    dataframe.info()\n",
    "    print('*'*50)\n",
    "    display(dataframe.head(10))\n",
    "    print('*'*50)\n",
    "    display(dataframe.describe())\n",
    "    print('*'*50)\n",
    "    print(f'Доля пропусков в таблице {dataframe.isna().mean().apply(\"{:.2%}\".format)}, количество дубликатов {dataframe.duplicated().sum()}')\n",
    "    print('*'*50)"
   ]
  },
  {
   "cell_type": "markdown",
   "metadata": {},
   "source": [
    "Далее применим функцию для представленных датасетов:"
   ]
  },
  {
   "cell_type": "code",
   "execution_count": 4,
   "metadata": {
    "scrolled": false
   },
   "outputs": [
    {
     "name": "stdout",
     "output_type": "stream",
     "text": [
      "<class 'pandas.core.frame.DataFrame'>\n",
      "RangeIndex: 135640 entries, 0 to 135639\n",
      "Data columns (total 5 columns):\n",
      " #   Column          Non-Null Count   Dtype \n",
      "---  ------          --------------   ----- \n",
      " 0   event_datetime  135640 non-null  object\n",
      " 1   event           135640 non-null  object\n",
      " 2   building_type   127957 non-null  object\n",
      " 3   user_id         135640 non-null  object\n",
      " 4   project_type    1866 non-null    object\n",
      "dtypes: object(5)\n",
      "memory usage: 5.2+ MB\n",
      "**************************************************\n"
     ]
    },
    {
     "data": {
      "text/html": [
       "<div>\n",
       "<style scoped>\n",
       "    .dataframe tbody tr th:only-of-type {\n",
       "        vertical-align: middle;\n",
       "    }\n",
       "\n",
       "    .dataframe tbody tr th {\n",
       "        vertical-align: top;\n",
       "    }\n",
       "\n",
       "    .dataframe thead th {\n",
       "        text-align: right;\n",
       "    }\n",
       "</style>\n",
       "<table border=\"1\" class=\"dataframe\">\n",
       "  <thead>\n",
       "    <tr style=\"text-align: right;\">\n",
       "      <th></th>\n",
       "      <th>event_datetime</th>\n",
       "      <th>event</th>\n",
       "      <th>building_type</th>\n",
       "      <th>user_id</th>\n",
       "      <th>project_type</th>\n",
       "    </tr>\n",
       "  </thead>\n",
       "  <tbody>\n",
       "    <tr>\n",
       "      <th>0</th>\n",
       "      <td>2020-05-04 00:00:01</td>\n",
       "      <td>building</td>\n",
       "      <td>assembly_shop</td>\n",
       "      <td>55e92310-cb8e-4754-b622-597e124b03de</td>\n",
       "      <td>NaN</td>\n",
       "    </tr>\n",
       "    <tr>\n",
       "      <th>1</th>\n",
       "      <td>2020-05-04 00:00:03</td>\n",
       "      <td>building</td>\n",
       "      <td>assembly_shop</td>\n",
       "      <td>c07b1c10-f477-44dc-81dc-ec82254b1347</td>\n",
       "      <td>NaN</td>\n",
       "    </tr>\n",
       "    <tr>\n",
       "      <th>2</th>\n",
       "      <td>2020-05-04 00:00:16</td>\n",
       "      <td>building</td>\n",
       "      <td>assembly_shop</td>\n",
       "      <td>6edd42cc-e753-4ff6-a947-2107cd560710</td>\n",
       "      <td>NaN</td>\n",
       "    </tr>\n",
       "    <tr>\n",
       "      <th>3</th>\n",
       "      <td>2020-05-04 00:00:16</td>\n",
       "      <td>building</td>\n",
       "      <td>assembly_shop</td>\n",
       "      <td>92c69003-d60a-444a-827f-8cc51bf6bf4c</td>\n",
       "      <td>NaN</td>\n",
       "    </tr>\n",
       "    <tr>\n",
       "      <th>4</th>\n",
       "      <td>2020-05-04 00:00:35</td>\n",
       "      <td>building</td>\n",
       "      <td>assembly_shop</td>\n",
       "      <td>cdc6bb92-0ccb-4490-9866-ef142f09139d</td>\n",
       "      <td>NaN</td>\n",
       "    </tr>\n",
       "    <tr>\n",
       "      <th>5</th>\n",
       "      <td>2020-05-04 00:00:36</td>\n",
       "      <td>building</td>\n",
       "      <td>assembly_shop</td>\n",
       "      <td>06c592ca-902d-42bb-bac3-75ce84cca159</td>\n",
       "      <td>NaN</td>\n",
       "    </tr>\n",
       "    <tr>\n",
       "      <th>6</th>\n",
       "      <td>2020-05-04 00:00:36</td>\n",
       "      <td>building</td>\n",
       "      <td>assembly_shop</td>\n",
       "      <td>4fe0f101-694b-4e31-9740-d1d87f7208ea</td>\n",
       "      <td>NaN</td>\n",
       "    </tr>\n",
       "    <tr>\n",
       "      <th>7</th>\n",
       "      <td>2020-05-04 00:00:38</td>\n",
       "      <td>building</td>\n",
       "      <td>assembly_shop</td>\n",
       "      <td>beb8ca15-33a9-465d-b47b-89aa96f89c9a</td>\n",
       "      <td>NaN</td>\n",
       "    </tr>\n",
       "    <tr>\n",
       "      <th>8</th>\n",
       "      <td>2020-05-04 00:00:44</td>\n",
       "      <td>building</td>\n",
       "      <td>assembly_shop</td>\n",
       "      <td>65a92713-5969-48b1-8945-bfefa5063887</td>\n",
       "      <td>NaN</td>\n",
       "    </tr>\n",
       "    <tr>\n",
       "      <th>9</th>\n",
       "      <td>2020-05-04 00:01:33</td>\n",
       "      <td>building</td>\n",
       "      <td>assembly_shop</td>\n",
       "      <td>fa352362-d258-472c-b295-2796ccc39fa3</td>\n",
       "      <td>NaN</td>\n",
       "    </tr>\n",
       "  </tbody>\n",
       "</table>\n",
       "</div>"
      ],
      "text/plain": [
       "        event_datetime     event  building_type  \\\n",
       "0  2020-05-04 00:00:01  building  assembly_shop   \n",
       "1  2020-05-04 00:00:03  building  assembly_shop   \n",
       "2  2020-05-04 00:00:16  building  assembly_shop   \n",
       "3  2020-05-04 00:00:16  building  assembly_shop   \n",
       "4  2020-05-04 00:00:35  building  assembly_shop   \n",
       "5  2020-05-04 00:00:36  building  assembly_shop   \n",
       "6  2020-05-04 00:00:36  building  assembly_shop   \n",
       "7  2020-05-04 00:00:38  building  assembly_shop   \n",
       "8  2020-05-04 00:00:44  building  assembly_shop   \n",
       "9  2020-05-04 00:01:33  building  assembly_shop   \n",
       "\n",
       "                                user_id project_type  \n",
       "0  55e92310-cb8e-4754-b622-597e124b03de          NaN  \n",
       "1  c07b1c10-f477-44dc-81dc-ec82254b1347          NaN  \n",
       "2  6edd42cc-e753-4ff6-a947-2107cd560710          NaN  \n",
       "3  92c69003-d60a-444a-827f-8cc51bf6bf4c          NaN  \n",
       "4  cdc6bb92-0ccb-4490-9866-ef142f09139d          NaN  \n",
       "5  06c592ca-902d-42bb-bac3-75ce84cca159          NaN  \n",
       "6  4fe0f101-694b-4e31-9740-d1d87f7208ea          NaN  \n",
       "7  beb8ca15-33a9-465d-b47b-89aa96f89c9a          NaN  \n",
       "8  65a92713-5969-48b1-8945-bfefa5063887          NaN  \n",
       "9  fa352362-d258-472c-b295-2796ccc39fa3          NaN  "
      ]
     },
     "metadata": {},
     "output_type": "display_data"
    },
    {
     "name": "stdout",
     "output_type": "stream",
     "text": [
      "**************************************************\n"
     ]
    },
    {
     "data": {
      "text/html": [
       "<div>\n",
       "<style scoped>\n",
       "    .dataframe tbody tr th:only-of-type {\n",
       "        vertical-align: middle;\n",
       "    }\n",
       "\n",
       "    .dataframe tbody tr th {\n",
       "        vertical-align: top;\n",
       "    }\n",
       "\n",
       "    .dataframe thead th {\n",
       "        text-align: right;\n",
       "    }\n",
       "</style>\n",
       "<table border=\"1\" class=\"dataframe\">\n",
       "  <thead>\n",
       "    <tr style=\"text-align: right;\">\n",
       "      <th></th>\n",
       "      <th>event_datetime</th>\n",
       "      <th>event</th>\n",
       "      <th>building_type</th>\n",
       "      <th>user_id</th>\n",
       "      <th>project_type</th>\n",
       "    </tr>\n",
       "  </thead>\n",
       "  <tbody>\n",
       "    <tr>\n",
       "      <th>count</th>\n",
       "      <td>135640</td>\n",
       "      <td>135640</td>\n",
       "      <td>127957</td>\n",
       "      <td>135640</td>\n",
       "      <td>1866</td>\n",
       "    </tr>\n",
       "    <tr>\n",
       "      <th>unique</th>\n",
       "      <td>128790</td>\n",
       "      <td>3</td>\n",
       "      <td>3</td>\n",
       "      <td>13576</td>\n",
       "      <td>1</td>\n",
       "    </tr>\n",
       "    <tr>\n",
       "      <th>top</th>\n",
       "      <td>2020-05-09 08:39:32</td>\n",
       "      <td>building</td>\n",
       "      <td>spaceport</td>\n",
       "      <td>ff841992-d93b-462e-bc6e-18c24a514f36</td>\n",
       "      <td>satellite_orbital_assembly</td>\n",
       "    </tr>\n",
       "    <tr>\n",
       "      <th>freq</th>\n",
       "      <td>4</td>\n",
       "      <td>127957</td>\n",
       "      <td>59325</td>\n",
       "      <td>22</td>\n",
       "      <td>1866</td>\n",
       "    </tr>\n",
       "  </tbody>\n",
       "</table>\n",
       "</div>"
      ],
      "text/plain": [
       "             event_datetime     event building_type  \\\n",
       "count                135640    135640        127957   \n",
       "unique               128790         3             3   \n",
       "top     2020-05-09 08:39:32  building     spaceport   \n",
       "freq                      4    127957         59325   \n",
       "\n",
       "                                     user_id                project_type  \n",
       "count                                 135640                        1866  \n",
       "unique                                 13576                           1  \n",
       "top     ff841992-d93b-462e-bc6e-18c24a514f36  satellite_orbital_assembly  \n",
       "freq                                      22                        1866  "
      ]
     },
     "metadata": {},
     "output_type": "display_data"
    },
    {
     "name": "stdout",
     "output_type": "stream",
     "text": [
      "**************************************************\n",
      "Доля пропусков в таблице event_datetime     0.00%\n",
      "event              0.00%\n",
      "building_type      5.66%\n",
      "user_id            0.00%\n",
      "project_type      98.62%\n",
      "dtype: object, количество дубликатов 1\n",
      "**************************************************\n"
     ]
    }
   ],
   "source": [
    "# с помощью функции df_analysis выведем первичную информацию по заданной таблице\n",
    "df_analysis(df_actions)"
   ]
  },
  {
   "cell_type": "code",
   "execution_count": 5,
   "metadata": {
    "scrolled": false
   },
   "outputs": [
    {
     "name": "stdout",
     "output_type": "stream",
     "text": [
      "<class 'pandas.core.frame.DataFrame'>\n",
      "RangeIndex: 28 entries, 0 to 27\n",
      "Data columns (total 3 columns):\n",
      " #   Column  Non-Null Count  Dtype  \n",
      "---  ------  --------------  -----  \n",
      " 0   source  28 non-null     object \n",
      " 1   day     28 non-null     object \n",
      " 2   cost    28 non-null     float64\n",
      "dtypes: float64(1), object(2)\n",
      "memory usage: 800.0+ bytes\n",
      "**************************************************\n"
     ]
    },
    {
     "data": {
      "text/html": [
       "<div>\n",
       "<style scoped>\n",
       "    .dataframe tbody tr th:only-of-type {\n",
       "        vertical-align: middle;\n",
       "    }\n",
       "\n",
       "    .dataframe tbody tr th {\n",
       "        vertical-align: top;\n",
       "    }\n",
       "\n",
       "    .dataframe thead th {\n",
       "        text-align: right;\n",
       "    }\n",
       "</style>\n",
       "<table border=\"1\" class=\"dataframe\">\n",
       "  <thead>\n",
       "    <tr style=\"text-align: right;\">\n",
       "      <th></th>\n",
       "      <th>source</th>\n",
       "      <th>day</th>\n",
       "      <th>cost</th>\n",
       "    </tr>\n",
       "  </thead>\n",
       "  <tbody>\n",
       "    <tr>\n",
       "      <th>0</th>\n",
       "      <td>facebook_ads</td>\n",
       "      <td>2020-05-03</td>\n",
       "      <td>935.882786</td>\n",
       "    </tr>\n",
       "    <tr>\n",
       "      <th>1</th>\n",
       "      <td>facebook_ads</td>\n",
       "      <td>2020-05-04</td>\n",
       "      <td>548.354480</td>\n",
       "    </tr>\n",
       "    <tr>\n",
       "      <th>2</th>\n",
       "      <td>facebook_ads</td>\n",
       "      <td>2020-05-05</td>\n",
       "      <td>260.185754</td>\n",
       "    </tr>\n",
       "    <tr>\n",
       "      <th>3</th>\n",
       "      <td>facebook_ads</td>\n",
       "      <td>2020-05-06</td>\n",
       "      <td>177.982200</td>\n",
       "    </tr>\n",
       "    <tr>\n",
       "      <th>4</th>\n",
       "      <td>facebook_ads</td>\n",
       "      <td>2020-05-07</td>\n",
       "      <td>111.766796</td>\n",
       "    </tr>\n",
       "    <tr>\n",
       "      <th>5</th>\n",
       "      <td>facebook_ads</td>\n",
       "      <td>2020-05-08</td>\n",
       "      <td>68.009276</td>\n",
       "    </tr>\n",
       "    <tr>\n",
       "      <th>6</th>\n",
       "      <td>facebook_ads</td>\n",
       "      <td>2020-05-09</td>\n",
       "      <td>38.723350</td>\n",
       "    </tr>\n",
       "    <tr>\n",
       "      <th>7</th>\n",
       "      <td>instagram_new_adverts</td>\n",
       "      <td>2020-05-03</td>\n",
       "      <td>943.204717</td>\n",
       "    </tr>\n",
       "    <tr>\n",
       "      <th>8</th>\n",
       "      <td>instagram_new_adverts</td>\n",
       "      <td>2020-05-04</td>\n",
       "      <td>502.925451</td>\n",
       "    </tr>\n",
       "    <tr>\n",
       "      <th>9</th>\n",
       "      <td>instagram_new_adverts</td>\n",
       "      <td>2020-05-05</td>\n",
       "      <td>313.970984</td>\n",
       "    </tr>\n",
       "  </tbody>\n",
       "</table>\n",
       "</div>"
      ],
      "text/plain": [
       "                  source         day        cost\n",
       "0           facebook_ads  2020-05-03  935.882786\n",
       "1           facebook_ads  2020-05-04  548.354480\n",
       "2           facebook_ads  2020-05-05  260.185754\n",
       "3           facebook_ads  2020-05-06  177.982200\n",
       "4           facebook_ads  2020-05-07  111.766796\n",
       "5           facebook_ads  2020-05-08   68.009276\n",
       "6           facebook_ads  2020-05-09   38.723350\n",
       "7  instagram_new_adverts  2020-05-03  943.204717\n",
       "8  instagram_new_adverts  2020-05-04  502.925451\n",
       "9  instagram_new_adverts  2020-05-05  313.970984"
      ]
     },
     "metadata": {},
     "output_type": "display_data"
    },
    {
     "name": "stdout",
     "output_type": "stream",
     "text": [
      "**************************************************\n"
     ]
    },
    {
     "data": {
      "text/html": [
       "<div>\n",
       "<style scoped>\n",
       "    .dataframe tbody tr th:only-of-type {\n",
       "        vertical-align: middle;\n",
       "    }\n",
       "\n",
       "    .dataframe tbody tr th {\n",
       "        vertical-align: top;\n",
       "    }\n",
       "\n",
       "    .dataframe thead th {\n",
       "        text-align: right;\n",
       "    }\n",
       "</style>\n",
       "<table border=\"1\" class=\"dataframe\">\n",
       "  <thead>\n",
       "    <tr style=\"text-align: right;\">\n",
       "      <th></th>\n",
       "      <th>cost</th>\n",
       "    </tr>\n",
       "  </thead>\n",
       "  <tbody>\n",
       "    <tr>\n",
       "      <th>count</th>\n",
       "      <td>28.000000</td>\n",
       "    </tr>\n",
       "    <tr>\n",
       "      <th>mean</th>\n",
       "      <td>271.556321</td>\n",
       "    </tr>\n",
       "    <tr>\n",
       "      <th>std</th>\n",
       "      <td>286.867650</td>\n",
       "    </tr>\n",
       "    <tr>\n",
       "      <th>min</th>\n",
       "      <td>23.314669</td>\n",
       "    </tr>\n",
       "    <tr>\n",
       "      <th>25%</th>\n",
       "      <td>66.747365</td>\n",
       "    </tr>\n",
       "    <tr>\n",
       "      <th>50%</th>\n",
       "      <td>160.056443</td>\n",
       "    </tr>\n",
       "    <tr>\n",
       "      <th>75%</th>\n",
       "      <td>349.034473</td>\n",
       "    </tr>\n",
       "    <tr>\n",
       "      <th>max</th>\n",
       "      <td>969.139394</td>\n",
       "    </tr>\n",
       "  </tbody>\n",
       "</table>\n",
       "</div>"
      ],
      "text/plain": [
       "             cost\n",
       "count   28.000000\n",
       "mean   271.556321\n",
       "std    286.867650\n",
       "min     23.314669\n",
       "25%     66.747365\n",
       "50%    160.056443\n",
       "75%    349.034473\n",
       "max    969.139394"
      ]
     },
     "metadata": {},
     "output_type": "display_data"
    },
    {
     "name": "stdout",
     "output_type": "stream",
     "text": [
      "**************************************************\n",
      "Доля пропусков в таблице source    0.00%\n",
      "day       0.00%\n",
      "cost      0.00%\n",
      "dtype: object, количество дубликатов 0\n",
      "**************************************************\n"
     ]
    }
   ],
   "source": [
    "# с помощью функции df_analysis выведем первичную информацию по заданной таблице\n",
    "df_analysis(df_ad)"
   ]
  },
  {
   "cell_type": "code",
   "execution_count": 6,
   "metadata": {
    "scrolled": false
   },
   "outputs": [
    {
     "name": "stdout",
     "output_type": "stream",
     "text": [
      "<class 'pandas.core.frame.DataFrame'>\n",
      "RangeIndex: 13576 entries, 0 to 13575\n",
      "Data columns (total 2 columns):\n",
      " #   Column   Non-Null Count  Dtype \n",
      "---  ------   --------------  ----- \n",
      " 0   user_id  13576 non-null  object\n",
      " 1   source   13576 non-null  object\n",
      "dtypes: object(2)\n",
      "memory usage: 212.2+ KB\n",
      "**************************************************\n"
     ]
    },
    {
     "data": {
      "text/html": [
       "<div>\n",
       "<style scoped>\n",
       "    .dataframe tbody tr th:only-of-type {\n",
       "        vertical-align: middle;\n",
       "    }\n",
       "\n",
       "    .dataframe tbody tr th {\n",
       "        vertical-align: top;\n",
       "    }\n",
       "\n",
       "    .dataframe thead th {\n",
       "        text-align: right;\n",
       "    }\n",
       "</style>\n",
       "<table border=\"1\" class=\"dataframe\">\n",
       "  <thead>\n",
       "    <tr style=\"text-align: right;\">\n",
       "      <th></th>\n",
       "      <th>user_id</th>\n",
       "      <th>source</th>\n",
       "    </tr>\n",
       "  </thead>\n",
       "  <tbody>\n",
       "    <tr>\n",
       "      <th>0</th>\n",
       "      <td>0001f83c-c6ac-4621-b7f0-8a28b283ac30</td>\n",
       "      <td>facebook_ads</td>\n",
       "    </tr>\n",
       "    <tr>\n",
       "      <th>1</th>\n",
       "      <td>00151b4f-ba38-44a8-a650-d7cf130a0105</td>\n",
       "      <td>yandex_direct</td>\n",
       "    </tr>\n",
       "    <tr>\n",
       "      <th>2</th>\n",
       "      <td>001aaea6-3d14-43f1-8ca8-7f48820f17aa</td>\n",
       "      <td>youtube_channel_reklama</td>\n",
       "    </tr>\n",
       "    <tr>\n",
       "      <th>3</th>\n",
       "      <td>001d39dc-366c-4021-9604-6a3b9ff01e25</td>\n",
       "      <td>instagram_new_adverts</td>\n",
       "    </tr>\n",
       "    <tr>\n",
       "      <th>4</th>\n",
       "      <td>002f508f-67b6-479f-814b-b05f00d4e995</td>\n",
       "      <td>facebook_ads</td>\n",
       "    </tr>\n",
       "    <tr>\n",
       "      <th>5</th>\n",
       "      <td>003b80c6-4164-4157-bb2a-03d0181d39c4</td>\n",
       "      <td>yandex_direct</td>\n",
       "    </tr>\n",
       "    <tr>\n",
       "      <th>6</th>\n",
       "      <td>003ee7e8-6356-4286-a715-62f22a18d2a1</td>\n",
       "      <td>instagram_new_adverts</td>\n",
       "    </tr>\n",
       "    <tr>\n",
       "      <th>7</th>\n",
       "      <td>004074f8-251a-4776-922c-8348dca1a2f6</td>\n",
       "      <td>facebook_ads</td>\n",
       "    </tr>\n",
       "    <tr>\n",
       "      <th>8</th>\n",
       "      <td>00440efd-aa50-4b4b-aae8-ffcd1782729d</td>\n",
       "      <td>facebook_ads</td>\n",
       "    </tr>\n",
       "    <tr>\n",
       "      <th>9</th>\n",
       "      <td>00464e5e-28ed-4be6-bf44-517ef7b3937b</td>\n",
       "      <td>yandex_direct</td>\n",
       "    </tr>\n",
       "  </tbody>\n",
       "</table>\n",
       "</div>"
      ],
      "text/plain": [
       "                                user_id                   source\n",
       "0  0001f83c-c6ac-4621-b7f0-8a28b283ac30             facebook_ads\n",
       "1  00151b4f-ba38-44a8-a650-d7cf130a0105            yandex_direct\n",
       "2  001aaea6-3d14-43f1-8ca8-7f48820f17aa  youtube_channel_reklama\n",
       "3  001d39dc-366c-4021-9604-6a3b9ff01e25    instagram_new_adverts\n",
       "4  002f508f-67b6-479f-814b-b05f00d4e995             facebook_ads\n",
       "5  003b80c6-4164-4157-bb2a-03d0181d39c4            yandex_direct\n",
       "6  003ee7e8-6356-4286-a715-62f22a18d2a1    instagram_new_adverts\n",
       "7  004074f8-251a-4776-922c-8348dca1a2f6             facebook_ads\n",
       "8  00440efd-aa50-4b4b-aae8-ffcd1782729d             facebook_ads\n",
       "9  00464e5e-28ed-4be6-bf44-517ef7b3937b            yandex_direct"
      ]
     },
     "metadata": {},
     "output_type": "display_data"
    },
    {
     "name": "stdout",
     "output_type": "stream",
     "text": [
      "**************************************************\n"
     ]
    },
    {
     "data": {
      "text/html": [
       "<div>\n",
       "<style scoped>\n",
       "    .dataframe tbody tr th:only-of-type {\n",
       "        vertical-align: middle;\n",
       "    }\n",
       "\n",
       "    .dataframe tbody tr th {\n",
       "        vertical-align: top;\n",
       "    }\n",
       "\n",
       "    .dataframe thead th {\n",
       "        text-align: right;\n",
       "    }\n",
       "</style>\n",
       "<table border=\"1\" class=\"dataframe\">\n",
       "  <thead>\n",
       "    <tr style=\"text-align: right;\">\n",
       "      <th></th>\n",
       "      <th>user_id</th>\n",
       "      <th>source</th>\n",
       "    </tr>\n",
       "  </thead>\n",
       "  <tbody>\n",
       "    <tr>\n",
       "      <th>count</th>\n",
       "      <td>13576</td>\n",
       "      <td>13576</td>\n",
       "    </tr>\n",
       "    <tr>\n",
       "      <th>unique</th>\n",
       "      <td>13576</td>\n",
       "      <td>4</td>\n",
       "    </tr>\n",
       "    <tr>\n",
       "      <th>top</th>\n",
       "      <td>8fbdf7af-d60a-4a3e-9b34-cfb4e28b2aa1</td>\n",
       "      <td>yandex_direct</td>\n",
       "    </tr>\n",
       "    <tr>\n",
       "      <th>freq</th>\n",
       "      <td>1</td>\n",
       "      <td>4817</td>\n",
       "    </tr>\n",
       "  </tbody>\n",
       "</table>\n",
       "</div>"
      ],
      "text/plain": [
       "                                     user_id         source\n",
       "count                                  13576          13576\n",
       "unique                                 13576              4\n",
       "top     8fbdf7af-d60a-4a3e-9b34-cfb4e28b2aa1  yandex_direct\n",
       "freq                                       1           4817"
      ]
     },
     "metadata": {},
     "output_type": "display_data"
    },
    {
     "name": "stdout",
     "output_type": "stream",
     "text": [
      "**************************************************\n",
      "Доля пропусков в таблице user_id    0.00%\n",
      "source     0.00%\n",
      "dtype: object, количество дубликатов 0\n",
      "**************************************************\n"
     ]
    }
   ],
   "source": [
    "# с помощью функции df_analysis выведем первичную информацию по заданной таблице\n",
    "df_analysis(df_users)"
   ]
  },
  {
   "cell_type": "markdown",
   "metadata": {},
   "source": [
    "**Предварительный вывод**\n",
    "\n",
    "Данные загружены и проверены. Найдены проблемы в данных.\n",
    "\n",
    "Датафрейм **`df_actions`**:\n",
    "* столбец `event_datetime` содержит данные типа *object*, необходимо изменить на *datetime*;\n",
    "* имеются пропуски в столбцах `building_type` (5,66%) и `project_type` (98,62%). Данные пропуски возникли по причине того, что в первом случае игрок не построил ни одного здания и, скорее всего, ушел в отток. А во втором случае игрок или также ушел в отток или завершил уровень победой над другим игроком. Соответственно данные пропуски оставим без изменений.\n",
    "* в датафрейме присутствует 1 дубликат, необходимо будет его удалить.\n",
    "\n",
    "Датафрейм **`df_ad`**:\n",
    "* столбец `day` содержаться данные типа *object*, необходимо изменить на *datetime*;\n",
    "* пропусков и дубликатов нет.\n",
    "\n",
    "Датафрейм **`df_users`**:\n",
    "* типы данных соответствуют необходимым, пропусков и дубликатов нет."
   ]
  },
  {
   "cell_type": "markdown",
   "metadata": {},
   "source": [
    "### Обработка данных"
   ]
  },
  {
   "cell_type": "markdown",
   "metadata": {},
   "source": [
    "Обработаем вышеупомянутые проблемы датафрейма `df_actions`:"
   ]
  },
  {
   "cell_type": "code",
   "execution_count": 7,
   "metadata": {},
   "outputs": [],
   "source": [
    "# изменим тип данных столбца event_datetime\n",
    "df_actions['event_datetime'] = pd.to_datetime(df_actions['event_datetime'], format='%Y-%m-%dT%H:%M:%S')\n",
    "\n",
    "# удалим присутствующий дубликат и перезапишем датасет\n",
    "df_actions = df_actions.drop_duplicates()"
   ]
  },
  {
   "cell_type": "markdown",
   "metadata": {},
   "source": [
    "Так же обработаем датафрейм `df_ad`:"
   ]
  },
  {
   "cell_type": "code",
   "execution_count": 8,
   "metadata": {},
   "outputs": [],
   "source": [
    "# изменим тип данных столбца day\n",
    "df_ad['day'] = pd.to_datetime(df_ad['day'], format='%Y-%m-%d')"
   ]
  },
  {
   "cell_type": "markdown",
   "metadata": {},
   "source": [
    "### Вывод"
   ]
  },
  {
   "cell_type": "markdown",
   "metadata": {},
   "source": [
    "В ходе предобработки выявлены и устранены проблемы с данными (дубликаты, неверные форматы данных). \n",
    "Данные готовы к исследовательскому анализу."
   ]
  },
  {
   "cell_type": "markdown",
   "metadata": {},
   "source": [
    "## Исследовательский анализ данных"
   ]
  },
  {
   "cell_type": "markdown",
   "metadata": {},
   "source": [
    "### Среднее количество событий"
   ]
  },
  {
   "cell_type": "markdown",
   "metadata": {},
   "source": [
    "Перед тем, как анализировать данные, необходимо соединить таблицы `df_actions` и `df_users` в одну. Это нужно как раз для того, чтобы была возможность разделить пользователей по каналам привлечения."
   ]
  },
  {
   "cell_type": "code",
   "execution_count": 9,
   "metadata": {
    "scrolled": false
   },
   "outputs": [],
   "source": [
    "# методом merge соберем две таблицы в одну по значениям столбца user_id\n",
    "df = df_actions.merge(df_users, on='user_id')"
   ]
  },
  {
   "cell_type": "markdown",
   "metadata": {},
   "source": [
    "Рассмотрим, по каким каналам привлекались пользователи в ходе рекламной компании:"
   ]
  },
  {
   "cell_type": "code",
   "execution_count": 10,
   "metadata": {
    "scrolled": true
   },
   "outputs": [
    {
     "data": {
      "text/plain": [
       "array(['youtube_channel_reklama', 'facebook_ads', 'instagram_new_adverts',\n",
       "       'yandex_direct'], dtype=object)"
      ]
     },
     "execution_count": 10,
     "metadata": {},
     "output_type": "execute_result"
    }
   ],
   "source": [
    "df['source'].unique()"
   ]
  },
  {
   "cell_type": "markdown",
   "metadata": {},
   "source": [
    "Как видно из получившегося списка в данном кейсе отсутсвуют \"органические\" клиенты. Видимо это связано с тем, что игра совсем новая и пользователи привлекаются пока только благодаря рекламе.\n",
    "\n",
    "Далее посмотрим, какую долю составляют пользователи из разных каналов:"
   ]
  },
  {
   "cell_type": "code",
   "execution_count": 11,
   "metadata": {},
   "outputs": [
    {
     "data": {
      "text/html": [
       "<div>\n",
       "<style scoped>\n",
       "    .dataframe tbody tr th:only-of-type {\n",
       "        vertical-align: middle;\n",
       "    }\n",
       "\n",
       "    .dataframe tbody tr th {\n",
       "        vertical-align: top;\n",
       "    }\n",
       "\n",
       "    .dataframe thead th {\n",
       "        text-align: right;\n",
       "    }\n",
       "</style>\n",
       "<table border=\"1\" class=\"dataframe\">\n",
       "  <thead>\n",
       "    <tr style=\"text-align: right;\">\n",
       "      <th></th>\n",
       "      <th>source</th>\n",
       "      <th>users_sum</th>\n",
       "      <th>users_rate</th>\n",
       "    </tr>\n",
       "  </thead>\n",
       "  <tbody>\n",
       "    <tr>\n",
       "      <th>0</th>\n",
       "      <td>yandex_direct</td>\n",
       "      <td>4817</td>\n",
       "      <td>35.48%</td>\n",
       "    </tr>\n",
       "    <tr>\n",
       "      <th>1</th>\n",
       "      <td>instagram_new_adverts</td>\n",
       "      <td>3347</td>\n",
       "      <td>24.65%</td>\n",
       "    </tr>\n",
       "    <tr>\n",
       "      <th>2</th>\n",
       "      <td>facebook_ads</td>\n",
       "      <td>2726</td>\n",
       "      <td>20.08%</td>\n",
       "    </tr>\n",
       "    <tr>\n",
       "      <th>3</th>\n",
       "      <td>youtube_channel_reklama</td>\n",
       "      <td>2686</td>\n",
       "      <td>19.78%</td>\n",
       "    </tr>\n",
       "  </tbody>\n",
       "</table>\n",
       "</div>"
      ],
      "text/plain": [
       "                    source  users_sum users_rate\n",
       "0            yandex_direct       4817     35.48%\n",
       "1    instagram_new_adverts       3347     24.65%\n",
       "2             facebook_ads       2726     20.08%\n",
       "3  youtube_channel_reklama       2686     19.78%"
      ]
     },
     "execution_count": 11,
     "metadata": {},
     "output_type": "execute_result"
    }
   ],
   "source": [
    "# методом groupby соберем суммарные данные об уникальных пользователях для каждого канала привлечения\n",
    "# рассчитаем долю кждого канала от общего количества и выведем на экран\n",
    "event_user_id = df.groupby('source').agg({'user_id':'nunique'})\n",
    "event_user_id['users_rate'] = (event_user_id['user_id'] / event_user_id['user_id'].sum()).apply(\"{:.2%}\".format)\n",
    "event_user_id = event_user_id.sort_values(by='users_rate', ascending = False).reset_index()\n",
    "event_user_id.columns = event_user_id.columns.str.replace('user_id', 'users_sum')\n",
    "event_user_id"
   ]
  },
  {
   "cell_type": "markdown",
   "metadata": {},
   "source": [
    "Далее рассмотрим общее количество событий в течении всего времени относительно каждого канала привлечения:"
   ]
  },
  {
   "cell_type": "code",
   "execution_count": 12,
   "metadata": {
    "scrolled": false
   },
   "outputs": [
    {
     "data": {
      "image/png": "[encoded data removed]",
      "text/plain": [
       "<Figure size 1152x720 with 1 Axes>"
      ]
     },
     "metadata": {
      "needs_background": "light"
     },
     "output_type": "display_data"
    }
   ],
   "source": [
    "# создадим сводную таблицу по столбцу основного датафрейма df['event_datetime'], округлив время до 1 часа\n",
    "# за столбцы возьмем данные о канала привлечения\n",
    "# для каждого канала по времени посчитаем общее количество событий и выведем график на экран\n",
    "channel_pivot = df.pivot_table(index=df['event_datetime'].dt.round('D'), columns='source', values='event', aggfunc='count')\n",
    "channel_pivot.plot(figsize=(16, 10), grid=True)\n",
    "plt.legend()\n",
    "plt.xlabel('Дата')\n",
    "plt.ylabel('Количество событий')\n",
    "plt.title('Распределение событий по каналам привлечения')\n",
    "plt.show();"
   ]
  },
  {
   "cell_type": "markdown",
   "metadata": {},
   "source": [
    "Из графика видно, что больше всего событий совершают пользователи пользователи из канала `yandex_direct`, на втором месте `instagram_new_adverts`. Далее примерно на равне идут каналы `facebook_ads` и `youtube_channel_reklama`."
   ]
  },
  {
   "cell_type": "markdown",
   "metadata": {},
   "source": [
    "Теперь рассмотри среднее количество событий, совершенное пользователями в день по каналам привлечения:"
   ]
  },
  {
   "cell_type": "code",
   "execution_count": 13,
   "metadata": {},
   "outputs": [
    {
     "data": {
      "text/html": [
       "<div>\n",
       "<style scoped>\n",
       "    .dataframe tbody tr th:only-of-type {\n",
       "        vertical-align: middle;\n",
       "    }\n",
       "\n",
       "    .dataframe tbody tr th {\n",
       "        vertical-align: top;\n",
       "    }\n",
       "\n",
       "    .dataframe thead th {\n",
       "        text-align: right;\n",
       "    }\n",
       "</style>\n",
       "<table border=\"1\" class=\"dataframe\">\n",
       "  <thead>\n",
       "    <tr style=\"text-align: right;\">\n",
       "      <th></th>\n",
       "      <th>source</th>\n",
       "      <th>event</th>\n",
       "    </tr>\n",
       "  </thead>\n",
       "  <tbody>\n",
       "    <tr>\n",
       "      <th>0</th>\n",
       "      <td>facebook_ads</td>\n",
       "      <td>1.418422</td>\n",
       "    </tr>\n",
       "    <tr>\n",
       "      <th>1</th>\n",
       "      <td>youtube_channel_reklama</td>\n",
       "      <td>1.414866</td>\n",
       "    </tr>\n",
       "    <tr>\n",
       "      <th>2</th>\n",
       "      <td>instagram_new_adverts</td>\n",
       "      <td>1.414676</td>\n",
       "    </tr>\n",
       "    <tr>\n",
       "      <th>3</th>\n",
       "      <td>yandex_direct</td>\n",
       "      <td>1.413365</td>\n",
       "    </tr>\n",
       "  </tbody>\n",
       "</table>\n",
       "</div>"
      ],
      "text/plain": [
       "                    source     event\n",
       "0             facebook_ads  1.418422\n",
       "1  youtube_channel_reklama  1.414866\n",
       "2    instagram_new_adverts  1.414676\n",
       "3            yandex_direct  1.413365"
      ]
     },
     "execution_count": 13,
     "metadata": {},
     "output_type": "execute_result"
    }
   ],
   "source": [
    "# создадим свначала сводную таблицу для каждого пользователя с указанием канала привлечения\n",
    "# посчитаем количество действий пользователя в день, взятый из столбца event_datetime, значения котрого округлоим до дня\n",
    "# перезапишем эту сводную таблицу, рассчитав среднее количество событий каждого пользователя по каналам привлечения\n",
    "# и выведем ее на экран\n",
    "mean_event_pivot = df.pivot_table(\n",
    "    index=['user_id', 'source', df['event_datetime'].dt.round('D')], \n",
    "    values='event', aggfunc='count'\n",
    ")\n",
    "mean_event_pivot = mean_event_pivot.pivot_table(index=['source'], values='event', aggfunc='mean')\n",
    "mean_event_pivot = mean_event_pivot.sort_values(by='event', ascending = False).reset_index()\n",
    "mean_event_pivot"
   ]
  },
  {
   "cell_type": "markdown",
   "metadata": {},
   "source": [
    "**Вывод**\n",
    "\n",
    "**Больше всего активных пользователей привлек канал `yandex_direct`** - 4817, что составило 35,48% от общего количества.\n",
    "На втором месте канал `instagram_new_adverts` с 3347 привлеченными пользователями, 24,65% от общего.\n",
    "\n",
    "А вот среднее количество событий уникальных пользователей в день по каналам привлечения оказалось почти одинаковое, разница в тысячных долях. Соотвественно можно сказать, что **среднее количество событий не зависит от канала привлечения, и составляет 1,41**. Это логично, если учесть, что геймлпей одинаков для всех пользователей.\n",
    "\n",
    "Также на графике виден период рекламной компании, начало 04.05 и окончание 10.05 включительно, далее привлечение новых пользователей останавливается и активность начинает снижаться."
   ]
  },
  {
   "cell_type": "markdown",
   "metadata": {},
   "source": [
    "### Количество игроков и среднее время и окончания 1го уровня по разным условиям"
   ]
  },
  {
   "cell_type": "markdown",
   "metadata": {},
   "source": [
    "Рассчитаем и выведем информацию о среднем прохождении 1го уровня через реализацию проекта и победой над первым врагом для общего количества пользователей:"
   ]
  },
  {
   "cell_type": "code",
   "execution_count": 14,
   "metadata": {},
   "outputs": [
    {
     "name": "stdout",
     "output_type": "stream",
     "text": [
      "Среднее время прохождения первого уровня составляет:\n",
      "- для всех пользователей через проект: 13 days 11:00:49.135048231\n",
      "- для всех пользователей через победу: 11 days 02:30:24.076183244\n"
     ]
    }
   ],
   "source": [
    "# выделим id nользователей, завершивших 1ый уровень через реализацию проекта\n",
    "# посчитаем для каждого пользователя разницу между датой начала и датой окончания\n",
    "users_project_all = df.query('event == \"project\"')['user_id']\n",
    "project_stage_one_all = df.query(\n",
    "    'user_id in @users_project_all').groupby('user_id')['event_datetime'].apply(lambda x: x.max() - x.min())\n",
    "\n",
    "# выделим id nользователей, завершивших 1ый уровень через победу над врагом\n",
    "# посчитаем для каждого пользователя разницу между датой начала и датой окончания\n",
    "\n",
    "users_battle_all = df.query('event == \"finished_stage_1\" and user_id not in @users_project_all')['user_id']\n",
    "battle_stage_one_all = df.query(\n",
    "    'user_id in @users_battle_all').groupby(\n",
    "    'user_id')['event_datetime'].apply(lambda x: x.max() - x.min())\n",
    "\n",
    "print('Среднее время прохождения первого уровня составляет:')\n",
    "print(f\"- для всех пользователей через проект: {project_stage_one_all.mean()}{chr(10)}\"\n",
    "f\"- для всех пользователей через победу: {battle_stage_one_all.mean()}\")"
   ]
  },
  {
   "cell_type": "code",
   "execution_count": 15,
   "metadata": {
    "scrolled": true
   },
   "outputs": [
    {
     "data": {
      "image/png": "[encoded data removed]",
      "text/plain": [
       "<Figure size 1080x576 with 1 Axes>"
      ]
     },
     "metadata": {},
     "output_type": "display_data"
    }
   ],
   "source": [
    "# на основе таблиц project_stage_one и battle_stage_one построим график распределения\n",
    "# пользователей по видам завершения 1го уровня\n",
    "# настроим сетку и размер графика, зададим параметры - время завершения, округлим до дней\n",
    "# зададим цветовую палитру, подпишем график и оси\n",
    "sns.set(style=\"whitegrid\")\n",
    "plt.figure(figsize=(15,8))\n",
    "sns.distplot(project_stage_one_all.dt.days, bins=25, kde=False, color='red', label='Завершение проекта')\n",
    "sns.distplot(battle_stage_one_all.dt.days, bins=25, kde=False, color='skyblue', label='Победа над другим игроком')\n",
    "plt.legend()\n",
    "plt.title('Распределение времени прохождения 1го уровня')\n",
    "plt.xlabel('Количество дней')\n",
    "plt.ylabel('Количество пользователей');"
   ]
  },
  {
   "cell_type": "markdown",
   "metadata": {},
   "source": [
    "Из графика видно, что большая часть игроков проходит 1ый уровень путем победы над врагом. Подкрепим данный вывод таблицей:"
   ]
  },
  {
   "cell_type": "code",
   "execution_count": 16,
   "metadata": {},
   "outputs": [
    {
     "data": {
      "text/html": [
       "<div>\n",
       "<style scoped>\n",
       "    .dataframe tbody tr th:only-of-type {\n",
       "        vertical-align: middle;\n",
       "    }\n",
       "\n",
       "    .dataframe tbody tr th {\n",
       "        vertical-align: top;\n",
       "    }\n",
       "\n",
       "    .dataframe thead th {\n",
       "        text-align: right;\n",
       "    }\n",
       "</style>\n",
       "<table border=\"1\" class=\"dataframe\">\n",
       "  <thead>\n",
       "    <tr style=\"text-align: right;\">\n",
       "      <th></th>\n",
       "      <th>finish_by</th>\n",
       "      <th>users_sum</th>\n",
       "      <th>users_rate</th>\n",
       "    </tr>\n",
       "  </thead>\n",
       "  <tbody>\n",
       "    <tr>\n",
       "      <th>0</th>\n",
       "      <td>battle_win</td>\n",
       "      <td>3951</td>\n",
       "      <td>67.92%</td>\n",
       "    </tr>\n",
       "    <tr>\n",
       "      <th>1</th>\n",
       "      <td>project_win</td>\n",
       "      <td>1866</td>\n",
       "      <td>32.08%</td>\n",
       "    </tr>\n",
       "  </tbody>\n",
       "</table>\n",
       "</div>"
      ],
      "text/plain": [
       "     finish_by  users_sum users_rate\n",
       "0   battle_win       3951     67.92%\n",
       "1  project_win       1866     32.08%"
      ]
     },
     "execution_count": 16,
     "metadata": {},
     "output_type": "execute_result"
    }
   ],
   "source": [
    "# создадим датафрейм, в которое добавим суммарное количество игроков, завершивишх 1ый уровень разными способами\n",
    "# и рассчитаем их долю от общего количества пользователей, завершивших уровень\n",
    "users_finished = pd.DataFrame(\n",
    "    {'finish_by': ['battle_win', 'project_win'], \n",
    "     'users_sum': [battle_stage_one_all.count(), project_stage_one_all.count()]\n",
    "    })\n",
    "users_finished['users_rate'] = (users_finished['users_sum'] / users_finished['users_sum'].sum()).apply(\"{:.2%}\".format)\n",
    "users_finished"
   ]
  },
  {
   "cell_type": "markdown",
   "metadata": {},
   "source": [
    "Далее рассмотрим время прохождения первого уровня для пользователей, привлеченных по различным каналам:"
   ]
  },
  {
   "cell_type": "code",
   "execution_count": 17,
   "metadata": {},
   "outputs": [],
   "source": [
    "# для цикла создадим список рекламных каналов привлечения\n",
    "source_list = ['youtube_channel_reklama', 'facebook_ads', 'instagram_new_adverts','yandex_direct']"
   ]
  },
  {
   "cell_type": "code",
   "execution_count": 18,
   "metadata": {
    "scrolled": false
   },
   "outputs": [
    {
     "name": "stdout",
     "output_type": "stream",
     "text": [
      "Среднее время прохождения первого уровня составляет:\n",
      "- для канала youtube_channel_reklama через проект: 13 days 13:20:37.989445910\n",
      "- для канала youtube_channel_reklama через победу: 11 days 02:32:47.853846153\n",
      "- для канала facebook_ads через проект: 13 days 10:08:04.570332480\n",
      "- для канала facebook_ads через победу: 11 days 01:15:10.897233201\n",
      "- для канала instagram_new_adverts через проект: 13 days 12:47:25.834033613\n",
      "- для канала instagram_new_adverts через победу: 11 days 02:34:45.703030303\n",
      "- для канала yandex_direct через проект: 13 days 08:46:45.812903225\n",
      "- для канала yandex_direct через победу: 11 days 03:06:11.998593530\n"
     ]
    },
    {
     "data": {
      "image/png": "[encoded data removed]",
      "text/plain": [
       "<Figure size 1080x576 with 1 Axes>"
      ]
     },
     "metadata": {},
     "output_type": "display_data"
    },
    {
     "data": {
      "image/png": "[encoded data removed]",
      "text/plain": [
       "<Figure size 1080x576 with 1 Axes>"
      ]
     },
     "metadata": {},
     "output_type": "display_data"
    },
    {
     "data": {
      "image/png": "[encoded data removed]",
      "text/plain": [
       "<Figure size 1080x576 with 1 Axes>"
      ]
     },
     "metadata": {},
     "output_type": "display_data"
    },
    {
     "data": {
      "image/png": "[encoded data removed]",
      "text/plain": [
       "<Figure size 1080x576 with 1 Axes>"
      ]
     },
     "metadata": {},
     "output_type": "display_data"
    }
   ],
   "source": [
    "# создадим цикл, который проходит по списку source_list, подставляя значения каждого канала для итераций\n",
    "print('Среднее время прохождения первого уровня составляет:')\n",
    "for source in source_list:\n",
    "    # выделим id nользователей, завершивших 1ый уровень через реализацию проекта\n",
    "    # посчитаем для каждого пользователя разницу между датой начала и датой окончания\n",
    "    users_project = df.query('source in @source').query('event == \"project\"')['user_id']\n",
    "    project_stage_one = df.query(\n",
    "        'user_id in @users_project').groupby('user_id')['event_datetime'].apply(lambda x: x.max() - x.min())\n",
    "    # выделим id nользователей, завершивших 1ый уровень через победу над врагом\n",
    "    # посчитаем для каждого пользователя разницу между датой начала и датой окончания\n",
    "    users_battle = df.query('source in @source').query(\n",
    "        'event == \"finished_stage_1\" and user_id not in @users_project')['user_id']\n",
    "    battle_stage_one = df.query(\n",
    "        'user_id in @users_battle').groupby('user_id')['event_datetime'].apply(lambda x: x.max() - x.min())\n",
    "    print(f\"- для канала {source} через проект: {project_stage_one.mean()}{chr(10)}\"\n",
    "          f\"- для канала {source} через победу: {battle_stage_one.mean()}\")\n",
    "    # на основе таблиц project_stage_one и battle_stage_one построим график распределения\n",
    "    # пользователей по видам завершения 1го уровня\n",
    "    # настроим сетку и размер графика, зададим параметры - время завершения, округлим до дней\n",
    "    # зададим цветовую палитру, подпишем график и оси\n",
    "    sns.set(style=\"whitegrid\")\n",
    "    plt.figure(figsize=(15,8))\n",
    "    sns.distplot(project_stage_one.dt.days, bins=25, kde=False, color='red', label='Через проект')\n",
    "    sns.distplot(battle_stage_one.dt.days, bins=25, kde=False, color='skyblue', label='Через победу')\n",
    "    plt.legend()\n",
    "    plt.title(f\"Распределение времени прохождения для канала {source}\")\n",
    "    plt.xlabel('Количество дней')\n",
    "    plt.ylabel('Количество пользователей');"
   ]
  },
  {
   "cell_type": "markdown",
   "metadata": {},
   "source": [
    "**Вывод**\n",
    "\n",
    "Анализ показал, что среднее время прохождения первого уровня для всех пользователей по различным условиям составило:\n",
    "* победа над первым врагом - 11 дней 2,5 часов\n",
    "* реализация проекта - 13 дней 11 часов\n",
    "\n",
    "Предварительно можно сказать, что время прохождения по разным условия отличается, но для точности необходим статистический тест.\n",
    "\n",
    "**Если смотреть по каналам привлечения, разница во времени прохождения незначительная**.\n",
    "\n",
    "График распределения имеет нормальное распределение и показал, что большая часть игроков предпочитают проходить уровень победой над врагом (3951 игроков, 68% от общего количества), а не реализацией проекта (1866 игроков, 32%). \n",
    "Также видно, что завершить 1ый уровень быстрее победой над врагом.\n",
    "\n",
    "Соответственно, **победа над врагом более быстрый и действенный метод прохождения 1го уровня**, чем и пользуются большинство игроков."
   ]
  },
  {
   "cell_type": "markdown",
   "metadata": {},
   "source": [
    "### Количество посещений приложения в день"
   ]
  },
  {
   "cell_type": "markdown",
   "metadata": {},
   "source": [
    "Создадим сводную таблицу общего количества пользователей для расчета посещений приложения в день, количества уникальных пользователей и среднего количества посещений уникальными пользователями. На основании этой таблицы построим график:"
   ]
  },
  {
   "cell_type": "code",
   "execution_count": 19,
   "metadata": {},
   "outputs": [
    {
     "name": "stdout",
     "output_type": "stream",
     "text": [
      "Среднее количество в день:\n",
      "- Посещений для всех пользователей 4110\n",
      "- Уникальных пользователей для всех пользователей 2884\n",
      "- Посещений приложения уникальным пользователем для всех пользователей 1.33\n"
     ]
    }
   ],
   "source": [
    "# создадим сводную таблицу, в которой по датам посещения расчитаем количество посещений и уникальных пользователей\n",
    "# на основании этих данных рассчитаем среднее количество посещений в день на уникального пользователя\n",
    "visits_pivot = df.pivot_table(index=df['event_datetime'].dt.normalize(), values='user_id', aggfunc=['count','nunique'])\n",
    "visits_pivot.columns = ['visits_total', 'users_total']\n",
    "visits_pivot['visits_per_user'] = (visits_pivot['visits_total'] / visits_pivot['users_total']).round(2)\n",
    "visits_mean = visits_pivot['visits_total'].mean(axis=0).astype('int32')\n",
    "users_mean = visits_pivot['users_total'].mean(axis=0).astype('int32')\n",
    "visits_per_user_mean = visits_pivot['visits_per_user'].mean(axis=0).round(2)\n",
    "\n",
    "# на экран выведем средние показатели посещений в день, количества уникальных пользователей\n",
    "# и количество посещений уникальными пользователями.\n",
    "print('Среднее количество в день:')\n",
    "print(f\"- Посещений для всех пользователей {visits_mean}{chr(10)}\"\n",
    "      f\"- Уникальных пользователей для всех пользователей {users_mean}{chr(10)}\"\n",
    "      f\"- Посещений приложения уникальным пользователем для всех пользователей {visits_per_user_mean}\")"
   ]
  },
  {
   "cell_type": "code",
   "execution_count": 20,
   "metadata": {
    "scrolled": false
   },
   "outputs": [
    {
     "data": {
      "image/png": "[encoded data removed]",
      "text/plain": [
       "<Figure size 1080x576 with 1 Axes>"
      ]
     },
     "metadata": {},
     "output_type": "display_data"
    }
   ],
   "source": [
    "# на основе сводной таблицы visits_pivot построим линейный график\n",
    "# настроим размер графика и подпишем оси\n",
    "date = visits_pivot.index\n",
    "value = visits_pivot['visits_per_user']\n",
    "fig, ax = plt.subplots(figsize=(15, 8))\n",
    "ax.plot(date, value)\n",
    "fig.autofmt_xdate()\n",
    "plt.title('Количество посещений приложения в день одним пользователем')\n",
    "plt.xlabel('Дата')\n",
    "plt.ylabel('Среднее количество посещений в день');"
   ]
  },
  {
   "cell_type": "code",
   "execution_count": 21,
   "metadata": {
    "scrolled": true
   },
   "outputs": [
    {
     "name": "stdout",
     "output_type": "stream",
     "text": [
      "Среднее количество в день:\n",
      "- Посещений для канала youtube_channel_reklama: 828\n",
      "- Уникальных пользователей для канала youtube_channel_reklama: 581\n",
      "- Посещений приложения уникальным пользователем для канала youtube_channel_reklama: 1.36\n",
      "- Посещений для канала facebook_ads: 838\n",
      "- Уникальных пользователей для канала facebook_ads: 585\n",
      "- Посещений приложения уникальным пользователем для канала facebook_ads: 1.33\n",
      "- Посещений для канала instagram_new_adverts: 1022\n",
      "- Уникальных пользователей для канала instagram_new_adverts: 716\n",
      "- Посещений приложения уникальным пользователем для канала instagram_new_adverts: 1.35\n",
      "- Посещений для канала yandex_direct: 1445\n",
      "- Уникальных пользователей для канала yandex_direct: 1018\n",
      "- Посещений приложения уникальным пользователем для канала yandex_direct: 1.3\n"
     ]
    },
    {
     "data": {
      "image/png": "[encoded data removed]",
      "text/plain": [
       "<Figure size 1080x576 with 1 Axes>"
      ]
     },
     "metadata": {},
     "output_type": "display_data"
    },
    {
     "data": {
      "image/png": "[encoded data removed]",
      "text/plain": [
       "<Figure size 1080x576 with 1 Axes>"
      ]
     },
     "metadata": {},
     "output_type": "display_data"
    },
    {
     "data": {
      "image/png": "[encoded data removed]",
      "text/plain": [
       "<Figure size 1080x576 with 1 Axes>"
      ]
     },
     "metadata": {},
     "output_type": "display_data"
    },
    {
     "data": {
      "image/png": "[encoded data removed]",
      "text/plain": [
       "<Figure size 1080x576 with 1 Axes>"
      ]
     },
     "metadata": {},
     "output_type": "display_data"
    }
   ],
   "source": [
    "# создадим цикл, который проходит по списку source_list, подставляя значения каждого канала для итераций\n",
    "print('Среднее количество в день:')\n",
    "for source in source_list:\n",
    "    # создадим сводную таблицу, в которой по датам посещения расчитаем количество посещений и уникальных пользователей\n",
    "    # на основании этих данных рассчитаем среднее количество посещений в день на уникального пользователя\n",
    "    visits_pivot = df.query('source in @source').pivot_table(\n",
    "        index=df['event_datetime'].dt.normalize(), values='user_id', aggfunc=['count','nunique'])\n",
    "    visits_pivot.columns = ['visits_total', 'users_total']\n",
    "    visits_pivot['visits_per_user'] = (visits_pivot['visits_total'] / visits_pivot['users_total']).round(2)\n",
    "    visits_mean = visits_pivot['visits_total'].mean(axis=0).astype('int32')\n",
    "    users_mean = visits_pivot['users_total'].mean(axis=0).astype('int32')\n",
    "    visits_per_user_mean = visits_pivot['visits_per_user'].mean(axis=0).round(2)\n",
    "    # на экран выведем средние показатели посещений в день, количества уникальных пользователей\n",
    "    # и количество посещений уникальными пользователями.\n",
    "    print(f\"- Посещений для канала {source}: {visits_mean}{chr(10)}\"\n",
    "          f\"- Уникальных пользователей для канала {source}: {users_mean}{chr(10)}\"\n",
    "          f\"- Посещений приложения уникальным пользователем для канала {source}: {visits_per_user_mean}\")\n",
    "    # на основе сводной таблицы visits_pivot построим линейный график\n",
    "    # настроим размер графика и подпишем оси\n",
    "    date = visits_pivot.index\n",
    "    value = visits_pivot['visits_per_user']\n",
    "    fig, ax = plt.subplots(figsize=(15, 8))\n",
    "    ax.plot(date, value)\n",
    "    fig.autofmt_xdate()\n",
    "    plt.title(f\"Количество посещений приложения в день одним пользователем для канала {source}\")\n",
    "    plt.xlabel('Дата')\n",
    "    plt.ylabel('Среднее количество посещений в день');"
   ]
  },
  {
   "cell_type": "markdown",
   "metadata": {},
   "source": [
    "**Вывод**\n",
    "\n",
    "Как показал расчет и график для общего количества пользователей, в среднем 2884 уникальных пользователя посещают приложение 4110 раз в день, что составляет 1.33 посещения на одного.\n",
    "График повторяет увиденный ранее пик рекламной компании - 10 мая. Далее, после окончания рекламной компании активность игроков начинает снижаться.\n",
    "\n",
    "По каналам привлечения разница в посещениях уникальным пользователем в день минимальна и находится в рамках 1.3 - 1.36. СТоит отметить лидирующее положения канала `yandex_direct` по количеству уникальных пользователей. Но в среднем, чаще всего заходят в приложения игроки из `youtube_channel_reklama`: 1.36 раз в сутки."
   ]
  },
  {
   "cell_type": "markdown",
   "metadata": {},
   "source": [
    "### Стоимость привлечения новых клиентов CAC"
   ]
  },
  {
   "cell_type": "markdown",
   "metadata": {},
   "source": [
    "Как выяснилось ранее, в датафрейме отсутсвуют \"органические клиенты\", поэтому исключать их не понадобиться.\n",
    "\n",
    "Перед расчетом CAC изучим динамику расходов на привлечение клиентов. Для этого сделаем сводную таблицу и построим по ней график:"
   ]
  },
  {
   "cell_type": "code",
   "execution_count": 22,
   "metadata": {},
   "outputs": [
    {
     "data": {
      "image/png": "[encoded data removed]",
      "text/plain": [
       "<Figure size 1080x576 with 1 Axes>"
      ]
     },
     "metadata": {},
     "output_type": "display_data"
    }
   ],
   "source": [
    "# изменим исходную таблицу df_ad, для удобства построения графика\n",
    "# для этого создадим сводную таблицу с индексом дней оплаты рекламы и значениями расходов по каналам привлечения\n",
    "ad_pivot = df_ad.pivot_table(index='day', columns='source', values='cost')\n",
    "\n",
    "# на основании этой таблицы построим линейный график с динамикой расходов по каналам привлечения\n",
    "ad_pivot.plot(figsize=(15, 8), grid=True)\n",
    "plt.legend()\n",
    "plt.xlabel('Дата привлечения пользователей')\n",
    "plt.ylabel('Расходы на привлечение, у.е.')\n",
    "plt.title('Динамика расходов на маркетинг по каналам привлечения')\n",
    "plt.show()"
   ]
  },
  {
   "cell_type": "code",
   "execution_count": 23,
   "metadata": {},
   "outputs": [
    {
     "data": {
      "text/html": [
       "<div>\n",
       "<style scoped>\n",
       "    .dataframe tbody tr th:only-of-type {\n",
       "        vertical-align: middle;\n",
       "    }\n",
       "\n",
       "    .dataframe tbody tr th {\n",
       "        vertical-align: top;\n",
       "    }\n",
       "\n",
       "    .dataframe thead th {\n",
       "        text-align: right;\n",
       "    }\n",
       "</style>\n",
       "<table border=\"1\" class=\"dataframe\">\n",
       "  <thead>\n",
       "    <tr style=\"text-align: right;\">\n",
       "      <th></th>\n",
       "      <th>source</th>\n",
       "      <th>total_per_channel</th>\n",
       "      <th>users_sum</th>\n",
       "      <th>cac</th>\n",
       "    </tr>\n",
       "  </thead>\n",
       "  <tbody>\n",
       "    <tr>\n",
       "      <th>0</th>\n",
       "      <td>facebook_ads</td>\n",
       "      <td>2140.904643</td>\n",
       "      <td>2726</td>\n",
       "      <td>0.79</td>\n",
       "    </tr>\n",
       "    <tr>\n",
       "      <th>1</th>\n",
       "      <td>instagram_new_adverts</td>\n",
       "      <td>2161.441691</td>\n",
       "      <td>3347</td>\n",
       "      <td>0.65</td>\n",
       "    </tr>\n",
       "    <tr>\n",
       "      <th>2</th>\n",
       "      <td>yandex_direct</td>\n",
       "      <td>2233.111449</td>\n",
       "      <td>4817</td>\n",
       "      <td>0.46</td>\n",
       "    </tr>\n",
       "    <tr>\n",
       "      <th>3</th>\n",
       "      <td>youtube_channel_reklama</td>\n",
       "      <td>1068.119204</td>\n",
       "      <td>2686</td>\n",
       "      <td>0.40</td>\n",
       "    </tr>\n",
       "  </tbody>\n",
       "</table>\n",
       "</div>"
      ],
      "text/plain": [
       "                    source  total_per_channel  users_sum   cac\n",
       "0             facebook_ads        2140.904643       2726  0.79\n",
       "1    instagram_new_adverts        2161.441691       3347  0.65\n",
       "2            yandex_direct        2233.111449       4817  0.46\n",
       "3  youtube_channel_reklama        1068.119204       2686  0.40"
      ]
     },
     "execution_count": 23,
     "metadata": {},
     "output_type": "execute_result"
    }
   ],
   "source": [
    "# для расчета CAC посчитаем суммарные расходы по каналам за все дни\n",
    "ad_pivot.loc['total_per_channel'] = ad_pivot.sum(axis=0)\n",
    "ad_pivot = ad_pivot.T.reset_index()\n",
    "# к таблице ad_pivot добавим данные из ранее созданной таблицы event_user_id\n",
    "# где хранятся данные с количеством человек, привлеченных по каналам и сократим ее для удобства\n",
    "cac_pivot = ad_pivot.merge(event_user_id, on='source')\n",
    "cac_pivot = cac_pivot[['source', 'total_per_channel','users_sum']]\n",
    "# рассчитаем CAC, разделив маркетинговые расходы на количество привлеченных пользователей\n",
    "# и выведем полученную таблицу на экран\n",
    "cac_pivot['cac'] = (cac_pivot['total_per_channel'] / cac_pivot['users_sum']).round(2)\n",
    "cac_pivot"
   ]
  },
  {
   "cell_type": "markdown",
   "metadata": {},
   "source": [
    "**Вывод**\n",
    "\n",
    "Затраты по каналам привлечения составили:\n",
    "* `facebook_ads` - 2140.90 у.е.\n",
    "* `instagram_new_adverts` - 2161.44 у.е.\n",
    "* `yandex_direct` - 2233.11 у.е.\n",
    "* `youtube_channel_reklama` - 1068.12 у.е.\n",
    "\n",
    "Видно, что динамика расходов по каналам примерно одинаковая. А вот по уровню расходов `youtube_channel_reklama` находится ниже остальных.\n",
    "\n",
    "Расчет стоимости привлечения клиентов по каналам показал следующее:\n",
    "* `facebook_ads` - 0.79 у.е.\n",
    "* `instagram_new_adverts` - 0.65 у.е.\n",
    "* `yandex_direct` - 0.46 у.е.\n",
    "* `youtube_channel_reklama` - 0.40 у.е.\n",
    "\n",
    "Соответственно **самая высокая CAC для канала `facebook_ads`, самая низкая для `youtube_channel_reklama`.**\n",
    "\n",
    "Самый перспективынй канал в данном случае - `yandex_direct`, неплохой CAC, больше всего привлеченных пользователей. Но это все конечно, скорее всего, за счет того, что в него вложили больше всего средств."
   ]
  },
  {
   "cell_type": "markdown",
   "metadata": {},
   "source": [
    "### Возможные способы монетизации"
   ]
  },
  {
   "cell_type": "markdown",
   "metadata": {},
   "source": [
    "В связи с тем, что планируемая моентизация - показ рекламы на экране с выбором типа объекта для постройки, необходимо рассчитать среднее количество построек, которые совершает пользователь за прохождение первого уровня:"
   ]
  },
  {
   "cell_type": "code",
   "execution_count": 24,
   "metadata": {},
   "outputs": [
    {
     "name": "stdout",
     "output_type": "stream",
     "text": [
      "Среднее количество построек за прохождение первого уровня:\n",
      "- для всех пользователей 9.43\n",
      "- для пользователей через проект 12.65\n",
      "- для пользователей через победу 9.41\n"
     ]
    }
   ],
   "source": [
    "# создадим новые переменные, сгруппируем основной датафрейм df по следующим условиям:\n",
    "# - игрок построил любое здание\n",
    "# - игрок построил любое здание и завершил уровень через проект\n",
    "# - игрок построил любое здание и завершил уровень через победу\n",
    "# рассчитаем по этим данным количество построек и рассчитаем среднее значение для всех групп пользователей\n",
    "mean_build_total = (df.query('event == \"building\"')\n",
    "                    .groupby('user_id').agg({'event': 'count'}).mean())\n",
    "mean_build_project = (df.query('event == \"building\" and user_id in @users_project_all')\n",
    "                      .groupby('user_id').agg({'event': 'count'}).mean())\n",
    "mean_build_battle = (df.query('event == \"building\" and user_id in @users_battle_all')\n",
    "                     .groupby('user_id').agg({'event': 'count'}).mean())\n",
    "\n",
    "# выведем на экран полученные значения\n",
    "print(f\"Среднее количество построек за прохождение первого уровня:{chr(10)}\"\n",
    "      f\"- для всех пользователей {'{:.2f}'.format(float(mean_build_total))}{chr(10)}\"\n",
    "      f\"- для пользователей через проект {'{:.2f}'.format(float(mean_build_project))}{chr(10)}\"\n",
    "      f\"- для пользователей через победу {'{:.2f}'.format(float(mean_build_battle))}\")    "
   ]
  },
  {
   "cell_type": "code",
   "execution_count": 25,
   "metadata": {},
   "outputs": [
    {
     "data": {
      "text/html": [
       "<div>\n",
       "<style scoped>\n",
       "    .dataframe tbody tr th:only-of-type {\n",
       "        vertical-align: middle;\n",
       "    }\n",
       "\n",
       "    .dataframe tbody tr th {\n",
       "        vertical-align: top;\n",
       "    }\n",
       "\n",
       "    .dataframe thead th {\n",
       "        text-align: right;\n",
       "    }\n",
       "</style>\n",
       "<table border=\"1\" class=\"dataframe\">\n",
       "  <thead>\n",
       "    <tr style=\"text-align: right;\">\n",
       "      <th></th>\n",
       "      <th>source</th>\n",
       "      <th>total_per_channel</th>\n",
       "      <th>users_sum</th>\n",
       "      <th>cac</th>\n",
       "      <th>revenue_all</th>\n",
       "      <th>revenue_project</th>\n",
       "      <th>revenue_battle</th>\n",
       "    </tr>\n",
       "  </thead>\n",
       "  <tbody>\n",
       "    <tr>\n",
       "      <th>0</th>\n",
       "      <td>facebook_ads</td>\n",
       "      <td>2140.904643</td>\n",
       "      <td>2726.0</td>\n",
       "      <td>0.790</td>\n",
       "      <td>0.08</td>\n",
       "      <td>0.060</td>\n",
       "      <td>0.08</td>\n",
       "    </tr>\n",
       "    <tr>\n",
       "      <th>1</th>\n",
       "      <td>instagram_new_adverts</td>\n",
       "      <td>2161.441691</td>\n",
       "      <td>3347.0</td>\n",
       "      <td>0.650</td>\n",
       "      <td>0.07</td>\n",
       "      <td>0.050</td>\n",
       "      <td>0.07</td>\n",
       "    </tr>\n",
       "    <tr>\n",
       "      <th>2</th>\n",
       "      <td>yandex_direct</td>\n",
       "      <td>2233.111449</td>\n",
       "      <td>4817.0</td>\n",
       "      <td>0.460</td>\n",
       "      <td>0.05</td>\n",
       "      <td>0.040</td>\n",
       "      <td>0.05</td>\n",
       "    </tr>\n",
       "    <tr>\n",
       "      <th>3</th>\n",
       "      <td>youtube_channel_reklama</td>\n",
       "      <td>1068.119204</td>\n",
       "      <td>2686.0</td>\n",
       "      <td>0.400</td>\n",
       "      <td>0.04</td>\n",
       "      <td>0.030</td>\n",
       "      <td>0.04</td>\n",
       "    </tr>\n",
       "    <tr>\n",
       "      <th>mean</th>\n",
       "      <td>NaN</td>\n",
       "      <td>1900.894247</td>\n",
       "      <td>3394.0</td>\n",
       "      <td>0.575</td>\n",
       "      <td>0.06</td>\n",
       "      <td>0.045</td>\n",
       "      <td>0.06</td>\n",
       "    </tr>\n",
       "  </tbody>\n",
       "</table>\n",
       "</div>"
      ],
      "text/plain": [
       "                       source  total_per_channel  users_sum    cac  \\\n",
       "0                facebook_ads        2140.904643     2726.0  0.790   \n",
       "1       instagram_new_adverts        2161.441691     3347.0  0.650   \n",
       "2               yandex_direct        2233.111449     4817.0  0.460   \n",
       "3     youtube_channel_reklama        1068.119204     2686.0  0.400   \n",
       "mean                      NaN        1900.894247     3394.0  0.575   \n",
       "\n",
       "      revenue_all  revenue_project  revenue_battle  \n",
       "0            0.08            0.060            0.08  \n",
       "1            0.07            0.050            0.07  \n",
       "2            0.05            0.040            0.05  \n",
       "3            0.04            0.030            0.04  \n",
       "mean         0.06            0.045            0.06  "
      ]
     },
     "execution_count": 25,
     "metadata": {},
     "output_type": "execute_result"
    }
   ],
   "source": [
    "# в ранее созданную таблицу cac_pivot добавим расчет выручки от просмотра рекламы для трех групп пользователей\n",
    "# для того, чтобы покрыть затраты на маркетинг\n",
    "# добавим строку с расчетом среднего\n",
    "# и выведем полученный результат на экран\n",
    "cac_pivot['revenue_all'] = (cac_pivot['cac'] / 9.43).round(2)\n",
    "cac_pivot['revenue_project'] = (cac_pivot['cac'] / 12.65).round(2)\n",
    "cac_pivot['revenue_battle'] = (cac_pivot['cac'] / 9.41).round(2)\n",
    "cac_pivot.loc['mean'] = cac_pivot.mean(axis=0)\n",
    "cac_pivot"
   ]
  },
  {
   "cell_type": "markdown",
   "metadata": {},
   "source": [
    "**Вывод**\n",
    "\n",
    "Среднее количество зданий, который строят пользователи за прохождение первого уровня:\n",
    "* для всех пользователей 9.43\n",
    "* для пользователей через проект 12.65\n",
    "* для пользователей через победу 9.41\n",
    "\n",
    "Следует отметить, что игроки с боевой стратегией строят меньше зданий. В будущем, соответственно, будут смотреть меньше рекламы и приносить доход.\n",
    "\n",
    "При этом средняя CAC на одного пользователя получилась 0.575. Исходя из этого, **монетизация за один показ рекламы должна составлять не менее 0.06 у.е.**, чтобы покрыть расходы на маркетинг."
   ]
  },
  {
   "cell_type": "markdown",
   "metadata": {},
   "source": [
    "### Вывод"
   ]
  },
  {
   "cell_type": "markdown",
   "metadata": {},
   "source": [
    "Получили основные инсайты в ходе исследовательского анализа данных:\n",
    "\n",
    "**Среднее количество событий**\n",
    "\n",
    "* Больше всего активных пользователей привлек канал `yandex_direct`, на втором месте канал `instagram_new_adverts`;\n",
    "* Среднее количество событий не зависит от канала привлечения, и составляет 1,41;\n",
    "* Период рекламной компании, начало 04.05 и окончание 10.05 включительно\n",
    "\n",
    "**Количество игроков и среднее время и окончания 1го уровня по разным условиям**\n",
    "\n",
    "* Среднее время прохождения первого уровня: победа над первым врагом - 11 дней 2,5 часов, реализация проекта - 13 дней 11 часов;\n",
    "* По каналам привлечения, разница во времени прохождения незначительная;\n",
    "* Количество игроков, прошедших первый уровен: победой над врагом 3951, 68% от общего количества, реализацией проекта 1866, 32%;\n",
    "* Завершить первый уровень быстрее победой над врагом.\n",
    "\n",
    "**Количество посещений приложения в день**\n",
    "\n",
    "* В среднем 2884 уникальных пользователя посещают приложение 4110 раз в день, что составляет 1.33 посещения на одного;\n",
    "* По каналам привлечения разница в посещениях уникальным пользователем в день минимальна и находится в рамках 1.3 - 1.36;\n",
    "* По количеству уникальных пользователей Лидирует канал `yandex_direct`;\n",
    "* Чаще всего заходят в приложение  игроки из `youtube_channel_reklama`: 1.36 раз в сутки.\n",
    "\n",
    "**Стоимост привлечения новых клиентов CAC**\n",
    "\n",
    "* Динамика расходов по каналам примерно одинаковая;\n",
    "* По уровню расходов `youtube_channel_reklama` находится ниже остальных;\n",
    "* Самая высокая CAC для канала `facebook_ads`: 0.79 у.е;\n",
    "* Самая низкая CAC для `youtube_channel_reklama`: 0.40 у.е.\n",
    "\n",
    "**Возможные способы монетизации**\n",
    "\n",
    "Среднее количество зданий, который строят пользователи за прохождение первого уровня:\n",
    "* для всех пользователей 9.43\n",
    "* для пользователей через проект 12.65\n",
    "* для пользователей через победу 9.41\n",
    "\n",
    "* Средняя CAC на одного пользователя 0.575;\n",
    "* Монетизация за один показ рекламы должна составлять не менее 0.06 у.е., чтобы покрыть расходы на маркетинг."
   ]
  },
  {
   "cell_type": "markdown",
   "metadata": {},
   "source": [
    "## Статистический анализ"
   ]
  },
  {
   "cell_type": "markdown",
   "metadata": {},
   "source": [
    "### Время завершения уровня различается в зависимости способа прохождения"
   ]
  },
  {
   "cell_type": "markdown",
   "metadata": {},
   "source": [
    "Для проверки этой гипотезы сформируем нулевую и альтернативную гипотезы:\n",
    "* `H0` - статистически значимой разницы времени прохождения уровня по разным условиям нет\n",
    "* `H1` - разница времени прохождения уровня по разным условиям статистически значима\n",
    "\n",
    "Воспользуемся тестом Манна-Уитни. Установим уровень статистической значимости **alpha = 0,05**"
   ]
  },
  {
   "cell_type": "code",
   "execution_count": 26,
   "metadata": {
    "scrolled": true
   },
   "outputs": [
    {
     "name": "stdout",
     "output_type": "stream",
     "text": [
      "p-значение:  1.1228044721644527e-106\n",
      "Разница времени прохождения уровня по разным условиям статистически значима\n"
     ]
    }
   ],
   "source": [
    "# применим тест Манна-Уитни с уровнем статистической значимости 0.05\n",
    "# воспользуемся данными со временем прохождения первого уровня для разных условий прохождения\n",
    "results = stats.mannwhitneyu(\n",
    "    project_stage_one_all.reset_index()['event_datetime'],\n",
    "    battle_stage_one_all.reset_index()['event_datetime'])\n",
    "alpha = 0.05\n",
    "print('p-значение: ', results.pvalue)\n",
    "if results.pvalue < alpha:\n",
    "    print('Разница времени прохождения уровня по разным условиям статистически значима')\n",
    "else:\n",
    "    print('Статистически значимой разницы времени прохождения уровня по разным условиям нет')"
   ]
  },
  {
   "cell_type": "markdown",
   "metadata": {},
   "source": [
    "### Количество построек различается в зависимости способа прохождения"
   ]
  },
  {
   "cell_type": "markdown",
   "metadata": {},
   "source": [
    "Для проверки этой гипотезы сформируем нулевую и альтернативную гипотезы:\n",
    "* `H0` - статистически значимой разницы в количестве построек по разным условиям прохождения уровня нет\n",
    "* `H1` - разница в количестве построек по разным условиям прохождения уровня статистически значима\n",
    "\n",
    "Воспользуемся тестом Манна-Уитни. Установим уровень статистической значимости **alpha = 0,05**"
   ]
  },
  {
   "cell_type": "code",
   "execution_count": 32,
   "metadata": {},
   "outputs": [],
   "source": [
    "# перед тестом соберем уникальных пользователей и количество зданий, построенных в ходе прохождения первого уровня\n",
    "# создав две переменные по условиям прохождения - через проект и через победу\n",
    "project_building = df.query('user_id in @users_project_all').groupby('user_id').agg({'building_type':'count'}).reset_index()\n",
    "battle_building = df.query('user_id in @users_battle_all').groupby('user_id').agg({'building_type':'count'}).reset_index()"
   ]
  },
  {
   "cell_type": "code",
   "execution_count": 33,
   "metadata": {},
   "outputs": [
    {
     "name": "stdout",
     "output_type": "stream",
     "text": [
      "p-значение:  5.211926275022306e-305\n",
      "Разница в количестве построек по разным условиям прохождения уровня статистически значима\n"
     ]
    }
   ],
   "source": [
    "# применим тест Манна-Уитни с уровнем статистической значимости 0.05\n",
    "# воспользуемся данными с количеством построек пользователей для разных условий прохождения\n",
    "results = stats.mannwhitneyu(\n",
    "    project_building['building_type'],\n",
    "   battle_building['building_type'])\n",
    "alpha = 0.05\n",
    "print('p-значение: ', results.pvalue)\n",
    "if results.pvalue < alpha:\n",
    "    print('Разница в количестве построек по разным условиям прохождения уровня статистически значима')\n",
    "else:\n",
    "    print('Статистически значимой разницы в количестве построек по разным условиям прохождения уровня нет')"
   ]
  },
  {
   "cell_type": "markdown",
   "metadata": {},
   "source": [
    "### Вывод"
   ]
  },
  {
   "cell_type": "markdown",
   "metadata": {},
   "source": [
    "Проведя два теста, получили следующие результаты:\n",
    "* **Разница времени прохождения уровня по разным условиям статистически значима**. Данный результат подтверждает предварительный вывод, выдвинутый ранее о различном времени прохождения уровня по разным условиям;\n",
    "* **Разница в количестве построек по разным условиям прохождения уровня статистически значима**"
   ]
  },
  {
   "cell_type": "markdown",
   "metadata": {},
   "source": [
    "## Общий вывод"
   ]
  },
  {
   "cell_type": "markdown",
   "metadata": {},
   "source": [
    "Провели исследование данных о событиях, совершенных в мобильной игре «Космические братья». \n",
    "\n",
    "Выполнили предобработку и исследовательский анализ данных, ответили на основные вопросы проекта и сделали вывод по основной задаче будущей монетизации проекта:\n",
    "* Больше всего активных пользователей привлек канал `yandex_direct`, на втором месте канал `instagram_new_adverts`;\n",
    "* Среднее количество событий не зависит от канала привлечения;\n",
    "* Среднее время прохождения первого уровня: победа над первым врагом - 11 дней 2,5 часов, реализация проекта - 13 дней 11 часов;\n",
    "* По каналам привлечения, разница во времени прохождения незначительная;\n",
    "* Количество игроков, прошедших первый уровен: победой над врагом 3951, 68% от общего количества, реализацией проекта 1866, 32%;\n",
    "* В среднем 2884 уникальных пользователя посещают приложение 4110 раз в день, что составляет 1.33 посещения на одного;\n",
    "* По каналам привлечения разница в посещениях уникальным пользователем в день минимальна;\n",
    "* По количеству уникальных пользователей лидирует канал `yandex_direct`;\n",
    "* Динамика расходов по каналам примерно одинаковая;\n",
    "* Самая высокая CAC для канала `facebook_ads`: 0.79 у.е;\n",
    "* Самая низкая CAC для `youtube_channel_reklama`: 0.40 у.е.\n",
    "* Средняя CAC на одного пользователя 0.575 у.е.;\n",
    "* Монетизация за один показ рекламы должна составлять не менее 0.06 у.е., чтобы покрыть расходы на маркетинг.\n",
    "\n",
    "Статистический анализ данных показал следующее:\n",
    "* Разница времени прохождения уровня по разным условиям статистически значима;\n",
    "* Разница в количестве построек по разным условиям прохождения уровня статистически значима\n",
    "\n",
    "Рекомендации:\n",
    "* как уже было сказано, рассчитывать монетизацию одного показа рекламы в размере 0.06 у.е.;\n",
    "* пересмотреть затраты на маркетинг каналов `facebook_ads` (имеет самую высокую CAC) и `youtube_channel_reklama` т.к. они привлекли меньше всего клиентов;\n",
    "* увеличить затраты на маркетинг канала `yandex_direct`, т.к. он привлек больше всего активных и уникальных пользователей;\n",
    "* модель монетизации оставить запланированную - показ рекламы на экране с выбором типа объекта для постройки. Учитывая средние количество построек (от 9 до 12) и дней (от 11 до 13) до завершения уровня, можно сказать, что пользователь будет видеть рекламу примерно 1 раз в день.\n",
    "* в связи с тем, что пользователи чаще выбирают боевую стратегию и меньше строят зданий за прохождение уровня, необходимо или пересмотреть модель геймплей в плане боев, либо вводить рекламу и перед началом боя."
   ]
  }
 ],
 "metadata": {
  "ExecuteTimeLog": [
   {
    "duration": 355,
    "start_time": "2022-06-15T07:35:33.452Z"
   },
   {
    "duration": 739,
    "start_time": "2022-06-15T07:35:33.810Z"
   },
   {
    "duration": 4,
    "start_time": "2022-06-15T07:35:34.550Z"
   },
   {
    "duration": 292,
    "start_time": "2022-06-15T07:35:34.555Z"
   },
   {
    "duration": 29,
    "start_time": "2022-06-15T07:35:34.849Z"
   },
   {
    "duration": 62,
    "start_time": "2022-06-15T07:35:34.879Z"
   },
   {
    "duration": 5,
    "start_time": "2022-06-15T07:35:34.943Z"
   },
   {
    "duration": 8,
    "start_time": "2022-06-15T07:35:34.949Z"
   },
   {
    "duration": 14,
    "start_time": "2022-06-15T07:35:34.958Z"
   },
   {
    "duration": 9,
    "start_time": "2022-06-15T07:35:34.973Z"
   },
   {
    "duration": 60,
    "start_time": "2022-06-15T07:35:34.984Z"
   },
   {
    "duration": 385,
    "start_time": "2022-06-15T07:35:35.046Z"
   },
   {
    "duration": 3,
    "start_time": "2022-06-15T08:37:04.846Z"
   },
   {
    "duration": 313,
    "start_time": "2022-06-15T08:37:16.777Z"
   },
   {
    "duration": 22,
    "start_time": "2022-06-15T09:18:25.724Z"
   },
   {
    "duration": 99,
    "start_time": "2022-06-15T09:23:20.603Z"
   },
   {
    "duration": 15,
    "start_time": "2022-06-15T09:46:52.855Z"
   },
   {
    "duration": 5,
    "start_time": "2022-06-15T09:47:59.200Z"
   },
   {
    "duration": 440,
    "start_time": "2022-06-15T09:50:46.303Z"
   },
   {
    "duration": 267,
    "start_time": "2022-06-15T09:50:46.748Z"
   },
   {
    "duration": 3,
    "start_time": "2022-06-15T09:50:47.017Z"
   },
   {
    "duration": 385,
    "start_time": "2022-06-15T09:50:47.021Z"
   },
   {
    "duration": 44,
    "start_time": "2022-06-15T09:50:47.408Z"
   },
   {
    "duration": 44,
    "start_time": "2022-06-15T09:50:47.454Z"
   },
   {
    "duration": 96,
    "start_time": "2022-06-15T09:50:47.499Z"
   },
   {
    "duration": 3,
    "start_time": "2022-06-15T09:50:47.597Z"
   },
   {
    "duration": 30,
    "start_time": "2022-06-15T09:50:47.602Z"
   },
   {
    "duration": 41,
    "start_time": "2022-06-15T09:50:47.635Z"
   },
   {
    "duration": 24,
    "start_time": "2022-06-15T09:50:47.678Z"
   },
   {
    "duration": 34,
    "start_time": "2022-06-15T09:50:47.704Z"
   },
   {
    "duration": 90,
    "start_time": "2022-06-15T09:50:47.739Z"
   },
   {
    "duration": 263,
    "start_time": "2022-06-15T09:50:47.831Z"
   },
   {
    "duration": 55,
    "start_time": "2022-06-15T10:34:38.050Z"
   },
   {
    "duration": 71,
    "start_time": "2022-06-15T10:34:45.837Z"
   },
   {
    "duration": 129,
    "start_time": "2022-06-15T10:37:52.095Z"
   },
   {
    "duration": 964,
    "start_time": "2022-06-15T10:41:22.104Z"
   },
   {
    "duration": 415,
    "start_time": "2022-06-15T10:41:28.479Z"
   },
   {
    "duration": 344,
    "start_time": "2022-06-15T10:42:08.945Z"
   },
   {
    "duration": 427,
    "start_time": "2022-06-15T10:42:15.557Z"
   },
   {
    "duration": 75,
    "start_time": "2022-06-15T10:44:14.353Z"
   },
   {
    "duration": 132,
    "start_time": "2022-06-15T10:44:22.218Z"
   },
   {
    "duration": 138,
    "start_time": "2022-06-15T10:44:25.913Z"
   },
   {
    "duration": 130,
    "start_time": "2022-06-15T10:51:40.237Z"
   },
   {
    "duration": 678,
    "start_time": "2022-06-15T10:51:42.088Z"
   },
   {
    "duration": 57,
    "start_time": "2022-06-15T10:51:56.451Z"
   },
   {
    "duration": 285,
    "start_time": "2022-06-15T10:51:58.242Z"
   },
   {
    "duration": 444,
    "start_time": "2022-06-15T10:52:06.046Z"
   },
   {
    "duration": 49,
    "start_time": "2022-06-15T11:00:47.767Z"
   },
   {
    "duration": 6,
    "start_time": "2022-06-15T11:01:12.970Z"
   },
   {
    "duration": 10,
    "start_time": "2022-06-15T11:01:16.038Z"
   },
   {
    "duration": 3,
    "start_time": "2022-06-15T11:01:34.637Z"
   },
   {
    "duration": 1158,
    "start_time": "2022-06-15T11:02:20.991Z"
   },
   {
    "duration": 921,
    "start_time": "2022-06-15T11:02:35.994Z"
   },
   {
    "duration": 281,
    "start_time": "2022-06-15T11:03:28.676Z"
   },
   {
    "duration": 368,
    "start_time": "2022-06-15T11:03:36.411Z"
   },
   {
    "duration": 11,
    "start_time": "2022-06-15T11:04:23.627Z"
   },
   {
    "duration": 13,
    "start_time": "2022-06-15T11:04:27.444Z"
   },
   {
    "duration": 44,
    "start_time": "2022-06-15T11:08:14.635Z"
   },
   {
    "duration": 320,
    "start_time": "2022-06-15T11:08:25.947Z"
   },
   {
    "duration": 14,
    "start_time": "2022-06-15T11:13:26.988Z"
   },
   {
    "duration": 393,
    "start_time": "2022-06-15T11:15:57.140Z"
   },
   {
    "duration": 30,
    "start_time": "2022-06-15T11:18:50.190Z"
   },
   {
    "duration": 46,
    "start_time": "2022-06-15T11:20:04.205Z"
   },
   {
    "duration": 33,
    "start_time": "2022-06-15T11:20:20.916Z"
   },
   {
    "duration": 47,
    "start_time": "2022-06-15T11:29:13.551Z"
   },
   {
    "duration": 34,
    "start_time": "2022-06-15T11:29:23.521Z"
   },
   {
    "duration": 34,
    "start_time": "2022-06-15T11:30:06.479Z"
   },
   {
    "duration": 35,
    "start_time": "2022-06-15T11:30:13.314Z"
   },
   {
    "duration": 35,
    "start_time": "2022-06-15T11:31:00.875Z"
   },
   {
    "duration": 35,
    "start_time": "2022-06-15T11:31:13.380Z"
   },
   {
    "duration": 34,
    "start_time": "2022-06-15T11:34:27.090Z"
   },
   {
    "duration": 33,
    "start_time": "2022-06-15T11:34:34.454Z"
   },
   {
    "duration": 15,
    "start_time": "2022-06-15T11:39:16.456Z"
   },
   {
    "duration": 29,
    "start_time": "2022-06-15T11:41:07.622Z"
   },
   {
    "duration": 8,
    "start_time": "2022-06-15T11:44:02.802Z"
   },
   {
    "duration": 96,
    "start_time": "2022-06-15T11:44:10.843Z"
   },
   {
    "duration": 103,
    "start_time": "2022-06-15T11:44:14.522Z"
   },
   {
    "duration": 12,
    "start_time": "2022-06-15T11:45:04.640Z"
   },
   {
    "duration": 57,
    "start_time": "2022-06-15T11:45:09.483Z"
   },
   {
    "duration": 292,
    "start_time": "2022-06-15T11:52:17.411Z"
   },
   {
    "duration": 9,
    "start_time": "2022-06-15T11:53:49.381Z"
   },
   {
    "duration": 8,
    "start_time": "2022-06-15T11:53:58.843Z"
   },
   {
    "duration": 10,
    "start_time": "2022-06-15T11:54:05.897Z"
   },
   {
    "duration": 161,
    "start_time": "2022-06-15T11:54:12.099Z"
   },
   {
    "duration": 412,
    "start_time": "2022-06-15T11:55:58.314Z"
   },
   {
    "duration": 198,
    "start_time": "2022-06-15T11:56:07.144Z"
   },
   {
    "duration": 75,
    "start_time": "2022-06-15T11:56:26.292Z"
   },
   {
    "duration": 62,
    "start_time": "2022-06-15T11:56:42.221Z"
   },
   {
    "duration": 61,
    "start_time": "2022-06-15T11:58:32.614Z"
   },
   {
    "duration": 75,
    "start_time": "2022-06-15T11:59:32.285Z"
   },
   {
    "duration": 61,
    "start_time": "2022-06-15T11:59:40.767Z"
   },
   {
    "duration": 28,
    "start_time": "2022-06-15T12:01:10.154Z"
   },
   {
    "duration": 4,
    "start_time": "2022-06-15T12:01:14.355Z"
   },
   {
    "duration": 40,
    "start_time": "2022-06-15T12:01:32.447Z"
   },
   {
    "duration": 90,
    "start_time": "2022-06-15T12:03:04.082Z"
   },
   {
    "duration": 20,
    "start_time": "2022-06-15T12:03:18.769Z"
   },
   {
    "duration": 19,
    "start_time": "2022-06-15T12:03:34.627Z"
   },
   {
    "duration": 19,
    "start_time": "2022-06-15T12:03:40.235Z"
   },
   {
    "duration": 32,
    "start_time": "2022-06-15T12:04:09.894Z"
   },
   {
    "duration": 25,
    "start_time": "2022-06-15T12:04:13.427Z"
   },
   {
    "duration": 59,
    "start_time": "2022-06-15T12:04:36.554Z"
   },
   {
    "duration": 39,
    "start_time": "2022-06-15T12:05:50.751Z"
   },
   {
    "duration": 40,
    "start_time": "2022-06-15T12:05:54.290Z"
   },
   {
    "duration": 40,
    "start_time": "2022-06-15T12:06:07.322Z"
   },
   {
    "duration": 57,
    "start_time": "2022-06-15T12:07:54.548Z"
   },
   {
    "duration": 64,
    "start_time": "2022-06-15T12:08:16.388Z"
   },
   {
    "duration": 1355,
    "start_time": "2022-06-15T16:03:21.231Z"
   },
   {
    "duration": 640,
    "start_time": "2022-06-15T16:03:22.588Z"
   },
   {
    "duration": 4,
    "start_time": "2022-06-15T16:03:23.230Z"
   },
   {
    "duration": 346,
    "start_time": "2022-06-15T16:03:23.236Z"
   },
   {
    "duration": 28,
    "start_time": "2022-06-15T16:03:23.584Z"
   },
   {
    "duration": 72,
    "start_time": "2022-06-15T16:03:23.614Z"
   },
   {
    "duration": 105,
    "start_time": "2022-06-15T16:03:23.688Z"
   },
   {
    "duration": 5,
    "start_time": "2022-06-15T16:03:23.795Z"
   },
   {
    "duration": 58,
    "start_time": "2022-06-15T16:03:23.802Z"
   },
   {
    "duration": 10,
    "start_time": "2022-06-15T16:03:23.862Z"
   },
   {
    "duration": 39,
    "start_time": "2022-06-15T16:03:23.874Z"
   },
   {
    "duration": 485,
    "start_time": "2022-06-15T16:03:23.915Z"
   },
   {
    "duration": 2,
    "start_time": "2022-06-15T16:03:24.402Z"
   },
   {
    "duration": 7,
    "start_time": "2022-06-15T16:03:24.406Z"
   },
   {
    "duration": 10,
    "start_time": "2022-06-15T16:03:24.415Z"
   },
   {
    "duration": 7,
    "start_time": "2022-06-15T16:03:24.427Z"
   },
   {
    "duration": 11,
    "start_time": "2022-06-15T16:03:24.436Z"
   },
   {
    "duration": 12,
    "start_time": "2022-06-15T16:03:24.448Z"
   },
   {
    "duration": 4,
    "start_time": "2022-06-15T16:03:24.462Z"
   },
   {
    "duration": 6,
    "start_time": "2022-06-15T16:03:24.468Z"
   },
   {
    "duration": 22,
    "start_time": "2022-06-15T16:05:25.650Z"
   },
   {
    "duration": 10,
    "start_time": "2022-06-15T16:05:39.907Z"
   },
   {
    "duration": 128,
    "start_time": "2022-06-15T16:07:44.259Z"
   },
   {
    "duration": 39,
    "start_time": "2022-06-15T16:08:04.853Z"
   },
   {
    "duration": 47,
    "start_time": "2022-06-15T16:08:20.218Z"
   },
   {
    "duration": 32,
    "start_time": "2022-06-15T16:09:46.756Z"
   },
   {
    "duration": 95,
    "start_time": "2022-06-15T16:14:34.174Z"
   },
   {
    "duration": 75,
    "start_time": "2022-06-15T16:15:15.840Z"
   },
   {
    "duration": 76,
    "start_time": "2022-06-15T16:15:20.290Z"
   },
   {
    "duration": 58,
    "start_time": "2022-06-15T16:16:21.387Z"
   },
   {
    "duration": 94,
    "start_time": "2022-06-15T16:16:48.159Z"
   },
   {
    "duration": 124,
    "start_time": "2022-06-15T16:18:34.441Z"
   },
   {
    "duration": 105,
    "start_time": "2022-06-15T16:18:41.523Z"
   },
   {
    "duration": 97,
    "start_time": "2022-06-15T16:20:36.688Z"
   },
   {
    "duration": 1210,
    "start_time": "2022-06-15T16:20:46.351Z"
   },
   {
    "duration": 505,
    "start_time": "2022-06-15T16:20:47.563Z"
   },
   {
    "duration": 4,
    "start_time": "2022-06-15T16:20:48.070Z"
   },
   {
    "duration": 311,
    "start_time": "2022-06-15T16:20:48.075Z"
   },
   {
    "duration": 27,
    "start_time": "2022-06-15T16:20:48.389Z"
   },
   {
    "duration": 67,
    "start_time": "2022-06-15T16:20:48.418Z"
   },
   {
    "duration": 101,
    "start_time": "2022-06-15T16:20:48.487Z"
   },
   {
    "duration": 3,
    "start_time": "2022-06-15T16:20:48.590Z"
   },
   {
    "duration": 69,
    "start_time": "2022-06-15T16:20:48.594Z"
   },
   {
    "duration": 11,
    "start_time": "2022-06-15T16:20:48.665Z"
   },
   {
    "duration": 35,
    "start_time": "2022-06-15T16:20:48.677Z"
   },
   {
    "duration": 427,
    "start_time": "2022-06-15T16:20:48.713Z"
   },
   {
    "duration": 9,
    "start_time": "2022-06-15T16:20:49.141Z"
   },
   {
    "duration": 4,
    "start_time": "2022-06-15T16:20:49.152Z"
   },
   {
    "duration": 7,
    "start_time": "2022-06-15T16:20:49.157Z"
   },
   {
    "duration": 96,
    "start_time": "2022-06-15T16:20:49.165Z"
   },
   {
    "duration": 67,
    "start_time": "2022-06-15T16:21:02.746Z"
   },
   {
    "duration": 66,
    "start_time": "2022-06-15T16:21:08.390Z"
   },
   {
    "duration": 92,
    "start_time": "2022-06-15T16:21:46.913Z"
   },
   {
    "duration": 95,
    "start_time": "2022-06-15T16:21:59.347Z"
   },
   {
    "duration": 101,
    "start_time": "2022-06-15T16:22:20.041Z"
   },
   {
    "duration": 93,
    "start_time": "2022-06-15T16:23:29.124Z"
   },
   {
    "duration": 45,
    "start_time": "2022-06-16T03:50:58.507Z"
   },
   {
    "duration": 1268,
    "start_time": "2022-06-16T03:51:03.532Z"
   },
   {
    "duration": 635,
    "start_time": "2022-06-16T03:51:04.802Z"
   },
   {
    "duration": 4,
    "start_time": "2022-06-16T03:51:05.438Z"
   },
   {
    "duration": 302,
    "start_time": "2022-06-16T03:51:05.444Z"
   },
   {
    "duration": 27,
    "start_time": "2022-06-16T03:51:05.751Z"
   },
   {
    "duration": 37,
    "start_time": "2022-06-16T03:51:05.779Z"
   },
   {
    "duration": 120,
    "start_time": "2022-06-16T03:51:05.818Z"
   },
   {
    "duration": 14,
    "start_time": "2022-06-16T03:51:05.940Z"
   },
   {
    "duration": 63,
    "start_time": "2022-06-16T03:51:05.956Z"
   },
   {
    "duration": 12,
    "start_time": "2022-06-16T03:51:06.022Z"
   },
   {
    "duration": 38,
    "start_time": "2022-06-16T03:51:06.053Z"
   },
   {
    "duration": 435,
    "start_time": "2022-06-16T03:51:06.093Z"
   },
   {
    "duration": 102,
    "start_time": "2022-06-16T03:51:06.529Z"
   },
   {
    "duration": 9,
    "start_time": "2022-06-16T03:51:06.633Z"
   },
   {
    "duration": 441,
    "start_time": "2022-06-16T03:55:55.110Z"
   },
   {
    "duration": 12,
    "start_time": "2022-06-16T03:56:42.418Z"
   },
   {
    "duration": 18,
    "start_time": "2022-06-16T03:57:00.060Z"
   },
   {
    "duration": 13,
    "start_time": "2022-06-16T03:57:06.671Z"
   },
   {
    "duration": 11,
    "start_time": "2022-06-16T03:57:14.349Z"
   },
   {
    "duration": 15,
    "start_time": "2022-06-16T03:58:16.807Z"
   },
   {
    "duration": 16,
    "start_time": "2022-06-16T03:58:27.496Z"
   },
   {
    "duration": 15,
    "start_time": "2022-06-16T03:59:52.736Z"
   },
   {
    "duration": 20,
    "start_time": "2022-06-16T04:00:08.612Z"
   },
   {
    "duration": 12,
    "start_time": "2022-06-16T04:00:37.069Z"
   },
   {
    "duration": 5,
    "start_time": "2022-06-16T04:00:51.453Z"
   },
   {
    "duration": 21,
    "start_time": "2022-06-16T04:00:58.358Z"
   },
   {
    "duration": 883,
    "start_time": "2022-06-16T04:02:39.172Z"
   },
   {
    "duration": 318,
    "start_time": "2022-06-16T04:04:00.330Z"
   },
   {
    "duration": 345,
    "start_time": "2022-06-16T04:05:44.039Z"
   },
   {
    "duration": 295,
    "start_time": "2022-06-16T04:05:57.129Z"
   },
   {
    "duration": 11,
    "start_time": "2022-06-16T04:06:30.271Z"
   },
   {
    "duration": 52,
    "start_time": "2022-06-16T04:07:51.934Z"
   },
   {
    "duration": 298,
    "start_time": "2022-06-16T04:08:41.604Z"
   },
   {
    "duration": 295,
    "start_time": "2022-06-16T04:09:19.341Z"
   },
   {
    "duration": 299,
    "start_time": "2022-06-16T04:09:27.162Z"
   },
   {
    "duration": 19,
    "start_time": "2022-06-16T04:09:47.162Z"
   },
   {
    "duration": 28,
    "start_time": "2022-06-16T04:12:33.396Z"
   },
   {
    "duration": 28,
    "start_time": "2022-06-16T04:12:45.197Z"
   },
   {
    "duration": 20,
    "start_time": "2022-06-16T04:12:49.640Z"
   },
   {
    "duration": 9,
    "start_time": "2022-06-16T04:13:08.477Z"
   },
   {
    "duration": 13,
    "start_time": "2022-06-16T04:13:26.214Z"
   },
   {
    "duration": 16,
    "start_time": "2022-06-16T04:13:29.119Z"
   },
   {
    "duration": 15,
    "start_time": "2022-06-16T04:13:48.117Z"
   },
   {
    "duration": 14,
    "start_time": "2022-06-16T04:14:00.244Z"
   },
   {
    "duration": 10,
    "start_time": "2022-06-16T04:14:24.455Z"
   },
   {
    "duration": 52,
    "start_time": "2022-06-16T04:15:49.856Z"
   },
   {
    "duration": 287,
    "start_time": "2022-06-16T04:16:09.934Z"
   },
   {
    "duration": 1095,
    "start_time": "2022-06-16T04:16:38.530Z"
   },
   {
    "duration": 253,
    "start_time": "2022-06-16T04:16:39.627Z"
   },
   {
    "duration": 4,
    "start_time": "2022-06-16T04:16:39.882Z"
   },
   {
    "duration": 314,
    "start_time": "2022-06-16T04:16:39.888Z"
   },
   {
    "duration": 27,
    "start_time": "2022-06-16T04:16:40.204Z"
   },
   {
    "duration": 54,
    "start_time": "2022-06-16T04:16:40.233Z"
   },
   {
    "duration": 107,
    "start_time": "2022-06-16T04:16:40.289Z"
   },
   {
    "duration": 5,
    "start_time": "2022-06-16T04:16:40.398Z"
   },
   {
    "duration": 56,
    "start_time": "2022-06-16T04:16:40.405Z"
   },
   {
    "duration": 12,
    "start_time": "2022-06-16T04:16:40.463Z"
   },
   {
    "duration": 37,
    "start_time": "2022-06-16T04:16:40.477Z"
   },
   {
    "duration": 548,
    "start_time": "2022-06-16T04:16:40.516Z"
   },
   {
    "duration": 97,
    "start_time": "2022-06-16T04:16:41.066Z"
   },
   {
    "duration": 287,
    "start_time": "2022-06-16T04:16:41.166Z"
   },
   {
    "duration": 198,
    "start_time": "2022-06-16T04:17:51.523Z"
   },
   {
    "duration": 139,
    "start_time": "2022-06-16T04:18:11.653Z"
   },
   {
    "duration": 178,
    "start_time": "2022-06-16T04:18:17.959Z"
   },
   {
    "duration": 287,
    "start_time": "2022-06-16T04:18:28.193Z"
   },
   {
    "duration": 1078,
    "start_time": "2022-06-16T04:18:52.256Z"
   },
   {
    "duration": 243,
    "start_time": "2022-06-16T04:18:53.337Z"
   },
   {
    "duration": 4,
    "start_time": "2022-06-16T04:18:53.581Z"
   },
   {
    "duration": 320,
    "start_time": "2022-06-16T04:18:53.586Z"
   },
   {
    "duration": 47,
    "start_time": "2022-06-16T04:18:53.909Z"
   },
   {
    "duration": 43,
    "start_time": "2022-06-16T04:18:53.957Z"
   },
   {
    "duration": 122,
    "start_time": "2022-06-16T04:18:54.002Z"
   },
   {
    "duration": 4,
    "start_time": "2022-06-16T04:18:54.126Z"
   },
   {
    "duration": 62,
    "start_time": "2022-06-16T04:18:54.132Z"
   },
   {
    "duration": 13,
    "start_time": "2022-06-16T04:18:54.196Z"
   },
   {
    "duration": 55,
    "start_time": "2022-06-16T04:18:54.211Z"
   },
   {
    "duration": 464,
    "start_time": "2022-06-16T04:18:54.268Z"
   },
   {
    "duration": 107,
    "start_time": "2022-06-16T04:18:54.734Z"
   },
   {
    "duration": 362,
    "start_time": "2022-06-16T04:18:54.843Z"
   },
   {
    "duration": 873,
    "start_time": "2022-06-16T04:19:27.105Z"
   },
   {
    "duration": 9,
    "start_time": "2022-06-16T04:20:05.824Z"
   },
   {
    "duration": 20,
    "start_time": "2022-06-16T04:20:21.511Z"
   },
   {
    "duration": 351,
    "start_time": "2022-06-16T04:20:24.945Z"
   },
   {
    "duration": 248,
    "start_time": "2022-06-16T04:20:36.356Z"
   },
   {
    "duration": 256,
    "start_time": "2022-06-16T04:20:40.077Z"
   },
   {
    "duration": 24,
    "start_time": "2022-06-16T04:21:04.341Z"
   },
   {
    "duration": 922,
    "start_time": "2022-06-16T04:21:16.536Z"
   },
   {
    "duration": 902,
    "start_time": "2022-06-16T04:21:27.263Z"
   },
   {
    "duration": 18,
    "start_time": "2022-06-16T04:22:24.682Z"
   },
   {
    "duration": 935,
    "start_time": "2022-06-16T04:22:32.089Z"
   },
   {
    "duration": 943,
    "start_time": "2022-06-16T04:22:39.697Z"
   },
   {
    "duration": 310,
    "start_time": "2022-06-16T04:23:35.270Z"
   },
   {
    "duration": 309,
    "start_time": "2022-06-16T04:23:38.717Z"
   },
   {
    "duration": 944,
    "start_time": "2022-06-16T04:24:01.538Z"
   },
   {
    "duration": 322,
    "start_time": "2022-06-16T04:24:04.612Z"
   },
   {
    "duration": 1153,
    "start_time": "2022-06-16T04:27:20.845Z"
   },
   {
    "duration": 1246,
    "start_time": "2022-06-16T04:27:39.402Z"
   },
   {
    "duration": 1202,
    "start_time": "2022-06-16T04:27:52.340Z"
   },
   {
    "duration": 5,
    "start_time": "2022-06-16T04:34:29.547Z"
   },
   {
    "duration": 27,
    "start_time": "2022-06-16T04:37:42.896Z"
   },
   {
    "duration": 5,
    "start_time": "2022-06-16T04:38:41.309Z"
   },
   {
    "duration": 4,
    "start_time": "2022-06-16T04:40:18.475Z"
   },
   {
    "duration": 26,
    "start_time": "2022-06-16T04:41:42.046Z"
   },
   {
    "duration": 6,
    "start_time": "2022-06-16T04:41:45.798Z"
   },
   {
    "duration": 5,
    "start_time": "2022-06-16T04:42:28.716Z"
   },
   {
    "duration": 5,
    "start_time": "2022-06-16T04:42:53.205Z"
   },
   {
    "duration": 1243,
    "start_time": "2022-06-16T04:43:02.184Z"
   },
   {
    "duration": 152,
    "start_time": "2022-06-16T04:51:25.888Z"
   },
   {
    "duration": 315,
    "start_time": "2022-06-16T04:51:33.058Z"
   },
   {
    "duration": 236,
    "start_time": "2022-06-16T04:51:53.769Z"
   },
   {
    "duration": 321,
    "start_time": "2022-06-16T04:51:57.850Z"
   },
   {
    "duration": 363,
    "start_time": "2022-06-16T04:52:02.758Z"
   },
   {
    "duration": 34,
    "start_time": "2022-06-16T04:52:54.679Z"
   },
   {
    "duration": 261,
    "start_time": "2022-06-16T04:53:10.545Z"
   },
   {
    "duration": 293,
    "start_time": "2022-06-16T04:53:58.768Z"
   },
   {
    "duration": 298,
    "start_time": "2022-06-16T04:54:13.103Z"
   },
   {
    "duration": 317,
    "start_time": "2022-06-16T04:55:46.959Z"
   },
   {
    "duration": 337,
    "start_time": "2022-06-16T04:56:33.289Z"
   },
   {
    "duration": 435,
    "start_time": "2022-06-16T04:56:42.898Z"
   },
   {
    "duration": 323,
    "start_time": "2022-06-16T04:57:42.710Z"
   },
   {
    "duration": 325,
    "start_time": "2022-06-16T04:57:48.482Z"
   },
   {
    "duration": 356,
    "start_time": "2022-06-16T04:57:58.391Z"
   },
   {
    "duration": 14,
    "start_time": "2022-06-16T04:58:04.749Z"
   },
   {
    "duration": 333,
    "start_time": "2022-06-16T04:58:13.149Z"
   },
   {
    "duration": 166,
    "start_time": "2022-06-16T04:58:46.951Z"
   },
   {
    "duration": 477,
    "start_time": "2022-06-16T04:58:53.917Z"
   },
   {
    "duration": 14,
    "start_time": "2022-06-16T04:59:16.003Z"
   },
   {
    "duration": 319,
    "start_time": "2022-06-16T04:59:21.793Z"
   },
   {
    "duration": 324,
    "start_time": "2022-06-16T04:59:36.945Z"
   },
   {
    "duration": 328,
    "start_time": "2022-06-16T05:00:46.699Z"
   },
   {
    "duration": 4,
    "start_time": "2022-06-16T05:16:59.002Z"
   },
   {
    "duration": 4,
    "start_time": "2022-06-16T05:17:07.360Z"
   },
   {
    "duration": 8,
    "start_time": "2022-06-16T05:19:49.854Z"
   },
   {
    "duration": 9,
    "start_time": "2022-06-16T05:21:38.216Z"
   },
   {
    "duration": 10,
    "start_time": "2022-06-16T05:21:51.386Z"
   },
   {
    "duration": 7,
    "start_time": "2022-06-16T05:22:10.472Z"
   },
   {
    "duration": 10,
    "start_time": "2022-06-16T05:31:32.050Z"
   },
   {
    "duration": 11,
    "start_time": "2022-06-16T05:36:02.116Z"
   },
   {
    "duration": 9,
    "start_time": "2022-06-16T05:36:14.719Z"
   },
   {
    "duration": 52,
    "start_time": "2022-06-16T06:06:08.404Z"
   },
   {
    "duration": 55,
    "start_time": "2022-06-16T06:06:12.228Z"
   },
   {
    "duration": 53,
    "start_time": "2022-06-16T06:07:10.553Z"
   },
   {
    "duration": 76,
    "start_time": "2022-06-16T06:11:41.046Z"
   },
   {
    "duration": 86,
    "start_time": "2022-06-16T06:13:50.608Z"
   },
   {
    "duration": 55,
    "start_time": "2022-06-16T06:13:53.997Z"
   },
   {
    "duration": 58,
    "start_time": "2022-06-16T06:14:05.904Z"
   },
   {
    "duration": 65,
    "start_time": "2022-06-16T06:15:05.818Z"
   },
   {
    "duration": 63,
    "start_time": "2022-06-16T06:15:30.329Z"
   },
   {
    "duration": 61,
    "start_time": "2022-06-16T06:15:38.022Z"
   },
   {
    "duration": 69,
    "start_time": "2022-06-16T06:16:26.527Z"
   },
   {
    "duration": 68,
    "start_time": "2022-06-16T06:16:34.026Z"
   },
   {
    "duration": 73,
    "start_time": "2022-06-16T06:16:54.327Z"
   },
   {
    "duration": 59,
    "start_time": "2022-06-16T06:18:46.742Z"
   },
   {
    "duration": 228,
    "start_time": "2022-06-16T06:19:56.833Z"
   },
   {
    "duration": 239,
    "start_time": "2022-06-16T06:20:29.001Z"
   },
   {
    "duration": 251,
    "start_time": "2022-06-16T06:20:35.186Z"
   },
   {
    "duration": 361,
    "start_time": "2022-06-16T06:20:44.362Z"
   },
   {
    "duration": 354,
    "start_time": "2022-06-16T06:26:30.521Z"
   },
   {
    "duration": 329,
    "start_time": "2022-06-16T06:27:26.632Z"
   },
   {
    "duration": 348,
    "start_time": "2022-06-16T06:28:28.958Z"
   },
   {
    "duration": 60,
    "start_time": "2022-06-16T06:28:59.670Z"
   },
   {
    "duration": 339,
    "start_time": "2022-06-16T06:29:02.517Z"
   },
   {
    "duration": 124,
    "start_time": "2022-06-16T06:29:28.725Z"
   },
   {
    "duration": 342,
    "start_time": "2022-06-16T06:29:37.774Z"
   },
   {
    "duration": 69,
    "start_time": "2022-06-16T06:30:26.635Z"
   },
   {
    "duration": 308,
    "start_time": "2022-06-16T06:30:29.695Z"
   },
   {
    "duration": 490,
    "start_time": "2022-06-16T06:32:02.901Z"
   },
   {
    "duration": 9,
    "start_time": "2022-06-16T06:32:13.874Z"
   },
   {
    "duration": 225,
    "start_time": "2022-06-16T06:32:17.346Z"
   },
   {
    "duration": 258,
    "start_time": "2022-06-16T06:32:30.611Z"
   },
   {
    "duration": 239,
    "start_time": "2022-06-16T06:33:23.630Z"
   },
   {
    "duration": 265,
    "start_time": "2022-06-16T06:33:47.487Z"
   },
   {
    "duration": 317,
    "start_time": "2022-06-16T06:33:52.578Z"
   },
   {
    "duration": 70,
    "start_time": "2022-06-16T06:37:11.037Z"
   },
   {
    "duration": 52,
    "start_time": "2022-06-16T06:38:39.532Z"
   },
   {
    "duration": 50,
    "start_time": "2022-06-16T06:38:48.867Z"
   },
   {
    "duration": 39,
    "start_time": "2022-06-16T06:40:05.230Z"
   },
   {
    "duration": 23,
    "start_time": "2022-06-16T06:40:13.388Z"
   },
   {
    "duration": 20,
    "start_time": "2022-06-16T06:40:23.163Z"
   },
   {
    "duration": 22,
    "start_time": "2022-06-16T06:40:31.240Z"
   },
   {
    "duration": 23,
    "start_time": "2022-06-16T06:40:38.271Z"
   },
   {
    "duration": 151,
    "start_time": "2022-06-16T06:41:50.684Z"
   },
   {
    "duration": 57,
    "start_time": "2022-06-16T06:46:20.145Z"
   },
   {
    "duration": 46,
    "start_time": "2022-06-16T06:46:40.935Z"
   },
   {
    "duration": 49,
    "start_time": "2022-06-16T06:46:49.840Z"
   },
   {
    "duration": 49,
    "start_time": "2022-06-16T06:46:57.667Z"
   },
   {
    "duration": 54,
    "start_time": "2022-06-16T06:47:13.223Z"
   },
   {
    "duration": 53,
    "start_time": "2022-06-16T06:47:19.001Z"
   },
   {
    "duration": 48,
    "start_time": "2022-06-16T06:47:46.924Z"
   },
   {
    "duration": 53,
    "start_time": "2022-06-16T06:48:50.137Z"
   },
   {
    "duration": 59,
    "start_time": "2022-06-16T06:52:00.827Z"
   },
   {
    "duration": 279,
    "start_time": "2022-06-16T06:54:14.141Z"
   },
   {
    "duration": 326,
    "start_time": "2022-06-16T07:00:20.617Z"
   },
   {
    "duration": 57,
    "start_time": "2022-06-16T07:00:50.914Z"
   },
   {
    "duration": 117,
    "start_time": "2022-06-16T07:01:00.884Z"
   },
   {
    "duration": 46,
    "start_time": "2022-06-16T07:01:08.426Z"
   },
   {
    "duration": 20,
    "start_time": "2022-06-16T07:01:43.419Z"
   },
   {
    "duration": 288,
    "start_time": "2022-06-16T07:01:51.787Z"
   },
   {
    "duration": 235,
    "start_time": "2022-06-16T07:02:01.303Z"
   },
   {
    "duration": 272,
    "start_time": "2022-06-16T07:02:05.681Z"
   },
   {
    "duration": 1320,
    "start_time": "2022-06-16T12:53:17.140Z"
   },
   {
    "duration": 668,
    "start_time": "2022-06-16T12:53:18.462Z"
   },
   {
    "duration": 5,
    "start_time": "2022-06-16T12:53:19.132Z"
   },
   {
    "duration": 398,
    "start_time": "2022-06-16T12:53:19.139Z"
   },
   {
    "duration": 41,
    "start_time": "2022-06-16T12:53:19.539Z"
   },
   {
    "duration": 40,
    "start_time": "2022-06-16T12:53:19.582Z"
   },
   {
    "duration": 120,
    "start_time": "2022-06-16T12:53:19.624Z"
   },
   {
    "duration": 4,
    "start_time": "2022-06-16T12:53:19.747Z"
   },
   {
    "duration": 60,
    "start_time": "2022-06-16T12:53:19.752Z"
   },
   {
    "duration": 13,
    "start_time": "2022-06-16T12:53:19.815Z"
   },
   {
    "duration": 62,
    "start_time": "2022-06-16T12:53:19.830Z"
   },
   {
    "duration": 469,
    "start_time": "2022-06-16T12:53:19.894Z"
   },
   {
    "duration": 116,
    "start_time": "2022-06-16T12:53:20.365Z"
   },
   {
    "duration": 1213,
    "start_time": "2022-06-16T12:53:20.483Z"
   },
   {
    "duration": 372,
    "start_time": "2022-06-16T12:53:21.697Z"
   },
   {
    "duration": 10,
    "start_time": "2022-06-16T12:53:22.071Z"
   },
   {
    "duration": 57,
    "start_time": "2022-06-16T12:53:22.083Z"
   },
   {
    "duration": 292,
    "start_time": "2022-06-16T12:53:22.141Z"
   },
   {
    "duration": 6,
    "start_time": "2022-06-16T13:00:56.404Z"
   },
   {
    "duration": 496,
    "start_time": "2022-06-16T13:01:16.161Z"
   },
   {
    "duration": 976,
    "start_time": "2022-06-16T13:01:33.773Z"
   },
   {
    "duration": 9,
    "start_time": "2022-06-16T13:01:40.235Z"
   },
   {
    "duration": 40,
    "start_time": "2022-06-16T13:02:26.253Z"
   },
   {
    "duration": 1053,
    "start_time": "2022-06-16T13:03:18.360Z"
   },
   {
    "duration": 10,
    "start_time": "2022-06-16T13:03:21.392Z"
   },
   {
    "duration": 35,
    "start_time": "2022-06-16T13:08:55.666Z"
   },
   {
    "duration": 39,
    "start_time": "2022-06-16T13:09:02.537Z"
   },
   {
    "duration": 25,
    "start_time": "2022-06-16T13:09:16.687Z"
   },
   {
    "duration": 18,
    "start_time": "2022-06-16T13:09:25.292Z"
   },
   {
    "duration": 19,
    "start_time": "2022-06-16T13:09:42.759Z"
   },
   {
    "duration": 17,
    "start_time": "2022-06-16T13:11:09.183Z"
   },
   {
    "duration": 1343,
    "start_time": "2022-06-16T13:18:03.794Z"
   },
   {
    "duration": 6,
    "start_time": "2022-06-16T13:18:07.184Z"
   },
   {
    "duration": 6,
    "start_time": "2022-06-16T13:18:12.107Z"
   },
   {
    "duration": 31,
    "start_time": "2022-06-16T13:18:35.076Z"
   },
   {
    "duration": 1216,
    "start_time": "2022-06-16T13:18:51.316Z"
   },
   {
    "duration": 6,
    "start_time": "2022-06-16T13:18:54.643Z"
   },
   {
    "duration": 51,
    "start_time": "2022-06-16T13:19:10.712Z"
   },
   {
    "duration": 1235,
    "start_time": "2022-06-16T13:19:20.395Z"
   },
   {
    "duration": 30,
    "start_time": "2022-06-16T13:20:11.324Z"
   },
   {
    "duration": 1401,
    "start_time": "2022-06-16T13:20:44.456Z"
   },
   {
    "duration": 8,
    "start_time": "2022-06-16T13:20:47.788Z"
   },
   {
    "duration": 45,
    "start_time": "2022-06-16T13:20:59.472Z"
   },
   {
    "duration": 6,
    "start_time": "2022-06-16T13:21:28.609Z"
   },
   {
    "duration": 1311,
    "start_time": "2022-06-16T13:21:41.417Z"
   },
   {
    "duration": 6,
    "start_time": "2022-06-16T13:21:43.270Z"
   },
   {
    "duration": 338,
    "start_time": "2022-06-16T13:23:12.647Z"
   },
   {
    "duration": 13,
    "start_time": "2022-06-16T13:23:19.392Z"
   },
   {
    "duration": 3,
    "start_time": "2022-06-16T13:23:32.431Z"
   },
   {
    "duration": 464,
    "start_time": "2022-06-16T13:25:20.807Z"
   },
   {
    "duration": 4187,
    "start_time": "2022-06-16T13:27:01.343Z"
   },
   {
    "duration": 4149,
    "start_time": "2022-06-16T13:27:54.149Z"
   },
   {
    "duration": 4229,
    "start_time": "2022-06-16T13:28:48.228Z"
   },
   {
    "duration": 4257,
    "start_time": "2022-06-16T13:29:38.078Z"
   },
   {
    "duration": 5738,
    "start_time": "2022-06-16T13:32:15.527Z"
   },
   {
    "duration": 4,
    "start_time": "2022-06-16T13:33:55.883Z"
   },
   {
    "duration": 5649,
    "start_time": "2022-06-16T13:34:02.555Z"
   },
   {
    "duration": 1831,
    "start_time": "2022-06-16T13:38:12.421Z"
   },
   {
    "duration": 12,
    "start_time": "2022-06-16T13:38:21.111Z"
   },
   {
    "duration": 1226,
    "start_time": "2022-06-17T05:04:46.816Z"
   },
   {
    "duration": 648,
    "start_time": "2022-06-17T05:04:48.044Z"
   },
   {
    "duration": 4,
    "start_time": "2022-06-17T05:04:48.693Z"
   },
   {
    "duration": 321,
    "start_time": "2022-06-17T05:04:48.699Z"
   },
   {
    "duration": 38,
    "start_time": "2022-06-17T05:04:49.021Z"
   },
   {
    "duration": 36,
    "start_time": "2022-06-17T05:04:49.061Z"
   },
   {
    "duration": 107,
    "start_time": "2022-06-17T05:04:49.099Z"
   },
   {
    "duration": 4,
    "start_time": "2022-06-17T05:04:49.208Z"
   },
   {
    "duration": 56,
    "start_time": "2022-06-17T05:04:49.214Z"
   },
   {
    "duration": 11,
    "start_time": "2022-06-17T05:04:49.272Z"
   },
   {
    "duration": 37,
    "start_time": "2022-06-17T05:04:49.284Z"
   },
   {
    "duration": 413,
    "start_time": "2022-06-17T05:04:49.323Z"
   },
   {
    "duration": 97,
    "start_time": "2022-06-17T05:04:49.737Z"
   },
   {
    "duration": 1462,
    "start_time": "2022-06-17T05:04:49.837Z"
   },
   {
    "duration": 10,
    "start_time": "2022-06-17T05:04:51.301Z"
   },
   {
    "duration": 10,
    "start_time": "2022-06-17T05:04:51.313Z"
   },
   {
    "duration": 5213,
    "start_time": "2022-06-17T05:04:51.325Z"
   },
   {
    "duration": 52,
    "start_time": "2022-06-17T05:04:56.539Z"
   },
   {
    "duration": 293,
    "start_time": "2022-06-17T05:04:56.592Z"
   },
   {
    "duration": 99,
    "start_time": "2022-06-17T05:12:56.575Z"
   },
   {
    "duration": 1041,
    "start_time": "2022-06-17T05:13:35.323Z"
   },
   {
    "duration": 253,
    "start_time": "2022-06-17T05:13:36.366Z"
   },
   {
    "duration": 3,
    "start_time": "2022-06-17T05:13:36.621Z"
   },
   {
    "duration": 309,
    "start_time": "2022-06-17T05:13:36.626Z"
   },
   {
    "duration": 32,
    "start_time": "2022-06-17T05:13:36.937Z"
   },
   {
    "duration": 36,
    "start_time": "2022-06-17T05:13:36.970Z"
   },
   {
    "duration": 112,
    "start_time": "2022-06-17T05:13:37.007Z"
   },
   {
    "duration": 5,
    "start_time": "2022-06-17T05:13:37.120Z"
   },
   {
    "duration": 71,
    "start_time": "2022-06-17T05:13:37.127Z"
   },
   {
    "duration": 15,
    "start_time": "2022-06-17T05:13:37.200Z"
   },
   {
    "duration": 52,
    "start_time": "2022-06-17T05:13:37.217Z"
   },
   {
    "duration": 444,
    "start_time": "2022-06-17T05:13:37.272Z"
   },
   {
    "duration": 101,
    "start_time": "2022-06-17T05:13:37.717Z"
   },
   {
    "duration": 1457,
    "start_time": "2022-06-17T05:13:37.820Z"
   },
   {
    "duration": 10,
    "start_time": "2022-06-17T05:13:39.279Z"
   },
   {
    "duration": 21,
    "start_time": "2022-06-17T05:13:39.291Z"
   },
   {
    "duration": 116,
    "start_time": "2022-06-17T05:13:39.314Z"
   },
   {
    "duration": 0,
    "start_time": "2022-06-17T05:13:39.432Z"
   },
   {
    "duration": 0,
    "start_time": "2022-06-17T05:13:39.433Z"
   },
   {
    "duration": 2499,
    "start_time": "2022-06-17T05:14:33.867Z"
   },
   {
    "duration": 3,
    "start_time": "2022-06-17T05:18:41.473Z"
   },
   {
    "duration": 275,
    "start_time": "2022-06-17T05:18:41.478Z"
   },
   {
    "duration": 3,
    "start_time": "2022-06-17T05:18:41.755Z"
   },
   {
    "duration": 299,
    "start_time": "2022-06-17T05:18:41.760Z"
   },
   {
    "duration": 27,
    "start_time": "2022-06-17T05:18:42.062Z"
   },
   {
    "duration": 38,
    "start_time": "2022-06-17T05:18:42.090Z"
   },
   {
    "duration": 103,
    "start_time": "2022-06-17T05:18:42.129Z"
   },
   {
    "duration": 4,
    "start_time": "2022-06-17T05:18:42.233Z"
   },
   {
    "duration": 57,
    "start_time": "2022-06-17T05:18:42.238Z"
   },
   {
    "duration": 10,
    "start_time": "2022-06-17T05:18:42.296Z"
   },
   {
    "duration": 33,
    "start_time": "2022-06-17T05:18:42.308Z"
   },
   {
    "duration": 391,
    "start_time": "2022-06-17T05:18:42.342Z"
   },
   {
    "duration": 108,
    "start_time": "2022-06-17T05:18:42.734Z"
   },
   {
    "duration": 1506,
    "start_time": "2022-06-17T05:18:42.844Z"
   },
   {
    "duration": 11,
    "start_time": "2022-06-17T05:18:44.359Z"
   },
   {
    "duration": 6,
    "start_time": "2022-06-17T05:18:44.372Z"
   },
   {
    "duration": 2404,
    "start_time": "2022-06-17T05:18:44.380Z"
   },
   {
    "duration": 49,
    "start_time": "2022-06-17T05:18:46.786Z"
   },
   {
    "duration": 393,
    "start_time": "2022-06-17T05:18:46.836Z"
   },
   {
    "duration": 1247,
    "start_time": "2022-06-17T05:23:53.291Z"
   },
   {
    "duration": 1260,
    "start_time": "2022-06-17T05:26:47.157Z"
   },
   {
    "duration": 365,
    "start_time": "2022-06-17T05:26:50.530Z"
   },
   {
    "duration": 1265,
    "start_time": "2022-06-17T05:27:55.318Z"
   },
   {
    "duration": 47,
    "start_time": "2022-06-17T05:31:50.194Z"
   },
   {
    "duration": 46,
    "start_time": "2022-06-17T05:32:23.600Z"
   },
   {
    "duration": 278,
    "start_time": "2022-06-17T05:32:26.756Z"
   },
   {
    "duration": 1399,
    "start_time": "2022-06-17T05:32:36.335Z"
   },
   {
    "duration": 11,
    "start_time": "2022-06-17T05:43:07.488Z"
   },
   {
    "duration": 218,
    "start_time": "2022-06-17T05:43:54.201Z"
   },
   {
    "duration": 9,
    "start_time": "2022-06-17T05:45:26.746Z"
   },
   {
    "duration": 11,
    "start_time": "2022-06-17T05:45:38.389Z"
   },
   {
    "duration": 18,
    "start_time": "2022-06-17T05:45:41.509Z"
   },
   {
    "duration": 325,
    "start_time": "2022-06-17T05:45:49.334Z"
   },
   {
    "duration": 28,
    "start_time": "2022-06-17T05:46:58.788Z"
   },
   {
    "duration": 281,
    "start_time": "2022-06-17T05:47:00.961Z"
   },
   {
    "duration": 17,
    "start_time": "2022-06-17T05:47:10.131Z"
   },
   {
    "duration": 318,
    "start_time": "2022-06-17T05:50:44.864Z"
   },
   {
    "duration": 266,
    "start_time": "2022-06-17T05:50:58.553Z"
   },
   {
    "duration": 268,
    "start_time": "2022-06-17T05:51:13.685Z"
   },
   {
    "duration": 12,
    "start_time": "2022-06-17T05:51:43.033Z"
   },
   {
    "duration": 15,
    "start_time": "2022-06-17T05:52:07.323Z"
   },
   {
    "duration": 6,
    "start_time": "2022-06-17T05:52:53.183Z"
   },
   {
    "duration": 16,
    "start_time": "2022-06-17T05:53:04.275Z"
   },
   {
    "duration": 15,
    "start_time": "2022-06-17T05:53:17.935Z"
   },
   {
    "duration": 3,
    "start_time": "2022-06-17T05:53:38.873Z"
   },
   {
    "duration": 263,
    "start_time": "2022-06-17T05:53:38.878Z"
   },
   {
    "duration": 4,
    "start_time": "2022-06-17T05:53:39.143Z"
   },
   {
    "duration": 358,
    "start_time": "2022-06-17T05:53:39.148Z"
   },
   {
    "duration": 27,
    "start_time": "2022-06-17T05:53:39.508Z"
   },
   {
    "duration": 68,
    "start_time": "2022-06-17T05:53:39.536Z"
   },
   {
    "duration": 102,
    "start_time": "2022-06-17T05:53:39.605Z"
   },
   {
    "duration": 3,
    "start_time": "2022-06-17T05:53:39.709Z"
   },
   {
    "duration": 62,
    "start_time": "2022-06-17T05:53:39.714Z"
   },
   {
    "duration": 19,
    "start_time": "2022-06-17T05:53:39.778Z"
   },
   {
    "duration": 76,
    "start_time": "2022-06-17T05:53:39.799Z"
   },
   {
    "duration": 420,
    "start_time": "2022-06-17T05:53:39.877Z"
   },
   {
    "duration": 116,
    "start_time": "2022-06-17T05:53:40.299Z"
   },
   {
    "duration": 1260,
    "start_time": "2022-06-17T05:53:40.420Z"
   },
   {
    "duration": 338,
    "start_time": "2022-06-17T05:53:41.682Z"
   },
   {
    "duration": 10,
    "start_time": "2022-06-17T05:53:42.022Z"
   },
   {
    "duration": 6,
    "start_time": "2022-06-17T05:53:42.033Z"
   },
   {
    "duration": 2690,
    "start_time": "2022-06-17T05:53:42.041Z"
   },
   {
    "duration": 62,
    "start_time": "2022-06-17T05:53:44.733Z"
   },
   {
    "duration": 298,
    "start_time": "2022-06-17T05:53:44.796Z"
   },
   {
    "duration": 1304,
    "start_time": "2022-06-17T05:53:45.095Z"
   },
   {
    "duration": 278,
    "start_time": "2022-06-17T05:53:46.400Z"
   },
   {
    "duration": 18,
    "start_time": "2022-06-17T05:53:46.680Z"
   },
   {
    "duration": 3,
    "start_time": "2022-06-17T05:54:54.702Z"
   },
   {
    "duration": 275,
    "start_time": "2022-06-17T05:54:54.707Z"
   },
   {
    "duration": 6,
    "start_time": "2022-06-17T05:54:54.984Z"
   },
   {
    "duration": 381,
    "start_time": "2022-06-17T05:54:54.992Z"
   },
   {
    "duration": 27,
    "start_time": "2022-06-17T05:54:55.376Z"
   },
   {
    "duration": 77,
    "start_time": "2022-06-17T05:54:55.405Z"
   },
   {
    "duration": 94,
    "start_time": "2022-06-17T05:54:55.484Z"
   },
   {
    "duration": 4,
    "start_time": "2022-06-17T05:54:55.580Z"
   },
   {
    "duration": 49,
    "start_time": "2022-06-17T05:54:55.585Z"
   },
   {
    "duration": 25,
    "start_time": "2022-06-17T05:54:55.635Z"
   },
   {
    "duration": 41,
    "start_time": "2022-06-17T05:54:55.667Z"
   },
   {
    "duration": 431,
    "start_time": "2022-06-17T05:54:55.710Z"
   },
   {
    "duration": 103,
    "start_time": "2022-06-17T05:54:56.143Z"
   },
   {
    "duration": 1359,
    "start_time": "2022-06-17T05:54:56.260Z"
   },
   {
    "duration": 346,
    "start_time": "2022-06-17T05:54:57.620Z"
   },
   {
    "duration": 12,
    "start_time": "2022-06-17T05:54:57.972Z"
   },
   {
    "duration": 11,
    "start_time": "2022-06-17T05:54:57.986Z"
   },
   {
    "duration": 2950,
    "start_time": "2022-06-17T05:54:58.000Z"
   },
   {
    "duration": 61,
    "start_time": "2022-06-17T05:55:00.952Z"
   },
   {
    "duration": 298,
    "start_time": "2022-06-17T05:55:01.015Z"
   },
   {
    "duration": 1317,
    "start_time": "2022-06-17T05:55:01.315Z"
   },
   {
    "duration": 276,
    "start_time": "2022-06-17T05:55:02.634Z"
   },
   {
    "duration": 15,
    "start_time": "2022-06-17T05:55:02.912Z"
   },
   {
    "duration": 266,
    "start_time": "2022-06-17T05:55:13.420Z"
   },
   {
    "duration": 24,
    "start_time": "2022-06-17T05:55:15.552Z"
   },
   {
    "duration": 12,
    "start_time": "2022-06-17T06:00:15.779Z"
   },
   {
    "duration": 6,
    "start_time": "2022-06-17T06:00:40.927Z"
   },
   {
    "duration": 13,
    "start_time": "2022-06-17T06:02:00.653Z"
   },
   {
    "duration": 13,
    "start_time": "2022-06-17T06:03:11.441Z"
   },
   {
    "duration": 267,
    "start_time": "2022-06-17T06:03:29.033Z"
   },
   {
    "duration": 18,
    "start_time": "2022-06-17T06:03:31.482Z"
   },
   {
    "duration": 14,
    "start_time": "2022-06-17T06:03:34.589Z"
   },
   {
    "duration": 13,
    "start_time": "2022-06-17T06:03:59.741Z"
   },
   {
    "duration": 346,
    "start_time": "2022-06-17T06:04:42.084Z"
   },
   {
    "duration": 18,
    "start_time": "2022-06-17T06:04:44.562Z"
   },
   {
    "duration": 18,
    "start_time": "2022-06-17T06:04:46.635Z"
   },
   {
    "duration": 12,
    "start_time": "2022-06-17T06:05:04.591Z"
   },
   {
    "duration": 253,
    "start_time": "2022-06-17T06:05:29.938Z"
   },
   {
    "duration": 17,
    "start_time": "2022-06-17T06:05:32.229Z"
   },
   {
    "duration": 13,
    "start_time": "2022-06-17T06:05:36.230Z"
   },
   {
    "duration": 12,
    "start_time": "2022-06-17T06:05:56.544Z"
   },
   {
    "duration": 13,
    "start_time": "2022-06-17T06:06:15.658Z"
   },
   {
    "duration": 261,
    "start_time": "2022-06-17T06:06:27.865Z"
   },
   {
    "duration": 18,
    "start_time": "2022-06-17T06:06:29.992Z"
   },
   {
    "duration": 13,
    "start_time": "2022-06-17T06:06:32.049Z"
   },
   {
    "duration": 247,
    "start_time": "2022-06-17T06:07:14.087Z"
   },
   {
    "duration": 12,
    "start_time": "2022-06-17T06:07:18.349Z"
   },
   {
    "duration": 252,
    "start_time": "2022-06-17T06:07:54.780Z"
   },
   {
    "duration": 14,
    "start_time": "2022-06-17T06:08:09.688Z"
   },
   {
    "duration": 12,
    "start_time": "2022-06-17T06:08:14.182Z"
   },
   {
    "duration": 7,
    "start_time": "2022-06-17T06:09:41.551Z"
   },
   {
    "duration": 15,
    "start_time": "2022-06-17T06:09:45.713Z"
   },
   {
    "duration": 11,
    "start_time": "2022-06-17T06:10:43.547Z"
   },
   {
    "duration": 6,
    "start_time": "2022-06-17T06:10:50.748Z"
   },
   {
    "duration": 16,
    "start_time": "2022-06-17T06:10:53.919Z"
   },
   {
    "duration": 12,
    "start_time": "2022-06-17T06:11:07.102Z"
   },
   {
    "duration": 37,
    "start_time": "2022-06-17T06:14:27.457Z"
   },
   {
    "duration": 11,
    "start_time": "2022-06-17T06:14:41.264Z"
   },
   {
    "duration": 256,
    "start_time": "2022-06-17T06:14:46.922Z"
   },
   {
    "duration": 14,
    "start_time": "2022-06-17T06:14:50.433Z"
   },
   {
    "duration": 12,
    "start_time": "2022-06-17T06:14:52.280Z"
   },
   {
    "duration": 7,
    "start_time": "2022-06-17T06:14:54.449Z"
   },
   {
    "duration": 13,
    "start_time": "2022-06-17T06:15:04.470Z"
   },
   {
    "duration": 13,
    "start_time": "2022-06-17T06:15:11.059Z"
   },
   {
    "duration": 18,
    "start_time": "2022-06-17T06:16:18.990Z"
   },
   {
    "duration": 14,
    "start_time": "2022-06-17T06:17:00.354Z"
   },
   {
    "duration": 20,
    "start_time": "2022-06-17T06:17:12.520Z"
   },
   {
    "duration": 25,
    "start_time": "2022-06-17T06:18:14.462Z"
   },
   {
    "duration": 249,
    "start_time": "2022-06-17T06:18:18.423Z"
   },
   {
    "duration": 18,
    "start_time": "2022-06-17T06:18:21.060Z"
   },
   {
    "duration": 10,
    "start_time": "2022-06-17T07:15:50.546Z"
   },
   {
    "duration": 11,
    "start_time": "2022-06-17T07:16:05.132Z"
   },
   {
    "duration": 6,
    "start_time": "2022-06-17T07:17:57.921Z"
   },
   {
    "duration": 6,
    "start_time": "2022-06-17T07:28:27.060Z"
   },
   {
    "duration": 9,
    "start_time": "2022-06-17T07:28:30.666Z"
   },
   {
    "duration": 6,
    "start_time": "2022-06-17T07:28:35.629Z"
   },
   {
    "duration": 6,
    "start_time": "2022-06-17T07:28:45.351Z"
   },
   {
    "duration": 1021,
    "start_time": "2022-06-17T07:32:41.718Z"
   },
   {
    "duration": 2577,
    "start_time": "2022-06-17T07:33:16.455Z"
   },
   {
    "duration": 53,
    "start_time": "2022-06-17T07:36:11.010Z"
   },
   {
    "duration": 299,
    "start_time": "2022-06-17T07:36:13.815Z"
   },
   {
    "duration": 63,
    "start_time": "2022-06-17T07:36:51.465Z"
   },
   {
    "duration": 295,
    "start_time": "2022-06-17T07:36:53.360Z"
   },
   {
    "duration": 993,
    "start_time": "2022-06-17T07:38:27.210Z"
   },
   {
    "duration": 360,
    "start_time": "2022-06-17T07:38:39.317Z"
   },
   {
    "duration": 5,
    "start_time": "2022-06-17T07:38:50.642Z"
   },
   {
    "duration": 8,
    "start_time": "2022-06-17T07:38:56.578Z"
   },
   {
    "duration": 13,
    "start_time": "2022-06-17T07:42:13.512Z"
   },
   {
    "duration": 42,
    "start_time": "2022-06-17T07:44:18.749Z"
   },
   {
    "duration": 7,
    "start_time": "2022-06-17T07:44:22.783Z"
   },
   {
    "duration": 448,
    "start_time": "2022-06-17T07:44:48.533Z"
   },
   {
    "duration": 880,
    "start_time": "2022-06-17T07:45:04.557Z"
   },
   {
    "duration": 400,
    "start_time": "2022-06-17T07:45:16.644Z"
   },
   {
    "duration": 28,
    "start_time": "2022-06-17T07:45:34.313Z"
   },
   {
    "duration": 355,
    "start_time": "2022-06-17T07:45:38.353Z"
   },
   {
    "duration": 493,
    "start_time": "2022-06-17T07:46:00.022Z"
   },
   {
    "duration": 397,
    "start_time": "2022-06-17T07:46:12.048Z"
   },
   {
    "duration": 10,
    "start_time": "2022-06-17T07:47:03.898Z"
   },
   {
    "duration": 42,
    "start_time": "2022-06-17T07:47:36.262Z"
   },
   {
    "duration": 6,
    "start_time": "2022-06-17T07:47:38.146Z"
   },
   {
    "duration": 24,
    "start_time": "2022-06-17T07:47:57.083Z"
   },
   {
    "duration": 6,
    "start_time": "2022-06-17T07:48:00.111Z"
   },
   {
    "duration": 26,
    "start_time": "2022-06-17T07:48:08.087Z"
   },
   {
    "duration": 51,
    "start_time": "2022-06-17T07:48:19.752Z"
   },
   {
    "duration": 70,
    "start_time": "2022-06-17T07:48:58.734Z"
   },
   {
    "duration": 55,
    "start_time": "2022-06-17T07:49:06.917Z"
   },
   {
    "duration": 23,
    "start_time": "2022-06-17T07:49:42.344Z"
   },
   {
    "duration": 31,
    "start_time": "2022-06-17T07:49:59.407Z"
   },
   {
    "duration": 66,
    "start_time": "2022-06-17T07:50:03.931Z"
   },
   {
    "duration": 47,
    "start_time": "2022-06-17T07:50:29.609Z"
   },
   {
    "duration": 56,
    "start_time": "2022-06-17T07:50:37.441Z"
   },
   {
    "duration": 45,
    "start_time": "2022-06-17T07:50:48.483Z"
   },
   {
    "duration": 43,
    "start_time": "2022-06-17T07:50:51.881Z"
   },
   {
    "duration": 44,
    "start_time": "2022-06-17T07:50:55.830Z"
   },
   {
    "duration": 95,
    "start_time": "2022-06-17T07:51:48.179Z"
   },
   {
    "duration": 10,
    "start_time": "2022-06-17T07:53:21.140Z"
   },
   {
    "duration": 10,
    "start_time": "2022-06-17T07:53:29.143Z"
   },
   {
    "duration": 9,
    "start_time": "2022-06-17T07:53:50.956Z"
   },
   {
    "duration": 103,
    "start_time": "2022-06-17T07:56:03.404Z"
   },
   {
    "duration": 119,
    "start_time": "2022-06-17T07:56:35.587Z"
   },
   {
    "duration": 147,
    "start_time": "2022-06-17T07:59:28.677Z"
   },
   {
    "duration": 22,
    "start_time": "2022-06-17T08:02:28.849Z"
   },
   {
    "duration": 48,
    "start_time": "2022-06-17T08:02:36.919Z"
   },
   {
    "duration": 26,
    "start_time": "2022-06-17T08:07:49.901Z"
   },
   {
    "duration": 23,
    "start_time": "2022-06-17T08:08:03.352Z"
   },
   {
    "duration": 27,
    "start_time": "2022-06-17T08:08:50.539Z"
   },
   {
    "duration": 106,
    "start_time": "2022-06-17T08:09:39.702Z"
   },
   {
    "duration": 100,
    "start_time": "2022-06-17T08:10:12.928Z"
   },
   {
    "duration": 83,
    "start_time": "2022-06-17T08:10:34.551Z"
   },
   {
    "duration": 96,
    "start_time": "2022-06-17T08:10:58.204Z"
   },
   {
    "duration": 10,
    "start_time": "2022-06-17T08:11:11.403Z"
   },
   {
    "duration": 92,
    "start_time": "2022-06-17T08:12:56.472Z"
   },
   {
    "duration": 83,
    "start_time": "2022-06-17T08:13:00.912Z"
   },
   {
    "duration": 96,
    "start_time": "2022-06-17T08:14:48.304Z"
   },
   {
    "duration": 57,
    "start_time": "2022-06-17T08:14:54.520Z"
   },
   {
    "duration": 99,
    "start_time": "2022-06-17T08:15:01.974Z"
   },
   {
    "duration": 101,
    "start_time": "2022-06-17T08:15:11.943Z"
   },
   {
    "duration": 88,
    "start_time": "2022-06-17T08:15:17.883Z"
   },
   {
    "duration": 4,
    "start_time": "2022-06-17T08:15:36.862Z"
   },
   {
    "duration": 102,
    "start_time": "2022-06-17T08:16:53.507Z"
   },
   {
    "duration": 112,
    "start_time": "2022-06-17T08:17:24.865Z"
   },
   {
    "duration": 107,
    "start_time": "2022-06-17T08:17:53.753Z"
   },
   {
    "duration": 85,
    "start_time": "2022-06-17T08:18:05.426Z"
   },
   {
    "duration": 99,
    "start_time": "2022-06-17T08:18:48.989Z"
   },
   {
    "duration": 9,
    "start_time": "2022-06-17T08:19:58.614Z"
   },
   {
    "duration": 10,
    "start_time": "2022-06-17T08:20:30.116Z"
   },
   {
    "duration": 853,
    "start_time": "2022-06-17T08:21:23.127Z"
   },
   {
    "duration": 5,
    "start_time": "2022-06-17T08:21:30.296Z"
   },
   {
    "duration": 9,
    "start_time": "2022-06-17T08:21:32.262Z"
   },
   {
    "duration": 4,
    "start_time": "2022-06-17T08:21:43.889Z"
   },
   {
    "duration": 10,
    "start_time": "2022-06-17T08:21:47.434Z"
   },
   {
    "duration": 6,
    "start_time": "2022-06-17T08:24:23.359Z"
   },
   {
    "duration": 11,
    "start_time": "2022-06-17T08:24:25.401Z"
   },
   {
    "duration": 6,
    "start_time": "2022-06-17T08:24:49.313Z"
   },
   {
    "duration": 11,
    "start_time": "2022-06-17T08:24:51.391Z"
   },
   {
    "duration": 5,
    "start_time": "2022-06-17T08:49:37.620Z"
   },
   {
    "duration": 13,
    "start_time": "2022-06-17T08:49:40.084Z"
   },
   {
    "duration": 29,
    "start_time": "2022-06-17T08:49:50.133Z"
   },
   {
    "duration": 4,
    "start_time": "2022-06-17T08:49:54.936Z"
   },
   {
    "duration": 308,
    "start_time": "2022-06-17T08:49:54.942Z"
   },
   {
    "duration": 5,
    "start_time": "2022-06-17T08:49:55.252Z"
   },
   {
    "duration": 366,
    "start_time": "2022-06-17T08:49:55.259Z"
   },
   {
    "duration": 45,
    "start_time": "2022-06-17T08:49:55.628Z"
   },
   {
    "duration": 42,
    "start_time": "2022-06-17T08:49:55.674Z"
   },
   {
    "duration": 107,
    "start_time": "2022-06-17T08:49:55.718Z"
   },
   {
    "duration": 4,
    "start_time": "2022-06-17T08:49:55.827Z"
   },
   {
    "duration": 80,
    "start_time": "2022-06-17T08:49:55.833Z"
   },
   {
    "duration": 12,
    "start_time": "2022-06-17T08:49:55.915Z"
   },
   {
    "duration": 68,
    "start_time": "2022-06-17T08:49:55.929Z"
   },
   {
    "duration": 401,
    "start_time": "2022-06-17T08:49:55.999Z"
   },
   {
    "duration": 114,
    "start_time": "2022-06-17T08:49:56.402Z"
   },
   {
    "duration": 1027,
    "start_time": "2022-06-17T08:49:56.519Z"
   },
   {
    "duration": 343,
    "start_time": "2022-06-17T08:49:57.548Z"
   },
   {
    "duration": 9,
    "start_time": "2022-06-17T08:49:57.893Z"
   },
   {
    "duration": 16,
    "start_time": "2022-06-17T08:49:57.904Z"
   },
   {
    "duration": 2292,
    "start_time": "2022-06-17T08:49:57.921Z"
   },
   {
    "duration": 59,
    "start_time": "2022-06-17T08:50:00.215Z"
   },
   {
    "duration": 300,
    "start_time": "2022-06-17T08:50:00.277Z"
   },
   {
    "duration": 1371,
    "start_time": "2022-06-17T08:50:00.579Z"
   },
   {
    "duration": 317,
    "start_time": "2022-06-17T08:50:01.953Z"
   },
   {
    "duration": 24,
    "start_time": "2022-06-17T08:50:02.274Z"
   },
   {
    "duration": 140,
    "start_time": "2022-06-17T08:50:02.300Z"
   },
   {
    "duration": 6,
    "start_time": "2022-06-17T08:50:02.442Z"
   },
   {
    "duration": 82,
    "start_time": "2022-06-17T08:50:02.462Z"
   },
   {
    "duration": 104,
    "start_time": "2022-06-17T08:50:02.546Z"
   },
   {
    "duration": 5,
    "start_time": "2022-06-17T09:07:42.199Z"
   },
   {
    "duration": 17,
    "start_time": "2022-06-17T09:07:45.531Z"
   },
   {
    "duration": 32,
    "start_time": "2022-06-17T09:12:10.947Z"
   },
   {
    "duration": 9,
    "start_time": "2022-06-17T09:12:20.121Z"
   },
   {
    "duration": 4,
    "start_time": "2022-06-17T09:12:28.823Z"
   },
   {
    "duration": 4,
    "start_time": "2022-06-17T09:12:32.206Z"
   },
   {
    "duration": 5,
    "start_time": "2022-06-17T09:13:02.790Z"
   },
   {
    "duration": 4,
    "start_time": "2022-06-17T09:13:09.145Z"
   },
   {
    "duration": 19,
    "start_time": "2022-06-17T09:15:43.901Z"
   },
   {
    "duration": 1071,
    "start_time": "2022-06-17T09:36:11.258Z"
   },
   {
    "duration": 247,
    "start_time": "2022-06-17T09:36:12.330Z"
   },
   {
    "duration": 4,
    "start_time": "2022-06-17T09:36:12.578Z"
   },
   {
    "duration": 335,
    "start_time": "2022-06-17T09:36:12.584Z"
   },
   {
    "duration": 45,
    "start_time": "2022-06-17T09:36:12.920Z"
   },
   {
    "duration": 41,
    "start_time": "2022-06-17T09:36:12.967Z"
   },
   {
    "duration": 117,
    "start_time": "2022-06-17T09:36:13.010Z"
   },
   {
    "duration": 4,
    "start_time": "2022-06-17T09:36:13.129Z"
   },
   {
    "duration": 55,
    "start_time": "2022-06-17T09:36:13.134Z"
   },
   {
    "duration": 11,
    "start_time": "2022-06-17T09:36:13.191Z"
   },
   {
    "duration": 34,
    "start_time": "2022-06-17T09:36:13.204Z"
   },
   {
    "duration": 476,
    "start_time": "2022-06-17T09:36:13.240Z"
   },
   {
    "duration": 140,
    "start_time": "2022-06-17T09:36:13.718Z"
   },
   {
    "duration": 874,
    "start_time": "2022-06-17T09:36:13.860Z"
   },
   {
    "duration": 335,
    "start_time": "2022-06-17T09:36:14.736Z"
   },
   {
    "duration": 10,
    "start_time": "2022-06-17T09:36:15.072Z"
   },
   {
    "duration": 8,
    "start_time": "2022-06-17T09:36:15.083Z"
   },
   {
    "duration": 2166,
    "start_time": "2022-06-17T09:36:15.093Z"
   },
   {
    "duration": 57,
    "start_time": "2022-06-17T09:36:17.260Z"
   },
   {
    "duration": 294,
    "start_time": "2022-06-17T09:36:17.319Z"
   },
   {
    "duration": 1180,
    "start_time": "2022-06-17T09:36:17.615Z"
   },
   {
    "duration": 263,
    "start_time": "2022-06-17T09:36:18.797Z"
   },
   {
    "duration": 18,
    "start_time": "2022-06-17T09:36:19.062Z"
   },
   {
    "duration": 98,
    "start_time": "2022-06-17T09:36:19.081Z"
   },
   {
    "duration": 18,
    "start_time": "2022-06-17T09:36:19.181Z"
   },
   {
    "duration": 3,
    "start_time": "2022-06-17T09:57:16.816Z"
   },
   {
    "duration": 264,
    "start_time": "2022-06-17T09:57:16.821Z"
   },
   {
    "duration": 3,
    "start_time": "2022-06-17T09:57:17.087Z"
   },
   {
    "duration": 360,
    "start_time": "2022-06-17T09:57:17.092Z"
   },
   {
    "duration": 27,
    "start_time": "2022-06-17T09:57:17.459Z"
   },
   {
    "duration": 39,
    "start_time": "2022-06-17T09:57:17.487Z"
   },
   {
    "duration": 109,
    "start_time": "2022-06-17T09:57:17.528Z"
   },
   {
    "duration": 4,
    "start_time": "2022-06-17T09:57:17.639Z"
   },
   {
    "duration": 57,
    "start_time": "2022-06-17T09:57:17.644Z"
   },
   {
    "duration": 10,
    "start_time": "2022-06-17T09:57:17.703Z"
   },
   {
    "duration": 53,
    "start_time": "2022-06-17T09:57:17.715Z"
   },
   {
    "duration": 407,
    "start_time": "2022-06-17T09:57:17.769Z"
   },
   {
    "duration": 121,
    "start_time": "2022-06-17T09:57:18.177Z"
   },
   {
    "duration": 944,
    "start_time": "2022-06-17T09:57:18.301Z"
   },
   {
    "duration": 343,
    "start_time": "2022-06-17T09:57:19.247Z"
   },
   {
    "duration": 11,
    "start_time": "2022-06-17T09:57:19.591Z"
   },
   {
    "duration": 6,
    "start_time": "2022-06-17T09:57:19.603Z"
   },
   {
    "duration": 2230,
    "start_time": "2022-06-17T09:57:19.611Z"
   },
   {
    "duration": 55,
    "start_time": "2022-06-17T09:57:21.842Z"
   },
   {
    "duration": 270,
    "start_time": "2022-06-17T09:57:21.898Z"
   },
   {
    "duration": 1204,
    "start_time": "2022-06-17T09:57:22.170Z"
   },
   {
    "duration": 263,
    "start_time": "2022-06-17T09:57:23.376Z"
   },
   {
    "duration": 29,
    "start_time": "2022-06-17T09:57:23.641Z"
   },
   {
    "duration": 99,
    "start_time": "2022-06-17T09:57:23.671Z"
   },
   {
    "duration": 19,
    "start_time": "2022-06-17T09:57:23.772Z"
   },
   {
    "duration": 6,
    "start_time": "2022-06-17T10:01:52.577Z"
   },
   {
    "duration": 9,
    "start_time": "2022-06-17T10:01:57.286Z"
   },
   {
    "duration": 100,
    "start_time": "2022-06-17T10:02:34.826Z"
   },
   {
    "duration": 3,
    "start_time": "2022-06-17T10:02:51.451Z"
   },
   {
    "duration": 18,
    "start_time": "2022-06-17T10:02:55.096Z"
   },
   {
    "duration": 8,
    "start_time": "2022-06-17T10:03:53.579Z"
   },
   {
    "duration": 12,
    "start_time": "2022-06-17T10:05:25.003Z"
   },
   {
    "duration": 10,
    "start_time": "2022-06-17T10:05:49.608Z"
   },
   {
    "duration": 12,
    "start_time": "2022-06-17T10:06:09.795Z"
   },
   {
    "duration": 337,
    "start_time": "2022-06-17T10:06:19.703Z"
   },
   {
    "duration": 18,
    "start_time": "2022-06-17T10:06:26.998Z"
   },
   {
    "duration": 2,
    "start_time": "2022-06-17T10:07:20.477Z"
   },
   {
    "duration": 14,
    "start_time": "2022-06-17T10:15:21.117Z"
   },
   {
    "duration": 11,
    "start_time": "2022-06-17T10:16:20.295Z"
   },
   {
    "duration": 20,
    "start_time": "2022-06-17T10:17:29.558Z"
   },
   {
    "duration": 18,
    "start_time": "2022-06-17T10:32:42.012Z"
   },
   {
    "duration": 20,
    "start_time": "2022-06-17T10:32:55.811Z"
   },
   {
    "duration": 23,
    "start_time": "2022-06-17T10:32:59.762Z"
   },
   {
    "duration": 37,
    "start_time": "2022-06-17T10:33:28.007Z"
   },
   {
    "duration": 48,
    "start_time": "2022-06-17T10:33:31.120Z"
   },
   {
    "duration": 9,
    "start_time": "2022-06-17T10:35:14.058Z"
   },
   {
    "duration": 37,
    "start_time": "2022-06-17T10:37:21.978Z"
   },
   {
    "duration": 1106,
    "start_time": "2022-06-17T11:33:15.445Z"
   },
   {
    "duration": 314,
    "start_time": "2022-06-17T11:33:16.553Z"
   },
   {
    "duration": 3,
    "start_time": "2022-06-17T11:33:16.869Z"
   },
   {
    "duration": 334,
    "start_time": "2022-06-17T11:33:16.874Z"
   },
   {
    "duration": 53,
    "start_time": "2022-06-17T11:33:17.211Z"
   },
   {
    "duration": 52,
    "start_time": "2022-06-17T11:33:17.266Z"
   },
   {
    "duration": 150,
    "start_time": "2022-06-17T11:33:17.322Z"
   },
   {
    "duration": 4,
    "start_time": "2022-06-17T11:33:17.474Z"
   },
   {
    "duration": 77,
    "start_time": "2022-06-17T11:33:17.481Z"
   },
   {
    "duration": 13,
    "start_time": "2022-06-17T11:33:17.559Z"
   },
   {
    "duration": 44,
    "start_time": "2022-06-17T11:33:17.574Z"
   },
   {
    "duration": 441,
    "start_time": "2022-06-17T11:33:17.619Z"
   },
   {
    "duration": 114,
    "start_time": "2022-06-17T11:33:18.062Z"
   },
   {
    "duration": 897,
    "start_time": "2022-06-17T11:33:18.180Z"
   },
   {
    "duration": 329,
    "start_time": "2022-06-17T11:33:19.079Z"
   },
   {
    "duration": 9,
    "start_time": "2022-06-17T11:33:19.411Z"
   },
   {
    "duration": 9,
    "start_time": "2022-06-17T11:33:19.422Z"
   },
   {
    "duration": 2159,
    "start_time": "2022-06-17T11:33:19.433Z"
   },
   {
    "duration": 65,
    "start_time": "2022-06-17T11:33:21.594Z"
   },
   {
    "duration": 256,
    "start_time": "2022-06-17T11:33:21.661Z"
   },
   {
    "duration": 1222,
    "start_time": "2022-06-17T11:33:21.919Z"
   },
   {
    "duration": 253,
    "start_time": "2022-06-17T11:33:23.143Z"
   },
   {
    "duration": 18,
    "start_time": "2022-06-17T11:33:23.398Z"
   },
   {
    "duration": 110,
    "start_time": "2022-06-17T11:33:23.417Z"
   },
   {
    "duration": 19,
    "start_time": "2022-06-17T11:33:23.528Z"
   },
   {
    "duration": 30,
    "start_time": "2022-06-17T11:33:23.549Z"
   },
   {
    "duration": 34,
    "start_time": "2022-06-17T11:33:23.581Z"
   },
   {
    "duration": 7,
    "start_time": "2022-06-17T11:33:23.617Z"
   },
   {
    "duration": 1269,
    "start_time": "2022-06-17T20:33:26.449Z"
   },
   {
    "duration": 649,
    "start_time": "2022-06-17T20:33:27.722Z"
   },
   {
    "duration": 4,
    "start_time": "2022-06-17T20:33:28.373Z"
   },
   {
    "duration": 348,
    "start_time": "2022-06-17T20:33:28.379Z"
   },
   {
    "duration": 27,
    "start_time": "2022-06-17T20:33:28.729Z"
   },
   {
    "duration": 37,
    "start_time": "2022-06-17T20:33:28.757Z"
   },
   {
    "duration": 102,
    "start_time": "2022-06-17T20:33:28.824Z"
   },
   {
    "duration": 4,
    "start_time": "2022-06-17T20:33:28.929Z"
   },
   {
    "duration": 59,
    "start_time": "2022-06-17T20:33:28.934Z"
   },
   {
    "duration": 32,
    "start_time": "2022-06-17T20:33:28.997Z"
   },
   {
    "duration": 40,
    "start_time": "2022-06-17T20:33:29.031Z"
   },
   {
    "duration": 466,
    "start_time": "2022-06-17T20:33:29.073Z"
   },
   {
    "duration": 118,
    "start_time": "2022-06-17T20:33:29.541Z"
   },
   {
    "duration": 1080,
    "start_time": "2022-06-17T20:33:29.661Z"
   },
   {
    "duration": 380,
    "start_time": "2022-06-17T20:33:30.743Z"
   },
   {
    "duration": 12,
    "start_time": "2022-06-17T20:33:31.124Z"
   },
   {
    "duration": 38,
    "start_time": "2022-06-17T20:33:31.137Z"
   },
   {
    "duration": 2715,
    "start_time": "2022-06-17T20:33:31.177Z"
   },
   {
    "duration": 82,
    "start_time": "2022-06-17T20:33:33.894Z"
   },
   {
    "duration": 291,
    "start_time": "2022-06-17T20:33:33.978Z"
   },
   {
    "duration": 1285,
    "start_time": "2022-06-17T20:33:34.272Z"
   },
   {
    "duration": 272,
    "start_time": "2022-06-17T20:33:35.559Z"
   },
   {
    "duration": 24,
    "start_time": "2022-06-17T20:33:35.833Z"
   },
   {
    "duration": 149,
    "start_time": "2022-06-17T20:33:35.859Z"
   },
   {
    "duration": 40,
    "start_time": "2022-06-17T20:33:36.010Z"
   },
   {
    "duration": 24,
    "start_time": "2022-06-17T20:33:36.052Z"
   },
   {
    "duration": 7,
    "start_time": "2022-06-17T20:33:36.078Z"
   },
   {
    "duration": 56,
    "start_time": "2022-06-17T20:33:36.088Z"
   },
   {
    "duration": 9,
    "start_time": "2022-06-17T20:33:36.145Z"
   },
   {
    "duration": 7,
    "start_time": "2022-06-17T20:33:57.547Z"
   },
   {
    "duration": 151,
    "start_time": "2022-06-17T20:34:07.911Z"
   },
   {
    "duration": 8,
    "start_time": "2022-06-17T20:34:15.317Z"
   },
   {
    "duration": 4,
    "start_time": "2022-06-17T20:34:25.056Z"
   },
   {
    "duration": 7,
    "start_time": "2022-06-17T20:34:28.125Z"
   },
   {
    "duration": 6,
    "start_time": "2022-06-17T20:35:47.337Z"
   },
   {
    "duration": 6,
    "start_time": "2022-06-17T20:35:52.343Z"
   },
   {
    "duration": 12,
    "start_time": "2022-06-17T20:36:19.256Z"
   },
   {
    "duration": 15,
    "start_time": "2022-06-17T20:36:19.478Z"
   },
   {
    "duration": 6,
    "start_time": "2022-06-17T20:37:29.142Z"
   },
   {
    "duration": 11,
    "start_time": "2022-06-17T20:37:54.719Z"
   },
   {
    "duration": 9,
    "start_time": "2022-06-17T20:38:02.871Z"
   },
   {
    "duration": 7,
    "start_time": "2022-06-17T20:38:14.687Z"
   },
   {
    "duration": 7,
    "start_time": "2022-06-17T20:38:43.310Z"
   },
   {
    "duration": 9,
    "start_time": "2022-06-17T20:39:04.192Z"
   },
   {
    "duration": 12,
    "start_time": "2022-06-17T20:39:07.092Z"
   },
   {
    "duration": 8,
    "start_time": "2022-06-17T20:39:11.494Z"
   },
   {
    "duration": 64,
    "start_time": "2022-06-17T20:39:33.353Z"
   },
   {
    "duration": 12,
    "start_time": "2022-06-17T20:39:36.843Z"
   },
   {
    "duration": 9,
    "start_time": "2022-06-18T08:37:45.053Z"
   },
   {
    "duration": 42,
    "start_time": "2022-06-18T08:37:47.358Z"
   },
   {
    "duration": 1258,
    "start_time": "2022-06-18T08:37:54.283Z"
   },
   {
    "duration": 846,
    "start_time": "2022-06-18T08:37:55.543Z"
   },
   {
    "duration": 6,
    "start_time": "2022-06-18T08:37:56.391Z"
   },
   {
    "duration": 402,
    "start_time": "2022-06-18T08:37:56.399Z"
   },
   {
    "duration": 39,
    "start_time": "2022-06-18T08:37:56.803Z"
   },
   {
    "duration": 53,
    "start_time": "2022-06-18T08:37:56.844Z"
   },
   {
    "duration": 104,
    "start_time": "2022-06-18T08:37:56.899Z"
   },
   {
    "duration": 4,
    "start_time": "2022-06-18T08:37:57.004Z"
   },
   {
    "duration": 69,
    "start_time": "2022-06-18T08:37:57.010Z"
   },
   {
    "duration": 13,
    "start_time": "2022-06-18T08:37:57.081Z"
   },
   {
    "duration": 60,
    "start_time": "2022-06-18T08:37:57.095Z"
   },
   {
    "duration": 501,
    "start_time": "2022-06-18T08:37:57.157Z"
   },
   {
    "duration": 118,
    "start_time": "2022-06-18T08:37:57.659Z"
   },
   {
    "duration": 937,
    "start_time": "2022-06-18T08:37:57.780Z"
   },
   {
    "duration": 366,
    "start_time": "2022-06-18T08:37:58.719Z"
   },
   {
    "duration": 9,
    "start_time": "2022-06-18T08:37:59.086Z"
   },
   {
    "duration": 8,
    "start_time": "2022-06-18T08:37:59.097Z"
   },
   {
    "duration": 2425,
    "start_time": "2022-06-18T08:37:59.106Z"
   },
   {
    "duration": 55,
    "start_time": "2022-06-18T08:38:01.540Z"
   },
   {
    "duration": 303,
    "start_time": "2022-06-18T08:38:01.596Z"
   },
   {
    "duration": 1303,
    "start_time": "2022-06-18T08:38:01.901Z"
   },
   {
    "duration": 303,
    "start_time": "2022-06-18T08:38:03.206Z"
   },
   {
    "duration": 25,
    "start_time": "2022-06-18T08:38:03.511Z"
   },
   {
    "duration": 120,
    "start_time": "2022-06-18T08:38:03.540Z"
   },
   {
    "duration": 19,
    "start_time": "2022-06-18T08:38:03.661Z"
   },
   {
    "duration": 15,
    "start_time": "2022-06-18T08:38:03.681Z"
   },
   {
    "duration": 9,
    "start_time": "2022-06-18T08:38:03.698Z"
   },
   {
    "duration": 46,
    "start_time": "2022-06-18T08:38:03.708Z"
   },
   {
    "duration": 10,
    "start_time": "2022-06-18T08:38:03.755Z"
   },
   {
    "duration": 8,
    "start_time": "2022-06-18T08:38:03.767Z"
   },
   {
    "duration": 13,
    "start_time": "2022-06-18T08:38:03.777Z"
   },
   {
    "duration": 58,
    "start_time": "2022-06-18T08:38:03.792Z"
   },
   {
    "duration": 10,
    "start_time": "2022-06-18T08:38:03.858Z"
   },
   {
    "duration": 33,
    "start_time": "2022-06-18T08:40:53.016Z"
   },
   {
    "duration": 418,
    "start_time": "2022-06-18T08:41:48.981Z"
   },
   {
    "duration": 384,
    "start_time": "2022-06-18T08:49:23.098Z"
   },
   {
    "duration": 570,
    "start_time": "2022-06-18T08:49:27.426Z"
   },
   {
    "duration": 420,
    "start_time": "2022-06-18T08:49:32.854Z"
   },
   {
    "duration": 304,
    "start_time": "2022-06-18T08:49:38.683Z"
   },
   {
    "duration": 340,
    "start_time": "2022-06-18T08:49:47.639Z"
   },
   {
    "duration": 494,
    "start_time": "2022-06-18T08:50:08.351Z"
   },
   {
    "duration": 484,
    "start_time": "2022-06-18T08:50:13.517Z"
   },
   {
    "duration": 394,
    "start_time": "2022-06-18T08:50:29.331Z"
   },
   {
    "duration": 246,
    "start_time": "2022-06-18T08:51:16.876Z"
   },
   {
    "duration": 256,
    "start_time": "2022-06-18T08:51:22.506Z"
   },
   {
    "duration": 283,
    "start_time": "2022-06-18T08:51:29.240Z"
   },
   {
    "duration": 290,
    "start_time": "2022-06-18T08:51:35.456Z"
   },
   {
    "duration": 297,
    "start_time": "2022-06-18T08:51:43.515Z"
   },
   {
    "duration": 331,
    "start_time": "2022-06-18T08:51:49.319Z"
   },
   {
    "duration": 400,
    "start_time": "2022-06-18T08:51:58.943Z"
   },
   {
    "duration": 2387,
    "start_time": "2022-06-18T08:52:24.660Z"
   },
   {
    "duration": 7,
    "start_time": "2022-06-18T09:22:50.974Z"
   },
   {
    "duration": 7,
    "start_time": "2022-06-18T09:23:05.545Z"
   },
   {
    "duration": 7,
    "start_time": "2022-06-18T09:23:43.173Z"
   },
   {
    "duration": 5,
    "start_time": "2022-06-18T09:23:45.185Z"
   },
   {
    "duration": 1240,
    "start_time": "2022-06-18T13:02:49.489Z"
   },
   {
    "duration": 629,
    "start_time": "2022-06-18T13:02:50.731Z"
   },
   {
    "duration": 4,
    "start_time": "2022-06-18T13:02:51.362Z"
   },
   {
    "duration": 319,
    "start_time": "2022-06-18T13:02:51.368Z"
   },
   {
    "duration": 37,
    "start_time": "2022-06-18T13:02:51.689Z"
   },
   {
    "duration": 35,
    "start_time": "2022-06-18T13:02:51.728Z"
   },
   {
    "duration": 112,
    "start_time": "2022-06-18T13:02:51.765Z"
   },
   {
    "duration": 4,
    "start_time": "2022-06-18T13:02:51.878Z"
   },
   {
    "duration": 46,
    "start_time": "2022-06-18T13:02:51.883Z"
   },
   {
    "duration": 11,
    "start_time": "2022-06-18T13:02:51.932Z"
   },
   {
    "duration": 36,
    "start_time": "2022-06-18T13:02:51.945Z"
   },
   {
    "duration": 387,
    "start_time": "2022-06-18T13:02:51.982Z"
   },
   {
    "duration": 98,
    "start_time": "2022-06-18T13:02:52.371Z"
   },
   {
    "duration": 855,
    "start_time": "2022-06-18T13:02:52.471Z"
   },
   {
    "duration": 288,
    "start_time": "2022-06-18T13:02:53.328Z"
   },
   {
    "duration": 11,
    "start_time": "2022-06-18T13:02:53.618Z"
   },
   {
    "duration": 9,
    "start_time": "2022-06-18T13:02:53.631Z"
   },
   {
    "duration": 2138,
    "start_time": "2022-06-18T13:02:53.641Z"
   },
   {
    "duration": 63,
    "start_time": "2022-06-18T13:02:55.781Z"
   },
   {
    "duration": 415,
    "start_time": "2022-06-18T13:02:55.846Z"
   },
   {
    "duration": 1228,
    "start_time": "2022-06-18T13:02:56.263Z"
   },
   {
    "duration": 259,
    "start_time": "2022-06-18T13:02:57.492Z"
   },
   {
    "duration": 17,
    "start_time": "2022-06-18T13:02:57.753Z"
   },
   {
    "duration": 96,
    "start_time": "2022-06-18T13:02:57.772Z"
   },
   {
    "duration": 18,
    "start_time": "2022-06-18T13:02:57.870Z"
   },
   {
    "duration": 16,
    "start_time": "2022-06-18T13:02:57.889Z"
   },
   {
    "duration": 23,
    "start_time": "2022-06-18T13:02:57.907Z"
   },
   {
    "duration": 9,
    "start_time": "2022-06-18T13:02:57.932Z"
   },
   {
    "duration": 5,
    "start_time": "2022-06-18T13:02:57.942Z"
   },
   {
    "duration": 9,
    "start_time": "2022-06-18T13:02:57.949Z"
   },
   {
    "duration": 22,
    "start_time": "2022-06-18T13:02:57.959Z"
   },
   {
    "duration": 7,
    "start_time": "2022-06-18T13:02:57.982Z"
   },
   {
    "duration": 12,
    "start_time": "2022-06-18T13:02:57.990Z"
   },
   {
    "duration": 48,
    "start_time": "2022-06-18T13:02:58.003Z"
   },
   {
    "duration": 8,
    "start_time": "2022-06-18T13:02:58.053Z"
   },
   {
    "duration": 4,
    "start_time": "2022-06-18T13:04:03.875Z"
   },
   {
    "duration": 190,
    "start_time": "2022-06-18T13:04:05.898Z"
   },
   {
    "duration": 25,
    "start_time": "2022-06-18T13:04:08.453Z"
   },
   {
    "duration": 39,
    "start_time": "2022-06-18T13:04:12.313Z"
   },
   {
    "duration": 11,
    "start_time": "2022-06-18T13:12:32.632Z"
   },
   {
    "duration": 5,
    "start_time": "2022-06-18T13:14:24.328Z"
   },
   {
    "duration": 6,
    "start_time": "2022-06-18T13:15:10.942Z"
   },
   {
    "duration": 3,
    "start_time": "2022-06-18T13:24:06.026Z"
   },
   {
    "duration": 254,
    "start_time": "2022-06-18T13:24:06.031Z"
   },
   {
    "duration": 4,
    "start_time": "2022-06-18T13:24:06.287Z"
   },
   {
    "duration": 277,
    "start_time": "2022-06-18T13:24:06.292Z"
   },
   {
    "duration": 25,
    "start_time": "2022-06-18T13:24:06.571Z"
   },
   {
    "duration": 62,
    "start_time": "2022-06-18T13:24:06.597Z"
   },
   {
    "duration": 96,
    "start_time": "2022-06-18T13:24:06.660Z"
   },
   {
    "duration": 3,
    "start_time": "2022-06-18T13:24:06.758Z"
   },
   {
    "duration": 34,
    "start_time": "2022-06-18T13:24:06.764Z"
   },
   {
    "duration": 27,
    "start_time": "2022-06-18T13:24:06.800Z"
   },
   {
    "duration": 33,
    "start_time": "2022-06-18T13:24:06.829Z"
   },
   {
    "duration": 419,
    "start_time": "2022-06-18T13:24:06.863Z"
   },
   {
    "duration": 110,
    "start_time": "2022-06-18T13:24:07.284Z"
   },
   {
    "duration": 856,
    "start_time": "2022-06-18T13:24:07.395Z"
   },
   {
    "duration": 282,
    "start_time": "2022-06-18T13:24:08.253Z"
   },
   {
    "duration": 9,
    "start_time": "2022-06-18T13:24:08.536Z"
   },
   {
    "duration": 5,
    "start_time": "2022-06-18T13:24:08.546Z"
   },
   {
    "duration": 2173,
    "start_time": "2022-06-18T13:24:08.553Z"
   },
   {
    "duration": 44,
    "start_time": "2022-06-18T13:24:10.728Z"
   },
   {
    "duration": 279,
    "start_time": "2022-06-18T13:24:10.774Z"
   },
   {
    "duration": 1205,
    "start_time": "2022-06-18T13:24:11.055Z"
   },
   {
    "duration": 263,
    "start_time": "2022-06-18T13:24:12.261Z"
   },
   {
    "duration": 18,
    "start_time": "2022-06-18T13:24:12.525Z"
   },
   {
    "duration": 116,
    "start_time": "2022-06-18T13:24:12.546Z"
   },
   {
    "duration": 18,
    "start_time": "2022-06-18T13:24:12.664Z"
   },
   {
    "duration": 43,
    "start_time": "2022-06-18T13:24:12.684Z"
   },
   {
    "duration": 28,
    "start_time": "2022-06-18T13:24:12.729Z"
   },
   {
    "duration": 37,
    "start_time": "2022-06-18T13:24:12.758Z"
   },
   {
    "duration": 21,
    "start_time": "2022-06-18T13:24:12.797Z"
   },
   {
    "duration": 37,
    "start_time": "2022-06-18T13:24:12.820Z"
   },
   {
    "duration": 28,
    "start_time": "2022-06-18T13:24:12.858Z"
   },
   {
    "duration": 26,
    "start_time": "2022-06-18T13:24:12.888Z"
   },
   {
    "duration": 70,
    "start_time": "2022-06-18T13:24:12.916Z"
   },
   {
    "duration": 8,
    "start_time": "2022-06-18T13:24:12.988Z"
   },
   {
    "duration": 7,
    "start_time": "2022-06-18T13:25:13.894Z"
   },
   {
    "duration": 5,
    "start_time": "2022-06-18T13:25:18.549Z"
   },
   {
    "duration": 1281,
    "start_time": "2022-06-20T08:34:31.496Z"
   },
   {
    "duration": 637,
    "start_time": "2022-06-20T08:34:32.779Z"
   },
   {
    "duration": 4,
    "start_time": "2022-06-20T08:34:33.417Z"
   },
   {
    "duration": 290,
    "start_time": "2022-06-20T08:34:33.423Z"
   },
   {
    "duration": 42,
    "start_time": "2022-06-20T08:34:33.715Z"
   },
   {
    "duration": 38,
    "start_time": "2022-06-20T08:34:33.758Z"
   },
   {
    "duration": 109,
    "start_time": "2022-06-20T08:34:33.797Z"
   },
   {
    "duration": 4,
    "start_time": "2022-06-20T08:34:33.908Z"
   },
   {
    "duration": 51,
    "start_time": "2022-06-20T08:34:33.913Z"
   },
   {
    "duration": 12,
    "start_time": "2022-06-20T08:34:33.967Z"
   },
   {
    "duration": 41,
    "start_time": "2022-06-20T08:34:33.980Z"
   },
   {
    "duration": 389,
    "start_time": "2022-06-20T08:34:34.023Z"
   },
   {
    "duration": 98,
    "start_time": "2022-06-20T08:34:34.413Z"
   },
   {
    "duration": 979,
    "start_time": "2022-06-20T08:34:34.513Z"
   },
   {
    "duration": 312,
    "start_time": "2022-06-20T08:34:35.493Z"
   },
   {
    "duration": 11,
    "start_time": "2022-06-20T08:34:35.807Z"
   },
   {
    "duration": 38,
    "start_time": "2022-06-20T08:34:35.819Z"
   },
   {
    "duration": 2313,
    "start_time": "2022-06-20T08:34:35.858Z"
   },
   {
    "duration": 53,
    "start_time": "2022-06-20T08:34:38.173Z"
   },
   {
    "duration": 470,
    "start_time": "2022-06-20T08:34:38.229Z"
   },
   {
    "duration": 1247,
    "start_time": "2022-06-20T08:34:38.700Z"
   },
   {
    "duration": 262,
    "start_time": "2022-06-20T08:34:39.951Z"
   },
   {
    "duration": 19,
    "start_time": "2022-06-20T08:34:40.214Z"
   },
   {
    "duration": 99,
    "start_time": "2022-06-20T08:34:40.235Z"
   },
   {
    "duration": 20,
    "start_time": "2022-06-20T08:34:40.335Z"
   },
   {
    "duration": 17,
    "start_time": "2022-06-20T08:34:40.356Z"
   },
   {
    "duration": 12,
    "start_time": "2022-06-20T08:34:40.374Z"
   },
   {
    "duration": 8,
    "start_time": "2022-06-20T08:34:40.389Z"
   },
   {
    "duration": 6,
    "start_time": "2022-06-20T08:34:40.399Z"
   },
   {
    "duration": 10,
    "start_time": "2022-06-20T08:34:40.407Z"
   },
   {
    "duration": 34,
    "start_time": "2022-06-20T08:34:40.418Z"
   },
   {
    "duration": 35,
    "start_time": "2022-06-20T08:34:40.454Z"
   },
   {
    "duration": 7,
    "start_time": "2022-06-20T08:34:40.491Z"
   },
   {
    "duration": 127,
    "start_time": "2022-06-20T08:35:15.925Z"
   },
   {
    "duration": 75,
    "start_time": "2022-06-20T08:35:23.696Z"
   },
   {
    "duration": 1397,
    "start_time": "2022-07-05T16:21:01.518Z"
   },
   {
    "duration": 1196,
    "start_time": "2022-07-05T16:21:02.917Z"
   },
   {
    "duration": 6,
    "start_time": "2022-07-05T16:21:04.115Z"
   },
   {
    "duration": 465,
    "start_time": "2022-07-05T16:21:04.124Z"
   },
   {
    "duration": 37,
    "start_time": "2022-07-05T16:21:04.591Z"
   },
   {
    "duration": 87,
    "start_time": "2022-07-05T16:21:04.630Z"
   },
   {
    "duration": 118,
    "start_time": "2022-07-05T16:21:04.719Z"
   },
   {
    "duration": 4,
    "start_time": "2022-07-05T16:21:04.839Z"
   },
   {
    "duration": 73,
    "start_time": "2022-07-05T16:21:04.845Z"
   },
   {
    "duration": 14,
    "start_time": "2022-07-05T16:21:04.921Z"
   },
   {
    "duration": 49,
    "start_time": "2022-07-05T16:21:04.936Z"
   },
   {
    "duration": 466,
    "start_time": "2022-07-05T16:21:05.003Z"
   },
   {
    "duration": 115,
    "start_time": "2022-07-05T16:21:05.471Z"
   },
   {
    "duration": 1056,
    "start_time": "2022-07-05T16:21:05.588Z"
   },
   {
    "duration": 387,
    "start_time": "2022-07-05T16:21:06.647Z"
   },
   {
    "duration": 12,
    "start_time": "2022-07-05T16:21:07.036Z"
   },
   {
    "duration": 40,
    "start_time": "2022-07-05T16:21:07.049Z"
   },
   {
    "duration": 2507,
    "start_time": "2022-07-05T16:21:07.091Z"
   },
   {
    "duration": 66,
    "start_time": "2022-07-05T16:21:09.600Z"
   },
   {
    "duration": 500,
    "start_time": "2022-07-05T16:21:09.668Z"
   },
   {
    "duration": 1459,
    "start_time": "2022-07-05T16:21:10.171Z"
   },
   {
    "duration": 313,
    "start_time": "2022-07-05T16:21:11.632Z"
   },
   {
    "duration": 23,
    "start_time": "2022-07-05T16:21:11.947Z"
   },
   {
    "duration": 115,
    "start_time": "2022-07-05T16:21:11.972Z"
   },
   {
    "duration": 32,
    "start_time": "2022-07-05T16:21:12.089Z"
   },
   {
    "duration": 15,
    "start_time": "2022-07-05T16:21:12.122Z"
   },
   {
    "duration": 12,
    "start_time": "2022-07-05T16:21:12.139Z"
   },
   {
    "duration": 11,
    "start_time": "2022-07-05T16:21:12.155Z"
   },
   {
    "duration": 43,
    "start_time": "2022-07-05T16:21:12.167Z"
   },
   {
    "duration": 11,
    "start_time": "2022-07-05T16:21:12.212Z"
   },
   {
    "duration": 15,
    "start_time": "2022-07-05T16:21:12.226Z"
   },
   {
    "duration": 75,
    "start_time": "2022-07-05T16:21:12.243Z"
   },
   {
    "duration": 8,
    "start_time": "2022-07-05T16:21:12.320Z"
   },
   {
    "duration": 152,
    "start_time": "2022-07-05T16:21:12.330Z"
   }
  ],
  "kernelspec": {
   "display_name": "Python 3 (ipykernel)",
   "language": "python",
   "name": "python3"
  },
  "language_info": {
   "codemirror_mode": {
    "name": "ipython",
    "version": 3
   },
   "file_extension": ".py",
   "mimetype": "text/x-python",
   "name": "python",
   "nbconvert_exporter": "python",
   "pygments_lexer": "ipython3",
   "version": "3.9.7"
  },
  "toc": {
   "base_numbering": 1,
   "nav_menu": {},
   "number_sections": true,
   "sideBar": true,
   "skip_h1_title": true,
   "title_cell": "Table of Contents",
   "title_sidebar": "Contents",
   "toc_cell": false,
   "toc_position": {
    "height": "calc(100% - 180px)",
    "left": "10px",
    "top": "150px",
    "width": "301.992px"
   },
   "toc_section_display": true,
   "toc_window_display": true
  }
 },
 "nbformat": 4,
 "nbformat_minor": 2
}

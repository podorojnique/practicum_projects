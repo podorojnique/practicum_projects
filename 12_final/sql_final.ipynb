{
 "cells": [
  {
   "cell_type": "markdown",
   "metadata": {},
   "source": [
    "# Финальный проект по SQL"
   ]
  },
  {
   "cell_type": "markdown",
   "metadata": {},
   "source": [
    "Коронавирус застал мир врасплох, изменив привычный порядок вещей. В свободное время жители городов больше не выходят на улицу, не посещают кафе и торговые центры. Зато стало больше времени для книг. Это заметили стартаперы — и бросились создавать приложения для тех, кто любит читать.\n",
    "\n",
    "Ваша компания решила быть на волне и купила крупный сервис для чтения книг по подписке. Ваша первая задача как аналитика — проанализировать базу данных.\n",
    "\n",
    "В ней — информация о книгах, издательствах, авторах, а также пользовательские обзоры книг. Эти данные помогут сформулировать ценностное предложение для нового продукта.\n",
    "\n",
    "**Описание данных**\n",
    "\n",
    "Таблица `books`, содержит данные о книгах:\n",
    "\n",
    "* `book_id` — идентификатор книги;\n",
    "* `author_id` — идентификатор автора;\n",
    "* `title` — название книги;\n",
    "* `num_pages` — количество страниц;\n",
    "* `publication_date` — дата публикации книги;\n",
    "* `publisher_id` — идентификатор издателя.\n",
    "\n",
    "Таблица `authors`, содержит данные об авторах:\n",
    "\n",
    "* `author_id` — идентификатор автора;\n",
    "* `author` — имя автора.\n",
    "\n",
    "Таблица `publishers`, содержит данные об издательствах:\n",
    "\n",
    "* `publisher_id` — идентификатор издательства;\n",
    "* `publisher` — название издательства;\n",
    "\n",
    "Таблица `ratings`, содержит данные о пользовательских оценках книг:\n",
    "\n",
    "* `rating_id` — идентификатор оценки;\n",
    "* `book_id` — идентификатор книги;\n",
    "* `username` — имя пользователя, оставившего оценку;\n",
    "* `rating` — оценка книги.\n",
    "\n",
    "Таблица `reviews`, содержит данные о пользовательских обзорах на книги:\n",
    "\n",
    "* `review_id` — идентификатор обзора;\n",
    "* `book_id` — идентификатор книги;\n",
    "* `username` — имя пользователя, написавшего обзор;\n",
    "* `text` — текст обзора.\n",
    "\n",
    "Задания:\n",
    "- [ ] Посчитайте, сколько книг вышло после 1 января 2000 года;\n",
    "- [ ] Для каждой книги посчитайте количество обзоров и среднюю оценку;\n",
    "- [ ] Определите издательство, которое выпустило наибольшее число книг толще 50 страниц — так вы исключите из анализа брошюры;\n",
    "- [ ] Определите автора с самой высокой средней оценкой книг — учитывайте только книги с 50 и более оценками;\n",
    "- [ ] Посчитайте среднее количество обзоров от пользователей, которые поставили больше 50 оценок."
   ]
  },
  {
   "cell_type": "markdown",
   "metadata": {},
   "source": [
    "## Подключение к базе данных"
   ]
  },
  {
   "cell_type": "code",
   "execution_count": null,
   "metadata": {},
   "outputs": [],
   "source": [
    "# импортируем библиотеки\n",
    "import pandas as pd\n",
    "from sqlalchemy import create_engine\n",
    "# устанавливаем параметры\n",
    "db_config = {'user': 'praktikum_student', # имя пользователя\n",
    "             'pwd': 'Sdf4$2;d-d30pp', # пароль\n",
    "             'host': 'rc1b-wcoijxj3yxfsf3fs.mdb.yandexcloud.net',\n",
    "             'port': 6432, # порт подключения\n",
    "             'db': 'data-analyst-final-project-db'} # название базы данных\n",
    "\n",
    "connection_string = 'postgresql://{}:{}@{}:{}/{}'.format(db_config['user'],\n",
    "                                                         db_config['pwd'],\n",
    "                                                         db_config['host'],\n",
    "                                                         db_config['port'],\n",
    "                                                         db_config['db'])\n",
    "\n",
    "# сохраняем коннектор\n",
    "engine = create_engine(connection_string, connect_args={'sslmode':'require'})"
   ]
  },
  {
   "cell_type": "markdown",
   "metadata": {},
   "source": [
    "## Посчитайте, сколько книг вышло после 1 января 2000 года"
   ]
  },
  {
   "cell_type": "code",
   "execution_count": null,
   "metadata": {},
   "outputs": [],
   "source": [
    "query_1 ='''\n",
    "SELECT COUNT(book_id) as books_count\n",
    "FROM books\n",
    "WHERE publication_date > '2000-01-01'\n",
    "'''\n",
    "pd.io.sql.read_sql(query_1, con = engine)"
   ]
  },
  {
   "cell_type": "markdown",
   "metadata": {},
   "source": [
    "## Для каждой книги посчитайте количество обзоров и среднюю оценку"
   ]
  },
  {
   "cell_type": "code",
   "execution_count": null,
   "metadata": {},
   "outputs": [],
   "source": [
    "query_2 = '''\n",
    "SELECT title,\n",
    "       avg_rating,\n",
    "       reviews_count\n",
    "FROM books\n",
    "LEFT JOIN\n",
    "  (SELECT book_id,\n",
    "          AVG(rating) AS avg_rating\n",
    "   FROM ratings\n",
    "   GROUP BY book_id) AS i_ratings ON books.book_id = i_ratings.book_id\n",
    "LEFT JOIN\n",
    "  (SELECT book_id,\n",
    "          COUNT(review_id) AS reviews_count\n",
    "   FROM reviews\n",
    "   GROUP BY book_id) AS i_reviews ON books.book_id = i_reviews.book_id\n",
    "'''\n",
    "pd.io.sql.read_sql(query_2, con = engine)"
   ]
  },
  {
   "cell_type": "markdown",
   "metadata": {},
   "source": [
    "## Определите издательство, которое выпустило наибольшее число книг толще 50 страниц — так вы исключите из анализа брошюры"
   ]
  },
  {
   "cell_type": "code",
   "execution_count": null,
   "metadata": {},
   "outputs": [],
   "source": [
    "query_3 ='''\n",
    "SELECT i.publisher_id,\n",
    "       i.publisher,\n",
    "       i.books_count\n",
    "FROM\n",
    "  (SELECT books.publisher_id AS publisher_id,\n",
    "          COUNT(books.book_id) AS books_count,\n",
    "          publishers.publisher AS publisher\n",
    "   FROM books\n",
    "   LEFT JOIN publishers ON books.publisher_id=publishers.publisher_id\n",
    "   WHERE num_pages>50\n",
    "   GROUP BY books.publisher_id,\n",
    "            publishers.publisher\n",
    "   ORDER BY books_count DESC) AS i\n",
    "LIMIT 1;\n",
    "'''\n",
    "pd.io.sql.read_sql(query_3, con = engine)"
   ]
  },
  {
   "cell_type": "markdown",
   "metadata": {},
   "source": [
    "## Определите автора с самой высокой средней оценкой книг — учитывайте только книги с 50 и более оценками"
   ]
  },
  {
   "cell_type": "code",
   "execution_count": null,
   "metadata": {},
   "outputs": [],
   "source": [
    "query_4 = '''\n",
    "SELECT author_avg.author,\n",
    "       AVG(author_avg.avg_rating) AS average_rating\n",
    "FROM\n",
    "  (SELECT authors.author AS author ,\n",
    "          AVG(ratings.rating) AS avg_rating\n",
    "   FROM books\n",
    "   LEFT JOIN authors ON books.author_id = authors.author_id\n",
    "   LEFT JOIN ratings ON books.book_id = ratings.book_id\n",
    "   GROUP BY books.book_id ,\n",
    "            authors.author_id\n",
    "   HAVING COUNT(ratings.rating_id) >=50) AS author_avg\n",
    "GROUP BY author_avg.author\n",
    "ORDER BY average_rating DESC\n",
    "LIMIT 1\n",
    "'''\n",
    "pd.io.sql.read_sql(query_4, con = engine)"
   ]
  },
  {
   "cell_type": "markdown",
   "metadata": {},
   "source": [
    "## Посчитайте среднее количество обзоров от пользователей, которые поставили больше 50 оценок"
   ]
  },
  {
   "cell_type": "code",
   "execution_count": null,
   "metadata": {
    "scrolled": true
   },
   "outputs": [],
   "source": [
    "query_5 = '''\n",
    "SELECT AVG(i.reviews_count)\n",
    "FROM\n",
    "  (SELECT username,\n",
    "          COUNT(review_id) AS reviews_count\n",
    "   FROM reviews\n",
    "   WHERE username IN\n",
    "       (SELECT username\n",
    "        FROM ratings\n",
    "        GROUP BY username\n",
    "        HAVING COUNT(rating_id) > 50)\n",
    "   GROUP BY username) AS i;\n",
    "'''\n",
    "pd.io.sql.read_sql(query_5, con = engine)"
   ]
  },
  {
   "cell_type": "markdown",
   "metadata": {},
   "source": [
    "## Общий вывод"
   ]
  },
  {
   "cell_type": "markdown",
   "metadata": {},
   "source": [
    "Решив поставленные задачи, выяснили следующее:\n",
    "\n",
    "1) После 1 января 2000 года вышло **819 книг**;\n",
    "\n",
    "2) Для представленных 1000 книг рассчитали среднюю оценку и количество обзоров;\n",
    "\n",
    "3) Издательство, которое выпустило наибольшее число книг толще 50 страниц - это **Penguin Books, выпустившее 42 книги**;\n",
    "\n",
    "4) Автор с самой высокой средней оценкой книг, учитывая только книги с 50 и более оценками - это **J.K. Rowling/Mary GrandPré со средней оценкой 4.28**;\n",
    "\n",
    "5) Среднее количество обзоров от пользователей, которые поставили больше 50 оценок: **24.33**."
   ]
  }
 ],
 "metadata": {
  "ExecuteTimeLog": [
   {
    "duration": 6701,
    "start_time": "2022-06-23T19:44:55.518Z"
   },
   {
    "duration": 280,
    "start_time": "2022-06-23T19:45:06.527Z"
   },
   {
    "duration": 96,
    "start_time": "2022-06-23T19:45:19.468Z"
   },
   {
    "duration": 67,
    "start_time": "2022-06-23T19:52:27.014Z"
   },
   {
    "duration": 74,
    "start_time": "2022-06-23T19:58:03.495Z"
   },
   {
    "duration": 97,
    "start_time": "2022-06-23T20:00:25.009Z"
   },
   {
    "duration": 73,
    "start_time": "2022-06-23T20:00:30.201Z"
   },
   {
    "duration": 69,
    "start_time": "2022-06-23T20:00:55.698Z"
   },
   {
    "duration": 100,
    "start_time": "2022-06-23T20:01:18.063Z"
   },
   {
    "duration": 95,
    "start_time": "2022-06-23T20:02:13.663Z"
   },
   {
    "duration": 96,
    "start_time": "2022-06-23T20:02:26.563Z"
   },
   {
    "duration": 69,
    "start_time": "2022-06-23T20:02:46.498Z"
   },
   {
    "duration": 69,
    "start_time": "2022-06-23T20:02:54.504Z"
   },
   {
    "duration": 73,
    "start_time": "2022-06-23T20:04:30.894Z"
   },
   {
    "duration": 219,
    "start_time": "2022-06-23T20:06:17.143Z"
   },
   {
    "duration": 135,
    "start_time": "2022-06-23T20:06:30.811Z"
   },
   {
    "duration": 161,
    "start_time": "2022-06-23T20:06:37.184Z"
   },
   {
    "duration": 70,
    "start_time": "2022-06-23T20:06:43.318Z"
   },
   {
    "duration": 67,
    "start_time": "2022-06-27T05:02:00.579Z"
   },
   {
    "duration": 12239,
    "start_time": "2022-06-27T05:02:04.246Z"
   },
   {
    "duration": 113,
    "start_time": "2022-06-27T05:02:16.488Z"
   },
   {
    "duration": 24,
    "start_time": "2022-06-27T05:02:16.603Z"
   },
   {
    "duration": 53,
    "start_time": "2022-06-27T05:02:16.633Z"
   },
   {
    "duration": 17,
    "start_time": "2022-06-27T05:02:16.688Z"
   },
   {
    "duration": 30,
    "start_time": "2022-06-27T05:05:34.533Z"
   },
   {
    "duration": 28,
    "start_time": "2022-06-27T05:06:03.990Z"
   },
   {
    "duration": 14,
    "start_time": "2022-06-27T05:07:43.672Z"
   },
   {
    "duration": 162,
    "start_time": "2022-06-27T05:08:37.101Z"
   },
   {
    "duration": 124,
    "start_time": "2022-06-27T05:10:11.894Z"
   },
   {
    "duration": 154,
    "start_time": "2022-06-27T05:10:46.426Z"
   },
   {
    "duration": 21,
    "start_time": "2022-06-27T05:11:01.513Z"
   },
   {
    "duration": 18,
    "start_time": "2022-06-27T05:16:07.403Z"
   },
   {
    "duration": 48,
    "start_time": "2022-06-27T05:16:31.816Z"
   },
   {
    "duration": 21,
    "start_time": "2022-06-27T05:17:16.341Z"
   },
   {
    "duration": 117,
    "start_time": "2022-06-27T05:18:01.757Z"
   },
   {
    "duration": 128,
    "start_time": "2022-06-27T05:18:14.776Z"
   },
   {
    "duration": 37,
    "start_time": "2022-06-27T05:18:20.219Z"
   },
   {
    "duration": 11971,
    "start_time": "2022-06-27T05:23:32.728Z"
   },
   {
    "duration": 92,
    "start_time": "2022-06-27T05:23:44.701Z"
   },
   {
    "duration": 21,
    "start_time": "2022-06-27T05:23:44.794Z"
   },
   {
    "duration": 15,
    "start_time": "2022-06-27T05:23:44.817Z"
   },
   {
    "duration": 40,
    "start_time": "2022-06-27T05:23:44.834Z"
   },
   {
    "duration": 31,
    "start_time": "2022-06-27T05:23:44.876Z"
   },
   {
    "duration": 14554,
    "start_time": "2022-06-27T18:44:08.975Z"
   },
   {
    "duration": 87,
    "start_time": "2022-06-27T18:44:23.531Z"
   },
   {
    "duration": 60,
    "start_time": "2022-06-27T18:44:23.620Z"
   },
   {
    "duration": 13,
    "start_time": "2022-06-27T18:44:23.682Z"
   },
   {
    "duration": 16,
    "start_time": "2022-06-27T18:44:23.697Z"
   },
   {
    "duration": 40,
    "start_time": "2022-06-27T18:44:23.715Z"
   }
  ],
  "kernelspec": {
   "display_name": "Python 3 (ipykernel)",
   "language": "python",
   "name": "python3"
  },
  "language_info": {
   "codemirror_mode": {
    "name": "ipython",
    "version": 3
   },
   "file_extension": ".py",
   "mimetype": "text/x-python",
   "name": "python",
   "nbconvert_exporter": "python",
   "pygments_lexer": "ipython3",
   "version": "3.9.7"
  },
  "toc": {
   "base_numbering": 1,
   "nav_menu": {},
   "number_sections": true,
   "sideBar": true,
   "skip_h1_title": true,
   "title_cell": "Table of Contents",
   "title_sidebar": "Contents",
   "toc_cell": false,
   "toc_position": {},
   "toc_section_display": true,
   "toc_window_display": false
  }
 },
 "nbformat": 4,
 "nbformat_minor": 2
}

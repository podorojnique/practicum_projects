{
 "cells": [
  {
   "cell_type": "markdown",
   "metadata": {},
   "source": [
    "# Проект по принятию решений в бизнесе"
   ]
  },
  {
   "cell_type": "markdown",
   "metadata": {},
   "source": [
    "**Описание проекта**\n",
    "\n",
    "Вы — аналитик крупного интернет-магазина. Вместе с отделом маркетинга вы подготовили список гипотез для увеличения выручки.\n",
    "Приоритизируйте гипотезы, запустите A/B-тест и проанализируйте результаты."
   ]
  },
  {
   "cell_type": "markdown",
   "metadata": {},
   "source": [
    "## Загрузка данных и подготовка их к анализу"
   ]
  },
  {
   "cell_type": "markdown",
   "metadata": {},
   "source": [
    "### Первичный анализ данных"
   ]
  },
  {
   "cell_type": "markdown",
   "metadata": {},
   "source": [
    "Перед началом анализа импортируем все необходимые для работы библиотеки и загрузим заданные датафреймы"
   ]
  },
  {
   "cell_type": "code",
   "execution_count": 1,
   "metadata": {},
   "outputs": [],
   "source": [
    "# импортируем библиотеки для работы с данными, графиками и математическими операторами\n",
    "import pandas as pd\n",
    "import matplotlib.pyplot as plt\n",
    "%matplotlib inline\n",
    "import seaborn as sns\n",
    "import numpy as np\n",
    "from scipy import stats\n",
    "import datetime as dt\n",
    "\n",
    "# уберем ограничение по количество отображаемых символом ячейки для удобства\n",
    "pd.set_option('display.max_colwidth', None)"
   ]
  },
  {
   "cell_type": "code",
   "execution_count": 2,
   "metadata": {},
   "outputs": [],
   "source": [
    "# загрузим заданные датафреймы\n",
    "hypothesis = pd.read_csv('/datasets/hypothesis.csv')\n",
    "orders = pd.read_csv('/datasets/orders.csv')\n",
    "visitors = pd.read_csv('/datasets/visitors.csv')"
   ]
  },
  {
   "cell_type": "markdown",
   "metadata": {},
   "source": [
    "Выведем общую информацию, количество пропусков, описание и первые строчки представленной таблицы, а также возможное количество дубликатов."
   ]
  },
  {
   "cell_type": "code",
   "execution_count": 3,
   "metadata": {},
   "outputs": [],
   "source": [
    "# воспользуемся функцией автоматизиции вывода первичных данных по заданной таблице\n",
    "def df_analysis(dataframe):\n",
    "    \"\"\"\n",
    "    На вход функция принимает датафрейм.\n",
    "    Выводит поэтапно на экран информацию по таблице методом info(),\n",
    "    10 первых строчек методом head(), описание данных таблицы методом describe(), \n",
    "    а также выводит долю пропусков по столбцам с количеством дубликатов по всей таблице.\n",
    "    \"\"\"\n",
    "    display(dataframe.info())\n",
    "    display(dataframe.head(10))\n",
    "    display(dataframe.describe())\n",
    "    print(f'Доля пропусков в таблице {dataframe.isna().mean().apply(\"{:.2%}\".format)}, количество дубликатов {dataframe.duplicated().sum()}')"
   ]
  },
  {
   "cell_type": "code",
   "execution_count": 4,
   "metadata": {},
   "outputs": [
    {
     "name": "stdout",
     "output_type": "stream",
     "text": [
      "<class 'pandas.core.frame.DataFrame'>\n",
      "RangeIndex: 9 entries, 0 to 8\n",
      "Data columns (total 5 columns):\n",
      " #   Column      Non-Null Count  Dtype \n",
      "---  ------      --------------  ----- \n",
      " 0   Hypothesis  9 non-null      object\n",
      " 1   Reach       9 non-null      int64 \n",
      " 2   Impact      9 non-null      int64 \n",
      " 3   Confidence  9 non-null      int64 \n",
      " 4   Efforts     9 non-null      int64 \n",
      "dtypes: int64(4), object(1)\n",
      "memory usage: 488.0+ bytes\n"
     ]
    },
    {
     "data": {
      "text/plain": [
       "None"
      ]
     },
     "metadata": {},
     "output_type": "display_data"
    },
    {
     "data": {
      "text/html": [
       "<div>\n",
       "<style scoped>\n",
       "    .dataframe tbody tr th:only-of-type {\n",
       "        vertical-align: middle;\n",
       "    }\n",
       "\n",
       "    .dataframe tbody tr th {\n",
       "        vertical-align: top;\n",
       "    }\n",
       "\n",
       "    .dataframe thead th {\n",
       "        text-align: right;\n",
       "    }\n",
       "</style>\n",
       "<table border=\"1\" class=\"dataframe\">\n",
       "  <thead>\n",
       "    <tr style=\"text-align: right;\">\n",
       "      <th></th>\n",
       "      <th>Hypothesis</th>\n",
       "      <th>Reach</th>\n",
       "      <th>Impact</th>\n",
       "      <th>Confidence</th>\n",
       "      <th>Efforts</th>\n",
       "    </tr>\n",
       "  </thead>\n",
       "  <tbody>\n",
       "    <tr>\n",
       "      <th>0</th>\n",
       "      <td>Добавить два новых канала привлечения трафика, что позволит привлекать на 30% больше пользователей</td>\n",
       "      <td>3</td>\n",
       "      <td>10</td>\n",
       "      <td>8</td>\n",
       "      <td>6</td>\n",
       "    </tr>\n",
       "    <tr>\n",
       "      <th>1</th>\n",
       "      <td>Запустить собственную службу доставки, что сократит срок доставки заказов</td>\n",
       "      <td>2</td>\n",
       "      <td>5</td>\n",
       "      <td>4</td>\n",
       "      <td>10</td>\n",
       "    </tr>\n",
       "    <tr>\n",
       "      <th>2</th>\n",
       "      <td>Добавить блоки рекомендаций товаров на сайт интернет магазина, чтобы повысить конверсию и средний чек заказа</td>\n",
       "      <td>8</td>\n",
       "      <td>3</td>\n",
       "      <td>7</td>\n",
       "      <td>3</td>\n",
       "    </tr>\n",
       "    <tr>\n",
       "      <th>3</th>\n",
       "      <td>Изменить структура категорий, что увеличит конверсию, т.к. пользователи быстрее найдут нужный товар</td>\n",
       "      <td>8</td>\n",
       "      <td>3</td>\n",
       "      <td>3</td>\n",
       "      <td>8</td>\n",
       "    </tr>\n",
       "    <tr>\n",
       "      <th>4</th>\n",
       "      <td>Изменить цвет фона главной страницы, чтобы увеличить вовлеченность пользователей</td>\n",
       "      <td>3</td>\n",
       "      <td>1</td>\n",
       "      <td>1</td>\n",
       "      <td>1</td>\n",
       "    </tr>\n",
       "    <tr>\n",
       "      <th>5</th>\n",
       "      <td>Добавить страницу отзывов клиентов о магазине, что позволит увеличить количество заказов</td>\n",
       "      <td>3</td>\n",
       "      <td>2</td>\n",
       "      <td>2</td>\n",
       "      <td>3</td>\n",
       "    </tr>\n",
       "    <tr>\n",
       "      <th>6</th>\n",
       "      <td>Показать на главной странице баннеры с актуальными акциями и распродажами, чтобы увеличить конверсию</td>\n",
       "      <td>5</td>\n",
       "      <td>3</td>\n",
       "      <td>8</td>\n",
       "      <td>3</td>\n",
       "    </tr>\n",
       "    <tr>\n",
       "      <th>7</th>\n",
       "      <td>Добавить форму подписки на все основные страницы, чтобы собрать базу клиентов для email-рассылок</td>\n",
       "      <td>10</td>\n",
       "      <td>7</td>\n",
       "      <td>8</td>\n",
       "      <td>5</td>\n",
       "    </tr>\n",
       "    <tr>\n",
       "      <th>8</th>\n",
       "      <td>Запустить акцию, дающую скидку на товар в день рождения</td>\n",
       "      <td>1</td>\n",
       "      <td>9</td>\n",
       "      <td>9</td>\n",
       "      <td>5</td>\n",
       "    </tr>\n",
       "  </tbody>\n",
       "</table>\n",
       "</div>"
      ],
      "text/plain": [
       "                                                                                                     Hypothesis  \\\n",
       "0            Добавить два новых канала привлечения трафика, что позволит привлекать на 30% больше пользователей   \n",
       "1                                     Запустить собственную службу доставки, что сократит срок доставки заказов   \n",
       "2  Добавить блоки рекомендаций товаров на сайт интернет магазина, чтобы повысить конверсию и средний чек заказа   \n",
       "3           Изменить структура категорий, что увеличит конверсию, т.к. пользователи быстрее найдут нужный товар   \n",
       "4                              Изменить цвет фона главной страницы, чтобы увеличить вовлеченность пользователей   \n",
       "5                      Добавить страницу отзывов клиентов о магазине, что позволит увеличить количество заказов   \n",
       "6          Показать на главной странице баннеры с актуальными акциями и распродажами, чтобы увеличить конверсию   \n",
       "7              Добавить форму подписки на все основные страницы, чтобы собрать базу клиентов для email-рассылок   \n",
       "8                                                       Запустить акцию, дающую скидку на товар в день рождения   \n",
       "\n",
       "   Reach  Impact  Confidence  Efforts  \n",
       "0      3      10           8        6  \n",
       "1      2       5           4       10  \n",
       "2      8       3           7        3  \n",
       "3      8       3           3        8  \n",
       "4      3       1           1        1  \n",
       "5      3       2           2        3  \n",
       "6      5       3           8        3  \n",
       "7     10       7           8        5  \n",
       "8      1       9           9        5  "
      ]
     },
     "metadata": {},
     "output_type": "display_data"
    },
    {
     "data": {
      "text/html": [
       "<div>\n",
       "<style scoped>\n",
       "    .dataframe tbody tr th:only-of-type {\n",
       "        vertical-align: middle;\n",
       "    }\n",
       "\n",
       "    .dataframe tbody tr th {\n",
       "        vertical-align: top;\n",
       "    }\n",
       "\n",
       "    .dataframe thead th {\n",
       "        text-align: right;\n",
       "    }\n",
       "</style>\n",
       "<table border=\"1\" class=\"dataframe\">\n",
       "  <thead>\n",
       "    <tr style=\"text-align: right;\">\n",
       "      <th></th>\n",
       "      <th>Reach</th>\n",
       "      <th>Impact</th>\n",
       "      <th>Confidence</th>\n",
       "      <th>Efforts</th>\n",
       "    </tr>\n",
       "  </thead>\n",
       "  <tbody>\n",
       "    <tr>\n",
       "      <th>count</th>\n",
       "      <td>9.000000</td>\n",
       "      <td>9.000000</td>\n",
       "      <td>9.000000</td>\n",
       "      <td>9.000000</td>\n",
       "    </tr>\n",
       "    <tr>\n",
       "      <th>mean</th>\n",
       "      <td>4.777778</td>\n",
       "      <td>4.777778</td>\n",
       "      <td>5.555556</td>\n",
       "      <td>4.888889</td>\n",
       "    </tr>\n",
       "    <tr>\n",
       "      <th>std</th>\n",
       "      <td>3.153481</td>\n",
       "      <td>3.192874</td>\n",
       "      <td>3.045944</td>\n",
       "      <td>2.803767</td>\n",
       "    </tr>\n",
       "    <tr>\n",
       "      <th>min</th>\n",
       "      <td>1.000000</td>\n",
       "      <td>1.000000</td>\n",
       "      <td>1.000000</td>\n",
       "      <td>1.000000</td>\n",
       "    </tr>\n",
       "    <tr>\n",
       "      <th>25%</th>\n",
       "      <td>3.000000</td>\n",
       "      <td>3.000000</td>\n",
       "      <td>3.000000</td>\n",
       "      <td>3.000000</td>\n",
       "    </tr>\n",
       "    <tr>\n",
       "      <th>50%</th>\n",
       "      <td>3.000000</td>\n",
       "      <td>3.000000</td>\n",
       "      <td>7.000000</td>\n",
       "      <td>5.000000</td>\n",
       "    </tr>\n",
       "    <tr>\n",
       "      <th>75%</th>\n",
       "      <td>8.000000</td>\n",
       "      <td>7.000000</td>\n",
       "      <td>8.000000</td>\n",
       "      <td>6.000000</td>\n",
       "    </tr>\n",
       "    <tr>\n",
       "      <th>max</th>\n",
       "      <td>10.000000</td>\n",
       "      <td>10.000000</td>\n",
       "      <td>9.000000</td>\n",
       "      <td>10.000000</td>\n",
       "    </tr>\n",
       "  </tbody>\n",
       "</table>\n",
       "</div>"
      ],
      "text/plain": [
       "           Reach     Impact  Confidence    Efforts\n",
       "count   9.000000   9.000000    9.000000   9.000000\n",
       "mean    4.777778   4.777778    5.555556   4.888889\n",
       "std     3.153481   3.192874    3.045944   2.803767\n",
       "min     1.000000   1.000000    1.000000   1.000000\n",
       "25%     3.000000   3.000000    3.000000   3.000000\n",
       "50%     3.000000   3.000000    7.000000   5.000000\n",
       "75%     8.000000   7.000000    8.000000   6.000000\n",
       "max    10.000000  10.000000    9.000000  10.000000"
      ]
     },
     "metadata": {},
     "output_type": "display_data"
    },
    {
     "name": "stdout",
     "output_type": "stream",
     "text": [
      "Доля пропусков в таблице Hypothesis    0.00%\n",
      "Reach         0.00%\n",
      "Impact        0.00%\n",
      "Confidence    0.00%\n",
      "Efforts       0.00%\n",
      "dtype: object, количество дубликатов 0\n"
     ]
    }
   ],
   "source": [
    "# выведем первичную информацию по таблице hypothesis\n",
    "df_analysis(hypothesis)"
   ]
  },
  {
   "cell_type": "code",
   "execution_count": 5,
   "metadata": {},
   "outputs": [
    {
     "name": "stdout",
     "output_type": "stream",
     "text": [
      "<class 'pandas.core.frame.DataFrame'>\n",
      "RangeIndex: 1197 entries, 0 to 1196\n",
      "Data columns (total 5 columns):\n",
      " #   Column         Non-Null Count  Dtype \n",
      "---  ------         --------------  ----- \n",
      " 0   transactionId  1197 non-null   int64 \n",
      " 1   visitorId      1197 non-null   int64 \n",
      " 2   date           1197 non-null   object\n",
      " 3   revenue        1197 non-null   int64 \n",
      " 4   group          1197 non-null   object\n",
      "dtypes: int64(3), object(2)\n",
      "memory usage: 46.9+ KB\n"
     ]
    },
    {
     "data": {
      "text/plain": [
       "None"
      ]
     },
     "metadata": {},
     "output_type": "display_data"
    },
    {
     "data": {
      "text/html": [
       "<div>\n",
       "<style scoped>\n",
       "    .dataframe tbody tr th:only-of-type {\n",
       "        vertical-align: middle;\n",
       "    }\n",
       "\n",
       "    .dataframe tbody tr th {\n",
       "        vertical-align: top;\n",
       "    }\n",
       "\n",
       "    .dataframe thead th {\n",
       "        text-align: right;\n",
       "    }\n",
       "</style>\n",
       "<table border=\"1\" class=\"dataframe\">\n",
       "  <thead>\n",
       "    <tr style=\"text-align: right;\">\n",
       "      <th></th>\n",
       "      <th>transactionId</th>\n",
       "      <th>visitorId</th>\n",
       "      <th>date</th>\n",
       "      <th>revenue</th>\n",
       "      <th>group</th>\n",
       "    </tr>\n",
       "  </thead>\n",
       "  <tbody>\n",
       "    <tr>\n",
       "      <th>0</th>\n",
       "      <td>3667963787</td>\n",
       "      <td>3312258926</td>\n",
       "      <td>2019-08-15</td>\n",
       "      <td>1650</td>\n",
       "      <td>B</td>\n",
       "    </tr>\n",
       "    <tr>\n",
       "      <th>1</th>\n",
       "      <td>2804400009</td>\n",
       "      <td>3642806036</td>\n",
       "      <td>2019-08-15</td>\n",
       "      <td>730</td>\n",
       "      <td>B</td>\n",
       "    </tr>\n",
       "    <tr>\n",
       "      <th>2</th>\n",
       "      <td>2961555356</td>\n",
       "      <td>4069496402</td>\n",
       "      <td>2019-08-15</td>\n",
       "      <td>400</td>\n",
       "      <td>A</td>\n",
       "    </tr>\n",
       "    <tr>\n",
       "      <th>3</th>\n",
       "      <td>3797467345</td>\n",
       "      <td>1196621759</td>\n",
       "      <td>2019-08-15</td>\n",
       "      <td>9759</td>\n",
       "      <td>B</td>\n",
       "    </tr>\n",
       "    <tr>\n",
       "      <th>4</th>\n",
       "      <td>2282983706</td>\n",
       "      <td>2322279887</td>\n",
       "      <td>2019-08-15</td>\n",
       "      <td>2308</td>\n",
       "      <td>B</td>\n",
       "    </tr>\n",
       "    <tr>\n",
       "      <th>5</th>\n",
       "      <td>182168103</td>\n",
       "      <td>935554773</td>\n",
       "      <td>2019-08-15</td>\n",
       "      <td>2210</td>\n",
       "      <td>B</td>\n",
       "    </tr>\n",
       "    <tr>\n",
       "      <th>6</th>\n",
       "      <td>398296753</td>\n",
       "      <td>2900797465</td>\n",
       "      <td>2019-08-15</td>\n",
       "      <td>1860</td>\n",
       "      <td>B</td>\n",
       "    </tr>\n",
       "    <tr>\n",
       "      <th>7</th>\n",
       "      <td>2626614568</td>\n",
       "      <td>78758296</td>\n",
       "      <td>2019-08-15</td>\n",
       "      <td>1044</td>\n",
       "      <td>A</td>\n",
       "    </tr>\n",
       "    <tr>\n",
       "      <th>8</th>\n",
       "      <td>1576988021</td>\n",
       "      <td>295230930</td>\n",
       "      <td>2019-08-15</td>\n",
       "      <td>13710</td>\n",
       "      <td>A</td>\n",
       "    </tr>\n",
       "    <tr>\n",
       "      <th>9</th>\n",
       "      <td>1506739906</td>\n",
       "      <td>1882260405</td>\n",
       "      <td>2019-08-15</td>\n",
       "      <td>1855</td>\n",
       "      <td>B</td>\n",
       "    </tr>\n",
       "  </tbody>\n",
       "</table>\n",
       "</div>"
      ],
      "text/plain": [
       "   transactionId   visitorId        date  revenue group\n",
       "0     3667963787  3312258926  2019-08-15     1650     B\n",
       "1     2804400009  3642806036  2019-08-15      730     B\n",
       "2     2961555356  4069496402  2019-08-15      400     A\n",
       "3     3797467345  1196621759  2019-08-15     9759     B\n",
       "4     2282983706  2322279887  2019-08-15     2308     B\n",
       "5      182168103   935554773  2019-08-15     2210     B\n",
       "6      398296753  2900797465  2019-08-15     1860     B\n",
       "7     2626614568    78758296  2019-08-15     1044     A\n",
       "8     1576988021   295230930  2019-08-15    13710     A\n",
       "9     1506739906  1882260405  2019-08-15     1855     B"
      ]
     },
     "metadata": {},
     "output_type": "display_data"
    },
    {
     "data": {
      "text/html": [
       "<div>\n",
       "<style scoped>\n",
       "    .dataframe tbody tr th:only-of-type {\n",
       "        vertical-align: middle;\n",
       "    }\n",
       "\n",
       "    .dataframe tbody tr th {\n",
       "        vertical-align: top;\n",
       "    }\n",
       "\n",
       "    .dataframe thead th {\n",
       "        text-align: right;\n",
       "    }\n",
       "</style>\n",
       "<table border=\"1\" class=\"dataframe\">\n",
       "  <thead>\n",
       "    <tr style=\"text-align: right;\">\n",
       "      <th></th>\n",
       "      <th>transactionId</th>\n",
       "      <th>visitorId</th>\n",
       "      <th>revenue</th>\n",
       "    </tr>\n",
       "  </thead>\n",
       "  <tbody>\n",
       "    <tr>\n",
       "      <th>count</th>\n",
       "      <td>1.197000e+03</td>\n",
       "      <td>1.197000e+03</td>\n",
       "      <td>1.197000e+03</td>\n",
       "    </tr>\n",
       "    <tr>\n",
       "      <th>mean</th>\n",
       "      <td>2.155621e+09</td>\n",
       "      <td>2.165960e+09</td>\n",
       "      <td>8.348006e+03</td>\n",
       "    </tr>\n",
       "    <tr>\n",
       "      <th>std</th>\n",
       "      <td>1.229085e+09</td>\n",
       "      <td>1.236014e+09</td>\n",
       "      <td>3.919113e+04</td>\n",
       "    </tr>\n",
       "    <tr>\n",
       "      <th>min</th>\n",
       "      <td>1.062393e+06</td>\n",
       "      <td>5.114589e+06</td>\n",
       "      <td>5.000000e+01</td>\n",
       "    </tr>\n",
       "    <tr>\n",
       "      <th>25%</th>\n",
       "      <td>1.166776e+09</td>\n",
       "      <td>1.111826e+09</td>\n",
       "      <td>1.220000e+03</td>\n",
       "    </tr>\n",
       "    <tr>\n",
       "      <th>50%</th>\n",
       "      <td>2.145194e+09</td>\n",
       "      <td>2.217985e+09</td>\n",
       "      <td>2.978000e+03</td>\n",
       "    </tr>\n",
       "    <tr>\n",
       "      <th>75%</th>\n",
       "      <td>3.237740e+09</td>\n",
       "      <td>3.177606e+09</td>\n",
       "      <td>8.290000e+03</td>\n",
       "    </tr>\n",
       "    <tr>\n",
       "      <th>max</th>\n",
       "      <td>4.293856e+09</td>\n",
       "      <td>4.283872e+09</td>\n",
       "      <td>1.294500e+06</td>\n",
       "    </tr>\n",
       "  </tbody>\n",
       "</table>\n",
       "</div>"
      ],
      "text/plain": [
       "       transactionId     visitorId       revenue\n",
       "count   1.197000e+03  1.197000e+03  1.197000e+03\n",
       "mean    2.155621e+09  2.165960e+09  8.348006e+03\n",
       "std     1.229085e+09  1.236014e+09  3.919113e+04\n",
       "min     1.062393e+06  5.114589e+06  5.000000e+01\n",
       "25%     1.166776e+09  1.111826e+09  1.220000e+03\n",
       "50%     2.145194e+09  2.217985e+09  2.978000e+03\n",
       "75%     3.237740e+09  3.177606e+09  8.290000e+03\n",
       "max     4.293856e+09  4.283872e+09  1.294500e+06"
      ]
     },
     "metadata": {},
     "output_type": "display_data"
    },
    {
     "name": "stdout",
     "output_type": "stream",
     "text": [
      "Доля пропусков в таблице transactionId    0.00%\n",
      "visitorId        0.00%\n",
      "date             0.00%\n",
      "revenue          0.00%\n",
      "group            0.00%\n",
      "dtype: object, количество дубликатов 0\n"
     ]
    }
   ],
   "source": [
    "# выведем первичную информацию по таблице orders\n",
    "df_analysis(orders)"
   ]
  },
  {
   "cell_type": "code",
   "execution_count": 6,
   "metadata": {
    "scrolled": false
   },
   "outputs": [
    {
     "name": "stdout",
     "output_type": "stream",
     "text": [
      "<class 'pandas.core.frame.DataFrame'>\n",
      "RangeIndex: 62 entries, 0 to 61\n",
      "Data columns (total 3 columns):\n",
      " #   Column    Non-Null Count  Dtype \n",
      "---  ------    --------------  ----- \n",
      " 0   date      62 non-null     object\n",
      " 1   group     62 non-null     object\n",
      " 2   visitors  62 non-null     int64 \n",
      "dtypes: int64(1), object(2)\n",
      "memory usage: 1.6+ KB\n"
     ]
    },
    {
     "data": {
      "text/plain": [
       "None"
      ]
     },
     "metadata": {},
     "output_type": "display_data"
    },
    {
     "data": {
      "text/html": [
       "<div>\n",
       "<style scoped>\n",
       "    .dataframe tbody tr th:only-of-type {\n",
       "        vertical-align: middle;\n",
       "    }\n",
       "\n",
       "    .dataframe tbody tr th {\n",
       "        vertical-align: top;\n",
       "    }\n",
       "\n",
       "    .dataframe thead th {\n",
       "        text-align: right;\n",
       "    }\n",
       "</style>\n",
       "<table border=\"1\" class=\"dataframe\">\n",
       "  <thead>\n",
       "    <tr style=\"text-align: right;\">\n",
       "      <th></th>\n",
       "      <th>date</th>\n",
       "      <th>group</th>\n",
       "      <th>visitors</th>\n",
       "    </tr>\n",
       "  </thead>\n",
       "  <tbody>\n",
       "    <tr>\n",
       "      <th>0</th>\n",
       "      <td>2019-08-01</td>\n",
       "      <td>A</td>\n",
       "      <td>719</td>\n",
       "    </tr>\n",
       "    <tr>\n",
       "      <th>1</th>\n",
       "      <td>2019-08-02</td>\n",
       "      <td>A</td>\n",
       "      <td>619</td>\n",
       "    </tr>\n",
       "    <tr>\n",
       "      <th>2</th>\n",
       "      <td>2019-08-03</td>\n",
       "      <td>A</td>\n",
       "      <td>507</td>\n",
       "    </tr>\n",
       "    <tr>\n",
       "      <th>3</th>\n",
       "      <td>2019-08-04</td>\n",
       "      <td>A</td>\n",
       "      <td>717</td>\n",
       "    </tr>\n",
       "    <tr>\n",
       "      <th>4</th>\n",
       "      <td>2019-08-05</td>\n",
       "      <td>A</td>\n",
       "      <td>756</td>\n",
       "    </tr>\n",
       "    <tr>\n",
       "      <th>5</th>\n",
       "      <td>2019-08-06</td>\n",
       "      <td>A</td>\n",
       "      <td>667</td>\n",
       "    </tr>\n",
       "    <tr>\n",
       "      <th>6</th>\n",
       "      <td>2019-08-07</td>\n",
       "      <td>A</td>\n",
       "      <td>644</td>\n",
       "    </tr>\n",
       "    <tr>\n",
       "      <th>7</th>\n",
       "      <td>2019-08-08</td>\n",
       "      <td>A</td>\n",
       "      <td>610</td>\n",
       "    </tr>\n",
       "    <tr>\n",
       "      <th>8</th>\n",
       "      <td>2019-08-09</td>\n",
       "      <td>A</td>\n",
       "      <td>617</td>\n",
       "    </tr>\n",
       "    <tr>\n",
       "      <th>9</th>\n",
       "      <td>2019-08-10</td>\n",
       "      <td>A</td>\n",
       "      <td>406</td>\n",
       "    </tr>\n",
       "  </tbody>\n",
       "</table>\n",
       "</div>"
      ],
      "text/plain": [
       "         date group  visitors\n",
       "0  2019-08-01     A       719\n",
       "1  2019-08-02     A       619\n",
       "2  2019-08-03     A       507\n",
       "3  2019-08-04     A       717\n",
       "4  2019-08-05     A       756\n",
       "5  2019-08-06     A       667\n",
       "6  2019-08-07     A       644\n",
       "7  2019-08-08     A       610\n",
       "8  2019-08-09     A       617\n",
       "9  2019-08-10     A       406"
      ]
     },
     "metadata": {},
     "output_type": "display_data"
    },
    {
     "data": {
      "text/html": [
       "<div>\n",
       "<style scoped>\n",
       "    .dataframe tbody tr th:only-of-type {\n",
       "        vertical-align: middle;\n",
       "    }\n",
       "\n",
       "    .dataframe tbody tr th {\n",
       "        vertical-align: top;\n",
       "    }\n",
       "\n",
       "    .dataframe thead th {\n",
       "        text-align: right;\n",
       "    }\n",
       "</style>\n",
       "<table border=\"1\" class=\"dataframe\">\n",
       "  <thead>\n",
       "    <tr style=\"text-align: right;\">\n",
       "      <th></th>\n",
       "      <th>visitors</th>\n",
       "    </tr>\n",
       "  </thead>\n",
       "  <tbody>\n",
       "    <tr>\n",
       "      <th>count</th>\n",
       "      <td>62.000000</td>\n",
       "    </tr>\n",
       "    <tr>\n",
       "      <th>mean</th>\n",
       "      <td>607.290323</td>\n",
       "    </tr>\n",
       "    <tr>\n",
       "      <th>std</th>\n",
       "      <td>114.400560</td>\n",
       "    </tr>\n",
       "    <tr>\n",
       "      <th>min</th>\n",
       "      <td>361.000000</td>\n",
       "    </tr>\n",
       "    <tr>\n",
       "      <th>25%</th>\n",
       "      <td>534.000000</td>\n",
       "    </tr>\n",
       "    <tr>\n",
       "      <th>50%</th>\n",
       "      <td>624.500000</td>\n",
       "    </tr>\n",
       "    <tr>\n",
       "      <th>75%</th>\n",
       "      <td>710.500000</td>\n",
       "    </tr>\n",
       "    <tr>\n",
       "      <th>max</th>\n",
       "      <td>770.000000</td>\n",
       "    </tr>\n",
       "  </tbody>\n",
       "</table>\n",
       "</div>"
      ],
      "text/plain": [
       "         visitors\n",
       "count   62.000000\n",
       "mean   607.290323\n",
       "std    114.400560\n",
       "min    361.000000\n",
       "25%    534.000000\n",
       "50%    624.500000\n",
       "75%    710.500000\n",
       "max    770.000000"
      ]
     },
     "metadata": {},
     "output_type": "display_data"
    },
    {
     "name": "stdout",
     "output_type": "stream",
     "text": [
      "Доля пропусков в таблице date        0.00%\n",
      "group       0.00%\n",
      "visitors    0.00%\n",
      "dtype: object, количество дубликатов 0\n"
     ]
    }
   ],
   "source": [
    "# выведем первичную информацию по таблице visitors\n",
    "df_analysis(visitors)"
   ]
  },
  {
   "cell_type": "markdown",
   "metadata": {},
   "source": [
    "Согласно документации таблицы содержат следующие данные:\n",
    "\n",
    "Таблица `hypothesis` (9 гипотез по увеличению выручки интернет-магазина с указанными параметрами Reach, Impact, Confidence, Effort):\n",
    "\n",
    "* `Hypothesis` — краткое описание гипотезы;\n",
    "* `Reach` — охват пользователей по 10-балльной шкале;\n",
    "* `Impact` — влияние на пользователей по 10-балльной шкале;\n",
    "* `Confidence` — уверенность в гипотезе по 10-балльной шкале;\n",
    "* `Efforts` — затраты ресурсов на проверку гипотезы по 10-балльной шкале. Чем больше значение Efforts, тем дороже проверка гипотезы.\n",
    "\n",
    "Таблица `orders` содержит информацию о заказах:\n",
    "\n",
    "* `transactionId` — идентификатор заказа;\n",
    "* `visitorId` — идентификатор пользователя, совершившего заказ;\n",
    "* `date` — дата, когда был совершён заказ;\n",
    "* `revenue` — выручка заказа;\n",
    "* `group` — группа A/B-теста, в которую попал заказ.\n",
    "\n",
    "Таблица `visitors` содержит информацию о пользователях:\n",
    "\n",
    "* `date` — дата;\n",
    "* `group` — группа A/B-теста;\n",
    "* `visitors` — количество пользователей в указанную дату в указанной группе A/B-теста"
   ]
  },
  {
   "cell_type": "markdown",
   "metadata": {},
   "source": [
    "**Вывод по первичному анализу**\n",
    "\n",
    "В таблицах находятся данные о подготовленных гипотезах и о группах A/B тестирования.\n",
    "\n",
    "В данных обнаржуены следующие проблемы:\n",
    "\n",
    "* названия столбцов таблицы `hypothesis` написаны с заглавной буквы, необходимо привести к нижнему регистру;\n",
    "* столбцы, содержащие в себе дату и время (`orders['date']`, `visitors['date']`), имеют строчный тип данных *object*. Необходимо привести к типу данных даты и времени *datetime*\n",
    "\n",
    "Данных достаточно для анализа, необходимо устранить ошибки и перевести некоторые столбцы к нужному типу данных. Дубликаты и пропуски в данных отсутствуют."
   ]
  },
  {
   "cell_type": "markdown",
   "metadata": {},
   "source": [
    "### Подготовка данных к анализу"
   ]
  },
  {
   "cell_type": "markdown",
   "metadata": {},
   "source": [
    "Проведем преобразование выявленных выше недостатков."
   ]
  },
  {
   "cell_type": "code",
   "execution_count": 7,
   "metadata": {},
   "outputs": [],
   "source": [
    "# название столбцов приведем к нижнему регистру\n",
    "hypothesis.columns = map(str.lower, hypothesis.columns)"
   ]
  },
  {
   "cell_type": "code",
   "execution_count": 8,
   "metadata": {},
   "outputs": [],
   "source": [
    "# преобразуем данные о времени\n",
    "orders['date'] = orders['date'].map(lambda x: dt.datetime.strptime(x, '%Y-%m-%d'))\n",
    "visitors['date'] = visitors['date'].map(lambda x: dt.datetime.strptime(x, '%Y-%m-%d'))"
   ]
  },
  {
   "cell_type": "markdown",
   "metadata": {},
   "source": [
    "## Приоритизация гипотез"
   ]
  },
  {
   "cell_type": "markdown",
   "metadata": {},
   "source": [
    "Перед началом A/B тестирования необходимо приоритизировать гипотезы фреймфорками ICE и RICE."
   ]
  },
  {
   "cell_type": "markdown",
   "metadata": {},
   "source": [
    "### Фреймворк ICE"
   ]
  },
  {
   "cell_type": "markdown",
   "metadata": {},
   "source": [
    "Применим фреймворк ICE для приоритизации гипотез и отсортируем их по убыванию приоритета."
   ]
  },
  {
   "cell_type": "code",
   "execution_count": 9,
   "metadata": {},
   "outputs": [
    {
     "data": {
      "text/html": [
       "<div>\n",
       "<style scoped>\n",
       "    .dataframe tbody tr th:only-of-type {\n",
       "        vertical-align: middle;\n",
       "    }\n",
       "\n",
       "    .dataframe tbody tr th {\n",
       "        vertical-align: top;\n",
       "    }\n",
       "\n",
       "    .dataframe thead th {\n",
       "        text-align: right;\n",
       "    }\n",
       "</style>\n",
       "<table border=\"1\" class=\"dataframe\">\n",
       "  <thead>\n",
       "    <tr style=\"text-align: right;\">\n",
       "      <th></th>\n",
       "      <th>hypothesis</th>\n",
       "      <th>ICE</th>\n",
       "    </tr>\n",
       "  </thead>\n",
       "  <tbody>\n",
       "    <tr>\n",
       "      <th>8</th>\n",
       "      <td>Запустить акцию, дающую скидку на товар в день рождения</td>\n",
       "      <td>16.200000</td>\n",
       "    </tr>\n",
       "    <tr>\n",
       "      <th>0</th>\n",
       "      <td>Добавить два новых канала привлечения трафика, что позволит привлекать на 30% больше пользователей</td>\n",
       "      <td>13.333333</td>\n",
       "    </tr>\n",
       "    <tr>\n",
       "      <th>7</th>\n",
       "      <td>Добавить форму подписки на все основные страницы, чтобы собрать базу клиентов для email-рассылок</td>\n",
       "      <td>11.200000</td>\n",
       "    </tr>\n",
       "    <tr>\n",
       "      <th>6</th>\n",
       "      <td>Показать на главной странице баннеры с актуальными акциями и распродажами, чтобы увеличить конверсию</td>\n",
       "      <td>8.000000</td>\n",
       "    </tr>\n",
       "    <tr>\n",
       "      <th>2</th>\n",
       "      <td>Добавить блоки рекомендаций товаров на сайт интернет магазина, чтобы повысить конверсию и средний чек заказа</td>\n",
       "      <td>7.000000</td>\n",
       "    </tr>\n",
       "    <tr>\n",
       "      <th>1</th>\n",
       "      <td>Запустить собственную службу доставки, что сократит срок доставки заказов</td>\n",
       "      <td>2.000000</td>\n",
       "    </tr>\n",
       "    <tr>\n",
       "      <th>5</th>\n",
       "      <td>Добавить страницу отзывов клиентов о магазине, что позволит увеличить количество заказов</td>\n",
       "      <td>1.333333</td>\n",
       "    </tr>\n",
       "    <tr>\n",
       "      <th>3</th>\n",
       "      <td>Изменить структура категорий, что увеличит конверсию, т.к. пользователи быстрее найдут нужный товар</td>\n",
       "      <td>1.125000</td>\n",
       "    </tr>\n",
       "    <tr>\n",
       "      <th>4</th>\n",
       "      <td>Изменить цвет фона главной страницы, чтобы увеличить вовлеченность пользователей</td>\n",
       "      <td>1.000000</td>\n",
       "    </tr>\n",
       "  </tbody>\n",
       "</table>\n",
       "</div>"
      ],
      "text/plain": [
       "                                                                                                     hypothesis  \\\n",
       "8                                                       Запустить акцию, дающую скидку на товар в день рождения   \n",
       "0            Добавить два новых канала привлечения трафика, что позволит привлекать на 30% больше пользователей   \n",
       "7              Добавить форму подписки на все основные страницы, чтобы собрать базу клиентов для email-рассылок   \n",
       "6          Показать на главной странице баннеры с актуальными акциями и распродажами, чтобы увеличить конверсию   \n",
       "2  Добавить блоки рекомендаций товаров на сайт интернет магазина, чтобы повысить конверсию и средний чек заказа   \n",
       "1                                     Запустить собственную службу доставки, что сократит срок доставки заказов   \n",
       "5                      Добавить страницу отзывов клиентов о магазине, что позволит увеличить количество заказов   \n",
       "3           Изменить структура категорий, что увеличит конверсию, т.к. пользователи быстрее найдут нужный товар   \n",
       "4                              Изменить цвет фона главной страницы, чтобы увеличить вовлеченность пользователей   \n",
       "\n",
       "         ICE  \n",
       "8  16.200000  \n",
       "0  13.333333  \n",
       "7  11.200000  \n",
       "6   8.000000  \n",
       "2   7.000000  \n",
       "1   2.000000  \n",
       "5   1.333333  \n",
       "3   1.125000  \n",
       "4   1.000000  "
      ]
     },
     "execution_count": 9,
     "metadata": {},
     "output_type": "execute_result"
    }
   ],
   "source": [
    "# рассчитаем ICE, применим сортировку по убыванию и выведем на экран гипотезы со значением ICE\n",
    "hypothesis['ICE'] = hypothesis['impact'] * hypothesis['confidence'] / hypothesis['efforts']\n",
    "hypothesis[['hypothesis', 'ICE']].sort_values(by='ICE', ascending=False)"
   ]
  },
  {
   "cell_type": "markdown",
   "metadata": {},
   "source": [
    "### Фреймворк RICE"
   ]
  },
  {
   "cell_type": "markdown",
   "metadata": {},
   "source": [
    "Применим фреймворк RICE для приоритизации гипотез и отсортируем их по убыванию приоритета."
   ]
  },
  {
   "cell_type": "code",
   "execution_count": 10,
   "metadata": {
    "scrolled": true
   },
   "outputs": [
    {
     "data": {
      "text/html": [
       "<div>\n",
       "<style scoped>\n",
       "    .dataframe tbody tr th:only-of-type {\n",
       "        vertical-align: middle;\n",
       "    }\n",
       "\n",
       "    .dataframe tbody tr th {\n",
       "        vertical-align: top;\n",
       "    }\n",
       "\n",
       "    .dataframe thead th {\n",
       "        text-align: right;\n",
       "    }\n",
       "</style>\n",
       "<table border=\"1\" class=\"dataframe\">\n",
       "  <thead>\n",
       "    <tr style=\"text-align: right;\">\n",
       "      <th></th>\n",
       "      <th>hypothesis</th>\n",
       "      <th>RICE</th>\n",
       "    </tr>\n",
       "  </thead>\n",
       "  <tbody>\n",
       "    <tr>\n",
       "      <th>7</th>\n",
       "      <td>Добавить форму подписки на все основные страницы, чтобы собрать базу клиентов для email-рассылок</td>\n",
       "      <td>112.0</td>\n",
       "    </tr>\n",
       "    <tr>\n",
       "      <th>2</th>\n",
       "      <td>Добавить блоки рекомендаций товаров на сайт интернет магазина, чтобы повысить конверсию и средний чек заказа</td>\n",
       "      <td>56.0</td>\n",
       "    </tr>\n",
       "    <tr>\n",
       "      <th>0</th>\n",
       "      <td>Добавить два новых канала привлечения трафика, что позволит привлекать на 30% больше пользователей</td>\n",
       "      <td>40.0</td>\n",
       "    </tr>\n",
       "    <tr>\n",
       "      <th>6</th>\n",
       "      <td>Показать на главной странице баннеры с актуальными акциями и распродажами, чтобы увеличить конверсию</td>\n",
       "      <td>40.0</td>\n",
       "    </tr>\n",
       "    <tr>\n",
       "      <th>8</th>\n",
       "      <td>Запустить акцию, дающую скидку на товар в день рождения</td>\n",
       "      <td>16.2</td>\n",
       "    </tr>\n",
       "    <tr>\n",
       "      <th>3</th>\n",
       "      <td>Изменить структура категорий, что увеличит конверсию, т.к. пользователи быстрее найдут нужный товар</td>\n",
       "      <td>9.0</td>\n",
       "    </tr>\n",
       "    <tr>\n",
       "      <th>1</th>\n",
       "      <td>Запустить собственную службу доставки, что сократит срок доставки заказов</td>\n",
       "      <td>4.0</td>\n",
       "    </tr>\n",
       "    <tr>\n",
       "      <th>5</th>\n",
       "      <td>Добавить страницу отзывов клиентов о магазине, что позволит увеличить количество заказов</td>\n",
       "      <td>4.0</td>\n",
       "    </tr>\n",
       "    <tr>\n",
       "      <th>4</th>\n",
       "      <td>Изменить цвет фона главной страницы, чтобы увеличить вовлеченность пользователей</td>\n",
       "      <td>3.0</td>\n",
       "    </tr>\n",
       "  </tbody>\n",
       "</table>\n",
       "</div>"
      ],
      "text/plain": [
       "                                                                                                     hypothesis  \\\n",
       "7              Добавить форму подписки на все основные страницы, чтобы собрать базу клиентов для email-рассылок   \n",
       "2  Добавить блоки рекомендаций товаров на сайт интернет магазина, чтобы повысить конверсию и средний чек заказа   \n",
       "0            Добавить два новых канала привлечения трафика, что позволит привлекать на 30% больше пользователей   \n",
       "6          Показать на главной странице баннеры с актуальными акциями и распродажами, чтобы увеличить конверсию   \n",
       "8                                                       Запустить акцию, дающую скидку на товар в день рождения   \n",
       "3           Изменить структура категорий, что увеличит конверсию, т.к. пользователи быстрее найдут нужный товар   \n",
       "1                                     Запустить собственную службу доставки, что сократит срок доставки заказов   \n",
       "5                      Добавить страницу отзывов клиентов о магазине, что позволит увеличить количество заказов   \n",
       "4                              Изменить цвет фона главной страницы, чтобы увеличить вовлеченность пользователей   \n",
       "\n",
       "    RICE  \n",
       "7  112.0  \n",
       "2   56.0  \n",
       "0   40.0  \n",
       "6   40.0  \n",
       "8   16.2  \n",
       "3    9.0  \n",
       "1    4.0  \n",
       "5    4.0  \n",
       "4    3.0  "
      ]
     },
     "execution_count": 10,
     "metadata": {},
     "output_type": "execute_result"
    }
   ],
   "source": [
    "# рассчитаем RICE, применим сортировку по убыванию и выведем на экран гипотезы со значением RICE\n",
    "hypothesis['RICE'] = hypothesis['reach'] * hypothesis['impact'] * hypothesis['confidence'] / hypothesis['efforts']\n",
    "hypothesis[['hypothesis', 'RICE']].sort_values(by='RICE', ascending=False)"
   ]
  },
  {
   "cell_type": "markdown",
   "metadata": {},
   "source": [
    "### Вывод по приоретизации гипотез"
   ]
  },
  {
   "cell_type": "markdown",
   "metadata": {},
   "source": [
    "По фреймворкам мы получили тройку приоритетных гипотез:\n",
    "* **ICE** - гипотезы 8, 0 и 7\n",
    "* **RICE** - гипотезы 7, 2 и 0\n",
    "\n",
    "При применении фреймворка RICE приоритет изменился, т.к. в этом случае учитывается охват изменений. \n",
    "\n",
    "Для RICE на первое место вышла гипотеза № 7 \"*Добавить форму подписки на все основные страницы, чтобы собрать базу клиентов для email-рассылок*\". Т.е. она охватывает все страницы продукта, когда для ICE первое место занмиает гипотеза №8 \"*Запустить акцию, дающую скидку на товар в день рождения*\". Соотвественно у этой гипотезы меньший охват, т.к. она учитывает только клиентов, у которых день рождения в заданный период.\n",
    "\n",
    "Соответственно приоритетными для компании следует сделать гипотезы 7, 2 и 0."
   ]
  },
  {
   "cell_type": "markdown",
   "metadata": {},
   "source": [
    "## Анализ А/В теста"
   ]
  },
  {
   "cell_type": "markdown",
   "metadata": {},
   "source": [
    "Перед изучением данных тестирования, проверим возможно попадание некоторых пользователей в обе группы тестирования:"
   ]
  },
  {
   "cell_type": "code",
   "execution_count": 11,
   "metadata": {},
   "outputs": [
    {
     "name": "stdout",
     "output_type": "stream",
     "text": [
      "\n",
      " Число пользователей, попавших в обе группы 58\n"
     ]
    }
   ],
   "source": [
    "# сгруппируем уникальных пользователей и проверим их попадание в две группы\n",
    "group_counter = orders.groupby('visitorId')['group'].nunique()\n",
    "ab_users = group_counter[group_counter > 1].index\n",
    "print('\\n Число пользователей, попавших в обе группы', len(ab_users))"
   ]
  },
  {
   "cell_type": "markdown",
   "metadata": {},
   "source": [
    "Проверим выборку групп пользователей, их количество и совершенные заказы. Также проверим статистическую значимость разницы размеров групп.\n",
    "Для этого выделим нулевую `Н0` и альтернативную `Н1` гипотезы:\n",
    "\n",
    "* `Н0` - разница в количестве посетителей в группах A и B статистически значима\n",
    "* `Н1` - разницы в количестве посетителей в группах A и B нет\n",
    "\n",
    "Уровень значимости примем 5% и для сравнения значимости вопользуемся критерием Манна-Уитни-Уилкоксона"
   ]
  },
  {
   "cell_type": "code",
   "execution_count": 12,
   "metadata": {},
   "outputs": [
    {
     "name": "stdout",
     "output_type": "stream",
     "text": [
      "Количество посетителей в группе A 18736\n",
      "Количество посетителей в группе B 18916\n",
      "Количество покупок в группе A 557\n",
      "Количество покупок в группе B 640\n",
      "p-value:0.730\n",
      "разницы в количестве посетителей в группах A и B нет\n"
     ]
    }
   ],
   "source": [
    "# выведем на экран количество посетителей в группах\n",
    "print('Количество посетителей в группе A {}'.format(visitors[visitors['group']=='A']['visitors'].sum()))\n",
    "print('Количество посетителей в группе B {}'.format(visitors[visitors['group']=='B']['visitors'].sum()))\n",
    "# выведем на экран количество покупок в группах\n",
    "print('Количество покупок в группе A {}'.format(len(orders[orders['group']=='A'])))\n",
    "print('Количество покупок в группе B {}'.format(len(orders[orders['group']=='B'])))\n",
    "\n",
    "\n",
    "results = stats.mannwhitneyu(visitors[visitors['group']=='A']['visitors'], visitors[visitors['group']=='B']['visitors'])\n",
    "alpha = 0.05\n",
    "print('p-value:{:.3f}'.format(results.pvalue))\n",
    "if results.pvalue < alpha:\n",
    "    print('разница в количестве посетителей в группах A и B статистически значима')\n",
    "else:\n",
    "    print('разницы в количестве посетителей в группах A и B нет')"
   ]
  },
  {
   "cell_type": "markdown",
   "metadata": {},
   "source": [
    "В группах тестирования присутствуют 58 пользователей, которые попали в обе группы. Данных посетителей **удалять не будем**, т.к. их малое количество и находятся они в таблице заказов `orders`, а из таблицы пользователей `visitors` выделить их по дате не представляется возможным.\n",
    "\n",
    "Проверили выборку групп по количеству посетителей и заказов. Тест Манна-Уитни дал основание полагать, что **статистически значимой разницы в количестве посетителей в группах A и B нет**"
   ]
  },
  {
   "cell_type": "markdown",
   "metadata": {},
   "source": [
    "### График кумулятивной выручки по группам"
   ]
  },
  {
   "cell_type": "markdown",
   "metadata": {},
   "source": [
    "Соберём агрегированные кумулятивные по дням данные о заказах и посетителях интернет-магазина. На основании полученного датафрейма построим график кумулятивной выручки для обоих групп."
   ]
  },
  {
   "cell_type": "code",
   "execution_count": 13,
   "metadata": {},
   "outputs": [
    {
     "data": {
      "image/png": "[encoded data removed]",
      "text/plain": [
       "<Figure size 1080x432 with 1 Axes>"
      ]
     },
     "metadata": {
      "needs_background": "light"
     },
     "output_type": "display_data"
    }
   ],
   "source": [
    "# создаем массив уникальных пар значений дат и групп теста\n",
    "datesGroups = orders[['date','group']].drop_duplicates()\n",
    "\n",
    "# получаем агрегированные кумулятивные по дням данные о заказах \n",
    "ordersAggregated = datesGroups.apply(lambda x: orders[np.logical_and(\n",
    "    orders['date'] <= x['date'], orders['group'] == x['group'])].agg(\n",
    "    {'date' : 'max', 'group' : 'max', 'transactionId' : 'nunique',\n",
    "     'visitorId' : 'nunique', 'revenue' : 'sum'}), axis=1).sort_values(by=['date','group'])\n",
    "\n",
    "# получаем агрегированные кумулятивные по дням данные о посетителях\n",
    "visitorsAggregated = datesGroups.apply(lambda x: visitors[np.logical_and(\n",
    "    visitors['date'] <= x['date'], visitors['group'] == x['group'])].agg(\n",
    "    {'date' : 'max', 'group' : 'max', 'visitors' : 'sum'}), axis=1).sort_values(by=['date','group'])\n",
    "\n",
    "# объединяем кумулятивные данные в одной таблице и переименовываем столбцы\n",
    "cumulativeData = ordersAggregated.merge(visitorsAggregated, left_on=['date', 'group'], right_on=['date', 'group'])\n",
    "cumulativeData.columns = ['date', 'group', 'orders', 'buyers', 'revenue', 'visitors']\n",
    "\n",
    "# датафрейм с кумулятивным количеством заказов и кумулятивной выручкой по дням в группах\n",
    "cumulativeRevenueA = cumulativeData[cumulativeData['group']=='A'][['date','revenue', 'orders']]\n",
    "cumulativeRevenueB = cumulativeData[cumulativeData['group']=='B'][['date','revenue', 'orders']]\n",
    "\n",
    "# строим графики выручки группы, подписываем оси и указываем легенду\n",
    "plt.figure(figsize=(15,6))\n",
    "plt.plot(cumulativeRevenueA['date'], cumulativeRevenueA['revenue'], label='A')\n",
    "plt.plot(cumulativeRevenueB['date'], cumulativeRevenueB['revenue'], label='B')\n",
    "plt.ylabel('Кумулятивная выручка')\n",
    "plt.xlabel('Дата')\n",
    "plt.title('Графики кумулятивной выручки по группам А и В')\n",
    "plt.legend()\n",
    "plt.show()"
   ]
  },
  {
   "cell_type": "markdown",
   "metadata": {},
   "source": [
    "**Вывод**\n",
    "\n",
    "На графике видно, что группа В лидирует по кумулятивной выручке на протяжении всего теста. Также на графике виден всплеск между 17 и 21 августа. Скорее всего это связано с аномальным \"выбросом\" - крупной покупкой пользователя из группы В."
   ]
  },
  {
   "cell_type": "markdown",
   "metadata": {},
   "source": [
    "### График кумулятивного среднего чека по группам"
   ]
  },
  {
   "cell_type": "markdown",
   "metadata": {},
   "source": [
    "На основании агрегированных данных построим график кумулятивного среднего чека по группам."
   ]
  },
  {
   "cell_type": "code",
   "execution_count": 14,
   "metadata": {},
   "outputs": [
    {
     "data": {
      "image/png": "[encoded data removed]",
      "text/plain": [
       "<Figure size 1080x432 with 1 Axes>"
      ]
     },
     "metadata": {
      "needs_background": "light"
     },
     "output_type": "display_data"
    }
   ],
   "source": [
    "# построим графики среднего чека по группам, разделив кумулятивную выручку на кумулятивное число заказов\n",
    "plt.figure(figsize=(15,6))\n",
    "plt.plot(cumulativeRevenueA['date'], cumulativeRevenueA['revenue']/cumulativeRevenueA['orders'], label='A')\n",
    "plt.plot(cumulativeRevenueB['date'], cumulativeRevenueB['revenue']/cumulativeRevenueB['orders'], label='B')\n",
    "plt.title('Графики кумулятивного среднего чека по группам А и В')\n",
    "plt.ylabel('Средний чек')\n",
    "plt.xlabel('Дата')\n",
    "plt.legend()\n",
    "plt.show()"
   ]
  },
  {
   "cell_type": "markdown",
   "metadata": {},
   "source": [
    "**Вывод**\n",
    "\n",
    "Видно, что кумулятивный средний чек также выше в группе B и в том же временном диапазоне присутствует аномальный всплеск."
   ]
  },
  {
   "cell_type": "markdown",
   "metadata": {},
   "source": [
    "### График относительного изменения кумулятивного среднего чека группы B к группе A"
   ]
  },
  {
   "cell_type": "markdown",
   "metadata": {},
   "source": [
    "Построим график относительного изменения кумулятивного среднего чека группы B к группе A."
   ]
  },
  {
   "cell_type": "code",
   "execution_count": 15,
   "metadata": {},
   "outputs": [
    {
     "data": {
      "image/png": "[encoded data removed]",
      "text/plain": [
       "<Figure size 1080x432 with 1 Axes>"
      ]
     },
     "metadata": {
      "needs_background": "light"
     },
     "output_type": "display_data"
    }
   ],
   "source": [
    "# собираем данные в одном датафрейме, объеденив их по дате\n",
    "mergedCumulativeRevenue = cumulativeRevenueA.merge(\n",
    "    cumulativeRevenueB, left_on='date', right_on='date', how='left', suffixes=['A', 'B'])\n",
    "\n",
    "# cтроим отношение средних чеков и задаем необходимые параметры\n",
    "plt.figure(figsize=(15,6))\n",
    "plt.plot(mergedCumulativeRevenue['date'], (\n",
    "    mergedCumulativeRevenue['revenueB']/mergedCumulativeRevenue['ordersB'])/(\n",
    "    mergedCumulativeRevenue['revenueA']/mergedCumulativeRevenue['ordersA'])-1)\n",
    "plt.axhline(y=0, color='black', linestyle = '--')\n",
    "plt.title('График относительного изменения кумулятивного среднего чека группы B к группе A')\n",
    "plt.xlabel('Дата')\n",
    "plt.show()"
   ]
  },
  {
   "cell_type": "markdown",
   "metadata": {},
   "source": [
    "**Вывод**\n",
    "\n",
    "График показывает резкие колебания изменения среднего чека в отношении между группами. Скорее всего это связано с \"выбросами\" в покупках."
   ]
  },
  {
   "cell_type": "markdown",
   "metadata": {},
   "source": [
    "### График кумулятивной конверсии по группам"
   ]
  },
  {
   "cell_type": "markdown",
   "metadata": {},
   "source": [
    "Построим график кумулятивной конверсии по группам."
   ]
  },
  {
   "cell_type": "code",
   "execution_count": 16,
   "metadata": {},
   "outputs": [
    {
     "data": {
      "image/png": "[encoded data removed]",
      "text/plain": [
       "<Figure size 1080x432 with 1 Axes>"
      ]
     },
     "metadata": {
      "needs_background": "light"
     },
     "output_type": "display_data"
    }
   ],
   "source": [
    "# считаем кумулятивную конверсию и фильтруем два отдельных датафреймя для групп А и В\n",
    "cumulativeData['conversion'] = cumulativeData['orders']/cumulativeData['visitors']\n",
    "cumulativeDataA = cumulativeData[cumulativeData['group']=='A']\n",
    "cumulativeDataB = cumulativeData[cumulativeData['group']=='B']\n",
    "\n",
    "# на их основании строим графики\n",
    "plt.figure(figsize=(15,6))\n",
    "plt.plot(cumulativeDataA['date'], cumulativeDataA['conversion'], label='A')\n",
    "plt.plot(cumulativeDataB['date'], cumulativeDataB['conversion'], label='B')\n",
    "plt.title('График кумулятивной конверсии по группам A и B')\n",
    "plt.xlabel('Дата')\n",
    "plt.ylabel('Конверсия')\n",
    "plt.legend()\n",
    "plt.show()"
   ]
  },
  {
   "cell_type": "markdown",
   "metadata": {},
   "source": [
    "**Вывод**\n",
    "\n",
    "В самом начале теста в группе А присутствует опережающий пик кумулятивной конверсии, но затем группа В стабильно лидирует весь временной промежуток."
   ]
  },
  {
   "cell_type": "markdown",
   "metadata": {},
   "source": [
    "### График относительного изменения кумулятивной конверсии группы B к группе A"
   ]
  },
  {
   "cell_type": "markdown",
   "metadata": {},
   "source": [
    "Построим график относительного изменения кумулятивной конверсии группы B к группе A."
   ]
  },
  {
   "cell_type": "code",
   "execution_count": 17,
   "metadata": {},
   "outputs": [
    {
     "data": {
      "image/png": "[encoded data removed]",
      "text/plain": [
       "<Figure size 1080x432 with 1 Axes>"
      ]
     },
     "metadata": {
      "needs_background": "light"
     },
     "output_type": "display_data"
    }
   ],
   "source": [
    "# собираем данные по кумулятьивным данным в одном датафрейме, объеденив их по дате\n",
    "mergedCumulativeConversions = cumulativeDataA[['date','conversion']].merge(\n",
    "    cumulativeDataB[['date','conversion']], left_on='date', right_on='date', how='left', suffixes=['A', 'B'])\n",
    "\n",
    "# cтроим отношение кумулятивной конверсии и задаем необходимые параметры графика\n",
    "plt.figure(figsize=(15,6))\n",
    "plt.plot(mergedCumulativeConversions['date'], \n",
    "         mergedCumulativeConversions['conversionB']/mergedCumulativeConversions['conversionA']-1,\n",
    "         label=\"Относительный прирост конверсии группы B относительно группы A\")\n",
    "plt.title('График относительного изменения кумулятивной конверсии группы B к группе A')\n",
    "plt.axhline(y=0, color='black', linestyle='--')\n",
    "plt.axhline(y=0.1, color='grey', linestyle='--')\n",
    "plt.xlabel('Дата')\n",
    "plt.show()"
   ]
  },
  {
   "cell_type": "markdown",
   "metadata": {},
   "source": [
    "**Вывод**\n",
    "\n",
    "Из графика видно, что кумулятивная конверсия группы В начинает опережать группу А примерно на 10% спустя 8 дней теста."
   ]
  },
  {
   "cell_type": "markdown",
   "metadata": {},
   "source": [
    "### Точечный график количества заказов по пользователям"
   ]
  },
  {
   "cell_type": "markdown",
   "metadata": {},
   "source": [
    "Построим точечный график количества заказов по пользователям."
   ]
  },
  {
   "cell_type": "code",
   "execution_count": 18,
   "metadata": {},
   "outputs": [
    {
     "data": {
      "image/png": "[encoded data removed]",
      "text/plain": [
       "<Figure size 1080x432 with 1 Axes>"
      ]
     },
     "metadata": {
      "needs_background": "light"
     },
     "output_type": "display_data"
    }
   ],
   "source": [
    "# сгруппируем заказы по пользователям и подсчитаем их количество\n",
    "ordersByUsers = orders.groupby('visitorId', as_index = False).agg(\n",
    "    {'transactionId':'nunique'}).sort_values(by='transactionId', ascending = False)\n",
    "ordersByUsers.columns = ['visitorId', 'orders']\n",
    "\n",
    "# на основании сгруппированных данных построим точечный график\n",
    "x_values = pd.Series(range(0, len(ordersByUsers)))\n",
    "plt.figure(figsize=(15,6))\n",
    "plt.scatter(x_values, ordersByUsers['orders'])\n",
    "plt.title('Точечная диаграмма числа заказов по пользователям')\n",
    "plt.xlabel('Пользователи')\n",
    "plt.ylabel('Количество заказов')\n",
    "plt.show()"
   ]
  },
  {
   "cell_type": "markdown",
   "metadata": {},
   "source": [
    "**Вывод**\n",
    "\n",
    "Большинство пользователей совершает не более 2 покупок, остальное можно считать выбросами."
   ]
  },
  {
   "cell_type": "markdown",
   "metadata": {},
   "source": [
    "### 95-й и 99-й перцентили количества заказов на пользователя"
   ]
  },
  {
   "cell_type": "markdown",
   "metadata": {},
   "source": [
    "Посчитаем 95-й и 99-й перцентили количества заказов на пользователя."
   ]
  },
  {
   "cell_type": "code",
   "execution_count": 19,
   "metadata": {},
   "outputs": [
    {
     "name": "stdout",
     "output_type": "stream",
     "text": [
      "95-й перцентиль: 2\n",
      "99-й перцентиль: 4\n"
     ]
    }
   ],
   "source": [
    "user_percentiles = np.percentile(ordersByUsers['orders'], [95, 99])\n",
    "print('95-й перцентиль: {:.0f}\\n99-й перцентиль: {:.0f}'.format(user_percentiles[0],user_percentiles[1]))"
   ]
  },
  {
   "cell_type": "markdown",
   "metadata": {},
   "source": [
    "**Вывод**\n",
    "\n",
    "Как и предполагалось из точечного графика по количеству заказов, не более 5% пользователей совершает более 2 покупок. Границей для определения аномальных пользователей будет количество покупок 2."
   ]
  },
  {
   "cell_type": "markdown",
   "metadata": {},
   "source": [
    "### Точечный график стоимостей заказов"
   ]
  },
  {
   "cell_type": "markdown",
   "metadata": {},
   "source": [
    "Построим точечный график стоимостей заказов."
   ]
  },
  {
   "cell_type": "code",
   "execution_count": 20,
   "metadata": {},
   "outputs": [
    {
     "data": {
      "image/png": "[encoded data removed]",
      "text/plain": [
       "<Figure size 1080x432 with 1 Axes>"
      ]
     },
     "metadata": {
      "needs_background": "light"
     },
     "output_type": "display_data"
    }
   ],
   "source": [
    "# на основании стоимостей заказов построим точечный график, задав для графика необходимые параметры осей\n",
    "# и ограничим график стоимостью 120 000\n",
    "x_values = pd.Series(range(0, len(orders)))\n",
    "plt.figure(figsize=(15,6))\n",
    "plt.scatter(x_values, orders['revenue'])\n",
    "plt.title('Точечная диаграмма стоимостей заказов')\n",
    "plt.axis([0, 1200, 0, 120000])\n",
    "plt.xlabel('Пользователи')\n",
    "plt.ylabel('Стоимость заказа')\n",
    "plt.show()"
   ]
  },
  {
   "cell_type": "markdown",
   "metadata": {},
   "source": [
    "**Вывод**\n",
    "\n",
    "Судя по графику можно предположить, что большинство пользователей делает покупку на сумму до 25 тыс. руб."
   ]
  },
  {
   "cell_type": "markdown",
   "metadata": {},
   "source": [
    "### 95-й и 99-й перцентили стоимости заказов"
   ]
  },
  {
   "cell_type": "markdown",
   "metadata": {},
   "source": [
    "Посчитаем 95-й и 99-й перцентили стоимости заказов."
   ]
  },
  {
   "cell_type": "code",
   "execution_count": 21,
   "metadata": {},
   "outputs": [
    {
     "name": "stdout",
     "output_type": "stream",
     "text": [
      "95-й перцентиль: 28000\n",
      "99-й перцентиль: 58233\n"
     ]
    }
   ],
   "source": [
    "revenue_percentiles = np.percentile(orders['revenue'], [95, 99])\n",
    "print('95-й перцентиль: {:.0f}\\n99-й перцентиль: {:.0f}'.format(revenue_percentiles[0],revenue_percentiles[1]))"
   ]
  },
  {
   "cell_type": "markdown",
   "metadata": {},
   "source": [
    "**Вывод**\n",
    "\n",
    "Как и примерно предполагалось из точечного графика по стоимости заказа, не более 5% пользователей совершает покупку свыше 28 тыс. руб. Границу для определения аномальных заказов будет стоимость выше 28000 руб."
   ]
  },
  {
   "cell_type": "markdown",
   "metadata": {},
   "source": [
    "### Статистическая значимость различий в конверсии между группами по «сырым» данным"
   ]
  },
  {
   "cell_type": "markdown",
   "metadata": {},
   "source": [
    "Посчитаем статистическую значимость различий в конверсии между группами по «сырым» данным.\n",
    "\n",
    "Перед этим выделим нулевую `Н0` и альтернативную `Н1` гипотезы:\n",
    "\n",
    "* `Н0` - по \"сырым\" данным в конверсии групп A и B разницы нет\n",
    "* `Н1` - по \"сырым\" данным в конверсии групп A и B разница статистически значима.\n",
    "\n",
    "**Уровень значимости здесь и далее примем 5% и для сравнения значимости будем пользоваться критерием Манна-Уитни-Уилкоксона**"
   ]
  },
  {
   "cell_type": "code",
   "execution_count": 22,
   "metadata": {},
   "outputs": [
    {
     "name": "stdout",
     "output_type": "stream",
     "text": [
      "\n",
      "Относительный прирост конверсии группы B по отношению к группе A: 0.138\n",
      "p-value: 0.017\n",
      "По \"сырым\" данным в конверсии групп A и B разница статистически значима\n"
     ]
    }
   ],
   "source": [
    "# cоздадим переменные для пользователей из групп А и В, которые заказывали хотя бы 1 раз,\n",
    "# рассчитаем число совершённых заказов и переименуем столбцы\n",
    "ordersByUsersA = orders[orders['group']=='A'].groupby('visitorId', as_index=False).agg({'transactionId':'nunique'})\n",
    "ordersByUsersA.columns = ['visitorId', 'orders']\n",
    "ordersByUsersB = orders[orders['group']=='B'].groupby('visitorId', as_index=False).agg({'transactionId':'nunique'})\n",
    "ordersByUsersB.columns = ['visitorId', 'orders']\n",
    "\n",
    "# разделим посещения по группам и датам\n",
    "visitorsADaily = visitors[visitors['group'] == 'A'][['date', 'visitors']]\n",
    "visitorsADaily.columns = ['date', 'visitorsPerDateA']\n",
    "visitorsBDaily = visitors[visitors['group'] == 'B'][['date', 'visitors']]\n",
    "visitorsBDaily.columns = ['date', 'visitorsPerDateB']\n",
    "\n",
    "# создадим переменные в которых пользователям из разных групп будет соответствовать количество заказов. \n",
    "# Тем, кто ничего не заказал, будут соответствовать нули. \n",
    "sampleA = pd.concat([ordersByUsersA['orders'],pd.Series(\n",
    "    0,index=np.arange(visitorsADaily['visitorsPerDateA'].sum() - len(\n",
    "        ordersByUsersA['orders'])),name='orders',),],axis=0,)\n",
    "sampleB = pd.concat([ordersByUsersB['orders'],pd.Series(\n",
    "    0,index=np.arange(visitorsBDaily['visitorsPerDateB'].sum() - len(\n",
    "        ordersByUsersB['orders'])),name='orders',),],axis=0,)\n",
    "\n",
    "# рассчитаем прирост консервсии относительно групп, \n",
    "# проведем тест Манна-Уитни и выведем полученные результаты на экран\n",
    "print('\\nОтносительный прирост конверсии группы B по отношению к группе A: {:.3f}'.format(sampleB.mean()/sampleA.mean()-1))\n",
    "alpha = 0.05\n",
    "results = stats.mannwhitneyu(sampleA, sampleB)\n",
    "print('p-value: {:.3f}'.format(results.pvalue))\n",
    "if results.pvalue < alpha:\n",
    "    print('По \"сырым\" данным в конверсии групп A и B разница статистически значима')\n",
    "else:\n",
    "    print('По \"сырым\" данным в конверсии групп A и B разницы нет')"
   ]
  },
  {
   "cell_type": "markdown",
   "metadata": {},
   "source": [
    "**Вывод**\n",
    "\n",
    "Тест Манна-Уитни-Уилкоксона дал основание полагать, что **по \"сырым\" данным в конверсии групп A и B разница статистически значима**. Прирост конверсии в группе В составил 14%."
   ]
  },
  {
   "cell_type": "markdown",
   "metadata": {},
   "source": [
    "### Статистическая значимость различий в среднем чеке заказа между группами по «сырым» данным"
   ]
  },
  {
   "cell_type": "markdown",
   "metadata": {},
   "source": [
    "Посчитаем статистическую значимость различий в среднем чеке заказа между группами по «сырым» данным.\n",
    "\n",
    "Выделим нулевую `Н0` и альтернативную `Н1` гипотезы:\n",
    "\n",
    "* `Н0` - по \"сырым\" данным в среднем чеке заказа групп A и B разницы нет\n",
    "* `Н1` - по \"сырым\" данным в среднем чеке заказа групп A и B разница статистически значима."
   ]
  },
  {
   "cell_type": "code",
   "execution_count": 23,
   "metadata": {},
   "outputs": [
    {
     "name": "stdout",
     "output_type": "stream",
     "text": [
      "Относительный прирост среднего чека в группе B по отношению группы A: 0.259\n",
      "p-value: 0.729\n",
      "По \"сырым\" данным в среднем чеке заказа групп A и B разницы нет\n"
     ]
    }
   ],
   "source": [
    "# рассчитаем прирост среднего чека относительно групп, \n",
    "# проведем тест Манна-Уитни и выведем полученные результаты на экран\n",
    "print('Относительный прирост среднего чека в группе B по отношению группы A: {:.3f}'.format(\n",
    "orders[orders['group']=='B']['revenue'].mean()/orders[orders['group']=='A']['revenue'].mean()-1))\n",
    "results = stats.mannwhitneyu(orders[orders['group']=='A']['revenue'], orders[orders['group']=='B']['revenue'])\n",
    "print('p-value: {:.3f}'.format(results.pvalue))\n",
    "if results.pvalue < alpha:\n",
    "    print('по \"сырым\" данным в среднем чеке заказа групп A и B разница статистически значима.')\n",
    "else:\n",
    "    print('По \"сырым\" данным в среднем чеке заказа групп A и B разницы нет')"
   ]
  },
  {
   "cell_type": "markdown",
   "metadata": {},
   "source": [
    "**Вывод**\n",
    "\n",
    "Тест Манна-Уитни-Уилкоксона дал основание полагать, что **по \"сырым\" данным в среднем чеке заказа групп A и B разницы нет**."
   ]
  },
  {
   "cell_type": "markdown",
   "metadata": {},
   "source": [
    "### Статистическая значимость различий в конверсии между группами по «очищенным» данным"
   ]
  },
  {
   "cell_type": "markdown",
   "metadata": {},
   "source": [
    "При расчете перцентилей количества и суммы заказов мы выяснили, что 95% пользователей не делает более 2 заказов и сумма одной покупки в большинстве случаев не превышает 28 т.р. Для дальнейших тестов отфильтруем аномальных пользователей с превышающими данные лимиты значениями."
   ]
  },
  {
   "cell_type": "code",
   "execution_count": 24,
   "metadata": {},
   "outputs": [
    {
     "name": "stdout",
     "output_type": "stream",
     "text": [
      "Количество аномальных пользователей: 74\n"
     ]
    }
   ],
   "source": [
    "# выделим пользователей, которые сделали более 2 заказов\n",
    "usersWithManyOrders = pd.concat([ordersByUsersA[\n",
    "    ordersByUsersA['orders'] > 2]['visitorId'],ordersByUsersB[\n",
    "    ordersByUsersB['orders'] > 2]['visitorId'],],axis=0,)\n",
    "\n",
    "# выделим пользователей, которые сделали покупку стоимостью выше 28000\n",
    "usersWithExpensiveOrders = orders[orders['revenue'] > 28000]['visitorId']\n",
    "abnormalUsers = (pd.concat([usersWithManyOrders, usersWithExpensiveOrders], axis=0).drop_duplicates().sort_values())\n",
    "\n",
    "print('Количество аномальных пользователей: {}'.format(len(abnormalUsers)))"
   ]
  },
  {
   "cell_type": "markdown",
   "metadata": {},
   "source": [
    "Посчитаем статистическую значимость различий в конверсии между группами по «очищенным» данным.\n",
    "\n",
    "Выделим нулевую `Н0` и альтернативную `Н1` гипотезы:\n",
    "\n",
    "* `Н0` - по \"очищенным\" данным в конверсии групп A и B разницы нет\n",
    "* `Н1` - по \"очищенным\" данным в конверсии групп A и B разница статистически значима."
   ]
  },
  {
   "cell_type": "code",
   "execution_count": 25,
   "metadata": {},
   "outputs": [
    {
     "name": "stdout",
     "output_type": "stream",
     "text": [
      "\n",
      "Относительный прирост конверсии группы B по отношению к группе A по \"очищенным\" данным: 0.173\n",
      "p-value: 0.01304\n",
      "По \"очищенным\" данным в конверсии групп A и B разница статистически значима\n"
     ]
    }
   ],
   "source": [
    "# создадим переменные в которых отфильтруем пользователей из разных групп в соответствии с заданными критериями.\n",
    "sampleAFiltered = pd.concat([\n",
    "    ordersByUsersA[np.logical_not(ordersByUsersA['visitorId'].isin(abnormalUsers))]['orders'],\n",
    "    pd.Series(0,index=np.arange(\n",
    "        visitorsADaily['visitorsPerDateA'].sum() - len(ordersByUsersA['orders'])),name='orders',),],axis=0,)\n",
    "sampleBFiltered = pd.concat([\n",
    "    ordersByUsersB[np.logical_not(ordersByUsersB['visitorId'].isin(abnormalUsers))]['orders'],\n",
    "    pd.Series(0,index=np.arange(\n",
    "        visitorsBDaily['visitorsPerDateB'].sum() - len(ordersByUsersB['orders'])),name='orders',),],axis=0,)\n",
    "\n",
    "# рассчитаем прирост консервсии относительно групп, \n",
    "# проведем тест Манна-Уитни и выведем полученные результаты на экран\n",
    "print('\\nОтносительный прирост конверсии группы B по отношению к группе A по \"очищенным\" данным: {:.3f}'.format(\n",
    "    sampleBFiltered.mean()/sampleAFiltered.mean()-1))\n",
    "results = stats.mannwhitneyu(sampleAFiltered, sampleBFiltered)\n",
    "print('p-value: {:.5f}'.format(results.pvalue))\n",
    "if results.pvalue < alpha:\n",
    "    print('По \"очищенным\" данным в конверсии групп A и B разница статистически значима')\n",
    "else:\n",
    "    print('По \"очищенным\" данным в конверсии групп A и B разницы нет')"
   ]
  },
  {
   "cell_type": "markdown",
   "metadata": {},
   "source": [
    "**Вывод**\n",
    "\n",
    "Тест Манна-Уитни-Уилкоксона дал основание полагать, что **по \"очищенным\" данным в конверсии групп A и B разница статистически значима**. Прирост конверсии в группе В увеличился до 17%."
   ]
  },
  {
   "cell_type": "markdown",
   "metadata": {},
   "source": [
    "### Статистическая значимость различий в среднем чеке заказа между группами по «очищенным» данным"
   ]
  },
  {
   "cell_type": "markdown",
   "metadata": {},
   "source": [
    "Посчитаем статистическую значимость различий в среднем чеке заказа между группами по «очищенным» данным.\n",
    "\n",
    "Выделим нулевую `Н0` и альтернативную `Н1` гипотезы:\n",
    "\n",
    "* `Н0` - по \"очищенным\" данным в среднем чеке заказа групп A и B разницы нет\n",
    "* `Н1` - по \"очищенным\" данным в среднем чеке заказа групп A и B разница статистически значима."
   ]
  },
  {
   "cell_type": "code",
   "execution_count": 26,
   "metadata": {},
   "outputs": [
    {
     "name": "stdout",
     "output_type": "stream",
     "text": [
      "Относительный прирост среднего чека в группе B по отношению группы A по \"очищенным\" данным: -0.020\n",
      "p-value: 0.738\n",
      "по \"очищенным\" данным в среднем чеке заказа групп A и B разницы нет\n"
     ]
    }
   ],
   "source": [
    "# рассчитаем прирост среднего чека относительно групп по очищенным данным, \n",
    "# проведем тест Манна-Уитни и выведем полученные результаты на экран\n",
    "print('Относительный прирост среднего чека в группе B по отношению группы A по \"очищенным\" данным: {:.3f}'.format(\n",
    "orders[np.logical_and(orders['group']=='B', np.logical_not(\n",
    "    orders['visitorId'].isin(abnormalUsers)))]['revenue'].mean()\\\n",
    "/orders[np.logical_and(orders['group']=='A', np.logical_not(\n",
    "    orders['visitorId'].isin(abnormalUsers)))]['revenue'].mean()-1))   \n",
    "results = stats.mannwhitneyu(orders[np.logical_and(\n",
    "    orders['group']=='A', np.logical_not(orders['visitorId'].isin(\n",
    "        abnormalUsers)))]['revenue'], orders[np.logical_and(\n",
    "    orders['group']=='B', np.logical_not(orders['visitorId'].isin(abnormalUsers)))]['revenue'])\n",
    "print('p-value: {:.3f}'.format(results.pvalue))\n",
    "if results.pvalue < alpha:\n",
    "    print('по \"очищенным\" данным в среднем чеке заказа групп A и B разница статистически значима')\n",
    "else:\n",
    "    print('по \"очищенным\" данным в среднем чеке заказа групп A и B разницы нет')"
   ]
  },
  {
   "cell_type": "markdown",
   "metadata": {},
   "source": [
    "**Вывод**\n",
    "\n",
    "Тест Манна-Уитни-Уилкоксона дал основание полагать, что **по \"очищенным\" данным в среднем чеке заказа групп A и B разницы нет**."
   ]
  },
  {
   "cell_type": "markdown",
   "metadata": {},
   "source": [
    "### Решение по результатам теста"
   ]
  },
  {
   "cell_type": "markdown",
   "metadata": {},
   "source": [
    "Анализ графиков сравнения конверсии и среднего чека групп показал лидерство группы В. Затем, проведя А/В тестирование и анализ \"сырых\" и \"очищенных\" данных мы получили следующие результаты.\n",
    "\n",
    "* есть статистически значимое различия по конверсии между группами по обоим видам данных. При этом относительный прирост по \"сырым\" данным составил 14% и увеличился при \"очистке\" до 17%;\n",
    "* нет статистически значимого различия по среднему чеку между группами по обоим видам данных;\n",
    "\n",
    "Исходя из этого, можно заключить, что **А/В тест проведен успешно и может быть остановлен по причине победы группы В**."
   ]
  }
 ],
 "metadata": {
  "ExecuteTimeLog": [
   {
    "duration": 1457,
    "start_time": "2022-03-29T12:41:45.008Z"
   },
   {
    "duration": 76,
    "start_time": "2022-03-29T12:42:30.199Z"
   },
   {
    "duration": 4,
    "start_time": "2022-03-29T12:42:58.086Z"
   },
   {
    "duration": 54,
    "start_time": "2022-03-29T12:43:10.968Z"
   },
   {
    "duration": 36,
    "start_time": "2022-03-29T12:43:54.773Z"
   },
   {
    "duration": 29,
    "start_time": "2022-03-29T12:44:38.588Z"
   },
   {
    "duration": 1094,
    "start_time": "2022-03-29T12:54:12.027Z"
   },
   {
    "duration": 5,
    "start_time": "2022-03-29T12:54:27.939Z"
   },
   {
    "duration": 795,
    "start_time": "2022-03-29T12:54:32.727Z"
   },
   {
    "duration": 706,
    "start_time": "2022-03-29T12:54:49.099Z"
   },
   {
    "duration": 790,
    "start_time": "2022-03-29T12:55:56.238Z"
   },
   {
    "duration": 688,
    "start_time": "2022-03-29T12:56:05.147Z"
   },
   {
    "duration": 1287,
    "start_time": "2022-03-29T12:56:11.167Z"
   },
   {
    "duration": 74,
    "start_time": "2022-03-29T12:56:12.456Z"
   },
   {
    "duration": 5,
    "start_time": "2022-03-29T12:56:12.532Z"
   },
   {
    "duration": 49,
    "start_time": "2022-03-29T12:56:12.539Z"
   },
   {
    "duration": 60,
    "start_time": "2022-03-29T12:56:12.590Z"
   },
   {
    "duration": 28,
    "start_time": "2022-03-29T12:56:12.652Z"
   },
   {
    "duration": 990,
    "start_time": "2022-03-29T12:56:12.682Z"
   },
   {
    "duration": 3,
    "start_time": "2022-03-29T13:04:19.438Z"
   },
   {
    "duration": 762,
    "start_time": "2022-03-29T13:32:50.572Z"
   },
   {
    "duration": 700,
    "start_time": "2022-03-29T13:33:28.858Z"
   },
   {
    "duration": 700,
    "start_time": "2022-03-29T13:37:05.933Z"
   },
   {
    "duration": 64,
    "start_time": "2022-03-29T13:37:26.456Z"
   },
   {
    "duration": 874,
    "start_time": "2022-03-29T13:37:32.346Z"
   },
   {
    "duration": 967,
    "start_time": "2022-03-29T13:37:42.661Z"
   },
   {
    "duration": 12,
    "start_time": "2022-03-29T13:37:57.095Z"
   },
   {
    "duration": 683,
    "start_time": "2022-03-29T13:38:11.407Z"
   },
   {
    "duration": 4,
    "start_time": "2022-03-29T13:41:41.328Z"
   },
   {
    "duration": 777,
    "start_time": "2022-03-29T13:41:44.429Z"
   },
   {
    "duration": 8,
    "start_time": "2022-03-29T13:42:44.156Z"
   },
   {
    "duration": 16,
    "start_time": "2022-03-29T13:42:56.354Z"
   },
   {
    "duration": 8,
    "start_time": "2022-03-29T13:43:07.634Z"
   },
   {
    "duration": 15,
    "start_time": "2022-03-29T13:43:09.667Z"
   },
   {
    "duration": 15,
    "start_time": "2022-03-29T13:43:15.561Z"
   },
   {
    "duration": 1684,
    "start_time": "2022-03-29T15:15:46.563Z"
   },
   {
    "duration": 70,
    "start_time": "2022-03-29T15:15:48.250Z"
   },
   {
    "duration": 6,
    "start_time": "2022-03-29T15:15:48.322Z"
   },
   {
    "duration": 77,
    "start_time": "2022-03-29T15:15:48.330Z"
   },
   {
    "duration": 68,
    "start_time": "2022-03-29T15:15:48.411Z"
   },
   {
    "duration": 67,
    "start_time": "2022-03-29T15:15:48.481Z"
   },
   {
    "duration": 4,
    "start_time": "2022-03-29T15:15:48.550Z"
   },
   {
    "duration": 21,
    "start_time": "2022-03-29T15:15:48.556Z"
   },
   {
    "duration": 966,
    "start_time": "2022-03-29T15:16:24.501Z"
   },
   {
    "duration": 1636,
    "start_time": "2022-03-29T15:16:34.440Z"
   },
   {
    "duration": 70,
    "start_time": "2022-03-29T15:16:36.079Z"
   },
   {
    "duration": 6,
    "start_time": "2022-03-29T15:16:36.152Z"
   },
   {
    "duration": 65,
    "start_time": "2022-03-29T15:16:36.160Z"
   },
   {
    "duration": 52,
    "start_time": "2022-03-29T15:16:36.245Z"
   },
   {
    "duration": 78,
    "start_time": "2022-03-29T15:16:36.300Z"
   },
   {
    "duration": 6,
    "start_time": "2022-03-29T15:16:36.381Z"
   },
   {
    "duration": 56,
    "start_time": "2022-03-29T15:16:36.389Z"
   },
   {
    "duration": 15,
    "start_time": "2022-03-29T15:20:03.224Z"
   },
   {
    "duration": 15,
    "start_time": "2022-03-29T15:20:09.100Z"
   },
   {
    "duration": 14,
    "start_time": "2022-03-29T15:21:24.201Z"
   },
   {
    "duration": 19,
    "start_time": "2022-03-29T15:21:30.340Z"
   },
   {
    "duration": 8,
    "start_time": "2022-03-29T15:23:29.418Z"
   },
   {
    "duration": 162,
    "start_time": "2022-03-29T15:30:03.969Z"
   },
   {
    "duration": 7,
    "start_time": "2022-03-29T15:30:13.822Z"
   },
   {
    "duration": 6,
    "start_time": "2022-03-29T15:30:30.449Z"
   },
   {
    "duration": 21,
    "start_time": "2022-03-29T15:30:37.817Z"
   },
   {
    "duration": 1512,
    "start_time": "2022-03-29T15:31:16.633Z"
   },
   {
    "duration": 80,
    "start_time": "2022-03-29T15:31:18.147Z"
   },
   {
    "duration": 7,
    "start_time": "2022-03-29T15:31:18.229Z"
   },
   {
    "duration": 67,
    "start_time": "2022-03-29T15:31:18.238Z"
   },
   {
    "duration": 62,
    "start_time": "2022-03-29T15:31:18.308Z"
   },
   {
    "duration": 37,
    "start_time": "2022-03-29T15:31:18.372Z"
   },
   {
    "duration": 5,
    "start_time": "2022-03-29T15:31:18.444Z"
   },
   {
    "duration": 34,
    "start_time": "2022-03-29T15:31:18.451Z"
   },
   {
    "duration": 26,
    "start_time": "2022-03-29T15:31:18.487Z"
   },
   {
    "duration": 29,
    "start_time": "2022-03-29T15:31:18.515Z"
   },
   {
    "duration": 9,
    "start_time": "2022-03-29T15:31:18.546Z"
   },
   {
    "duration": 14,
    "start_time": "2022-03-29T15:32:17.172Z"
   },
   {
    "duration": 15,
    "start_time": "2022-03-29T15:32:19.380Z"
   },
   {
    "duration": 187,
    "start_time": "2022-03-29T16:06:12.513Z"
   },
   {
    "duration": 479,
    "start_time": "2022-03-29T16:16:25.033Z"
   },
   {
    "duration": 1278,
    "start_time": "2022-03-30T06:21:31.671Z"
   },
   {
    "duration": 61,
    "start_time": "2022-03-30T06:21:32.952Z"
   },
   {
    "duration": 5,
    "start_time": "2022-03-30T06:21:33.015Z"
   },
   {
    "duration": 36,
    "start_time": "2022-03-30T06:21:33.022Z"
   },
   {
    "duration": 31,
    "start_time": "2022-03-30T06:21:33.061Z"
   },
   {
    "duration": 23,
    "start_time": "2022-03-30T06:21:33.093Z"
   },
   {
    "duration": 3,
    "start_time": "2022-03-30T06:21:33.118Z"
   },
   {
    "duration": 14,
    "start_time": "2022-03-30T06:21:33.122Z"
   },
   {
    "duration": 11,
    "start_time": "2022-03-30T06:21:33.137Z"
   },
   {
    "duration": 41,
    "start_time": "2022-03-30T06:21:33.150Z"
   },
   {
    "duration": 267,
    "start_time": "2022-03-30T06:21:33.193Z"
   },
   {
    "duration": 4,
    "start_time": "2022-03-30T07:28:31.567Z"
   },
   {
    "duration": 69,
    "start_time": "2022-03-30T07:28:31.573Z"
   },
   {
    "duration": 3,
    "start_time": "2022-03-30T07:28:31.644Z"
   },
   {
    "duration": 32,
    "start_time": "2022-03-30T07:28:31.649Z"
   },
   {
    "duration": 29,
    "start_time": "2022-03-30T07:28:31.682Z"
   },
   {
    "duration": 21,
    "start_time": "2022-03-30T07:28:31.712Z"
   },
   {
    "duration": 3,
    "start_time": "2022-03-30T07:28:31.734Z"
   },
   {
    "duration": 50,
    "start_time": "2022-03-30T07:28:31.739Z"
   },
   {
    "duration": 12,
    "start_time": "2022-03-30T07:28:31.790Z"
   },
   {
    "duration": 11,
    "start_time": "2022-03-30T07:28:31.803Z"
   },
   {
    "duration": 260,
    "start_time": "2022-03-30T07:28:31.815Z"
   },
   {
    "duration": 463,
    "start_time": "2022-03-30T07:30:54.161Z"
   },
   {
    "duration": 394,
    "start_time": "2022-03-30T07:31:59.420Z"
   },
   {
    "duration": 427,
    "start_time": "2022-03-30T07:32:08.648Z"
   },
   {
    "duration": 432,
    "start_time": "2022-03-30T07:32:17.328Z"
   },
   {
    "duration": 506,
    "start_time": "2022-03-30T07:32:58.258Z"
   },
   {
    "duration": 408,
    "start_time": "2022-03-30T07:33:04.527Z"
   },
   {
    "duration": 468,
    "start_time": "2022-03-30T07:33:20.264Z"
   },
   {
    "duration": 204,
    "start_time": "2022-03-30T07:33:35.894Z"
   },
   {
    "duration": 412,
    "start_time": "2022-03-30T07:33:41.669Z"
   },
   {
    "duration": 409,
    "start_time": "2022-03-30T07:34:14.467Z"
   },
   {
    "duration": 416,
    "start_time": "2022-03-30T07:36:22.067Z"
   },
   {
    "duration": 172,
    "start_time": "2022-03-30T07:43:24.398Z"
   },
   {
    "duration": 289,
    "start_time": "2022-03-30T07:59:59.081Z"
   },
   {
    "duration": 256,
    "start_time": "2022-03-30T08:00:33.931Z"
   },
   {
    "duration": 280,
    "start_time": "2022-03-30T08:01:10.392Z"
   },
   {
    "duration": 267,
    "start_time": "2022-03-30T08:01:59.421Z"
   },
   {
    "duration": 187,
    "start_time": "2022-03-30T08:06:58.428Z"
   },
   {
    "duration": 200,
    "start_time": "2022-03-30T08:09:33.983Z"
   },
   {
    "duration": 3507,
    "start_time": "2022-03-30T08:12:39.180Z"
   },
   {
    "duration": 408,
    "start_time": "2022-03-30T08:13:26.784Z"
   },
   {
    "duration": 305,
    "start_time": "2022-03-30T08:14:04.968Z"
   },
   {
    "duration": 288,
    "start_time": "2022-03-30T08:14:11.052Z"
   },
   {
    "duration": 284,
    "start_time": "2022-03-30T08:15:33.587Z"
   },
   {
    "duration": 387,
    "start_time": "2022-03-30T08:15:50.267Z"
   },
   {
    "duration": 205,
    "start_time": "2022-03-30T08:22:35.467Z"
   },
   {
    "duration": 103,
    "start_time": "2022-03-30T08:23:11.240Z"
   },
   {
    "duration": 117,
    "start_time": "2022-03-30T08:23:26.356Z"
   },
   {
    "duration": 115,
    "start_time": "2022-03-30T08:23:41.040Z"
   },
   {
    "duration": 4,
    "start_time": "2022-03-30T08:25:18.452Z"
   },
   {
    "duration": 5,
    "start_time": "2022-03-30T08:25:43.660Z"
   },
   {
    "duration": 5,
    "start_time": "2022-03-30T08:26:24.574Z"
   },
   {
    "duration": 6,
    "start_time": "2022-03-30T08:26:38.220Z"
   },
   {
    "duration": 4,
    "start_time": "2022-03-30T08:27:54.889Z"
   },
   {
    "duration": 1395,
    "start_time": "2022-03-30T08:43:09.539Z"
   },
   {
    "duration": 67,
    "start_time": "2022-03-30T08:43:10.936Z"
   },
   {
    "duration": 5,
    "start_time": "2022-03-30T08:43:11.005Z"
   },
   {
    "duration": 56,
    "start_time": "2022-03-30T08:43:11.012Z"
   },
   {
    "duration": 51,
    "start_time": "2022-03-30T08:43:11.070Z"
   },
   {
    "duration": 26,
    "start_time": "2022-03-30T08:43:11.123Z"
   },
   {
    "duration": 3,
    "start_time": "2022-03-30T08:43:11.151Z"
   },
   {
    "duration": 52,
    "start_time": "2022-03-30T08:43:11.155Z"
   },
   {
    "duration": 23,
    "start_time": "2022-03-30T08:43:11.209Z"
   },
   {
    "duration": 14,
    "start_time": "2022-03-30T08:43:11.235Z"
   },
   {
    "duration": 584,
    "start_time": "2022-03-30T08:43:11.251Z"
   },
   {
    "duration": 219,
    "start_time": "2022-03-30T08:43:11.837Z"
   },
   {
    "duration": 405,
    "start_time": "2022-03-30T08:43:12.058Z"
   },
   {
    "duration": 227,
    "start_time": "2022-03-30T08:43:12.465Z"
   },
   {
    "duration": 316,
    "start_time": "2022-03-30T08:43:12.693Z"
   },
   {
    "duration": 150,
    "start_time": "2022-03-30T08:43:13.010Z"
   },
   {
    "duration": 5,
    "start_time": "2022-03-30T08:43:13.161Z"
   },
   {
    "duration": 214,
    "start_time": "2022-03-30T08:44:48.620Z"
   },
   {
    "duration": 138,
    "start_time": "2022-03-30T08:45:06.534Z"
   },
   {
    "duration": 161,
    "start_time": "2022-03-30T08:45:14.958Z"
   },
   {
    "duration": 144,
    "start_time": "2022-03-30T08:45:25.144Z"
   },
   {
    "duration": 166,
    "start_time": "2022-03-30T08:45:35.241Z"
   },
   {
    "duration": 213,
    "start_time": "2022-03-30T08:45:44.919Z"
   },
   {
    "duration": 246,
    "start_time": "2022-03-30T08:45:52.301Z"
   },
   {
    "duration": 140,
    "start_time": "2022-03-30T08:45:58.300Z"
   },
   {
    "duration": 137,
    "start_time": "2022-03-30T08:49:11.559Z"
   },
   {
    "duration": 147,
    "start_time": "2022-03-30T08:50:47.184Z"
   },
   {
    "duration": 210,
    "start_time": "2022-03-30T08:52:07.212Z"
   },
   {
    "duration": 149,
    "start_time": "2022-03-30T08:52:20.124Z"
   },
   {
    "duration": 139,
    "start_time": "2022-03-30T08:52:29.407Z"
   },
   {
    "duration": 231,
    "start_time": "2022-03-30T08:52:49.460Z"
   },
   {
    "duration": 5,
    "start_time": "2022-03-30T08:54:12.546Z"
   },
   {
    "duration": 4,
    "start_time": "2022-03-30T08:54:39.710Z"
   },
   {
    "duration": 4,
    "start_time": "2022-03-30T08:54:56.637Z"
   },
   {
    "duration": 4,
    "start_time": "2022-03-30T08:55:00.308Z"
   },
   {
    "duration": 5,
    "start_time": "2022-03-30T09:32:54.723Z"
   },
   {
    "duration": 90,
    "start_time": "2022-03-30T09:32:54.730Z"
   },
   {
    "duration": 5,
    "start_time": "2022-03-30T09:32:54.822Z"
   },
   {
    "duration": 41,
    "start_time": "2022-03-30T09:32:54.828Z"
   },
   {
    "duration": 53,
    "start_time": "2022-03-30T09:32:54.871Z"
   },
   {
    "duration": 28,
    "start_time": "2022-03-30T09:32:54.926Z"
   },
   {
    "duration": 4,
    "start_time": "2022-03-30T09:32:54.955Z"
   },
   {
    "duration": 50,
    "start_time": "2022-03-30T09:32:54.960Z"
   },
   {
    "duration": 60,
    "start_time": "2022-03-30T09:32:55.012Z"
   },
   {
    "duration": 31,
    "start_time": "2022-03-30T09:32:55.074Z"
   },
   {
    "duration": 683,
    "start_time": "2022-03-30T09:32:55.107Z"
   },
   {
    "duration": 312,
    "start_time": "2022-03-30T09:32:55.792Z"
   },
   {
    "duration": 383,
    "start_time": "2022-03-30T09:32:56.106Z"
   },
   {
    "duration": 322,
    "start_time": "2022-03-30T09:32:56.492Z"
   },
   {
    "duration": 320,
    "start_time": "2022-03-30T09:32:56.817Z"
   },
   {
    "duration": 149,
    "start_time": "2022-03-30T09:32:57.138Z"
   },
   {
    "duration": 12,
    "start_time": "2022-03-30T09:32:57.289Z"
   },
   {
    "duration": 163,
    "start_time": "2022-03-30T09:32:57.302Z"
   },
   {
    "duration": 5,
    "start_time": "2022-03-30T09:32:57.466Z"
   },
   {
    "duration": 1193,
    "start_time": "2022-03-30T09:36:52.304Z"
   },
   {
    "duration": 75,
    "start_time": "2022-03-30T09:36:53.499Z"
   },
   {
    "duration": 5,
    "start_time": "2022-03-30T09:36:53.576Z"
   },
   {
    "duration": 47,
    "start_time": "2022-03-30T09:36:53.582Z"
   },
   {
    "duration": 34,
    "start_time": "2022-03-30T09:36:53.632Z"
   },
   {
    "duration": 51,
    "start_time": "2022-03-30T09:36:53.667Z"
   },
   {
    "duration": 3,
    "start_time": "2022-03-30T09:36:53.720Z"
   },
   {
    "duration": 35,
    "start_time": "2022-03-30T09:36:53.724Z"
   },
   {
    "duration": 22,
    "start_time": "2022-03-30T09:36:53.761Z"
   },
   {
    "duration": 17,
    "start_time": "2022-03-30T09:36:53.784Z"
   },
   {
    "duration": 535,
    "start_time": "2022-03-30T09:36:53.803Z"
   },
   {
    "duration": 197,
    "start_time": "2022-03-30T09:36:54.339Z"
   },
   {
    "duration": 299,
    "start_time": "2022-03-30T09:36:54.538Z"
   },
   {
    "duration": 211,
    "start_time": "2022-03-30T09:36:54.839Z"
   },
   {
    "duration": 300,
    "start_time": "2022-03-30T09:36:55.051Z"
   },
   {
    "duration": 152,
    "start_time": "2022-03-30T09:36:55.352Z"
   },
   {
    "duration": 5,
    "start_time": "2022-03-30T09:36:55.506Z"
   },
   {
    "duration": 334,
    "start_time": "2022-03-30T09:36:55.513Z"
   },
   {
    "duration": 5,
    "start_time": "2022-03-30T09:36:55.849Z"
   },
   {
    "duration": 112,
    "start_time": "2022-03-30T09:49:35.552Z"
   },
   {
    "duration": 25,
    "start_time": "2022-03-30T09:57:53.484Z"
   },
   {
    "duration": 35,
    "start_time": "2022-03-30T09:59:06.406Z"
   },
   {
    "duration": 7,
    "start_time": "2022-03-30T09:59:35.098Z"
   },
   {
    "duration": 38,
    "start_time": "2022-03-30T09:59:42.262Z"
   },
   {
    "duration": 37,
    "start_time": "2022-03-30T10:01:26.326Z"
   },
   {
    "duration": 2227,
    "start_time": "2022-03-31T06:43:40.613Z"
   },
   {
    "duration": 46,
    "start_time": "2022-03-31T06:43:42.844Z"
   },
   {
    "duration": 8,
    "start_time": "2022-03-31T06:43:42.893Z"
   },
   {
    "duration": 90,
    "start_time": "2022-03-31T06:43:42.904Z"
   },
   {
    "duration": 92,
    "start_time": "2022-03-31T06:43:42.999Z"
   },
   {
    "duration": 42,
    "start_time": "2022-03-31T06:43:43.094Z"
   },
   {
    "duration": 3,
    "start_time": "2022-03-31T06:43:43.139Z"
   },
   {
    "duration": 54,
    "start_time": "2022-03-31T06:43:43.144Z"
   },
   {
    "duration": 42,
    "start_time": "2022-03-31T06:43:43.200Z"
   },
   {
    "duration": 30,
    "start_time": "2022-03-31T06:43:43.245Z"
   },
   {
    "duration": 907,
    "start_time": "2022-03-31T06:43:43.278Z"
   },
   {
    "duration": 356,
    "start_time": "2022-03-31T06:43:44.188Z"
   },
   {
    "duration": 498,
    "start_time": "2022-03-31T06:43:44.547Z"
   },
   {
    "duration": 382,
    "start_time": "2022-03-31T06:43:45.051Z"
   },
   {
    "duration": 457,
    "start_time": "2022-03-31T06:43:45.436Z"
   },
   {
    "duration": 264,
    "start_time": "2022-03-31T06:43:45.895Z"
   },
   {
    "duration": 7,
    "start_time": "2022-03-31T06:43:46.161Z"
   },
   {
    "duration": 345,
    "start_time": "2022-03-31T06:43:46.183Z"
   },
   {
    "duration": 6,
    "start_time": "2022-03-31T06:43:46.530Z"
   },
   {
    "duration": 76,
    "start_time": "2022-03-31T06:43:46.539Z"
   },
   {
    "duration": 157,
    "start_time": "2022-03-31T06:46:24.549Z"
   },
   {
    "duration": 47,
    "start_time": "2022-03-31T06:46:32.220Z"
   },
   {
    "duration": 49,
    "start_time": "2022-03-31T06:46:47.839Z"
   },
   {
    "duration": 75,
    "start_time": "2022-03-31T06:47:02.982Z"
   },
   {
    "duration": 48,
    "start_time": "2022-03-31T06:47:57.207Z"
   },
   {
    "duration": 49,
    "start_time": "2022-03-31T06:48:34.717Z"
   },
   {
    "duration": 14,
    "start_time": "2022-03-31T06:55:02.010Z"
   },
   {
    "duration": 7,
    "start_time": "2022-03-31T06:55:31.031Z"
   },
   {
    "duration": 8,
    "start_time": "2022-03-31T06:55:42.701Z"
   },
   {
    "duration": 23,
    "start_time": "2022-03-31T06:55:56.692Z"
   },
   {
    "duration": 17,
    "start_time": "2022-03-31T06:57:22.186Z"
   },
   {
    "duration": 52,
    "start_time": "2022-03-31T07:02:28.595Z"
   },
   {
    "duration": 17,
    "start_time": "2022-03-31T07:03:29.207Z"
   },
   {
    "duration": 13,
    "start_time": "2022-03-31T07:09:34.686Z"
   },
   {
    "duration": 13,
    "start_time": "2022-03-31T07:10:03.505Z"
   },
   {
    "duration": 15,
    "start_time": "2022-03-31T07:12:04.976Z"
   },
   {
    "duration": 161,
    "start_time": "2022-03-31T07:12:49.961Z"
   },
   {
    "duration": 11,
    "start_time": "2022-03-31T07:12:56.800Z"
   },
   {
    "duration": 13,
    "start_time": "2022-03-31T07:13:17.272Z"
   },
   {
    "duration": 18,
    "start_time": "2022-03-31T07:14:18.983Z"
   },
   {
    "duration": 2344,
    "start_time": "2022-03-31T07:16:20.721Z"
   },
   {
    "duration": 17,
    "start_time": "2022-03-31T07:16:36.682Z"
   },
   {
    "duration": 35,
    "start_time": "2022-03-31T07:17:04.035Z"
   },
   {
    "duration": 36,
    "start_time": "2022-03-31T07:17:46.055Z"
   },
   {
    "duration": 36,
    "start_time": "2022-03-31T07:18:35.940Z"
   },
   {
    "duration": 37,
    "start_time": "2022-03-31T07:19:58.134Z"
   },
   {
    "duration": 16,
    "start_time": "2022-03-31T07:28:08.578Z"
   },
   {
    "duration": 2461,
    "start_time": "2022-03-31T07:28:22.678Z"
   },
   {
    "duration": 21,
    "start_time": "2022-03-31T07:28:43.648Z"
   },
   {
    "duration": 20,
    "start_time": "2022-03-31T07:29:45.344Z"
   },
   {
    "duration": 32,
    "start_time": "2022-03-31T07:29:56.438Z"
   },
   {
    "duration": 37,
    "start_time": "2022-03-31T07:31:08.965Z"
   },
   {
    "duration": 34,
    "start_time": "2022-03-31T07:31:14.085Z"
   },
   {
    "duration": 20,
    "start_time": "2022-03-31T07:31:37.112Z"
   },
   {
    "duration": 19,
    "start_time": "2022-03-31T07:32:01.381Z"
   },
   {
    "duration": 21,
    "start_time": "2022-03-31T07:33:31.079Z"
   },
   {
    "duration": 393,
    "start_time": "2022-03-31T07:47:15.689Z"
   },
   {
    "duration": 14,
    "start_time": "2022-03-31T07:51:55.059Z"
   },
   {
    "duration": 7,
    "start_time": "2022-03-31T07:52:05.967Z"
   },
   {
    "duration": 364,
    "start_time": "2022-03-31T07:53:38.743Z"
   },
   {
    "duration": 8,
    "start_time": "2022-03-31T07:57:10.731Z"
   },
   {
    "duration": 7,
    "start_time": "2022-03-31T07:57:27.538Z"
   },
   {
    "duration": 8,
    "start_time": "2022-03-31T07:57:40.489Z"
   },
   {
    "duration": 7,
    "start_time": "2022-03-31T07:57:46.547Z"
   },
   {
    "duration": 136,
    "start_time": "2022-03-31T07:59:45.940Z"
   },
   {
    "duration": 243,
    "start_time": "2022-03-31T07:59:57.658Z"
   },
   {
    "duration": 170,
    "start_time": "2022-03-31T08:00:02.891Z"
   },
   {
    "duration": 148,
    "start_time": "2022-03-31T08:00:08.093Z"
   },
   {
    "duration": 163,
    "start_time": "2022-03-31T08:00:34.094Z"
   },
   {
    "duration": 163,
    "start_time": "2022-03-31T08:01:11.487Z"
   },
   {
    "duration": 183,
    "start_time": "2022-03-31T08:01:30.941Z"
   },
   {
    "duration": 22,
    "start_time": "2022-03-31T08:01:44.661Z"
   },
   {
    "duration": 24,
    "start_time": "2022-03-31T08:01:53.118Z"
   },
   {
    "duration": 26,
    "start_time": "2022-03-31T08:02:02.723Z"
   },
   {
    "duration": 27,
    "start_time": "2022-03-31T08:02:08.497Z"
   },
   {
    "duration": 26,
    "start_time": "2022-03-31T08:02:17.738Z"
   },
   {
    "duration": 344,
    "start_time": "2022-03-31T08:03:02.580Z"
   },
   {
    "duration": 27,
    "start_time": "2022-03-31T08:03:10.086Z"
   },
   {
    "duration": 25,
    "start_time": "2022-03-31T08:06:19.532Z"
   },
   {
    "duration": 17,
    "start_time": "2022-03-31T08:06:29.278Z"
   },
   {
    "duration": 20,
    "start_time": "2022-03-31T08:07:02.600Z"
   },
   {
    "duration": 8,
    "start_time": "2022-03-31T08:07:42.560Z"
   },
   {
    "duration": 1390,
    "start_time": "2022-03-31T08:13:18.367Z"
   },
   {
    "duration": 37,
    "start_time": "2022-03-31T08:13:19.760Z"
   },
   {
    "duration": 5,
    "start_time": "2022-03-31T08:13:19.799Z"
   },
   {
    "duration": 71,
    "start_time": "2022-03-31T08:13:19.807Z"
   },
   {
    "duration": 48,
    "start_time": "2022-03-31T08:13:19.881Z"
   },
   {
    "duration": 68,
    "start_time": "2022-03-31T08:13:19.931Z"
   },
   {
    "duration": 4,
    "start_time": "2022-03-31T08:13:20.001Z"
   },
   {
    "duration": 41,
    "start_time": "2022-03-31T08:13:20.007Z"
   },
   {
    "duration": 24,
    "start_time": "2022-03-31T08:13:20.050Z"
   },
   {
    "duration": 27,
    "start_time": "2022-03-31T08:13:20.082Z"
   },
   {
    "duration": 28,
    "start_time": "2022-03-31T08:13:20.111Z"
   },
   {
    "duration": 25,
    "start_time": "2022-03-31T08:13:20.141Z"
   },
   {
    "duration": 923,
    "start_time": "2022-03-31T08:13:20.168Z"
   },
   {
    "duration": 351,
    "start_time": "2022-03-31T08:13:21.093Z"
   },
   {
    "duration": 460,
    "start_time": "2022-03-31T08:13:21.446Z"
   },
   {
    "duration": 357,
    "start_time": "2022-03-31T08:13:21.909Z"
   },
   {
    "duration": 427,
    "start_time": "2022-03-31T08:13:22.268Z"
   },
   {
    "duration": 256,
    "start_time": "2022-03-31T08:13:22.698Z"
   },
   {
    "duration": 6,
    "start_time": "2022-03-31T08:13:22.956Z"
   },
   {
    "duration": 324,
    "start_time": "2022-03-31T08:13:22.982Z"
   },
   {
    "duration": 6,
    "start_time": "2022-03-31T08:13:23.309Z"
   },
   {
    "duration": 76,
    "start_time": "2022-03-31T08:13:23.317Z"
   },
   {
    "duration": 18,
    "start_time": "2022-03-31T08:13:23.396Z"
   },
   {
    "duration": 20,
    "start_time": "2022-03-31T08:13:23.416Z"
   },
   {
    "duration": 69,
    "start_time": "2022-03-31T08:13:23.439Z"
   },
   {
    "duration": 20,
    "start_time": "2022-03-31T08:13:23.510Z"
   },
   {
    "duration": 134,
    "start_time": "2022-03-31T16:49:35.697Z"
   },
   {
    "duration": 1362,
    "start_time": "2022-04-03T18:16:09.685Z"
   },
   {
    "duration": 75,
    "start_time": "2022-04-03T18:16:11.050Z"
   },
   {
    "duration": 6,
    "start_time": "2022-04-03T18:16:11.127Z"
   },
   {
    "duration": 49,
    "start_time": "2022-04-03T18:16:11.135Z"
   },
   {
    "duration": 57,
    "start_time": "2022-04-03T18:16:11.187Z"
   },
   {
    "duration": 28,
    "start_time": "2022-04-03T18:16:11.246Z"
   },
   {
    "duration": 3,
    "start_time": "2022-04-03T18:16:11.275Z"
   },
   {
    "duration": 20,
    "start_time": "2022-04-03T18:16:11.280Z"
   },
   {
    "duration": 42,
    "start_time": "2022-04-03T18:16:11.302Z"
   },
   {
    "duration": 14,
    "start_time": "2022-04-03T18:16:11.346Z"
   },
   {
    "duration": 10,
    "start_time": "2022-04-03T18:16:11.362Z"
   },
   {
    "duration": 13,
    "start_time": "2022-04-03T18:16:11.374Z"
   },
   {
    "duration": 609,
    "start_time": "2022-04-03T18:16:11.389Z"
   },
   {
    "duration": 231,
    "start_time": "2022-04-03T18:16:12.001Z"
   },
   {
    "duration": 378,
    "start_time": "2022-04-03T18:16:12.234Z"
   },
   {
    "duration": 257,
    "start_time": "2022-04-03T18:16:12.614Z"
   },
   {
    "duration": 307,
    "start_time": "2022-04-03T18:16:12.874Z"
   },
   {
    "duration": 238,
    "start_time": "2022-04-03T18:16:13.183Z"
   },
   {
    "duration": 9,
    "start_time": "2022-04-03T18:16:13.424Z"
   },
   {
    "duration": 180,
    "start_time": "2022-04-03T18:16:13.435Z"
   },
   {
    "duration": 15,
    "start_time": "2022-04-03T18:16:13.617Z"
   },
   {
    "duration": 41,
    "start_time": "2022-04-03T18:16:13.634Z"
   },
   {
    "duration": 14,
    "start_time": "2022-04-03T18:16:13.677Z"
   },
   {
    "duration": 40,
    "start_time": "2022-04-03T18:16:13.693Z"
   },
   {
    "duration": 31,
    "start_time": "2022-04-03T18:16:13.735Z"
   },
   {
    "duration": 14,
    "start_time": "2022-04-03T18:16:13.768Z"
   }
  ],
  "kernelspec": {
   "display_name": "Python 3 (ipykernel)",
   "language": "python",
   "name": "python3"
  },
  "language_info": {
   "codemirror_mode": {
    "name": "ipython",
    "version": 3
   },
   "file_extension": ".py",
   "mimetype": "text/x-python",
   "name": "python",
   "nbconvert_exporter": "python",
   "pygments_lexer": "ipython3",
   "version": "3.9.7"
  },
  "toc": {
   "base_numbering": 1,
   "nav_menu": {},
   "number_sections": true,
   "sideBar": true,
   "skip_h1_title": true,
   "title_cell": "Table of Contents",
   "title_sidebar": "Contents",
   "toc_cell": false,
   "toc_position": {
    "height": "calc(100% - 180px)",
    "left": "10px",
    "top": "150px",
    "width": "401.215px"
   },
   "toc_section_display": true,
   "toc_window_display": true
  }
 },
 "nbformat": 4,
 "nbformat_minor": 2
}
